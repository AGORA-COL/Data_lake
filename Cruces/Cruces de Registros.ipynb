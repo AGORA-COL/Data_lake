{
 "cells": [
  {
   "cell_type": "code",
   "execution_count": 1,
   "id": "bee2ecfb",
   "metadata": {},
   "outputs": [
    {
     "name": "stderr",
     "output_type": "stream",
     "text": [
      "Setting default log level to \"WARN\".\n",
      "To adjust logging level use sc.setLogLevel(newLevel). For SparkR, use setLogLevel(newLevel).\n",
      "24/06/27 23:59:00 WARN NativeCodeLoader: Unable to load native-hadoop library for your platform... using builtin-java classes where applicable\n"
     ]
    }
   ],
   "source": [
    "from pyspark.sql import SparkSession\n",
    "from pyspark.sql.functions import col\n",
    "\n",
    "# Crear una sesión de Spark\n",
    "spark = SparkSession.builder.appName(\"CruceTotal\").getOrCreate()\n",
    "\n",
    "# Función para cargar, filtrar y limpiar los datos de múltiples directorios\n",
    "def cargar_y_filtrar(directorios, columna):\n",
    "    df_unido = None\n",
    "    for dir in directorios:\n",
    "        # Leer los archivos Parquet en el directorio actual y seleccionar la columna especificada\n",
    "        df = spark.read.parquet(dir).select(columna)\n",
    "        # Filtrar los registros donde la columna especificada no sea igual a 1\n",
    "        df = df.filter(col(columna) != 1)\n",
    "        # Eliminar duplicados\n",
    "        df = df.distinct()\n",
    "        # Unir los DataFrames\n",
    "        if df_unido is None:\n",
    "            df_unido = df\n",
    "        else:\n",
    "            df_unido = df_unido.union(df)\n",
    "    # Eliminar duplicados nuevamente después de unir todos los DataFrames\n",
    "    df_unido = df_unido.distinct()   \n",
    "    return df_unido\n",
    "\n",
    "# Función para realizar un inner join y contar los registros coincidentes\n",
    "def contar_cruce(df1, columna1, df2, columna2, nombre1, nombre2):\n",
    "    cruce = df1.join(df2, df1[columna1] == df2[columna2], \"inner\")\n",
    "    cuenta = cruce.count()\n",
    "    print(f\"Registros coincidentes entre {nombre1} y {nombre2}: {cuenta}\")\n",
    "    return cuenta\n",
    "\n",
    "# Listar todos los directorios para cada fuente\n",
    "dirs_segcovid = [\n",
    "    \"/rawdata/segcovid/segcovid_parquet_2020\",\n",
    "    \"/rawdata/segcovid/segcovid_parquet_2021\",\n",
    "    \"/rawdata/segcovid/segcovid_parquet_2022\",\n",
    "    \"/rawdata/segcovid/segcovid_parquet_2023\"\n",
    "]\n",
    "\n",
    "dirs_sivigila = [\n",
    "    \"/rawdata/sivigila/sivigila_parquet_2008\",\n",
    "    \"/rawdata/sivigila/sivigila_parquet_2009\",\n",
    "    \"/rawdata/sivigila/sivigila_parquet_2010\",\n",
    "    \"/rawdata/sivigila/sivigila_parquet_2011\",\n",
    "    \"/rawdata/sivigila/sivigila_parquet_2012\",\n",
    "    \"/rawdata/sivigila/sivigila_parquet_2013\",\n",
    "    \"/rawdata/sivigila/sivigila_parquet_2014\",\n",
    "    \"/rawdata/sivigila/sivigila_parquet_2015\",\n",
    "    \"/rawdata/sivigila/sivigila_parquet_2016\",\n",
    "    \"/rawdata/sivigila/sivigila_parquet_2017\",\n",
    "    \"/rawdata/sivigila/sivigila_parquet_2018\",\n",
    "    \"/rawdata/sivigila/sivigila_parquet_2019\",\n",
    "    \"/rawdata/sivigila/sivigila_parquet_2020\",\n",
    "    \"/rawdata/sivigila/sivigila_parquet_2021\",\n",
    "    \"/rawdata/sivigila/sivigila_parquet_2022\"\n",
    "]\n",
    "\n",
    "dirs_vacunas = [\n",
    "    \"/rawdata/vacunascovid/vacunascovid_ver2_parquet_2021\",\n",
    "    \"/rawdata/vacunascovid/vacunascovid_ver2_parquet_2022\"\n",
    "]\n",
    "\n",
    "dirs_defunciones = [\n",
    "    \"/rawdata/vitales/defunciones/defunciones_parquet_2008_a_2016\",\n",
    "    \"/rawdata/vitales/defunciones/defunciones_parquet_2017_a_2023\"\n",
    "]\n",
    "\n",
    "dirs_nacimientos = [\n",
    "    \"/rawdata/vitales/vitales_parquet_2014\",\n",
    "    \"/rawdata/vitales/vitales_parquet_2015\",\n",
    "    \"/rawdata/vitales/vitales_parquet_2016\",\n",
    "    \"/rawdata/vitales/vitales_parquet_2017\",\n",
    "    \"/rawdata/vitales/vitales_parquet_2018\",\n",
    "    \"/rawdata/vitales/vitales_parquet_2019\",\n",
    "    \"/rawdata/vitales/vitales_parquet_2020\",\n",
    "    \"/rawdata/vitales/vitales_parquet_2021\",\n",
    "    \"/rawdata/vitales/vitales_parquet_2022\",\n",
    "    \"/rawdata/vitales/vitales_parquet_2023\"\n",
    "]\n",
    "\n",
    "dirs_rips = [\n",
    "    \"/rawdata/rips/rips_parquet_2009\",\n",
    "    \"/rawdata/rips/rips_parquet_2010\",\n",
    "    \"/rawdata/rips/rips_parquet_2011\",\n",
    "    \"/rawdata/rips/rips_parquet_2012\",\n",
    "    \"/rawdata/rips/rips_parquet_2013\",\n",
    "    \"/rawdata/rips/rips_parquet_2014\",\n",
    "    \"/rawdata/rips/rips_parquet_2015\",\n",
    "    \"/rawdata/rips/rips_parquet_2016\",\n",
    "    \"/rawdata/rips/rips_parquet_2017\",\n",
    "    \"/rawdata/rips/rips_parquet_2018\",\n",
    "    \"/rawdata/rips/rips_parquet_2019\",\n",
    "    \"/rawdata/rips/rips_parquet_2020\",\n",
    "    \"/rawdata/rips/rips_parquet_2021\",\n",
    "    \"/rawdata/rips/rips_parquet_2022\"\n",
    "]"
   ]
  },
  {
   "cell_type": "code",
   "execution_count": 2,
   "id": "bd310d45",
   "metadata": {},
   "outputs": [
    {
     "name": "stderr",
     "output_type": "stream",
     "text": [
      "[Stage 257:===============================================>    (109 + 10) / 119]\r"
     ]
    },
    {
     "name": "stdout",
     "output_type": "stream",
     "text": [
      "Total de registros en RIPS: 73357469\n",
      "Total de registros en Nacimientos: 4510549\n",
      "Total de registros en Defunciones: 2497077\n",
      "Total de registros en Vacunas: 39869037\n",
      "Total de registros en Sivigila: 6082619\n",
      "Total de registros en Segcovid: 5633747\n"
     ]
    },
    {
     "name": "stderr",
     "output_type": "stream",
     "text": [
      "\r",
      "                                                                                \r"
     ]
    }
   ],
   "source": [
    "# Cargar y filtrar los datos de cada fuente\n",
    "df_rips = cargar_y_filtrar(dirs_rips, \"personaid\")\n",
    "df_nacimientos = cargar_y_filtrar(dirs_nacimientos, \"PersonaID\")\n",
    "df_defunciones = cargar_y_filtrar(dirs_defunciones, \"PersonaID\")\n",
    "df_vacunas = cargar_y_filtrar(dirs_vacunas, \"PersonaBasicaID\")\n",
    "df_sivigila = cargar_y_filtrar(dirs_sivigila, \"PersonaBasicaID\")\n",
    "df_segcovid = cargar_y_filtrar(dirs_segcovid, \"PersonaBasicaID\")\n",
    "\n",
    "# Contar registros de cada DataFrame\n",
    "total_rips = df_rips.count()\n",
    "total_nacimientos = df_nacimientos.count()\n",
    "total_defunciones = df_defunciones.count()\n",
    "total_vacunas = df_vacunas.count()\n",
    "total_sivigila = df_sivigila.count()\n",
    "total_segcovid = df_segcovid.count()\n",
    "\n",
    "# Imprimir los resultados\n",
    "print(f\"Total de registros en RIPS: {total_rips}\")\n",
    "print(f\"Total de registros en Nacimientos: {total_nacimientos}\")\n",
    "print(f\"Total de registros en Defunciones: {total_defunciones}\")\n",
    "print(f\"Total de registros en Vacunas: {total_vacunas}\")\n",
    "print(f\"Total de registros en Sivigila: {total_sivigila}\")\n",
    "print(f\"Total de registros en Segcovid: {total_segcovid}\")"
   ]
  },
  {
   "cell_type": "code",
   "execution_count": 3,
   "id": "fc6349a9",
   "metadata": {},
   "outputs": [
    {
     "name": "stderr",
     "output_type": "stream",
     "text": [
      "                                                                                \r"
     ]
    },
    {
     "name": "stdout",
     "output_type": "stream",
     "text": [
      "Registros coincidentes entre Nacimientos y Defunciones: 15933\n"
     ]
    },
    {
     "name": "stderr",
     "output_type": "stream",
     "text": [
      "                                                                                ]\r"
     ]
    },
    {
     "name": "stdout",
     "output_type": "stream",
     "text": [
      "Registros coincidentes entre Nacimientos y Vacunas: 3262221\n"
     ]
    },
    {
     "name": "stderr",
     "output_type": "stream",
     "text": [
      "                                                                                \r"
     ]
    },
    {
     "name": "stdout",
     "output_type": "stream",
     "text": [
      "Registros coincidentes entre Nacimientos y Sivigila: 737072\n"
     ]
    },
    {
     "name": "stderr",
     "output_type": "stream",
     "text": [
      "                                                                                \r"
     ]
    },
    {
     "name": "stdout",
     "output_type": "stream",
     "text": [
      "Registros coincidentes entre Nacimientos y Segcovid: 539285\n"
     ]
    },
    {
     "name": "stderr",
     "output_type": "stream",
     "text": [
      "                                                                                ]]\r"
     ]
    },
    {
     "name": "stdout",
     "output_type": "stream",
     "text": [
      "Registros coincidentes entre Nacimientos y RIPS: 4415675\n"
     ]
    },
    {
     "name": "stderr",
     "output_type": "stream",
     "text": [
      "                                                                                ]\r"
     ]
    },
    {
     "name": "stdout",
     "output_type": "stream",
     "text": [
      "Registros coincidentes entre Defunciones y Vacunas: 547541\n"
     ]
    },
    {
     "name": "stderr",
     "output_type": "stream",
     "text": [
      "                                                                                \r"
     ]
    },
    {
     "name": "stdout",
     "output_type": "stream",
     "text": [
      "Registros coincidentes entre Defunciones y Sivigila: 248445\n"
     ]
    },
    {
     "name": "stderr",
     "output_type": "stream",
     "text": [
      "                                                                                \r"
     ]
    },
    {
     "name": "stdout",
     "output_type": "stream",
     "text": [
      "Registros coincidentes entre Defunciones y Segcovid: 213944\n"
     ]
    },
    {
     "name": "stderr",
     "output_type": "stream",
     "text": [
      "                                                                                ]\r"
     ]
    },
    {
     "name": "stdout",
     "output_type": "stream",
     "text": [
      "Registros coincidentes entre Defunciones y RIPS: 2287979\n"
     ]
    },
    {
     "name": "stderr",
     "output_type": "stream",
     "text": [
      "                                                                                \r"
     ]
    },
    {
     "name": "stdout",
     "output_type": "stream",
     "text": [
      "Registros coincidentes entre Vacunas y Sivigila: 3146974\n"
     ]
    },
    {
     "name": "stderr",
     "output_type": "stream",
     "text": [
      "                                                                                ]\r"
     ]
    },
    {
     "name": "stdout",
     "output_type": "stream",
     "text": [
      "Registros coincidentes entre Vacunas y Segcovid: 4911524\n"
     ]
    },
    {
     "name": "stderr",
     "output_type": "stream",
     "text": [
      "                                                                                ]]\r"
     ]
    },
    {
     "name": "stdout",
     "output_type": "stream",
     "text": [
      "Registros coincidentes entre Vacunas y RIPS: 35586807\n"
     ]
    },
    {
     "name": "stderr",
     "output_type": "stream",
     "text": [
      "                                                                                \r"
     ]
    },
    {
     "name": "stdout",
     "output_type": "stream",
     "text": [
      "Registros coincidentes entre Sivigila y Segcovid: 568567\n"
     ]
    },
    {
     "name": "stderr",
     "output_type": "stream",
     "text": [
      "                                                                                1]]]\r"
     ]
    },
    {
     "name": "stdout",
     "output_type": "stream",
     "text": [
      "Registros coincidentes entre Sivigila y RIPS: 5539934\n"
     ]
    },
    {
     "name": "stderr",
     "output_type": "stream",
     "text": [
      "[Stage 1323:================================================>   (117 + 8) / 125]9]]]\r"
     ]
    },
    {
     "name": "stdout",
     "output_type": "stream",
     "text": [
      "Registros coincidentes entre Segcovid y RIPS: 5469196\n"
     ]
    },
    {
     "name": "stderr",
     "output_type": "stream",
     "text": [
      "\r",
      "[Stage 1323:===================================================>(123 + 2) / 125]\r",
      "\r",
      "                                                                                \r"
     ]
    },
    {
     "data": {
      "text/plain": [
       "5469196"
      ]
     },
     "execution_count": 3,
     "metadata": {},
     "output_type": "execute_result"
    }
   ],
   "source": [
    "# Realizar cruces entre cada par de fuentes de datos\n",
    "contar_cruce(df_nacimientos, \"PersonaID\", df_defunciones, \"PersonaID\", \"Nacimientos\", \"Defunciones\")\n",
    "contar_cruce(df_nacimientos, \"PersonaID\", df_vacunas, \"PersonaBasicaID\", \"Nacimientos\", \"Vacunas\")\n",
    "contar_cruce(df_nacimientos, \"PersonaID\", df_sivigila, \"PersonaBasicaID\", \"Nacimientos\", \"Sivigila\")\n",
    "contar_cruce(df_nacimientos, \"PersonaID\", df_segcovid, \"PersonaBasicaID\", \"Nacimientos\", \"Segcovid\")\n",
    "contar_cruce(df_nacimientos, \"PersonaID\", df_rips, \"personaid\", \"Nacimientos\", \"RIPS\")\n",
    "\n",
    "contar_cruce(df_defunciones, \"PersonaID\", df_vacunas, \"PersonaBasicaID\", \"Defunciones\", \"Vacunas\")\n",
    "contar_cruce(df_defunciones, \"PersonaID\", df_sivigila, \"PersonaBasicaID\", \"Defunciones\", \"Sivigila\")\n",
    "contar_cruce(df_defunciones, \"PersonaID\", df_segcovid, \"PersonaBasicaID\", \"Defunciones\", \"Segcovid\")\n",
    "contar_cruce(df_defunciones, \"PersonaID\", df_rips, \"personaid\", \"Defunciones\", \"RIPS\")\n",
    "\n",
    "contar_cruce(df_vacunas, \"PersonaBasicaID\", df_sivigila, \"PersonaBasicaID\", \"Vacunas\", \"Sivigila\")\n",
    "contar_cruce(df_vacunas, \"PersonaBasicaID\", df_segcovid, \"PersonaBasicaID\", \"Vacunas\", \"Segcovid\")\n",
    "contar_cruce(df_vacunas, \"PersonaBasicaID\", df_rips, \"personaid\", \"Vacunas\", \"RIPS\")\n",
    "\n",
    "contar_cruce(df_sivigila, \"PersonaBasicaID\", df_segcovid, \"PersonaBasicaID\", \"Sivigila\", \"Segcovid\")\n",
    "contar_cruce(df_sivigila, \"PersonaBasicaID\", df_rips, \"personaid\", \"Sivigila\", \"RIPS\")\n",
    "\n",
    "contar_cruce(df_segcovid, \"PersonaBasicaID\", df_rips, \"personaid\", \"Segcovid\", \"RIPS\")"
   ]
  },
  {
   "cell_type": "code",
   "execution_count": 4,
   "id": "1cd1e454",
   "metadata": {},
   "outputs": [],
   "source": [
    "# Detener la sesión de Spark\n",
    "spark.stop()"
   ]
  },
  {
   "cell_type": "code",
   "execution_count": null,
   "id": "2d21a30a",
   "metadata": {},
   "outputs": [],
   "source": []
  }
 ],
 "metadata": {
  "kernelspec": {
   "display_name": "Spark (Python)",
   "language": "python",
   "name": "spark_python"
  },
  "language_info": {
   "codemirror_mode": {
    "name": "ipython",
    "version": 3
   },
   "file_extension": ".py",
   "mimetype": "text/x-python",
   "name": "python",
   "nbconvert_exporter": "python",
   "pygments_lexer": "ipython3",
   "version": "3.9.18"
  }
 },
 "nbformat": 4,
 "nbformat_minor": 5
}

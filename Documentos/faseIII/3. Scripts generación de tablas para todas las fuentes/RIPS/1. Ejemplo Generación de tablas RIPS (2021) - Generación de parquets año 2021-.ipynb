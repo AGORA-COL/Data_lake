{
 "cells": [
  {
   "cell_type": "markdown",
   "id": "3a8b3434",
   "metadata": {},
   "source": [
    "# TABLAS RIPS "
   ]
  },
  {
   "cell_type": "markdown",
   "id": "5e7ab853",
   "metadata": {},
   "source": [
    "## Carga de los datos"
   ]
  },
  {
   "cell_type": "markdown",
   "id": "dc2c512b",
   "metadata": {},
   "source": [
    "Este jupyter notebook esta generando las tablas sobre el año 2021 de la fuente de datos RIPS"
   ]
  },
  {
   "cell_type": "code",
   "execution_count": 1,
   "id": "c90bfc6f",
   "metadata": {
    "scrolled": true
   },
   "outputs": [
    {
     "name": "stderr",
     "output_type": "stream",
     "text": [
      "Setting default log level to \"WARN\".\n",
      "To adjust logging level use sc.setLogLevel(newLevel). For SparkR, use setLogLevel(newLevel).\n",
      "24/08/14 22:18:34 WARN NativeCodeLoader: Unable to load native-hadoop library for your platform... using builtin-java classes where applicable\n"
     ]
    }
   ],
   "source": [
    "from pyspark.sql import SparkSession\n",
    "\n",
    "# Crear una sesión de Spark\n",
    "spark = SparkSession.builder.appName(\"GeneraciónTablasRips_Todoslosdatos2021\").getOrCreate()"
   ]
  },
  {
   "cell_type": "code",
   "execution_count": null,
   "id": "bdbbc1d5",
   "metadata": {},
   "outputs": [],
   "source": []
  },
  {
   "cell_type": "raw",
   "id": "38bd9f4c",
   "metadata": {},
   "source": [
    "Definir la ruta del año a generar los datos, en este caso del año 2021"
   ]
  },
  {
   "cell_type": "code",
   "execution_count": 2,
   "id": "1900560b",
   "metadata": {},
   "outputs": [
    {
     "name": "stderr",
     "output_type": "stream",
     "text": [
      "                                                                                \r"
     ]
    }
   ],
   "source": [
    "# Leer los archivos Parquet de un año \n",
    "df1_parquet = spark.read.parquet(\"/rawdata/rips/rips_parquet_2021\")\n",
    "\n",
    "df=df1_parquet"
   ]
  },
  {
   "cell_type": "code",
   "execution_count": null,
   "id": "11bff43d",
   "metadata": {},
   "outputs": [],
   "source": []
  },
  {
   "cell_type": "code",
   "execution_count": 3,
   "id": "ab87d3af",
   "metadata": {
    "scrolled": true
   },
   "outputs": [
    {
     "name": "stderr",
     "output_type": "stream",
     "text": [
      "[Stage 1:============================================>         (107 + 24) / 131]\r"
     ]
    },
    {
     "name": "stdout",
     "output_type": "stream",
     "text": [
      "Total de registros en el DataFrame unido: 406833792\n",
      "Columnas del DataFrame unido: ['personaid', 'tipoeventoripsdesc', 'codigo', 'dxprincipal', 'dxegreso', 'finalidadprocedimientoscd', 'finalidadconsultacd', 'tipousuariocd', 'causaexternacd', 'prestador', 'estadosalidacd', 'tipodiagnosticoprincipalcd', 'codigoprocedimiento', 'municipiocd', 'fechaid', 'edad', 'sexodesc', 'costoconsulta', 'costoprocedimiento', 'netoapagarconsulta', 'numerodiasestancia', '__null_dask_index__']\n"
     ]
    },
    {
     "name": "stderr",
     "output_type": "stream",
     "text": [
      "\r",
      "                                                                                \r"
     ]
    }
   ],
   "source": [
    "# Contar el número de registros en el DataFrame unido\n",
    "total_registros = df.count()\n",
    "\n",
    "# Listar las columnas del DataFrame unido\n",
    "columnas = df.columns\n",
    "\n",
    "# Mostrar resultados\n",
    "print(f\"Total de registros en el DataFrame unido: {total_registros}\")\n",
    "print(f\"Columnas del DataFrame unido: {columnas}\")"
   ]
  },
  {
   "cell_type": "code",
   "execution_count": 4,
   "id": "204519cb",
   "metadata": {},
   "outputs": [
    {
     "name": "stderr",
     "output_type": "stream",
     "text": [
      "[Stage 4:================================>                      (77 + 54) / 131]\r"
     ]
    },
    {
     "name": "stdout",
     "output_type": "stream",
     "text": [
      "El número de registros en el archivo es: 406833792\n"
     ]
    },
    {
     "name": "stderr",
     "output_type": "stream",
     "text": [
      "\r",
      "                                                                                \r"
     ]
    }
   ],
   "source": [
    "# Contar el número de registros - da satisfactoriamente la cantidad de registros de toda la fuente RIPS 4’262.860.903 registros \n",
    "record_count = df.count()\n",
    "\n",
    "# Mostrar el número de registros\n",
    "print(f\"El número de registros en el archivo es: {record_count}\")"
   ]
  },
  {
   "cell_type": "code",
   "execution_count": 5,
   "id": "8a1591e3",
   "metadata": {},
   "outputs": [
    {
     "name": "stdout",
     "output_type": "stream",
     "text": [
      "Número total de columnas en el DataFrame: 22\n"
     ]
    }
   ],
   "source": [
    "# Contar el número total de columnas en el DataFrame ( no se tiene en cuenta neto a pagar)\n",
    "total_columns = len(df.columns)\n",
    "\n",
    "# Imprimir el número total de columnas\n",
    "print(\"Número total de columnas en el DataFrame:\", total_columns)"
   ]
  },
  {
   "cell_type": "code",
   "execution_count": 6,
   "id": "cdde4766",
   "metadata": {},
   "outputs": [
    {
     "name": "stdout",
     "output_type": "stream",
     "text": [
      "root\n",
      " |-- personaid: string (nullable = true)\n",
      " |-- tipoeventoripsdesc: string (nullable = true)\n",
      " |-- codigo: string (nullable = true)\n",
      " |-- dxprincipal: string (nullable = true)\n",
      " |-- dxegreso: string (nullable = true)\n",
      " |-- finalidadprocedimientoscd: string (nullable = true)\n",
      " |-- finalidadconsultacd: string (nullable = true)\n",
      " |-- tipousuariocd: string (nullable = true)\n",
      " |-- causaexternacd: string (nullable = true)\n",
      " |-- prestador: string (nullable = true)\n",
      " |-- estadosalidacd: string (nullable = true)\n",
      " |-- tipodiagnosticoprincipalcd: string (nullable = true)\n",
      " |-- codigoprocedimiento: string (nullable = true)\n",
      " |-- municipiocd: string (nullable = true)\n",
      " |-- fechaid: string (nullable = true)\n",
      " |-- edad: string (nullable = true)\n",
      " |-- sexodesc: string (nullable = true)\n",
      " |-- costoconsulta: string (nullable = true)\n",
      " |-- costoprocedimiento: string (nullable = true)\n",
      " |-- netoapagarconsulta: string (nullable = true)\n",
      " |-- numerodiasestancia: string (nullable = true)\n",
      " |-- __null_dask_index__: long (nullable = true)\n",
      "\n",
      "['personaid', 'tipoeventoripsdesc', 'codigo', 'dxprincipal', 'dxegreso', 'finalidadprocedimientoscd', 'finalidadconsultacd', 'tipousuariocd', 'causaexternacd', 'prestador', 'estadosalidacd', 'tipodiagnosticoprincipalcd', 'codigoprocedimiento', 'municipiocd', 'fechaid', 'edad', 'sexodesc', 'costoconsulta', 'costoprocedimiento', 'netoapagarconsulta', 'numerodiasestancia', '__null_dask_index__']\n"
     ]
    }
   ],
   "source": [
    "# Mostrar el esquema (columnas y tipos de datos)\n",
    "df.printSchema()\n",
    "\n",
    "# Listar las columnas\n",
    "print(df.columns)"
   ]
  },
  {
   "cell_type": "markdown",
   "id": "99d768c2",
   "metadata": {},
   "source": [
    "# Empieza el proceso de generación de los datos agrupados por atenciones"
   ]
  },
  {
   "cell_type": "raw",
   "id": "314f1d71",
   "metadata": {},
   "source": [
    "#La siguiente consulta tarda más de una hora parar todos los registros ( 10 min aprox con 2022) "
   ]
  },
  {
   "cell_type": "code",
   "execution_count": 6,
   "id": "1c8181d6",
   "metadata": {},
   "outputs": [
    {
     "name": "stderr",
     "output_type": "stream",
     "text": [
      "24/08/14 22:19:49 WARN SparkSession: Using an existing Spark session; only runtime SQL configurations will take effect.\n",
      "                                                                                \r"
     ]
    },
    {
     "name": "stdout",
     "output_type": "stream",
     "text": [
      "+---------+-------------------+--------------------+--------+---------+--------------------------+----+--------+-----------+-----------+---------------+\n",
      "|personaid|codigoprocedimiento|  tipoeventoripsdesc| fechaid| sexodesc|tipodiagnosticoprincipalcd|edad|dxegreso|dxprincipal|municipiocd|personaid_count|\n",
      "+---------+-------------------+--------------------+--------+---------+--------------------------+----+--------+-----------+-----------+---------------+\n",
      "|100000046|             890207|           CONSULTAS|20210731| FEMENINO|                         1|  27|       0|       Z010|       null|             19|\n",
      "|100000046|             890203|           CONSULTAS|20211101| FEMENINO|                         1|  27|       0|       K088|      11001|             19|\n",
      "|100000046|             906340|PROCEDIMIENTOS DE...|20210618| FEMENINO|                      null|  28|       0|          1|      25430|             19|\n",
      "|100000046|             890301|           CONSULTAS|20210317| FEMENINO|                         2|  26|       0|       R739|       null|             19|\n",
      "|100000046|             890301|           CONSULTAS|20210317| FEMENINO|                         2|  26|       0|       R739|       null|             19|\n",
      "|100000046|             890301|           CONSULTAS|20210317| FEMENINO|                         2|  26|       0|       R739|       null|             19|\n",
      "|100000046|             890301|           CONSULTAS|20210317| FEMENINO|                         2|  26|       0|       R739|       null|             19|\n",
      "|100000046|             890301|           CONSULTAS|20210317| FEMENINO|                         2|  26|       0|       R739|       null|             19|\n",
      "|100000046|             890301|           CONSULTAS|20210317| FEMENINO|                         2|  26|       0|       R739|       null|             19|\n",
      "|100000046|             890301|           CONSULTAS|20210317| FEMENINO|                         2|  26|       0|       R739|       null|             19|\n",
      "|100000046|             890301|           CONSULTAS|20210317| FEMENINO|                         2|  26|       0|       R739|       null|             19|\n",
      "|100000046|             890262|           CONSULTAS|20210731| FEMENINO|                         1|  27|       0|       Z100|       null|             19|\n",
      "|100000046|             890203|           CONSULTAS|20211001| FEMENINO|                         1|  27|       0|       K088|       null|             19|\n",
      "|100000046|             890246|           CONSULTAS|20210304| FEMENINO|                         1|  26|       0|       K30X|       null|             19|\n",
      "|100000046|             903815|PROCEDIMIENTOS DE...|20210305| FEMENINO|                      null|  26|       0|          1|       null|             19|\n",
      "|100000046|             904904|PROCEDIMIENTOS DE...|20210305| FEMENINO|                      null|  26|       0|          1|       null|             19|\n",
      "|100000046|             903868|PROCEDIMIENTOS DE...|20210305| FEMENINO|                      null|  26|       0|          1|       null|             19|\n",
      "|100000046|             903818|PROCEDIMIENTOS DE...|20210305| FEMENINO|                      null|  26|       0|          1|       null|             19|\n",
      "|100000046|             903841|PROCEDIMIENTOS DE...|20210305| FEMENINO|                      null|  26|       0|          1|       null|             19|\n",
      "|100001340|             890284|           CONSULTAS|20211126|MASCULINO|                         1|  27|       0|       F321|      05266|              4|\n",
      "+---------+-------------------+--------------------+--------+---------+--------------------------+----+--------+-----------+-----------+---------------+\n",
      "only showing top 20 rows\n",
      "\n"
     ]
    },
    {
     "name": "stderr",
     "output_type": "stream",
     "text": [
      "[Stage 12:>                                                         (0 + 1) / 1]\r"
     ]
    },
    {
     "name": "stdout",
     "output_type": "stream",
     "text": [
      "+---------+-------------------+--------------------+--------+---------+--------------------------+----+--------+-----------+-----------+---------------+\n",
      "|personaid|codigoprocedimiento|  tipoeventoripsdesc| fechaid| sexodesc|tipodiagnosticoprincipalcd|edad|dxegreso|dxprincipal|municipiocd|personaid_count|\n",
      "+---------+-------------------+--------------------+--------+---------+--------------------------+----+--------+-----------+-----------+---------------+\n",
      "|100000046|             890203|           CONSULTAS|20211001| FEMENINO|                         1|  27|       0|       K088|       null|             19|\n",
      "|100001340|             890284|           CONSULTAS|20210623|MASCULINO|                         1|  27|       0|       F321|      05266|              4|\n",
      "|100002120|             952001|PROCEDIMIENTOS DE...|20211214|MASCULINO|                      null|  32|       0|          1|      15542|              1|\n",
      "|100002546|             881201|PROCEDIMIENTOS DE...|20210114| FEMENINO|                      null|  27|       0|       R448|      05148|              9|\n",
      "| 10000670|             903426|PROCEDIMIENTOS DE...|20210727| FEMENINO|                      null|  70|       0|          1|      17380|             14|\n",
      "| 10000720|             890205|           CONSULTAS|20210903| FEMENINO|                         1|  56|       0|       R688|      11001|              7|\n",
      "|100007986|             990211|PROCEDIMIENTOS DE...|20211020| FEMENINO|                      null|  17|       0|          1|      41001|             14|\n",
      "|100008310|             890701|           CONSULTAS|20210615|MASCULINO|                         1|  18|       0|       U072|      15776|             11|\n",
      "|100009063|             890201|           CONSULTAS|20211215|MASCULINO|                         1|  55|       0|       Z136|      27205|             28|\n",
      "|100012269|             997106|PROCEDIMIENTOS DE...|20210204|MASCULINO|                      null|  16|       0|       Z519|      47170|              3|\n",
      "|100016463|                  1|           URGENCIAS|20211019| FEMENINO|                      null|  17|       0|       L500|      05308|              1|\n",
      "|100022463|             890201|           CONSULTAS|20211013|MASCULINO|                         1|  17|       0|       Z003|      05154|              2|\n",
      "| 10002373|             117501|PROCEDIMIENTOS DE...|20211130|MASCULINO|                      null|  36|       0|       H522|      11001|              2|\n",
      "|  1000240|             890201|           CONSULTAS|20210505| FEMENINO|                         1|  57|       0|       H110|      76113|             36|\n",
      "|100025604|             890701|           CONSULTAS|20211006| FEMENINO|                         1|  22|       0|       L500|      52356|              6|\n",
      "|100026261|             890301|           CONSULTAS|20210827|MASCULINO|                         1|  27|       0|       E669|      11001|             13|\n",
      "|100026690|             990203|PROCEDIMIENTOS DE...|20210915| FEMENINO|                      null|  27|       0|       K021|      25754|              5|\n",
      "|100030752|             890201|           CONSULTAS|20210917| FEMENINO|                         1|  28|       0|       H609|      05001|              9|\n",
      "|100031150|             881510|PROCEDIMIENTOS DE...|20210921|MASCULINO|                      null|  17|       0|       N511|      05045|             14|\n",
      "|100031830|             997301|PROCEDIMIENTOS DE...|20211102|MASCULINO|                      null|  17|       0|       K021|      05615|              3|\n",
      "+---------+-------------------+--------------------+--------+---------+--------------------------+----+--------+-----------+-----------+---------------+\n",
      "only showing top 20 rows\n",
      "\n"
     ]
    },
    {
     "name": "stderr",
     "output_type": "stream",
     "text": [
      "\r",
      "                                                                                \r"
     ]
    }
   ],
   "source": [
    "from pyspark.sql import SparkSession\n",
    "from pyspark.sql import functions as F\n",
    "from pyspark.sql.window import Window\n",
    "\n",
    "# Crear una sesión de Spark\n",
    "spark = SparkSession.builder.appName(\"DataFrame agrupado\").getOrCreate()\n",
    "\n",
    "\n",
    "# Cargar el archivo Parquet en un DataFrame\n",
    "#df = df1\n",
    "\n",
    "# Seleccionar solo las columnas deseadas (sin 'personaid_count' ya que no existe aún)\n",
    "columns_to_keep = [\n",
    "    'personaid', 'codigoprocedimiento', 'tipoeventoripsdesc', 'fechaid',\n",
    "    'sexodesc', 'tipodiagnosticoprincipalcd', 'edad', 'dxegreso', 'dxprincipal', 'municipiocd'\n",
    "]\n",
    "df_filtered = df.select(*columns_to_keep)\n",
    "\n",
    "# Agregar una nueva columna con el recuento distintivo de 'personaid'\n",
    "window_spec = Window.partitionBy('personaid')\n",
    "df_filtered = df_filtered.withColumn('personaid_count', F.count('personaid').over(window_spec))\n",
    "\n",
    "# Mostrar las primeras filas del DataFrame filtrado para verificar\n",
    "df_filtered.show()\n",
    "\n",
    "# Mostrar los nombres de las columnas filtradas para verificar\n",
    "#print(\"Nombres de las columnas filtradas:\")\n",
    "#print(df_filtered.columns)\n",
    "\n",
    "# Agrupar por la columna 'personaid'\n",
    "grouped_df = df_filtered.groupBy('personaid').agg(\n",
    "    F.first('codigoprocedimiento').alias('codigoprocedimiento'),\n",
    "    F.first('tipoeventoripsdesc').alias('tipoeventoripsdesc'),\n",
    "    F.first('fechaid').alias('fechaid'),\n",
    "    F.first('sexodesc').alias('sexodesc'),\n",
    "    F.first('tipodiagnosticoprincipalcd').alias('tipodiagnosticoprincipalcd'),\n",
    "    F.first('edad').alias('edad'),\n",
    "    F.first('dxegreso').alias('dxegreso'),\n",
    "    F.first('dxprincipal').alias('dxprincipal'),\n",
    "    F.first('municipiocd').alias('municipiocd'),\n",
    "    F.first('personaid_count').alias('personaid_count')\n",
    ")\n",
    "\n",
    "# Mostrar las primeras filas del DataFrame agrupado para verificar\n",
    "grouped_df.show()\n"
   ]
  },
  {
   "cell_type": "code",
   "execution_count": 7,
   "id": "b242c249",
   "metadata": {},
   "outputs": [
    {
     "name": "stderr",
     "output_type": "stream",
     "text": [
      "[Stage 15:=====================================================>(164 + 3) / 167]\r"
     ]
    },
    {
     "name": "stdout",
     "output_type": "stream",
     "text": [
      "El número de registros en el dataframe es: 32494184\n"
     ]
    },
    {
     "name": "stderr",
     "output_type": "stream",
     "text": [
      "\r",
      "                                                                                \r"
     ]
    }
   ],
   "source": [
    "# Contar el número de registros - me da satisfactoriamente la cantidad de regustros en cada año da 73'357.494 llego hasta stage 18\n",
    "#llega a 30'434.249 con 2022\n",
    "record_count = grouped_df.count()\n",
    "\n",
    "\n",
    "# Mostrar el número de registros\n",
    "print(f\"El número de registros en el dataframe es: {record_count}\")"
   ]
  },
  {
   "cell_type": "markdown",
   "id": "beb42a7b",
   "metadata": {},
   "source": [
    "Se generan un total de 73'357.494 registros (todos) para el año 2022 son 30'434.249  registros"
   ]
  },
  {
   "cell_type": "code",
   "execution_count": 8,
   "id": "0a7707a7",
   "metadata": {},
   "outputs": [],
   "source": [
    " df_final =grouped_df\n"
   ]
  },
  {
   "cell_type": "code",
   "execution_count": 10,
   "id": "c8edd29f",
   "metadata": {},
   "outputs": [
    {
     "name": "stderr",
     "output_type": "stream",
     "text": [
      "[Stage 21:=================================================>   (157 + 10) / 167]\r"
     ]
    },
    {
     "name": "stdout",
     "output_type": "stream",
     "text": [
      "El número de registros en el archivo Parquet es: 32494184\n"
     ]
    },
    {
     "name": "stderr",
     "output_type": "stream",
     "text": [
      "\r",
      "                                                                                \r"
     ]
    }
   ],
   "source": [
    "# Contar el número de registros \n",
    "record_count = df_final.count()\n",
    "\n",
    "# Mostrar el número de registros\n",
    "print(f\"El número de registros en el archivo Parquet es: {record_count}\")"
   ]
  },
  {
   "cell_type": "code",
   "execution_count": 11,
   "id": "6c4283ae",
   "metadata": {
    "scrolled": true
   },
   "outputs": [
    {
     "name": "stderr",
     "output_type": "stream",
     "text": [
      "[Stage 27:>                                                         (0 + 1) / 1]\r"
     ]
    },
    {
     "name": "stdout",
     "output_type": "stream",
     "text": [
      "+---------+-------------------+--------------------+--------+---------+--------------------------+----+--------+-----------+-----------+---------------+\n",
      "|personaid|codigoprocedimiento|  tipoeventoripsdesc| fechaid| sexodesc|tipodiagnosticoprincipalcd|edad|dxegreso|dxprincipal|municipiocd|personaid_count|\n",
      "+---------+-------------------+--------------------+--------+---------+--------------------------+----+--------+-----------+-----------+---------------+\n",
      "|100000046|             903815|PROCEDIMIENTOS DE...|20210305| FEMENINO|                      null|  26|       0|          1|       null|             19|\n",
      "|100001340|             890284|           CONSULTAS|20210826|MASCULINO|                         1|  27|       0|       F321|      05266|              4|\n",
      "|100002120|             952001|PROCEDIMIENTOS DE...|20211214|MASCULINO|                      null|  32|       0|          1|      15542|              1|\n",
      "|100002546|             890206|           CONSULTAS|20210112| FEMENINO|                         1|  27|       0|       E660|      05148|              9|\n",
      "| 10000670|             903868|PROCEDIMIENTOS DE...|20210413| FEMENINO|                      null|  69|       0|          1|      17380|             14|\n",
      "| 10000720|             890205|           CONSULTAS|20210903| FEMENINO|                         1|  56|       0|       R688|      11001|              7|\n",
      "|100007986|             890205|           CONSULTAS|20211019| FEMENINO|                         2|  17|       0|       Z003|      41001|             14|\n",
      "|100008310|             906915|PROCEDIMIENTOS DE...|20210625|MASCULINO|                      null|  18|       0|          1|      15776|             11|\n",
      "|100009063|             997104|PROCEDIMIENTOS DE...|20211215|MASCULINO|                      null|  55|       0|          1|      27205|             28|\n",
      "|100012269|             997106|PROCEDIMIENTOS DE...|20210204|MASCULINO|                      null|  16|       0|       Z519|      47170|              3|\n",
      "|100016463|                  1|           URGENCIAS|20211019| FEMENINO|                      null|  17|       0|       L500|      05308|              1|\n",
      "|100022463|             890201|           CONSULTAS|20211013|MASCULINO|                         1|  17|       0|       Z003|      05154|              2|\n",
      "| 10002373|             117501|PROCEDIMIENTOS DE...|20211130|MASCULINO|                      null|  36|       0|       H522|      11001|              2|\n",
      "|  1000240|             890301|           CONSULTAS|20210428| FEMENINO|                         1|  57|       0|       Z290|      76113|             36|\n",
      "|100025604|             890201|           CONSULTAS|20210116| FEMENINO|                         1|  21|       0|       S519|      52356|              6|\n",
      "|100026261|             890301|           CONSULTAS|20210827|MASCULINO|                         1|  27|       0|       E669|      11001|             13|\n",
      "|100026690|             890201|           CONSULTAS|20210310| FEMENINO|                         1|  26|       0|       T252|      25754|              5|\n",
      "|100030752|             890701|           CONSULTAS|20211125| FEMENINO|                         1|  28|       0|       F321|      05001|              9|\n",
      "|100031150|             890201|           CONSULTAS|20210924|MASCULINO|                         1|  17|       0|       N511|      05045|             14|\n",
      "|100031830|             997106|PROCEDIMIENTOS DE...|20211102|MASCULINO|                      null|  17|       0|       K021|      05615|              3|\n",
      "+---------+-------------------+--------------------+--------+---------+--------------------------+----+--------+-----------+-----------+---------------+\n",
      "only showing top 20 rows\n",
      "\n"
     ]
    },
    {
     "name": "stderr",
     "output_type": "stream",
     "text": [
      "\r",
      "                                                                                \r"
     ]
    }
   ],
   "source": [
    "# Mostrar las primeras filas del DataFrame agrupado para verificar\n",
    "df_final.show()"
   ]
  },
  {
   "cell_type": "markdown",
   "id": "a38eae8b",
   "metadata": {},
   "source": []
  },
  {
   "cell_type": "code",
   "execution_count": null,
   "id": "623f59e2",
   "metadata": {},
   "outputs": [],
   "source": []
  },
  {
   "cell_type": "code",
   "execution_count": 12,
   "id": "5c715ffd",
   "metadata": {},
   "outputs": [],
   "source": [
    "#se escribe el parquet - No lo hago por que seria todos los datos por atenciones, mejor solo de cada tabla\n",
    "#df_final.write.parquet(\"hdfs:/analyticsdata/todoRips.parquet\") "
   ]
  },
  {
   "cell_type": "markdown",
   "id": "e121d260",
   "metadata": {},
   "source": [
    "# Empieza el proceso de generación de tablas"
   ]
  },
  {
   "cell_type": "markdown",
   "id": "8fbd717b",
   "metadata": {},
   "source": [
    "## 1. Agrupado por año y mes"
   ]
  },
  {
   "cell_type": "raw",
   "id": "0e8553ba",
   "metadata": {},
   "source": [
    "#intento 1 ( no ejecutar)"
   ]
  },
  {
   "cell_type": "code",
   "execution_count": null,
   "id": "7121968b",
   "metadata": {},
   "outputs": [],
   "source": []
  },
  {
   "cell_type": "raw",
   "id": "fee4e53f",
   "metadata": {},
   "source": [
    "# intento 2 Si ejecutar"
   ]
  },
  {
   "cell_type": "code",
   "execution_count": 10,
   "id": "30c4f4aa",
   "metadata": {},
   "outputs": [],
   "source": [
    "# Cargar el archivo Parquet en un DataFrame\n",
    "df2 = df_final"
   ]
  },
  {
   "cell_type": "code",
   "execution_count": 14,
   "id": "32bfeab9",
   "metadata": {},
   "outputs": [
    {
     "name": "stderr",
     "output_type": "stream",
     "text": [
      "24/08/12 23:27:45 WARN SparkSession: Using an existing Spark session; only runtime SQL configurations will take effect.\n"
     ]
    }
   ],
   "source": [
    "from pyspark.sql import SparkSession\n",
    "from pyspark.sql import functions as F\n",
    "from pyspark.sql.window import Window\n",
    "\n",
    "# Crear una sesión de Spark\n",
    "spark = SparkSession.builder.appName(\"DataFrameTablas \").getOrCreate()\n",
    "\n",
    "\n",
    "# Cargar el archivo Parquet en un DataFrame\n",
    "df2 = df_final\n",
    "\n",
    "\n"
   ]
  },
  {
   "cell_type": "code",
   "execution_count": null,
   "id": "671b48ce",
   "metadata": {},
   "outputs": [],
   "source": []
  },
  {
   "cell_type": "code",
   "execution_count": 11,
   "id": "f4f4c2ac",
   "metadata": {},
   "outputs": [
    {
     "name": "stderr",
     "output_type": "stream",
     "text": [
      "[Stage 21:=====================================================>(164 + 3) / 167]\r"
     ]
    },
    {
     "name": "stdout",
     "output_type": "stream",
     "text": [
      "El número de registros en el archivo Parquet es: 32494184\n"
     ]
    },
    {
     "name": "stderr",
     "output_type": "stream",
     "text": [
      "\r",
      "                                                                                \r"
     ]
    }
   ],
   "source": [
    "# Contar el número de registros - me da satisfactoriamente la cantidad de regustros en cada año \n",
    "record_count = df2.count()\n",
    "\n",
    "# Mostrar el número de registros\n",
    "print(f\"El número de registros en el archivo Parquet es: {record_count}\")"
   ]
  },
  {
   "cell_type": "code",
   "execution_count": 16,
   "id": "98eb92ce",
   "metadata": {},
   "outputs": [
    {
     "name": "stdout",
     "output_type": "stream",
     "text": [
      "root\n",
      " |-- personaid: string (nullable = true)\n",
      " |-- codigoprocedimiento: string (nullable = true)\n",
      " |-- tipoeventoripsdesc: string (nullable = true)\n",
      " |-- fechaid: string (nullable = true)\n",
      " |-- sexodesc: string (nullable = true)\n",
      " |-- tipodiagnosticoprincipalcd: string (nullable = true)\n",
      " |-- edad: string (nullable = true)\n",
      " |-- dxegreso: string (nullable = true)\n",
      " |-- dxprincipal: string (nullable = true)\n",
      " |-- municipiocd: string (nullable = true)\n",
      " |-- personaid_count: long (nullable = true)\n",
      "\n",
      "['personaid', 'codigoprocedimiento', 'tipoeventoripsdesc', 'fechaid', 'sexodesc', 'tipodiagnosticoprincipalcd', 'edad', 'dxegreso', 'dxprincipal', 'municipiocd', 'personaid_count']\n"
     ]
    }
   ],
   "source": [
    "# Mostrar el esquema (columnas y tipos de datos)\n",
    "df2.printSchema()\n",
    "\n",
    "# Listar las columnas\n",
    "print(df2.columns)"
   ]
  },
  {
   "cell_type": "markdown",
   "id": "0979efcc",
   "metadata": {},
   "source": [
    "# resultado final agrupado año y mes, según el numero de personas y atenciones"
   ]
  },
  {
   "cell_type": "code",
   "execution_count": 18,
   "id": "42f7044e",
   "metadata": {
    "scrolled": true
   },
   "outputs": [
    {
     "name": "stderr",
     "output_type": "stream",
     "text": [
      "24/08/12 23:32:59 WARN TaskSetManager: Lost task 37.0 in stage 36.0 (TID 1726) (10.34.1.49 executor 1): java.io.IOException: unexpected exception type\n",
      "\tat java.io.ObjectStreamClass.throwMiscException(ObjectStreamClass.java:1750)\n",
      "\tat java.io.ObjectStreamClass.invokeReadResolve(ObjectStreamClass.java:1280)\n",
      "\tat java.io.ObjectInputStream.readOrdinaryObject(ObjectInputStream.java:2221)\n",
      "\tat java.io.ObjectInputStream.readObject0(ObjectInputStream.java:1668)\n",
      "\tat java.io.ObjectInputStream.defaultReadFields(ObjectInputStream.java:2430)\n",
      "\tat java.io.ObjectInputStream.readSerialData(ObjectInputStream.java:2354)\n",
      "\tat java.io.ObjectInputStream.readOrdinaryObject(ObjectInputStream.java:2212)\n",
      "\tat java.io.ObjectInputStream.readObject0(ObjectInputStream.java:1668)\n",
      "\tat java.io.ObjectInputStream.readArray(ObjectInputStream.java:2118)\n",
      "\tat java.io.ObjectInputStream.readObject0(ObjectInputStream.java:1656)\n",
      "\tat java.io.ObjectInputStream.defaultReadFields(ObjectInputStream.java:2430)\n",
      "\tat java.io.ObjectInputStream.readSerialData(ObjectInputStream.java:2354)\n",
      "\tat java.io.ObjectInputStream.readOrdinaryObject(ObjectInputStream.java:2212)\n",
      "\tat java.io.ObjectInputStream.readObject0(ObjectInputStream.java:1668)\n",
      "\tat java.io.ObjectInputStream.defaultReadFields(ObjectInputStream.java:2430)\n",
      "\tat java.io.ObjectInputStream.readSerialData(ObjectInputStream.java:2354)\n",
      "\tat java.io.ObjectInputStream.readOrdinaryObject(ObjectInputStream.java:2212)\n",
      "\tat java.io.ObjectInputStream.readObject0(ObjectInputStream.java:1668)\n",
      "\tat java.io.ObjectInputStream.readArray(ObjectInputStream.java:2118)\n",
      "\tat java.io.ObjectInputStream.readObject0(ObjectInputStream.java:1656)\n",
      "\tat java.io.ObjectInputStream.defaultReadFields(ObjectInputStream.java:2430)\n",
      "\tat java.io.ObjectInputStream.readSerialData(ObjectInputStream.java:2354)\n",
      "\tat java.io.ObjectInputStream.readOrdinaryObject(ObjectInputStream.java:2212)\n",
      "\tat java.io.ObjectInputStream.readObject0(ObjectInputStream.java:1668)\n",
      "\tat java.io.ObjectInputStream.readArray(ObjectInputStream.java:2118)\n",
      "\tat java.io.ObjectInputStream.readObject0(ObjectInputStream.java:1656)\n",
      "\tat java.io.ObjectInputStream.defaultReadFields(ObjectInputStream.java:2430)\n",
      "\tat java.io.ObjectInputStream.readSerialData(ObjectInputStream.java:2354)\n",
      "\tat java.io.ObjectInputStream.readOrdinaryObject(ObjectInputStream.java:2212)\n",
      "\tat java.io.ObjectInputStream.readObject0(ObjectInputStream.java:1668)\n",
      "\tat java.io.ObjectInputStream.defaultReadFields(ObjectInputStream.java:2430)\n",
      "\tat java.io.ObjectInputStream.readSerialData(ObjectInputStream.java:2354)\n",
      "\tat java.io.ObjectInputStream.readOrdinaryObject(ObjectInputStream.java:2212)\n",
      "\tat java.io.ObjectInputStream.readObject0(ObjectInputStream.java:1668)\n",
      "\tat java.io.ObjectInputStream.defaultReadFields(ObjectInputStream.java:2430)\n",
      "\tat java.io.ObjectInputStream.readSerialData(ObjectInputStream.java:2354)\n",
      "\tat java.io.ObjectInputStream.readOrdinaryObject(ObjectInputStream.java:2212)\n",
      "\tat java.io.ObjectInputStream.readObject0(ObjectInputStream.java:1668)\n",
      "\tat java.io.ObjectInputStream.readObject(ObjectInputStream.java:502)\n",
      "\tat java.io.ObjectInputStream.readObject(ObjectInputStream.java:460)\n",
      "\tat scala.collection.immutable.List$SerializationProxy.readObject(List.scala:527)\n",
      "\tat sun.reflect.GeneratedMethodAccessor54.invoke(Unknown Source)\n",
      "\tat sun.reflect.DelegatingMethodAccessorImpl.invoke(DelegatingMethodAccessorImpl.java:43)\n",
      "\tat java.lang.reflect.Method.invoke(Method.java:498)\n",
      "\tat java.io.ObjectStreamClass.invokeReadObject(ObjectStreamClass.java:1184)\n",
      "\tat java.io.ObjectInputStream.readSerialData(ObjectInputStream.java:2321)\n",
      "\tat java.io.ObjectInputStream.readOrdinaryObject(ObjectInputStream.java:2212)\n",
      "\tat java.io.ObjectInputStream.readObject0(ObjectInputStream.java:1668)\n",
      "\tat java.io.ObjectInputStream.defaultReadFields(ObjectInputStream.java:2430)\n",
      "\tat java.io.ObjectInputStream.readSerialData(ObjectInputStream.java:2354)\n",
      "\tat java.io.ObjectInputStream.readOrdinaryObject(ObjectInputStream.java:2212)\n",
      "\tat java.io.ObjectInputStream.readObject0(ObjectInputStream.java:1668)\n",
      "\tat java.io.ObjectInputStream.defaultReadFields(ObjectInputStream.java:2430)\n",
      "\tat java.io.ObjectInputStream.readSerialData(ObjectInputStream.java:2354)\n",
      "\tat java.io.ObjectInputStream.readOrdinaryObject(ObjectInputStream.java:2212)\n",
      "\tat java.io.ObjectInputStream.readObject0(ObjectInputStream.java:1668)\n",
      "\tat java.io.ObjectInputStream.readObject(ObjectInputStream.java:502)\n",
      "\tat java.io.ObjectInputStream.readObject(ObjectInputStream.java:460)\n",
      "\tat scala.collection.immutable.List$SerializationProxy.readObject(List.scala:527)\n",
      "\tat sun.reflect.GeneratedMethodAccessor54.invoke(Unknown Source)\n",
      "\tat sun.reflect.DelegatingMethodAccessorImpl.invoke(DelegatingMethodAccessorImpl.java:43)\n",
      "\tat java.lang.reflect.Method.invoke(Method.java:498)\n",
      "\tat java.io.ObjectStreamClass.invokeReadObject(ObjectStreamClass.java:1184)\n",
      "\tat java.io.ObjectInputStream.readSerialData(ObjectInputStream.java:2321)\n",
      "\tat java.io.ObjectInputStream.readOrdinaryObject(ObjectInputStream.java:2212)\n",
      "\tat java.io.ObjectInputStream.readObject0(ObjectInputStream.java:1668)\n",
      "\tat java.io.ObjectInputStream.defaultReadFields(ObjectInputStream.java:2430)\n",
      "\tat java.io.ObjectInputStream.readSerialData(ObjectInputStream.java:2354)\n",
      "\tat java.io.ObjectInputStream.readOrdinaryObject(ObjectInputStream.java:2212)\n",
      "\tat java.io.ObjectInputStream.readObject0(ObjectInputStream.java:1668)\n",
      "\tat java.io.ObjectInputStream.defaultReadFields(ObjectInputStream.java:2430)\n",
      "\tat java.io.ObjectInputStream.readSerialData(ObjectInputStream.java:2354)\n",
      "\tat java.io.ObjectInputStream.readOrdinaryObject(ObjectInputStream.java:2212)\n",
      "\tat java.io.ObjectInputStream.readObject0(ObjectInputStream.java:1668)\n",
      "\tat java.io.ObjectInputStream.readObject(ObjectInputStream.java:502)\n",
      "\tat java.io.ObjectInputStream.readObject(ObjectInputStream.java:460)\n",
      "\tat scala.collection.immutable.List$SerializationProxy.readObject(List.scala:527)\n",
      "\tat sun.reflect.GeneratedMethodAccessor54.invoke(Unknown Source)\n",
      "\tat sun.reflect.DelegatingMethodAccessorImpl.invoke(DelegatingMethodAccessorImpl.java:43)\n",
      "\tat java.lang.reflect.Method.invoke(Method.java:498)\n",
      "\tat java.io.ObjectStreamClass.invokeReadObject(ObjectStreamClass.java:1184)\n",
      "\tat java.io.ObjectInputStream.readSerialData(ObjectInputStream.java:2321)\n",
      "\tat java.io.ObjectInputStream.readOrdinaryObject(ObjectInputStream.java:2212)\n",
      "\tat java.io.ObjectInputStream.readObject0(ObjectInputStream.java:1668)\n",
      "\tat java.io.ObjectInputStream.defaultReadFields(ObjectInputStream.java:2430)\n",
      "\tat java.io.ObjectInputStream.readSerialData(ObjectInputStream.java:2354)\n",
      "\tat java.io.ObjectInputStream.readOrdinaryObject(ObjectInputStream.java:2212)\n",
      "\tat java.io.ObjectInputStream.readObject0(ObjectInputStream.java:1668)\n",
      "\tat java.io.ObjectInputStream.defaultReadFields(ObjectInputStream.java:2430)\n",
      "\tat java.io.ObjectInputStream.readSerialData(ObjectInputStream.java:2354)\n",
      "\tat java.io.ObjectInputStream.readOrdinaryObject(ObjectInputStream.java:2212)\n",
      "\tat java.io.ObjectInputStream.readObject0(ObjectInputStream.java:1668)\n",
      "\tat java.io.ObjectInputStream.readObject(ObjectInputStream.java:502)\n",
      "\tat java.io.ObjectInputStream.readObject(ObjectInputStream.java:460)\n",
      "\tat scala.collection.immutable.List$SerializationProxy.readObject(List.scala:527)\n",
      "\tat sun.reflect.GeneratedMethodAccessor54.invoke(Unknown Source)\n",
      "\tat sun.reflect.DelegatingMethodAccessorImpl.invoke(DelegatingMethodAccessorImpl.java:43)\n",
      "\tat java.lang.reflect.Method.invoke(Method.java:498)\n",
      "\tat java.io.ObjectStreamClass.invokeReadObject(ObjectStreamClass.java:1184)\n",
      "\tat java.io.ObjectInputStream.readSerialData(ObjectInputStream.java:2321)\n",
      "\tat java.io.ObjectInputStream.readOrdinaryObject(ObjectInputStream.java:2212)\n",
      "\tat java.io.ObjectInputStream.readObject0(ObjectInputStream.java:1668)\n",
      "\tat java.io.ObjectInputStream.defaultReadFields(ObjectInputStream.java:2430)\n",
      "\tat java.io.ObjectInputStream.readSerialData(ObjectInputStream.java:2354)\n",
      "\tat java.io.ObjectInputStream.readOrdinaryObject(ObjectInputStream.java:2212)\n",
      "\tat java.io.ObjectInputStream.readObject0(ObjectInputStream.java:1668)\n",
      "\tat java.io.ObjectInputStream.defaultReadFields(ObjectInputStream.java:2430)\n",
      "\tat java.io.ObjectInputStream.readSerialData(ObjectInputStream.java:2354)\n",
      "\tat java.io.ObjectInputStream.readOrdinaryObject(ObjectInputStream.java:2212)\n",
      "\tat java.io.ObjectInputStream.readObject0(ObjectInputStream.java:1668)\n",
      "\tat java.io.ObjectInputStream.readObject(ObjectInputStream.java:502)\n",
      "\tat java.io.ObjectInputStream.readObject(ObjectInputStream.java:460)\n",
      "\tat org.apache.spark.serializer.JavaDeserializationStream.readObject(JavaSerializer.scala:87)\n",
      "\tat org.apache.spark.serializer.JavaSerializerInstance.deserialize(JavaSerializer.scala:129)\n",
      "\tat org.apache.spark.scheduler.ShuffleMapTask.runTask(ShuffleMapTask.scala:87)\n",
      "\tat org.apache.spark.scheduler.ShuffleMapTask.runTask(ShuffleMapTask.scala:53)\n",
      "\tat org.apache.spark.TaskContext.runTaskWithListeners(TaskContext.scala:161)\n",
      "\tat org.apache.spark.scheduler.Task.run(Task.scala:139)\n",
      "\tat org.apache.spark.executor.Executor$TaskRunner.$anonfun$run$3(Executor.scala:554)\n",
      "\tat org.apache.spark.util.Utils$.tryWithSafeFinally(Utils.scala:1529)\n",
      "\tat org.apache.spark.executor.Executor$TaskRunner.run(Executor.scala:557)\n",
      "\tat java.util.concurrent.ThreadPoolExecutor.runWorker(ThreadPoolExecutor.java:1149)\n",
      "\tat java.util.concurrent.ThreadPoolExecutor$Worker.run(ThreadPoolExecutor.java:624)\n",
      "\tat java.lang.Thread.run(Thread.java:750)\n",
      "Caused by: java.lang.reflect.InvocationTargetException\n",
      "\tat sun.reflect.NativeMethodAccessorImpl.invoke0(Native Method)\n",
      "\tat sun.reflect.NativeMethodAccessorImpl.invoke(NativeMethodAccessorImpl.java:62)\n",
      "\tat sun.reflect.DelegatingMethodAccessorImpl.invoke(DelegatingMethodAccessorImpl.java:43)\n",
      "\tat java.lang.reflect.Method.invoke(Method.java:498)\n",
      "\tat java.lang.invoke.SerializedLambda.readResolve(SerializedLambda.java:230)\n",
      "\tat sun.reflect.GeneratedMethodAccessor78.invoke(Unknown Source)\n",
      "\tat sun.reflect.DelegatingMethodAccessorImpl.invoke(DelegatingMethodAccessorImpl.java:43)\n",
      "\tat java.lang.reflect.Method.invoke(Method.java:498)\n",
      "\tat java.io.ObjectStreamClass.invokeReadResolve(ObjectStreamClass.java:1274)\n",
      "\t... 122 more\n",
      "Caused by: java.lang.BootstrapMethodError: call site initialization exception\n",
      "\tat java.lang.invoke.CallSite.makeSite(CallSite.java:341)\n",
      "\tat java.lang.invoke.MethodHandleNatives.linkCallSiteImpl(MethodHandleNatives.java:307)\n",
      "\tat java.lang.invoke.MethodHandleNatives.linkCallSite(MethodHandleNatives.java:297)\n",
      "\tat org.apache.spark.sql.execution.window.WindowExecBase.$deserializeLambda$(WindowExecBase.scala)\n",
      "\t... 131 more\n",
      "Caused by: java.lang.NullPointerException\n",
      "\tat java.lang.invoke.CallSite.makeSite(CallSite.java:325)\n",
      "\t... 134 more\n",
      "\n"
     ]
    },
    {
     "name": "stderr",
     "output_type": "stream",
     "text": [
      "[Stage 36:=====================================================>(166 + 1) / 167]\r"
     ]
    },
    {
     "name": "stdout",
     "output_type": "stream",
     "text": [
      "+----+----+------------------+--------------------+\n",
      "| Año| Mes|Número_de_Personas|Número_de_Atenciones|\n",
      "+----+----+------------------+--------------------+\n",
      "|2021|   3|           2267553|            18766382|\n",
      "|2021|  11|           2687291|            31152014|\n",
      "|2021|   2|           2036350|            14960822|\n",
      "|2021|   7|           3482882|            52925160|\n",
      "|2021|   5|           2421314|            25209590|\n",
      "|2021|   1|           1171941|             9507549|\n",
      "|2021|  12|           2741574|            36575220|\n",
      "|2021|   8|           3467409|            52586249|\n",
      "|2021|   9|           3748318|            57630256|\n",
      "|2021|   6|           3450735|            47918268|\n",
      "|2021|  10|           2842535|            39670851|\n",
      "|2021|   4|           2176280|            19931429|\n",
      "|null|null|                 2|                   2|\n",
      "+----+----+------------------+--------------------+\n",
      "\n"
     ]
    },
    {
     "name": "stderr",
     "output_type": "stream",
     "text": [
      "\r",
      "                                                                                \r"
     ]
    }
   ],
   "source": [
    "# Seleccionar solo las columnas deseadas\n",
    "columns_to_keep = [\n",
    "    'personaid', 'codigoprocedimiento', 'tipoeventoripsdesc', 'fechaid',\n",
    "    'sexodesc', 'tipodiagnosticoprincipalcd', 'edad', 'dxegreso', 'dxprincipal', 'municipiocd', 'personaid_count'\n",
    "]\n",
    "df_filtered = df2.select(*columns_to_keep)\n",
    "\n",
    "# Convertir 'fechaid' a tipo fecha si es necesario\n",
    "df_filtered = df_filtered.withColumn('fechaid', F.to_date('fechaid', 'yyyyMMdd'))\n",
    "\n",
    "# Extraer año y mes de la columna 'fechaid'\n",
    "df_filtered = df_filtered.withColumn('Año', F.year('fechaid'))\n",
    "df_filtered = df_filtered.withColumn('Mes', F.month('fechaid'))\n",
    "\n",
    "# Agrupar por año y mes\n",
    "result_df = df_filtered.groupBy('Año', 'Mes').agg(\n",
    "    F.countDistinct('personaid').alias('Número_de_Personas'),\n",
    "    F.sum('personaid_count').alias('Número_de_Atenciones')\n",
    ")\n",
    "\n",
    "# Filtrar para mostrar los resultados de enero para comprobar\n",
    "#result_january = result_df.filter((F.col('Año') == 2022) & (F.col('Mes') == 1))\n",
    "\n",
    "# Mostrar los resultados para enero\n",
    "#result_january.show()\n",
    "\n",
    "# Mostrar las primeras filas del DataFrame completo para verificar\n",
    "result_df.show()\n",
    "\n",
    "# Imprimir los nombres de las columnas agrupadas para verificar\n",
    "#print(\"Nombres de las columnas agrupadas:\")\n",
    "#print(result_df.columns)"
   ]
  },
  {
   "cell_type": "code",
   "execution_count": 19,
   "id": "ac6341ef",
   "metadata": {},
   "outputs": [
    {
     "name": "stderr",
     "output_type": "stream",
     "text": [
      "[Stage 42:=====================================================>(166 + 1) / 167]\r"
     ]
    },
    {
     "name": "stdout",
     "output_type": "stream",
     "text": [
      "+----+----+------------------+--------------------+\n",
      "| Año| Mes|Número_de_Personas|Número_de_Atenciones|\n",
      "+----+----+------------------+--------------------+\n",
      "|2021|   3|           2247344|            18499308|\n",
      "|2021|  11|           2695872|            31151131|\n",
      "|2021|   2|           2044908|            14948745|\n",
      "|2021|   7|           3501982|            53036566|\n",
      "|2021|   5|           2400304|            24842570|\n",
      "|2021|   1|           1175290|             9543987|\n",
      "|2021|  12|           2832276|            38682657|\n",
      "|2021|   8|           3465880|            52133352|\n",
      "|2021|   9|           3734553|            57605925|\n",
      "|2021|   6|           3416121|            47485418|\n",
      "|2021|  10|           2817672|            39111292|\n",
      "|2021|   4|           2161980|            19792839|\n",
      "|null|null|                 2|                   2|\n",
      "+----+----+------------------+--------------------+\n",
      "\n"
     ]
    },
    {
     "name": "stderr",
     "output_type": "stream",
     "text": [
      "\r",
      "                                                                                \r"
     ]
    }
   ],
   "source": [
    "result_df.show()"
   ]
  },
  {
   "cell_type": "markdown",
   "id": "32d6cd35",
   "metadata": {},
   "source": [
    "Modificar el nombre del archivo segun corresponda el año"
   ]
  },
  {
   "cell_type": "code",
   "execution_count": 20,
   "id": "179ec440",
   "metadata": {},
   "outputs": [
    {
     "name": "stderr",
     "output_type": "stream",
     "text": [
      "                                                                                \r"
     ]
    }
   ],
   "source": [
    "#se escribe el parquet tabla 1\n",
    "result_df.write.parquet(\"hdfs:/analyticsdata/1.Tabla_anio_mes_atenciones_2021.parquet\") "
   ]
  },
  {
   "cell_type": "markdown",
   "id": "e3c823ae",
   "metadata": {},
   "source": [
    "# 2. Agrupado por año, mes y sexo"
   ]
  },
  {
   "cell_type": "code",
   "execution_count": 21,
   "id": "91e26ad2",
   "metadata": {},
   "outputs": [
    {
     "name": "stderr",
     "output_type": "stream",
     "text": [
      "[Stage 54:===================================================>  (160 + 7) / 167]\r"
     ]
    },
    {
     "name": "stdout",
     "output_type": "stream",
     "text": [
      "+----+----+-----------+------------------+--------------------+\n",
      "| Año| Mes|   sexodesc|Número_de_Personas|Número_de_Atenciones|\n",
      "+----+----+-----------+------------------+--------------------+\n",
      "|2021|   3|   FEMENINO|           1265355|            11231956|\n",
      "|2021|   3|       null|              2318|               36396|\n",
      "|2021|  12|NO DEFINIDO|              9194|               61863|\n",
      "|2021|   5|  MASCULINO|           1095451|             9950472|\n",
      "|2021|  11|       null|              4640|               67634|\n",
      "|2021|  12|   FEMENINO|           1550401|            22891776|\n",
      "|2021|  10|   FEMENINO|           1627924|            24773170|\n",
      "|2021|   4|   FEMENINO|           1190153|            11920990|\n",
      "|2021|   2|       null|              1866|               24763|\n",
      "|2021|   1|  MASCULINO|            541126|             3999230|\n",
      "|2021|   6|  MASCULINO|           1496615|            18034051|\n",
      "|2021|   9|NO DEFINIDO|              9497|               69136|\n",
      "|2021|  11|  MASCULINO|           1141447|            11724913|\n",
      "|2021|   3|NO DEFINIDO|              2957|               16025|\n",
      "|2021|   8|   FEMENINO|           2012776|            33108437|\n",
      "|2021|   4|  MASCULINO|            976591|             7967328|\n",
      "|2021|   7|       null|              4473|              103197|\n",
      "|2021|   3|  MASCULINO|           1020026|             7510889|\n",
      "|2021|   1|   FEMENINO|            621941|             5428945|\n",
      "|2021|   1|NO DEFINIDO|              1085|                5974|\n",
      "|2021|   5|       null|              2618|               48160|\n",
      "|2021|   1|       null|              1057|               18633|\n",
      "|2021|   4|NO DEFINIDO|              3388|               18560|\n",
      "|2021|  12|       null|              5391|               92664|\n",
      "|2021|   5|NO DEFINIDO|              4360|               23828|\n",
      "|2021|   8|       null|              4545|              117513|\n",
      "|2021|   2|  MASCULINO|            885749|             5968818|\n",
      "|2021|   9|   FEMENINO|           2163499|            36132758|\n",
      "|2021|   8|  MASCULINO|           1443622|            19279400|\n",
      "|2021|  10|NO DEFINIDO|              8422|               55834|\n",
      "|2021|  11|NO DEFINIDO|              9394|               50428|\n",
      "|2021|   9|       null|              5297|              116006|\n",
      "|2021|   6|   FEMENINO|           1926429|            29655410|\n",
      "|2021|   7|   FEMENINO|           1999520|            33332098|\n",
      "|2021|  12|  MASCULINO|           1207960|            14376631|\n",
      "|2021|   9|  MASCULINO|           1558424|            21133597|\n",
      "|2021|   7|NO DEFINIDO|              6757|               49163|\n",
      "|2021|   7|  MASCULINO|           1478582|            19575557|\n",
      "|2021|   6|       null|              3764|               81201|\n",
      "|2021|   8|NO DEFINIDO|              6962|               56064|\n",
      "|2021|  10|  MASCULINO|           1187615|            14494997|\n",
      "|2021|  10|       null|              4187|               78698|\n",
      "|2021|   2|   FEMENINO|           1159340|             9000152|\n",
      "|2021|   2|NO DEFINIDO|              1987|               10320|\n",
      "|2021|   6|NO DEFINIDO|              6221|               42109|\n",
      "|2021|  11|   FEMENINO|           1521961|            19086338|\n",
      "|2021|   4|       null|              2154|               42170|\n",
      "|2021|   5|   FEMENINO|           1309097|            14968942|\n",
      "|2021|   7| INDEFINIDO|                 3|                  21|\n",
      "|2021|  12| INDEFINIDO|                 7|                 119|\n",
      "|2021|  10| INDEFINIDO|                 5|                  25|\n",
      "|2021|   3| INDEFINIDO|                 3|                  78|\n",
      "|2021|   8| INDEFINIDO|                 5|                  53|\n",
      "|2021|   6| INDEFINIDO|                10|                 159|\n",
      "|2021|   1| INDEFINIDO|                 2|                  19|\n",
      "|null|null|       null|                 2|                   2|\n",
      "|2021|   4| INDEFINIDO|                 2|                  16|\n",
      "|2021|   5| INDEFINIDO|                 3|                   7|\n",
      "|2021|   9| INDEFINIDO|                 2|                  94|\n",
      "|2021|  11| INDEFINIDO|                 2|                   5|\n",
      "+----+----+-----------+------------------+--------------------+\n",
      "\n",
      "Nombres de las columnas agrupadas:\n",
      "['Año', 'Mes', 'sexodesc', 'Número_de_Personas', 'Número_de_Atenciones']\n"
     ]
    },
    {
     "name": "stderr",
     "output_type": "stream",
     "text": [
      "\r",
      "                                                                                \r"
     ]
    }
   ],
   "source": [
    "\n",
    "# Seleccionar solo las columnas deseadas\n",
    "columns_to_keep = [\n",
    "    'personaid', 'codigoprocedimiento', 'tipoeventoripsdesc', 'fechaid',\n",
    "    'sexodesc', 'tipodiagnosticoprincipalcd', 'edad', 'dxegreso', 'dxprincipal', 'municipiocd', 'personaid_count'\n",
    "]\n",
    "df_filtered = df2.select(*columns_to_keep)\n",
    "\n",
    "# Convertir 'fechaid' a tipo fecha si es necesario\n",
    "df_filtered = df_filtered.withColumn('fechaid', F.to_date('fechaid', 'yyyyMMdd'))\n",
    "\n",
    "# Extraer año y mes de la columna 'fechaid'\n",
    "df_filtered = df_filtered.withColumn('Año', F.year('fechaid'))\n",
    "df_filtered = df_filtered.withColumn('Mes', F.month('fechaid'))\n",
    "\n",
    "# Agrupar por año, mes y sexodesc\n",
    "result_df = df_filtered.groupBy('Año', 'Mes', 'sexodesc').agg(\n",
    "    F.countDistinct('personaid').alias('Número_de_Personas'),\n",
    "    F.sum('personaid_count').alias('Número_de_Atenciones')\n",
    ")\n",
    "\n",
    "# Mostrar los resultados\n",
    "result_df.show(100)\n",
    "\n",
    "# Imprimir los nombres de las columnas agrupadas para verificar\n",
    "print(\"Nombres de las columnas agrupadas:\")\n",
    "print(result_df.columns)\n"
   ]
  },
  {
   "cell_type": "markdown",
   "id": "256b1fd2",
   "metadata": {},
   "source": []
  },
  {
   "cell_type": "code",
   "execution_count": 22,
   "id": "fec1b58c",
   "metadata": {},
   "outputs": [
    {
     "name": "stderr",
     "output_type": "stream",
     "text": [
      "                                                                                \r"
     ]
    }
   ],
   "source": [
    "#se escribe el parquet tabla 2\n",
    "result_df.write.parquet(\"hdfs:/analyticsdata/2.Tabla_anio_mes_sexo_2021.parquet\") "
   ]
  },
  {
   "cell_type": "markdown",
   "id": "91886959",
   "metadata": {},
   "source": [
    "# 3. Agrupado por año, mes y municipio"
   ]
  },
  {
   "cell_type": "code",
   "execution_count": 23,
   "id": "9b7531a2",
   "metadata": {},
   "outputs": [
    {
     "name": "stderr",
     "output_type": "stream",
     "text": [
      "[Stage 66:=====================================================>(166 + 1) / 167]\r"
     ]
    },
    {
     "name": "stdout",
     "output_type": "stream",
     "text": [
      "+----+---+-----------+------------------+--------------------+\n",
      "| Año|Mes|municipiocd|Número_de_Personas|Número_de_Atenciones|\n",
      "+----+---+-----------+------------------+--------------------+\n",
      "|2021|  7|      19355|               706|                8036|\n",
      "|2021|  3|      44090|              1435|                7991|\n",
      "|2021| 12|      20238|              2069|               29588|\n",
      "|2021|  2|      86885|              1171|               12740|\n",
      "|2021|  4|      41359|              1716|               12265|\n",
      "|2021|  1|      19824|               168|                1380|\n",
      "|2021|  6|      19573|              4344|               64056|\n",
      "|2021|  7|      27150|               244|                2612|\n",
      "|2021|  4|      70265|              1017|                7288|\n",
      "|2021|  6|      23574|               757|                8522|\n",
      "|2021|  5|      44420|               271|                2691|\n",
      "|2021|  3|      05861|               174|                 835|\n",
      "|2021|  9|      68245|               200|                2766|\n",
      "|2021| 11|      08141|               119|                2150|\n",
      "|2021|  3|      76895|              1964|               20181|\n",
      "|2021|  8|      99001|              1541|               20181|\n",
      "|2021|  5|      76036|               868|               11354|\n",
      "|2021|  8|      05051|               847|                9953|\n",
      "|2021|  9|      41801|               686|               11161|\n",
      "|2021| 11|      54239|                77|                 613|\n",
      "|2021|  7|      86755|               203|                2460|\n",
      "|2021|  8|      25599|               575|                7739|\n",
      "|2021|  4|      13620|               393|                3967|\n",
      "|2021|  2|      70204|               555|                3075|\n",
      "|2021|  4|      73770|               106|                 892|\n",
      "|2021|  7|      25488|               275|                4009|\n",
      "|2021| 10|      47001|             31446|              453855|\n",
      "|2021| 11|      76622|              2590|               42891|\n",
      "|2021|  7|      19698|              4840|               83616|\n",
      "|2021| 10|      66170|             11224|              173134|\n",
      "|2021|  4|      25843|              2705|               23074|\n",
      "|2021|  8|      41378|              1358|               17326|\n",
      "|2021|  9|      68324|               324|                5671|\n",
      "|2021|  9|      66687|              1146|               16872|\n",
      "|2021|  5|      13894|               766|                8533|\n",
      "|2021|  4|      19450|               566|                4992|\n",
      "|2021|  3|      25001|               673|                7278|\n",
      "|2021|  9|      13030|               486|                7413|\n",
      "|2021|  3|      25407|               299|                2264|\n",
      "|2021|  8|      15600|               265|                4452|\n",
      "|2021| 12|      25148|               261|                3623|\n",
      "|2021|  3|      73563|               218|                1492|\n",
      "|2021|  3|      41807|               450|                4009|\n",
      "|2021| 10|      15531|               380|                6146|\n",
      "|2021|  9|      52621|               128|                2972|\n",
      "|2021|  3|      25867|               145|                2240|\n",
      "|2021|  4|      17444|               372|                3097|\n",
      "|2021|  1|      15051|                33|                  92|\n",
      "|2021|  8|      66400|              2795|               52026|\n",
      "|2021|  6|      19001|             17497|              337262|\n",
      "|2021| 12|      50606|              1363|               23064|\n",
      "|2021| 11|      50006|              3208|               36353|\n",
      "|2021|  2|      25258|              1465|                7638|\n",
      "|2021|  8|      54051|               440|                3819|\n",
      "|2021|  4|      86001|              3890|               43852|\n",
      "|2021|  7|      25040|               443|                8594|\n",
      "|2021|  9|      68773|               561|                8659|\n",
      "|2021|  8|      68250|               303|                4581|\n",
      "|2021|  9|      25099|               607|                9167|\n",
      "|2021|  4|      68147|               545|                2826|\n",
      "|2021|  2|      25386|              1021|               13350|\n",
      "|2021| 12|      19845|               911|               12874|\n",
      "|2021| 11|      05761|               102|                 721|\n",
      "|2021|  7|      13188|               743|               11288|\n",
      "|2021| 12|      54377|               328|                7069|\n",
      "|2021|  6|      15114|                56|                1012|\n",
      "|2021| 12|      25426|               279|                4591|\n",
      "|2021|  2|      05315|                46|                  81|\n",
      "|2021|  9|      05129|              7799|               89795|\n",
      "|2021|  5|      05129|              3987|               31160|\n",
      "|2021|  3|      08573|              1986|               13161|\n",
      "|2021|  4|      05631|              3285|               22892|\n",
      "|2021|  3|      05541|               618|                2447|\n",
      "|2021|  5|      70001|             20168|              200143|\n",
      "|2021|  2|      17013|               610|                3977|\n",
      "|2021|  9|      41132|              3425|               59531|\n",
      "|2021|  9|      17013|              2010|               24897|\n",
      "|2021|  9|      85263|               933|               10493|\n",
      "|2021|  7|      85230|               712|                4370|\n",
      "|2021|  6|      68855|               480|                7654|\n",
      "|2021|  4|      15806|               443|                3963|\n",
      "|2021|  2|      18247|               346|                2762|\n",
      "|2021| 11|      70265|               481|                3936|\n",
      "|2021|  9|      15810|                92|                2198|\n",
      "|2021|  1|      25740|               478|                3662|\n",
      "|2021|  2|      15403|                73|                 442|\n",
      "|2021|  7|      15720|                97|                2022|\n",
      "|2021|  6|      25754|             27520|              379860|\n",
      "|2021| 11|      23417|              3849|               21684|\n",
      "|2021|  9|      70124|               313|                5039|\n",
      "|2021|  5|      86001|              2787|               36404|\n",
      "|2021|  8|      76828|              1500|               18074|\n",
      "|2021|  3|      15092|                38|                 187|\n",
      "|2021|  3|      47692|               952|                9284|\n",
      "|2021|  4|      08436|               256|                4239|\n",
      "|2021| 12|      23168|               564|                9028|\n",
      "|2021|  5|      41306|               910|                7360|\n",
      "|2021|  4|      19022|               669|                6148|\n",
      "|2021| 11|      23419|               414|                2432|\n",
      "|2021| 12|      76828|               777|                7139|\n",
      "+----+---+-----------+------------------+--------------------+\n",
      "only showing top 100 rows\n",
      "\n",
      "Nombres de las columnas agrupadas:\n",
      "['Año', 'Mes', 'municipiocd', 'Número_de_Personas', 'Número_de_Atenciones']\n"
     ]
    },
    {
     "name": "stderr",
     "output_type": "stream",
     "text": [
      "\r",
      "                                                                                \r"
     ]
    }
   ],
   "source": [
    "\n",
    "# Seleccionar solo las columnas deseadas\n",
    "columns_to_keep = [\n",
    "    'personaid', 'codigoprocedimiento', 'tipoeventoripsdesc', 'fechaid',\n",
    "    'sexodesc', 'tipodiagnosticoprincipalcd', 'edad', 'dxegreso', 'dxprincipal', 'municipiocd', 'personaid_count'\n",
    "]\n",
    "df_filtered = df2.select(*columns_to_keep)\n",
    "\n",
    "# Convertir 'fechaid' a tipo fecha si es necesario\n",
    "df_filtered = df_filtered.withColumn('fechaid', F.to_date('fechaid', 'yyyyMMdd'))\n",
    "\n",
    "# Extraer año y mes de la columna 'fechaid'\n",
    "df_filtered = df_filtered.withColumn('Año', F.year('fechaid'))\n",
    "df_filtered = df_filtered.withColumn('Mes', F.month('fechaid'))\n",
    "\n",
    "# Agrupar por año, mes y municipioid\n",
    "result_df = df_filtered.groupBy('Año', 'Mes', 'municipiocd').agg(\n",
    "    F.countDistinct('personaid').alias('Número_de_Personas'),\n",
    "    F.sum('personaid_count').alias('Número_de_Atenciones')\n",
    ")\n",
    "\n",
    "# Mostrar los resultados\n",
    "result_df.show(100)\n",
    "\n",
    "# Imprimir los nombres de las columnas agrupadas para verificar\n",
    "print(\"Nombres de las columnas agrupadas:\")\n",
    "print(result_df.columns)\n"
   ]
  },
  {
   "cell_type": "code",
   "execution_count": 24,
   "id": "3b729f69",
   "metadata": {},
   "outputs": [
    {
     "name": "stderr",
     "output_type": "stream",
     "text": [
      "                                                                                \r"
     ]
    }
   ],
   "source": [
    "#se escribe el parquet tabla 3\n",
    "result_df.write.parquet(\"hdfs:/analyticsdata/3.Tabla_anio_mes_municipio_2021.parquet\") "
   ]
  },
  {
   "cell_type": "markdown",
   "id": "5a228e1c",
   "metadata": {},
   "source": [
    "# 4. Agrupado por año, mes y tipoeventoripsdesc"
   ]
  },
  {
   "cell_type": "code",
   "execution_count": 25,
   "id": "ee40d136",
   "metadata": {},
   "outputs": [
    {
     "name": "stderr",
     "output_type": "stream",
     "text": [
      "[Stage 78:=====================================================>(166 + 1) / 167]\r"
     ]
    },
    {
     "name": "stdout",
     "output_type": "stream",
     "text": [
      "+----+----+--------------------+------------------+--------------------+\n",
      "| Año| Mes|  tipoeventoripsdesc|Número_de_Personas|Número_de_Atenciones|\n",
      "+----+----+--------------------+------------------+--------------------+\n",
      "|2021|   1|PROCEDIMIENTOS DE...|            496098|             3699544|\n",
      "|2021|  11|PROCEDIMIENTOS DE...|            954424|            12218237|\n",
      "|2021|   1|           CONSULTAS|            618321|             5180151|\n",
      "|2021|   4|PROCEDIMIENTOS DE...|            748304|             6877939|\n",
      "|2021|   9|           CONSULTAS|           2222993|            33466015|\n",
      "|2021|   5|           URGENCIAS|             57964|              692952|\n",
      "|2021|   3|PROCEDIMIENTOS DE...|            727081|             6241197|\n",
      "|2021|   4|           URGENCIAS|             45084|              492889|\n",
      "|2021|  12|           URGENCIAS|             42484|              649559|\n",
      "|2021|   2|PROCEDIMIENTOS DE...|            699808|             5002813|\n",
      "|2021|   5|           CONSULTAS|           1487559|            16132484|\n",
      "|2021|  10|PROCEDIMIENTOS DE...|           1122852|            15283328|\n",
      "|2021|   6|   HOSPITALIZACIONES|             13888|              429909|\n",
      "|2021|   5|   HOSPITALIZACIONES|             14144|              390370|\n",
      "|2021|  12|PROCEDIMIENTOS DE...|           1042545|            13860293|\n",
      "|2021|  11|           URGENCIAS|             53581|              598475|\n",
      "|2021|   9|PROCEDIMIENTOS DE...|           1444729|            22148140|\n",
      "|2021|   2|           CONSULTAS|           1255433|             9159637|\n",
      "|2021|   6|           URGENCIAS|             64618|              919619|\n",
      "|2021|   4|   HOSPITALIZACIONES|             14151|              396284|\n",
      "|2021|   3|           CONSULTAS|           1458298|            11543950|\n",
      "|2021|   8|           URGENCIAS|             64545|              865032|\n",
      "|2021|  10|           URGENCIAS|             60809|              718454|\n",
      "|2021|  11|           CONSULTAS|           1687614|            17882182|\n",
      "|2021|   8|   HOSPITALIZACIONES|             20800|              891765|\n",
      "|2021|   4|           CONSULTAS|           1370357|            12210380|\n",
      "|2021|   5|PROCEDIMIENTOS DE...|            846318|             7869774|\n",
      "|2021|   7|           CONSULTAS|           2316506|            37497008|\n",
      "|2021|   3|   HOSPITALIZACIONES|             15638|              408727|\n",
      "|2021|   9|           URGENCIAS|             65941|              825005|\n",
      "|2021|   7|PROCEDIMIENTOS DE...|           1086647|            14165770|\n",
      "|2021|  12|   HOSPITALIZACIONES|              9430|              169183|\n",
      "|2021|   9|   HOSPITALIZACIONES|             23659|             1085939|\n",
      "|2021|  11|   HOSPITALIZACIONES|             14144|              389121|\n",
      "|2021|   3|           URGENCIAS|             47439|              395889|\n",
      "|2021|   8|           CONSULTAS|           2114687|            32745900|\n",
      "|2021|   1|           URGENCIAS|             30687|              286043|\n",
      "|2021|   7|   HOSPITALIZACIONES|             13249|              401941|\n",
      "|2021|   1|   HOSPITALIZACIONES|             12175|              267430|\n",
      "|2021|   2|           URGENCIAS|             39259|              337084|\n",
      "|2021|   8|PROCEDIMIENTOS DE...|           1294650|            18421938|\n",
      "|2021|   7|           URGENCIAS|             68432|              966755|\n",
      "|2021|  10|   HOSPITALIZACIONES|             20338|              872288|\n",
      "|2021|  10|           CONSULTAS|           1648570|            22753239|\n",
      "|2021|   6|PROCEDIMIENTOS DE...|           1232467|            13792840|\n",
      "|2021|   6|           CONSULTAS|           2122575|            32725915|\n",
      "|2021|   2|   HOSPITALIZACIONES|             12431|              311596|\n",
      "|2021|  12|           CONSULTAS|           1670456|            22192807|\n",
      "|null|null|                null|                 2|                   2|\n",
      "+----+----+--------------------+------------------+--------------------+\n",
      "\n",
      "Nombres de las columnas agrupadas:\n",
      "['Año', 'Mes', 'tipoeventoripsdesc', 'Número_de_Personas', 'Número_de_Atenciones']\n"
     ]
    },
    {
     "name": "stderr",
     "output_type": "stream",
     "text": [
      "\r",
      "                                                                                \r"
     ]
    }
   ],
   "source": [
    "# Seleccionar solo las columnas deseadas\n",
    "columns_to_keep = [\n",
    "    'personaid', 'codigoprocedimiento', 'tipoeventoripsdesc', 'fechaid',\n",
    "    'sexodesc', 'tipodiagnosticoprincipalcd', 'edad', 'dxegreso', 'dxprincipal', 'municipiocd', 'personaid_count'\n",
    "]\n",
    "df_filtered = df2.select(*columns_to_keep)\n",
    "\n",
    "# Convertir 'fechaid' a tipo fecha si es necesario\n",
    "df_filtered = df_filtered.withColumn('fechaid', F.to_date('fechaid', 'yyyyMMdd'))\n",
    "\n",
    "# Extraer año y mes de la columna 'fechaid'\n",
    "df_filtered = df_filtered.withColumn('Año', F.year('fechaid'))\n",
    "df_filtered = df_filtered.withColumn('Mes', F.month('fechaid'))\n",
    "\n",
    "# Agrupar por año, mes y tipoeventoripsdesc\n",
    "result_df = df_filtered.groupBy('Año', 'Mes', 'tipoeventoripsdesc').agg(\n",
    "    F.countDistinct('personaid').alias('Número_de_Personas'),\n",
    "    F.sum('personaid_count').alias('Número_de_Atenciones')\n",
    ")\n",
    "\n",
    "# Mostrar los resultados\n",
    "result_df.show(100)\n",
    "\n",
    "# Imprimir los nombres de las columnas agrupadas para verificar\n",
    "print(\"Nombres de las columnas agrupadas:\")\n",
    "print(result_df.columns)"
   ]
  },
  {
   "cell_type": "code",
   "execution_count": 26,
   "id": "ed4a49a9",
   "metadata": {},
   "outputs": [
    {
     "name": "stderr",
     "output_type": "stream",
     "text": [
      "                                                                                \r"
     ]
    }
   ],
   "source": [
    "#se escribe el parquet tabla 4\n",
    "result_df.write.parquet(\"hdfs:/analyticsdata/4.Tabla_anio_mes_tipoeventoripsdesc_2021.parquet\") "
   ]
  },
  {
   "cell_type": "markdown",
   "id": "aa460a54",
   "metadata": {},
   "source": [
    "# 5. Agrupado por año, mes y tipodiagnosticoprincipalcd"
   ]
  },
  {
   "cell_type": "code",
   "execution_count": 27,
   "id": "ec7f5abf",
   "metadata": {},
   "outputs": [
    {
     "name": "stderr",
     "output_type": "stream",
     "text": [
      "[Stage 90:=====================================================>(166 + 1) / 167]\r"
     ]
    },
    {
     "name": "stdout",
     "output_type": "stream",
     "text": [
      "+----+----+--------------------------+------------------+--------------------+\n",
      "| Año| Mes|tipodiagnosticoprincipalcd|Número_de_Personas|Número_de_Atenciones|\n",
      "+----+----+--------------------------+------------------+--------------------+\n",
      "|2021|   3|                         1|            933470|             7452061|\n",
      "|2021|   3|                      null|            895896|             7830859|\n",
      "|2021|   2|                         3|            148555|             1186613|\n",
      "|2021|  10|                         3|            172608|             3634134|\n",
      "|2021|   7|                         2|            425890|             6614845|\n",
      "|2021|   3|                         3|            173826|             1555525|\n",
      "|2021|  11|                      null|           1026665|            13172951|\n",
      "|2021|  11|                         2|            298680|             3001399|\n",
      "|2021|  10|                         2|            296627|             4134483|\n",
      "|2021|   7|                         3|            303931|             6416586|\n",
      "|2021|   8|                         2|            406184|             6063591|\n",
      "|2021|  12|                         2|            343004|             4655556|\n",
      "|2021|  12|                         3|            207314|             3956486|\n",
      "|2021|   4|                         1|            868533|             7822428|\n",
      "|2021|  10|                         1|           1141048|            14731881|\n",
      "|2021|   6|                         1|           1372582|            20422985|\n",
      "|2021|   2|                      null|            824829|             6172268|\n",
      "|2021|   4|                         2|            271778|             2169268|\n",
      "|2021|   9|                         2|            405566|             5964414|\n",
      "|2021|   4|                         3|            162170|             1616877|\n",
      "|2021|  12|                         1|           1145760|            14235599|\n",
      "|2021|   7|                         1|           1562453|            23700097|\n",
      "|2021|   6|                         3|            305026|             5636762|\n",
      "|2021|   7|                      null|           1192777|            16121790|\n",
      "|2021|   5|                         2|            278138|             2804305|\n",
      "|2021|   1|                         1|            365846|             3168545|\n",
      "|2021|   5|                      null|            993727|             9669890|\n",
      "|2021|   9|                         1|           1530188|            21884834|\n",
      "|2021|   1|                      null|            593543|             4552105|\n",
      "|2021|   3|                         2|            295179|             2103181|\n",
      "|2021|   2|                         2|            256127|             1645295|\n",
      "|2021|  12|                      null|           1066884|            14377826|\n",
      "|2021|   8|                      null|           1394766|            20445244|\n",
      "|2021|   1|                         2|            138646|             1060425|\n",
      "|2021|  11|                         1|           1144241|            11861319|\n",
      "|2021|  11|                         3|            202074|             2984561|\n",
      "|2021|   5|                         3|            180159|             2321481|\n",
      "|2021|   8|                         3|            264864|             5611072|\n",
      "|2021|   9|                         3|            259308|             5503913|\n",
      "|2021|   9|                      null|           1545723|            24419489|\n",
      "|2021|   1|                         3|             70424|              716079|\n",
      "|2021|   6|                      null|           1337447|            15680469|\n",
      "|2021|  10|                      null|           1218296|            17059688|\n",
      "|2021|   5|                         1|            964891|            10285459|\n",
      "|2021|   2|                         1|            825514|             6022203|\n",
      "|2021|   8|                         1|           1392015|            20109916|\n",
      "|2021|   6|                         2|            421189|             5972205|\n",
      "|2021|   4|                      null|            869821|             8304828|\n",
      "|null|null|                      null|                 2|                   2|\n",
      "+----+----+--------------------------+------------------+--------------------+\n",
      "\n",
      "Nombres de las columnas agrupadas:\n",
      "['Año', 'Mes', 'tipodiagnosticoprincipalcd', 'Número_de_Personas', 'Número_de_Atenciones']\n"
     ]
    },
    {
     "name": "stderr",
     "output_type": "stream",
     "text": [
      "\r",
      "                                                                                \r"
     ]
    }
   ],
   "source": [
    "# Seleccionar solo las columnas deseadas\n",
    "columns_to_keep = [\n",
    "    'personaid', 'codigoprocedimiento', 'tipoeventoripsdesc', 'fechaid',\n",
    "    'sexodesc', 'tipodiagnosticoprincipalcd', 'edad', 'dxegreso', 'dxprincipal', 'municipiocd', 'personaid_count'\n",
    "]\n",
    "df_filtered = df2.select(*columns_to_keep)\n",
    "\n",
    "# Convertir 'fechaid' a tipo fecha si es necesario\n",
    "df_filtered = df_filtered.withColumn('fechaid', F.to_date('fechaid', 'yyyyMMdd'))\n",
    "\n",
    "# Extraer año y mes de la columna 'fechaid'\n",
    "df_filtered = df_filtered.withColumn('Año', F.year('fechaid'))\n",
    "df_filtered = df_filtered.withColumn('Mes', F.month('fechaid'))\n",
    "\n",
    "# Agrupar por año, mes y tipodiagnosticoprincipalcd\n",
    "result_df = df_filtered.groupBy('Año', 'Mes', 'tipodiagnosticoprincipalcd').agg(\n",
    "    F.countDistinct('personaid').alias('Número_de_Personas'),\n",
    "    F.sum('personaid_count').alias('Número_de_Atenciones')\n",
    ")\n",
    "\n",
    "# Mostrar los resultados\n",
    "result_df.show(100)\n",
    "\n",
    "# Imprimir los nombres de las columnas agrupadas para verificar\n",
    "print(\"Nombres de las columnas agrupadas:\")\n",
    "print(result_df.columns)"
   ]
  },
  {
   "cell_type": "raw",
   "id": "fa291206",
   "metadata": {},
   "source": []
  },
  {
   "cell_type": "code",
   "execution_count": 28,
   "id": "c5a5ba49",
   "metadata": {},
   "outputs": [
    {
     "name": "stderr",
     "output_type": "stream",
     "text": [
      "                                                                                \r"
     ]
    }
   ],
   "source": [
    "#se escribe el parquet tabla 5\n",
    "result_df.write.parquet(\"hdfs:/analyticsdata/5.Tabla_anio_mes_tipodiagnosticoprincipalcd_2021.parquet\") "
   ]
  },
  {
   "cell_type": "markdown",
   "id": "554cb620",
   "metadata": {},
   "source": [
    "# 6. Agrupado por año, mes y dxprincipal"
   ]
  },
  {
   "cell_type": "code",
   "execution_count": 29,
   "id": "6bc116f6",
   "metadata": {},
   "outputs": [
    {
     "name": "stderr",
     "output_type": "stream",
     "text": [
      "                                                                                \r"
     ]
    },
    {
     "name": "stdout",
     "output_type": "stream",
     "text": [
      "+----+---+-----------+------------------+--------------------+\n",
      "| Año|Mes|dxprincipal|Número_de_Personas|Número_de_Atenciones|\n",
      "+----+---+-----------+------------------+--------------------+\n",
      "|2021|  2|       S908|                78|                 393|\n",
      "|2021| 12|       Z008|             16222|              276873|\n",
      "|2021|  2|       F819|               323|                2465|\n",
      "|2021| 12|       Z278|              2907|               20232|\n",
      "|2021| 12|       N644|              1626|               15314|\n",
      "|2021|  6|       E119|             23206|              543798|\n",
      "|2021|  4|       O479|               760|               19564|\n",
      "|2021|  7|       B07X|              2573|               25428|\n",
      "|2021| 10|       O926|               121|                1572|\n",
      "|2021| 12|       N942|               124|                1563|\n",
      "|2021|  4|       B977|               344|                2982|\n",
      "|2021|  8|       F688|                91|                1073|\n",
      "|2021| 10|       F840|               520|               41819|\n",
      "|2021| 10|       Q660|               107|                1619|\n",
      "|2021|  2|       H46X|                25|                 203|\n",
      "|2021|  4|       G408|               422|                4536|\n",
      "|2021|  7|       H523|               154|                1525|\n",
      "|2021| 11|       F318|               385|                6100|\n",
      "|2021|  7|       L089|              1102|               15463|\n",
      "|2021|  3|       Y919|                64|                 508|\n",
      "|2021|  5|       D509|               921|               10123|\n",
      "|2021|  2|       Q525|                44|                 194|\n",
      "|2021|  4|       N049|                69|                2104|\n",
      "|2021|  9|       S501|               634|                6079|\n",
      "|2021|  9|       H488|               168|                1662|\n",
      "|2021|  4|       H811|              1306|               11319|\n",
      "|2021| 10|       M763|                37|                 587|\n",
      "|2021| 12|       A509|                80|                2028|\n",
      "|2021|  3|       C169|               186|                7509|\n",
      "|2021| 10|       N312|                11|                 200|\n",
      "|2021| 11|       K140|                17|                 176|\n",
      "|2021|  7|       T011|                19|                1163|\n",
      "|2021|  5|       H530|               292|                1486|\n",
      "|2021|  1|       N811|               106|                1360|\n",
      "|2021|  2|       I443|                 8|                 238|\n",
      "|2021|  8|       S399|                63|                1988|\n",
      "|2021| 10|       F910|               128|                1186|\n",
      "|2021|  4|       Z353|               111|                2358|\n",
      "|2021|  6|       L659|               146|                1479|\n",
      "|2021|  6|       Z940|               396|               16020|\n",
      "|2021|  5|       L218|               205|                1587|\n",
      "|2021|  9|       K571|                16|                 401|\n",
      "|2021|  7|       G453|                42|                 946|\n",
      "|2021|  3|          1|            265913|             2182904|\n",
      "|2021|  5|       R104|             23524|              276829|\n",
      "|2021| 12|       E119|             15925|              374674|\n",
      "|2021|  4|       A090|              1655|               12003|\n",
      "|2021| 11|       Z024|              4360|               16962|\n",
      "|2021|  8|       J039|              4588|               37917|\n",
      "|2021| 12|       I679|               825|               49316|\n",
      "|2021|  6|       J329|               523|                7139|\n",
      "|2021| 12|       K37X|               782|               15945|\n",
      "|2021|  9|       G441|               494|                7320|\n",
      "|2021|  3|       S004|                21|                  77|\n",
      "|2021| 10|       N602|               952|                9903|\n",
      "|2021|  9|       E440|               897|               20989|\n",
      "|2021|  8|       J450|              1370|               17771|\n",
      "|2021|  8|       I802|               113|                3673|\n",
      "|2021|  9|       D485|               551|                9288|\n",
      "|2021|  4|       M652|               102|                1059|\n",
      "|2021|  3|       E509|                 4|                  13|\n",
      "|2021|  9|       S909|               270|                2791|\n",
      "|2021| 12|       X238|                18|                 140|\n",
      "|2021|  8|       Q525|                49|                 511|\n",
      "|2021|  6|       L303|               432|                3257|\n",
      "|2021| 11|       S302|                55|                 331|\n",
      "|2021|  4|       Y910|                50|                 216|\n",
      "|2021|  4|       E116|               312|                5888|\n",
      "|2021|  6|       F609|                59|                 687|\n",
      "|2021|  1|       N761|               223|                1395|\n",
      "|2021| 10|       D751|                43|                 613|\n",
      "|2021|  7|       K612|                35|                 758|\n",
      "|2021|  7|       B309|               135|                1273|\n",
      "|2021| 12|       I802|                92|                2479|\n",
      "|2021|  1|       O808|                22|                 252|\n",
      "|2021|  7|       I350|               110|                4898|\n",
      "|2021|  5|       D043|                90|                1251|\n",
      "|2021| 10|       L811|               559|                5949|\n",
      "|2021| 11|       G822|                71|                2313|\n",
      "|2021|  6|       F208|               211|                4438|\n",
      "|2021|  2|       Z348|              1229|               26901|\n",
      "|2021| 12|       M229|                56|                 516|\n",
      "|2021|  6|       I831|               497|                8213|\n",
      "|2021|  2|       H186|               605|                2610|\n",
      "|2021|  9|       K292|                51|                 324|\n",
      "|2021|  6|       M939|               791|                7579|\n",
      "|2021|  1|       J019|               216|                1250|\n",
      "|2021|  5|       Z298|              3166|               15287|\n",
      "|2021| 11|       S900|              1467|               10199|\n",
      "|2021|  5|       S202|              1197|                8249|\n",
      "|2021| 11|       M791|              2004|               19852|\n",
      "|2021|  4|       B002|               126|                 776|\n",
      "|2021|  4|       R072|              1573|               16683|\n",
      "|2021|  5|       Y66X|              1982|               11837|\n",
      "|2021|  8|       B169|                33|                1151|\n",
      "|2021| 10|       C61X|               998|               35356|\n",
      "|2021|  7|       B830|                39|                 265|\n",
      "|2021| 11|       S860|               154|                2073|\n",
      "|2021|  6|       J399|               409|                5547|\n",
      "|2021| 12|       M758|               418|                5206|\n",
      "+----+---+-----------+------------------+--------------------+\n",
      "only showing top 100 rows\n",
      "\n",
      "Nombres de las columnas agrupadas:\n",
      "['Año', 'Mes', 'dxprincipal', 'Número_de_Personas', 'Número_de_Atenciones']\n"
     ]
    }
   ],
   "source": [
    "# Seleccionar solo las columnas deseadas\n",
    "columns_to_keep = [\n",
    "    'personaid', 'codigoprocedimiento', 'tipoeventoripsdesc', 'fechaid',\n",
    "    'sexodesc', 'tipodiagnosticoprincipalcd', 'edad', 'dxegreso', 'dxprincipal', 'municipiocd', 'personaid_count'\n",
    "]\n",
    "df_filtered = df2.select(*columns_to_keep)\n",
    "\n",
    "# Convertir 'fechaid' a tipo fecha si es necesario\n",
    "df_filtered = df_filtered.withColumn('fechaid', F.to_date('fechaid', 'yyyyMMdd'))\n",
    "\n",
    "# Extraer año y mes de la columna 'fechaid'\n",
    "df_filtered = df_filtered.withColumn('Año', F.year('fechaid'))\n",
    "df_filtered = df_filtered.withColumn('Mes', F.month('fechaid'))\n",
    "\n",
    "# Agrupar por año, mes y dxprincipal\n",
    "result_df = df_filtered.groupBy('Año', 'Mes', 'dxprincipal').agg(\n",
    "    F.countDistinct('personaid').alias('Número_de_Personas'),\n",
    "    F.sum('personaid_count').alias('Número_de_Atenciones')\n",
    ")\n",
    "\n",
    "# Mostrar los resultados\n",
    "result_df.show(100)\n",
    "\n",
    "# Imprimir los nombres de las columnas agrupadas para verificar\n",
    "print(\"Nombres de las columnas agrupadas:\")\n",
    "print(result_df.columns)"
   ]
  },
  {
   "cell_type": "raw",
   "id": "359a9696",
   "metadata": {},
   "source": []
  },
  {
   "cell_type": "code",
   "execution_count": 30,
   "id": "209c6271",
   "metadata": {},
   "outputs": [
    {
     "name": "stderr",
     "output_type": "stream",
     "text": [
      "                                                                                \r"
     ]
    }
   ],
   "source": [
    "#se escribe el parquet tabla 6\n",
    "result_df.write.parquet(\"hdfs:/analyticsdata/6.Tabla_anio_mes_dxprincipal_2021.parquet\") "
   ]
  },
  {
   "cell_type": "markdown",
   "id": "3c60e186",
   "metadata": {},
   "source": [
    "# 7. Agrupado por año, mes y codigoprocedimiento"
   ]
  },
  {
   "cell_type": "code",
   "execution_count": 31,
   "id": "b053ae8a",
   "metadata": {},
   "outputs": [
    {
     "name": "stderr",
     "output_type": "stream",
     "text": [
      "[Stage 114:====================================================>(165 + 2) / 167]\r"
     ]
    },
    {
     "name": "stdout",
     "output_type": "stream",
     "text": [
      "+----+---+-------------------+------------------+--------------------+\n",
      "| Año|Mes|codigoprocedimiento|Número_de_Personas|Número_de_Atenciones|\n",
      "+----+---+-------------------+------------------+--------------------+\n",
      "|2021|  9|             903841|             41811|              884156|\n",
      "|2021| 12|             240300|               341|                2324|\n",
      "|2021| 10|             881202|              2477|               41298|\n",
      "|2021|  2|             890208|             10951|              100181|\n",
      "|2021|  7|             890454|               307|               37755|\n",
      "|2021|  5|             873420|              2145|               17463|\n",
      "|2021|  6|             871050|               113|                1349|\n",
      "|2021|  8|             906423|                27|                1250|\n",
      "|2021|  1|             232200|               788|                5382|\n",
      "|2021|  8|             879122|               197|                1967|\n",
      "|2021| 11|             896101|               259|                4907|\n",
      "|2021|  6|             890110|               503|               70636|\n",
      "|2021|  9|             234401|               169|                2262|\n",
      "|2021|  6|             573201|               343|                5432|\n",
      "|2021| 10|             234301|               164|                1553|\n",
      "|2021|  7|             991800|               329|                4325|\n",
      "|2021|  8|             931501|                81|                1852|\n",
      "|2021|  2|             890443|                34|                2180|\n",
      "|2021| 11|             903839|               395|               17699|\n",
      "|2021|  3|                  1|             62555|              751858|\n",
      "|2021|  8|             890304|              6695|              111045|\n",
      "|2021| 10|             230102|              4157|               39042|\n",
      "|2021|  8|             512104|               280|                5626|\n",
      "|2021|  8|             863105|               256|                3345|\n",
      "|2021|  5|             870450|               212|                1200|\n",
      "|2021|  7|             231200|               701|                6761|\n",
      "|2021|  2|             890251|               260|                3782|\n",
      "|2021|  4|             903436|                85|                1156|\n",
      "|2021| 10|             549802|                99|                3854|\n",
      "|2021|  7|             906228|                58|                1383|\n",
      "|2021|  7|             890264|              3453|               83171|\n",
      "|2021| 10|             890701|            122379|             1593629|\n",
      "|2021| 11|             907106|             22327|              384417|\n",
      "|2021| 10|             906915|              5040|               68144|\n",
      "|2021| 11|             890602|              6994|              326568|\n",
      "|2021|  8|             881510|              1037|                7963|\n",
      "|2021| 11|             903437|               538|               11687|\n",
      "|2021|  6|             237902|                12|                 141|\n",
      "|2021|  2|             904921|              2188|               27896|\n",
      "|2021| 12|             903817|              2691|               56607|\n",
      "|2021| 10|             903844|               240|                6816|\n",
      "|2021| 11|             903705|                24|                 550|\n",
      "|2021|  9|             471102|               246|                3227|\n",
      "|2021|  2|             863101|               151|                 680|\n",
      "|2021|  3|             911017|               253|                4672|\n",
      "|2021|  7|             234105|               180|                1750|\n",
      "|2021|  2|             901213|               168|                 933|\n",
      "|2021|  9|             867106|                10|                 220|\n",
      "|2021|  6|             890309|              1910|               55363|\n",
      "|2021|  7|             903838|               277|               11188|\n",
      "|2021|  5|             861101|                80|                 872|\n",
      "|2021|  2|             234301|                68|                 290|\n",
      "|2021|  9|             247100|              1245|               14421|\n",
      "|2021|  6|             569002|                 8|                 161|\n",
      "|2021| 12|             890342|              4774|               55557|\n",
      "|2021|  6|             890503|               404|                5829|\n",
      "|2021|  3|             836001|                14|                 158|\n",
      "|2021|  7|             232101|             10359|              102294|\n",
      "|2021|  9|             981100|                81|                 627|\n",
      "|2021|  1|             903801|               780|                9724|\n",
      "|2021|  3|             873112|               210|                1708|\n",
      "|2021|  4|             990111|               332|                3016|\n",
      "|2021|  6|             890377|               162|                9753|\n",
      "|2021|  1|             871040|              1369|                8559|\n",
      "|2021|  4|             992901|                45|                 476|\n",
      "|2021| 12|             933601|               170|               12664|\n",
      "|2021|  9|             839500|                 3|                   8|\n",
      "|2021|  4|             130003|               234|                1974|\n",
      "|2021|  5|             890391|                36|                 855|\n",
      "|2021|  7|             903844|               231|                7030|\n",
      "|2021|  9|             890355|               250|                4962|\n",
      "|2021| 11|             997102|             10298|               84296|\n",
      "|2021|  7|             873112|               244|                2188|\n",
      "|2021|  8|             881362|                45|                 497|\n",
      "|2021|  5|             904510|                21|                 327|\n",
      "|2021|  1|             938302|                 7|                 288|\n",
      "|2021|  5|             247201|                76|                 350|\n",
      "|2021|  9|             890311|              3026|               77490|\n",
      "|2021|  9|             232104|               307|                3505|\n",
      "|2021|  5|             535204|                13|                  62|\n",
      "|2021|  4|             881620|               386|                2780|\n",
      "|2021| 11|             890409|               367|               14055|\n",
      "|2021|  4|             890328|               937|               20440|\n",
      "|2021| 12|             890236|               723|               10279|\n",
      "|2021|  8|             898001|             22313|              183008|\n",
      "|2021| 11|             906340|             12331|               74482|\n",
      "|2021|  1|             873431|               720|                4180|\n",
      "|2021|  6|             892901|             13787|              111533|\n",
      "|2021| 12|             990107|                52|                4115|\n",
      "|2021|  4|             898241|               286|                3408|\n",
      "|2021|  7|             903703|              1223|               25457|\n",
      "|2021|  1|             903883|               782|               20256|\n",
      "|2021| 11|             890401|              1202|               13915|\n",
      "|2021|  3|             902204|               501|                6808|\n",
      "|2021|  4|             872002|               332|                4076|\n",
      "|2021| 10|             853002|                50|                 226|\n",
      "|2021|  6|             894102|               286|                4807|\n",
      "|2021| 10|             906812|               108|                3964|\n",
      "|2021| 10|             890204|              1669|               18626|\n",
      "|2021|  9|             997310|             82488|              772934|\n",
      "+----+---+-------------------+------------------+--------------------+\n",
      "only showing top 100 rows\n",
      "\n",
      "Nombres de las columnas agrupadas:\n",
      "['Año', 'Mes', 'codigoprocedimiento', 'Número_de_Personas', 'Número_de_Atenciones']\n"
     ]
    },
    {
     "name": "stderr",
     "output_type": "stream",
     "text": [
      "\r",
      "                                                                                \r"
     ]
    }
   ],
   "source": [
    "# Seleccionar solo las columnas deseadas\n",
    "columns_to_keep = [\n",
    "    'personaid', 'codigoprocedimiento', 'tipoeventoripsdesc', 'fechaid',\n",
    "    'sexodesc', 'tipodiagnosticoprincipalcd', 'edad', 'dxegreso', 'dxprincipal', 'municipiocd', 'personaid_count'\n",
    "]\n",
    "df_filtered = df2.select(*columns_to_keep)\n",
    "\n",
    "# Convertir 'fechaid' a tipo fecha si es necesario\n",
    "df_filtered = df_filtered.withColumn('fechaid', F.to_date('fechaid', 'yyyyMMdd'))\n",
    "\n",
    "# Extraer año y mes de la columna 'fechaid'\n",
    "df_filtered = df_filtered.withColumn('Año', F.year('fechaid'))\n",
    "df_filtered = df_filtered.withColumn('Mes', F.month('fechaid'))\n",
    "\n",
    "# Agrupar por año, mes y codigoprocedimiento\n",
    "result_df = df_filtered.groupBy('Año', 'Mes', 'codigoprocedimiento').agg(\n",
    "    F.countDistinct('personaid').alias('Número_de_Personas'),\n",
    "    F.sum('personaid_count').alias('Número_de_Atenciones')\n",
    ")\n",
    "\n",
    "# Mostrar los resultados\n",
    "result_df.show(100)\n",
    "\n",
    "# Imprimir los nombres de las columnas agrupadas para verificar\n",
    "print(\"Nombres de las columnas agrupadas:\")\n",
    "print(result_df.columns)"
   ]
  },
  {
   "cell_type": "code",
   "execution_count": null,
   "id": "36e4c2b4",
   "metadata": {},
   "outputs": [],
   "source": []
  },
  {
   "cell_type": "code",
   "execution_count": 32,
   "id": "22784348",
   "metadata": {},
   "outputs": [
    {
     "name": "stderr",
     "output_type": "stream",
     "text": [
      "                                                                                \r"
     ]
    }
   ],
   "source": [
    "#se escribe el parquet tabla 7\n",
    "result_df.write.parquet(\"hdfs:/analyticsdata/7.Tabla_anio_mes_codigoprocedimiento_2021.parquet\") "
   ]
  },
  {
   "cell_type": "markdown",
   "id": "e76459e0",
   "metadata": {},
   "source": [
    "# 8. Agrupado por año, mes, municipio y sexo"
   ]
  },
  {
   "cell_type": "code",
   "execution_count": 33,
   "id": "35a3fad1",
   "metadata": {},
   "outputs": [
    {
     "name": "stderr",
     "output_type": "stream",
     "text": [
      "[Stage 126:====================================================>(166 + 1) / 167]\r"
     ]
    },
    {
     "name": "stdout",
     "output_type": "stream",
     "text": [
      "+----+---+-----------+-----------+------------------+--------------------+\n",
      "| Año|Mes|municipiocd|   sexodesc|Número_de_Personas|Número_de_Atenciones|\n",
      "+----+---+-----------+-----------+------------------+--------------------+\n",
      "|2021| 11|      05615|   FEMENINO|              6198|               67266|\n",
      "|2021|  7|      18001|   FEMENINO|              6994|              159086|\n",
      "|2021|  1|      44279|   FEMENINO|               743|                6541|\n",
      "|2021| 10|      68276|   FEMENINO|              7739|              112632|\n",
      "|2021| 10|      70742|   FEMENINO|               903|               13810|\n",
      "|2021|  9|      05129|   FEMENINO|              4615|               58179|\n",
      "|2021|  9|      25183|   FEMENINO|               432|                8126|\n",
      "|2021|  9|      73547|   FEMENINO|               170|                2641|\n",
      "|2021|  8|      70742|   FEMENINO|               995|               16378|\n",
      "|2021|  6|      13222|  MASCULINO|               378|                3945|\n",
      "|2021|  4|      20175|  MASCULINO|               603|                4593|\n",
      "|2021|  2|      47030|   FEMENINO|               213|                1115|\n",
      "|2021|  6|      52506|   FEMENINO|               249|                3531|\n",
      "|2021|  9|      18753|  MASCULINO|              2059|               21038|\n",
      "|2021|  4|      15755|  MASCULINO|               148|                 746|\n",
      "|2021|  6|      15762|  MASCULINO|                47|                 406|\n",
      "|2021|  4|      13549|  MASCULINO|               306|                1631|\n",
      "|2021|  4|      52352|  MASCULINO|               177|                 870|\n",
      "|2021|  9|      27073|  MASCULINO|               249|                4189|\n",
      "|2021|  5|      66440|  MASCULINO|               285|                1777|\n",
      "|2021|  7|      23300|  MASCULINO|               734|                5670|\n",
      "|2021| 10|      54398|   FEMENINO|               591|                6778|\n",
      "|2021|  6|      18592|   FEMENINO|               838|               14805|\n",
      "|2021|  1|      54174|   FEMENINO|               164|                 781|\n",
      "|2021| 11|      20001|NO DEFINIDO|               139|                 901|\n",
      "|2021|  5|      76250|   FEMENINO|               139|                 997|\n",
      "|2021|  2|      15212|  MASCULINO|                20|                 188|\n",
      "|2021|  8|      68092|   FEMENINO|                13|                  97|\n",
      "|2021|  6|      19397|  MASCULINO|               604|                6700|\n",
      "|2021|  6|      25151|  MASCULINO|               606|                9688|\n",
      "|2021|  7|      05837|   FEMENINO|              3681|               41282|\n",
      "|2021| 11|      76670|   FEMENINO|               549|                8089|\n",
      "|2021|  3|      23417|  MASCULINO|              2272|               12641|\n",
      "|2021|  8|      68001|   FEMENINO|             29565|              566017|\n",
      "|2021|  8|      23001|  MASCULINO|             13745|              193940|\n",
      "|2021|  2|      70473|   FEMENINO|               759|                3936|\n",
      "|2021|  3|      85001|  MASCULINO|              4034|               21245|\n",
      "|2021|  5|      44430|  MASCULINO|              5569|               74365|\n",
      "|2021|  3|      20011|   FEMENINO|              2902|               20413|\n",
      "|2021| 10|      52381|   FEMENINO|               263|                2227|\n",
      "|2021|  4|      19533|   FEMENINO|                66|                 519|\n",
      "|2021|  3|      25899|  MASCULINO|              2968|               17781|\n",
      "|2021| 10|      52079|   FEMENINO|                96|                1531|\n",
      "|2021|  9|      19212|  MASCULINO|               930|                9504|\n",
      "|2021|  8|      41298|  MASCULINO|              2479|               43437|\n",
      "|2021|  6|      47189|  MASCULINO|              3019|               34252|\n",
      "|2021|  9|      68385|  MASCULINO|               287|                3066|\n",
      "|2021|  2|      25430|   FEMENINO|              2040|               21250|\n",
      "|2021|  4|      52227|   FEMENINO|               792|                3751|\n",
      "|2021|  3|      73449|  MASCULINO|               623|                5621|\n",
      "|2021|  1|      63548|  MASCULINO|                66|                 529|\n",
      "|2021| 10|      68217|   FEMENINO|               202|                2972|\n",
      "|2021|  4|      70820|   FEMENINO|               891|                7572|\n",
      "|2021|  9|      18479|  MASCULINO|               157|                2366|\n",
      "|2021|  5|      13780|  MASCULINO|               144|                1672|\n",
      "|2021|  3|      63272|   FEMENINO|               164|                1693|\n",
      "|2021| 10|      41357|   FEMENINO|               356|                2871|\n",
      "|2021|  4|      76113|   FEMENINO|               425|                4873|\n",
      "|2021|  5|      05150|   FEMENINO|               148|                1257|\n",
      "|2021| 10|      18592|  MASCULINO|               951|               11647|\n",
      "|2021| 11|      86760|   FEMENINO|               475|                3580|\n",
      "|2021| 11|      70702|  MASCULINO|                87|                1364|\n",
      "|2021|  7|      15790|  MASCULINO|               163|                2125|\n",
      "|2021|  6|      66440|   FEMENINO|               552|                8338|\n",
      "|2021|  6|      25898|   FEMENINO|               165|                1299|\n",
      "|2021|  9|      25297|  MASCULINO|               140|                1640|\n",
      "|2021|  6|      19785|  MASCULINO|               298|                5366|\n",
      "|2021|  7|      18592|  MASCULINO|               624|                7918|\n",
      "|2021|  8|      66682|  MASCULINO|              2464|               35732|\n",
      "|2021|  4|      73352|   FEMENINO|               163|                1129|\n",
      "|2021|  9|      85001|  MASCULINO|              4736|               59372|\n",
      "|2021|  1|      76147|   FEMENINO|              2314|               21302|\n",
      "|2021|  8|      05107|  MASCULINO|               167|                1422|\n",
      "|2021| 10|      19698|  MASCULINO|              2084|               28753|\n",
      "|2021|  6|      47692|   FEMENINO|              1632|               48059|\n",
      "|2021|  5|      05318|  MASCULINO|               882|                8302|\n",
      "|2021|  5|      25823|  MASCULINO|                74|                 510|\n",
      "|2021|  1|      70823|  MASCULINO|               291|                1355|\n",
      "|2021|  3|      44650|  MASCULINO|               987|                7818|\n",
      "|2021|  4|      52036|   FEMENINO|               158|                1425|\n",
      "|2021|  6|      63190|  MASCULINO|               694|                9854|\n",
      "|2021|  2|      73624|   FEMENINO|               406|                4976|\n",
      "|2021| 10|      54518|   FEMENINO|              1283|               23959|\n",
      "|2021|  9|      05042|   FEMENINO|               881|               14364|\n",
      "|2021|  4|      15810|   FEMENINO|               166|                1030|\n",
      "|2021|  3|      19573|   FEMENINO|              1593|               14353|\n",
      "|2021|  4|      76122|  MASCULINO|               707|                5964|\n",
      "|2021|  4|      15232|   FEMENINO|               156|                1301|\n",
      "|2021| 10|      41518|   FEMENINO|               112|                1739|\n",
      "|2021| 12|      73352|  MASCULINO|               201|                2503|\n",
      "|2021| 12|      25530|  MASCULINO|               177|                1326|\n",
      "|2021|  1|      50313|  MASCULINO|              1247|                7540|\n",
      "|2021| 10|      44874|  MASCULINO|               631|               12445|\n",
      "|2021|  1|      66572|  MASCULINO|               255|                1310|\n",
      "|2021|  9|      44430|NO DEFINIDO|                74|                 922|\n",
      "|2021| 10|      25754|NO DEFINIDO|                94|                 612|\n",
      "|2021|  9|      05364|   FEMENINO|               272|                2982|\n",
      "|2021| 12|      68013|   FEMENINO|                56|                 794|\n",
      "|2021|  7|      15092|   FEMENINO|                75|                1167|\n",
      "|2021| 12|      52260|   FEMENINO|               290|                5491|\n",
      "+----+---+-----------+-----------+------------------+--------------------+\n",
      "only showing top 100 rows\n",
      "\n",
      "Nombres de las columnas agrupadas:\n",
      "['Año', 'Mes', 'municipiocd', 'sexodesc', 'Número_de_Personas', 'Número_de_Atenciones']\n"
     ]
    },
    {
     "name": "stderr",
     "output_type": "stream",
     "text": [
      "\r",
      "                                                                                \r"
     ]
    }
   ],
   "source": [
    "# Seleccionar solo las columnas deseadas\n",
    "columns_to_keep = [\n",
    "    'personaid', 'codigoprocedimiento', 'tipoeventoripsdesc', 'fechaid',\n",
    "    'sexodesc', 'tipodiagnosticoprincipalcd', 'edad', 'dxegreso', 'dxprincipal', 'municipiocd', 'personaid_count'\n",
    "]\n",
    "df_filtered = df2.select(*columns_to_keep)\n",
    "\n",
    "# Convertir 'fechaid' a tipo fecha si es necesario\n",
    "df_filtered = df_filtered.withColumn('fechaid', F.to_date('fechaid', 'yyyyMMdd'))\n",
    "\n",
    "# Extraer año y mes de la columna 'fechaid'\n",
    "df_filtered = df_filtered.withColumn('Año', F.year('fechaid'))\n",
    "df_filtered = df_filtered.withColumn('Mes', F.month('fechaid'))\n",
    "\n",
    "# Agrupar por año, mes y codigoprocedimiento\n",
    "result_df = df_filtered.groupBy('Año', 'Mes', 'municipiocd','sexodesc').agg(\n",
    "    F.countDistinct('personaid').alias('Número_de_Personas'),\n",
    "    F.sum('personaid_count').alias('Número_de_Atenciones')\n",
    ")\n",
    "\n",
    "# Mostrar los resultados\n",
    "result_df.show(100)\n",
    "\n",
    "# Imprimir los nombres de las columnas agrupadas para verificar\n",
    "print(\"Nombres de las columnas agrupadas:\")\n",
    "print(result_df.columns)"
   ]
  },
  {
   "cell_type": "markdown",
   "id": "2da8d049",
   "metadata": {},
   "source": []
  },
  {
   "cell_type": "code",
   "execution_count": 34,
   "id": "5c49380a",
   "metadata": {},
   "outputs": [
    {
     "name": "stderr",
     "output_type": "stream",
     "text": [
      "                                                                                \r"
     ]
    }
   ],
   "source": [
    "#se escribe el parquet tabla 8\n",
    "result_df.write.parquet(\"hdfs:/analyticsdata/8.Tabla_anio_mes_municipio_sexo_2021.parquet\") "
   ]
  },
  {
   "cell_type": "markdown",
   "id": "3481714a",
   "metadata": {},
   "source": [
    "# 9. Agrupado por año, mes, tipoeventorips y sexo"
   ]
  },
  {
   "cell_type": "code",
   "execution_count": 35,
   "id": "205705da",
   "metadata": {},
   "outputs": [
    {
     "name": "stderr",
     "output_type": "stream",
     "text": [
      "                                                                                \r"
     ]
    },
    {
     "name": "stdout",
     "output_type": "stream",
     "text": [
      "+----+----+--------------------+-----------+------------------+--------------------+\n",
      "| Año| Mes|  tipoeventoripsdesc|   sexodesc|Número_de_Personas|Número_de_Atenciones|\n",
      "+----+----+--------------------+-----------+------------------+--------------------+\n",
      "|2021|   1|           URGENCIAS|  MASCULINO|             17468|              139876|\n",
      "|2021|   1|PROCEDIMIENTOS DE...|       null|               411|                8777|\n",
      "|2021|  11|           CONSULTAS|  MASCULINO|            714060|             6640377|\n",
      "|2021|   2|           URGENCIAS|   FEMENINO|             19189|              180322|\n",
      "|2021|   8|PROCEDIMIENTOS DE...|NO DEFINIDO|              2999|               23058|\n",
      "|2021|   8|           CONSULTAS|   FEMENINO|           1207083|            20591861|\n",
      "|2021|   8|           URGENCIAS|  MASCULINO|             31315|              348441|\n",
      "|2021|  12|           CONSULTAS|NO DEFINIDO|              5032|               30391|\n",
      "|2021|  11|   HOSPITALIZACIONES|NO DEFINIDO|                41|                 560|\n",
      "|2021|   1|   HOSPITALIZACIONES|  MASCULINO|              6988|              162719|\n",
      "|2021|  11|PROCEDIMIENTOS DE...|       null|              1405|               28887|\n",
      "|2021|   9|           CONSULTAS|   FEMENINO|           1277585|            21379484|\n",
      "|2021|   3|PROCEDIMIENTOS DE...|   FEMENINO|            428856|             3798094|\n",
      "|2021|   1|           CONSULTAS|NO DEFINIDO|               624|                3248|\n",
      "|2021|   8|   HOSPITALIZACIONES|  MASCULINO|              8720|              374153|\n",
      "|2021|   1|PROCEDIMIENTOS DE...|   FEMENINO|            271500|             2080036|\n",
      "|2021|   9|           CONSULTAS|  MASCULINO|            929801|            12105455|\n",
      "|2021|  12|PROCEDIMIENTOS DE...|  MASCULINO|            434353|             5311426|\n",
      "|2021|   3|PROCEDIMIENTOS DE...|NO DEFINIDO|               915|                6107|\n",
      "|2021|   9|           CONSULTAS|NO DEFINIDO|              4976|               33961|\n",
      "|2021|   1|           CONSULTAS|       null|               547|                7153|\n",
      "|2021|  11|   HOSPITALIZACIONES|   FEMENINO|              7423|              226572|\n",
      "|2021|   7|           URGENCIAS|   FEMENINO|             34647|              595470|\n",
      "|2021|   4|PROCEDIMIENTOS DE...|       null|               575|               10475|\n",
      "|2021|   2|           CONSULTAS|   FEMENINO|            689239|             5558086|\n",
      "|2021|   1|   HOSPITALIZACIONES|   FEMENINO|              7664|              165150|\n",
      "|2021|   4|           CONSULTAS|  MASCULINO|            619810|             4747333|\n",
      "|2021|   3|           URGENCIAS|   FEMENINO|             21327|              214565|\n",
      "|2021|   9|           CONSULTAS|       null|              3298|               70127|\n",
      "|2021|   7|           CONSULTAS|NO DEFINIDO|              3708|               28925|\n",
      "|2021|   2|           CONSULTAS|  MASCULINO|            584505|             3669741|\n",
      "|2021|   1|PROCEDIMIENTOS DE...|  MASCULINO|            227903|             1592435|\n",
      "|2021|  12|           URGENCIAS|   FEMENINO|             20803|              374125|\n",
      "|2021|  11|PROCEDIMIENTOS DE...|   FEMENINO|            557739|             7516698|\n",
      "|2021|   7|           CONSULTAS|   FEMENINO|           1322684|            23727116|\n",
      "|2021|  10|           URGENCIAS|   FEMENINO|             29313|              396758|\n",
      "|2021|   4|           CONSULTAS|NO DEFINIDO|              1861|                9764|\n",
      "|2021|   5|           CONSULTAS|NO DEFINIDO|              2285|               13934|\n",
      "|2021|   3|PROCEDIMIENTOS DE...|       null|               703|               13139|\n",
      "|2021|   7|PROCEDIMIENTOS DE...|   FEMENINO|            630869|             8710084|\n",
      "|2021|   9|PROCEDIMIENTOS DE...|NO DEFINIDO|              4443|               33909|\n",
      "|2021|   4|           CONSULTAS|   FEMENINO|            744628|             7397819|\n",
      "|2021|  12|   HOSPITALIZACIONES|  MASCULINO|              4766|               81642|\n",
      "|2021|  12|           URGENCIAS|  MASCULINO|             22071|              305197|\n",
      "|2021|   6|           URGENCIAS|  MASCULINO|             34067|              400280|\n",
      "|2021|   4|PROCEDIMIENTOS DE...|   FEMENINO|            420246|             4085696|\n",
      "|2021|   5|PROCEDIMIENTOS DE...|  MASCULINO|            388697|             3307867|\n",
      "|2021|  11|           URGENCIAS|   FEMENINO|             26345|              340424|\n",
      "|2021|  12|           URGENCIAS|       null|               119|                1261|\n",
      "|2021|   2|PROCEDIMIENTOS DE...|       null|               550|               10623|\n",
      "|2021|   4|PROCEDIMIENTOS DE...|  MASCULINO|            329907|             2826637|\n",
      "|2021|   9|           URGENCIAS|  MASCULINO|             32941|              352770|\n",
      "|2021|   3|           URGENCIAS|NO DEFINIDO|                57|                 277|\n",
      "|2021|  10|PROCEDIMIENTOS DE...|  MASCULINO|            460588|             5620290|\n",
      "|2021|  10|           URGENCIAS|NO DEFINIDO|               124|                 524|\n",
      "|2021|   6|           CONSULTAS|NO DEFINIDO|              3133|               25074|\n",
      "|2021|   5|           CONSULTAS|   FEMENINO|            813443|             9754271|\n",
      "|2021|   4|PROCEDIMIENTOS DE...|NO DEFINIDO|              1368|                7383|\n",
      "|2021|   6|           CONSULTAS|  MASCULINO|            914742|            11942282|\n",
      "|2021|   5|           URGENCIAS|       null|                81|                1585|\n",
      "|2021|   4|           URGENCIAS|       null|                64|                 584|\n",
      "|2021|  10|   HOSPITALIZACIONES|NO DEFINIDO|                39|                1237|\n",
      "|2021|   5|   HOSPITALIZACIONES|NO DEFINIDO|                11|                  84|\n",
      "|2021|   8|PROCEDIMIENTOS DE...| INDEFINIDO|                 5|                  22|\n",
      "|2021|   9|PROCEDIMIENTOS DE...| INDEFINIDO|                 2|                  29|\n",
      "|null|null|                null|       null|                 2|                   2|\n",
      "|2021|   1|PROCEDIMIENTOS DE...| INDEFINIDO|                 1|                  17|\n",
      "|2021|  11|PROCEDIMIENTOS DE...| INDEFINIDO|                 1|                   1|\n",
      "|2021|  10|           CONSULTAS| INDEFINIDO|                 1|                   5|\n",
      "|2021|   1|           CONSULTAS| INDEFINIDO|                 1|                   2|\n",
      "|2021|   6|   HOSPITALIZACIONES|  MASCULINO|              5818|              178101|\n",
      "|2021|   3|           URGENCIAS|  MASCULINO|             24237|              175947|\n",
      "|2021|   7|PROCEDIMIENTOS DE...|NO DEFINIDO|              2858|               18712|\n",
      "|2021|   3|           CONSULTAS|NO DEFINIDO|              1948|                9898|\n",
      "|2021|   5|   HOSPITALIZACIONES|   FEMENINO|              6927|              199709|\n",
      "|2021|   5|           CONSULTAS|       null|              1664|               28627|\n",
      "|2021|   8|           CONSULTAS|NO DEFINIDO|              3868|               31510|\n",
      "|2021|  10|PROCEDIMIENTOS DE...|       null|              1454|               27521|\n",
      "|2021|   9|           URGENCIAS|   FEMENINO|             33455|              498533|\n",
      "|2021|   7|           CONSULTAS|  MASCULINO|            972476|            13364172|\n",
      "|2021|   8|PROCEDIMIENTOS DE...|   FEMENINO|            752928|            11313611|\n",
      "|2021|   6|   HOSPITALIZACIONES|       null|                60|                3299|\n",
      "|2021|  10|           URGENCIAS|  MASCULINO|             28686|              276043|\n",
      "|2021|   8|           CONSULTAS|  MASCULINO|            864652|            11613595|\n",
      "|2021|   5|   HOSPITALIZACIONES|       null|                65|                2599|\n",
      "|2021|  10|           CONSULTAS|  MASCULINO|            690699|             8226945|\n",
      "|2021|  12|PROCEDIMIENTOS DE...|       null|              1666|               35473|\n",
      "|2021|   3|           CONSULTAS|  MASCULINO|            669580|             4610816|\n",
      "|2021|  11|           URGENCIAS|       null|               148|                1482|\n",
      "|2021|   6|           URGENCIAS|   FEMENINO|             33010|              543026|\n",
      "|2021|  10|PROCEDIMIENTOS DE...|   FEMENINO|            658011|             9472664|\n",
      "|2021|   9|   HOSPITALIZACIONES|   FEMENINO|             13559|              677387|\n",
      "|2021|   9|PROCEDIMIENTOS DE...|       null|              1815|               40614|\n",
      "|2021|  10|           CONSULTAS|   FEMENINO|            932709|            14373267|\n",
      "|2021|   6|   HOSPITALIZACIONES|   FEMENINO|              6273|              208147|\n",
      "|2021|   2|           CONSULTAS|       null|              1228|               13812|\n",
      "|2021|   6|PROCEDIMIENTOS DE...|NO DEFINIDO|              2997|               17130|\n",
      "|2021|   4|   HOSPITALIZACIONES|       null|                62|                2633|\n",
      "|2021|   6|PROCEDIMIENTOS DE...|  MASCULINO|            546192|             5506503|\n",
      "|2021|   3|           CONSULTAS|       null|              1497|               17420|\n",
      "+----+----+--------------------+-----------+------------------+--------------------+\n",
      "only showing top 100 rows\n",
      "\n",
      "Nombres de las columnas agrupadas:\n",
      "['Año', 'Mes', 'tipoeventoripsdesc', 'sexodesc', 'Número_de_Personas', 'Número_de_Atenciones']\n"
     ]
    }
   ],
   "source": [
    "# Seleccionar solo las columnas deseadas\n",
    "columns_to_keep = [\n",
    "    'personaid', 'codigoprocedimiento', 'tipoeventoripsdesc', 'fechaid',\n",
    "    'sexodesc', 'tipodiagnosticoprincipalcd', 'edad', 'dxegreso', 'dxprincipal', 'municipiocd', 'personaid_count'\n",
    "]\n",
    "df_filtered = df2.select(*columns_to_keep)\n",
    "\n",
    "# Convertir 'fechaid' a tipo fecha si es necesario\n",
    "df_filtered = df_filtered.withColumn('fechaid', F.to_date('fechaid', 'yyyyMMdd'))\n",
    "\n",
    "# Extraer año y mes de la columna 'fechaid'\n",
    "df_filtered = df_filtered.withColumn('Año', F.year('fechaid'))\n",
    "df_filtered = df_filtered.withColumn('Mes', F.month('fechaid'))\n",
    "\n",
    "# Agrupar por año, mes y codigoprocedimiento\n",
    "result_df = df_filtered.groupBy('Año', 'Mes', 'tipoeventoripsdesc','sexodesc').agg(\n",
    "    F.countDistinct('personaid').alias('Número_de_Personas'),\n",
    "    F.sum('personaid_count').alias('Número_de_Atenciones')\n",
    ")\n",
    "\n",
    "# Mostrar los resultados\n",
    "result_df.show(100)\n",
    "\n",
    "# Imprimir los nombres de las columnas agrupadas para verificar\n",
    "print(\"Nombres de las columnas agrupadas:\")\n",
    "print(result_df.columns)"
   ]
  },
  {
   "cell_type": "markdown",
   "id": "f77a9118",
   "metadata": {},
   "source": []
  },
  {
   "cell_type": "code",
   "execution_count": 36,
   "id": "45142e0d",
   "metadata": {},
   "outputs": [
    {
     "name": "stderr",
     "output_type": "stream",
     "text": [
      "                                                                                \r"
     ]
    }
   ],
   "source": [
    "#se escribe el parquet tabla 9\n",
    "result_df.write.parquet(\"hdfs:/analyticsdata/9.Tabla_anio_mes_tipoeventoripsdesc_sexo_2021.parquet\") "
   ]
  },
  {
   "cell_type": "markdown",
   "id": "74085f74",
   "metadata": {},
   "source": [
    "se comprueba que el archivo quedo guardado correctamente al leerlo "
   ]
  },
  {
   "cell_type": "code",
   "execution_count": 38,
   "id": "28d341b1",
   "metadata": {},
   "outputs": [
    {
     "name": "stdout",
     "output_type": "stream",
     "text": [
      "+----+---+--------------------+-----------+------------------+--------------------+\n",
      "| Año|Mes|  tipoeventoripsdesc|   sexodesc|Número_de_Personas|Número_de_Atenciones|\n",
      "+----+---+--------------------+-----------+------------------+--------------------+\n",
      "|2021|  6|   HOSPITALIZACIONES|  MASCULINO|              5911|              179629|\n",
      "|2021|  6|           URGENCIAS|NO DEFINIDO|                79|                 454|\n",
      "|2021|  3|           URGENCIAS|  MASCULINO|             25473|              187571|\n",
      "|2021|  7|PROCEDIMIENTOS DE...|NO DEFINIDO|              2838|               18741|\n",
      "|2021|  3|           CONSULTAS|NO DEFINIDO|              1960|                9746|\n",
      "|2021|  5|   HOSPITALIZACIONES|   FEMENINO|              6817|              201869|\n",
      "|2021|  5|           CONSULTAS|       null|              1724|               25268|\n",
      "|2021|  8|           CONSULTAS|NO DEFINIDO|              3831|               31402|\n",
      "|2021| 10|PROCEDIMIENTOS DE...|       null|              1469|               25836|\n",
      "|2021|  9|           URGENCIAS|   FEMENINO|             33959|              498926|\n",
      "|2021|  7|           CONSULTAS|  MASCULINO|            982292|            13490479|\n",
      "|2021|  8|PROCEDIMIENTOS DE...|   FEMENINO|            751917|            11331673|\n",
      "|2021|  8|           CONSULTAS|  MASCULINO|            868123|            11585246|\n",
      "|2021| 10|           URGENCIAS|  MASCULINO|             30418|              284354|\n",
      "|2021| 10|           CONSULTAS|  MASCULINO|            682451|             8195166|\n",
      "|2021| 12|PROCEDIMIENTOS DE...|       null|              1622|               36227|\n",
      "|2021|  3|           CONSULTAS|  MASCULINO|            662360|             4562537|\n",
      "|2021| 10|PROCEDIMIENTOS DE...|   FEMENINO|            661610|             9516685|\n",
      "|2021|  6|           URGENCIAS|   FEMENINO|             31802|              531025|\n",
      "|2021|  9|   HOSPITALIZACIONES|   FEMENINO|             13584|              675066|\n",
      "+----+---+--------------------+-----------+------------------+--------------------+\n",
      "only showing top 20 rows\n",
      "\n"
     ]
    }
   ],
   "source": [
    "# Leer el archivo .parquet y se guarda en un DataFrame\n",
    "df_leer = spark.read.parquet(\"hdfs:/analyticsdata/9.Tabla_anio_mes_tipoeventoripsdesc_sexo_2021.parquet\")\n",
    "\n",
    "# Mostrar el contenido del DataFrame\n",
    "df_leer.show()"
   ]
  },
  {
   "cell_type": "markdown",
   "id": "831e0aa9",
   "metadata": {},
   "source": [
    "# 10. Agrupado por año, mes, edad"
   ]
  },
  {
   "cell_type": "code",
   "execution_count": 12,
   "id": "ceeff9c8",
   "metadata": {},
   "outputs": [
    {
     "name": "stderr",
     "output_type": "stream",
     "text": [
      "[Stage 27:=====================================================>(166 + 1) / 167]\r"
     ]
    },
    {
     "name": "stdout",
     "output_type": "stream",
     "text": [
      "+----+---+----+------------------+--------------------+\n",
      "| Año|Mes|edad|Número_de_Personas|Número_de_Atenciones|\n",
      "+----+---+----+------------------+--------------------+\n",
      "|2021|  4|  28|             36920|              295221|\n",
      "|2021|  5|  60|             25224|              354052|\n",
      "|2021| 10|  68|             22177|              497302|\n",
      "|2021| 10|  86|              5328|              159282|\n",
      "|2021| 10|  18|             40766|              359150|\n",
      "|2021| 12|  55|             31592|              503289|\n",
      "|2021|  1|  36|             17499|              123225|\n",
      "|2021|  3|   1|             35998|              254990|\n",
      "|2021|  6|  22|             53669|              656063|\n",
      "|2021|  4|  77|              8059|              148052|\n",
      "|2021|  1|  90|              1203|               23363|\n",
      "|2021| 10|  41|             39283|              497941|\n",
      "|2021| 10|  36|             40435|              475086|\n",
      "|2021| 10|  64|             27652|              567812|\n",
      "|2021| 10|  61|             31015|              581762|\n",
      "|2021| 12|   9|             35498|              286854|\n",
      "|2021| 11|  70|             17997|              342528|\n",
      "|2021|  7|  43|             42886|              616124|\n",
      "|2021|  1|  76|              4000|               77992|\n",
      "|2021|  5|  90|              2585|               54572|\n",
      "|2021| 11|  72|             15937|              316243|\n",
      "|2021| 12|  80|             10388|              260815|\n",
      "|2021|  6|  12|             37058|              317880|\n",
      "|2021|  2|  20|             35327|              211767|\n",
      "|2021|  3| 105|                31|                 668|\n",
      "|2021| 10|  25|             44838|              533086|\n",
      "|2021|  2|  57|             20212|              184182|\n",
      "|2021|  6|   8|             45252|              315758|\n",
      "|2021| 12|  69|             21330|              455777|\n",
      "|2021|  7|  79|             14257|              400871|\n",
      "|2021| 11|  24|             42845|              408577|\n",
      "|2021|  6|  32|             51100|              614688|\n",
      "|2021|  6|  29|             55722|              666393|\n",
      "|2021|  1|  42|             14427|              105207|\n",
      "|2021|  5|  65|             20805|              335780|\n",
      "|2021|  3|  41|             29907|              223799|\n",
      "|2021|  9|  68|             31611|              742121|\n",
      "|2021|  6|   5|             53135|              467328|\n",
      "|2021| 11|  33|             39978|              400571|\n",
      "|2021|  1|  27|             21103|              143789|\n",
      "|2021|  2|   3|             30926|              168917|\n",
      "|2021|  2|  63|             15578|              172602|\n",
      "|2021|  1|  88|              1661|               32072|\n",
      "|2021|  3|  82|              6855|              116526|\n",
      "|2021|  5|  32|             36839|              330759|\n",
      "|2021|  6|  24|             55507|              671418|\n",
      "|2021|  6|  65|             31327|              675905|\n",
      "|2021|  2|  11|             31090|              130342|\n",
      "|2021| 12|   0|             71252|              702962|\n",
      "|2021| 12| 102|               107|                2986|\n",
      "|2021|  5|  92|              1902|               38482|\n",
      "|2021|  3|  76|              9227|              147653|\n",
      "|2021|  7|  69|             27193|              653289|\n",
      "|2021|  3|  85|              5137|               85647|\n",
      "|2021|  6|  95|              1328|               31604|\n",
      "|2021| 11|  16|             36480|              298703|\n",
      "|2021|  8|  15|             44788|              463226|\n",
      "|2021| 11|  13|             36272|              254312|\n",
      "|2021| 10|  88|              3940|              121699|\n",
      "|2021|  8|  13|             43230|              398983|\n",
      "|2021|  8|  34|             48850|              639258|\n",
      "|2021|  6|  48|             39788|              559876|\n",
      "|2021| 12|  27|             46453|              522448|\n",
      "|2021|  2|  35|             29274|              188235|\n",
      "|2021|  5|  59|             24789|              363535|\n",
      "|2021|  3|  52|             24401|              221695|\n",
      "|2021|  6|  80|             13558|              353704|\n",
      "|2021| 10|   3|             42589|              429770|\n",
      "|2021|  4|  13|             28327|              168060|\n",
      "|2021|  1|  56|             11152|              113646|\n",
      "|2021|  7|   2|             54008|              579270|\n",
      "|2021|  4|  31|             35320|              283993|\n",
      "|2021|  5|  56|             26275|              344109|\n",
      "|2021|  1|  41|             15382|              114467|\n",
      "|2021|  2|  79|              6102|               98081|\n",
      "|2021|  3|  89|              2952|               48985|\n",
      "|2021|  9|  64|             37663|              821625|\n",
      "|2021|  5|  91|              2414|               48270|\n",
      "|2021| 11|  74|             14034|              285072|\n",
      "|2021|  3|   3|             36754|              212922|\n",
      "|2021|  6|  26|             57564|              690920|\n",
      "|2021|  8|  49|             40733|              654529|\n",
      "|2021|  2|  60|             17939|              188567|\n",
      "|2021|  8|  17|             50641|              569195|\n",
      "|2021| 12|  47|             30479|              409023|\n",
      "|2021|  2|  51|             21196|              176976|\n",
      "|2021|  3|  62|             19247|              228300|\n",
      "|2021|  4|  18|             36876|              249894|\n",
      "|2021|  3| 106|                23|                 268|\n",
      "|2021| 10|  38|             39826|              480543|\n",
      "|2021|  6|  85|              8441|              227636|\n",
      "|2021|  9|  53|             44081|              783571|\n",
      "|2021| 11| 102|                81|                2261|\n",
      "|2021|  2|  45|             22354|              162272|\n",
      "|2021|  5|  45|             26499|              282587|\n",
      "|2021| 10|  15|             38453|              375707|\n",
      "|2021|  1|  40|             15898|              114506|\n",
      "|2021|  4|  79|              7170|              129294|\n",
      "|2021|  5|  14|             28259|              197986|\n",
      "|2021| 11|  48|             30191|              363648|\n",
      "+----+---+----+------------------+--------------------+\n",
      "only showing top 100 rows\n",
      "\n",
      "Nombres de las columnas agrupadas:\n",
      "['Año', 'Mes', 'edad', 'Número_de_Personas', 'Número_de_Atenciones']\n"
     ]
    },
    {
     "name": "stderr",
     "output_type": "stream",
     "text": [
      "\r",
      "                                                                                \r"
     ]
    }
   ],
   "source": [
    "# Seleccionar solo las columnas deseadas\n",
    "columns_to_keep = [\n",
    "    'personaid', 'codigoprocedimiento', 'tipoeventoripsdesc', 'fechaid',\n",
    "    'sexodesc', 'tipodiagnosticoprincipalcd', 'edad', 'dxegreso', 'dxprincipal', 'municipiocd', 'personaid_count'\n",
    "]\n",
    "df_filtered = df2.select(*columns_to_keep)\n",
    "\n",
    "# Convertir 'fechaid' a tipo fecha si es necesario\n",
    "df_filtered = df_filtered.withColumn('fechaid', F.to_date('fechaid', 'yyyyMMdd'))\n",
    "\n",
    "# Extraer año y mes de la columna 'fechaid'\n",
    "df_filtered = df_filtered.withColumn('Año', F.year('fechaid'))\n",
    "df_filtered = df_filtered.withColumn('Mes', F.month('fechaid'))\n",
    "\n",
    "# Agrupar por año, mes y codigoprocedimiento\n",
    "result_df = df_filtered.groupBy('Año', 'Mes', 'edad').agg(\n",
    "    F.countDistinct('personaid').alias('Número_de_Personas'),\n",
    "    F.sum('personaid_count').alias('Número_de_Atenciones')\n",
    ")\n",
    "\n",
    "# Mostrar los resultados\n",
    "result_df.show(100)\n",
    "\n",
    "# Imprimir los nombres de las columnas agrupadas para verificar\n",
    "print(\"Nombres de las columnas agrupadas:\")\n",
    "print(result_df.columns)"
   ]
  },
  {
   "cell_type": "code",
   "execution_count": 13,
   "id": "3bccb78f",
   "metadata": {},
   "outputs": [
    {
     "name": "stderr",
     "output_type": "stream",
     "text": [
      "                                                                                \r"
     ]
    }
   ],
   "source": [
    "#se escribe el parquet tabla 10\n",
    "result_df.write.parquet(\"hdfs:/analyticsdata/10.Tabla_anio_mes_edad_2021.parquet\") "
   ]
  },
  {
   "cell_type": "code",
   "execution_count": 14,
   "id": "303684e7",
   "metadata": {},
   "outputs": [],
   "source": [
    "spark.stop()"
   ]
  },
  {
   "cell_type": "code",
   "execution_count": null,
   "id": "de84a3d6",
   "metadata": {},
   "outputs": [],
   "source": []
  }
 ],
 "metadata": {
  "kernelspec": {
   "display_name": "Python 3 (ipykernel)",
   "language": "python",
   "name": "python3"
  },
  "language_info": {
   "codemirror_mode": {
    "name": "ipython",
    "version": 3
   },
   "file_extension": ".py",
   "mimetype": "text/x-python",
   "name": "python",
   "nbconvert_exporter": "python",
   "pygments_lexer": "ipython3",
   "version": "3.9.18"
  }
 },
 "nbformat": 4,
 "nbformat_minor": 5
}

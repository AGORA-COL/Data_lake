{
 "cells": [
  {
   "cell_type": "markdown",
   "id": "5e7ab853",
   "metadata": {},
   "source": [
    "# Generación de archivos parquet VITALES Defunciones"
   ]
  },
  {
   "cell_type": "markdown",
   "id": "2cfbd12d",
   "metadata": {},
   "source": [
    "## Carga de los datos"
   ]
  },
  {
   "cell_type": "markdown",
   "id": "dc2c512b",
   "metadata": {},
   "source": [
    "Este jupyter notebook esta generando con todos los datos de Vitales Defunciones (2014 - 2023), esta fuente tiene errores en los registros de Bogotá, notificado en la fase de exploración"
   ]
  },
  {
   "cell_type": "code",
   "execution_count": 19,
   "id": "c90bfc6f",
   "metadata": {
    "scrolled": true
   },
   "outputs": [],
   "source": [
    "from pyspark.sql import SparkSession\n",
    "\n",
    "# Crear una sesión de Spark\n",
    "spark = SparkSession.builder.appName(\"GeneraciónTablasVITALES_Defunciones\").getOrCreate()"
   ]
  },
  {
   "cell_type": "code",
   "execution_count": 18,
   "id": "bdbbc1d5",
   "metadata": {},
   "outputs": [],
   "source": [
    "#spark.stop()"
   ]
  },
  {
   "cell_type": "code",
   "execution_count": 20,
   "id": "11bff43d",
   "metadata": {},
   "outputs": [
    {
     "name": "stderr",
     "output_type": "stream",
     "text": [
      "                                                                                \r"
     ]
    }
   ],
   "source": [
    "# Leer los archivos Parquet de un año \n",
    "df1_parquet = spark.read.parquet(\"/rawdata/vitales/defunciones/defunciones_parquet_2008_a_2016/\")\n",
    "\n",
    "df=df1_parquet"
   ]
  },
  {
   "cell_type": "code",
   "execution_count": 21,
   "id": "67f30b20",
   "metadata": {},
   "outputs": [
    {
     "name": "stderr",
     "output_type": "stream",
     "text": [
      "[Stage 1:============================>                           (13 + 13) / 26]\r"
     ]
    },
    {
     "name": "stdout",
     "output_type": "stream",
     "text": [
      "Total de registros en el DataFrame unido: 2044777\n",
      "Columnas del DataFrame unido: ['PersonaID', 'Sexo', 'RegimenAfiliacionSGSSS', 'Administradora', 'CodigoPertenenciaEtnica', 'municipioResidencia', 'SemanasGestacion', 'EdadMadreMomentoDiagnostico', 'FechaDefuncionAAAAMM', 'IpsDondeRealizaParto', 'Peso', 'AnoID']\n"
     ]
    },
    {
     "name": "stderr",
     "output_type": "stream",
     "text": [
      "\r",
      "                                                                                \r"
     ]
    }
   ],
   "source": [
    "# Contar el número de registros en el DataFrame \n",
    "total_registros = df.count()\n",
    "\n",
    "# Listar las columnas del DataFrame unido\n",
    "columnas = df.columns\n",
    "\n",
    "# Mostrar resultados\n",
    "print(f\"Total de registros en el DataFrame unido: {total_registros}\")\n",
    "print(f\"Columnas del DataFrame unido: {columnas}\")"
   ]
  },
  {
   "cell_type": "raw",
   "id": "0a4dc9bc",
   "metadata": {},
   "source": [
    "2'044.777 de 2008 a 2023"
   ]
  },
  {
   "cell_type": "code",
   "execution_count": 22,
   "id": "8ec03230",
   "metadata": {},
   "outputs": [],
   "source": [
    "# Leer los archivos Parquet de un año \n",
    "df2_parquet = spark.read.parquet(\"/rawdata/vitales/defunciones/defunciones_parquet_2017_a_2023/\")\n",
    "\n",
    "df=df2_parquet"
   ]
  },
  {
   "cell_type": "code",
   "execution_count": 23,
   "id": "ab87d3af",
   "metadata": {},
   "outputs": [
    {
     "name": "stderr",
     "output_type": "stream",
     "text": [
      "\r",
      "[Stage 5:>                                                        (0 + 27) / 27]\r",
      "\r",
      "[Stage 5:==>                                                      (1 + 26) / 27]\r"
     ]
    },
    {
     "name": "stdout",
     "output_type": "stream",
     "text": [
      "Total de registros en el DataFrame unido: 2119590\n",
      "Columnas del DataFrame unido: ['PersonaID', 'Sexo', 'RegimenAfiliacionSGSSS', 'Administradora', 'CodigoPertenenciaEtnica', 'municipioResidencia', 'SemanasGestacion', 'EdadMadreMomentoDiagnostico', 'FechaDefuncionAAAAMM', 'IpsDondeRealizaParto', 'Peso', 'AnoID']\n"
     ]
    },
    {
     "name": "stderr",
     "output_type": "stream",
     "text": [
      "\r",
      "                                                                                \r"
     ]
    }
   ],
   "source": [
    "# Contar el número de registros en el DataFrame \n",
    "total_registros = df.count()\n",
    "\n",
    "# Listar las columnas del DataFrame unido\n",
    "columnas = df.columns\n",
    "\n",
    "# Mostrar resultados\n",
    "print(f\"Total de registros en el DataFrame unido: {total_registros}\")\n",
    "print(f\"Columnas del DataFrame unido: {columnas}\")"
   ]
  },
  {
   "cell_type": "raw",
   "id": "949de58e",
   "metadata": {},
   "source": [
    "2'119.590 de 2017 a 2023"
   ]
  },
  {
   "cell_type": "code",
   "execution_count": 25,
   "id": "5e3cf450",
   "metadata": {},
   "outputs": [],
   "source": [
    "# Combinar ambos DataFrames\n",
    "df_combined = df1_parquet.union(df2_parquet)\n",
    "df=df_combined"
   ]
  },
  {
   "cell_type": "code",
   "execution_count": 26,
   "id": "5ceebb68",
   "metadata": {},
   "outputs": [
    {
     "name": "stderr",
     "output_type": "stream",
     "text": [
      "\r",
      "[Stage 8:>                                                        (0 + 53) / 53]\r"
     ]
    },
    {
     "name": "stdout",
     "output_type": "stream",
     "text": [
      "Total de registros en el DataFrame unido: 4164367\n",
      "Columnas del DataFrame unido: ['PersonaID', 'Sexo', 'RegimenAfiliacionSGSSS', 'Administradora', 'CodigoPertenenciaEtnica', 'municipioResidencia', 'SemanasGestacion', 'EdadMadreMomentoDiagnostico', 'FechaDefuncionAAAAMM', 'IpsDondeRealizaParto', 'Peso', 'AnoID']\n"
     ]
    },
    {
     "name": "stderr",
     "output_type": "stream",
     "text": [
      "\r",
      "                                                                                \r"
     ]
    }
   ],
   "source": [
    "# Contar el número de registros en el DataFrame unido\n",
    "total_registros = df.count()\n",
    "\n",
    "# Listar las columnas del DataFrame unido\n",
    "columnas = df.columns\n",
    "\n",
    "# Mostrar resultados\n",
    "print(f\"Total de registros en el DataFrame unido: {total_registros}\")\n",
    "print(f\"Columnas del DataFrame unido: {columnas}\")"
   ]
  },
  {
   "cell_type": "markdown",
   "id": "18818b72",
   "metadata": {},
   "source": [
    "con los dos combinados me da 4'164.367"
   ]
  },
  {
   "cell_type": "code",
   "execution_count": 29,
   "id": "7f00f5ab",
   "metadata": {},
   "outputs": [
    {
     "name": "stdout",
     "output_type": "stream",
     "text": [
      "root\n",
      " |-- PersonaID: string (nullable = true)\n",
      " |-- Sexo: string (nullable = true)\n",
      " |-- RegimenAfiliacionSGSSS: string (nullable = true)\n",
      " |-- Administradora: string (nullable = true)\n",
      " |-- CodigoPertenenciaEtnica: string (nullable = true)\n",
      " |-- municipioResidencia: string (nullable = true)\n",
      " |-- SemanasGestacion: string (nullable = true)\n",
      " |-- EdadMadreMomentoDiagnostico: string (nullable = true)\n",
      " |-- FechaDefuncionAAAAMM: string (nullable = true)\n",
      " |-- IpsDondeRealizaParto: string (nullable = true)\n",
      " |-- Peso: string (nullable = true)\n",
      " |-- AnoID: string (nullable = true)\n",
      "\n"
     ]
    },
    {
     "name": "stderr",
     "output_type": "stream",
     "text": [
      "\r",
      "[Stage 14:>                                                         (0 + 1) / 1]\r"
     ]
    },
    {
     "name": "stdout",
     "output_type": "stream",
     "text": [
      "+---------+-------------+----------------------+--------------------+-----------------------+--------------------+----------------+---------------------------+--------------------+--------------------+--------------------+-----+\n",
      "|PersonaID|         Sexo|RegimenAfiliacionSGSSS|      Administradora|CodigoPertenenciaEtnica| municipioResidencia|SemanasGestacion|EdadMadreMomentoDiagnostico|FechaDefuncionAAAAMM|IpsDondeRealizaParto|                Peso|AnoID|\n",
      "+---------+-------------+----------------------+--------------------+-----------------------+--------------------+----------------+---------------------------+--------------------+--------------------+--------------------+-----+\n",
      "| 43091917|    MASCULINO|        S - SUBSIDIADO|  EPSS03 - CAFESALUD|                      6|     66318 - Guática|               9|                         58|              201406|663180079901 - ES...|               10000| 2014|\n",
      "|        1|INDETERMINADO|      C - CONTRIBUTIVO|  EPS013 - SALUDCOOP|                      9|     50313 - Granada|               1|                        198|              201403|257540005801 - HO...|                9999| 2014|\n",
      "| 35057097|     FEMENINO|      C - CONTRIBUTIVO|  EPS037 - NUEVA EPS|                      6|     76520 - Palmira|               9|                         85|              201411|765200227301 - CL...|               10000| 2014|\n",
      "|        1|    MASCULINO|      C - CONTRIBUTIVO|    EPS016 - COOMEVA|                      6|      27001 - Quibdó|               9|                         61|              201206|050010217201 - CL...|               10000| 2012|\n",
      "|        1|     FEMENINO|        S - SUBSIDIADO|ESS118 - EMSSANAR...|                      6|       76834 - Tuluá|               9|                         84|              201312|768340575101 - CL...|               10000| 2013|\n",
      "|        1|     FEMENINO|        S - SUBSIDIADO|ESS118 - EMSSANAR...|                      3|52835 - San Andre...|               9|                         84|              200811|528350026001 - HO...|               10000| 2008|\n",
      "|        1|    MASCULINO|     NR - NO REPORTADO|NO REPORTADO - NO...|                      6|    05250 - El Bagre|               9|                         95|              201210|052500213301 - E....|               10000| 2012|\n",
      "|        1|    MASCULINO|        S - SUBSIDIADO|   EPSS26 - SOLSALUD|                      6|      11001 - Bogotá|            D.C.|                          9|                  81|              201008|110010874901 - HO...|10000|\n",
      "|        1|    MASCULINO|     NR - NO REPORTADO|     0 - NO DEFINIDO|                      5|    23001 - Montería|               9|                         39|              200907|230010002101 - HE...|               10000| 2009|\n",
      "|        1|     FEMENINO|          P - ESPECIAL| RES004 - MAGISTERIO|                      6|   13001 - Cartagena|               9|                         47|              201110|130010214101 - SO...|               10000| 2011|\n",
      "|        1|    MASCULINO|        S - SUBSIDIADO|  EPSS33 - SALUDVIDA|                      6|     68077 - Barbosa|               9|                         62|              201308|688610079501 - ES...|               10000| 2013|\n",
      "|        1|     FEMENINO|      C - CONTRIBUTIVO|  EPS013 - SALUDCOOP|                      6|     25386 - La Mesa|               9|                         84|              201104|253860204204 - CL...|               10000| 2011|\n",
      "|        1|INDETERMINADO|      C - CONTRIBUTIVO|   EPS010 - EPS SURA|                      9|    05001 - Medellín|               1|                        198|              201404|050010344803 - CL...|                9999| 2014|\n",
      "|        1|    MASCULINO|        S - SUBSIDIADO|ESS062 - ASMET SALUD|                      6|    41551 - Pitalito|               9|                         57|              201101|     0 - NO DEFINIDO|               10000| 2011|\n",
      "|        1|    MASCULINO|      C - CONTRIBUTIVO|        EPS018 - SOS|                      6|        76001 - Cali|               9|                         50|              200907|760010287001 - FU...|               10000| 2009|\n",
      "|        1|    MASCULINO|     NR - NO REPORTADO|     0 - NO DEFINIDO|                      6|    05190 - Cisneros|               9|                       null|              200909|     0 - NO DEFINIDO|               10000| 2009|\n",
      "|        1|    MASCULINO|        S - SUBSIDIADO|     0 - NO DEFINIDO|                      6| 68001 - Bucaramanga|               9|                         24|              200810|     0 - NO DEFINIDO|               10000| 2008|\n",
      "| 22235098|     FEMENINO|      C - CONTRIBUTIVO|  EPS037 - NUEVA EPS|                      6|  25290 - Fusagasugá|               9|                         64|              201503|252900003601 - EM...|               10000| 2015|\n",
      "|        1|     FEMENINO|     NR - NO REPORTADO|     0 - NO DEFINIDO|                      9|     91001 - Leticia|               3|                        198|              200802|910010001901 - E....|                1900| 2008|\n",
      "|        1|INDETERMINADO|      C - CONTRIBUTIVO| EPS001 - ALIANSALUD|                      9|   13001 - Cartagena|               9|                        198|              201312|130010056801 - CL...|                9999| 2013|\n",
      "+---------+-------------+----------------------+--------------------+-----------------------+--------------------+----------------+---------------------------+--------------------+--------------------+--------------------+-----+\n",
      "only showing top 20 rows\n",
      "\n"
     ]
    },
    {
     "name": "stderr",
     "output_type": "stream",
     "text": [
      "\r",
      "                                                                                \r"
     ]
    }
   ],
   "source": [
    "# Mostrar el esquema del DataFrame combinado para verificar que se cargaron correctamente los datos\n",
    "df_combined.printSchema()\n",
    "\n",
    "# Mostrar las primeras filas del DataFrame combinado\n",
    "df_combined.show()"
   ]
  },
  {
   "cell_type": "code",
   "execution_count": null,
   "id": "a45b35b9",
   "metadata": {},
   "outputs": [],
   "source": [
    "se evidencian errores de datos corridos entre columnas, se menciono este problema en la fase de exploración"
   ]
  },
  {
   "cell_type": "code",
   "execution_count": 27,
   "id": "204519cb",
   "metadata": {},
   "outputs": [
    {
     "name": "stderr",
     "output_type": "stream",
     "text": [
      "\r",
      "[Stage 11:>                                                       (0 + 53) / 53]\r"
     ]
    },
    {
     "name": "stdout",
     "output_type": "stream",
     "text": [
      "El número de registros en el archivo Parquet es: 4164367\n"
     ]
    },
    {
     "name": "stderr",
     "output_type": "stream",
     "text": [
      "\r",
      "                                                                                \r"
     ]
    }
   ],
   "source": [
    "# Contar el número de registros\n",
    "record_count = df.count()\n",
    "\n",
    "# Mostrar el número de registros\n",
    "print(f\"El número de registros en el archivo Parquet es: {record_count}\")"
   ]
  },
  {
   "cell_type": "code",
   "execution_count": null,
   "id": "b19b35b3",
   "metadata": {},
   "outputs": [],
   "source": []
  },
  {
   "cell_type": "code",
   "execution_count": 28,
   "id": "cdde4766",
   "metadata": {},
   "outputs": [
    {
     "name": "stdout",
     "output_type": "stream",
     "text": [
      "root\n",
      " |-- PersonaID: string (nullable = true)\n",
      " |-- Sexo: string (nullable = true)\n",
      " |-- RegimenAfiliacionSGSSS: string (nullable = true)\n",
      " |-- Administradora: string (nullable = true)\n",
      " |-- CodigoPertenenciaEtnica: string (nullable = true)\n",
      " |-- municipioResidencia: string (nullable = true)\n",
      " |-- SemanasGestacion: string (nullable = true)\n",
      " |-- EdadMadreMomentoDiagnostico: string (nullable = true)\n",
      " |-- FechaDefuncionAAAAMM: string (nullable = true)\n",
      " |-- IpsDondeRealizaParto: string (nullable = true)\n",
      " |-- Peso: string (nullable = true)\n",
      " |-- AnoID: string (nullable = true)\n",
      "\n",
      "['PersonaID', 'Sexo', 'RegimenAfiliacionSGSSS', 'Administradora', 'CodigoPertenenciaEtnica', 'municipioResidencia', 'SemanasGestacion', 'EdadMadreMomentoDiagnostico', 'FechaDefuncionAAAAMM', 'IpsDondeRealizaParto', 'Peso', 'AnoID']\n"
     ]
    }
   ],
   "source": [
    "# Mostrar el esquema (columnas y tipos de datos)\n",
    "df.printSchema()\n",
    "\n",
    "# Listar las columnas\n",
    "print(df.columns)"
   ]
  },
  {
   "cell_type": "markdown",
   "id": "3f2c7994",
   "metadata": {},
   "source": [
    " "
   ]
  },
  {
   "cell_type": "markdown",
   "id": "8fcd8e3c",
   "metadata": {},
   "source": [
    "# Empieza el proceso de generación de los datos agrupados por atenciones para defunciones"
   ]
  },
  {
   "cell_type": "code",
   "execution_count": 30,
   "id": "2377f915",
   "metadata": {},
   "outputs": [
    {
     "name": "stderr",
     "output_type": "stream",
     "text": [
      "                                                                                \r"
     ]
    },
    {
     "name": "stdout",
     "output_type": "stream",
     "text": [
      "+---------+--------------------+----------------------+---------+---------------------------+---------------+\n",
      "|PersonaID|FechaDefuncionAAAAMM|RegimenAfiliacionSGSSS|     Sexo|EdadMadreMomentoDiagnostico|personaid_count|\n",
      "+---------+--------------------+----------------------+---------+---------------------------+---------------+\n",
      "|100002640|              201809|        S - SUBSIDIADO| FEMENINO|                         24|              1|\n",
      "|100002799|              201908|        S - SUBSIDIADO|MASCULINO|                         25|              1|\n",
      "| 10000670|              202108|        S - SUBSIDIADO| FEMENINO|                         69|              1|\n",
      "|100009195|              201907|      C - CONTRIBUTIVO| FEMENINO|                         15|              1|\n",
      "|100010864|              202203|        S - SUBSIDIADO|MASCULINO|                         27|              1|\n",
      "|100022125|              201811|        S - SUBSIDIADO|MASCULINO|                         25|              1|\n",
      "|100028936|              201605|      C - CONTRIBUTIVO|MASCULINO|                         31|              1|\n",
      "|100036096|              202107|        S - SUBSIDIADO|MASCULINO|                         16|              1|\n",
      "|100042237|              201506|        S - SUBSIDIADO| FEMENINO|                         85|              1|\n",
      "|100046977|              202203|        S - SUBSIDIADO| FEMENINO|                         28|              1|\n",
      "|100055764|              201706|        S - SUBSIDIADO|MASCULINO|                         47|              1|\n",
      "|100058911|              201603|     NR - NO REPORTADO|MASCULINO|                         23|              1|\n",
      "| 10008432|                  54|      C - CONTRIBUTIVO|MASCULINO|                          9|              1|\n",
      "|100087946|              201404|        S - SUBSIDIADO|MASCULINO|                         90|              1|\n",
      "| 10008866|              202107|        S - SUBSIDIADO| FEMENINO|                         71|              1|\n",
      "|100103251|              201810|        S - SUBSIDIADO|MASCULINO|                         24|              1|\n",
      "|100104810|              202303|      C - CONTRIBUTIVO|MASCULINO|                         31|              1|\n",
      "| 10011254|                  72|      C - CONTRIBUTIVO| FEMENINO|                          9|              1|\n",
      "|100120209|              201909|        S - SUBSIDIADO| FEMENINO|                         15|              1|\n",
      "|100123671|              201601|        S - SUBSIDIADO|MASCULINO|                         41|              1|\n",
      "+---------+--------------------+----------------------+---------+---------------------------+---------------+\n",
      "only showing top 20 rows\n",
      "\n",
      "Nombres de las columnas filtradas:\n",
      "['PersonaID', 'FechaDefuncionAAAAMM', 'RegimenAfiliacionSGSSS', 'Sexo', 'EdadMadreMomentoDiagnostico', 'personaid_count']\n"
     ]
    },
    {
     "name": "stderr",
     "output_type": "stream",
     "text": [
      "[Stage 20:>                                                         (0 + 1) / 1]\r"
     ]
    },
    {
     "name": "stdout",
     "output_type": "stream",
     "text": [
      "+---------+--------------------+----------------------+---------+---------------------------+---------------+\n",
      "|PersonaID|FechaDefuncionAAAAMM|RegimenAfiliacionSGSSS|     Sexo|EdadMadreMomentoDiagnostico|personaid_count|\n",
      "+---------+--------------------+----------------------+---------+---------------------------+---------------+\n",
      "|100002640|              201809|        S - SUBSIDIADO| FEMENINO|                         24|              1|\n",
      "|100002799|              201908|        S - SUBSIDIADO|MASCULINO|                         25|              1|\n",
      "| 10000670|              202108|        S - SUBSIDIADO| FEMENINO|                         69|              1|\n",
      "|100009195|              201907|      C - CONTRIBUTIVO| FEMENINO|                         15|              1|\n",
      "|100010864|              202203|        S - SUBSIDIADO|MASCULINO|                         27|              1|\n",
      "|100022125|              201811|        S - SUBSIDIADO|MASCULINO|                         25|              1|\n",
      "|100028936|              201605|      C - CONTRIBUTIVO|MASCULINO|                         31|              1|\n",
      "|100036096|              202107|        S - SUBSIDIADO|MASCULINO|                         16|              1|\n",
      "|100042237|              201506|        S - SUBSIDIADO| FEMENINO|                         85|              1|\n",
      "|100046977|              202203|        S - SUBSIDIADO| FEMENINO|                         28|              1|\n",
      "|100055764|              201706|        S - SUBSIDIADO|MASCULINO|                         47|              1|\n",
      "|100058911|              201603|     NR - NO REPORTADO|MASCULINO|                         23|              1|\n",
      "| 10008432|                  54|      C - CONTRIBUTIVO|MASCULINO|                          9|              1|\n",
      "|100087946|              201404|        S - SUBSIDIADO|MASCULINO|                         90|              1|\n",
      "| 10008866|              202107|        S - SUBSIDIADO| FEMENINO|                         71|              1|\n",
      "|100103251|              201810|        S - SUBSIDIADO|MASCULINO|                         24|              1|\n",
      "|100104810|              202303|      C - CONTRIBUTIVO|MASCULINO|                         31|              1|\n",
      "| 10011254|                  72|      C - CONTRIBUTIVO| FEMENINO|                          9|              1|\n",
      "|100120209|              201909|        S - SUBSIDIADO| FEMENINO|                         15|              1|\n",
      "|100123671|              201601|        S - SUBSIDIADO|MASCULINO|                         41|              1|\n",
      "+---------+--------------------+----------------------+---------+---------------------------+---------------+\n",
      "only showing top 20 rows\n",
      "\n"
     ]
    },
    {
     "name": "stderr",
     "output_type": "stream",
     "text": [
      "\r",
      "                                                                                \r"
     ]
    }
   ],
   "source": [
    "from pyspark.sql import SparkSession\n",
    "from pyspark.sql import functions as F\n",
    "from pyspark.sql.window import Window\n",
    "\n",
    "# Crear una sesión de Spark\n",
    "#spark = SparkSession.builder.appName(\"DataFrame Example\").getOrCreate()\n",
    "\n",
    "\n",
    "# Cargar el archivo Parquet en un DataFrame\n",
    "#df = df1\n",
    "\n",
    "# Seleccionar solo las columnas deseadas (sin 'personaid_count' ya que no existe aún)\n",
    "columns_to_keep = [\n",
    "    'PersonaID','FechaDefuncionAAAAMM', 'RegimenAfiliacionSGSSS', 'Sexo','EdadMadreMomentoDiagnostico'\n",
    "    \n",
    "]\n",
    "df_filtered = df.select(*columns_to_keep)\n",
    "\n",
    "# Agregar una nueva columna con el recuento distintivo de 'personaid'\n",
    "window_spec = Window.partitionBy('PersonaID')\n",
    "df_filtered = df_filtered.withColumn('personaid_count', F.count('PersonaID').over(window_spec))\n",
    "\n",
    "# Mostrar las primeras filas del DataFrame filtrado para verificar\n",
    "df_filtered.show()\n",
    "\n",
    "# Mostrar los nombres de las columnas filtradas para verificar\n",
    "print(\"Nombres de las columnas filtradas:\")\n",
    "print(df_filtered.columns)\n",
    "\n",
    "# Agrupar por la columna 'PersonaBasicaID'\n",
    "grouped_df = df_filtered.groupBy('PersonaID').agg(\n",
    "    F.first('FechaDefuncionAAAAMM').alias('FechaDefuncionAAAAMM'),\n",
    "    F.first('RegimenAfiliacionSGSSS').alias('RegimenAfiliacionSGSSS'),\n",
    "    F.first('Sexo').alias('Sexo'),\n",
    "     F.first('EdadMadreMomentoDiagnostico').alias('EdadMadreMomentoDiagnostico'),\n",
    "   \n",
    "    \n",
    "    F.first('personaid_count').alias('personaid_count')\n",
    ")\n",
    "# Mostrar las primeras filas del DataFrame agrupado para verificar\n",
    "grouped_df.show()\n"
   ]
  },
  {
   "cell_type": "code",
   "execution_count": 31,
   "id": "8d298084",
   "metadata": {},
   "outputs": [
    {
     "name": "stderr",
     "output_type": "stream",
     "text": [
      "[Stage 21:====================================================>   (50 + 3) / 53]\r"
     ]
    },
    {
     "name": "stdout",
     "output_type": "stream",
     "text": [
      "El número de registros en el archivo Parquet es: 2497078\n"
     ]
    },
    {
     "name": "stderr",
     "output_type": "stream",
     "text": [
      "\r",
      "                                                                                \r"
     ]
    }
   ],
   "source": [
    "# Contar el número de registros - me da satisfactoriamente la cantidad de registros en cada año ( 97.416)\n",
    "record_count = grouped_df.count()\n",
    "\n",
    "# Mostrar el número de registros\n",
    "print(f\"El número de registros en el archivo Parquet es: {record_count}\")"
   ]
  },
  {
   "cell_type": "code",
   "execution_count": 32,
   "id": "fda1fe65",
   "metadata": {},
   "outputs": [],
   "source": [
    " df_final =grouped_df"
   ]
  },
  {
   "cell_type": "code",
   "execution_count": 33,
   "id": "81198905",
   "metadata": {},
   "outputs": [
    {
     "name": "stdout",
     "output_type": "stream",
     "text": [
      "El número de registros en el archivo Parquet es: 2497078\n"
     ]
    }
   ],
   "source": [
    "# Contar el número de registros - me da satisfactoriamente la cantidad de regustros \n",
    "record_count = df_final.count()\n",
    "\n",
    "# Mostrar el número de registros\n",
    "print(f\"El número de registros en el archivo Parquet es: {record_count}\")"
   ]
  },
  {
   "cell_type": "code",
   "execution_count": 34,
   "id": "137c07df",
   "metadata": {},
   "outputs": [
    {
     "name": "stdout",
     "output_type": "stream",
     "text": [
      "+---------+--------------------+----------------------+---------+---------------------------+---------------+\n",
      "|PersonaID|FechaDefuncionAAAAMM|RegimenAfiliacionSGSSS|     Sexo|EdadMadreMomentoDiagnostico|personaid_count|\n",
      "+---------+--------------------+----------------------+---------+---------------------------+---------------+\n",
      "|100002640|              201809|        S - SUBSIDIADO| FEMENINO|                         24|              1|\n",
      "|100002799|              201908|        S - SUBSIDIADO|MASCULINO|                         25|              1|\n",
      "| 10000670|              202108|        S - SUBSIDIADO| FEMENINO|                         69|              1|\n",
      "|100009195|              201907|      C - CONTRIBUTIVO| FEMENINO|                         15|              1|\n",
      "|100010864|              202203|        S - SUBSIDIADO|MASCULINO|                         27|              1|\n",
      "|100022125|              201811|        S - SUBSIDIADO|MASCULINO|                         25|              1|\n",
      "|100028936|              201605|      C - CONTRIBUTIVO|MASCULINO|                         31|              1|\n",
      "|100036096|              202107|        S - SUBSIDIADO|MASCULINO|                         16|              1|\n",
      "|100042237|              201506|        S - SUBSIDIADO| FEMENINO|                         85|              1|\n",
      "|100046977|              202203|        S - SUBSIDIADO| FEMENINO|                         28|              1|\n",
      "|100055764|              201706|        S - SUBSIDIADO|MASCULINO|                         47|              1|\n",
      "|100058911|              201603|     NR - NO REPORTADO|MASCULINO|                         23|              1|\n",
      "| 10008432|                  54|      C - CONTRIBUTIVO|MASCULINO|                          9|              1|\n",
      "|100087946|              201404|        S - SUBSIDIADO|MASCULINO|                         90|              1|\n",
      "| 10008866|              202107|        S - SUBSIDIADO| FEMENINO|                         71|              1|\n",
      "|100103251|              201810|        S - SUBSIDIADO|MASCULINO|                         24|              1|\n",
      "|100104810|              202303|      C - CONTRIBUTIVO|MASCULINO|                         31|              1|\n",
      "| 10011254|                  72|      C - CONTRIBUTIVO| FEMENINO|                          9|              1|\n",
      "|100120209|              201909|        S - SUBSIDIADO| FEMENINO|                         15|              1|\n",
      "|100123671|              201601|        S - SUBSIDIADO|MASCULINO|                         41|              1|\n",
      "+---------+--------------------+----------------------+---------+---------------------------+---------------+\n",
      "only showing top 20 rows\n",
      "\n"
     ]
    },
    {
     "name": "stderr",
     "output_type": "stream",
     "text": [
      "\r",
      "[Stage 35:>                                                         (0 + 1) / 1]\r",
      "\r",
      "                                                                                \r"
     ]
    }
   ],
   "source": [
    "# Mostrar las primeras filas del DataFrame agrupado para verificar\n",
    "df_final.show()"
   ]
  },
  {
   "cell_type": "markdown",
   "id": "256b1fd2",
   "metadata": {},
   "source": []
  },
  {
   "cell_type": "markdown",
   "id": "91886959",
   "metadata": {},
   "source": [
    "# 1.   Año, Mes, Sexo, EdadMadreMomentoDiagnostico, y RegimenAfiliacionSGSSS"
   ]
  },
  {
   "cell_type": "code",
   "execution_count": 35,
   "id": "28236e11",
   "metadata": {},
   "outputs": [],
   "source": [
    "# Cargar el archivo Parquet en un DataFrame ( uno distinto por si deseo comparar)\n",
    "df2 = df_final"
   ]
  },
  {
   "cell_type": "code",
   "execution_count": 36,
   "id": "ee40d136",
   "metadata": {},
   "outputs": [
    {
     "name": "stderr",
     "output_type": "stream",
     "text": [
      "[Stage 38:=======================================================>(82 + 1) / 83]\r"
     ]
    },
    {
     "name": "stdout",
     "output_type": "stream",
     "text": [
      "+----+---+---------+---------------------------+----------------------+------------------+--------------------+\n",
      "| Año|Mes|     Sexo|EdadMadreMomentoDiagnostico|RegimenAfiliacionSGSSS|Número_de_Personas|Número_de_Atenciones|\n",
      "+----+---+---------+---------------------------+----------------------+------------------+--------------------+\n",
      "|2015|  4|MASCULINO|                         19|     NR - NO REPORTADO|                14|                  14|\n",
      "|2019|  7| FEMENINO|                         85|      C - CONTRIBUTIVO|                85|                  85|\n",
      "|2018|  7|MASCULINO|                         21|        S - SUBSIDIADO|                22|                  22|\n",
      "|2020| 10| FEMENINO|                         88|        S - SUBSIDIADO|               111|                 111|\n",
      "|2019|  2| FEMENINO|                         39|      C - CONTRIBUTIVO|                 9|                   9|\n",
      "|2023|  5| FEMENINO|                         14|      C - CONTRIBUTIVO|                 6|                   6|\n",
      "|2020|  9| FEMENINO|                         64|        S - SUBSIDIADO|                92|                  92|\n",
      "|2022|  8|MASCULINO|                         82|        S - SUBSIDIADO|               168|                 168|\n",
      "|2022|  8|MASCULINO|                         63|        S - SUBSIDIADO|               104|                 104|\n",
      "|2023|  8| FEMENINO|                         49|        S - SUBSIDIADO|                40|                  40|\n",
      "|2022|  7|MASCULINO|                          6|        S - SUBSIDIADO|                 5|                   5|\n",
      "|2022|  9|MASCULINO|                         80|        S - SUBSIDIADO|               120|                 120|\n",
      "|2020|  3| FEMENINO|                         83|      C - CONTRIBUTIVO|                75|                  75|\n",
      "|2021|  6|MASCULINO|                         43|      C - CONTRIBUTIVO|                83|                  83|\n",
      "|2021| 11|MASCULINO|                         87|        S - SUBSIDIADO|               119|                 119|\n",
      "|2021|  9| FEMENINO|                         74|        S - SUBSIDIADO|               106|                 106|\n",
      "|2017|  6|MASCULINO|                         46|      C - CONTRIBUTIVO|                23|                  23|\n",
      "|2014|  7|MASCULINO|                         83|        S - SUBSIDIADO|               113|                 113|\n",
      "|2023|  7|MASCULINO|                         79|      C - CONTRIBUTIVO|                81|                  81|\n",
      "|2018| 12|MASCULINO|                         61|        S - SUBSIDIADO|                68|                  68|\n",
      "|2023|  4|MASCULINO|                         66|        S - SUBSIDIADO|               124|                 124|\n",
      "|2017|  9|MASCULINO|                         96|        S - SUBSIDIADO|                12|                  12|\n",
      "|2016|  8|MASCULINO|                         65|        S - SUBSIDIADO|                69|                  69|\n",
      "|2019|  6|MASCULINO|                         48|      C - CONTRIBUTIVO|                30|                  30|\n",
      "|2017| 10| FEMENINO|                         63|        S - SUBSIDIADO|                43|                  43|\n",
      "|2017|  1| FEMENINO|                         78|        S - SUBSIDIADO|                94|                  94|\n",
      "|2018| 10| FEMENINO|                         77|        S - SUBSIDIADO|                77|                  77|\n",
      "|2019| 10|MASCULINO|                         86|        S - SUBSIDIADO|               118|                 118|\n",
      "|2023|  6| FEMENINO|                         72|        S - SUBSIDIADO|                97|                  97|\n",
      "|2020| 10| FEMENINO|                         65|      C - CONTRIBUTIVO|                51|                  51|\n",
      "|2020|  6| FEMENINO|                         74|      C - CONTRIBUTIVO|                75|                  75|\n",
      "|2018| 12|MASCULINO|                         75|        S - SUBSIDIADO|               124|                 124|\n",
      "|2017|  2|MASCULINO|                         90|        S - SUBSIDIADO|                80|                  80|\n",
      "|2017| 11| FEMENINO|                         33|      C - CONTRIBUTIVO|                 8|                   8|\n",
      "|2020|  8| FEMENINO|                         63|        S - SUBSIDIADO|                85|                  85|\n",
      "|2014|  5|MASCULINO|                         60|      C - CONTRIBUTIVO|                48|                  48|\n",
      "|2016|  3| FEMENINO|                         61|      C - CONTRIBUTIVO|                42|                  42|\n",
      "|2023|  6|MASCULINO|                         43|        S - SUBSIDIADO|                46|                  46|\n",
      "|2018|  7| FEMENINO|                         72|        S - SUBSIDIADO|                92|                  92|\n",
      "|2021|  5|MASCULINO|                         83|      C - CONTRIBUTIVO|               128|                 128|\n",
      "|2018|  4| FEMENINO|                         64|         E - EXCEPCION|                10|                  10|\n",
      "|2017|  2|MASCULINO|                         95|        S - SUBSIDIADO|                24|                  24|\n",
      "|2023|  6|MASCULINO|                         82|        S - SUBSIDIADO|               167|                 167|\n",
      "|2014|  6|MASCULINO|                         64|        S - SUBSIDIADO|                66|                  66|\n",
      "|2014| 10|MASCULINO|                         25|     NR - NO REPORTADO|                27|                  27|\n",
      "|2021|  3| FEMENINO|                         60|        S - SUBSIDIADO|                69|                  69|\n",
      "|2015|  3| FEMENINO|                         18|        S - SUBSIDIADO|                 8|                   8|\n",
      "|2022| 10|MASCULINO|                         39|        S - SUBSIDIADO|                41|                  41|\n",
      "|2022|  6| FEMENINO|                         60|        S - SUBSIDIADO|                50|                  50|\n",
      "|2016|  9|MASCULINO|                         62|        S - SUBSIDIADO|                72|                  72|\n",
      "|2016| 11| FEMENINO|                         56|     NR - NO REPORTADO|                 1|                   1|\n",
      "|2017|  8|MASCULINO|                         68|      C - CONTRIBUTIVO|                48|                  48|\n",
      "|2021|  6|MASCULINO|                         54|        S - SUBSIDIADO|               124|                 124|\n",
      "|2019|  6|MASCULINO|                         84|      C - CONTRIBUTIVO|                81|                  81|\n",
      "|2019|  3|MASCULINO|                         62|      C - CONTRIBUTIVO|                54|                  54|\n",
      "|2021|  6| FEMENINO|                         81|        S - SUBSIDIADO|               197|                 197|\n",
      "|2020|  8| FEMENINO|                         57|        S - SUBSIDIADO|                71|                  71|\n",
      "|2017| 12| FEMENINO|                         79|        S - SUBSIDIADO|               117|                 117|\n",
      "|2022| 12| FEMENINO|                         73|      C - CONTRIBUTIVO|                56|                  56|\n",
      "|2019|  1| FEMENINO|                         58|      C - CONTRIBUTIVO|                23|                  23|\n",
      "|2019|  7|MASCULINO|                         76|        S - SUBSIDIADO|               115|                 115|\n",
      "|2022|  2|MASCULINO|                         89|        S - SUBSIDIADO|               124|                 124|\n",
      "|2020| 10|MASCULINO|                         67|      C - CONTRIBUTIVO|               113|                 113|\n",
      "|2019|  2|MASCULINO|                         86|        S - SUBSIDIADO|                89|                  89|\n",
      "|2020|  1|MASCULINO|                         61|        S - SUBSIDIADO|                84|                  84|\n",
      "|2019|  1| FEMENINO|                         90|      C - CONTRIBUTIVO|                98|                  98|\n",
      "|2022|  9| FEMENINO|                         81|        S - SUBSIDIADO|               133|                 133|\n",
      "|2021|  4| FEMENINO|                         71|      C - CONTRIBUTIVO|               113|                 113|\n",
      "|2020|  8|MASCULINO|                         40|        S - SUBSIDIADO|                44|                  44|\n",
      "|2019|  5|MASCULINO|                         84|      C - CONTRIBUTIVO|                63|                  63|\n",
      "|2016|  7|MASCULINO|                         95|        S - SUBSIDIADO|                31|                  31|\n",
      "|2017|  5| FEMENINO|                         49|     NR - NO REPORTADO|                 5|                   5|\n",
      "|2015|  9|MASCULINO|                         32|      C - CONTRIBUTIVO|                15|                  15|\n",
      "|2017| 10|MASCULINO|                         78|        S - SUBSIDIADO|               130|                 130|\n",
      "|2018|  5|MASCULINO|                         47|      C - CONTRIBUTIVO|                13|                  13|\n",
      "|2017| 10| FEMENINO|                         98|        S - SUBSIDIADO|                26|                  26|\n",
      "|2015|  1|MASCULINO|                         86|      C - CONTRIBUTIVO|                81|                  81|\n",
      "|2014|  6|MASCULINO|                         40|        S - SUBSIDIADO|                35|                  35|\n",
      "|2019|  8| FEMENINO|                         42|      C - CONTRIBUTIVO|                 9|                   9|\n",
      "|2014|  9| FEMENINO|                         63|     NR - NO REPORTADO|                 3|                   3|\n",
      "|2020|  3|MASCULINO|                         79|      C - CONTRIBUTIVO|                75|                  75|\n",
      "|2021| 11|MASCULINO|                         70|      C - CONTRIBUTIVO|                88|                  88|\n",
      "|2018|  5|MASCULINO|                         79|      C - CONTRIBUTIVO|                69|                  69|\n",
      "|2018|  6| FEMENINO|                         33|        S - SUBSIDIADO|                17|                  17|\n",
      "|2015|  5|MASCULINO|                         63|        S - SUBSIDIADO|                68|                  69|\n",
      "|2016|  2| FEMENINO|                         14|      C - CONTRIBUTIVO|                 4|                   4|\n",
      "|2022|  5|MASCULINO|                         28|      C - CONTRIBUTIVO|                19|                  19|\n",
      "|2021|  1|MASCULINO|                         26|      C - CONTRIBUTIVO|                37|                  37|\n",
      "|2023| 10|MASCULINO|                         25|        S - SUBSIDIADO|                40|                  40|\n",
      "|2017| 12|MASCULINO|                         66|      C - CONTRIBUTIVO|                46|                  46|\n",
      "|2020| 11| FEMENINO|                         21|        S - SUBSIDIADO|                 9|                   9|\n",
      "|2023|  6|MASCULINO|                         64|      C - CONTRIBUTIVO|                55|                  55|\n",
      "|2020|  3|MASCULINO|                         77|        S - SUBSIDIADO|               132|                 132|\n",
      "|2020| 11| FEMENINO|                         55|        S - SUBSIDIADO|                58|                  58|\n",
      "|2018|  5| FEMENINO|                         57|        S - SUBSIDIADO|                47|                  47|\n",
      "|2021|  8| FEMENINO|                         80|        S - SUBSIDIADO|               130|                 130|\n",
      "|2017|  9| FEMENINO|                         69|     NR - NO REPORTADO|                 2|                   2|\n",
      "|2020|  5| FEMENINO|                         30|      C - CONTRIBUTIVO|                 3|                   3|\n",
      "|2020| 11|MASCULINO|                         31|        S - SUBSIDIADO|                47|                  47|\n",
      "|2023|  3|MASCULINO|                         88|        S - SUBSIDIADO|                98|                  98|\n",
      "+----+---+---------+---------------------------+----------------------+------------------+--------------------+\n",
      "only showing top 100 rows\n",
      "\n",
      "Nombres de las columnas agrupadas:\n",
      "['Año', 'Mes', 'Sexo', 'EdadMadreMomentoDiagnostico', 'RegimenAfiliacionSGSSS', 'Número_de_Personas', 'Número_de_Atenciones']\n"
     ]
    },
    {
     "name": "stderr",
     "output_type": "stream",
     "text": [
      "\r",
      "                                                                                \r"
     ]
    }
   ],
   "source": [
    "from pyspark.sql import functions as F\n",
    "\n",
    "# Seleccionar solo las columnas deseadas\n",
    "columns_to_keep = [\n",
    "    'PersonaID', 'FechaDefuncionAAAAMM', 'RegimenAfiliacionSGSSS', 'Sexo','EdadMadreMomentoDiagnostico', 'personaid_count'\n",
    "]\n",
    "df_filtered = df2.select(*columns_to_keep)\n",
    "\n",
    "# Convertir 'FechaNacimientoAAAAMM' a año y mes correctamente\n",
    "df_filtered = df_filtered.withColumn(\n",
    "    'Año', F.substring(F.col('FechaDefuncionAAAAMM'), 1, 4).cast('int')\n",
    ").withColumn(\n",
    "    'Mes', F.substring(F.col('FechaDefuncionAAAAMM'), 5, 2).cast('int')\n",
    ")\n",
    "\n",
    "# Filtrar valores atípicos y nulos\n",
    "df_filtered = df_filtered.filter(\n",
    "    (F.col('Año').isNotNull()) & (F.col('Mes').isNotNull()) & (F.col('Año') > 1900)\n",
    ")\n",
    "\n",
    "# Agrupar por Año, Mes, Sexo, EdadMadreMomentoDiagnostico, y RegimenAfiliacionSGSSS\n",
    "result_df = df_filtered.groupBy('Año', 'Mes', 'Sexo','EdadMadreMomentoDiagnostico', 'RegimenAfiliacionSGSSS').agg(\n",
    "    F.countDistinct('PersonaID').alias('Número_de_Personas'),\n",
    "    F.sum('personaid_count').alias('Número_de_Atenciones')\n",
    ")\n",
    "\n",
    "# Mostrar los resultados\n",
    "result_df.show(100)\n",
    "\n",
    "# Imprimir los nombres de las columnas agrupadas para verificar\n",
    "print(\"Nombres de las columnas agrupadas:\")\n",
    "print(result_df.columns)"
   ]
  },
  {
   "cell_type": "code",
   "execution_count": 37,
   "id": "f072f0c8",
   "metadata": {},
   "outputs": [
    {
     "name": "stderr",
     "output_type": "stream",
     "text": [
      "                                                                                \r"
     ]
    }
   ],
   "source": [
    "#se escribe el parquet tabla 1- Año, Mes, Sexo, EdadMadreMomentoDiagnostico, y RegimenAfiliacionSGSSS\n",
    "result_df.write.parquet(\"hdfs:/analyticsdata/1.VITALES_Defunciones_Tabla_anio_mes_Sexo_Edad_RegimenAfiliacionSGSSS_Todos.parquet\") "
   ]
  },
  {
   "cell_type": "code",
   "execution_count": 38,
   "id": "303684e7",
   "metadata": {},
   "outputs": [],
   "source": [
    "spark.stop()"
   ]
  },
  {
   "cell_type": "code",
   "execution_count": null,
   "id": "cdfc9942",
   "metadata": {},
   "outputs": [],
   "source": []
  }
 ],
 "metadata": {
  "kernelspec": {
   "display_name": "Python 3 (ipykernel)",
   "language": "python",
   "name": "python3"
  },
  "language_info": {
   "codemirror_mode": {
    "name": "ipython",
    "version": 3
   },
   "file_extension": ".py",
   "mimetype": "text/x-python",
   "name": "python",
   "nbconvert_exporter": "python",
   "pygments_lexer": "ipython3",
   "version": "3.9.18"
  }
 },
 "nbformat": 4,
 "nbformat_minor": 5
}

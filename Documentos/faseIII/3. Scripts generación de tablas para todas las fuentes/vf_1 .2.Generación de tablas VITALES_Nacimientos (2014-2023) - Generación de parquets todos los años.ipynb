{
 "cells": [
  {
   "cell_type": "markdown",
   "id": "5e7ab853",
   "metadata": {},
   "source": [
    "# Generación de archivos parquet VITALES Nacimientos"
   ]
  },
  {
   "cell_type": "markdown",
   "id": "2cfbd12d",
   "metadata": {},
   "source": [
    "## Carga de los datos"
   ]
  },
  {
   "cell_type": "markdown",
   "id": "dc2c512b",
   "metadata": {},
   "source": [
    "Este jupyter notebook esta generando con todos los datos de Vitales Natalidad (2014 - 2023)"
   ]
  },
  {
   "cell_type": "code",
   "execution_count": 14,
   "id": "c90bfc6f",
   "metadata": {
    "scrolled": true
   },
   "outputs": [],
   "source": [
    "from pyspark.sql import SparkSession\n",
    "\n",
    "# Crear una sesión de Spark\n",
    "spark = SparkSession.builder.appName(\"GeneraciónTablasVITALES_Natalidad\").getOrCreate()"
   ]
  },
  {
   "cell_type": "code",
   "execution_count": 13,
   "id": "bdbbc1d5",
   "metadata": {},
   "outputs": [],
   "source": [
    "#spark.stop()"
   ]
  },
  {
   "cell_type": "code",
   "execution_count": 15,
   "id": "11bff43d",
   "metadata": {},
   "outputs": [
    {
     "name": "stderr",
     "output_type": "stream",
     "text": [
      "                                                                                \r"
     ]
    }
   ],
   "source": [
    "# Leer los archivos Parquet de un año \n",
    "df1_parquet = spark.read.parquet(\"/rawdata/vitales/vitales_parquet_*/\")\n",
    "\n",
    "df=df1_parquet"
   ]
  },
  {
   "cell_type": "code",
   "execution_count": 16,
   "id": "ab87d3af",
   "metadata": {},
   "outputs": [
    {
     "name": "stderr",
     "output_type": "stream",
     "text": [
      "[Stage 1:===============================================>      (102 + 14) / 116]\r"
     ]
    },
    {
     "name": "stdout",
     "output_type": "stream",
     "text": [
      "Total de registros en el DataFrame unido: 5458140\n",
      "Columnas del DataFrame unido: ['PersonaID', 'FechaNacimientoAAAAMM', 'Sexo', 'RegimenAfiliacionSGSSS', 'Administradora', 'CodigoPertenenciaEtnica', 'municipioResidencia', 'SemanasGestacion', 'EdadMadreMomentoDiagnostico', 'FechaCertificadoAAAAMM', 'IpsDondeRealizaParto', 'Peso', '__null_dask_index__']\n"
     ]
    },
    {
     "name": "stderr",
     "output_type": "stream",
     "text": [
      "\r",
      "                                                                                \r"
     ]
    }
   ],
   "source": [
    "# Contar el número de registros en el DataFrame unido\n",
    "total_registros = df.count()\n",
    "\n",
    "# Listar las columnas del DataFrame unido\n",
    "columnas = df.columns\n",
    "\n",
    "# Mostrar resultados\n",
    "print(f\"Total de registros en el DataFrame unido: {total_registros}\")\n",
    "print(f\"Columnas del DataFrame unido: {columnas}\")"
   ]
  },
  {
   "cell_type": "code",
   "execution_count": 17,
   "id": "204519cb",
   "metadata": {},
   "outputs": [
    {
     "name": "stderr",
     "output_type": "stream",
     "text": [
      "[Stage 4:============================>                          (60 + 56) / 116]\r"
     ]
    },
    {
     "name": "stdout",
     "output_type": "stream",
     "text": [
      "El número de registros en el archivo Parquet es: 5458140\n"
     ]
    },
    {
     "name": "stderr",
     "output_type": "stream",
     "text": [
      "\r",
      "[Stage 4:==============================================>        (99 + 17) / 116]\r",
      "\r",
      "                                                                                \r"
     ]
    }
   ],
   "source": [
    "# Contar el número de registros - me da satisfactoriamente la cantidad de regIstros del año 2022 (128.343)\n",
    "record_count = df.count()\n",
    "\n",
    "# Mostrar el número de registros\n",
    "print(f\"El número de registros en el archivo Parquet es: {record_count}\")"
   ]
  },
  {
   "cell_type": "code",
   "execution_count": null,
   "id": "cd2b733e",
   "metadata": {},
   "outputs": [],
   "source": [
    "Se verifica y el numero de registros corresponde exactaente al definido en el documento de exploración"
   ]
  },
  {
   "cell_type": "code",
   "execution_count": 18,
   "id": "cdde4766",
   "metadata": {},
   "outputs": [
    {
     "name": "stdout",
     "output_type": "stream",
     "text": [
      "root\n",
      " |-- PersonaID: string (nullable = true)\n",
      " |-- FechaNacimientoAAAAMM: string (nullable = true)\n",
      " |-- Sexo: string (nullable = true)\n",
      " |-- RegimenAfiliacionSGSSS: string (nullable = true)\n",
      " |-- Administradora: string (nullable = true)\n",
      " |-- CodigoPertenenciaEtnica: string (nullable = true)\n",
      " |-- municipioResidencia: string (nullable = true)\n",
      " |-- SemanasGestacion: string (nullable = true)\n",
      " |-- EdadMadreMomentoDiagnostico: string (nullable = true)\n",
      " |-- FechaCertificadoAAAAMM: string (nullable = true)\n",
      " |-- IpsDondeRealizaParto: string (nullable = true)\n",
      " |-- Peso: string (nullable = true)\n",
      " |-- __null_dask_index__: long (nullable = true)\n",
      "\n",
      "['PersonaID', 'FechaNacimientoAAAAMM', 'Sexo', 'RegimenAfiliacionSGSSS', 'Administradora', 'CodigoPertenenciaEtnica', 'municipioResidencia', 'SemanasGestacion', 'EdadMadreMomentoDiagnostico', 'FechaCertificadoAAAAMM', 'IpsDondeRealizaParto', 'Peso', '__null_dask_index__']\n"
     ]
    }
   ],
   "source": [
    "# Mostrar el esquema (columnas y tipos de datos)\n",
    "df.printSchema()\n",
    "\n",
    "# Listar las columnas\n",
    "print(df.columns)"
   ]
  },
  {
   "cell_type": "markdown",
   "id": "99d768c2",
   "metadata": {},
   "source": [
    "# Empieza el proceso de generación de los datos agrupados por atenciones para natalidades"
   ]
  },
  {
   "cell_type": "code",
   "execution_count": 19,
   "id": "1c8181d6",
   "metadata": {},
   "outputs": [
    {
     "name": "stderr",
     "output_type": "stream",
     "text": [
      "                                                                                \r"
     ]
    },
    {
     "name": "stdout",
     "output_type": "stream",
     "text": [
      "+---------+---------------------+----------------------+---------+---------------------------+---------------+\n",
      "|PersonaID|FechaNacimientoAAAAMM|RegimenAfiliacionSGSSS|     Sexo|EdadMadreMomentoDiagnostico|personaid_count|\n",
      "+---------+---------------------+----------------------+---------+---------------------------+---------------+\n",
      "|100002222|               201503|        S - SUBSIDIADO|MASCULINO|                         21|              1|\n",
      "|100007843|               201504|         E - EXCEPCION|MASCULINO|                         21|              1|\n",
      "|100009759|               201411|        S - SUBSIDIADO|MASCULINO|                         20|              1|\n",
      "|100009965|               202112|      C - CONTRIBUTIVO| FEMENINO|                         27|              1|\n",
      "|100010646|               201910|      C - CONTRIBUTIVO|MASCULINO|                         25|              1|\n",
      "| 10001567|               202101|      C - CONTRIBUTIVO| FEMENINO|                         35|              1|\n",
      "|100018012|               201806|        S - SUBSIDIADO| FEMENINO|                         25|              1|\n",
      "|100022111|               201612|        S - SUBSIDIADO| FEMENINO|                         23|              2|\n",
      "|100022111|               202007|        S - SUBSIDIADO|MASCULINO|                         26|              2|\n",
      "|100022430|               201904|        S - SUBSIDIADO|MASCULINO|                         14|              1|\n",
      "|100023036|               201506|        S - SUBSIDIADO|MASCULINO|                         21|              1|\n",
      "|100024053|               201406|        S - SUBSIDIADO|MASCULINO|                         23|              1|\n",
      "|100025648|               202002|        S - SUBSIDIADO| FEMENINO|                         16|              1|\n",
      "|100026690|               201404|      C - CONTRIBUTIVO| FEMENINO|                         19|              1|\n",
      "|100029920|               201504|        S - SUBSIDIADO|MASCULINO|                         23|              1|\n",
      "|100033221|               201810|      C - CONTRIBUTIVO|MASCULINO|                         24|              1|\n",
      "|100033313|               202010|      C - CONTRIBUTIVO| FEMENINO|                         30|              2|\n",
      "|100033313|               202010|      C - CONTRIBUTIVO|MASCULINO|                         30|              2|\n",
      "|100033954|               201803|        S - SUBSIDIADO| FEMENINO|                         25|              2|\n",
      "|100033954|               201502|        S - SUBSIDIADO| FEMENINO|                         21|              2|\n",
      "+---------+---------------------+----------------------+---------+---------------------------+---------------+\n",
      "only showing top 20 rows\n",
      "\n",
      "Nombres de las columnas filtradas:\n",
      "['PersonaID', 'FechaNacimientoAAAAMM', 'RegimenAfiliacionSGSSS', 'Sexo', 'EdadMadreMomentoDiagnostico', 'personaid_count']\n"
     ]
    },
    {
     "name": "stderr",
     "output_type": "stream",
     "text": [
      "[Stage 10:===============================>                      (68 + 48) / 116]\r"
     ]
    },
    {
     "name": "stdout",
     "output_type": "stream",
     "text": [
      "+---------+---------------------+----------------------+---------+---------------------------+---------------+\n",
      "|PersonaID|FechaNacimientoAAAAMM|RegimenAfiliacionSGSSS|     Sexo|EdadMadreMomentoDiagnostico|personaid_count|\n",
      "+---------+---------------------+----------------------+---------+---------------------------+---------------+\n",
      "|100002222|               201503|        S - SUBSIDIADO|MASCULINO|                         21|              1|\n",
      "|100007843|               201504|         E - EXCEPCION|MASCULINO|                         21|              1|\n",
      "|100009759|               201411|        S - SUBSIDIADO|MASCULINO|                         20|              1|\n",
      "|100009965|               202112|      C - CONTRIBUTIVO| FEMENINO|                         27|              1|\n",
      "|100010646|               201910|      C - CONTRIBUTIVO|MASCULINO|                         25|              1|\n",
      "| 10001567|               202101|      C - CONTRIBUTIVO| FEMENINO|                         35|              1|\n",
      "|100018012|               201806|        S - SUBSIDIADO| FEMENINO|                         25|              1|\n",
      "|100022111|               202007|        S - SUBSIDIADO|MASCULINO|                         26|              2|\n",
      "|100022430|               201904|        S - SUBSIDIADO|MASCULINO|                         14|              1|\n",
      "|100023036|               201506|        S - SUBSIDIADO|MASCULINO|                         21|              1|\n",
      "|100024053|               201406|        S - SUBSIDIADO|MASCULINO|                         23|              1|\n",
      "|100025648|               202002|        S - SUBSIDIADO| FEMENINO|                         16|              1|\n",
      "|100026690|               201404|      C - CONTRIBUTIVO| FEMENINO|                         19|              1|\n",
      "|100029920|               201504|        S - SUBSIDIADO|MASCULINO|                         23|              1|\n",
      "|100033221|               201810|      C - CONTRIBUTIVO|MASCULINO|                         24|              1|\n",
      "|100033313|               202010|      C - CONTRIBUTIVO| FEMENINO|                         30|              2|\n",
      "|100033954|               201803|        S - SUBSIDIADO| FEMENINO|                         25|              2|\n",
      "|100034216|               201510|      C - CONTRIBUTIVO| FEMENINO|                         21|              1|\n",
      "|100034459|               201702|      C - CONTRIBUTIVO| FEMENINO|                         22|              1|\n",
      "|100035237|               201410|        S - SUBSIDIADO|MASCULINO|                         20|              1|\n",
      "+---------+---------------------+----------------------+---------+---------------------------+---------------+\n",
      "only showing top 20 rows\n",
      "\n"
     ]
    },
    {
     "name": "stderr",
     "output_type": "stream",
     "text": [
      "\r",
      "                                                                                \r"
     ]
    }
   ],
   "source": [
    "from pyspark.sql import SparkSession\n",
    "from pyspark.sql import functions as F\n",
    "from pyspark.sql.window import Window\n",
    "\n",
    "# Crear una sesión de Spark\n",
    "#spark = SparkSession.builder.appName(\"DataFrame Example\").getOrCreate()\n",
    "\n",
    "\n",
    "# Cargar el archivo Parquet en un DataFrame\n",
    "#df = df1\n",
    "\n",
    "# Seleccionar solo las columnas deseadas (sin 'personaid_count' ya que no existe aún)\n",
    "columns_to_keep = [\n",
    "    'PersonaID','FechaNacimientoAAAAMM', 'RegimenAfiliacionSGSSS', 'Sexo','EdadMadreMomentoDiagnostico'\n",
    "    \n",
    "]\n",
    "df_filtered = df.select(*columns_to_keep)\n",
    "\n",
    "# Agregar una nueva columna con el recuento distintivo de 'personaid'\n",
    "window_spec = Window.partitionBy('PersonaID')\n",
    "df_filtered = df_filtered.withColumn('personaid_count', F.count('PersonaID').over(window_spec))\n",
    "\n",
    "# Mostrar las primeras filas del DataFrame filtrado para verificar\n",
    "df_filtered.show()\n",
    "\n",
    "# Mostrar los nombres de las columnas filtradas para verificar\n",
    "print(\"Nombres de las columnas filtradas:\")\n",
    "print(df_filtered.columns)\n",
    "\n",
    "# Agrupar por la columna 'PersonaBasicaID'\n",
    "grouped_df = df_filtered.groupBy('PersonaID').agg(\n",
    "    F.first('FechaNacimientoAAAAMM').alias('FechaNacimientoAAAAMM'),\n",
    "    F.first('RegimenAfiliacionSGSSS').alias('RegimenAfiliacionSGSSS'),\n",
    "    F.first('Sexo').alias('Sexo'),\n",
    "     F.first('EdadMadreMomentoDiagnostico').alias('EdadMadreMomentoDiagnostico'),\n",
    "   \n",
    "    \n",
    "    F.first('personaid_count').alias('personaid_count')\n",
    ")\n",
    "# Mostrar las primeras filas del DataFrame agrupado para verificar\n",
    "grouped_df.show()\n"
   ]
  },
  {
   "cell_type": "code",
   "execution_count": 21,
   "id": "b242c249",
   "metadata": {},
   "outputs": [
    {
     "name": "stderr",
     "output_type": "stream",
     "text": [
      "[Stage 19:==============================================>      (102 + 14) / 116]\r"
     ]
    },
    {
     "name": "stdout",
     "output_type": "stream",
     "text": [
      "El número de registros en el archivo Parquet es: 4510549\n"
     ]
    },
    {
     "name": "stderr",
     "output_type": "stream",
     "text": [
      "\r",
      "                                                                                \r"
     ]
    }
   ],
   "source": [
    "# Contar el número de registros\n",
    "record_count = grouped_df.count()\n",
    "\n",
    "# Mostrar el número de registros\n",
    "print(f\"El número de registros en el archivo Parquet es: {record_count}\")"
   ]
  },
  {
   "cell_type": "markdown",
   "id": "738289fd",
   "metadata": {},
   "source": []
  },
  {
   "cell_type": "code",
   "execution_count": 22,
   "id": "0a7707a7",
   "metadata": {},
   "outputs": [],
   "source": [
    " df_final =grouped_df\n"
   ]
  },
  {
   "cell_type": "code",
   "execution_count": 23,
   "id": "c8edd29f",
   "metadata": {},
   "outputs": [
    {
     "name": "stderr",
     "output_type": "stream",
     "text": [
      "[Stage 27:===================================>                   (46 + 25) / 71]\r"
     ]
    },
    {
     "name": "stdout",
     "output_type": "stream",
     "text": [
      "El número de registros en el archivo Parquet es: 4510549\n"
     ]
    },
    {
     "name": "stderr",
     "output_type": "stream",
     "text": [
      "\r",
      "                                                                                \r"
     ]
    }
   ],
   "source": [
    "# Contar el número de registros \n",
    "record_count = df_final.count()\n",
    "\n",
    "# Mostrar el número de registros\n",
    "print(f\"El número de registros en el archivo Parquet es: {record_count}\")"
   ]
  },
  {
   "cell_type": "code",
   "execution_count": 24,
   "id": "6c4283ae",
   "metadata": {
    "scrolled": true
   },
   "outputs": [
    {
     "name": "stderr",
     "output_type": "stream",
     "text": [
      "[Stage 33:>                                                         (0 + 1) / 1]\r"
     ]
    },
    {
     "name": "stdout",
     "output_type": "stream",
     "text": [
      "+---------+---------------------+----------------------+---------+---------------------------+---------------+\n",
      "|PersonaID|FechaNacimientoAAAAMM|RegimenAfiliacionSGSSS|     Sexo|EdadMadreMomentoDiagnostico|personaid_count|\n",
      "+---------+---------------------+----------------------+---------+---------------------------+---------------+\n",
      "|100002222|               201503|        S - SUBSIDIADO|MASCULINO|                         21|              1|\n",
      "|100007843|               201504|         E - EXCEPCION|MASCULINO|                         21|              1|\n",
      "|100009759|               201411|        S - SUBSIDIADO|MASCULINO|                         20|              1|\n",
      "|100009965|               202112|      C - CONTRIBUTIVO| FEMENINO|                         27|              1|\n",
      "|100010646|               201910|      C - CONTRIBUTIVO|MASCULINO|                         25|              1|\n",
      "| 10001567|               202101|      C - CONTRIBUTIVO| FEMENINO|                         35|              1|\n",
      "|100018012|               201806|        S - SUBSIDIADO| FEMENINO|                         25|              1|\n",
      "|100022111|               201612|        S - SUBSIDIADO| FEMENINO|                         23|              2|\n",
      "|100022430|               201904|        S - SUBSIDIADO|MASCULINO|                         14|              1|\n",
      "|100023036|               201506|        S - SUBSIDIADO|MASCULINO|                         21|              1|\n",
      "|100024053|               201406|        S - SUBSIDIADO|MASCULINO|                         23|              1|\n",
      "|100025648|               202002|        S - SUBSIDIADO| FEMENINO|                         16|              1|\n",
      "|100026690|               201404|      C - CONTRIBUTIVO| FEMENINO|                         19|              1|\n",
      "|100029920|               201504|        S - SUBSIDIADO|MASCULINO|                         23|              1|\n",
      "|100033221|               201810|      C - CONTRIBUTIVO|MASCULINO|                         24|              1|\n",
      "|100033313|               202010|      C - CONTRIBUTIVO| FEMENINO|                         30|              2|\n",
      "|100033954|               201803|        S - SUBSIDIADO| FEMENINO|                         25|              2|\n",
      "|100034216|               201510|      C - CONTRIBUTIVO| FEMENINO|                         21|              1|\n",
      "|100034459|               201702|      C - CONTRIBUTIVO| FEMENINO|                         22|              1|\n",
      "|100035237|               201410|        S - SUBSIDIADO|MASCULINO|                         20|              1|\n",
      "+---------+---------------------+----------------------+---------+---------------------------+---------------+\n",
      "only showing top 20 rows\n",
      "\n"
     ]
    },
    {
     "name": "stderr",
     "output_type": "stream",
     "text": [
      "\r",
      "                                                                                \r"
     ]
    }
   ],
   "source": [
    "# Mostrar las primeras filas del DataFrame agrupado para verificar\n",
    "df_final.show()"
   ]
  },
  {
   "cell_type": "markdown",
   "id": "3f2c7994",
   "metadata": {},
   "source": [
    " "
   ]
  },
  {
   "cell_type": "markdown",
   "id": "e121d260",
   "metadata": {},
   "source": [
    "# Empieza el proceso de generación de tablas VITALES Nacimientos"
   ]
  },
  {
   "cell_type": "markdown",
   "id": "33603b04",
   "metadata": {},
   "source": [
    "# Pagina 1 - Power BI"
   ]
  },
  {
   "cell_type": "code",
   "execution_count": 25,
   "id": "ac961489",
   "metadata": {},
   "outputs": [],
   "source": [
    "# Cargar el archivo Parquet en un DataFrame ( uno distinto por si deseo comparar)\n",
    "df2 = df_final"
   ]
  },
  {
   "cell_type": "markdown",
   "id": "8fbd717b",
   "metadata": {},
   "source": [
    "## 1. Año, Mes, Sexo, EdadMadreMomentoDiagnostico, y RegimenAfiliacionSGSSS"
   ]
  },
  {
   "cell_type": "raw",
   "id": "0e8553ba",
   "metadata": {},
   "source": [
    "#intento 1 "
   ]
  },
  {
   "cell_type": "code",
   "execution_count": 26,
   "id": "4f68792b",
   "metadata": {},
   "outputs": [],
   "source": [
    "# Selecciona la columna 'FechaRegistro' y muestra sus datos\n",
    "#df2.select('FechaNacimientoAAAAMM').show(100, truncate=False)"
   ]
  },
  {
   "cell_type": "code",
   "execution_count": 27,
   "id": "38712436",
   "metadata": {},
   "outputs": [
    {
     "name": "stderr",
     "output_type": "stream",
     "text": [
      "[Stage 36:==============================================>      (145 + 21) / 166]\r"
     ]
    },
    {
     "name": "stdout",
     "output_type": "stream",
     "text": [
      "+----+---+---------+---------------------------+----------------------+------------------+--------------------+\n",
      "| Año|Mes|     Sexo|EdadMadreMomentoDiagnostico|RegimenAfiliacionSGSSS|Número_de_Personas|Número_de_Atenciones|\n",
      "+----+---+---------+---------------------------+----------------------+------------------+--------------------+\n",
      "|2016| 10| FEMENINO|                         36|        S - SUBSIDIADO|               200|                 228|\n",
      "|2022|  8|MASCULINO|                         26|        S - SUBSIDIADO|               514|                 725|\n",
      "|2018|  7|MASCULINO|                         21|        S - SUBSIDIADO|               782|                1057|\n",
      "|2017|  6| FEMENINO|                         19|     NR - NO REPORTADO|                27|                  32|\n",
      "|2019|  2| FEMENINO|                         39|      C - CONTRIBUTIVO|               119|                 129|\n",
      "|2017| 11| FEMENINO|                         33|      C - CONTRIBUTIVO|               364|                 437|\n",
      "|2020|  6| FEMENINO|                         39|      C - CONTRIBUTIVO|               128|                 144|\n",
      "|2018|  6|MASCULINO|                         41|      C - CONTRIBUTIVO|                69|                  77|\n",
      "|2017|  7| FEMENINO|                         29|         E - EXCEPCION|                29|                  36|\n",
      "|2021|  8|MASCULINO|                         45|        S - SUBSIDIADO|                17|                  23|\n",
      "|2018|  9|MASCULINO|                         30|        S - SUBSIDIADO|               394|                 512|\n",
      "|2019|  3| FEMENINO|                         28|      C - CONTRIBUTIVO|               420|                 481|\n",
      "|2022|  5|MASCULINO|                         28|      C - CONTRIBUTIVO|               442|                 553|\n",
      "|2019| 11| FEMENINO|                         25|      C - CONTRIBUTIVO|               405|                 472|\n",
      "|2018| 10| FEMENINO|                         15|      C - CONTRIBUTIVO|                71|                  75|\n",
      "|2018|  1| FEMENINO|                         16|      C - CONTRIBUTIVO|               141|                 147|\n",
      "|2018|  1| FEMENINO|                         22|      C - CONTRIBUTIVO|               439|                 570|\n",
      "|2015|  4|MASCULINO|                         16|        S - SUBSIDIADO|               591|                 608|\n",
      "|2020|  6|MASCULINO|                         24|        S - SUBSIDIADO|               442|                 586|\n",
      "|2018| 10| FEMENINO|                         22|        S - SUBSIDIADO|               699|                 967|\n",
      "|2021|  2|MASCULINO|                         15|        S - SUBSIDIADO|               241|                 265|\n",
      "|2015|  3| FEMENINO|                         18|        S - SUBSIDIADO|               699|                 918|\n",
      "|2020|  6|MASCULINO|                         35|      C - CONTRIBUTIVO|               261|                 303|\n",
      "|2020|  1| FEMENINO|                         21|      C - CONTRIBUTIVO|               308|                 339|\n",
      "|2015|  9|MASCULINO|                         32|      C - CONTRIBUTIVO|               516|                 577|\n",
      "|2020|  3| FEMENINO|                         22|      C - CONTRIBUTIVO|               336|                 369|\n",
      "|2022|  1| FEMENINO|                         18|      C - CONTRIBUTIVO|               131|                 132|\n",
      "|2017|  1|MASCULINO|                         35|      C - CONTRIBUTIVO|               317|                 357|\n",
      "|2021|  3| FEMENINO|                         37|        S - SUBSIDIADO|               164|                 215|\n",
      "|2019|  9|MASCULINO|                         30|      C - CONTRIBUTIVO|               440|                 509|\n",
      "|2018|  6| FEMENINO|                         33|        S - SUBSIDIADO|               248|                 305|\n",
      "|2016|  4| FEMENINO|                         37|     NR - NO REPORTADO|                 5|                   7|\n",
      "|2014| 11|MASCULINO|                         33|        S - SUBSIDIADO|               293|                 343|\n",
      "|2014|  6|MASCULINO|                         40|        S - SUBSIDIADO|                86|                  91|\n",
      "|2022| 10|MASCULINO|                         39|        S - SUBSIDIADO|               106|                 152|\n",
      "|2021|  9|MASCULINO|                         28|      C - CONTRIBUTIVO|               493|                 628|\n",
      "|2020| 12| FEMENINO|                         27|      C - CONTRIBUTIVO|               359|                 423|\n",
      "|2021|  1|MASCULINO|                         26|      C - CONTRIBUTIVO|               381|                 485|\n",
      "|2015|  5| FEMENINO|                         22|      C - CONTRIBUTIVO|               449|                 553|\n",
      "|2022| 10| FEMENINO|                         27|      C - CONTRIBUTIVO|               361|                 448|\n",
      "|2021|  3| FEMENINO|                         25|      C - CONTRIBUTIVO|               432|                 581|\n",
      "|2014|  7|MASCULINO|                         18|     NR - NO REPORTADO|                65|                  94|\n",
      "|2014| 10| FEMENINO|                         22|        S - SUBSIDIADO|               772|                1012|\n",
      "|2022|  8| FEMENINO|                         26|        S - SUBSIDIADO|               481|                 714|\n",
      "|2021| 10| FEMENINO|                         24|        S - SUBSIDIADO|               555|                 790|\n",
      "|2018|  1|MASCULINO|                         18|      C - CONTRIBUTIVO|               295|                 332|\n",
      "|2020| 11| FEMENINO|                         21|        S - SUBSIDIADO|               814|                 953|\n",
      "|2019|  8|MASCULINO|                         25|     NR - NO REPORTADO|                26|                  28|\n",
      "|2017| 12|MASCULINO|                         37|      C - CONTRIBUTIVO|               295|                 341|\n",
      "|2018|  8|MASCULINO|                         30|      C - CONTRIBUTIVO|               480|                 580|\n",
      "|2022|  4|MASCULINO|                         39|      C - CONTRIBUTIVO|               137|                 167|\n",
      "|2020|  5| FEMENINO|                         30|      C - CONTRIBUTIVO|               360|                 416|\n",
      "|2014|  1| FEMENINO|                         16|        S - SUBSIDIADO|               633|                 666|\n",
      "|2022|  3|MASCULINO|                         31|        S - SUBSIDIADO|               256|                 355|\n",
      "|2022| 10|MASCULINO|                         31|        S - SUBSIDIADO|               253|                 354|\n",
      "|2014| 11|MASCULINO|                         22|      C - CONTRIBUTIVO|               466|                 572|\n",
      "|2015|  1|MASCULINO|                         30|         E - EXCEPCION|                40|                  50|\n",
      "|2021| 12| FEMENINO|                         17|      C - CONTRIBUTIVO|               101|                 109|\n",
      "|2017|  9| FEMENINO|                         15|        S - SUBSIDIADO|               346|                 393|\n",
      "|2019| 11| FEMENINO|                         16|      C - CONTRIBUTIVO|                78|                  82|\n",
      "|2018| 11| FEMENINO|                         25|      C - CONTRIBUTIVO|               500|                 612|\n",
      "|2022|  1| FEMENINO|                         28|      C - CONTRIBUTIVO|               427|                 514|\n",
      "|2016|  8| FEMENINO|                         22|        S - SUBSIDIADO|               676|                 936|\n",
      "|2018|  7| FEMENINO|                         26|        S - SUBSIDIADO|               482|                 668|\n",
      "|2017|  2|MASCULINO|                         21|      C - CONTRIBUTIVO|               457|                 589|\n",
      "|2022|  7| FEMENINO|                         28|        S - SUBSIDIADO|               358|                 506|\n",
      "|2015|  8| FEMENINO|                         18|        S - SUBSIDIADO|               696|                 939|\n",
      "|2019|  9| FEMENINO|                         22|        S - SUBSIDIADO|               638|                 819|\n",
      "|2016| 12| FEMENINO|                         29|      C - CONTRIBUTIVO|               527|                 618|\n",
      "|2021|  4| FEMENINO|                         24|      C - CONTRIBUTIVO|               317|                 394|\n",
      "|2014|  4| FEMENINO|                         34|      C - CONTRIBUTIVO|               360|                 393|\n",
      "|2016|  1| FEMENINO|                         39|      C - CONTRIBUTIVO|               164|                 177|\n",
      "|2021|  5| FEMENINO|                         16|        S - SUBSIDIADO|               471|                 504|\n",
      "|2020|  8| FEMENINO|                         18|      C - CONTRIBUTIVO|               182|                 185|\n",
      "|2021|  5| FEMENINO|                         19|      C - CONTRIBUTIVO|               210|                 219|\n",
      "|2022|  9|MASCULINO|                         19|        S - SUBSIDIADO|               791|                 815|\n",
      "|2019|  1|MASCULINO|                         38|        S - SUBSIDIADO|               135|                 154|\n",
      "|2018|  9| FEMENINO|                         30|      C - CONTRIBUTIVO|               502|                 602|\n",
      "|2017| 10|MASCULINO|                         38|      C - CONTRIBUTIVO|               190|                 227|\n",
      "|2014| 10|MASCULINO|                         26|      C - CONTRIBUTIVO|               525|                 628|\n",
      "|2015|  9|MASCULINO|                         35|        S - SUBSIDIADO|               217|                 244|\n",
      "|2017| 12| FEMENINO|                         30|      C - CONTRIBUTIVO|               490|                 574|\n",
      "|2015|  2| FEMENINO|                         27|      C - CONTRIBUTIVO|               425|                 478|\n",
      "|2020|  3| FEMENINO|                         30|        S - SUBSIDIADO|               280|                 350|\n",
      "|2015|  7|MASCULINO|                         16|      C - CONTRIBUTIVO|               202|                 206|\n",
      "|2019|  5| FEMENINO|                         36|        S - SUBSIDIADO|               149|                 173|\n",
      "|2014|  6|MASCULINO|                         34|        S - SUBSIDIADO|               226|                 252|\n",
      "|2020|  5|MASCULINO|                         31|      C - CONTRIBUTIVO|               377|                 441|\n",
      "|2015|  1| FEMENINO|                         16|        S - SUBSIDIADO|               549|                 570|\n",
      "|2015|  3| FEMENINO|                         21|        S - SUBSIDIADO|               648|                 846|\n",
      "|2022| 12|MASCULINO|                         17|        S - SUBSIDIADO|               574|                 605|\n",
      "|2014|  1| FEMENINO|                         19|      C - CONTRIBUTIVO|               293|                 383|\n",
      "|2018| 12| FEMENINO|                         23|        S - SUBSIDIADO|               634|                 922|\n",
      "|2022|  2|MASCULINO|                         21|        S - SUBSIDIADO|               705|                 814|\n",
      "|2014| 10|MASCULINO|                         30|      C - CONTRIBUTIVO|               521|                 584|\n",
      "|2018|  4| FEMENINO|                         34|        S - SUBSIDIADO|               212|                 266|\n",
      "|2019|  2| FEMENINO|                         22|      C - CONTRIBUTIVO|               339|                 397|\n",
      "|2018|  1| FEMENINO|                         36|      C - CONTRIBUTIVO|               277|                 315|\n",
      "|2022|  7|MASCULINO|                         26|      C - CONTRIBUTIVO|               416|                 506|\n",
      "|2019| 10| FEMENINO|                         41|      C - CONTRIBUTIVO|                62|                  67|\n",
      "+----+---+---------+---------------------------+----------------------+------------------+--------------------+\n",
      "only showing top 100 rows\n",
      "\n",
      "Nombres de las columnas agrupadas:\n",
      "['Año', 'Mes', 'Sexo', 'EdadMadreMomentoDiagnostico', 'RegimenAfiliacionSGSSS', 'Número_de_Personas', 'Número_de_Atenciones']\n"
     ]
    },
    {
     "name": "stderr",
     "output_type": "stream",
     "text": [
      "\r",
      "                                                                                \r"
     ]
    }
   ],
   "source": [
    "from pyspark.sql import functions as F\n",
    "\n",
    "# Seleccionar solo las columnas deseadas\n",
    "columns_to_keep = [\n",
    "    'PersonaID', 'FechaNacimientoAAAAMM', 'RegimenAfiliacionSGSSS', 'Sexo','EdadMadreMomentoDiagnostico', 'personaid_count'\n",
    "]\n",
    "df_filtered = df2.select(*columns_to_keep)\n",
    "\n",
    "# Convertir 'FechaNacimientoAAAAMM' a año y mes correctamente\n",
    "df_filtered = df_filtered.withColumn(\n",
    "    'Año', F.substring(F.col('FechaNacimientoAAAAMM'), 1, 4).cast('int')\n",
    ").withColumn(\n",
    "    'Mes', F.substring(F.col('FechaNacimientoAAAAMM'), 5, 2).cast('int')\n",
    ")\n",
    "\n",
    "# Filtrar valores atípicos y nulos\n",
    "df_filtered = df_filtered.filter(\n",
    "    (F.col('Año').isNotNull()) & (F.col('Mes').isNotNull()) & (F.col('Año') > 1900)\n",
    ")\n",
    "\n",
    "# Agrupar por Año, Mes, Sexo, EdadMadreMomentoDiagnostico, y RegimenAfiliacionSGSSS\n",
    "result_df = df_filtered.groupBy('Año', 'Mes', 'Sexo','EdadMadreMomentoDiagnostico', 'RegimenAfiliacionSGSSS').agg(\n",
    "    F.countDistinct('PersonaID').alias('Número_de_Personas'),\n",
    "    F.sum('personaid_count').alias('Número_de_Atenciones')\n",
    ")\n",
    "\n",
    "# Mostrar los resultados\n",
    "result_df.show(100)\n",
    "\n",
    "# Imprimir los nombres de las columnas agrupadas para verificar\n",
    "print(\"Nombres de las columnas agrupadas:\")\n",
    "print(result_df.columns)"
   ]
  },
  {
   "cell_type": "code",
   "execution_count": 28,
   "id": "a4c82780",
   "metadata": {},
   "outputs": [
    {
     "name": "stderr",
     "output_type": "stream",
     "text": [
      "                                                                                \r"
     ]
    }
   ],
   "source": [
    "#se escribe el parquet tabla 1- Año, Mes, Sexo, EdadMadreMomentoDiagnostico, y RegimenAfiliacionSGSSS\n",
    "result_df.write.parquet(\"hdfs:/analyticsdata/1.VITALES_Nacimientos_Tabla_anio_mes_Sexo_Edad_RegimenAfiliacionSGSSS_Todos.parquet\") "
   ]
  },
  {
   "cell_type": "code",
   "execution_count": 30,
   "id": "db5f2814",
   "metadata": {},
   "outputs": [],
   "source": [
    "spark.stop()"
   ]
  },
  {
   "cell_type": "code",
   "execution_count": null,
   "id": "cdfc9942",
   "metadata": {},
   "outputs": [],
   "source": []
  }
 ],
 "metadata": {
  "kernelspec": {
   "display_name": "Python 3 (ipykernel)",
   "language": "python",
   "name": "python3"
  },
  "language_info": {
   "codemirror_mode": {
    "name": "ipython",
    "version": 3
   },
   "file_extension": ".py",
   "mimetype": "text/x-python",
   "name": "python",
   "nbconvert_exporter": "python",
   "pygments_lexer": "ipython3",
   "version": "3.9.18"
  }
 },
 "nbformat": 4,
 "nbformat_minor": 5
}

{
 "cells": [
  {
   "cell_type": "code",
   "execution_count": 1,
   "id": "5b7b54b9",
   "metadata": {},
   "outputs": [
    {
     "name": "stderr",
     "output_type": "stream",
     "text": [
      "Setting default log level to \"WARN\".\n",
      "To adjust logging level use sc.setLogLevel(newLevel). For SparkR, use setLogLevel(newLevel).\n",
      "24/06/27 18:52:07 WARN NativeCodeLoader: Unable to load native-hadoop library for your platform... using builtin-java classes where applicable\n"
     ]
    }
   ],
   "source": [
    "from pyspark.sql import SparkSession\n",
    "\n",
    "# Crear una sesión de Spark\n",
    "spark = SparkSession.builder.appName(\"LeerArchivosVacunacionCOVIDVer2HDFS\").getOrCreate()"
   ]
  },
  {
   "cell_type": "code",
   "execution_count": 3,
   "id": "422bb383",
   "metadata": {},
   "outputs": [
    {
     "name": "stderr",
     "output_type": "stream",
     "text": [
      "                                                                                \r"
     ]
    }
   ],
   "source": [
    "from pyspark.sql.functions import col\n",
    "\n",
    "# Crear directorios para guardar registros malformados\n",
    "bad_records_path1 = \"/tmp/bad_records1\"\n",
    "bad_records_path2 = \"/tmp/bad_records2\"\n",
    "\n",
    "# Leer el primer archivo\n",
    "df_2021_parte1 = spark.read \\\n",
    "    .format(\"csv\") \\\n",
    "    .option(\"delimiter\", \",\") \\\n",
    "    .option(\"header\", \"true\") \\\n",
    "    .option(\"encoding\", \"latin1\") \\\n",
    "    .option(\"mode\", \"DROPMALFORMED\") \\\n",
    "    .load(\"/rawdata/vacunascovid/vacunaci_nCOVID-19_2021_parte1.txt\")\n",
    "\n",
    "# Leer el segundo archivo\n",
    "df_2021_parte2 = spark.read \\\n",
    "    .format(\"csv\") \\\n",
    "    .option(\"delimiter\", \",\") \\\n",
    "    .option(\"header\", \"true\") \\\n",
    "    .option(\"encoding\", \"latin1\") \\\n",
    "    .option(\"mode\", \"DROPMALFORMED\") \\\n",
    "    .load(\"/rawdata/vacunascovid/vacunaci_nCOVID-19_2021_parte2.txt\")\n",
    "\n",
    "# Leer el primer archivo\n",
    "df_2021_parte3 = spark.read \\\n",
    "    .format(\"csv\") \\\n",
    "    .option(\"delimiter\", \",\") \\\n",
    "    .option(\"header\", \"true\") \\\n",
    "    .option(\"encoding\", \"latin1\") \\\n",
    "    .option(\"mode\", \"DROPMALFORMED\") \\\n",
    "    .load(\"/rawdata/vacunascovid/vacunaci_nCOVID-19_2021_parte3.txt\")\n",
    "\n",
    "# Leer el segundo archivo\n",
    "df_2022 = spark.read \\\n",
    "    .format(\"csv\") \\\n",
    "    .option(\"delimiter\", \",\") \\\n",
    "    .option(\"header\", \"true\") \\\n",
    "    .option(\"encoding\", \"latin1\") \\\n",
    "    .option(\"mode\", \"DROPMALFORMED\") \\\n",
    "    .load(\"/rawdata/vacunascovid/vacunaci_nCOVID-19_2022.txt\")"
   ]
  },
  {
   "cell_type": "code",
   "execution_count": 4,
   "id": "7ad92178",
   "metadata": {},
   "outputs": [
    {
     "name": "stderr",
     "output_type": "stream",
     "text": [
      "                                                                                \r"
     ]
    }
   ],
   "source": [
    "# Contar los registros\n",
    "registros_df_2021_parte1 = df_2021_parte1.count()\n",
    "registros_df_2021_parte2 = df_2021_parte2.count()\n",
    "registros_df_2021_parte3 = df_2021_parte3.count()\n",
    "registros_df_2022 = df_2022.count()\n",
    "# Listar los nombres de las columnas\n",
    "columnas_df_2021_parte1 = df_2021_parte1.columns\n",
    "columnas_df_2021_parte2 = df_2021_parte2.columns\n",
    "columnas_df_2021_parte3 = df_2021_parte3.columns\n",
    "columnas_df_2022 = df_2022.columns"
   ]
  },
  {
   "cell_type": "code",
   "execution_count": 5,
   "id": "c27ddd29",
   "metadata": {},
   "outputs": [
    {
     "name": "stdout",
     "output_type": "stream",
     "text": [
      "Archivo 2021 parte 1: 18459779 registros\n",
      "Columnas del Archivo 2021 parte 1: ['IDAnonimizado', 'PersonabasicaID', 'NroDosis', 'Biologico', 'FechaAplicacion', 'CodigoDepartamentoAplicacion', 'DepartamentoAplicacion', 'CodigoMunicipioAplicacion', 'MunicipioAplicacion', 'CodigoDepartamentoResidencia', 'DepartamentoResidencia', 'CodigoMunicipioResidencia', 'MunicipioResidencia', 'TipoDocumentoIdentificacion', 'Sexo', 'Edad', 'TipoRegimenAfiliacion', 'CriterioPriorizacion', 'CAC_HTA', 'CAC_HTA_FechaDiagnostico', 'CAC_DM', 'CAC_DM_FechaDiagnostico', 'CAC_ERC', 'CAC_ERC_FechaDiagnostico', 'CAC_VIH', 'CAC_VIH_FechaDiagnostico', 'CAC_Cancer', 'CAC_Cancer_FechaDiagnostico', 'DefuncionSospechosoCOVID', 'FechaDefuncion', 'CodigoDepartamentoOcurrencia', 'DepartamentoOcurrencia', 'CodigoMunicipioOcurrencia', 'MunicipioOcurrencia', 'CodigoDepartamentoResidenciaFallecido', 'DepartamentoResidenciaFallecido', 'CodigoMunicipioResidenciaFallecido', 'MunicipioResidenciaFallecido', 'SitioDefuncion', 'RecibioAsistenciaMedica', 'AreaResidenciaFallecido', 'CausaBasicaDefuncion', 'CausaAntecedente1Defuncion', 'CausaAntecedente2Defuncion', 'CausaAntecedente3Defuncion']\n",
      "Archivo 2021 parte 2: 21116286 registros\n",
      "Columnas del Archivo 2021 parte 2: ['IDAnonimizado', 'PersonabasicaID', 'NroDosis', 'Biologico', 'FechaAplicacion', 'CodigoDepartamentoAplicacion', 'DepartamentoAplicacion', 'CodigoMunicipioAplicacion', 'MunicipioAplicacion', 'CodigoDepartamentoResidencia', 'DepartamentoResidencia', 'CodigoMunicipioResidencia', 'MunicipioResidencia', 'TipoDocumentoIdentificacion', 'Sexo', 'Edad', 'TipoRegimenAfiliacion', 'CriterioPriorizacion', 'CAC_HTA', 'CAC_HTA_FechaDiagnostico', 'CAC_DM', 'CAC_DM_FechaDiagnostico', 'CAC_ERC', 'CAC_ERC_FechaDiagnostico', 'CAC_VIH', 'CAC_VIH_FechaDiagnostico', 'CAC_Cancer', 'CAC_Cancer_FechaDiagnostico', 'DefuncionSospechosoCOVID', 'FechaDefuncion', 'CodigoDepartamentoOcurrencia', 'DepartamentoOcurrencia', 'CodigoMunicipioOcurrencia', 'MunicipioOcurrencia', 'CodigoDepartamentoResidenciaFallecido', 'DepartamentoResidenciaFallecido', 'CodigoMunicipioResidenciaFallecido', 'MunicipioResidenciaFallecido', 'SitioDefuncion', 'RecibioAsistenciaMedica', 'AreaResidenciaFallecido', 'CausaBasicaDefuncion', 'CausaAntecedente1Defuncion', 'CausaAntecedente2Defuncion', 'CausaAntecedente3Defuncion']\n",
      "Archivo 2021 parte 3: 20328627 registros\n",
      "Columnas del Archivo 2021 parte 3: ['IDAnonimizado', 'PersonabasicaID', 'NroDosis', 'Biologico', 'FechaAplicacion', 'CodigoDepartamentoAplicacion', 'DepartamentoAplicacion', 'CodigoMunicipioAplicacion', 'MunicipioAplicacion', 'CodigoDepartamentoResidencia', 'DepartamentoResidencia', 'CodigoMunicipioResidencia', 'MunicipioResidencia', 'TipoDocumentoIdentificacion', 'Sexo', 'Edad', 'TipoRegimenAfiliacion', 'CriterioPriorizacion', 'CAC_HTA', 'CAC_HTA_FechaDiagnostico', 'CAC_DM', 'CAC_DM_FechaDiagnostico', 'CAC_ERC', 'CAC_ERC_FechaDiagnostico', 'CAC_VIH', 'CAC_VIH_FechaDiagnostico', 'CAC_Cancer', 'CAC_Cancer_FechaDiagnostico', 'DefuncionSospechosoCOVID', 'FechaDefuncion', 'CodigoDepartamentoOcurrencia', 'DepartamentoOcurrencia', 'CodigoMunicipioOcurrencia', 'MunicipioOcurrencia', 'CodigoDepartamentoResidenciaFallecido', 'DepartamentoResidenciaFallecido', 'CodigoMunicipioResidenciaFallecido', 'MunicipioResidenciaFallecido', 'SitioDefuncion', 'RecibioAsistenciaMedica', 'AreaResidenciaFallecido', 'CausaBasicaDefuncion', 'CausaAntecedente1Defuncion', 'CausaAntecedente2Defuncion', 'CausaAntecedente3Defuncion']\n",
      "Archivo 2022: 20891832 registros\n",
      "Columnas del Archivo 2022: ['IDAnonimizado', 'PersonabasicaID', 'NroDosis', 'Biologico', 'FechaAplicacion', 'CodigoDepartamentoAplicacion', 'DepartamentoAplicacion', 'CodigoMunicipioAplicacion', 'MunicipioAplicacion', 'CodigoDepartamentoResidencia', 'DepartamentoResidencia', 'CodigoMunicipioResidencia', 'MunicipioResidencia', 'TipoDocumentoIdentificacion', 'Sexo', 'Edad', 'TipoRegimenAfiliacion', 'CriterioPriorizacion', 'CAC_HTA', 'CAC_HTA_FechaDiagnostico', 'CAC_DM', 'CAC_DM_FechaDiagnostico', 'CAC_ERC', 'CAC_ERC_FechaDiagnostico', 'CAC_VIH', 'CAC_VIH_FechaDiagnostico', 'CAC_Cancer', 'CAC_Cancer_FechaDiagnostico', 'DefuncionSospechosoCOVID', 'FechaDefuncion', 'CodigoDepartamentoOcurrencia', 'DepartamentoOcurrencia', 'CodigoMunicipioOcurrencia', 'MunicipioOcurrencia', 'CodigoDepartamentoResidenciaFallecido', 'DepartamentoResidenciaFallecido', 'CodigoMunicipioResidenciaFallecido', 'MunicipioResidenciaFallecido', 'SitioDefuncion', 'RecibioAsistenciaMedica', 'AreaResidenciaFallecido', 'CausaBasicaDefuncion', 'CausaAntecedente1Defuncion', 'CausaAntecedente2Defuncion', 'CausaAntecedente3Defuncion']\n"
     ]
    }
   ],
   "source": [
    "# Mostrar resultados\n",
    "print(f\"Archivo 2021 parte 1: {registros_df_2021_parte1} registros\")\n",
    "print(f\"Columnas del Archivo 2021 parte 1: {columnas_df_2021_parte1}\")\n",
    "print(f\"Archivo 2021 parte 2: {registros_df_2021_parte2} registros\")\n",
    "print(f\"Columnas del Archivo 2021 parte 2: {columnas_df_2021_parte2}\")\n",
    "print(f\"Archivo 2021 parte 3: {registros_df_2021_parte3} registros\")\n",
    "print(f\"Columnas del Archivo 2021 parte 3: {columnas_df_2021_parte3}\")\n",
    "print(f\"Archivo 2022: {registros_df_2022} registros\")\n",
    "print(f\"Columnas del Archivo 2022: {columnas_df_2022}\")"
   ]
  },
  {
   "cell_type": "code",
   "execution_count": 6,
   "id": "46ba8dff",
   "metadata": {},
   "outputs": [
    {
     "name": "stderr",
     "output_type": "stream",
     "text": [
      "                                                                                \r"
     ]
    },
    {
     "name": "stdout",
     "output_type": "stream",
     "text": [
      "Total de registros en el DataFrame unido: 80796524\n",
      "Columnas del DataFrame unido: ['IDAnonimizado', 'PersonabasicaID', 'NroDosis', 'Biologico', 'FechaAplicacion', 'CodigoDepartamentoAplicacion', 'DepartamentoAplicacion', 'CodigoMunicipioAplicacion', 'MunicipioAplicacion', 'CodigoDepartamentoResidencia', 'DepartamentoResidencia', 'CodigoMunicipioResidencia', 'MunicipioResidencia', 'TipoDocumentoIdentificacion', 'Sexo', 'Edad', 'TipoRegimenAfiliacion', 'CriterioPriorizacion', 'CAC_HTA', 'CAC_HTA_FechaDiagnostico', 'CAC_DM', 'CAC_DM_FechaDiagnostico', 'CAC_ERC', 'CAC_ERC_FechaDiagnostico', 'CAC_VIH', 'CAC_VIH_FechaDiagnostico', 'CAC_Cancer', 'CAC_Cancer_FechaDiagnostico', 'DefuncionSospechosoCOVID', 'FechaDefuncion', 'CodigoDepartamentoOcurrencia', 'DepartamentoOcurrencia', 'CodigoMunicipioOcurrencia', 'MunicipioOcurrencia', 'CodigoDepartamentoResidenciaFallecido', 'DepartamentoResidenciaFallecido', 'CodigoMunicipioResidenciaFallecido', 'MunicipioResidenciaFallecido', 'SitioDefuncion', 'RecibioAsistenciaMedica', 'AreaResidenciaFallecido', 'CausaBasicaDefuncion', 'CausaAntecedente1Defuncion', 'CausaAntecedente2Defuncion', 'CausaAntecedente3Defuncion']\n"
     ]
    }
   ],
   "source": [
    "# Unir los DataFrames\n",
    "df_unido = df_2021_parte1.union(df_2021_parte2).union(df_2021_parte3).union(df_2022)\n",
    "\n",
    "# Contar el número de registros en el DataFrame unido\n",
    "total_registros = df_unido.count()\n",
    "\n",
    "# Listar las columnas del DataFrame unido\n",
    "columnas = df_unido.columns\n",
    "\n",
    "# Mostrar resultados\n",
    "print(f\"Total de registros en el DataFrame unido: {total_registros}\")\n",
    "print(f\"Columnas del DataFrame unido: {columnas}\")\n",
    "\n",
    "# Detener la sesión de Spark\n",
    "spark.stop()"
   ]
  },
  {
   "cell_type": "code",
   "execution_count": null,
   "id": "fff5f825",
   "metadata": {},
   "outputs": [],
   "source": []
  }
 ],
 "metadata": {
  "kernelspec": {
   "display_name": "Spark (Python)",
   "language": "python",
   "name": "spark_python"
  },
  "language_info": {
   "codemirror_mode": {
    "name": "ipython",
    "version": 3
   },
   "file_extension": ".py",
   "mimetype": "text/x-python",
   "name": "python",
   "nbconvert_exporter": "python",
   "pygments_lexer": "ipython3",
   "version": "3.9.18"
  }
 },
 "nbformat": 4,
 "nbformat_minor": 5
}

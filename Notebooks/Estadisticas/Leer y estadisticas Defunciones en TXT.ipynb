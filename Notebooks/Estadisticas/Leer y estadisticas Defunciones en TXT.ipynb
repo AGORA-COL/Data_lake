{
 "cells": [
  {
   "cell_type": "code",
   "execution_count": 1,
   "id": "5b7b54b9",
   "metadata": {},
   "outputs": [
    {
     "name": "stderr",
     "output_type": "stream",
     "text": [
      "Setting default log level to \"WARN\".\n",
      "To adjust logging level use sc.setLogLevel(newLevel). For SparkR, use setLogLevel(newLevel).\n",
      "24/06/26 18:52:29 WARN NativeCodeLoader: Unable to load native-hadoop library for your platform... using builtin-java classes where applicable\n"
     ]
    }
   ],
   "source": [
    "from pyspark.sql import SparkSession\n",
    "\n",
    "# Crear una sesión de Spark\n",
    "spark = SparkSession.builder.appName(\"LeerArchivosDefuncionesHDFS\").getOrCreate()"
   ]
  },
  {
   "cell_type": "code",
   "execution_count": 2,
   "id": "422bb383",
   "metadata": {},
   "outputs": [
    {
     "name": "stderr",
     "output_type": "stream",
     "text": [
      "                                                                                \r"
     ]
    }
   ],
   "source": [
    "from pyspark.sql.functions import col\n",
    "\n",
    "# Crear directorios para guardar registros malformados\n",
    "bad_records_path1 = \"/tmp/bad_records1\"\n",
    "bad_records_path2 = \"/tmp/bad_records2\"\n",
    "\n",
    "# Leer el primer archivo\n",
    "df1 = spark.read \\\n",
    "    .format(\"csv\") \\\n",
    "    .option(\"delimiter\", \",\") \\\n",
    "    .option(\"header\", \"true\") \\\n",
    "    .option(\"encoding\", \"latin1\") \\\n",
    "    .option(\"mode\", \"DROPMALFORMED\") \\\n",
    "    .load(\"/rawdata/vitales/defunciones/ConsultarDefunciones_2008_a_2016.txt\")\n",
    "\n",
    "# Leer el segundo archivo\n",
    "df2 = spark.read \\\n",
    "    .format(\"csv\") \\\n",
    "    .option(\"delimiter\", \",\") \\\n",
    "    .option(\"header\", \"true\") \\\n",
    "    .option(\"encoding\", \"latin1\") \\\n",
    "    .option(\"mode\", \"DROPMALFORMED\") \\\n",
    "    .load(\"/rawdata/vitales/defunciones/ConsultarDefunciones_2017_a_2023.txt\")"
   ]
  },
  {
   "cell_type": "code",
   "execution_count": 3,
   "id": "7ad92178",
   "metadata": {},
   "outputs": [
    {
     "name": "stderr",
     "output_type": "stream",
     "text": [
      "                                                                                \r"
     ]
    }
   ],
   "source": [
    "# Contar los registros\n",
    "registros_df1 = df1.count()\n",
    "registros_df2 = df2.count()\n",
    "# Listar los nombres de las columnas\n",
    "columnas_df1 = df1.columns\n",
    "columnas_df2 = df2.columns"
   ]
  },
  {
   "cell_type": "code",
   "execution_count": 4,
   "id": "c27ddd29",
   "metadata": {},
   "outputs": [
    {
     "name": "stdout",
     "output_type": "stream",
     "text": [
      "Archivo 1: 2044777 registros\n",
      "Columnas del Archivo 1: ['PersonaID', 'Sexo', 'RegimenAfiliacionSGSSS', 'Administradora', 'CodigoPertenenciaEtnica', 'municipioResidencia', 'SemanasGestacion', 'EdadMadreMomentoDiagnostico', 'FechaDefuncionAAAAMM', 'IpsDondeRealizaParto', 'Peso', 'AnoID']\n",
      "Archivo 2: 2119590 registros\n",
      "Columnas del Archivo 2: ['PersonaID', 'Sexo', 'RegimenAfiliacionSGSSS', 'Administradora', 'CodigoPertenenciaEtnica', 'municipioResidencia', 'SemanasGestacion', 'EdadMadreMomentoDiagnostico', 'FechaDefuncionAAAAMM', 'IpsDondeRealizaParto', 'Peso', 'AnoID']\n"
     ]
    }
   ],
   "source": [
    "# Mostrar resultados\n",
    "print(f\"Archivo 1: {registros_df1} registros\")\n",
    "print(f\"Columnas del Archivo 1: {columnas_df1}\")\n",
    "print(f\"Archivo 2: {registros_df2} registros\")\n",
    "print(f\"Columnas del Archivo 2: {columnas_df2}\")"
   ]
  },
  {
   "cell_type": "code",
   "execution_count": 5,
   "id": "925ce7b6",
   "metadata": {},
   "outputs": [
    {
     "name": "stdout",
     "output_type": "stream",
     "text": [
      "Archivo 1: 0 registros problemáticos\n",
      "Archivo 2: 0 registros problemáticos\n"
     ]
    }
   ],
   "source": [
    "# Leer y contar los registros malformados del primer archivo\n",
    "bad_df1 = spark.read.format(\"text\").load(bad_records_path1)\n",
    "bad_records_df1 = bad_df1.count()\n",
    "\n",
    "# Leer y contar los registros malformados del segundo archivo\n",
    "bad_df2 = spark.read.format(\"text\").load(bad_records_path2)\n",
    "bad_records_df2 = bad_df2.count()\n",
    "\n",
    "print(f\"Archivo 1: {bad_records_df1} registros problemáticos\")\n",
    "print(f\"Archivo 2: {bad_records_df2} registros problemáticos\")"
   ]
  },
  {
   "cell_type": "code",
   "execution_count": 7,
   "id": "46ba8dff",
   "metadata": {},
   "outputs": [
    {
     "name": "stderr",
     "output_type": "stream",
     "text": [
      "\r",
      "[Stage 15:=======================>                              (63 + 82) / 145]\r"
     ]
    },
    {
     "name": "stdout",
     "output_type": "stream",
     "text": [
      "Total de registros unidos: 4164367\n",
      "Total de variables: 12\n"
     ]
    },
    {
     "name": "stderr",
     "output_type": "stream",
     "text": [
      "\r",
      "                                                                                \r"
     ]
    }
   ],
   "source": [
    "# Unir los DataFrames\n",
    "df_unido = df1.union(df2)\n",
    "\n",
    "# Calcular el total de registros y variables\n",
    "total_registros = df_unido.count()\n",
    "total_variables = len(df_unido.columns)\n",
    "\n",
    "print(f\"Total de registros unidos: {total_registros}\")\n",
    "print(f\"Total de variables: {total_variables}\")"
   ]
  }
 ],
 "metadata": {
  "kernelspec": {
   "display_name": "Spark (Python)",
   "language": "python",
   "name": "spark_python"
  },
  "language_info": {
   "codemirror_mode": {
    "name": "ipython",
    "version": 3
   },
   "file_extension": ".py",
   "mimetype": "text/x-python",
   "name": "python",
   "nbconvert_exporter": "python",
   "pygments_lexer": "ipython3",
   "version": "3.9.18"
  }
 },
 "nbformat": 4,
 "nbformat_minor": 5
}

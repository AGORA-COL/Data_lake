{
 "cells": [
  {
   "cell_type": "markdown",
   "id": "5e7ab853",
   "metadata": {},
   "source": [
    "# Validación de datos VACUNASCOVIDv2"
   ]
  },
  {
   "cell_type": "markdown",
   "id": "2cfbd12d",
   "metadata": {},
   "source": [
    "## Carga de los datos"
   ]
  },
  {
   "cell_type": "markdown",
   "id": "dc2c512b",
   "metadata": {},
   "source": [
    "Este jupyter notebook esta generando los datos de un año en especifico (2022 el parquet part.0.parquet de VACUNASCOVIDv2) para coincidir con las tablas compartidas del  power bi (Tablas agregadas) "
   ]
  },
  {
   "cell_type": "code",
   "execution_count": 1,
   "id": "c90bfc6f",
   "metadata": {},
   "outputs": [
    {
     "name": "stderr",
     "output_type": "stream",
     "text": [
      "Setting default log level to \"WARN\".\n",
      "To adjust logging level use sc.setLogLevel(newLevel). For SparkR, use setLogLevel(newLevel).\n",
      "24/09/02 20:29:40 WARN NativeCodeLoader: Unable to load native-hadoop library for your platform... using builtin-java classes where applicable\n"
     ]
    }
   ],
   "source": [
    "from pyspark.sql import SparkSession\n",
    "\n",
    "# Crear una sesión de Spark\n",
    "spark = SparkSession.builder.appName(\"ValidaciónTablasVACUNASCOVIDv2\").getOrCreate()"
   ]
  },
  {
   "cell_type": "code",
   "execution_count": 19,
   "id": "bdbbc1d5",
   "metadata": {},
   "outputs": [],
   "source": [
    "#spark.stop()"
   ]
  },
  {
   "cell_type": "code",
   "execution_count": 2,
   "id": "11bff43d",
   "metadata": {},
   "outputs": [
    {
     "name": "stderr",
     "output_type": "stream",
     "text": [
      "                                                                                \r"
     ]
    }
   ],
   "source": [
    "# Leer los archivos Parquet de un año \n",
    "df1_parquet = spark.read.parquet(\"/rawdata/vacunascovid/vacunascovid_ver2_parquet_2022/part.0.parquet\")\n",
    "\n",
    "df=df1_parquet"
   ]
  },
  {
   "cell_type": "code",
   "execution_count": 3,
   "id": "ab87d3af",
   "metadata": {},
   "outputs": [
    {
     "name": "stderr",
     "output_type": "stream",
     "text": [
      "[Stage 3:>                                                          (0 + 1) / 1]\r"
     ]
    },
    {
     "name": "stdout",
     "output_type": "stream",
     "text": [
      "Total de registros en el DataFrame unido: 20402\n",
      "Columnas del DataFrame unido: ['IDAnonimizado', 'PersonabasicaID', 'NroDosis', 'Biologico', 'FechaAplicacion', 'CodigoDepartamentoAplicacion', 'DepartamentoAplicacion', 'CodigoMunicipioAplicacion', 'MunicipioAplicacion', 'CodigoDepartamentoResidencia', 'DepartamentoResidencia', 'CodigoMunicipioResidencia', 'MunicipioResidencia', 'TipoDocumentoIdentificacion', 'Sexo', 'Edad', 'TipoRegimenAfiliacion', 'CriterioPriorizacion', 'CAC_HTA', 'CAC_HTA_FechaDiagnostico', 'CAC_DM', 'CAC_DM_FechaDiagnostico', 'CAC_ERC', 'CAC_ERC_FechaDiagnostico', 'CAC_VIH', 'CAC_VIH_FechaDiagnostico', 'CAC_Cancer', 'CAC_Cancer_FechaDiagnostico', 'DefuncionSospechosoCOVID', 'FechaDefuncion', 'CodigoDepartamentoOcurrencia', 'DepartamentoOcurrencia', 'CodigoMunicipioOcurrencia', 'MunicipioOcurrencia', 'CodigoDepartamentoResidenciaFallecido', 'DepartamentoResidenciaFallecido', 'CodigoMunicipioResidenciaFallecido', 'MunicipioResidenciaFallecido', 'SitioDefuncion', 'RecibioAsistenciaMedica', 'AreaResidenciaFallecido', 'CausaBasicaDefuncion', 'CausaAntecedente1Defuncion', 'CausaAntecedente2Defuncion', 'CausaAntecedente3Defuncion']\n"
     ]
    },
    {
     "name": "stderr",
     "output_type": "stream",
     "text": [
      "\r",
      "                                                                                \r"
     ]
    }
   ],
   "source": [
    "# Contar el número de registros en el DataFrame \n",
    "total_registros = df.count()\n",
    "\n",
    "# Listar las columnas del DataFrame \n",
    "columnas = df.columns\n",
    "\n",
    "# Mostrar resultados\n",
    "print(f\"Total de registros en el DataFrame unido: {total_registros}\")\n",
    "print(f\"Columnas del DataFrame unido: {columnas}\")"
   ]
  },
  {
   "cell_type": "code",
   "execution_count": 6,
   "id": "204519cb",
   "metadata": {},
   "outputs": [
    {
     "name": "stderr",
     "output_type": "stream",
     "text": [
      "[Stage 9:>                                                          (0 + 1) / 1]\r"
     ]
    },
    {
     "name": "stdout",
     "output_type": "stream",
     "text": [
      "El número de registros en el archivo Parquet es: 20402\n"
     ]
    },
    {
     "name": "stderr",
     "output_type": "stream",
     "text": [
      "\r",
      "                                                                                \r"
     ]
    }
   ],
   "source": [
    "# Contar el número de registros - me da satisfactoriamente la cantidad de regIstros del año 2022 ()\n",
    "record_count = df.count()\n",
    "\n",
    "# Mostrar el número de registros\n",
    "print(f\"El número de registros en el archivo Parquet es: {record_count}\")"
   ]
  },
  {
   "cell_type": "code",
   "execution_count": 7,
   "id": "cdde4766",
   "metadata": {},
   "outputs": [
    {
     "name": "stdout",
     "output_type": "stream",
     "text": [
      "root\n",
      " |-- IDAnonimizado: string (nullable = true)\n",
      " |-- PersonabasicaID: string (nullable = true)\n",
      " |-- NroDosis: string (nullable = true)\n",
      " |-- Biologico: string (nullable = true)\n",
      " |-- FechaAplicacion: string (nullable = true)\n",
      " |-- CodigoDepartamentoAplicacion: string (nullable = true)\n",
      " |-- DepartamentoAplicacion: string (nullable = true)\n",
      " |-- CodigoMunicipioAplicacion: string (nullable = true)\n",
      " |-- MunicipioAplicacion: string (nullable = true)\n",
      " |-- CodigoDepartamentoResidencia: string (nullable = true)\n",
      " |-- DepartamentoResidencia: string (nullable = true)\n",
      " |-- CodigoMunicipioResidencia: string (nullable = true)\n",
      " |-- MunicipioResidencia: string (nullable = true)\n",
      " |-- TipoDocumentoIdentificacion: string (nullable = true)\n",
      " |-- Sexo: string (nullable = true)\n",
      " |-- Edad: string (nullable = true)\n",
      " |-- TipoRegimenAfiliacion: string (nullable = true)\n",
      " |-- CriterioPriorizacion: string (nullable = true)\n",
      " |-- CAC_HTA: string (nullable = true)\n",
      " |-- CAC_HTA_FechaDiagnostico: string (nullable = true)\n",
      " |-- CAC_DM: string (nullable = true)\n",
      " |-- CAC_DM_FechaDiagnostico: string (nullable = true)\n",
      " |-- CAC_ERC: string (nullable = true)\n",
      " |-- CAC_ERC_FechaDiagnostico: string (nullable = true)\n",
      " |-- CAC_VIH: string (nullable = true)\n",
      " |-- CAC_VIH_FechaDiagnostico: string (nullable = true)\n",
      " |-- CAC_Cancer: string (nullable = true)\n",
      " |-- CAC_Cancer_FechaDiagnostico: string (nullable = true)\n",
      " |-- DefuncionSospechosoCOVID: string (nullable = true)\n",
      " |-- FechaDefuncion: string (nullable = true)\n",
      " |-- CodigoDepartamentoOcurrencia: string (nullable = true)\n",
      " |-- DepartamentoOcurrencia: string (nullable = true)\n",
      " |-- CodigoMunicipioOcurrencia: string (nullable = true)\n",
      " |-- MunicipioOcurrencia: string (nullable = true)\n",
      " |-- CodigoDepartamentoResidenciaFallecido: string (nullable = true)\n",
      " |-- DepartamentoResidenciaFallecido: string (nullable = true)\n",
      " |-- CodigoMunicipioResidenciaFallecido: string (nullable = true)\n",
      " |-- MunicipioResidenciaFallecido: string (nullable = true)\n",
      " |-- SitioDefuncion: string (nullable = true)\n",
      " |-- RecibioAsistenciaMedica: string (nullable = true)\n",
      " |-- AreaResidenciaFallecido: string (nullable = true)\n",
      " |-- CausaBasicaDefuncion: string (nullable = true)\n",
      " |-- CausaAntecedente1Defuncion: string (nullable = true)\n",
      " |-- CausaAntecedente2Defuncion: string (nullable = true)\n",
      " |-- CausaAntecedente3Defuncion: string (nullable = true)\n",
      "\n",
      "['IDAnonimizado', 'PersonabasicaID', 'NroDosis', 'Biologico', 'FechaAplicacion', 'CodigoDepartamentoAplicacion', 'DepartamentoAplicacion', 'CodigoMunicipioAplicacion', 'MunicipioAplicacion', 'CodigoDepartamentoResidencia', 'DepartamentoResidencia', 'CodigoMunicipioResidencia', 'MunicipioResidencia', 'TipoDocumentoIdentificacion', 'Sexo', 'Edad', 'TipoRegimenAfiliacion', 'CriterioPriorizacion', 'CAC_HTA', 'CAC_HTA_FechaDiagnostico', 'CAC_DM', 'CAC_DM_FechaDiagnostico', 'CAC_ERC', 'CAC_ERC_FechaDiagnostico', 'CAC_VIH', 'CAC_VIH_FechaDiagnostico', 'CAC_Cancer', 'CAC_Cancer_FechaDiagnostico', 'DefuncionSospechosoCOVID', 'FechaDefuncion', 'CodigoDepartamentoOcurrencia', 'DepartamentoOcurrencia', 'CodigoMunicipioOcurrencia', 'MunicipioOcurrencia', 'CodigoDepartamentoResidenciaFallecido', 'DepartamentoResidenciaFallecido', 'CodigoMunicipioResidenciaFallecido', 'MunicipioResidenciaFallecido', 'SitioDefuncion', 'RecibioAsistenciaMedica', 'AreaResidenciaFallecido', 'CausaBasicaDefuncion', 'CausaAntecedente1Defuncion', 'CausaAntecedente2Defuncion', 'CausaAntecedente3Defuncion']\n"
     ]
    }
   ],
   "source": [
    "# Mostrar el esquema (columnas y tipos de datos)\n",
    "df.printSchema()\n",
    "\n",
    "# Listar las columnas\n",
    "print(df.columns)"
   ]
  },
  {
   "cell_type": "markdown",
   "id": "99d768c2",
   "metadata": {},
   "source": [
    "# Empieza el proceso de generación de los datos agrupados por atenciones"
   ]
  },
  {
   "cell_type": "code",
   "execution_count": 8,
   "id": "1c8181d6",
   "metadata": {},
   "outputs": [
    {
     "name": "stderr",
     "output_type": "stream",
     "text": [
      "                                                                                \r"
     ]
    },
    {
     "name": "stdout",
     "output_type": "stream",
     "text": [
      "+---------------+---------------+-----+------+---------------------+--------+--------------------+-------+------+-------+-------+----------+--------------------+------------------------+---------------+\n",
      "|PersonabasicaID|FechaAplicacion| Sexo|  Edad|TipoRegimenAfiliacion|NroDosis|           Biologico|CAC_HTA|CAC_DM|CAC_ERC|CAC_VIH|CAC_Cancer|CausaBasicaDefuncion|DefuncionSospechosoCOVID|personaid_count|\n",
      "+---------------+---------------+-----+------+---------------------+--------+--------------------+-------+------+-------+-------+----------+--------------------+------------------------+---------------+\n",
      "|      100005989|     2022-01-17|11001|BOGOTÁ|                 D.C.|       2| MODERNA SWITZERL...|      F|     S|     NO|     NO|        NO|                null|                      NO|              1|\n",
      "|      100013692|     2022-06-17|    M|    33|                    S|       0|             JANSSEN|     NO|    NO|     NO|     NO|        NO|                null|                      NO|              1|\n",
      "|      100020387|     2022-01-12|    F|    30|                    S|       2|  OXFORD-ASTRAZENECA|     NO|    NO|     NO|     NO|        NO|                null|                      NO|              1|\n",
      "|       10002500|     2022-01-20|11001|BOGOTÁ|                 D.C.|      -1|             SINOVAC|      F|     C|     NO|     NO|        NO|                null|                      NO|              1|\n",
      "|      100025172|     2022-01-13|    F|    29|                    C|       2|  OXFORD-ASTRAZENECA|     NO|    NO|     NO|     NO|        NO|                null|                      NO|              1|\n",
      "|      100033900|     2022-02-25|    F|    17|                    S|       1|              PFIZER|     NO|    NO|     NO|     NO|        NO|                null|                      NO|              1|\n",
      "|      100038580|     2022-05-13|    F|    29|                    C|      -1|              PFIZER|     NO|    NO|     NO|     NO|        NO|                null|                      NO|              1|\n",
      "|       10004062|     2022-06-06|11001|BOGOTÁ|                 D.C.|      -2|              PFIZER|      F|     C|     NO|     NO|        NO|                null|                      NO|              1|\n",
      "|      100050846|     2022-07-14|    M|    31|                    C|      -1|             JANSSEN|     NO|    NO|     NO|     NO|        NO|                null|                      NO|              1|\n",
      "|      100057775|     2022-04-12|    F|    18|                    C|      -1|              PFIZER|     NO|    NO|     NO|     NO|        NO|                null|                      NO|              1|\n",
      "|      100073558|     2022-02-09|    M|    31|                    C|       0|             JANSSEN|     NO|    NO|     NO|     NO|        NO|                null|                      NO|              1|\n",
      "|       10007465|     2022-01-07|    F|    37|                    C|       2|             SINOVAC|     NO|    NO|     NO|     NO|        NO|                null|                      NO|              1|\n",
      "|      100076382|     2022-11-09|    F|    20|                   ND|       2|              PFIZER|     NO|    NO|     NO|     NO|        NO|                null|                      NO|              1|\n",
      "|      100082089|     2022-01-24|    M|    34|                    S|       0|             JANSSEN|     NO|    NO|     NO|     NO|        NO|                null|                      NO|              1|\n",
      "|      100083562|     2022-01-31|    M|    30|                    C|      -1|  OXFORD-ASTRAZENECA|     NO|    NO|     NO|     NO|        NO|                null|                      NO|              1|\n",
      "|      100085909|     2022-08-12|    F|    30|                    S|      -1|              PFIZER|     NO|    NO|     NO|     NO|        NO|                null|                      NO|              1|\n",
      "|      100086510|     2022-12-15|    F|    20|                   ND|       2|                null|     NO|    NO|     NO|     NO|        NO|                null|                      NO|              1|\n",
      "|      100093962|     2022-01-19|    F|    30|                    C|       0|             JANSSEN|     NO|    NO|     NO|     NO|        NO|                null|                      NO|              1|\n",
      "|      100096411|     2022-02-15|    M|    32|                    C|       2|  OXFORD-ASTRAZENECA|     NO|    NO|     NO|     NO|        NO|                null|                      NO|              1|\n",
      "|      100103665|     2022-02-04|    M|    35|                    C|      -1| MODERNA SWITZERL...|     NO|    NO|     NO|     NO|        NO|                null|                      NO|              1|\n",
      "+---------------+---------------+-----+------+---------------------+--------+--------------------+-------+------+-------+-------+----------+--------------------+------------------------+---------------+\n",
      "only showing top 20 rows\n",
      "\n",
      "Nombres de las columnas filtradas:\n",
      "['PersonabasicaID', 'FechaAplicacion', 'Sexo', 'Edad', 'TipoRegimenAfiliacion', 'NroDosis', 'Biologico', 'CAC_HTA', 'CAC_DM', 'CAC_ERC', 'CAC_VIH', 'CAC_Cancer', 'CausaBasicaDefuncion', 'DefuncionSospechosoCOVID', 'personaid_count']\n"
     ]
    },
    {
     "name": "stderr",
     "output_type": "stream",
     "text": [
      "24/09/02 20:40:46 WARN package: Truncated the string representation of a plan since it was too large. This behavior can be adjusted by setting 'spark.sql.debug.maxToStringFields'.\n",
      "[Stage 15:>                                                         (0 + 1) / 1]\r"
     ]
    },
    {
     "name": "stdout",
     "output_type": "stream",
     "text": [
      "+---------------+---------------+-----+------+---------------------+--------+--------------------+-------+------+-------+-------+----------+--------------------+------------------------+---------------+\n",
      "|PersonaBasicaID|FechaAplicacion| Sexo|  Edad|TipoRegimenAfiliacion|NroDosis|           Biologico|CAC_HTA|CAC_DM|CAC_ERC|CAC_VIH|CAC_Cancer|CausaBasicaDefuncion|DefuncionSospechosoCOVID|personaid_count|\n",
      "+---------------+---------------+-----+------+---------------------+--------+--------------------+-------+------+-------+-------+----------+--------------------+------------------------+---------------+\n",
      "|      100005989|     2022-01-17|11001|BOGOTÁ|                 D.C.|       2| MODERNA SWITZERL...|      F|     S|     NO|     NO|        NO|                null|                      NO|              1|\n",
      "|      100013692|     2022-06-17|    M|    33|                    S|       0|             JANSSEN|     NO|    NO|     NO|     NO|        NO|                null|                      NO|              1|\n",
      "|      100020387|     2022-01-12|    F|    30|                    S|       2|  OXFORD-ASTRAZENECA|     NO|    NO|     NO|     NO|        NO|                null|                      NO|              1|\n",
      "|       10002500|     2022-01-20|11001|BOGOTÁ|                 D.C.|      -1|             SINOVAC|      F|     C|     NO|     NO|        NO|                null|                      NO|              1|\n",
      "|      100025172|     2022-01-13|    F|    29|                    C|       2|  OXFORD-ASTRAZENECA|     NO|    NO|     NO|     NO|        NO|                null|                      NO|              1|\n",
      "|      100033900|     2022-02-25|    F|    17|                    S|       1|              PFIZER|     NO|    NO|     NO|     NO|        NO|                null|                      NO|              1|\n",
      "|      100038580|     2022-05-13|    F|    29|                    C|      -1|              PFIZER|     NO|    NO|     NO|     NO|        NO|                null|                      NO|              1|\n",
      "|       10004062|     2022-06-06|11001|BOGOTÁ|                 D.C.|      -2|              PFIZER|      F|     C|     NO|     NO|        NO|                null|                      NO|              1|\n",
      "|      100050846|     2022-07-14|    M|    31|                    C|      -1|             JANSSEN|     NO|    NO|     NO|     NO|        NO|                null|                      NO|              1|\n",
      "|      100057775|     2022-04-12|    F|    18|                    C|      -1|              PFIZER|     NO|    NO|     NO|     NO|        NO|                null|                      NO|              1|\n",
      "|      100073558|     2022-02-09|    M|    31|                    C|       0|             JANSSEN|     NO|    NO|     NO|     NO|        NO|                null|                      NO|              1|\n",
      "|       10007465|     2022-01-07|    F|    37|                    C|       2|             SINOVAC|     NO|    NO|     NO|     NO|        NO|                null|                      NO|              1|\n",
      "|      100076382|     2022-11-09|    F|    20|                   ND|       2|              PFIZER|     NO|    NO|     NO|     NO|        NO|                null|                      NO|              1|\n",
      "|      100082089|     2022-01-24|    M|    34|                    S|       0|             JANSSEN|     NO|    NO|     NO|     NO|        NO|                null|                      NO|              1|\n",
      "|      100083562|     2022-01-31|    M|    30|                    C|      -1|  OXFORD-ASTRAZENECA|     NO|    NO|     NO|     NO|        NO|                null|                      NO|              1|\n",
      "|      100085909|     2022-08-12|    F|    30|                    S|      -1|              PFIZER|     NO|    NO|     NO|     NO|        NO|                null|                      NO|              1|\n",
      "|      100086510|     2022-12-15|    F|    20|                   ND|       2|                null|     NO|    NO|     NO|     NO|        NO|                null|                      NO|              1|\n",
      "|      100093962|     2022-01-19|    F|    30|                    C|       0|             JANSSEN|     NO|    NO|     NO|     NO|        NO|                null|                      NO|              1|\n",
      "|      100096411|     2022-02-15|    M|    32|                    C|       2|  OXFORD-ASTRAZENECA|     NO|    NO|     NO|     NO|        NO|                null|                      NO|              1|\n",
      "|      100103665|     2022-02-04|    M|    35|                    C|      -1| MODERNA SWITZERL...|     NO|    NO|     NO|     NO|        NO|                null|                      NO|              1|\n",
      "+---------------+---------------+-----+------+---------------------+--------+--------------------+-------+------+-------+-------+----------+--------------------+------------------------+---------------+\n",
      "only showing top 20 rows\n",
      "\n"
     ]
    },
    {
     "name": "stderr",
     "output_type": "stream",
     "text": [
      "\r",
      "                                                                                \r"
     ]
    }
   ],
   "source": [
    "from pyspark.sql import SparkSession\n",
    "from pyspark.sql import functions as F\n",
    "from pyspark.sql.window import Window\n",
    "\n",
    "# Crear una sesión de Spark\n",
    "#spark = SparkSession.builder.appName(\"DataFrame Example\").getOrCreate()\n",
    "\n",
    "\n",
    "# Cargar el archivo Parquet en un DataFrame\n",
    "#df = df1\n",
    "\n",
    "# Seleccionar solo las columnas deseadas (sin 'personaid_count' ya que no existe aún)\n",
    "columns_to_keep = [\n",
    "    'PersonabasicaID','FechaAplicacion', 'Sexo', 'Edad', 'TipoRegimenAfiliacion',\n",
    "    'NroDosis', 'Biologico', 'CAC_HTA', 'CAC_DM', 'CAC_ERC','CAC_VIH', 'CAC_Cancer', \n",
    "    'CausaBasicaDefuncion', 'DefuncionSospechosoCOVID'\n",
    "    \n",
    "]\n",
    "df_filtered = df.select(*columns_to_keep)\n",
    "\n",
    "# Agregar una nueva columna con el recuento distintivo de 'personaid'\n",
    "window_spec = Window.partitionBy('PersonaBasicaID')\n",
    "df_filtered = df_filtered.withColumn('personaid_count', F.count('PersonaBasicaID').over(window_spec))\n",
    "\n",
    "# Mostrar las primeras filas del DataFrame filtrado para verificar\n",
    "df_filtered.show()\n",
    "\n",
    "# Mostrar los nombres de las columnas filtradas para verificar\n",
    "print(\"Nombres de las columnas filtradas:\")\n",
    "print(df_filtered.columns)\n",
    "\n",
    "# Agrupar por la columna 'PersonaBasicaID'\n",
    "grouped_df = df_filtered.groupBy('PersonaBasicaID').agg(\n",
    "    F.first('FechaAplicacion').alias('FechaAplicacion'),\n",
    "    F.first('Sexo').alias('Sexo'),\n",
    "    F.first('Edad').alias('Edad'),\n",
    "    F.first('TipoRegimenAfiliacion').alias('TipoRegimenAfiliacion'),\n",
    "    F.first('NroDosis').alias('NroDosis'),\n",
    "    F.first('Biologico').alias('Biologico'),\n",
    "    F.first('CAC_HTA').alias('CAC_HTA'),\n",
    "    F.first('CAC_DM').alias('CAC_DM'),\n",
    "    F.first('CAC_ERC').alias('CAC_ERC'),\n",
    "    F.first('CAC_VIH').alias('CAC_VIH'), \n",
    "    F.first('CAC_Cancer').alias('CAC_Cancer'), \n",
    "    F.first('CausaBasicaDefuncion').alias('CausaBasicaDefuncion'), \n",
    "    F.first('DefuncionSospechosoCOVID').alias('DefuncionSospechosoCOVID'), \n",
    "   \n",
    "    \n",
    "    F.first('personaid_count').alias('personaid_count')\n",
    ")\n",
    "# Mostrar las primeras filas del DataFrame agrupado para verificar\n",
    "grouped_df.show()\n"
   ]
  },
  {
   "cell_type": "markdown",
   "id": "ee22b26d",
   "metadata": {},
   "source": [
    "Se evidencia errores en los parquetes iniciales con los registros de \"Bogotá, DC\", esto se menciono varias veces pero no se corrigio "
   ]
  },
  {
   "cell_type": "code",
   "execution_count": 10,
   "id": "b242c249",
   "metadata": {},
   "outputs": [
    {
     "name": "stderr",
     "output_type": "stream",
     "text": [
      "\r",
      "[Stage 22:>                                                         (0 + 1) / 1]\r"
     ]
    },
    {
     "name": "stdout",
     "output_type": "stream",
     "text": [
      "El número de registros en el archivo Parquet es: 20399\n"
     ]
    },
    {
     "name": "stderr",
     "output_type": "stream",
     "text": [
      "\r",
      "                                                                                \r"
     ]
    }
   ],
   "source": [
    "# Contar el número de registros - me da satisfactoriamente la cantidad de registros en cada año ( )\n",
    "record_count = grouped_df.count()\n",
    "\n",
    "# Mostrar el número de registros\n",
    "print(f\"El número de registros en el archivo Parquet es: {record_count}\")"
   ]
  },
  {
   "cell_type": "markdown",
   "id": "738289fd",
   "metadata": {},
   "source": [
    "no se puede validar la cantidad de registros, no se compartio el archivo parquet para la generación del power bi"
   ]
  },
  {
   "cell_type": "code",
   "execution_count": 18,
   "id": "0a7707a7",
   "metadata": {},
   "outputs": [],
   "source": [
    " df_final =grouped_df\n"
   ]
  },
  {
   "cell_type": "code",
   "execution_count": 19,
   "id": "c8edd29f",
   "metadata": {},
   "outputs": [
    {
     "name": "stderr",
     "output_type": "stream",
     "text": [
      "\r",
      "[Stage 40:>                                                         (0 + 1) / 1]\r"
     ]
    },
    {
     "name": "stdout",
     "output_type": "stream",
     "text": [
      "El número de registros en el archivo Parquet es: 20399\n"
     ]
    },
    {
     "name": "stderr",
     "output_type": "stream",
     "text": [
      "\r",
      "                                                                                \r"
     ]
    }
   ],
   "source": [
    "# Contar el número de registros - \n",
    "record_count = df_final.count()\n",
    "\n",
    "# Mostrar el número de registros\n",
    "print(f\"El número de registros en el archivo Parquet es: {record_count}\")"
   ]
  },
  {
   "cell_type": "code",
   "execution_count": 20,
   "id": "6c4283ae",
   "metadata": {
    "scrolled": true
   },
   "outputs": [
    {
     "name": "stderr",
     "output_type": "stream",
     "text": [
      "                                                                                \r"
     ]
    },
    {
     "name": "stdout",
     "output_type": "stream",
     "text": [
      "+---------------+---------------+-----+------+---------------------+--------+--------------------+-------+------+-------+-------+----------+--------------------+------------------------+---------------+\n",
      "|PersonaBasicaID|FechaAplicacion| Sexo|  Edad|TipoRegimenAfiliacion|NroDosis|           Biologico|CAC_HTA|CAC_DM|CAC_ERC|CAC_VIH|CAC_Cancer|CausaBasicaDefuncion|DefuncionSospechosoCOVID|personaid_count|\n",
      "+---------------+---------------+-----+------+---------------------+--------+--------------------+-------+------+-------+-------+----------+--------------------+------------------------+---------------+\n",
      "|      100005989|     2022-01-17|11001|BOGOTÁ|                 D.C.|       2| MODERNA SWITZERL...|      F|     S|     NO|     NO|        NO|                null|                      NO|              1|\n",
      "|      100013692|     2022-06-17|    M|    33|                    S|       0|             JANSSEN|     NO|    NO|     NO|     NO|        NO|                null|                      NO|              1|\n",
      "|      100020387|     2022-01-12|    F|    30|                    S|       2|  OXFORD-ASTRAZENECA|     NO|    NO|     NO|     NO|        NO|                null|                      NO|              1|\n",
      "|       10002500|     2022-01-20|11001|BOGOTÁ|                 D.C.|      -1|             SINOVAC|      F|     C|     NO|     NO|        NO|                null|                      NO|              1|\n",
      "|      100025172|     2022-01-13|    F|    29|                    C|       2|  OXFORD-ASTRAZENECA|     NO|    NO|     NO|     NO|        NO|                null|                      NO|              1|\n",
      "|      100033900|     2022-02-25|    F|    17|                    S|       1|              PFIZER|     NO|    NO|     NO|     NO|        NO|                null|                      NO|              1|\n",
      "|      100038580|     2022-05-13|    F|    29|                    C|      -1|              PFIZER|     NO|    NO|     NO|     NO|        NO|                null|                      NO|              1|\n",
      "|       10004062|     2022-06-06|11001|BOGOTÁ|                 D.C.|      -2|              PFIZER|      F|     C|     NO|     NO|        NO|                null|                      NO|              1|\n",
      "|      100050846|     2022-07-14|    M|    31|                    C|      -1|             JANSSEN|     NO|    NO|     NO|     NO|        NO|                null|                      NO|              1|\n",
      "|      100057775|     2022-04-12|    F|    18|                    C|      -1|              PFIZER|     NO|    NO|     NO|     NO|        NO|                null|                      NO|              1|\n",
      "|      100073558|     2022-02-09|    M|    31|                    C|       0|             JANSSEN|     NO|    NO|     NO|     NO|        NO|                null|                      NO|              1|\n",
      "|       10007465|     2022-01-07|    F|    37|                    C|       2|             SINOVAC|     NO|    NO|     NO|     NO|        NO|                null|                      NO|              1|\n",
      "|      100076382|     2022-11-09|    F|    20|                   ND|       2|              PFIZER|     NO|    NO|     NO|     NO|        NO|                null|                      NO|              1|\n",
      "|      100082089|     2022-01-24|    M|    34|                    S|       0|             JANSSEN|     NO|    NO|     NO|     NO|        NO|                null|                      NO|              1|\n",
      "|      100083562|     2022-01-31|    M|    30|                    C|      -1|  OXFORD-ASTRAZENECA|     NO|    NO|     NO|     NO|        NO|                null|                      NO|              1|\n",
      "|      100085909|     2022-08-12|    F|    30|                    S|      -1|              PFIZER|     NO|    NO|     NO|     NO|        NO|                null|                      NO|              1|\n",
      "|      100086510|     2022-12-15|    F|    20|                   ND|       2|                null|     NO|    NO|     NO|     NO|        NO|                null|                      NO|              1|\n",
      "|      100093962|     2022-01-19|    F|    30|                    C|       0|             JANSSEN|     NO|    NO|     NO|     NO|        NO|                null|                      NO|              1|\n",
      "|      100096411|     2022-02-15|    M|    32|                    C|       2|  OXFORD-ASTRAZENECA|     NO|    NO|     NO|     NO|        NO|                null|                      NO|              1|\n",
      "|      100103665|     2022-02-04|    M|    35|                    C|      -1| MODERNA SWITZERL...|     NO|    NO|     NO|     NO|        NO|                null|                      NO|              1|\n",
      "+---------------+---------------+-----+------+---------------------+--------+--------------------+-------+------+-------+-------+----------+--------------------+------------------------+---------------+\n",
      "only showing top 20 rows\n",
      "\n"
     ]
    }
   ],
   "source": [
    "# Mostrar las primeras filas del DataFrame agrupado para verificar\n",
    "df_final.show()"
   ]
  },
  {
   "cell_type": "markdown",
   "id": "3f2c7994",
   "metadata": {},
   "source": [
    "Se notifico que esta muestra tenia errores desde la fase de exploración, no se corrigieron... "
   ]
  },
  {
   "cell_type": "markdown",
   "id": "e121d260",
   "metadata": {},
   "source": [
    "# Empieza el proceso de generación de tablas VacunasCOVIDv2"
   ]
  },
  {
   "cell_type": "markdown",
   "id": "33603b04",
   "metadata": {},
   "source": [
    "# Pagina 1 - Power BI"
   ]
  },
  {
   "cell_type": "code",
   "execution_count": 21,
   "id": "ac961489",
   "metadata": {},
   "outputs": [],
   "source": [
    "# Cargar el archivo Parquet en un DataFrame ( uno distinto por si deseo comparar)\n",
    "df2 = df_final"
   ]
  },
  {
   "cell_type": "markdown",
   "id": "8fbd717b",
   "metadata": {},
   "source": [
    "## 1. Agrupado por año, mes, 'Sexo', 'Edad', 'TipoRegimenAfiliacion',  'NroDosis', 'Biologico','CAC_HTA', 'CAC_DM', 'CAC_ERC','CAC_VIH', 'CAC_Cancer',    'CausaBasicaDefuncion', 'DefuncionSospechosoCOVID'"
   ]
  },
  {
   "cell_type": "raw",
   "id": "0e8553ba",
   "metadata": {},
   "source": [
    "#intento 1 "
   ]
  },
  {
   "cell_type": "code",
   "execution_count": 22,
   "id": "4f68792b",
   "metadata": {},
   "outputs": [
    {
     "name": "stderr",
     "output_type": "stream",
     "text": [
      "\r",
      "[Stage 49:>                                                         (0 + 1) / 1]\r"
     ]
    },
    {
     "name": "stdout",
     "output_type": "stream",
     "text": [
      "+---------------+\n",
      "|FechaAplicacion|\n",
      "+---------------+\n",
      "|2022-01-17     |\n",
      "|2022-06-17     |\n",
      "|2022-01-12     |\n",
      "|2022-01-20     |\n",
      "|2022-01-13     |\n",
      "|2022-02-25     |\n",
      "|2022-05-13     |\n",
      "|2022-06-06     |\n",
      "|2022-07-14     |\n",
      "|2022-04-12     |\n",
      "|2022-02-09     |\n",
      "|2022-01-07     |\n",
      "|2022-11-09     |\n",
      "|2022-01-24     |\n",
      "|2022-01-31     |\n",
      "|2022-08-12     |\n",
      "|2022-12-15     |\n",
      "|2022-01-19     |\n",
      "|2022-02-15     |\n",
      "|2022-02-04     |\n",
      "|2022-03-05     |\n",
      "|2022-03-11     |\n",
      "|2022-02-12     |\n",
      "|2022-08-17     |\n",
      "|2022-02-16     |\n",
      "|2022-01-18     |\n",
      "|2022-01-04     |\n",
      "|2022-02-22     |\n",
      "|2022-01-11     |\n",
      "|2022-03-01     |\n",
      "|2022-04-07     |\n",
      "|2022-01-11     |\n",
      "|2022-03-28     |\n",
      "|2022-02-04     |\n",
      "|2022-11-04     |\n",
      "|2022-06-07     |\n",
      "|2022-08-18     |\n",
      "|2022-03-04     |\n",
      "|2022-04-08     |\n",
      "|2022-04-16     |\n",
      "|2022-05-11     |\n",
      "|2022-01-18     |\n",
      "|2022-02-09     |\n",
      "|2022-03-15     |\n",
      "|2022-08-01     |\n",
      "|2022-02-21     |\n",
      "|2022-03-10     |\n",
      "|2022-01-09     |\n",
      "|2022-02-12     |\n",
      "|2022-07-15     |\n",
      "|2022-03-08     |\n",
      "|2022-01-19     |\n",
      "|2022-05-14     |\n",
      "|2022-04-19     |\n",
      "|2022-05-23     |\n",
      "|2022-03-02     |\n",
      "|2022-02-08     |\n",
      "|2022-03-18     |\n",
      "|2022-05-18     |\n",
      "|2022-02-12     |\n",
      "|2022-07-05     |\n",
      "|2022-07-13     |\n",
      "|2022-05-17     |\n",
      "|2022-03-11     |\n",
      "|2022-09-03     |\n",
      "|2022-02-17     |\n",
      "|2022-07-27     |\n",
      "|2022-03-24     |\n",
      "|2022-04-23     |\n",
      "|2022-01-27     |\n",
      "|2022-10-21     |\n",
      "|2022-07-18     |\n",
      "|2022-01-18     |\n",
      "|2022-02-13     |\n",
      "|2022-02-24     |\n",
      "|2022-03-13     |\n",
      "|2022-01-05     |\n",
      "|2022-07-29     |\n",
      "|2022-01-13     |\n",
      "|2022-03-31     |\n",
      "|2022-02-05     |\n",
      "|2022-02-06     |\n",
      "|2022-01-20     |\n",
      "|2022-11-15     |\n",
      "|2022-07-15     |\n",
      "|2022-02-23     |\n",
      "|2022-02-18     |\n",
      "|2022-01-18     |\n",
      "|2022-09-08     |\n",
      "|2022-01-04     |\n",
      "|2022-01-21     |\n",
      "|2022-05-25     |\n",
      "|2022-09-22     |\n",
      "|2022-01-18     |\n",
      "|2022-10-10     |\n",
      "|2022-10-19     |\n",
      "|2022-03-16     |\n",
      "|2022-05-04     |\n",
      "|2022-09-01     |\n",
      "|2022-01-10     |\n",
      "+---------------+\n",
      "only showing top 100 rows\n",
      "\n"
     ]
    },
    {
     "name": "stderr",
     "output_type": "stream",
     "text": [
      "\r",
      "                                                                                \r"
     ]
    }
   ],
   "source": [
    "# Selecciona la columna 'FechaRegistro' y muestra sus datos\n",
    "df2.select('FechaAplicacion').show(100, truncate=False)"
   ]
  },
  {
   "cell_type": "code",
   "execution_count": 26,
   "id": "38712436",
   "metadata": {
    "scrolled": false
   },
   "outputs": [
    {
     "name": "stderr",
     "output_type": "stream",
     "text": [
      "\r",
      "[Stage 57:>                                                         (0 + 1) / 1]\r"
     ]
    },
    {
     "name": "stdout",
     "output_type": "stream",
     "text": [
      "+----+---+---------------+------+---------------------+--------+--------------------+--------------------+--------------------+--------------------+----------------+----------+--------------------+------------------------+------------------+--------------------+\n",
      "| Año|Mes|           Sexo|  Edad|TipoRegimenAfiliacion|NroDosis|           Biologico|             CAC_HTA|              CAC_DM|             CAC_ERC|         CAC_VIH|CAC_Cancer|CausaBasicaDefuncion|DefuncionSospechosoCOVID|Número_de_Personas|Número_de_Atenciones|\n",
      "+----+---+---------------+------+---------------------+--------+--------------------+--------------------+--------------------+--------------------+----------------+----------+--------------------+------------------------+------------------+--------------------+\n",
      "|2022|  6|              F|    73|                    C|      -2|              PFIZER|                  NO|                  NO|                  NO|              NO|        NO|                null|                      NO|                 8|                   8|\n",
      "|2022|  3|              F|    17|                    C|       2|     MODERNA BIOTECH|                  NO|                  NO|                  NO|              NO|        NO|                null|                      NO|                 2|                   2|\n",
      "|2022|  1|              M|    28|                    C|      -1|     MODERNA BIOTECH| EL QUE SEA LLAMA...|                  NO|                  NO|              NO|        NO|                null|                      NO|                 1|                   1|\n",
      "|2022|  8|              F|    16|                    C|      -1|              PFIZER|                  NO|                  NO|                  NO|              NO|        NO|                null|                      NO|                 1|                   1|\n",
      "|2022| 10|              F|    26|                    S|       0|             JANSSEN|                  NO|                  NO|                  NO|              NO|        NO|                null|                      NO|                 2|                   2|\n",
      "|2022|  2|              F|    34|                    S|       2| MODERNA SWITZERL...|                  NO|                  NO|                  NO|              NO|        NO|                null|                      NO|                 2|                   2|\n",
      "|2022|  2|              M|    27|                    S|       2|             SINOVAC|                  NO|                  NO|                  NO|              NO|        NO|                null|                      NO|                 1|                   1|\n",
      "|2022|  1|          11001|BOGOTÁ|                 D.C.|      -1|             SINOVAC|                   M|                   C|                  NO|              NO|        NO|                null|                      NO|                37|                  37|\n",
      "|2022|  1|              F|    24|                    S|       2|              PFIZER|                  NO|                  NO|                  NO|              NO|        NO|                null|                      NO|                 1|                   1|\n",
      "|2022|  6|              F|    22|                    C|      -1|              PFIZER|                  NO|                  NO|                  NO|              NO|        NO|                null|                      NO|                 3|                   3|\n",
      "|2022|  4|              M|    22|                    C|      -1|              PFIZER|                  NO|                  NO|                  NO|              NO|        NO|                null|                      NO|                 2|                   2|\n",
      "|2022|  3|              F|    46|                    S|      -1|              PFIZER|                  NO|                  NO|                  NO|              NO|        NO|                null|                      NO|                 2|                   2|\n",
      "|2022|  9|          11001|BOGOTÁ|                 D.C.|       2|             SINOVAC|                   F|                   C|                  NO|              NO|        NO|                null|                      NO|                 1|                   1|\n",
      "|2022|  1|              M|    61|                    S|       0|             JANSSEN|                  NO|                  NO|                  NO|              NO|        NO|                null|                      NO|                 1|                   1|\n",
      "|2022|  8|              M|    21|                    S|      -1|     MODERNA BIOTECH|                  NO|                  NO|                  NO|              NO|        NO|                null|                      NO|                 2|                   2|\n",
      "|2022|  5|              F|    21|                    S|      -1|             JANSSEN|                  NO|                  NO|                  NO|              NO|        NO|                null|                      NO|                 1|                   1|\n",
      "|2022|  4|              M|    46|                    C|      -1|             JANSSEN|                  NO|                  NO|                  NO|              NO|        NO|                null|                      NO|                 2|                   2|\n",
      "|2022|  2|              M|    20|                   ND|      -1|              PFIZER|                  NO|                  NO|                  NO|              NO|        NO|                null|                      NO|                 1|                   1|\n",
      "|2022|  8|              F|    19|                    S|       0|             JANSSEN|                  NO|                  NO|                  NO|              NO|        NO|                null|                      NO|                 2|                   2|\n",
      "|2022|  6|          11001|BOGOTÁ|                 D.C.|      -2|              PFIZER|                   F|                   C| DIRECTIVOS DOCEN...| BÁSICA PRIMARIA|        NO|                null|                      NO|                 3|                   3|\n",
      "|2022|  1|              F|    36|                    C|      -1|  OXFORD-ASTRAZENECA|                  NO|                  NO|                  NO|              NO|        NO|                null|                      NO|                 2|                   2|\n",
      "|2022|  1|              F|    57|                    S|      -1|     MODERNA BIOTECH|                  NO|                  NO|                  NO|              NO|        NO|                null|                      NO|                 2|                   2|\n",
      "|2022|  3|          11001|BOGOTÁ|                 D.C.|      -1|             JANSSEN|                   F|                   C| DIRECTIVOS DOCEN...| BÁSICA PRIMARIA|        NO|                null|                      NO|                 1|                   1|\n",
      "|2022|  7|              F|    68|                    S|      -2|              PFIZER|                  NO|                  NO|                  NO|              NO|        NO|                null|                      NO|                 2|                   2|\n",
      "|2022|  8|              F|    67|                    C|      -2|              PFIZER|                  NO|                  NO|                  NO|              NO|        NO|                null|                      NO|                 1|                   1|\n",
      "|2022|  6|              F|    58|                    S|      -2|              PFIZER|                  NO|                  NO|                  NO|              NO|        NO|                null|                      NO|                 4|                   4|\n",
      "|2022|  2|              F|    42|                    C|       1|              PFIZER|                  NO|                  NO|                  NO|              NO|        NO|                null|                      NO|                 1|                   1|\n",
      "|2022|  3|              M|    79|                    C|      -1|             SINOVAC|                  NO|                  NO|                  NO|              NO|        NO|                null|                      NO|                 1|                   1|\n",
      "|2022|  1|              F|    34|                    C|      -1|             SINOVAC|                  NO|                  NO|                  NO|              NO|        NO|                null|                      NO|                 1|                   1|\n",
      "|2022|  6|              M|    30|                    S|      -2|              PFIZER|                  NO|                  NO|                  NO|              NO|        NO|                null|                      NO|                 1|                   1|\n",
      "|2022|  3|              F|    28|                    S|      -1|  OXFORD-ASTRAZENECA|                  NO|                  NO|                  NO|              NO|        NO|                null|                      NO|                 1|                   1|\n",
      "|2022| 12|              M|    16|                    S|       1|     MODERNA BIOTECH|                  NO|                  NO|                  NO|              NO|        NO|                null|                      NO|                 1|                   1|\n",
      "|2022|  5|              M|    28|                    C|      -1|     MODERNA BIOTECH|                  NO|                  NO|                  NO|              NO|        NO|                null|                      NO|                 1|                   1|\n",
      "|2022| 12|              F|    26|                    C|      -2|     MODERNA BIOTECH|                  NO|                  NO|                  NO|              NO|        NO|                null|                      NO|                 1|                   1|\n",
      "|2022|  3|              M|     4|                    S|       1|             SINOVAC|                  NO|                  NO|                  NO|              NO|        NO|                null|                      NO|                 1|                   1|\n",
      "|2022|  2|           D.C.|    CC|                    M|       0|             JANSSEN|                   C|                  NO|                  NO|              NO|        NO|                null|                      NO|                 2|                   2|\n",
      "|2022|  2|              F|     7|                   ND|       2|             SINOVAC|                  NO|                  NO|                  NO|              NO|        NO|                null|                      NO|                 1|                   1|\n",
      "|2022|  2|              M|    85|                    S|      -1|              PFIZER|                  NO|                  NO|                  NO|              NO|        NO|                null|                      NO|                 1|                   1|\n",
      "|2022|  5|              F|    49|                    C|      -1|             SINOVAC|                  NO|                  NO|                  NO|              NO|        NO|                null|                      NO|                 1|                   1|\n",
      "|2022|  9|              F|    52|                    S|      -1|              PFIZER|                  NO|                  NO|                  NO|              NO|        NO|                null|                      NO|                 1|                   1|\n",
      "|2022|  6|              M|    73|                    S|      -2|              PFIZER|                  NO|                  NO|                  NO|              NO|        NO|                null|                      NO|                 1|                   1|\n",
      "|2022|  5|              F|    55|                    C|      -2|                null|                  NO|                  NO|                  NO|              NO|        NO|                null|                      NO|                 1|                   1|\n",
      "|2022|  3|              M|    41|                    S|      -1|     MODERNA BIOTECH|                  NO|                  NO|                  NO|              NO|        NO|                null|                      NO|                 1|                   1|\n",
      "|2022|  8|              F|    69|                    C|      -2|     MODERNA BIOTECH|                  NO|                  NO|                  NO|              NO|        NO|                null|                      NO|                 1|                   1|\n",
      "|2022|  3|              F|    63|                    C|      -1|              PFIZER|                  NO|                  NO|                  NO|              NO|        NO|                null|                      NO|                 2|                   2|\n",
      "|2022|  3|              F|    48|                    C|      -1|     MODERNA BIOTECH|                  NO|                  NO|                  NO|              NO|        NO|                null|                      NO|                 2|                   2|\n",
      "|2022|  6|              F|    67|                    S|      -1|             JANSSEN|                  NO|                  NO|                  NO|              NO|        NO|                null|                      NO|                 1|                   1|\n",
      "|2022|  1|              M|    20|                   ND|       2| MODERNA SWITZERL...|                  NO|                  NO|                  NO|              NO|        NO|                null|                      NO|                 1|                   1|\n",
      "|2022|  1|              M|    32|                    C|       2|              PFIZER|          VIGILANCIA| ADMINISTRATIVO Y...| PEDIÁTRICO Y NEO...|            null|      null|                null|                    null|                 1|                   1|\n",
      "|2022|  3|              M|    34|                    S|       2| MODERNA SWITZERL...| DIRECTIVOS DOCEN...|     BÁSICA PRIMARIA|                  NO|              NO|        NO|                null|                      NO|                 1|                   1|\n",
      "|2022|  5|              F|    30|                    C|      -1|                null|                  NO|                  NO|                  NO|              NO|        NO|                null|                      NO|                 1|                   1|\n",
      "|2022| 12|              F|    29|                    C|      -2|     MODERNA BIOTECH|                  NO|                  NO|                  NO|              NO|        NO|                null|                      NO|                 1|                   1|\n",
      "|2022|  6|              M|    18|                    S|       2|              PFIZER|                  NO|                  NO|                  NO|              NO|        NO|                null|                      NO|                 1|                   1|\n",
      "|2022|  2|              M|    33|                    S|       2| MODERNA SWITZERL...|                  NO|                  NO|                  NO|              NO|        NO|                null|                      NO|                 1|                   1|\n",
      "|2022|  3|              M|    16|                    S|       1|              PFIZER|                  NO|                  NO|                  NO|              NO|        NO|                null|                      NO|                 3|                   3|\n",
      "|2022|  5|              M|    32|                    S|      -1|     MODERNA BIOTECH|                  NO|                  NO|                  NO|              NO|        NO|                null|                      NO|                 1|                   1|\n",
      "|2022| 10|              M|    74|                    S|      -2|              PFIZER|                  NO|                  NO|                  NO|              NO|        NO|                null|                      NO|                 1|                   1|\n",
      "|2022|  1|              F|    62|                    C|      -1|  OXFORD-ASTRAZENECA|                  NO|                  NO|                  NO|              NO|        NO|                null|                      NO|                 5|                   5|\n",
      "|2022|  3|              F|    23|                    C|      -1|     MODERNA BIOTECH|                  NO|                  NO|                  NO|              NO|        NO|                null|                      NO|                 3|                   3|\n",
      "|2022|  6|              M|    11|                    C|       2|             SINOVAC|                  NO|                  NO|                  NO|              NO|        NO|                null|                      NO|                 1|                   1|\n",
      "|2022|  7|          11001|BOGOTÁ|                 D.C.|       2|             SINOVAC|                   F|                   C|                  NO|              NO|        NO|                null|                      NO|                 1|                   1|\n",
      "|2022| 10|              F|    22|                    S|      -1|         GRAND RIVER|                  NO|                  NO|                  NO|              NO|        NO|                null|                      NO|                 1|                   1|\n",
      "|2022|  2|              M|    46|                    C|      -1|  OXFORD-ASTRAZENECA|                  NO|                  NO|                  NO|              NO|        NO|                null|                      NO|                 3|                   3|\n",
      "|2022|  4|              M|    19|                    S|       2|     MODERNA BIOTECH|                  NO|                  NO|                  NO|              NO|        NO|                null|                      NO|                 2|                   2|\n",
      "|2022|  2|              M|    54|                    E|      -1|              PFIZER|                  NO|                  NO|                  NO|              NO|        NO|                null|                      NO|                 1|                   1|\n",
      "|2022|  2|              M|    40|                    C|      -1|              PFIZER|                  NO|                  NO|                  NO|              NO|        NO|                null|                      NO|                 9|                   9|\n",
      "|2022|  2|         UNGUÍA|    CC|                    F|      -1|                null|                   S|                  NO|                  NO|              NO|        NO|                null|                      NO|                 1|                   1|\n",
      "|2022|  6|              F|    51|                    S|      -1|     MODERNA BIOTECH|                  NO|                  NO|                  NO|              NO|        NO|                null|                      NO|                 1|                   1|\n",
      "|2022|  2|              M|    67|                    C|      -1| MODERNA SWITZERL...|                  NO|                  NO|                  NO|              NO|        NO|                null|                      NO|                 1|                   1|\n",
      "|2022|  6|              F|    43|                    C|      -1|              PFIZER|                  NO|                  NO|                  NO|              NO|        NO|                null|                      NO|                 2|                   2|\n",
      "|2022|  3|              F|    73|                    S|      -1|             JANSSEN|                  NO|                  NO|                  NO|              NO|        NO|                null|                      NO|                 1|                   1|\n",
      "|2022|  5|              M|    54|                    C|      -2|             SINOVAC|                  NO|                  NO|                  NO|              NO|        NO|                null|                      NO|                 1|                   1|\n",
      "|2022|  5|           D.C.|    CC|                    F|      -1|     MODERNA BIOTECH|                   C|                  NO|                  NO|              NO|        NO|                null|                      NO|                 1|                   1|\n",
      "|2022|  5|              F|    75|                    C|       0|             JANSSEN|                  NO|                  NO|                  NO|              NO|        NO|                null|                      NO|                 1|                   1|\n",
      "|2022|  1|              M|    32|                    S|      -1| MODERNA SWITZERL...|                  NO|                  NO|                  NO|              NO|        NO|                null|                      NO|                 1|                   1|\n",
      "|2022|  1|              F|    30|                    C|       2|             SINOVAC|                  NO|                  NO|                  NO|              NO|        NO|                null|                      NO|                 1|                   1|\n",
      "|2022|  1|              M|    29|                    C|      -1|  OXFORD-ASTRAZENECA|                  NO|                  NO|                  NO|              NO|        NO|                null|                      NO|                 2|                   2|\n",
      "|2022|  1|              F|    61|                    C|       1| MODERNA SWITZERL...|                  NO|                  NO|                  NO|              NO|        NO|                null|                      NO|                 1|                   1|\n",
      "|2022|  2|              F|    28|                    C|      -1|              PFIZER| DIRECTIVOS DOCEN...|     BÁSICA PRIMARIA|                  NO|              NO|        NO|                null|                      NO|                 2|                   2|\n",
      "|2022|  3|              M|     8|                    S|       2|             SINOVAC|                  NO|                  NO|                  NO|              NO|        NO|                null|                      NO|                 9|                   9|\n",
      "|2022|  3|              M|    25|                    C|       0|             JANSSEN|                  NO|                  NO|                  NO|              NO|        NO|                null|                      NO|                 2|                   2|\n",
      "|2022|  7|              M|     7|                    C|       2|             SINOVAC|                  NO|                  NO|                  NO|              NO|        NO|                null|                      NO|                 1|                   1|\n",
      "|2022|  5|              F|    48|                    S|       0|             JANSSEN|                  NO|                  NO|                  NO|              NO|        NO|                null|                      NO|                 1|                   1|\n",
      "|2022|  3|              F|    11|                    S|       2|             SINOVAC|                  NO|                  NO|                  NO|              NO|        NO|                null|                      NO|                10|                  10|\n",
      "|2022|  5|              F|    51|                    C|      -1|              PFIZER|                  NO|                  NO|                  NO|              NO|        NO|                null|                      NO|                 1|                   1|\n",
      "|2022|  1|              F|    60|                    C|      -1| MODERNA SWITZERL...|                  NO|                  NO|                  NO|              NO|        NO|                null|                      NO|                 3|                   3|\n",
      "|2022|  1|              M|    54|                    S|       2|  OXFORD-ASTRAZENECA|                  NO|                  NO|                  NO|              NO|        NO|                null|                      NO|                 4|                   4|\n",
      "|2022|  8|              F|    64|                    S|      -1|              PFIZER|                  NO|                  NO|                  NO|              NO|        NO|                null|                      NO|                 1|                   1|\n",
      "|2022|  3|              M|    53|                    S|       2|  OXFORD-ASTRAZENECA|                  NO|                  NO|                  NO|              NO|        NO|                null|                      NO|                 1|                   1|\n",
      "|2022| 11|              F|    65|                    S|      -2|             SINOVAC|                  NO|                  NO|                  NO|              NO|        NO|                null|                      NO|                 1|                   1|\n",
      "|2022|  9|              M|    48|                    S|      -2|     MODERNA BIOTECH|                  NO|                  NO|                  NO|              NO|        NO|                null|                      NO|                 1|                   1|\n",
      "|2022|  4|PUENTE NACIONAL|    CC|                    F|      -1|              PFIZER|                   C|                  NO|                  NO|              NO|        NO|                null|                      NO|                 1|                   1|\n",
      "|2022|  8|              M|    27|                    C|      -1|              PFIZER|                  NO|                  NO|                  NO|              NO|        NO|                null|                      NO|                 2|                   2|\n",
      "|2022|  1|              M|    26|                    C|       2|              PFIZER|                  NO|                  NO|                  NO|              NO|        NO|                null|                      NO|                 2|                   2|\n",
      "|2022|  4|              M|    27|                    C|       0|             JANSSEN|                  NO|                  NO|                  NO|              NO|        NO|                null|                      NO|                 1|                   1|\n",
      "|2022|  1|              F|    22|                    C|       1|  OXFORD-ASTRAZENECA|                  NO|                  NO|                  NO|              NO|        NO|                null|                      NO|                 1|                   1|\n",
      "|2022|  3|              M|    21|                    S|      -1|             SINOVAC|                  NO|                  NO|                  NO|              NO|        NO|                null|                      NO|                 2|                   2|\n",
      "|2022|  8|              F|    58|                    S|      -1|              PFIZER|                  NO|                  NO|                  NO|              NO|        NO|                null|                      NO|                 2|                   2|\n",
      "|2022|  5|           D.C.|    CC|                    M|      -1|             JANSSEN|                   C| EL QUE SEA LLAMA...|                  NO|              NO|        NO|                null|                      NO|                 1|                   1|\n",
      "|2022|  2|              F|    20|                    S|       0|             JANSSEN|                  NO|                  NO|                  NO|              NO|        NO|                null|                      NO|                 1|                   1|\n",
      "+----+---+---------------+------+---------------------+--------+--------------------+--------------------+--------------------+--------------------+----------------+----------+--------------------+------------------------+------------------+--------------------+\n",
      "only showing top 100 rows\n",
      "\n",
      "Nombres de las columnas agrupadas:\n",
      "['Año', 'Mes', 'Sexo', 'Edad', 'TipoRegimenAfiliacion', 'NroDosis', 'Biologico', 'CAC_HTA', 'CAC_DM', 'CAC_ERC', 'CAC_VIH', 'CAC_Cancer', 'CausaBasicaDefuncion', 'DefuncionSospechosoCOVID', 'Número_de_Personas', 'Número_de_Atenciones']\n"
     ]
    },
    {
     "name": "stderr",
     "output_type": "stream",
     "text": [
      "\r",
      "                                                                                \r"
     ]
    }
   ],
   "source": [
    "\n",
    "# Seleccionar solo las columnas deseadas\n",
    "columns_to_keep = [\n",
    "     'PersonabasicaID','FechaAplicacion', 'Sexo', 'Edad', 'TipoRegimenAfiliacion',\n",
    "    'NroDosis', 'Biologico', 'CAC_HTA', 'CAC_DM', 'CAC_ERC','CAC_VIH', 'CAC_Cancer', \n",
    "    'CausaBasicaDefuncion', 'DefuncionSospechosoCOVID', 'personaid_count'\n",
    "]\n",
    "df_filtered = df2.select(*columns_to_keep)\n",
    "\n",
    "# Convertir 'FechaAplicacion' a tipo fecha con el formato correcto\n",
    "df_filtered = df_filtered.withColumn(\n",
    "    'FechaAplicacion',\n",
    "    F.to_date('FechaAplicacion', 'yyyy-MM-dd')  # Ajustar el formato a 'yyyy-MM-dd'\n",
    ")    \n",
    "# Filtrar valores atípicos (por ejemplo, 19000101)\n",
    "df_filtered = df_filtered.filter(\n",
    "    (F.col('FechaAplicacion').isNotNull()) & (F.col('FechaAplicacion') > '1900-01-01')\n",
    ")\n",
    "\n",
    "# Extraer año y mes de la columna 'FechaInicioSINTOmas'\n",
    "df_filtered = df_filtered.withColumn('Año', F.year('FechaAplicacion'))\n",
    "df_filtered = df_filtered.withColumn('Mes', F.month('FechaAplicacion'))\n",
    "\n",
    "# Agrupar por año, mes, sexo y tipo de régimen etc..\n",
    "result_df = df_filtered.groupBy('Año', 'Mes', 'Sexo', 'Edad', 'TipoRegimenAfiliacion', \n",
    "                                'NroDosis', 'Biologico', 'CAC_HTA', 'CAC_DM', 'CAC_ERC','CAC_VIH', \n",
    "                                'CAC_Cancer','CausaBasicaDefuncion', 'DefuncionSospechosoCOVID').agg(\n",
    "    F.countDistinct('PersonaBasicaID').alias('Número_de_Personas'),\n",
    "    F.sum('personaid_count').alias('Número_de_Atenciones')\n",
    ")\n",
    "\n",
    "# Mostrar los resultados\n",
    "result_df.show(100)\n",
    "\n",
    "# Imprimir los nombres de las columnas agrupadas para verificar\n",
    "print(\"Nombres de las columnas agrupadas:\")\n",
    "print(result_df.columns)"
   ]
  },
  {
   "cell_type": "markdown",
   "id": "67819215",
   "metadata": {},
   "source": [
    "No es posible validar los datos, no se utilizo el parquet para construir el powerbi.\n",
    "Los datos tambien tienen problemas de calidad, lo mencionado en la fase de exploracón"
   ]
  },
  {
   "cell_type": "code",
   "execution_count": 27,
   "id": "303684e7",
   "metadata": {},
   "outputs": [],
   "source": [
    "spark.stop()"
   ]
  }
 ],
 "metadata": {
  "kernelspec": {
   "display_name": "Python 3 (ipykernel)",
   "language": "python",
   "name": "python3"
  },
  "language_info": {
   "codemirror_mode": {
    "name": "ipython",
    "version": 3
   },
   "file_extension": ".py",
   "mimetype": "text/x-python",
   "name": "python",
   "nbconvert_exporter": "python",
   "pygments_lexer": "ipython3",
   "version": "3.9.18"
  }
 },
 "nbformat": 4,
 "nbformat_minor": 5
}

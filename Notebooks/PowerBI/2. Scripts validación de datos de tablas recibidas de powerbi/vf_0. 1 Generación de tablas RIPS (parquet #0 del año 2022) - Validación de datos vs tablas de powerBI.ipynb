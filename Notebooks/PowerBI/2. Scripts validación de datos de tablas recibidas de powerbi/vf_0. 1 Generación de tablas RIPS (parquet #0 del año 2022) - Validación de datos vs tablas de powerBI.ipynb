{
 "cells": [
  {
   "cell_type": "markdown",
   "id": "5e7ab853",
   "metadata": {},
   "source": [
    "# Carga de los datos"
   ]
  },
  {
   "cell_type": "markdown",
   "id": "dc2c512b",
   "metadata": {},
   "source": [
    "Este jupyter notebook esta generando los datos de un año en especifico (2012 el parquet part.0.parquet de rips) para coincidir con las tablas compartidas del  power bi (Tablas agregadas) "
   ]
  },
  {
   "cell_type": "code",
   "execution_count": 3,
   "id": "c90bfc6f",
   "metadata": {},
   "outputs": [],
   "source": [
    "from pyspark.sql import SparkSession\n",
    "\n",
    "# Crear una sesión de Spark\n",
    "spark = SparkSession.builder.appName(\"GeneraciónTablasRips2\").getOrCreate()"
   ]
  },
  {
   "cell_type": "code",
   "execution_count": 4,
   "id": "bdbbc1d5",
   "metadata": {},
   "outputs": [],
   "source": [
    "#spark.stop()"
   ]
  },
  {
   "cell_type": "code",
   "execution_count": 5,
   "id": "11bff43d",
   "metadata": {},
   "outputs": [
    {
     "name": "stderr",
     "output_type": "stream",
     "text": [
      "                                                                                \r"
     ]
    }
   ],
   "source": [
    "# Leer los archivos Parquet de un año \n",
    "df1_parquet = spark.read.parquet(\"/rawdata/rips/rips_parquet_2022/part.0.parquet\")\n",
    "\n",
    "df=df1_parquet"
   ]
  },
  {
   "cell_type": "code",
   "execution_count": 6,
   "id": "ab87d3af",
   "metadata": {},
   "outputs": [
    {
     "name": "stderr",
     "output_type": "stream",
     "text": [
      "[Stage 2:=============================>                             (1 + 1) / 2]\r"
     ]
    },
    {
     "name": "stdout",
     "output_type": "stream",
     "text": [
      "Total de registros en el DataFrame unido: 391525\n",
      "Columnas del DataFrame unido: ['personaid', 'tipoeventoripsdesc', 'codigo', 'dxprincipal', 'dxegreso', 'finalidadprocedimientoscd', 'finalidadconsultacd', 'tipousuariocd', 'causaexternacd', 'prestador', 'estadosalidacd', 'tipodiagnosticoprincipalcd', 'codigoprocedimiento', 'municipiocd', 'fechaid', 'edad', 'sexodesc', 'costoconsulta', 'costoprocedimiento', 'netoapagarconsulta', 'numerodiasestancia', '__null_dask_index__']\n"
     ]
    },
    {
     "name": "stderr",
     "output_type": "stream",
     "text": [
      "\r",
      "                                                                                \r"
     ]
    }
   ],
   "source": [
    "# Contar el número de registros en el DataFrame unido\n",
    "total_registros = df.count()\n",
    "\n",
    "# Listar las columnas del DataFrame unido\n",
    "columnas = df.columns\n",
    "\n",
    "# Mostrar resultados\n",
    "print(f\"Total de registros en el DataFrame unido: {total_registros}\")\n",
    "print(f\"Columnas del DataFrame unido: {columnas}\")"
   ]
  },
  {
   "cell_type": "code",
   "execution_count": 7,
   "id": "204519cb",
   "metadata": {},
   "outputs": [
    {
     "name": "stderr",
     "output_type": "stream",
     "text": [
      "[Stage 7:>                                                          (0 + 1) / 1]\r"
     ]
    },
    {
     "name": "stdout",
     "output_type": "stream",
     "text": [
      "El número de registros en el archivo Parquet es: 391525\n"
     ]
    },
    {
     "name": "stderr",
     "output_type": "stream",
     "text": [
      "\r",
      "[Stage 7:===========================================================(1 + 0) / 1]\r",
      "\r",
      "                                                                                \r"
     ]
    }
   ],
   "source": [
    "# Contar el número de registros - me da satisfactoriamente la cantidad de regustros en cada año \n",
    "record_count = df.count()\n",
    "\n",
    "# Mostrar el número de registros\n",
    "print(f\"El número de registros en el archivo Parquet es: {record_count}\")"
   ]
  },
  {
   "cell_type": "code",
   "execution_count": 8,
   "id": "cdde4766",
   "metadata": {},
   "outputs": [
    {
     "name": "stdout",
     "output_type": "stream",
     "text": [
      "root\n",
      " |-- personaid: string (nullable = true)\n",
      " |-- tipoeventoripsdesc: string (nullable = true)\n",
      " |-- codigo: string (nullable = true)\n",
      " |-- dxprincipal: string (nullable = true)\n",
      " |-- dxegreso: string (nullable = true)\n",
      " |-- finalidadprocedimientoscd: string (nullable = true)\n",
      " |-- finalidadconsultacd: string (nullable = true)\n",
      " |-- tipousuariocd: string (nullable = true)\n",
      " |-- causaexternacd: string (nullable = true)\n",
      " |-- prestador: string (nullable = true)\n",
      " |-- estadosalidacd: string (nullable = true)\n",
      " |-- tipodiagnosticoprincipalcd: string (nullable = true)\n",
      " |-- codigoprocedimiento: string (nullable = true)\n",
      " |-- municipiocd: string (nullable = true)\n",
      " |-- fechaid: string (nullable = true)\n",
      " |-- edad: string (nullable = true)\n",
      " |-- sexodesc: string (nullable = true)\n",
      " |-- costoconsulta: string (nullable = true)\n",
      " |-- costoprocedimiento: string (nullable = true)\n",
      " |-- netoapagarconsulta: string (nullable = true)\n",
      " |-- numerodiasestancia: string (nullable = true)\n",
      " |-- __null_dask_index__: long (nullable = true)\n",
      "\n",
      "['personaid', 'tipoeventoripsdesc', 'codigo', 'dxprincipal', 'dxegreso', 'finalidadprocedimientoscd', 'finalidadconsultacd', 'tipousuariocd', 'causaexternacd', 'prestador', 'estadosalidacd', 'tipodiagnosticoprincipalcd', 'codigoprocedimiento', 'municipiocd', 'fechaid', 'edad', 'sexodesc', 'costoconsulta', 'costoprocedimiento', 'netoapagarconsulta', 'numerodiasestancia', '__null_dask_index__']\n"
     ]
    }
   ],
   "source": [
    "# Mostrar el esquema (columnas y tipos de datos)\n",
    "df.printSchema()\n",
    "\n",
    "# Listar las columnas\n",
    "print(df.columns)"
   ]
  },
  {
   "cell_type": "markdown",
   "id": "99d768c2",
   "metadata": {},
   "source": [
    "# Empieza el proceso de generación de los datos agrupados por atenciones"
   ]
  },
  {
   "cell_type": "code",
   "execution_count": 9,
   "id": "1c8181d6",
   "metadata": {},
   "outputs": [
    {
     "name": "stderr",
     "output_type": "stream",
     "text": [
      "24/08/16 19:52:20 WARN SparkSession: Using an existing Spark session; only runtime SQL configurations will take effect.\n",
      "                                                                                \r"
     ]
    },
    {
     "name": "stdout",
     "output_type": "stream",
     "text": [
      "+---------+-------------------+--------------------+--------+--------+--------------------------+----+--------+-----------+-----------+---------------+\n",
      "|personaid|codigoprocedimiento|  tipoeventoripsdesc| fechaid|sexodesc|tipodiagnosticoprincipalcd|edad|dxegreso|dxprincipal|municipiocd|personaid_count|\n",
      "+---------+-------------------+--------------------+--------+--------+--------------------------+----+--------+-----------+-----------+---------------+\n",
      "|100012321|             903816|PROCEDIMIENTOS DE...|20221220|FEMENINO|                      null|  31|       0|       Z000|      41132|              3|\n",
      "|100012321|             907106|PROCEDIMIENTOS DE...|20221220|FEMENINO|                      null|  31|       0|       Z000|      41132|              3|\n",
      "|100012321|             903818|PROCEDIMIENTOS DE...|20221220|FEMENINO|                      null|  31|       0|       Z000|      41132|              3|\n",
      "| 10002763|             890228|           CONSULTAS|20220810|FEMENINO|                         1|  61|       0|       I10X|      13001|              1|\n",
      "|100043669|             904921|PROCEDIMIENTOS DE...|20220831|FEMENINO|                      null|  32|       0|       Z000|      47001|              5|\n",
      "|100043669|             903868|PROCEDIMIENTOS DE...|20220831|FEMENINO|                      null|  32|       0|       Z000|      47001|              5|\n",
      "|100043669|             903815|PROCEDIMIENTOS DE...|20220831|FEMENINO|                      null|  32|       0|       Z000|      47001|              5|\n",
      "|100043669|             898001|PROCEDIMIENTOS DE...|20220819|FEMENINO|                      null|  32|       0|       Z124|      47001|              5|\n",
      "|100043669|             903817|PROCEDIMIENTOS DE...|20220831|FEMENINO|                      null|  32|       0|       Z000|      47001|              5|\n",
      "|100044684|             903026|PROCEDIMIENTOS DE...|20220806|FEMENINO|                      null|  31|       0|       Z000|      47001|              5|\n",
      "|100044684|             903841|PROCEDIMIENTOS DE...|20220806|FEMENINO|                      null|  31|       0|       Z000|      47001|              5|\n",
      "|100044684|             903895|PROCEDIMIENTOS DE...|20220806|FEMENINO|                      null|  31|       0|       Z000|      47001|              5|\n",
      "|100044684|             894102|PROCEDIMIENTOS DE...|20221203|FEMENINO|                      null|  31|       0|       I479|      47001|              5|\n",
      "|100044684|             881202|PROCEDIMIENTOS DE...|20221129|FEMENINO|                      null|  31|       0|       I479|      47001|              5|\n",
      "|100048893|             901305|PROCEDIMIENTOS DE...|20220827|FEMENINO|                      null|  31|       0|       Z000|      47001|              1|\n",
      "|100053280|             898001|PROCEDIMIENTOS DE...|20220811|FEMENINO|                      null|  29|       0|       J00X|      47189|              1|\n",
      "|100067156|             902210|PROCEDIMIENTOS DE...|20220927|FEMENINO|                      null|  31|       0|       Z000|      47001|              4|\n",
      "|100067156|             906406|PROCEDIMIENTOS DE...|20220927|FEMENINO|                      null|  31|       0|       Z000|      47001|              4|\n",
      "|100067156|             906906|PROCEDIMIENTOS DE...|20220927|FEMENINO|                      null|  31|       0|       Z000|      47001|              4|\n",
      "|100067156|             898102|PROCEDIMIENTOS DE...|20220914|FEMENINO|                      null|  31|       0|       N049|      47001|              4|\n",
      "+---------+-------------------+--------------------+--------+--------+--------------------------+----+--------+-----------+-----------+---------------+\n",
      "only showing top 20 rows\n",
      "\n",
      "Nombres de las columnas filtradas:\n",
      "['personaid', 'codigoprocedimiento', 'tipoeventoripsdesc', 'fechaid', 'sexodesc', 'tipodiagnosticoprincipalcd', 'edad', 'dxegreso', 'dxprincipal', 'municipiocd', 'personaid_count']\n"
     ]
    },
    {
     "name": "stderr",
     "output_type": "stream",
     "text": [
      "[Stage 13:>                                                         (0 + 1) / 1]\r"
     ]
    },
    {
     "name": "stdout",
     "output_type": "stream",
     "text": [
      "+---------+-------------------+--------------------+--------+---------+--------------------------+----+--------+-----------+-----------+---------------+\n",
      "|personaid|codigoprocedimiento|  tipoeventoripsdesc| fechaid| sexodesc|tipodiagnosticoprincipalcd|edad|dxegreso|dxprincipal|municipiocd|personaid_count|\n",
      "+---------+-------------------+--------------------+--------+---------+--------------------------+----+--------+-----------+-----------+---------------+\n",
      "|100012321|             903816|PROCEDIMIENTOS DE...|20221220| FEMENINO|                      null|  31|       0|       Z000|      41132|              3|\n",
      "| 10002763|             890228|           CONSULTAS|20220810| FEMENINO|                         1|  61|       0|       I10X|      13001|              1|\n",
      "|100043669|             904921|PROCEDIMIENTOS DE...|20220831| FEMENINO|                      null|  32|       0|       Z000|      47001|              5|\n",
      "|100044684|             903026|PROCEDIMIENTOS DE...|20220806| FEMENINO|                      null|  31|       0|       Z000|      47001|              5|\n",
      "|100048893|             901305|PROCEDIMIENTOS DE...|20220827| FEMENINO|                      null|  31|       0|       Z000|      47001|              1|\n",
      "|100053280|             898001|PROCEDIMIENTOS DE...|20220811| FEMENINO|                      null|  29|       0|       J00X|      47189|              1|\n",
      "|100067156|             902210|PROCEDIMIENTOS DE...|20220927| FEMENINO|                      null|  31|       0|       Z000|      47001|              4|\n",
      "|100071456|             997106|PROCEDIMIENTOS DE...|20220404|MASCULINO|                      null|  18|       0|       Z768|      08758|              2|\n",
      "|100074982|             906039|PROCEDIMIENTOS DE...|20221104| FEMENINO|                      null|  17|       0|          1|      08001|              2|\n",
      "|100099526|             997301|PROCEDIMIENTOS DE...|20221023| FEMENINO|                      null|  29|       0|          1|      08001|              1|\n",
      "|100099706|             881436|PROCEDIMIENTOS DE...|20220716| FEMENINO|                      null|  29|       0|       Z349|      13001|              1|\n",
      "|100110288|             890201|           CONSULTAS|20220106| FEMENINO|                         1|  28|       0|       A099|      11001|              1|\n",
      "|100121079|             890305|           CONSULTAS|20220406| FEMENINO|                         1|  29|       0|       Z300|      73622|              1|\n",
      "| 10012258|             902210|PROCEDIMIENTOS DE...|20221110| FEMENINO|                      null|  63|       0|       Z000|      47001|              4|\n",
      "|100127197|             903868|PROCEDIMIENTOS DE...|20220211|MASCULINO|                      null|  30|       0|       Z136|      15837|              1|\n",
      "|100127413|             903868|PROCEDIMIENTOS DE...|20220831| FEMENINO|                      null|  29|       0|       Z003|      15001|              1|\n",
      "|100127417|             997310|PROCEDIMIENTOS DE...|20220412| FEMENINO|                      null|  29|       0|       Z718|      15001|              1|\n",
      "|100150202|             997301|PROCEDIMIENTOS DE...|20221021| FEMENINO|                      null|  29|       0|       K021|      15238|              3|\n",
      "|100154032|             990211|PROCEDIMIENTOS DE...|20221108| FEMENINO|                      null|  29|       0|       Z018|      76001|              1|\n",
      "|100157189|             541102|PROCEDIMIENTOS DE...|20220317| FEMENINO|                      null|  30|       0|       K769|      76364|              2|\n",
      "+---------+-------------------+--------------------+--------+---------+--------------------------+----+--------+-----------+-----------+---------------+\n",
      "only showing top 20 rows\n",
      "\n"
     ]
    },
    {
     "name": "stderr",
     "output_type": "stream",
     "text": [
      "\r",
      "                                                                                \r"
     ]
    }
   ],
   "source": [
    "from pyspark.sql import SparkSession\n",
    "from pyspark.sql import functions as F\n",
    "from pyspark.sql.window import Window\n",
    "\n",
    "# Crear una sesión de Spark\n",
    "spark = SparkSession.builder.appName(\"DataFrame Example\").getOrCreate()\n",
    "\n",
    "\n",
    "# Cargar el archivo Parquet en un DataFrame\n",
    "#df = df1\n",
    "\n",
    "# Seleccionar solo las columnas deseadas (sin 'personaid_count' ya que no existe aún)\n",
    "columns_to_keep = [\n",
    "    'personaid', 'codigoprocedimiento', 'tipoeventoripsdesc', 'fechaid',\n",
    "    'sexodesc', 'tipodiagnosticoprincipalcd', 'edad', 'dxegreso', 'dxprincipal', 'municipiocd'\n",
    "]\n",
    "df_filtered = df.select(*columns_to_keep)\n",
    "\n",
    "# Agregar una nueva columna con el recuento distintivo de 'personaid'\n",
    "window_spec = Window.partitionBy('personaid')\n",
    "df_filtered = df_filtered.withColumn('personaid_count', F.count('personaid').over(window_spec))\n",
    "\n",
    "# Mostrar las primeras filas del DataFrame filtrado para verificar\n",
    "df_filtered.show()\n",
    "\n",
    "# Mostrar los nombres de las columnas filtradas para verificar\n",
    "print(\"Nombres de las columnas filtradas:\")\n",
    "print(df_filtered.columns)\n",
    "\n",
    "# Agrupar por la columna 'personaid'\n",
    "grouped_df = df_filtered.groupBy('personaid').agg(\n",
    "    F.first('codigoprocedimiento').alias('codigoprocedimiento'),\n",
    "    F.first('tipoeventoripsdesc').alias('tipoeventoripsdesc'),\n",
    "    F.first('fechaid').alias('fechaid'),\n",
    "    F.first('sexodesc').alias('sexodesc'),\n",
    "    F.first('tipodiagnosticoprincipalcd').alias('tipodiagnosticoprincipalcd'),\n",
    "    F.first('edad').alias('edad'),\n",
    "    F.first('dxegreso').alias('dxegreso'),\n",
    "    F.first('dxprincipal').alias('dxprincipal'),\n",
    "    F.first('municipiocd').alias('municipiocd'),\n",
    "    F.first('personaid_count').alias('personaid_count')\n",
    ")\n",
    "\n",
    "# Mostrar las primeras filas del DataFrame agrupado para verificar\n",
    "grouped_df.show()\n"
   ]
  },
  {
   "cell_type": "code",
   "execution_count": 10,
   "id": "b242c249",
   "metadata": {},
   "outputs": [
    {
     "name": "stderr",
     "output_type": "stream",
     "text": [
      "\r",
      "[Stage 14:=============================>                            (1 + 1) / 2]\r"
     ]
    },
    {
     "name": "stdout",
     "output_type": "stream",
     "text": [
      "El número de registros en el archivo Parquet es: 188473\n"
     ]
    },
    {
     "name": "stderr",
     "output_type": "stream",
     "text": [
      "\r",
      "                                                                                \r"
     ]
    }
   ],
   "source": [
    "# Contar el número de registros - me da satisfactoriamente la cantidad de regustros en cada año \n",
    "record_count = grouped_df.count()\n",
    "\n",
    "# Mostrar el número de registros\n",
    "print(f\"El número de registros en el archivo Parquet es: {record_count}\")"
   ]
  },
  {
   "cell_type": "code",
   "execution_count": 11,
   "id": "0a7707a7",
   "metadata": {},
   "outputs": [],
   "source": [
    " df_final =grouped_df\n"
   ]
  },
  {
   "cell_type": "code",
   "execution_count": 12,
   "id": "c8edd29f",
   "metadata": {},
   "outputs": [
    {
     "name": "stderr",
     "output_type": "stream",
     "text": [
      "\r",
      "[Stage 20:=============================>                            (1 + 1) / 2]\r"
     ]
    },
    {
     "name": "stdout",
     "output_type": "stream",
     "text": [
      "El número de registros en el archivo Parquet es: 188473\n"
     ]
    },
    {
     "name": "stderr",
     "output_type": "stream",
     "text": [
      "\r",
      "                                                                                \r"
     ]
    }
   ],
   "source": [
    "# Contar el número de registros - me da satisfactoriamente la cantidad de regustros en cada año \n",
    "record_count = df_final.count()\n",
    "\n",
    "# Mostrar el número de registros\n",
    "print(f\"El número de registros en el archivo Parquet es: {record_count}\")"
   ]
  },
  {
   "cell_type": "code",
   "execution_count": 13,
   "id": "6c4283ae",
   "metadata": {
    "scrolled": true
   },
   "outputs": [
    {
     "name": "stderr",
     "output_type": "stream",
     "text": [
      "[Stage 28:>                                                         (0 + 1) / 1]\r"
     ]
    },
    {
     "name": "stdout",
     "output_type": "stream",
     "text": [
      "+---------+-------------------+--------------------+--------+---------+--------------------------+----+--------+-----------+-----------+---------------+\n",
      "|personaid|codigoprocedimiento|  tipoeventoripsdesc| fechaid| sexodesc|tipodiagnosticoprincipalcd|edad|dxegreso|dxprincipal|municipiocd|personaid_count|\n",
      "+---------+-------------------+--------------------+--------+---------+--------------------------+----+--------+-----------+-----------+---------------+\n",
      "|100012321|             903816|PROCEDIMIENTOS DE...|20221220| FEMENINO|                      null|  31|       0|       Z000|      41132|              3|\n",
      "| 10002763|             890228|           CONSULTAS|20220810| FEMENINO|                         1|  61|       0|       I10X|      13001|              1|\n",
      "|100043669|             904921|PROCEDIMIENTOS DE...|20220831| FEMENINO|                      null|  32|       0|       Z000|      47001|              5|\n",
      "|100044684|             903026|PROCEDIMIENTOS DE...|20220806| FEMENINO|                      null|  31|       0|       Z000|      47001|              5|\n",
      "|100048893|             901305|PROCEDIMIENTOS DE...|20220827| FEMENINO|                      null|  31|       0|       Z000|      47001|              1|\n",
      "|100053280|             898001|PROCEDIMIENTOS DE...|20220811| FEMENINO|                      null|  29|       0|       J00X|      47189|              1|\n",
      "|100067156|             902210|PROCEDIMIENTOS DE...|20220927| FEMENINO|                      null|  31|       0|       Z000|      47001|              4|\n",
      "|100071456|             997106|PROCEDIMIENTOS DE...|20220404|MASCULINO|                      null|  18|       0|       Z768|      08758|              2|\n",
      "|100074982|             906039|PROCEDIMIENTOS DE...|20221104| FEMENINO|                      null|  17|       0|          1|      08001|              2|\n",
      "|100099526|             997301|PROCEDIMIENTOS DE...|20221023| FEMENINO|                      null|  29|       0|          1|      08001|              1|\n",
      "|100099706|             881436|PROCEDIMIENTOS DE...|20220716| FEMENINO|                      null|  29|       0|       Z349|      13001|              1|\n",
      "|100110288|             890201|           CONSULTAS|20220106| FEMENINO|                         1|  28|       0|       A099|      11001|              1|\n",
      "|100121079|             890305|           CONSULTAS|20220406| FEMENINO|                         1|  29|       0|       Z300|      73622|              1|\n",
      "| 10012258|             902210|PROCEDIMIENTOS DE...|20221110| FEMENINO|                      null|  63|       0|       Z000|      47001|              4|\n",
      "|100127197|             903868|PROCEDIMIENTOS DE...|20220211|MASCULINO|                      null|  30|       0|       Z136|      15837|              1|\n",
      "|100127413|             903868|PROCEDIMIENTOS DE...|20220831| FEMENINO|                      null|  29|       0|       Z003|      15001|              1|\n",
      "|100127417|             997310|PROCEDIMIENTOS DE...|20220412| FEMENINO|                      null|  29|       0|       Z718|      15001|              1|\n",
      "|100150202|             997301|PROCEDIMIENTOS DE...|20221021| FEMENINO|                      null|  29|       0|       K021|      15238|              3|\n",
      "|100154032|             990211|PROCEDIMIENTOS DE...|20221108| FEMENINO|                      null|  29|       0|       Z018|      76001|              1|\n",
      "|100157189|             541102|PROCEDIMIENTOS DE...|20220317| FEMENINO|                      null|  30|       0|       K769|      76364|              2|\n",
      "+---------+-------------------+--------------------+--------+---------+--------------------------+----+--------+-----------+-----------+---------------+\n",
      "only showing top 20 rows\n",
      "\n"
     ]
    },
    {
     "name": "stderr",
     "output_type": "stream",
     "text": [
      "\r",
      "                                                                                \r"
     ]
    }
   ],
   "source": [
    "# Mostrar las primeras filas del DataFrame agrupado para verificar\n",
    "df_final.show()"
   ]
  },
  {
   "cell_type": "markdown",
   "id": "3f2c7994",
   "metadata": {},
   "source": [
    "Se comprueba los datos generados con las tablas, da correctamente el numero de atenciones filtrando por id vs el archivo de powerbi (personaid 10002763 , 100012321 , 10012258 , 100043669)"
   ]
  },
  {
   "cell_type": "markdown",
   "id": "e121d260",
   "metadata": {},
   "source": [
    "# Empieza el proceso de generación de tablas"
   ]
  },
  {
   "cell_type": "markdown",
   "id": "8fbd717b",
   "metadata": {},
   "source": [
    "## 1. Agrupado por año y mes"
   ]
  },
  {
   "cell_type": "raw",
   "id": "fee4e53f",
   "metadata": {},
   "source": [
    "# intento 2 "
   ]
  },
  {
   "cell_type": "code",
   "execution_count": 21,
   "id": "30c4f4aa",
   "metadata": {},
   "outputs": [],
   "source": [
    "# Cargar el archivo Parquet en un DataFrame\n",
    "df2 = df_final"
   ]
  },
  {
   "cell_type": "code",
   "execution_count": 22,
   "id": "32bfeab9",
   "metadata": {},
   "outputs": [],
   "source": [
    "from pyspark.sql import SparkSession\n",
    "from pyspark.sql import functions as F\n",
    "from pyspark.sql.window import Window\n",
    "\n",
    "# Crear una sesión de Spark\n",
    "spark = SparkSession.builder.appName(\"DataFrame Example\").getOrCreate()\n",
    "\n",
    "\n",
    "# Cargar el archivo Parquet en un DataFrame\n",
    "df2 = df_final\n",
    "\n",
    "\n"
   ]
  },
  {
   "cell_type": "code",
   "execution_count": 23,
   "id": "f4f4c2ac",
   "metadata": {},
   "outputs": [
    {
     "name": "stderr",
     "output_type": "stream",
     "text": [
      "\r",
      "[Stage 35:=============================>                            (1 + 1) / 2]\r"
     ]
    },
    {
     "name": "stdout",
     "output_type": "stream",
     "text": [
      "El número de registros en el archivo Parquet es: 188473\n"
     ]
    },
    {
     "name": "stderr",
     "output_type": "stream",
     "text": [
      "\r",
      "                                                                                \r"
     ]
    }
   ],
   "source": [
    "# Contar el número de registros - me da satisfactoriamente la cantidad de regustros en cada año \n",
    "record_count = df2.count()\n",
    "\n",
    "# Mostrar el número de registros\n",
    "print(f\"El número de registros en el archivo Parquet es: {record_count}\")"
   ]
  },
  {
   "cell_type": "code",
   "execution_count": 24,
   "id": "98eb92ce",
   "metadata": {},
   "outputs": [
    {
     "name": "stdout",
     "output_type": "stream",
     "text": [
      "root\n",
      " |-- personaid: string (nullable = true)\n",
      " |-- codigoprocedimiento: string (nullable = true)\n",
      " |-- tipoeventoripsdesc: string (nullable = true)\n",
      " |-- fechaid: string (nullable = true)\n",
      " |-- sexodesc: string (nullable = true)\n",
      " |-- tipodiagnosticoprincipalcd: string (nullable = true)\n",
      " |-- edad: string (nullable = true)\n",
      " |-- dxegreso: string (nullable = true)\n",
      " |-- dxprincipal: string (nullable = true)\n",
      " |-- municipiocd: string (nullable = true)\n",
      " |-- personaid_count: long (nullable = true)\n",
      "\n",
      "['personaid', 'codigoprocedimiento', 'tipoeventoripsdesc', 'fechaid', 'sexodesc', 'tipodiagnosticoprincipalcd', 'edad', 'dxegreso', 'dxprincipal', 'municipiocd', 'personaid_count']\n"
     ]
    }
   ],
   "source": [
    "# Mostrar el esquema (columnas y tipos de datos)\n",
    "df2.printSchema()\n",
    "\n",
    "# Listar las columnas\n",
    "print(df2.columns)"
   ]
  },
  {
   "cell_type": "markdown",
   "id": "0979efcc",
   "metadata": {},
   "source": [
    "# resultado final agrupado año y mes, según el numero de personas y atenciones"
   ]
  },
  {
   "cell_type": "code",
   "execution_count": 25,
   "id": "42f7044e",
   "metadata": {},
   "outputs": [
    {
     "name": "stderr",
     "output_type": "stream",
     "text": [
      "                                                                                \r"
     ]
    },
    {
     "name": "stdout",
     "output_type": "stream",
     "text": [
      "+----+---+------------------+--------------------+\n",
      "| Año|Mes|Número_de_Personas|Número_de_Atenciones|\n",
      "+----+---+------------------+--------------------+\n",
      "|2022|  1|             11692|               28279|\n",
      "+----+---+------------------+--------------------+\n",
      "\n"
     ]
    },
    {
     "name": "stderr",
     "output_type": "stream",
     "text": [
      "[Stage 49:===========================================>              (3 + 1) / 4]\r"
     ]
    },
    {
     "name": "stdout",
     "output_type": "stream",
     "text": [
      "+----+---+------------------+--------------------+\n",
      "| Año|Mes|Número_de_Personas|Número_de_Atenciones|\n",
      "+----+---+------------------+--------------------+\n",
      "|2022| 10|             18139|               34774|\n",
      "|2022|  5|              6157|               10619|\n",
      "|2022|  2|             10065|               21456|\n",
      "|2022| 11|             26100|               51706|\n",
      "|2022|  8|             23279|               58484|\n",
      "|2022|  1|             11692|               28279|\n",
      "|2022|  6|              5124|                8927|\n",
      "|2022|  9|             15274|               29441|\n",
      "|2022|  4|             15661|               38970|\n",
      "|2022| 12|             37596|               69205|\n",
      "|2022|  7|              6915|               12320|\n",
      "|2022|  3|             12471|               27344|\n",
      "+----+---+------------------+--------------------+\n",
      "\n",
      "Nombres de las columnas agrupadas:\n",
      "['Año', 'Mes', 'Número_de_Personas', 'Número_de_Atenciones']\n"
     ]
    },
    {
     "name": "stderr",
     "output_type": "stream",
     "text": [
      "\r",
      "                                                                                \r"
     ]
    }
   ],
   "source": [
    "# Seleccionar solo las columnas deseadas\n",
    "columns_to_keep = [\n",
    "    'personaid', 'codigoprocedimiento', 'tipoeventoripsdesc', 'fechaid',\n",
    "    'sexodesc', 'tipodiagnosticoprincipalcd', 'edad', 'dxegreso', 'dxprincipal', 'municipiocd', 'personaid_count'\n",
    "]\n",
    "df_filtered = df2.select(*columns_to_keep)\n",
    "\n",
    "# Convertir 'fechaid' a tipo fecha si es necesario\n",
    "df_filtered = df_filtered.withColumn('fechaid', F.to_date('fechaid', 'yyyyMMdd'))\n",
    "\n",
    "# Extraer año y mes de la columna 'fechaid'\n",
    "df_filtered = df_filtered.withColumn('Año', F.year('fechaid'))\n",
    "df_filtered = df_filtered.withColumn('Mes', F.month('fechaid'))\n",
    "\n",
    "# Agrupar por año y mes\n",
    "result_df = df_filtered.groupBy('Año', 'Mes').agg(\n",
    "    F.countDistinct('personaid').alias('Número_de_Personas'),\n",
    "    F.sum('personaid_count').alias('Número_de_Atenciones')\n",
    ")\n",
    "\n",
    "# Filtrar para mostrar los resultados de enero para comprobar\n",
    "result_january = result_df.filter((F.col('Año') == 2022) & (F.col('Mes') == 1))\n",
    "\n",
    "# Mostrar los resultados para enero\n",
    "result_january.show()\n",
    "\n",
    "# Mostrar las primeras filas del DataFrame completo para verificar\n",
    "result_df.show()\n",
    "\n",
    "# Imprimir los nombres de las columnas agrupadas para verificar\n",
    "print(\"Nombres de las columnas agrupadas:\")\n",
    "print(result_df.columns)"
   ]
  },
  {
   "cell_type": "markdown",
   "id": "32d6cd35",
   "metadata": {},
   "source": [
    "Hay un ligero desfase al comparar los datos generados aqui al del powerbi , de 100 registros en promedio "
   ]
  },
  {
   "cell_type": "markdown",
   "id": "e3c823ae",
   "metadata": {},
   "source": [
    "# 2. Agrupado por año, mes y sexo"
   ]
  },
  {
   "cell_type": "code",
   "execution_count": 26,
   "id": "91e26ad2",
   "metadata": {},
   "outputs": [
    {
     "name": "stderr",
     "output_type": "stream",
     "text": [
      "[Stage 55:=============================>                            (3 + 3) / 6]\r"
     ]
    },
    {
     "name": "stdout",
     "output_type": "stream",
     "text": [
      "+----+---+-----------+------------------+--------------------+\n",
      "| Año|Mes|   sexodesc|Número_de_Personas|Número_de_Atenciones|\n",
      "+----+---+-----------+------------------+--------------------+\n",
      "|2022|  7|   FEMENINO|              4336|                7922|\n",
      "|2022| 10|       null|                29|                  45|\n",
      "|2022|  6|  MASCULINO|              1919|                3282|\n",
      "|2022|  3|  MASCULINO|              4636|                9949|\n",
      "|2022|  5|       null|                 8|                  11|\n",
      "|2022|  2|       null|                13|                  22|\n",
      "|2022| 11|       null|                39|                 107|\n",
      "|2022|  2|   FEMENINO|              6168|               13336|\n",
      "|2022|  8|       null|                46|                  90|\n",
      "|2022| 11|   FEMENINO|             16569|               32885|\n",
      "|2022|  9|  MASCULINO|              5524|               10526|\n",
      "|2022| 12|   FEMENINO|             23296|               41979|\n",
      "|2022| 12|NO DEFINIDO|               100|                 135|\n",
      "|2022|  1|  MASCULINO|              4422|               10244|\n",
      "|2022|  4|   FEMENINO|              9923|               25274|\n",
      "|2022| 10|   FEMENINO|             11184|               21861|\n",
      "|2022|  1|   FEMENINO|              7223|               17948|\n",
      "|2022|  8|   FEMENINO|             14572|               37714|\n",
      "|2022|  6|NO DEFINIDO|                32|                  36|\n",
      "|2022|  7|  MASCULINO|              2545|                4346|\n",
      "|2022|  1|       null|                17|                  33|\n",
      "|2022|  2|NO DEFINIDO|                19|                  24|\n",
      "|2022|  2|  MASCULINO|              3865|                8074|\n",
      "|2022|  8|NO DEFINIDO|                43|                  62|\n",
      "|2022|  7|NO DEFINIDO|                26|                  40|\n",
      "|2022| 10|  MASCULINO|              6872|               12785|\n",
      "|2022|  5|   FEMENINO|              3810|                6698|\n",
      "|2022|  9|NO DEFINIDO|                48|                  61|\n",
      "|2022|  5|NO DEFINIDO|                36|                  46|\n",
      "|2022| 11|NO DEFINIDO|                66|                  84|\n",
      "|2022|  4|  MASCULINO|              5674|               13593|\n",
      "|2022| 11|  MASCULINO|              9425|               18628|\n",
      "|2022|  6|       null|                15|                  18|\n",
      "|2022|  3|   FEMENINO|              7801|               17332|\n",
      "|2022|  3|NO DEFINIDO|                15|                  23|\n",
      "|2022|  6|   FEMENINO|              3158|                5591|\n",
      "|2022|  9|       null|                17|                  41|\n",
      "|2022|  1|NO DEFINIDO|                30|                  54|\n",
      "|2022|  4|       null|                23|                  47|\n",
      "|2022| 12|       null|                65|                 104|\n",
      "|2022|  5|  MASCULINO|              2303|                3864|\n",
      "|2022|  9|   FEMENINO|              9685|               18813|\n",
      "|2022|  7|       null|                 8|                  12|\n",
      "|2022| 12|  MASCULINO|             14135|               26987|\n",
      "|2022|  8|  MASCULINO|              8618|               20618|\n",
      "|2022| 10|NO DEFINIDO|                54|                  83|\n",
      "|2022|  3|       null|                19|                  40|\n",
      "|2022|  4|NO DEFINIDO|                41|                  56|\n",
      "|2022| 11| INDEFINIDO|                 1|                   2|\n",
      "+----+---+-----------+------------------+--------------------+\n",
      "\n",
      "Nombres de las columnas agrupadas:\n",
      "['Año', 'Mes', 'sexodesc', 'Número_de_Personas', 'Número_de_Atenciones']\n"
     ]
    },
    {
     "name": "stderr",
     "output_type": "stream",
     "text": [
      "\r",
      "                                                                                \r"
     ]
    }
   ],
   "source": [
    "\n",
    "# Seleccionar solo las columnas deseadas\n",
    "columns_to_keep = [\n",
    "    'personaid', 'codigoprocedimiento', 'tipoeventoripsdesc', 'fechaid',\n",
    "    'sexodesc', 'tipodiagnosticoprincipalcd', 'edad', 'dxegreso', 'dxprincipal', 'municipiocd', 'personaid_count'\n",
    "]\n",
    "df_filtered = df2.select(*columns_to_keep)\n",
    "\n",
    "# Convertir 'fechaid' a tipo fecha si es necesario\n",
    "df_filtered = df_filtered.withColumn('fechaid', F.to_date('fechaid', 'yyyyMMdd'))\n",
    "\n",
    "# Extraer año y mes de la columna 'fechaid'\n",
    "df_filtered = df_filtered.withColumn('Año', F.year('fechaid'))\n",
    "df_filtered = df_filtered.withColumn('Mes', F.month('fechaid'))\n",
    "\n",
    "# Agrupar por año, mes y sexodesc\n",
    "result_df = df_filtered.groupBy('Año', 'Mes', 'sexodesc').agg(\n",
    "    F.countDistinct('personaid').alias('Número_de_Personas'),\n",
    "    F.sum('personaid_count').alias('Número_de_Atenciones')\n",
    ")\n",
    "\n",
    "# Mostrar los resultados\n",
    "result_df.show(100)\n",
    "\n",
    "# Imprimir los nombres de las columnas agrupadas para verificar\n",
    "print(\"Nombres de las columnas agrupadas:\")\n",
    "print(result_df.columns)\n"
   ]
  },
  {
   "cell_type": "markdown",
   "id": "256b1fd2",
   "metadata": {},
   "source": [
    "pasa lo mismo, difiere un poco de los datos filtrados del powerbi "
   ]
  },
  {
   "cell_type": "markdown",
   "id": "91886959",
   "metadata": {},
   "source": [
    "# 3. Agrupado por año, mes y municipio"
   ]
  },
  {
   "cell_type": "code",
   "execution_count": 27,
   "id": "9b7531a2",
   "metadata": {},
   "outputs": [
    {
     "name": "stderr",
     "output_type": "stream",
     "text": [
      "[Stage 61:======================================>                   (4 + 2) / 6]\r"
     ]
    },
    {
     "name": "stdout",
     "output_type": "stream",
     "text": [
      "+----+---+-----------+------------------+--------------------+\n",
      "| Año|Mes|municipiocd|Número_de_Personas|Número_de_Atenciones|\n",
      "+----+---+-----------+------------------+--------------------+\n",
      "|2022|  7|      76377|                63|                 100|\n",
      "|2022| 12|      05607|                10|                  16|\n",
      "|2022| 12|      15238|                20|                  24|\n",
      "|2022|  6|      15293|                 1|                   2|\n",
      "|2022|  4|      73349|                 4|                   4|\n",
      "|2022|  6|      08137|                 5|                   6|\n",
      "|2022| 10|       null|               122|                 153|\n",
      "|2022|  3|      25899|              1156|                3124|\n",
      "|2022|  3|      15764|                24|                  44|\n",
      "|2022|  8|      25740|                 3|                   4|\n",
      "|2022| 10|      05674|                17|                  27|\n",
      "|2022|  1|      05360|                 5|                  12|\n",
      "|2022|  2|      15104|                 7|                  12|\n",
      "|2022| 10|      05591|                 2|                   3|\n",
      "|2022| 11|      76622|                22|                  26|\n",
      "|2022|  2|      70708|                 3|                   5|\n",
      "|2022|  6|      47675|                 3|                  11|\n",
      "|2022|  1|      15464|                13|                  28|\n",
      "|2022|  2|      41001|                 6|                   7|\n",
      "|2022|  4|      15762|                 7|                  17|\n",
      "|2022|  2|      54385|                 2|                   3|\n",
      "|2022|  8|      54874|               388|                 461|\n",
      "|2022|  8|      73443|                 8|                  11|\n",
      "|2022| 11|      63111|                15|                  32|\n",
      "|2022|  7|      15215|                 2|                   9|\n",
      "|2022| 11|      20060|                 1|                   1|\n",
      "|2022|  7|      05266|                 3|                   3|\n",
      "|2022|  7|      15299|                85|                 110|\n",
      "|2022| 12|      27160|                 3|                   3|\n",
      "|2022|  8|      54518|                58|                  68|\n",
      "|2022|  6|      47053|                56|                  63|\n",
      "|2022|  4|      23419|                 2|                   2|\n",
      "|2022| 11|      25754|                84|                 111|\n",
      "|2022| 10|      25307|                58|                  94|\n",
      "|2022| 12|      73671|                 2|                   4|\n",
      "|2022| 10|      73268|                57|                  90|\n",
      "|2022|  4|      73622|                34|                  36|\n",
      "|2022|  3|      17662|                 1|                   9|\n",
      "|2022|  9|      68001|                79|                 122|\n",
      "|2022|  3|      25718|                 4|                  16|\n",
      "|2022| 11|      25260|                26|                  69|\n",
      "|2022|  1|      73275|                 3|                   4|\n",
      "|2022| 11|      17614|                13|                  17|\n",
      "|2022|  7|      08638|                22|                  27|\n",
      "|2022|  8|      15296|                10|                  23|\n",
      "|2022|  3|      05038|                 1|                   1|\n",
      "|2022| 12|      54405|                30|                 112|\n",
      "|2022|  3|      76147|                39|                  49|\n",
      "|2022|  9|      66682|                16|                  25|\n",
      "|2022|  9|      25290|                11|                  16|\n",
      "|2022|  4|      15542|                22|                  47|\n",
      "|2022|  9|      44001|                15|                  34|\n",
      "|2022|  2|      08634|                31|                  88|\n",
      "|2022|  8|      68679|                 7|                  20|\n",
      "|2022| 12|      05854|                10|                  14|\n",
      "|2022| 10|      05154|                29|                  48|\n",
      "|2022|  1|      70771|                 4|                  13|\n",
      "|2022|  8|      25286|                85|                 166|\n",
      "|2022| 12|      52696|                16|                  18|\n",
      "|2022| 10|      05004|                 6|                   9|\n",
      "|2022|  8|      15572|                 6|                  12|\n",
      "|2022|  8|      15238|                15|                  35|\n",
      "|2022|  3|      25307|                33|                  39|\n",
      "|2022|  1|      81001|                 4|                   9|\n",
      "|2022|  4|      63401|                 4|                   9|\n",
      "|2022| 10|      08421|                77|                 106|\n",
      "|2022|  8|      47798|                11|                  14|\n",
      "|2022|  2|      17380|                39|                  43|\n",
      "|2022|  4|      63212|                 2|                   3|\n",
      "|2022|  1|      54874|                 6|                   7|\n",
      "|2022|  5|      52696|                18|                  19|\n",
      "|2022| 10|      68276|                27|                  29|\n",
      "|2022| 12|      70702|                22|                  30|\n",
      "|2022|  9|      13894|                21|                  27|\n",
      "|2022| 12|      47798|               274|                 461|\n",
      "|2022| 10|      05440|                27|                  51|\n",
      "|2022| 11|      25486|                16|                  22|\n",
      "|2022| 11|      15272|                 6|                  15|\n",
      "|2022|  5|      08421|                 6|                   8|\n",
      "|2022|  9|      41668|                13|                  21|\n",
      "|2022|  6|      47980|                 8|                   9|\n",
      "|2022|  4|      20013|                37|                  48|\n",
      "|2022| 12|      25486|                 7|                  12|\n",
      "|2022|  2|      52001|                12|                  19|\n",
      "|2022|  5|      70215|                 3|                   4|\n",
      "|2022| 10|      41001|                 9|                  19|\n",
      "|2022|  8|      15464|                20|                  62|\n",
      "|2022| 10|      19001|                 7|                   8|\n",
      "|2022|  8|      05308|                 2|                   5|\n",
      "|2022|  4|      50270|                 1|                   3|\n",
      "|2022|  2|      15238|               178|                 237|\n",
      "|2022| 11|      41396|                 5|                   8|\n",
      "|2022|  7|      08675|                 2|                  13|\n",
      "|2022|  4|      52835|                 6|                   7|\n",
      "|2022| 11|      23807|                 3|                   4|\n",
      "|2022|  9|      19100|                 1|                   1|\n",
      "|2022|  8|      15299|                71|                  88|\n",
      "|2022|  6|      41551|                 1|                   1|\n",
      "|2022|  7|      73001|                22|                  29|\n",
      "|2022| 11|      44430|                18|                  55|\n",
      "+----+---+-----------+------------------+--------------------+\n",
      "only showing top 100 rows\n",
      "\n",
      "Nombres de las columnas agrupadas:\n",
      "['Año', 'Mes', 'municipiocd', 'Número_de_Personas', 'Número_de_Atenciones']\n"
     ]
    },
    {
     "name": "stderr",
     "output_type": "stream",
     "text": [
      "\r",
      "                                                                                \r"
     ]
    }
   ],
   "source": [
    "\n",
    "# Seleccionar solo las columnas deseadas\n",
    "columns_to_keep = [\n",
    "    'personaid', 'codigoprocedimiento', 'tipoeventoripsdesc', 'fechaid',\n",
    "    'sexodesc', 'tipodiagnosticoprincipalcd', 'edad', 'dxegreso', 'dxprincipal', 'municipiocd', 'personaid_count'\n",
    "]\n",
    "df_filtered = df2.select(*columns_to_keep)\n",
    "\n",
    "# Convertir 'fechaid' a tipo fecha si es necesario\n",
    "df_filtered = df_filtered.withColumn('fechaid', F.to_date('fechaid', 'yyyyMMdd'))\n",
    "\n",
    "# Extraer año y mes de la columna 'fechaid'\n",
    "df_filtered = df_filtered.withColumn('Año', F.year('fechaid'))\n",
    "df_filtered = df_filtered.withColumn('Mes', F.month('fechaid'))\n",
    "\n",
    "# Agrupar por año, mes y municipioid\n",
    "result_df = df_filtered.groupBy('Año', 'Mes', 'municipiocd').agg(\n",
    "    F.countDistinct('personaid').alias('Número_de_Personas'),\n",
    "    F.sum('personaid_count').alias('Número_de_Atenciones')\n",
    ")\n",
    "\n",
    "# Mostrar los resultados\n",
    "result_df.show(100)\n",
    "\n",
    "# Imprimir los nombres de las columnas agrupadas para verificar\n",
    "print(\"Nombres de las columnas agrupadas:\")\n",
    "print(result_df.columns)\n"
   ]
  },
  {
   "cell_type": "raw",
   "id": "e03ca3e1",
   "metadata": {},
   "source": [
    "se comprueba con algunos registros de enero, todos concuerdan exactamente el mismo valor"
   ]
  },
  {
   "cell_type": "markdown",
   "id": "5a228e1c",
   "metadata": {},
   "source": [
    "# 4. Agrupado por año, mes y tipoeventoripsdesc"
   ]
  },
  {
   "cell_type": "code",
   "execution_count": 28,
   "id": "ee40d136",
   "metadata": {},
   "outputs": [
    {
     "name": "stderr",
     "output_type": "stream",
     "text": [
      "[Stage 67:==================================>                       (3 + 2) / 5]\r"
     ]
    },
    {
     "name": "stdout",
     "output_type": "stream",
     "text": [
      "+----+---+--------------------+------------------+--------------------+\n",
      "| Año|Mes|  tipoeventoripsdesc|Número_de_Personas|Número_de_Atenciones|\n",
      "+----+---+--------------------+------------------+--------------------+\n",
      "|2022| 11|           CONSULTAS|              6181|                8715|\n",
      "|2022| 12|           CONSULTAS|             10023|               13198|\n",
      "|2022|  2|PROCEDIMIENTOS DE...|              8487|               19109|\n",
      "|2022|  7|PROCEDIMIENTOS DE...|              4254|                8216|\n",
      "|2022|  2|           CONSULTAS|              1578|                2347|\n",
      "|2022| 10|PROCEDIMIENTOS DE...|             12057|               26129|\n",
      "|2022|  5|           CONSULTAS|              1964|                3114|\n",
      "|2022|  9|           CONSULTAS|              4719|                6224|\n",
      "|2022|  3|           CONSULTAS|              1630|                2569|\n",
      "|2022|  3|PROCEDIMIENTOS DE...|             10841|               24775|\n",
      "|2022|  7|           CONSULTAS|              2661|                4104|\n",
      "|2022|  6|PROCEDIMIENTOS DE...|              2717|                5570|\n",
      "|2022|  1|PROCEDIMIENTOS DE...|             10137|               25821|\n",
      "|2022|  1|           CONSULTAS|              1555|                2458|\n",
      "|2022|  5|PROCEDIMIENTOS DE...|              4193|                7505|\n",
      "|2022|  6|           CONSULTAS|              2407|                3357|\n",
      "|2022| 10|           CONSULTAS|              6082|                8645|\n",
      "|2022| 11|PROCEDIMIENTOS DE...|             19919|               42991|\n",
      "|2022|  8|PROCEDIMIENTOS DE...|             19625|               53426|\n",
      "|2022|  4|           CONSULTAS|              1926|                2528|\n",
      "|2022|  4|PROCEDIMIENTOS DE...|             13735|               36442|\n",
      "|2022| 12|PROCEDIMIENTOS DE...|             27573|               56007|\n",
      "|2022|  9|PROCEDIMIENTOS DE...|             10555|               23217|\n",
      "|2022|  8|           CONSULTAS|              3654|                5058|\n",
      "+----+---+--------------------+------------------+--------------------+\n",
      "\n",
      "Nombres de las columnas agrupadas:\n",
      "['Año', 'Mes', 'tipoeventoripsdesc', 'Número_de_Personas', 'Número_de_Atenciones']\n"
     ]
    },
    {
     "name": "stderr",
     "output_type": "stream",
     "text": [
      "\r",
      "[Stage 67:==============================================>           (4 + 1) / 5]\r",
      "\r",
      "                                                                                \r"
     ]
    }
   ],
   "source": [
    "# Seleccionar solo las columnas deseadas\n",
    "columns_to_keep = [\n",
    "    'personaid', 'codigoprocedimiento', 'tipoeventoripsdesc', 'fechaid',\n",
    "    'sexodesc', 'tipodiagnosticoprincipalcd', 'edad', 'dxegreso', 'dxprincipal', 'municipiocd', 'personaid_count'\n",
    "]\n",
    "df_filtered = df2.select(*columns_to_keep)\n",
    "\n",
    "# Convertir 'fechaid' a tipo fecha si es necesario\n",
    "df_filtered = df_filtered.withColumn('fechaid', F.to_date('fechaid', 'yyyyMMdd'))\n",
    "\n",
    "# Extraer año y mes de la columna 'fechaid'\n",
    "df_filtered = df_filtered.withColumn('Año', F.year('fechaid'))\n",
    "df_filtered = df_filtered.withColumn('Mes', F.month('fechaid'))\n",
    "\n",
    "# Agrupar por año, mes y tipoeventoripsdesc\n",
    "result_df = df_filtered.groupBy('Año', 'Mes', 'tipoeventoripsdesc').agg(\n",
    "    F.countDistinct('personaid').alias('Número_de_Personas'),\n",
    "    F.sum('personaid_count').alias('Número_de_Atenciones')\n",
    ")\n",
    "\n",
    "# Mostrar los resultados\n",
    "result_df.show(100)\n",
    "\n",
    "# Imprimir los nombres de las columnas agrupadas para verificar\n",
    "print(\"Nombres de las columnas agrupadas:\")\n",
    "print(result_df.columns)"
   ]
  },
  {
   "cell_type": "raw",
   "id": "3fe1db2b",
   "metadata": {},
   "source": [
    " difiere un poco de los datos filtrados del powerbi "
   ]
  },
  {
   "cell_type": "markdown",
   "id": "aa460a54",
   "metadata": {},
   "source": [
    "# 5. Agrupado por año, mes y tipodiagnosticoprincipalcd"
   ]
  },
  {
   "cell_type": "code",
   "execution_count": 29,
   "id": "ec7f5abf",
   "metadata": {},
   "outputs": [
    {
     "name": "stderr",
     "output_type": "stream",
     "text": [
      "[Stage 73:==============================================>           (4 + 1) / 5]\r"
     ]
    },
    {
     "name": "stdout",
     "output_type": "stream",
     "text": [
      "+----+---+--------------------------+------------------+--------------------+\n",
      "| Año|Mes|tipodiagnosticoprincipalcd|Número_de_Personas|Número_de_Atenciones|\n",
      "+----+---+--------------------------+------------------+--------------------+\n",
      "|2022| 10|                      null|             12057|               26129|\n",
      "|2022|  9|                         1|              3692|                4837|\n",
      "|2022|  6|                         1|              1494|                2103|\n",
      "|2022|  7|                         3|               293|                 485|\n",
      "|2022|  2|                         2|               259|                 414|\n",
      "|2022|  6|                         2|               455|                 627|\n",
      "|2022|  7|                         2|               416|                 658|\n",
      "|2022|  5|                      null|              4193|                7505|\n",
      "|2022| 10|                         3|              1572|                1953|\n",
      "|2022|  5|                         3|               210|                 306|\n",
      "|2022|  2|                      null|              8487|               19109|\n",
      "|2022|  4|                         1|              1481|                1874|\n",
      "|2022| 11|                      null|             19919|               42991|\n",
      "|2022|  1|                         1|               998|                1635|\n",
      "|2022|  9|                         3|               566|                 684|\n",
      "|2022| 11|                         1|              4271|                6196|\n",
      "|2022|  8|                         3|               241|                 327|\n",
      "|2022|  8|                      null|             19625|               53426|\n",
      "|2022|  2|                         3|               108|                 137|\n",
      "|2022| 12|                         3|              1295|                1679|\n",
      "|2022|  3|                         2|               187|                 580|\n",
      "|2022| 10|                         1|              3410|                5082|\n",
      "|2022|  3|                         3|               196|                 292|\n",
      "|2022|  7|                         1|              1952|                2961|\n",
      "|2022|  1|                      null|             10137|               25821|\n",
      "|2022| 12|                         1|              4894|                6505|\n",
      "|2022|  9|                         2|               461|                 703|\n",
      "|2022|  4|                         3|               215|                 308|\n",
      "|2022|  1|                         2|               235|                 375|\n",
      "|2022| 12|                         2|              3834|                5014|\n",
      "|2022|  5|                         1|              1420|                2291|\n",
      "|2022|  3|                         1|              1247|                1697|\n",
      "|2022|  6|                      null|              2717|                5570|\n",
      "|2022|  6|                         3|               458|                 627|\n",
      "|2022|  9|                      null|             10555|               23217|\n",
      "|2022|  1|                         3|               322|                 448|\n",
      "|2022|  4|                      null|             13735|               36442|\n",
      "|2022| 12|                      null|             27573|               56007|\n",
      "|2022| 11|                         2|               812|                1166|\n",
      "|2022|  8|                         1|              3172|                4350|\n",
      "|2022|  2|                         1|              1211|                1796|\n",
      "|2022|  5|                         2|               334|                 517|\n",
      "|2022|  7|                      null|              4254|                8216|\n",
      "|2022|  4|                         2|               230|                 346|\n",
      "|2022|  8|                         2|               241|                 381|\n",
      "|2022| 10|                         2|              1100|                1610|\n",
      "|2022|  3|                      null|             10841|               24775|\n",
      "|2022| 11|                         3|              1098|                1353|\n",
      "+----+---+--------------------------+------------------+--------------------+\n",
      "\n",
      "Nombres de las columnas agrupadas:\n",
      "['Año', 'Mes', 'tipodiagnosticoprincipalcd', 'Número_de_Personas', 'Número_de_Atenciones']\n"
     ]
    },
    {
     "name": "stderr",
     "output_type": "stream",
     "text": [
      "\r",
      "                                                                                \r"
     ]
    }
   ],
   "source": [
    "# Seleccionar solo las columnas deseadas\n",
    "columns_to_keep = [\n",
    "    'personaid', 'codigoprocedimiento', 'tipoeventoripsdesc', 'fechaid',\n",
    "    'sexodesc', 'tipodiagnosticoprincipalcd', 'edad', 'dxegreso', 'dxprincipal', 'municipiocd', 'personaid_count'\n",
    "]\n",
    "df_filtered = df2.select(*columns_to_keep)\n",
    "\n",
    "# Convertir 'fechaid' a tipo fecha si es necesario\n",
    "df_filtered = df_filtered.withColumn('fechaid', F.to_date('fechaid', 'yyyyMMdd'))\n",
    "\n",
    "# Extraer año y mes de la columna 'fechaid'\n",
    "df_filtered = df_filtered.withColumn('Año', F.year('fechaid'))\n",
    "df_filtered = df_filtered.withColumn('Mes', F.month('fechaid'))\n",
    "\n",
    "# Agrupar por año, mes y tipodiagnosticoprincipalcd\n",
    "result_df = df_filtered.groupBy('Año', 'Mes', 'tipodiagnosticoprincipalcd').agg(\n",
    "    F.countDistinct('personaid').alias('Número_de_Personas'),\n",
    "    F.sum('personaid_count').alias('Número_de_Atenciones')\n",
    ")\n",
    "\n",
    "# Mostrar los resultados\n",
    "result_df.show(100)\n",
    "\n",
    "# Imprimir los nombres de las columnas agrupadas para verificar\n",
    "print(\"Nombres de las columnas agrupadas:\")\n",
    "print(result_df.columns)"
   ]
  },
  {
   "cell_type": "raw",
   "id": "fa291206",
   "metadata": {},
   "source": [
    " difiere muy poco de los datos filtrados del powerbi, algunos datos vienen en null"
   ]
  },
  {
   "cell_type": "markdown",
   "id": "554cb620",
   "metadata": {},
   "source": [
    "# 6. Agrupado por año, mes y dxprincipal"
   ]
  },
  {
   "cell_type": "code",
   "execution_count": 30,
   "id": "6bc116f6",
   "metadata": {},
   "outputs": [
    {
     "name": "stderr",
     "output_type": "stream",
     "text": [
      "[Stage 79:================================================>         (5 + 1) / 6]\r"
     ]
    },
    {
     "name": "stdout",
     "output_type": "stream",
     "text": [
      "+----+---+-----------+------------------+--------------------+\n",
      "| Año|Mes|dxprincipal|Número_de_Personas|Número_de_Atenciones|\n",
      "+----+---+-----------+------------------+--------------------+\n",
      "|2022| 12|       K046|                27|                  37|\n",
      "|2022| 11|       O269|                 7|                  13|\n",
      "|2022|  8|       G138|                 1|                   1|\n",
      "|2022| 10|       M401|                 5|                   6|\n",
      "|2022|  8|       R100|                 6|                   7|\n",
      "|2022| 10|       E079|                 4|                   7|\n",
      "|2022|  7|       P229|                 2|                   3|\n",
      "|2022|  2|       E669|                13|                  23|\n",
      "|2022|  9|       I509|                 3|                   4|\n",
      "|2022|  7|       S025|                 8|                  10|\n",
      "|2022|  5|       S708|                 1|                   8|\n",
      "|2022|  9|       N760|                16|                  21|\n",
      "|2022| 10|       N771|                28|                  57|\n",
      "|2022| 10|       H920|                15|                  17|\n",
      "|2022| 11|       E669|                22|                  37|\n",
      "|2022|  6|       M255|                 7|                   9|\n",
      "|2022|  3|       Z121|                 1|                   1|\n",
      "|2022| 12|       E042|                 6|                   6|\n",
      "|2022|  7|       M511|                 7|                  12|\n",
      "|2022| 11|       O731|                 1|                   3|\n",
      "|2022|  7|       O470|                 6|                  43|\n",
      "|2022| 12|       K047|                28|                  38|\n",
      "|2022| 12|       T131|                 4|                   4|\n",
      "|2022| 12|       G803|                 2|                   2|\n",
      "|2022|  6|       D180|                 3|                   4|\n",
      "|2022|  6|       S529|                 1|                   1|\n",
      "|2022| 11|       N761|                 2|                   5|\n",
      "|2022| 12|       J320|                 3|                   4|\n",
      "|2022|  9|       R568|                 6|                   6|\n",
      "|2022|  1|       D692|                 2|                   6|\n",
      "|2022| 11|       D391|                10|                  28|\n",
      "|2022| 10|       J46X|                 5|                   8|\n",
      "|2022|  2|       L709|                 4|                   6|\n",
      "|2022|  8|       K050|               192|                 313|\n",
      "|2022| 12|       F808|                16|                  37|\n",
      "|2022| 10|       F918|                 1|                   1|\n",
      "|2022|  5|       B509|                 1|                   1|\n",
      "|2022| 10|       E109|                50|                 205|\n",
      "|2022|  9|       S501|                 1|                   1|\n",
      "|2022|  9|       Q909|                 2|                   2|\n",
      "|2022| 10|       M170|                 4|                   6|\n",
      "|2022| 11|       J209|                14|                  23|\n",
      "|2022|  8|       K006|                 1|                   1|\n",
      "|2022| 12|       R301|                 1|                   3|\n",
      "|2022|  1|       A085|                 3|                   7|\n",
      "|2022|  5|       M796|                 9|                  22|\n",
      "|2022| 12|       Z246|                12|                  27|\n",
      "|2022| 11|       O149|                 2|                   2|\n",
      "|2022| 10|       B04X|                 2|                   2|\n",
      "|2022| 11|       N872|                 2|                   5|\n",
      "|2022|  8|       S525|                11|                  18|\n",
      "|2022|  1|       I861|                 2|                   2|\n",
      "|2022|  9|          1|               539|                1105|\n",
      "|2022|  7|       R634|                 4|                   7|\n",
      "|2022|  4|       K036|                68|                 133|\n",
      "|2022|  1|       R590|                 1|                   3|\n",
      "|2022|  5|       I842|                 1|                   1|\n",
      "|2022|  8|       G473|                19|                  33|\n",
      "|2022|  3|       T149|                 2|                   4|\n",
      "|2022| 12|       K295|                23|                  29|\n",
      "|2022|  9|       Q432|                 4|                   6|\n",
      "|2022| 10|       F019|                 1|                  19|\n",
      "|2022|  4|       D391|                 5|                  10|\n",
      "|2022| 10|       J312|                 1|                   1|\n",
      "|2022| 12|       R104|               655|                 898|\n",
      "|2022| 11|       K007|                 6|                   7|\n",
      "|2022|  8|       J449|                53|                 179|\n",
      "|2022|  1|       L719|                 1|                   1|\n",
      "|2022| 11|       N921|                 3|                   3|\n",
      "|2022| 10|       Z918|                 1|                   1|\n",
      "|2022|  1|       H669|                 2|                   2|\n",
      "|2022|  8|       K053|                15|                  27|\n",
      "|2022|  3|       O120|                 2|                   2|\n",
      "|2022|  3|       T07X|                 1|                   1|\n",
      "|2022| 11|       N63X|                 9|                  13|\n",
      "|2022|  8|       M059|                32|                 126|\n",
      "|2022| 12|       S212|                 6|                   8|\n",
      "|2022|  7|       Z251|                60|                  89|\n",
      "|2022|  1|       R55X|                 9|                  19|\n",
      "|2022| 12|       N840|                 3|                   5|\n",
      "|2022|  6|       E039|                11|                  16|\n",
      "|2022| 12|       I350|                 3|                  12|\n",
      "|2022| 12|       K599|                 3|                   7|\n",
      "|2022|  9|       H920|                10|                  11|\n",
      "|2022| 11|       Z136|               573|                1426|\n",
      "|2022| 12|       M799|                 5|                   6|\n",
      "|2022|  4|       Z032|                 1|                   5|\n",
      "|2022|  8|       S607|                 1|                  22|\n",
      "|2022|  5|       L941|                 1|                   1|\n",
      "|2022| 11|       I499|                 6|                  23|\n",
      "|2022| 12|       G579|                 1|                   1|\n",
      "|2022| 12|       I209|                 9|                  15|\n",
      "|2022| 10|       R600|                 7|                  10|\n",
      "|2022|  4|       R000|                 1|                   3|\n",
      "|2022|  4|       Z349|                29|                 120|\n",
      "|2022|  6|          1|               867|                1681|\n",
      "|2022|  4|       Z300|               108|                 220|\n",
      "|2022|  9|       R103|                47|                  65|\n",
      "|2022|  5|       H360|                 6|                   7|\n",
      "|2022| 12|       I678|                 2|                  36|\n",
      "+----+---+-----------+------------------+--------------------+\n",
      "only showing top 100 rows\n",
      "\n",
      "Nombres de las columnas agrupadas:\n",
      "['Año', 'Mes', 'dxprincipal', 'Número_de_Personas', 'Número_de_Atenciones']\n"
     ]
    },
    {
     "name": "stderr",
     "output_type": "stream",
     "text": [
      "\r",
      "                                                                                \r"
     ]
    }
   ],
   "source": [
    "# Seleccionar solo las columnas deseadas\n",
    "columns_to_keep = [\n",
    "    'personaid', 'codigoprocedimiento', 'tipoeventoripsdesc', 'fechaid',\n",
    "    'sexodesc', 'tipodiagnosticoprincipalcd', 'edad', 'dxegreso', 'dxprincipal', 'municipiocd', 'personaid_count'\n",
    "]\n",
    "df_filtered = df2.select(*columns_to_keep)\n",
    "\n",
    "# Convertir 'fechaid' a tipo fecha si es necesario\n",
    "df_filtered = df_filtered.withColumn('fechaid', F.to_date('fechaid', 'yyyyMMdd'))\n",
    "\n",
    "# Extraer año y mes de la columna 'fechaid'\n",
    "df_filtered = df_filtered.withColumn('Año', F.year('fechaid'))\n",
    "df_filtered = df_filtered.withColumn('Mes', F.month('fechaid'))\n",
    "\n",
    "# Agrupar por año, mes y dxprincipal\n",
    "result_df = df_filtered.groupBy('Año', 'Mes', 'dxprincipal').agg(\n",
    "    F.countDistinct('personaid').alias('Número_de_Personas'),\n",
    "    F.sum('personaid_count').alias('Número_de_Atenciones')\n",
    ")\n",
    "\n",
    "# Mostrar los resultados\n",
    "result_df.show(100)\n",
    "\n",
    "# Imprimir los nombres de las columnas agrupadas para verificar\n",
    "print(\"Nombres de las columnas agrupadas:\")\n",
    "print(result_df.columns)"
   ]
  },
  {
   "cell_type": "raw",
   "id": "359a9696",
   "metadata": {},
   "source": [
    "se verifican algunos resultados de enero, coinciden perfectamente"
   ]
  },
  {
   "cell_type": "markdown",
   "id": "3c60e186",
   "metadata": {},
   "source": [
    "# 7. Agrupado por año, mes y codigoprocedimiento"
   ]
  },
  {
   "cell_type": "code",
   "execution_count": 31,
   "id": "b053ae8a",
   "metadata": {},
   "outputs": [
    {
     "name": "stderr",
     "output_type": "stream",
     "text": [
      "\r",
      "[Stage 85:========================>                                 (3 + 4) / 7]\r"
     ]
    },
    {
     "name": "stdout",
     "output_type": "stream",
     "text": [
      "+----+---+-------------------+------------------+--------------------+\n",
      "| Año|Mes|codigoprocedimiento|Número_de_Personas|Número_de_Atenciones|\n",
      "+----+---+-------------------+------------------+--------------------+\n",
      "|2022| 12|             682101|                11|                  11|\n",
      "|2022|  6|             881401|                12|                  14|\n",
      "|2022| 12|             890750|                21|                  25|\n",
      "|2022|  2|             901303|                 1|                   1|\n",
      "|2022| 10|             903883|                23|                  53|\n",
      "|2022|  3|             873420|                32|                  60|\n",
      "|2022|  7|             865101|                 6|                   6|\n",
      "|2022|  3|             911003|                 2|                   4|\n",
      "|2022| 12|             873423|                 2|                   2|\n",
      "|2022|  8|             882317|                21|                  71|\n",
      "|2022|  2|             907008|                40|                  94|\n",
      "|2022|  8|             901230|                43|                 138|\n",
      "|2022|  5|             903815|                82|                 259|\n",
      "|2022| 12|             865101|                32|                  36|\n",
      "|2022| 12|             890382|                 5|                   5|\n",
      "|2022| 11|             890343|                57|                  84|\n",
      "|2022| 12|             903437|                25|                  74|\n",
      "|2022| 10|             230101|                15|                  20|\n",
      "|2022|  9|             876802|                 8|                  11|\n",
      "|2022| 11|             903841|               783|                2031|\n",
      "|2022|  7|             890408|                 3|                  17|\n",
      "|2022|  6|             890202|                19|                  39|\n",
      "|2022|  3|             873121|                 2|                   2|\n",
      "|2022|  4|             903813|                 9|                  23|\n",
      "|2022| 10|             232103|                 3|                   3|\n",
      "|2022|  1|             871091|                 1|                   1|\n",
      "|2022|  3|             890315|                18|                  18|\n",
      "|2022|  4|             898241|                12|                  12|\n",
      "|2022|  3|             441302|                11|                  33|\n",
      "|2022| 12|             890601|                41|                  90|\n",
      "|2022| 11|             231100|                 3|                   4|\n",
      "|2022|  7|             740001|                 2|                   2|\n",
      "|2022|  5|             861203|                 3|                   3|\n",
      "|2022| 12|             907012|                23|                  28|\n",
      "|2022|  6|             990203|               114|                 183|\n",
      "|2022| 10|             903026|               321|                 990|\n",
      "|2022| 12|             990112|                 5|                   6|\n",
      "|2022|  4|             893805|                 7|                  10|\n",
      "|2022| 10|             890783|                11|                  13|\n",
      "|2022| 10|             890311|                 1|                   2|\n",
      "|2022| 12|             851101|                 9|                   9|\n",
      "|2022| 12|             870108|                17|                  20|\n",
      "|2022| 12|             130003|                15|                  19|\n",
      "|2022| 12|             903801|                85|                 181|\n",
      "|2022|  9|             890384|                10|                  12|\n",
      "|2022|  1|             903876|                77|                 242|\n",
      "|2022|  9|             879901|                 1|                   5|\n",
      "|2022|  1|             873313|                 3|                   3|\n",
      "|2022|  5|             671201|                 3|                   3|\n",
      "|2022| 11|             890380|                10|                  12|\n",
      "|2022|  1|             906249|                69|                 222|\n",
      "|2022| 12|             890701|              2274|                2778|\n",
      "|2022|  9|             890266|                31|                  35|\n",
      "|2022|  8|             873412|                39|                  48|\n",
      "|2022|  2|             993130|                 7|                   8|\n",
      "|2022|  5|             240200|                 1|                   1|\n",
      "|2022|  7|             911024|                 1|                   2|\n",
      "|2022| 11|             892001|                 6|                  12|\n",
      "|2022| 12|             904903|                 5|                   9|\n",
      "|2022|  7|             890350|                16|                  45|\n",
      "|2022|  2|             903809|                14|                  54|\n",
      "|2022| 12|             862701|                 2|                   2|\n",
      "|2022|  7|             931001|                66|                 110|\n",
      "|2022|  1|             902204|                20|                  55|\n",
      "|2022|  8|             906423|                 5|                  21|\n",
      "|2022| 12|             898101|                35|                  49|\n",
      "|2022| 11|             911022|                 4|                  32|\n",
      "|2022| 12|             902210|               960|                1849|\n",
      "|2022|  7|             890315|                76|                  78|\n",
      "|2022|  9|             740001|                 4|                   5|\n",
      "|2022|  3|             903883|                12|                  29|\n",
      "|2022| 11|             993106|                53|                  94|\n",
      "|2022| 11|             873422|                17|                  27|\n",
      "|2022|  3|             890203|                79|                 120|\n",
      "|2022|  3|             892901|               207|                 398|\n",
      "|2022| 11|             873122|                14|                  16|\n",
      "|2022|  7|             890371|                 7|                   7|\n",
      "|2022|  3|             903706|                18|                  38|\n",
      "|2022|  4|             903043|                 5|                   7|\n",
      "|2022| 12|             890201|              1568|                1841|\n",
      "|2022|  1|             993510|                29|                  43|\n",
      "|2022| 10|             839908|                 1|                   1|\n",
      "|2022|  6|             906340|                15|                  15|\n",
      "|2022|  3|             882317|                 7|                  11|\n",
      "|2022|  6|             890205|               170|                 262|\n",
      "|2022| 11|             890303|                12|                  14|\n",
      "|2022|  4|             993509|                 7|                   9|\n",
      "|2022|  9|             943102|                 8|                  10|\n",
      "|2022| 10|             038200|                 3|                   4|\n",
      "|2022| 10|             993106|                27|                  51|\n",
      "|2022| 12|             890326|                 3|                   4|\n",
      "|2022|  5|             906418|                 1|                   5|\n",
      "|2022|  1|             879111|                 4|                  20|\n",
      "|2022| 10|             750101|                 9|                  15|\n",
      "|2022|  5|             230202|                11|                  12|\n",
      "|2022| 12|             890202|                32|                  65|\n",
      "|2022| 11|             230201|                12|                  16|\n",
      "|2022| 12|             906914|                30|                  64|\n",
      "|2022|  7|             903815|                64|                 201|\n",
      "|2022|  9|             903841|               500|                1228|\n",
      "+----+---+-------------------+------------------+--------------------+\n",
      "only showing top 100 rows\n",
      "\n",
      "Nombres de las columnas agrupadas:\n",
      "['Año', 'Mes', 'codigoprocedimiento', 'Número_de_Personas', 'Número_de_Atenciones']\n"
     ]
    },
    {
     "name": "stderr",
     "output_type": "stream",
     "text": [
      "\r",
      "                                                                                \r"
     ]
    }
   ],
   "source": [
    "# Seleccionar solo las columnas deseadas\n",
    "columns_to_keep = [\n",
    "    'personaid', 'codigoprocedimiento', 'tipoeventoripsdesc', 'fechaid',\n",
    "    'sexodesc', 'tipodiagnosticoprincipalcd', 'edad', 'dxegreso', 'dxprincipal', 'municipiocd', 'personaid_count'\n",
    "]\n",
    "df_filtered = df2.select(*columns_to_keep)\n",
    "\n",
    "# Convertir 'fechaid' a tipo fecha si es necesario\n",
    "df_filtered = df_filtered.withColumn('fechaid', F.to_date('fechaid', 'yyyyMMdd'))\n",
    "\n",
    "# Extraer año y mes de la columna 'fechaid'\n",
    "df_filtered = df_filtered.withColumn('Año', F.year('fechaid'))\n",
    "df_filtered = df_filtered.withColumn('Mes', F.month('fechaid'))\n",
    "\n",
    "# Agrupar por año, mes y codigoprocedimiento\n",
    "result_df = df_filtered.groupBy('Año', 'Mes', 'codigoprocedimiento').agg(\n",
    "    F.countDistinct('personaid').alias('Número_de_Personas'),\n",
    "    F.sum('personaid_count').alias('Número_de_Atenciones')\n",
    ")\n",
    "\n",
    "# Mostrar los resultados\n",
    "result_df.show(100)\n",
    "\n",
    "# Imprimir los nombres de las columnas agrupadas para verificar\n",
    "print(\"Nombres de las columnas agrupadas:\")\n",
    "print(result_df.columns)"
   ]
  },
  {
   "cell_type": "markdown",
   "id": "ef8f5d24",
   "metadata": {},
   "source": [
    "se verifican algunos resultados de enero, coinciden perfectamente"
   ]
  },
  {
   "cell_type": "markdown",
   "id": "e76459e0",
   "metadata": {},
   "source": [
    "# 8. Agrupado por año, mes, municipio y sexo"
   ]
  },
  {
   "cell_type": "code",
   "execution_count": 33,
   "id": "35a3fad1",
   "metadata": {},
   "outputs": [
    {
     "name": "stderr",
     "output_type": "stream",
     "text": [
      "[Stage 91:=========================================>                (5 + 2) / 7]\r"
     ]
    },
    {
     "name": "stdout",
     "output_type": "stream",
     "text": [
      "+----+---+-----------+---------+------------------+--------------------+\n",
      "| Año|Mes|municipiocd| sexodesc|Número_de_Personas|Número_de_Atenciones|\n",
      "+----+---+-----------+---------+------------------+--------------------+\n",
      "|2022| 10|      47189| FEMENINO|               618|                1553|\n",
      "|2022|  7|      70678| FEMENINO|                 6|                  10|\n",
      "|2022|  8|      25307| FEMENINO|                39|                  52|\n",
      "|2022|  1|      23417| FEMENINO|                 1|                   1|\n",
      "|2022|  4|      15764|MASCULINO|                 9|                  22|\n",
      "|2022|  9|      41668| FEMENINO|                10|                  14|\n",
      "|2022|  1|      15407| FEMENINO|                 6|                   7|\n",
      "|2022|  9|      94001|MASCULINO|                 2|                   2|\n",
      "|2022|  7|       null| FEMENINO|                36|                  44|\n",
      "|2022|  2|      25269| FEMENINO|               399|                1428|\n",
      "|2022|  9|      70713|MASCULINO|                57|                  92|\n",
      "|2022| 11|      25754| FEMENINO|                52|                  69|\n",
      "|2022|  8|      70418| FEMENINO|                25|                  37|\n",
      "|2022| 10|      15001| FEMENINO|                12|                  16|\n",
      "|2022|  1|      15761|MASCULINO|                 1|                   3|\n",
      "|2022|  4|      66170| FEMENINO|                 5|                   8|\n",
      "|2022|  8|      13673| FEMENINO|                 3|                  85|\n",
      "|2022|  8|      25214| FEMENINO|                 9|                  29|\n",
      "|2022|  9|      23001|MASCULINO|                53|                  59|\n",
      "|2022| 12|      05318| FEMENINO|                26|                  45|\n",
      "|2022|  8|      25754|MASCULINO|                26|                  38|\n",
      "|2022|  4|      15296|MASCULINO|                 5|                  10|\n",
      "|2022|  4|      63401|MASCULINO|                 3|                   5|\n",
      "|2022|  3|      15806| FEMENINO|                17|                  31|\n",
      "|2022|  9|      81736|MASCULINO|                 1|                   1|\n",
      "|2022|  6|      47980| FEMENINO|                 5|                   5|\n",
      "|2022| 12|      73449|MASCULINO|                68|                  87|\n",
      "|2022|  7|      81001| FEMENINO|                 5|                   7|\n",
      "|2022|  1|      25658|MASCULINO|                 1|                   2|\n",
      "|2022|  6|       null|MASCULINO|                22|                  33|\n",
      "|2022|  7|      70001| FEMENINO|                79|                 124|\n",
      "|2022|  1|      73675| FEMENINO|                 1|                   1|\n",
      "|2022| 10|      54810| FEMENINO|                 6|                  44|\n",
      "|2022| 12|      25740| FEMENINO|                28|                  47|\n",
      "|2022|  8|      25175| FEMENINO|               463|                1576|\n",
      "|2022|  3|      05001| FEMENINO|                26|                  40|\n",
      "|2022|  1|      15755| FEMENINO|                 7|                  11|\n",
      "|2022|  7|      70001|MASCULINO|                33|                  40|\n",
      "|2022|  8|      85139|MASCULINO|                 3|                   4|\n",
      "|2022|  6|      25592| FEMENINO|                 5|                   6|\n",
      "|2022|  9|      52019| FEMENINO|                 1|                   1|\n",
      "|2022|  4|      76001| FEMENINO|                98|                 163|\n",
      "|2022|  8|      25817| FEMENINO|                19|                  53|\n",
      "|2022| 11|      73443| FEMENINO|                 3|                   3|\n",
      "|2022|  4|      15491|MASCULINO|                74|                 198|\n",
      "|2022|  7|      25473| FEMENINO|                17|                  42|\n",
      "|2022| 10|      05030| FEMENINO|                 3|                   9|\n",
      "|2022|  2|      68780| FEMENINO|                 3|                   4|\n",
      "|2022|  8|      76233| FEMENINO|                 3|                   4|\n",
      "|2022|  1|      15226| FEMENINO|                 7|                  25|\n",
      "|2022|  6|      68406|MASCULINO|                 1|                   2|\n",
      "|2022| 10|      19075| FEMENINO|                 1|                   1|\n",
      "|2022|  4|      25799|MASCULINO|                44|                 111|\n",
      "|2022|  9|      13001| FEMENINO|                62|                  88|\n",
      "|2022|  4|      25772| FEMENINO|                93|                 205|\n",
      "|2022| 10|      47960| FEMENINO|                 3|                   6|\n",
      "|2022| 12|      44430| FEMENINO|                18|                  19|\n",
      "|2022|  8|      15837|MASCULINO|                 3|                   8|\n",
      "|2022|  7|      76147| FEMENINO|                12|                  20|\n",
      "|2022|  3|      15114| FEMENINO|                10|                  25|\n",
      "|2022|  3|      73001| FEMENINO|                14|                  15|\n",
      "|2022| 12|      47053| FEMENINO|                42|                  56|\n",
      "|2022| 12|      15204| FEMENINO|                 1|                   1|\n",
      "|2022|  7|      52001| FEMENINO|                14|                  19|\n",
      "|2022|  8|      15740| FEMENINO|                 5|                  13|\n",
      "|2022| 12|      76895| FEMENINO|                 8|                   8|\n",
      "|2022|  9|      08421|MASCULINO|                38|                  50|\n",
      "|2022|  8|      05129|MASCULINO|                23|                  28|\n",
      "|2022|  8|      25183|MASCULINO|                43|                 106|\n",
      "|2022|  5|      25899| FEMENINO|                28|                  62|\n",
      "|2022| 12|      17614| FEMENINO|                 9|                  10|\n",
      "|2022| 12|      25612| FEMENINO|                 3|                   3|\n",
      "|2022|  1|      25793|MASCULINO|                 1|                   3|\n",
      "|2022|  3|      63001|MASCULINO|                10|                  15|\n",
      "|2022|  8|      68001|MASCULINO|                43|                  61|\n",
      "|2022| 12|      41298|MASCULINO|                43|                  75|\n",
      "|2022| 11|      25269| FEMENINO|               148|                 605|\n",
      "|2022| 12|      99524| FEMENINO|                 1|                   3|\n",
      "|2022|  1|      05101| FEMENINO|                 2|                   2|\n",
      "|2022|  8|      15296| FEMENINO|                 7|                  16|\n",
      "|2022|  2|      15272| FEMENINO|                17|                  46|\n",
      "|2022| 12|      73624|MASCULINO|                 1|                   5|\n",
      "|2022| 11|      18860|MASCULINO|                 2|                   3|\n",
      "|2022| 10|      41770| FEMENINO|                20|                  27|\n",
      "|2022|  6|      25592|MASCULINO|                 4|                   8|\n",
      "|2022|  7|      54518| FEMENINO|                10|                  11|\n",
      "|2022| 12|      15763| FEMENINO|                22|                  49|\n",
      "|2022| 12|      47720| FEMENINO|                36|                  40|\n",
      "|2022|  3|      25260| FEMENINO|                40|                 172|\n",
      "|2022| 10|      05756|MASCULINO|                 4|                  10|\n",
      "|2022|  8|      25769| FEMENINO|                18|                  83|\n",
      "|2022|  7|      15572| FEMENINO|                 1|                   9|\n",
      "|2022|  8|      25843|MASCULINO|                10|                  15|\n",
      "|2022| 12|      70235| FEMENINO|                13|                  22|\n",
      "|2022| 12|      47798|     null|                 2|                   4|\n",
      "|2022|  9|      73449| FEMENINO|                69|                 154|\n",
      "|2022|  6|      73268| FEMENINO|                10|                  19|\n",
      "|2022|  9|      50680| FEMENINO|                 1|                   1|\n",
      "|2022| 10|      76520|MASCULINO|                 3|                  10|\n",
      "|2022|  9|      68001|MASCULINO|                31|                  59|\n",
      "+----+---+-----------+---------+------------------+--------------------+\n",
      "only showing top 100 rows\n",
      "\n",
      "Nombres de las columnas agrupadas:\n",
      "['Año', 'Mes', 'municipiocd', 'sexodesc', 'Número_de_Personas', 'Número_de_Atenciones']\n"
     ]
    },
    {
     "name": "stderr",
     "output_type": "stream",
     "text": [
      "\r",
      "                                                                                \r"
     ]
    }
   ],
   "source": [
    "# Seleccionar solo las columnas deseadas\n",
    "columns_to_keep = [\n",
    "    'personaid', 'codigoprocedimiento', 'tipoeventoripsdesc', 'fechaid',\n",
    "    'sexodesc', 'tipodiagnosticoprincipalcd', 'edad', 'dxegreso', 'dxprincipal', 'municipiocd', 'personaid_count'\n",
    "]\n",
    "df_filtered = df2.select(*columns_to_keep)\n",
    "\n",
    "# Convertir 'fechaid' a tipo fecha si es necesario\n",
    "df_filtered = df_filtered.withColumn('fechaid', F.to_date('fechaid', 'yyyyMMdd'))\n",
    "\n",
    "# Extraer año y mes de la columna 'fechaid'\n",
    "df_filtered = df_filtered.withColumn('Año', F.year('fechaid'))\n",
    "df_filtered = df_filtered.withColumn('Mes', F.month('fechaid'))\n",
    "\n",
    "# Agrupar por año, mes y codigoprocedimiento\n",
    "result_df = df_filtered.groupBy('Año', 'Mes', 'municipiocd','sexodesc').agg(\n",
    "    F.countDistinct('personaid').alias('Número_de_Personas'),\n",
    "    F.sum('personaid_count').alias('Número_de_Atenciones')\n",
    ")\n",
    "\n",
    "# Mostrar los resultados\n",
    "result_df.show(100)\n",
    "\n",
    "# Imprimir los nombres de las columnas agrupadas para verificar\n",
    "print(\"Nombres de las columnas agrupadas:\")\n",
    "print(result_df.columns)"
   ]
  },
  {
   "cell_type": "markdown",
   "id": "2da8d049",
   "metadata": {},
   "source": [
    "da correctamente al verificar unos registros de enero"
   ]
  },
  {
   "cell_type": "markdown",
   "id": "3481714a",
   "metadata": {},
   "source": [
    "# 9. Agrupado por año, mes, tipoeventorips y sexo"
   ]
  },
  {
   "cell_type": "code",
   "execution_count": null,
   "id": "205705da",
   "metadata": {},
   "outputs": [],
   "source": [
    "# Seleccionar solo las columnas deseadas\n",
    "columns_to_keep = [\n",
    "    'personaid', 'codigoprocedimiento', 'tipoeventoripsdesc', 'fechaid',\n",
    "    'sexodesc', 'tipodiagnosticoprincipalcd', 'edad', 'dxegreso', 'dxprincipal', 'municipiocd', 'personaid_count'\n",
    "]\n",
    "df_filtered = df2.select(*columns_to_keep)\n",
    "\n",
    "# Convertir 'fechaid' a tipo fecha si es necesario\n",
    "df_filtered = df_filtered.withColumn('fechaid', F.to_date('fechaid', 'yyyyMMdd'))\n",
    "\n",
    "# Extraer año y mes de la columna 'fechaid'\n",
    "df_filtered = df_filtered.withColumn('Año', F.year('fechaid'))\n",
    "df_filtered = df_filtered.withColumn('Mes', F.month('fechaid'))\n",
    "\n",
    "# Agrupar por año, mes y codigoprocedimiento\n",
    "result_df = df_filtered.groupBy('Año', 'Mes', 'tipoeventoripsdesc','sexodesc').agg(\n",
    "    F.countDistinct('personaid').alias('Número_de_Personas'),\n",
    "    F.sum('personaid_count').alias('Número_de_Atenciones')\n",
    ")\n",
    "\n",
    "# Mostrar los resultados\n",
    "result_df.show(100)\n",
    "\n",
    "# Imprimir los nombres de las columnas agrupadas para verificar\n",
    "print(\"Nombres de las columnas agrupadas:\")\n",
    "print(result_df.columns)"
   ]
  },
  {
   "cell_type": "markdown",
   "id": "f77a9118",
   "metadata": {},
   "source": [
    "difiere muy poco de los datos filtrados del powerbi "
   ]
  },
  {
   "cell_type": "markdown",
   "id": "9e379e55",
   "metadata": {},
   "source": [
    "# 10. Agrupado por año, mes, edad"
   ]
  },
  {
   "cell_type": "code",
   "execution_count": null,
   "id": "9f84a2de",
   "metadata": {},
   "outputs": [],
   "source": [
    "# Seleccionar solo las columnas deseadas\n",
    "columns_to_keep = [\n",
    "    'personaid', 'codigoprocedimiento', 'tipoeventoripsdesc', 'fechaid',\n",
    "    'sexodesc', 'tipodiagnosticoprincipalcd', 'edad', 'dxegreso', 'dxprincipal', 'municipiocd', 'personaid_count'\n",
    "]\n",
    "df_filtered = df2.select(*columns_to_keep)\n",
    "\n",
    "# Convertir 'fechaid' a tipo fecha si es necesario\n",
    "df_filtered = df_filtered.withColumn('fechaid', F.to_date('fechaid', 'yyyyMMdd'))\n",
    "\n",
    "# Extraer año y mes de la columna 'fechaid'\n",
    "df_filtered = df_filtered.withColumn('Año', F.year('fechaid'))\n",
    "df_filtered = df_filtered.withColumn('Mes', F.month('fechaid'))\n",
    "\n",
    "# Agrupar por año, mes y codigoprocedimiento\n",
    "result_df = df_filtered.groupBy('Año', 'Mes', 'edad').agg(\n",
    "    F.countDistinct('personaid').alias('Número_de_Personas'),\n",
    "    F.sum('personaid_count').alias('Número_de_Atenciones')\n",
    ")\n",
    "\n",
    "# Mostrar los resultados\n",
    "result_df.show(100)\n",
    "\n",
    "# Imprimir los nombres de las columnas agrupadas para verificar\n",
    "print(\"Nombres de las columnas agrupadas:\")\n",
    "print(result_df.columns)"
   ]
  },
  {
   "cell_type": "markdown",
   "id": "0f471ea3",
   "metadata": {},
   "source": [
    "se comprueba los de enero y coincide exactamente con los del powerbi"
   ]
  },
  {
   "cell_type": "markdown",
   "id": "6e24fe00",
   "metadata": {},
   "source": [
    "# 11. Agrupado por año, mes, municipiocd, tipoeventoripsdesc, dxprincipal, sexodesc, edad"
   ]
  },
  {
   "cell_type": "code",
   "execution_count": 34,
   "id": "8678507e",
   "metadata": {},
   "outputs": [
    {
     "name": "stderr",
     "output_type": "stream",
     "text": [
      "[Stage 97:==========================================>              (9 + 3) / 12]\r"
     ]
    },
    {
     "name": "stdout",
     "output_type": "stream",
     "text": [
      "+----+---+-----------+--------------------+-----------+-----------+----+------------------+--------------------+\n",
      "| Año|Mes|municipiocd|  tipoeventoripsdesc|dxprincipal|   sexodesc|edad|Número_de_Personas|Número_de_Atenciones|\n",
      "+----+---+-----------+--------------------+-----------+-----------+----+------------------+--------------------+\n",
      "|2022|  3|      19001|PROCEDIMIENTOS DE...|       Z000|  MASCULINO|  18|                 1|                   1|\n",
      "|2022| 12|      76869|PROCEDIMIENTOS DE...|       R688|   FEMENINO|  16|                 3|                   4|\n",
      "|2022|  2|      15759|PROCEDIMIENTOS DE...|       Z136|   FEMENINO|  60|                 9|                  18|\n",
      "|2022| 11|      70708|PROCEDIMIENTOS DE...|       N390|   FEMENINO|  16|                 2|                   3|\n",
      "|2022| 12|      47798|PROCEDIMIENTOS DE...|       Z008|  MASCULINO|  14|                 1|                   1|\n",
      "|2022| 12|      76001|           CONSULTAS|       Z003|  MASCULINO|  13|                 4|                   5|\n",
      "|2022|  6|      05284|           CONSULTAS|       Z003|  MASCULINO|  13|                 2|                   3|\n",
      "|2022| 12|      08758|           CONSULTAS|       T784|  MASCULINO|  20|                 1|                   1|\n",
      "|2022| 12|      18001|PROCEDIMIENTOS DE...|       Z274|   FEMENINO|   2|                 2|                   7|\n",
      "|2022| 11|      47745|           CONSULTAS|       J00X|   FEMENINO|   2|                 6|                   6|\n",
      "|2022|  7|      25290|PROCEDIMIENTOS DE...|       U071|   FEMENINO|   1|                 1|                   1|\n",
      "|2022| 12|      76001|           CONSULTAS|       K040|NO DEFINIDO|   9|                 1|                   1|\n",
      "|2022| 11|      08001|           CONSULTAS|       Z321|   FEMENINO|  20|                 1|                   1|\n",
      "|2022|  4|      25899|PROCEDIMIENTOS DE...|       H533|  MASCULINO|   9|                 1|                   1|\n",
      "|2022|  3|      70124|           CONSULTAS|       N390|  MASCULINO|   7|                 1|                   2|\n",
      "|2022|  7|      11001|           CONSULTAS|       G473|   FEMENINO|  66|                 5|                   5|\n",
      "|2022|  4|      15759|PROCEDIMIENTOS DE...|       N19X|   FEMENINO|  81|                 3|                  12|\n",
      "|2022|  9|      47189|PROCEDIMIENTOS DE...|       Z000|   FEMENINO|  97|                 2|                   7|\n",
      "|2022| 11|      41298|PROCEDIMIENTOS DE...|       Z136|   FEMENINO|  56|                 2|                   2|\n",
      "|2022|  3|      25175|PROCEDIMIENTOS DE...|       Z136|   FEMENINO|  63|                 2|                   6|\n",
      "|2022|  9|      47551|PROCEDIMIENTOS DE...|       Z000|  MASCULINO|  47|                 1|                   1|\n",
      "|2022|  4|      25899|PROCEDIMIENTOS DE...|       N189|  MASCULINO|  81|                 1|                   1|\n",
      "|2022|  7|      25269|PROCEDIMIENTOS DE...|       N189|   FEMENINO|  98|                 1|                   4|\n",
      "|2022|  6|      73001|PROCEDIMIENTOS DE...|       I10X|  MASCULINO|  74|                 1|                   8|\n",
      "|2022| 11|      47745|           CONSULTAS|       R51X|   FEMENINO|  49|                 1|                   1|\n",
      "|2022| 12|      54001|PROCEDIMIENTOS DE...|       Z000|   FEMENINO|  84|                 3|                  13|\n",
      "|2022|  8|      25473|PROCEDIMIENTOS DE...|       Z136|   FEMENINO|  48|                 2|                   4|\n",
      "|2022| 10|      70713|PROCEDIMIENTOS DE...|       Z000|   FEMENINO|  50|                 1|                   2|\n",
      "|2022|  8|      25269|PROCEDIMIENTOS DE...|       M796|   FEMENINO|  43|                 1|                   1|\n",
      "|2022| 12|      11001|PROCEDIMIENTOS DE...|       K021|  MASCULINO|  20|                 5|                   7|\n",
      "|2022|  2|       null|PROCEDIMIENTOS DE...|       K030|  MASCULINO|  53|                 1|                   1|\n",
      "|2022|  1|      15001|PROCEDIMIENTOS DE...|       H813|   FEMENINO|  63|                 1|                   3|\n",
      "|2022| 10|      47001|PROCEDIMIENTOS DE...|       R53X|   FEMENINO|  28|                 1|                   1|\n",
      "|2022|  1|      15759|PROCEDIMIENTOS DE...|       K036|  MASCULINO|  18|                 1|                   3|\n",
      "|2022|  3|      25269|PROCEDIMIENTOS DE...|       Z136|  MASCULINO|  27|                 1|                   2|\n",
      "|2022|  5|      81736|PROCEDIMIENTOS DE...|          1|  MASCULINO|  15|                18|                  31|\n",
      "|2022| 12|      25430|           CONSULTAS|       A099|  MASCULINO|  25|                 1|                   1|\n",
      "|2022|  3|      68276|PROCEDIMIENTOS DE...|       Z136|  MASCULINO|  59|                 1|                   2|\n",
      "|2022| 10|      47555|PROCEDIMIENTOS DE...|       Z000|  MASCULINO|   7|                 2|                   3|\n",
      "|2022|  3|      25899|PROCEDIMIENTOS DE...|       Z001|   FEMENINO|  13|                 1|                   1|\n",
      "|2022| 12|      41132|PROCEDIMIENTOS DE...|       K050|   FEMENINO|  24|                 2|                   4|\n",
      "|2022|  2|      15001|PROCEDIMIENTOS DE...|       Z001|  MASCULINO|   5|                 1|                   1|\n",
      "|2022| 12|      76246|PROCEDIMIENTOS DE...|       I10X|   FEMENINO|  67|                 1|                   1|\n",
      "|2022| 12|      25290|PROCEDIMIENTOS DE...|       U071|   FEMENINO|  49|                 1|                   1|\n",
      "|2022|  8|      05206|           CONSULTAS|       P599|   FEMENINO|   1|                 1|                   1|\n",
      "|2022| 10|      25175|PROCEDIMIENTOS DE...|       I10X|   FEMENINO|  77|                 1|                   3|\n",
      "|2022|  8|      15001|PROCEDIMIENTOS DE...|       D172|   FEMENINO|  58|                 1|                   3|\n",
      "|2022|  3|      25269|PROCEDIMIENTOS DE...|       Z000|  MASCULINO|  85|                 3|                  47|\n",
      "|2022| 12|      70001|           CONSULTAS|       K076|   FEMENINO|  46|                 1|                   1|\n",
      "|2022| 11|      66594|PROCEDIMIENTOS DE...|       Z000|  MASCULINO|  60|                 1|                   4|\n",
      "|2022| 10|      15238|PROCEDIMIENTOS DE...|       K021|   FEMENINO|  45|                 2|                   3|\n",
      "|2022|  3|      25473|PROCEDIMIENTOS DE...|       Z136|  MASCULINO|  46|                 1|                   1|\n",
      "|2022|  1|      25175|PROCEDIMIENTOS DE...|       R104|   FEMENINO|  64|                 1|                   5|\n",
      "|2022|  4|      15516|PROCEDIMIENTOS DE...|       Z000|  MASCULINO|  57|                 5|                  10|\n",
      "|2022|  2|      25175|PROCEDIMIENTOS DE...|       I10X|   FEMENINO|  62|                 3|                   9|\n",
      "|2022|  2|      15215|PROCEDIMIENTOS DE...|       Z000|   FEMENINO|  38|                 1|                   9|\n",
      "|2022| 12|      05266|PROCEDIMIENTOS DE...|       H813|  MASCULINO|  35|                 1|                   4|\n",
      "|2022|  7|      81736|PROCEDIMIENTOS DE...|          1|   FEMENINO|  32|                 5|                   7|\n",
      "|2022| 12|       null|PROCEDIMIENTOS DE...|       K053|  MASCULINO|  61|                 1|                   1|\n",
      "|2022| 12|      05790|           CONSULTAS|       Z359|   FEMENINO|  28|                 1|                   1|\n",
      "|2022|  9|      08001|PROCEDIMIENTOS DE...|          1|   FEMENINO|  63|                 4|                   5|\n",
      "|2022|  2|      15759|PROCEDIMIENTOS DE...|       K050|  MASCULINO|  27|                 2|                   4|\n",
      "|2022| 11|      25772|PROCEDIMIENTOS DE...|       R074|  MASCULINO|  23|                 1|                   4|\n",
      "|2022| 12|      41132|PROCEDIMIENTOS DE...|       Z000|   FEMENINO|  14|                15|                  50|\n",
      "|2022| 10|      05284|           CONSULTAS|       Z003|  MASCULINO|  14|                15|                  21|\n",
      "|2022|  9|      47555|PROCEDIMIENTOS DE...|       Z000|  MASCULINO|   6|                 1|                   6|\n",
      "|2022|  2|      15001|PROCEDIMIENTOS DE...|       K021|   FEMENINO|  24|                 3|                   4|\n",
      "|2022|  3|      15001|PROCEDIMIENTOS DE...|       Z136|   FEMENINO|  24|                 1|                   2|\n",
      "|2022| 10|      47001|PROCEDIMIENTOS DE...|       Z000|   FEMENINO|  12|                 5|                   7|\n",
      "|2022| 10|      11001|           CONSULTAS|       R104|  MASCULINO|  21|                 1|                   1|\n",
      "|2022|  1|      15226|PROCEDIMIENTOS DE...|       K021|   FEMENINO|  22|                 1|                  13|\n",
      "|2022| 11|      18001|PROCEDIMIENTOS DE...|       K036|   FEMENINO|  21|                 6|                  11|\n",
      "|2022|  7|      70670|           CONSULTAS|       R509|   FEMENINO|   0|                 1|                   1|\n",
      "|2022|  1|      25175|PROCEDIMIENTOS DE...|       I10X|   FEMENINO|  73|                 5|                  14|\n",
      "|2022|  1|      25183|PROCEDIMIENTOS DE...|       I10X|   FEMENINO|  59|                 2|                   6|\n",
      "|2022| 11|      18001|PROCEDIMIENTOS DE...|       K036|   FEMENINO|  34|                 3|                   7|\n",
      "|2022| 11|      25817|PROCEDIMIENTOS DE...|       K30X|   FEMENINO|  57|                 1|                   2|\n",
      "|2022| 11|      25126|PROCEDIMIENTOS DE...|       Z251|   FEMENINO|  72|                 1|                   1|\n",
      "|2022|  2|      68861|PROCEDIMIENTOS DE...|       Z136|  MASCULINO|  43|                 1|                   2|\n",
      "|2022|  8|      15759|PROCEDIMIENTOS DE...|       N19X|   FEMENINO|  75|                 6|                  29|\n",
      "|2022|  9|      08078|           CONSULTAS|       R739|   FEMENINO|  44|                 1|                   1|\n",
      "|2022|  8|      15001|PROCEDIMIENTOS DE...|       Z136|  MASCULINO|  56|                 6|                  29|\n",
      "|2022| 11|      25175|PROCEDIMIENTOS DE...|       N818|   FEMENINO|  62|                 1|                   1|\n",
      "|2022| 10|      11001|           CONSULTAS|       A099|   FEMENINO|  38|                 3|                   3|\n",
      "|2022|  8|      11001|PROCEDIMIENTOS DE...|       Z718|  MASCULINO|  61|                 1|                   5|\n",
      "|2022|  8|      05360|           CONSULTAS|       R520|  MASCULINO|  22|                 1|                   1|\n",
      "|2022|  8|      81736|PROCEDIMIENTOS DE...|          1|   FEMENINO|  46|                 1|                   2|\n",
      "|2022| 10|      66594|PROCEDIMIENTOS DE...|       Z000|   FEMENINO|  60|                 2|                   2|\n",
      "|2022|  1|      15001|PROCEDIMIENTOS DE...|       N189|   FEMENINO|  71|                 1|                  14|\n",
      "|2022| 12|      05197|           CONSULTAS|       Z356|   FEMENINO|  19|                 1|                   1|\n",
      "|2022| 11|      44001|PROCEDIMIENTOS DE...|       O721|  MASCULINO|  20|                 1|                   4|\n",
      "|2022|  1|      08001|PROCEDIMIENTOS DE...|          1|   FEMENINO|  17|                 2|                   3|\n",
      "|2022|  4|      08758|PROCEDIMIENTOS DE...|       Z768|   FEMENINO|  27|                 5|                  15|\n",
      "|2022|  3|      15759|PROCEDIMIENTOS DE...|       T742|   FEMENINO|  15|                 1|                   1|\n",
      "|2022|  3|      11001|PROCEDIMIENTOS DE...|       Z003|  MASCULINO|  27|                 1|                   2|\n",
      "|2022|  3|      25772|PROCEDIMIENTOS DE...|       N760|   FEMENINO|  23|                 1|                   1|\n",
      "|2022|  2|      25899|PROCEDIMIENTOS DE...|       Z001|  MASCULINO|   6|                 1|                   1|\n",
      "|2022|  4|      15001|PROCEDIMIENTOS DE...|       K051|   FEMENINO|  25|                 4|                   7|\n",
      "|2022|  9|      08078|           CONSULTAS|       H612|  MASCULINO|   6|                 1|                   1|\n",
      "|2022|  8|      25899|PROCEDIMIENTOS DE...|       Z001|   FEMENINO|   5|                 2|                   2|\n",
      "+----+---+-----------+--------------------+-----------+-----------+----+------------------+--------------------+\n",
      "only showing top 100 rows\n",
      "\n",
      "Nombres de las columnas agrupadas:\n",
      "['Año', 'Mes', 'municipiocd', 'tipoeventoripsdesc', 'dxprincipal', 'sexodesc', 'edad', 'Número_de_Personas', 'Número_de_Atenciones']\n"
     ]
    },
    {
     "name": "stderr",
     "output_type": "stream",
     "text": [
      "\r",
      "                                                                                \r"
     ]
    }
   ],
   "source": [
    "# Seleccionar solo las columnas deseadas\n",
    "columns_to_keep = [\n",
    "    'personaid', 'codigoprocedimiento', 'tipoeventoripsdesc', 'fechaid',\n",
    "    'sexodesc', 'tipodiagnosticoprincipalcd', 'edad', 'dxegreso', 'dxprincipal', 'municipiocd', 'personaid_count'\n",
    "]\n",
    "df_filtered = df2.select(*columns_to_keep)\n",
    "\n",
    "# Convertir 'fechaid' a tipo fecha si es necesario\n",
    "df_filtered = df_filtered.withColumn('fechaid', F.to_date('fechaid', 'yyyyMMdd'))\n",
    "\n",
    "# Extraer año y mes de la columna 'fechaid'\n",
    "df_filtered = df_filtered.withColumn('Año', F.year('fechaid'))\n",
    "df_filtered = df_filtered.withColumn('Mes', F.month('fechaid'))\n",
    "\n",
    "# Agrupar por año, mes y codigoprocedimiento\n",
    "result_df = df_filtered.groupBy('Año', 'Mes', 'municipiocd','tipoeventoripsdesc','dxprincipal','sexodesc','edad').agg(\n",
    "    F.countDistinct('personaid').alias('Número_de_Personas'),\n",
    "    F.sum('personaid_count').alias('Número_de_Atenciones')\n",
    ")\n",
    "\n",
    "# Mostrar los resultados\n",
    "result_df.show(100)\n",
    "\n",
    "# Imprimir los nombres de las columnas agrupadas para verificar\n",
    "print(\"Nombres de las columnas agrupadas:\")\n",
    "print(result_df.columns)"
   ]
  },
  {
   "cell_type": "markdown",
   "id": "d01fcdac",
   "metadata": {},
   "source": [
    "Se valida estos datos (2022|  1|15001|PROCEDIMIENTOS DE...|H813|FEMENINO|  63|1|3| \n",
    "|2022|  1|15759|PROCEDIMIENTOS DE...|K036|MASCULINO|18|1|3|) corresponde exactamente\n"
   ]
  },
  {
   "cell_type": "markdown",
   "id": "be4ecc58",
   "metadata": {},
   "source": [
    "# 12. Agrupado por año, mes, sexodesc, edad"
   ]
  },
  {
   "cell_type": "code",
   "execution_count": 35,
   "id": "a085d90e",
   "metadata": {},
   "outputs": [
    {
     "name": "stderr",
     "output_type": "stream",
     "text": [
      "[Stage 103:============================>                            (4 + 4) / 8]\r"
     ]
    },
    {
     "name": "stdout",
     "output_type": "stream",
     "text": [
      "+----+---+-----------+----+------------------+--------------------+\n",
      "| Año|Mes|   sexodesc|edad|Número_de_Personas|Número_de_Atenciones|\n",
      "+----+---+-----------+----+------------------+--------------------+\n",
      "|2022|  3|   FEMENINO|  47|                93|                 172|\n",
      "|2022|  6|   FEMENINO|  17|                61|                  87|\n",
      "|2022| 11|   FEMENINO|  73|               155|                 392|\n",
      "|2022|  3|   FEMENINO|  62|               127|                 287|\n",
      "|2022|  4|  MASCULINO|  22|                69|                 191|\n",
      "|2022|  1|  MASCULINO|  19|                13|                  27|\n",
      "|2022|  4|  MASCULINO|  79|                47|                 167|\n",
      "|2022|  9|  MASCULINO|  33|                39|                  66|\n",
      "|2022|  3|   FEMENINO|  20|                83|                 153|\n",
      "|2022|  5|NO DEFINIDO|   9|                17|                  19|\n",
      "|2022|  8|  MASCULINO| 100|                 3|                   6|\n",
      "|2022|  8|  MASCULINO|  21|                70|                 137|\n",
      "|2022|  8|   FEMENINO|  50|               150|                 442|\n",
      "|2022|  8|  MASCULINO|  12|                64|                  97|\n",
      "|2022|  1|   FEMENINO|  35|                99|                 211|\n",
      "|2022|  6|   FEMENINO|  10|                42|                  57|\n",
      "|2022|  3|NO DEFINIDO|  10|                 6|                   9|\n",
      "|2022| 10|   FEMENINO|  81|                74|                 190|\n",
      "|2022|  8|  MASCULINO| 103|                 1|                   4|\n",
      "|2022|  5|  MASCULINO|  67|                27|                  58|\n",
      "|2022|  8|   FEMENINO|  74|               139|                 444|\n",
      "|2022|  3|  MASCULINO|  35|                50|                  90|\n",
      "|2022|  7|  MASCULINO|  49|                18|                  32|\n",
      "|2022|  2|   FEMENINO|  42|                56|                 121|\n",
      "|2022|  5|  MASCULINO|  40|                18|                  26|\n",
      "|2022|  8|   FEMENINO|  62|               201|                 620|\n",
      "|2022|  2|  MASCULINO|  13|                28|                  37|\n",
      "|2022|  4|   FEMENINO|  49|               114|                 255|\n",
      "|2022|  7|   FEMENINO|  40|                53|                  88|\n",
      "|2022|  1|  MASCULINO|  93|                10|                  34|\n",
      "|2022|  2|  MASCULINO|  40|                43|                  87|\n",
      "|2022|  4|  MASCULINO|  31|                85|                 189|\n",
      "|2022|  6|  MASCULINO|  33|                17|                  27|\n",
      "|2022|  9|   FEMENINO|  16|               108|                 174|\n",
      "|2022|  3|   FEMENINO|  44|               106|                 219|\n",
      "|2022|  3|   FEMENINO|  21|               101|                 189|\n",
      "|2022|  8|  MASCULINO|  85|                59|                 199|\n",
      "|2022| 11|   FEMENINO|  91|                25|                  65|\n",
      "|2022|  3|  MASCULINO|  43|                39|                  64|\n",
      "|2022| 12|  MASCULINO|  50|               165|                 328|\n",
      "|2022| 12|  MASCULINO|  56|               191|                 417|\n",
      "|2022|  5|  MASCULINO|  49|                18|                  32|\n",
      "|2022| 12|   FEMENINO|  68|               271|                 576|\n",
      "|2022| 11|  MASCULINO|   4|               184|                 259|\n",
      "|2022|  1|   FEMENINO|  32|               113|                 238|\n",
      "|2022|  7|   FEMENINO|  68|                53|                 139|\n",
      "|2022|  4|  MASCULINO|  53|                61|                 165|\n",
      "|2022|  7|   FEMENINO|  67|                27|                  55|\n",
      "|2022|  2|  MASCULINO|  33|                42|                  85|\n",
      "|2022|  7|   FEMENINO|  28|                66|                 113|\n",
      "|2022|  6|   FEMENINO|   3|                55|                  86|\n",
      "|2022|  8|  MASCULINO|  68|               138|                 395|\n",
      "|2022|  2|   FEMENINO|  36|                69|                 144|\n",
      "|2022|  2|  MASCULINO|   5|                71|                 100|\n",
      "|2022| 11|  MASCULINO|  58|               108|                 245|\n",
      "|2022|  6|  MASCULINO|  77|                12|                  38|\n",
      "|2022|  6|   FEMENINO|  39|                40|                  48|\n",
      "|2022|  8|   FEMENINO|  40|               155|                 304|\n",
      "|2022|  8|  MASCULINO|  37|                80|                 158|\n",
      "|2022|  7|   FEMENINO|  12|                45|                  69|\n",
      "|2022| 10|   FEMENINO|  88|                35|                  96|\n",
      "|2022|  9|  MASCULINO|  65|                85|                 209|\n",
      "|2022|  8|   FEMENINO|  55|               223|                 639|\n",
      "|2022|  2|   FEMENINO|  87|                29|                  92|\n",
      "|2022| 11|  MASCULINO|  70|               118|                 289|\n",
      "|2022|  8|  MASCULINO|  79|                84|                 237|\n",
      "|2022| 11|  MASCULINO|  46|                88|                 163|\n",
      "|2022|  4|   FEMENINO|  73|               115|                 320|\n",
      "|2022|  4|   FEMENINO|  35|               147|                 389|\n",
      "|2022| 10|  MASCULINO|  44|                60|                 104|\n",
      "|2022|  8|  MASCULINO|  66|               139|                 369|\n",
      "|2022|  1|  MASCULINO|   6|                61|                  99|\n",
      "|2022|  4|   FEMENINO|  80|                72|                 226|\n",
      "|2022|  4|   FEMENINO|  71|               133|                 426|\n",
      "|2022|  2|  MASCULINO|  30|                46|                 104|\n",
      "|2022|  2|   FEMENINO|  38|                68|                 144|\n",
      "|2022| 11|   FEMENINO|  40|               197|                 379|\n",
      "|2022|  7|  MASCULINO|  19|                20|                  35|\n",
      "|2022|  4|  MASCULINO|  86|                31|                 102|\n",
      "|2022|  8|   FEMENINO|  32|               208|                 591|\n",
      "|2022| 12|   FEMENINO|  66|               279|                 691|\n",
      "|2022|  2|   FEMENINO|  25|               109|                 272|\n",
      "|2022|  6|   FEMENINO|  70|                31|                 100|\n",
      "|2022| 11|   FEMENINO|  80|               106|                 316|\n",
      "|2022|  3|   FEMENINO|  12|                45|                  62|\n",
      "|2022| 12|  MASCULINO|  85|                66|                 177|\n",
      "|2022|  1|   FEMENINO|  84|                40|                 122|\n",
      "|2022| 10|  MASCULINO|  54|                59|                 153|\n",
      "|2022|  5|  MASCULINO|  10|                34|                  40|\n",
      "|2022| 10|   FEMENINO|  98|                 4|                   9|\n",
      "|2022|  9|       null|  30|                 1|                   1|\n",
      "|2022| 12|  MASCULINO|  28|               148|                 274|\n",
      "|2022|  9|  MASCULINO|  26|                57|                  99|\n",
      "|2022|  5|  MASCULINO|  26|                25|                  28|\n",
      "|2022|  5|  MASCULINO|  23|                24|                  31|\n",
      "|2022|  6|  MASCULINO|  84|                 8|                  22|\n",
      "|2022| 11|       null|  19|                 7|                  10|\n",
      "|2022| 12|   FEMENINO|  40|               319|                 570|\n",
      "|2022|  8|   FEMENINO|  80|               111|                 355|\n",
      "|2022|  8|  MASCULINO|  34|                82|                 178|\n",
      "+----+---+-----------+----+------------------+--------------------+\n",
      "only showing top 100 rows\n",
      "\n",
      "Nombres de las columnas agrupadas:\n",
      "['Año', 'Mes', 'sexodesc', 'edad', 'Número_de_Personas', 'Número_de_Atenciones']\n"
     ]
    },
    {
     "name": "stderr",
     "output_type": "stream",
     "text": [
      "\r",
      "                                                                                \r"
     ]
    }
   ],
   "source": [
    "# Seleccionar solo las columnas deseadas\n",
    "columns_to_keep = [\n",
    "    'personaid', 'codigoprocedimiento', 'tipoeventoripsdesc', 'fechaid',\n",
    "    'sexodesc', 'tipodiagnosticoprincipalcd', 'edad', 'dxegreso', 'dxprincipal', 'municipiocd', 'personaid_count'\n",
    "]\n",
    "df_filtered = df2.select(*columns_to_keep)\n",
    "\n",
    "# Convertir 'fechaid' a tipo fecha si es necesario\n",
    "df_filtered = df_filtered.withColumn('fechaid', F.to_date('fechaid', 'yyyyMMdd'))\n",
    "\n",
    "# Extraer año y mes de la columna 'fechaid'\n",
    "df_filtered = df_filtered.withColumn('Año', F.year('fechaid'))\n",
    "df_filtered = df_filtered.withColumn('Mes', F.month('fechaid'))\n",
    "\n",
    "# Agrupar por año, mes y codigoprocedimiento\n",
    "result_df = df_filtered.groupBy('Año', 'Mes','sexodesc', 'edad').agg(\n",
    "    F.countDistinct('personaid').alias('Número_de_Personas'),\n",
    "    F.sum('personaid_count').alias('Número_de_Atenciones')\n",
    ")\n",
    "\n",
    "# Mostrar los resultados\n",
    "result_df.show(100)\n",
    "\n",
    "# Imprimir los nombres de las columnas agrupadas para verificar\n",
    "print(\"Nombres de las columnas agrupadas:\")\n",
    "print(result_df.columns)"
   ]
  },
  {
   "cell_type": "markdown",
   "id": "1866bcec",
   "metadata": {},
   "source": [
    "se validan estos datos: |2022|1|MASCULINO|19|13|27| \n",
    "                        |2022|1|MASCULINO|93|10|34| Corresponden exactamente al tablero power bi"
   ]
  },
  {
   "cell_type": "code",
   "execution_count": 36,
   "id": "303684e7",
   "metadata": {},
   "outputs": [],
   "source": [
    "spark.stop()"
   ]
  }
 ],
 "metadata": {
  "kernelspec": {
   "display_name": "Python 3 (ipykernel)",
   "language": "python",
   "name": "python3"
  },
  "language_info": {
   "codemirror_mode": {
    "name": "ipython",
    "version": 3
   },
   "file_extension": ".py",
   "mimetype": "text/x-python",
   "name": "python",
   "nbconvert_exporter": "python",
   "pygments_lexer": "ipython3",
   "version": "3.9.18"
  }
 },
 "nbformat": 4,
 "nbformat_minor": 5
}

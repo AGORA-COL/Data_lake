{
 "cells": [
  {
   "cell_type": "markdown",
   "id": "5e7ab853",
   "metadata": {},
   "source": [
    "# A. Validación de datos VITALES Natalidad"
   ]
  },
  {
   "cell_type": "markdown",
   "id": "2cfbd12d",
   "metadata": {},
   "source": [
    "## Carga de los datos"
   ]
  },
  {
   "cell_type": "markdown",
   "id": "dc2c512b",
   "metadata": {},
   "source": [
    "Este jupyter notebook esta generando los datos de un año en especifico (2022 el parquet part.0.parquet de vitales natalidad) para coincidir con las tablas compartidas del  power bi (Tablas agregadas) "
   ]
  },
  {
   "cell_type": "code",
   "execution_count": 1,
   "id": "c90bfc6f",
   "metadata": {},
   "outputs": [
    {
     "name": "stderr",
     "output_type": "stream",
     "text": [
      "Setting default log level to \"WARN\".\n",
      "To adjust logging level use sc.setLogLevel(newLevel). For SparkR, use setLogLevel(newLevel).\n",
      "24/09/02 18:11:14 WARN NativeCodeLoader: Unable to load native-hadoop library for your platform... using builtin-java classes where applicable\n"
     ]
    }
   ],
   "source": [
    "from pyspark.sql import SparkSession\n",
    "\n",
    "# Crear una sesión de Spark\n",
    "spark = SparkSession.builder.appName(\"ValidaciónTablasVITALES_Natalidad\").getOrCreate()"
   ]
  },
  {
   "cell_type": "code",
   "execution_count": 24,
   "id": "bdbbc1d5",
   "metadata": {},
   "outputs": [],
   "source": [
    "#spark.stop()"
   ]
  },
  {
   "cell_type": "code",
   "execution_count": 3,
   "id": "11bff43d",
   "metadata": {},
   "outputs": [
    {
     "name": "stderr",
     "output_type": "stream",
     "text": [
      "                                                                                \r"
     ]
    }
   ],
   "source": [
    "# Leer los archivos Parquet de un año \n",
    "df1_parquet = spark.read.parquet(\"/rawdata/vitales/vitales_parquet_2022/part.0.parquet\")\n",
    "\n",
    "df=df1_parquet"
   ]
  },
  {
   "cell_type": "code",
   "execution_count": 5,
   "id": "ab87d3af",
   "metadata": {},
   "outputs": [
    {
     "name": "stderr",
     "output_type": "stream",
     "text": [
      "\r",
      "[Stage 2:>                                                          (0 + 1) / 1]\r"
     ]
    },
    {
     "name": "stdout",
     "output_type": "stream",
     "text": [
      "Total de registros en el DataFrame unido: 23632\n",
      "Columnas del DataFrame unido: ['PersonaID', 'FechaNacimientoAAAAMM', 'Sexo', 'RegimenAfiliacionSGSSS', 'Administradora', 'CodigoPertenenciaEtnica', 'municipioResidencia', 'SemanasGestacion', 'EdadMadreMomentoDiagnostico', 'FechaCertificadoAAAAMM', 'IpsDondeRealizaParto', 'Peso', '__null_dask_index__']\n"
     ]
    },
    {
     "name": "stderr",
     "output_type": "stream",
     "text": [
      "\r",
      "[Stage 4:>                                                          (0 + 1) / 1]\r",
      "\r",
      "                                                                                \r"
     ]
    }
   ],
   "source": [
    "# Contar el número de registros en el DataFrame unido\n",
    "total_registros = df.count()\n",
    "\n",
    "# Listar las columnas del DataFrame unido\n",
    "columnas = df.columns\n",
    "\n",
    "# Mostrar resultados\n",
    "print(f\"Total de registros en el DataFrame unido: {total_registros}\")\n",
    "print(f\"Columnas del DataFrame unido: {columnas}\")"
   ]
  },
  {
   "cell_type": "code",
   "execution_count": 6,
   "id": "204519cb",
   "metadata": {},
   "outputs": [
    {
     "name": "stderr",
     "output_type": "stream",
     "text": [
      "\r",
      "[Stage 7:>                                                          (0 + 1) / 1]\r"
     ]
    },
    {
     "name": "stdout",
     "output_type": "stream",
     "text": [
      "El número de registros en el archivo Parquet es: 23632\n"
     ]
    },
    {
     "name": "stderr",
     "output_type": "stream",
     "text": [
      "\r",
      "                                                                                \r"
     ]
    }
   ],
   "source": [
    "# Contar el número de registros - me da satisfactoriamente la cantidad de regIstros del año 2022 (128.343)\n",
    "record_count = df.count()\n",
    "\n",
    "# Mostrar el número de registros\n",
    "print(f\"El número de registros en el archivo Parquet es: {record_count}\")"
   ]
  },
  {
   "cell_type": "code",
   "execution_count": 5,
   "id": "cdde4766",
   "metadata": {},
   "outputs": [
    {
     "name": "stdout",
     "output_type": "stream",
     "text": [
      "root\n",
      " |-- PersonaID: string (nullable = true)\n",
      " |-- FechaNacimientoAAAAMM: string (nullable = true)\n",
      " |-- Sexo: string (nullable = true)\n",
      " |-- RegimenAfiliacionSGSSS: string (nullable = true)\n",
      " |-- Administradora: string (nullable = true)\n",
      " |-- CodigoPertenenciaEtnica: string (nullable = true)\n",
      " |-- municipioResidencia: string (nullable = true)\n",
      " |-- SemanasGestacion: string (nullable = true)\n",
      " |-- EdadMadreMomentoDiagnostico: string (nullable = true)\n",
      " |-- FechaCertificadoAAAAMM: string (nullable = true)\n",
      " |-- IpsDondeRealizaParto: string (nullable = true)\n",
      " |-- Peso: string (nullable = true)\n",
      " |-- __null_dask_index__: long (nullable = true)\n",
      "\n",
      "['PersonaID', 'FechaNacimientoAAAAMM', 'Sexo', 'RegimenAfiliacionSGSSS', 'Administradora', 'CodigoPertenenciaEtnica', 'municipioResidencia', 'SemanasGestacion', 'EdadMadreMomentoDiagnostico', 'FechaCertificadoAAAAMM', 'IpsDondeRealizaParto', 'Peso', '__null_dask_index__']\n"
     ]
    }
   ],
   "source": [
    "# Mostrar el esquema (columnas y tipos de datos)\n",
    "df.printSchema()\n",
    "\n",
    "# Listar las columnas\n",
    "print(df.columns)"
   ]
  },
  {
   "cell_type": "markdown",
   "id": "99d768c2",
   "metadata": {},
   "source": [
    "# Empieza el proceso de generación de los datos agrupados por atenciones para natalidades"
   ]
  },
  {
   "cell_type": "code",
   "execution_count": 17,
   "id": "1c8181d6",
   "metadata": {},
   "outputs": [
    {
     "name": "stderr",
     "output_type": "stream",
     "text": [
      "                                                                                \r"
     ]
    },
    {
     "name": "stdout",
     "output_type": "stream",
     "text": [
      "+---------+---------------------+----------------------+---------+---------------------------+---------------+\n",
      "|PersonaID|FechaNacimientoAAAAMM|RegimenAfiliacionSGSSS|     Sexo|EdadMadreMomentoDiagnostico|personaid_count|\n",
      "+---------+---------------------+----------------------+---------+---------------------------+---------------+\n",
      "|100000083|               202202|      C - CONTRIBUTIVO| FEMENINO|                         27|              1|\n",
      "|100002313|               202204|        S - SUBSIDIADO| FEMENINO|                         28|              1|\n",
      "|100004149|               202212|      C - CONTRIBUTIVO| FEMENINO|                         29|              1|\n",
      "|100008250|               202205|        S - SUBSIDIADO|MASCULINO|                         30|              1|\n",
      "|100011221|               202210|      C - CONTRIBUTIVO|MASCULINO|                         29|              1|\n",
      "|100019351|               202203|        S - SUBSIDIADO|MASCULINO|                         33|              1|\n",
      "|100022676|               202209|        S - SUBSIDIADO| FEMENINO|                         17|              1|\n",
      "|100031579|               202202|        S - SUBSIDIADO| FEMENINO|                         28|              1|\n",
      "|100032106|               202203|        S - SUBSIDIADO| FEMENINO|                         16|              1|\n",
      "|100032149|               202209|        S - SUBSIDIADO| FEMENINO|                         17|              1|\n",
      "|100033963|               202210|        S - SUBSIDIADO| FEMENINO|                         29|              1|\n",
      "|100034487|               202206|      C - CONTRIBUTIVO|MASCULINO|                         28|              1|\n",
      "|100035653|               202202|        S - SUBSIDIADO| FEMENINO|                         17|              1|\n",
      "|100036176|               202201|        S - SUBSIDIADO| FEMENINO|                         16|              1|\n",
      "|100036428|               202203|        S - SUBSIDIADO|MASCULINO|                         16|              1|\n",
      "|100036903|               202211|        S - SUBSIDIADO| FEMENINO|                         30|              1|\n",
      "|100039168|               202207|        S - SUBSIDIADO| FEMENINO|                         28|              1|\n",
      "|100039995|               202204|        S - SUBSIDIADO|MASCULINO|                         28|              1|\n",
      "|100042079|               202206|        S - SUBSIDIADO| FEMENINO|                         17|              1|\n",
      "|100042860|               202203|        S - SUBSIDIADO|MASCULINO|                         29|              1|\n",
      "+---------+---------------------+----------------------+---------+---------------------------+---------------+\n",
      "only showing top 20 rows\n",
      "\n",
      "Nombres de las columnas filtradas:\n",
      "['PersonaID', 'FechaNacimientoAAAAMM', 'RegimenAfiliacionSGSSS', 'Sexo', 'EdadMadreMomentoDiagnostico', 'personaid_count']\n"
     ]
    },
    {
     "name": "stderr",
     "output_type": "stream",
     "text": [
      "\r",
      "[Stage 49:>                                                         (0 + 1) / 1]\r",
      "\r",
      "                                                                                \r"
     ]
    },
    {
     "name": "stdout",
     "output_type": "stream",
     "text": [
      "+---------+---------------------+----------------------+---------+---------------------------+---------------+\n",
      "|PersonaID|FechaNacimientoAAAAMM|RegimenAfiliacionSGSSS|     Sexo|EdadMadreMomentoDiagnostico|personaid_count|\n",
      "+---------+---------------------+----------------------+---------+---------------------------+---------------+\n",
      "|100000083|               202202|      C - CONTRIBUTIVO| FEMENINO|                         27|              1|\n",
      "|100002313|               202204|        S - SUBSIDIADO| FEMENINO|                         28|              1|\n",
      "|100004149|               202212|      C - CONTRIBUTIVO| FEMENINO|                         29|              1|\n",
      "|100008250|               202205|        S - SUBSIDIADO|MASCULINO|                         30|              1|\n",
      "|100011221|               202210|      C - CONTRIBUTIVO|MASCULINO|                         29|              1|\n",
      "|100019351|               202203|        S - SUBSIDIADO|MASCULINO|                         33|              1|\n",
      "|100022676|               202209|        S - SUBSIDIADO| FEMENINO|                         17|              1|\n",
      "|100031579|               202202|        S - SUBSIDIADO| FEMENINO|                         28|              1|\n",
      "|100032106|               202203|        S - SUBSIDIADO| FEMENINO|                         16|              1|\n",
      "|100032149|               202209|        S - SUBSIDIADO| FEMENINO|                         17|              1|\n",
      "|100033963|               202210|        S - SUBSIDIADO| FEMENINO|                         29|              1|\n",
      "|100034487|               202206|      C - CONTRIBUTIVO|MASCULINO|                         28|              1|\n",
      "|100035653|               202202|        S - SUBSIDIADO| FEMENINO|                         17|              1|\n",
      "|100036176|               202201|        S - SUBSIDIADO| FEMENINO|                         16|              1|\n",
      "|100036428|               202203|        S - SUBSIDIADO|MASCULINO|                         16|              1|\n",
      "|100036903|               202211|        S - SUBSIDIADO| FEMENINO|                         30|              1|\n",
      "|100039168|               202207|        S - SUBSIDIADO| FEMENINO|                         28|              1|\n",
      "|100039995|               202204|        S - SUBSIDIADO|MASCULINO|                         28|              1|\n",
      "|100042079|               202206|        S - SUBSIDIADO| FEMENINO|                         17|              1|\n",
      "|100042860|               202203|        S - SUBSIDIADO|MASCULINO|                         29|              1|\n",
      "+---------+---------------------+----------------------+---------+---------------------------+---------------+\n",
      "only showing top 20 rows\n",
      "\n"
     ]
    }
   ],
   "source": [
    "from pyspark.sql import SparkSession\n",
    "from pyspark.sql import functions as F\n",
    "from pyspark.sql.window import Window\n",
    "\n",
    "# Crear una sesión de Spark\n",
    "#spark = SparkSession.builder.appName(\"DataFrame Example\").getOrCreate()\n",
    "\n",
    "\n",
    "# Cargar el archivo Parquet en un DataFrame\n",
    "#df = df1\n",
    "\n",
    "# Seleccionar solo las columnas deseadas (sin 'personaid_count' ya que no existe aún)\n",
    "columns_to_keep = [\n",
    "    'PersonaID','FechaNacimientoAAAAMM', 'RegimenAfiliacionSGSSS', 'Sexo','EdadMadreMomentoDiagnostico'\n",
    "    \n",
    "]\n",
    "df_filtered = df.select(*columns_to_keep)\n",
    "\n",
    "# Agregar una nueva columna con el recuento distintivo de 'personaid'\n",
    "window_spec = Window.partitionBy('PersonaID')\n",
    "df_filtered = df_filtered.withColumn('personaid_count', F.count('PersonaID').over(window_spec))\n",
    "\n",
    "# Mostrar las primeras filas del DataFrame filtrado para verificar\n",
    "df_filtered.show()\n",
    "\n",
    "# Mostrar los nombres de las columnas filtradas para verificar\n",
    "print(\"Nombres de las columnas filtradas:\")\n",
    "print(df_filtered.columns)\n",
    "\n",
    "# Agrupar por la columna 'PersonaBasicaID'\n",
    "grouped_df = df_filtered.groupBy('PersonaID').agg(\n",
    "    F.first('FechaNacimientoAAAAMM').alias('FechaNacimientoAAAAMM'),\n",
    "    F.first('RegimenAfiliacionSGSSS').alias('RegimenAfiliacionSGSSS'),\n",
    "    F.first('Sexo').alias('Sexo'),\n",
    "     F.first('EdadMadreMomentoDiagnostico').alias('EdadMadreMomentoDiagnostico'),\n",
    "   \n",
    "    \n",
    "    F.first('personaid_count').alias('personaid_count')\n",
    ")\n",
    "# Mostrar las primeras filas del DataFrame agrupado para verificar\n",
    "grouped_df.show()\n"
   ]
  },
  {
   "cell_type": "code",
   "execution_count": 18,
   "id": "b242c249",
   "metadata": {},
   "outputs": [
    {
     "name": "stderr",
     "output_type": "stream",
     "text": [
      "\r",
      "[Stage 50:>                                                         (0 + 1) / 1]\r"
     ]
    },
    {
     "name": "stdout",
     "output_type": "stream",
     "text": [
      "El número de registros en el archivo Parquet es: 23621\n"
     ]
    },
    {
     "name": "stderr",
     "output_type": "stream",
     "text": [
      "\r",
      "                                                                                \r"
     ]
    }
   ],
   "source": [
    "# Contar el número de registros - me da satisfactoriamente la cantidad de registros en cada año ( 97.416)\n",
    "record_count = grouped_df.count()\n",
    "\n",
    "# Mostrar el número de registros\n",
    "print(f\"El número de registros en el archivo Parquet es: {record_count}\")"
   ]
  },
  {
   "cell_type": "markdown",
   "id": "738289fd",
   "metadata": {},
   "source": [
    "Corresponde exactamente a la cantidad de registros agrupados"
   ]
  },
  {
   "cell_type": "code",
   "execution_count": 19,
   "id": "0a7707a7",
   "metadata": {},
   "outputs": [],
   "source": [
    " df_final =grouped_df\n"
   ]
  },
  {
   "cell_type": "code",
   "execution_count": 20,
   "id": "c8edd29f",
   "metadata": {},
   "outputs": [
    {
     "name": "stdout",
     "output_type": "stream",
     "text": [
      "El número de registros en el archivo Parquet es: 23621\n"
     ]
    }
   ],
   "source": [
    "# Contar el número de registros - me da satisfactoriamente la cantidad de regustros en cada año \n",
    "record_count = df_final.count()\n",
    "\n",
    "# Mostrar el número de registros\n",
    "print(f\"El número de registros en el archivo Parquet es: {record_count}\")"
   ]
  },
  {
   "cell_type": "code",
   "execution_count": 21,
   "id": "6c4283ae",
   "metadata": {
    "scrolled": true
   },
   "outputs": [
    {
     "name": "stdout",
     "output_type": "stream",
     "text": [
      "+---------+---------------------+----------------------+---------+---------------------------+---------------+\n",
      "|PersonaID|FechaNacimientoAAAAMM|RegimenAfiliacionSGSSS|     Sexo|EdadMadreMomentoDiagnostico|personaid_count|\n",
      "+---------+---------------------+----------------------+---------+---------------------------+---------------+\n",
      "|100000083|               202202|      C - CONTRIBUTIVO| FEMENINO|                         27|              1|\n",
      "|100002313|               202204|        S - SUBSIDIADO| FEMENINO|                         28|              1|\n",
      "|100004149|               202212|      C - CONTRIBUTIVO| FEMENINO|                         29|              1|\n",
      "|100008250|               202205|        S - SUBSIDIADO|MASCULINO|                         30|              1|\n",
      "|100011221|               202210|      C - CONTRIBUTIVO|MASCULINO|                         29|              1|\n",
      "|100019351|               202203|        S - SUBSIDIADO|MASCULINO|                         33|              1|\n",
      "|100022676|               202209|        S - SUBSIDIADO| FEMENINO|                         17|              1|\n",
      "|100031579|               202202|        S - SUBSIDIADO| FEMENINO|                         28|              1|\n",
      "|100032106|               202203|        S - SUBSIDIADO| FEMENINO|                         16|              1|\n",
      "|100032149|               202209|        S - SUBSIDIADO| FEMENINO|                         17|              1|\n",
      "|100033963|               202210|        S - SUBSIDIADO| FEMENINO|                         29|              1|\n",
      "|100034487|               202206|      C - CONTRIBUTIVO|MASCULINO|                         28|              1|\n",
      "|100035653|               202202|        S - SUBSIDIADO| FEMENINO|                         17|              1|\n",
      "|100036176|               202201|        S - SUBSIDIADO| FEMENINO|                         16|              1|\n",
      "|100036428|               202203|        S - SUBSIDIADO|MASCULINO|                         16|              1|\n",
      "|100036903|               202211|        S - SUBSIDIADO| FEMENINO|                         30|              1|\n",
      "|100039168|               202207|        S - SUBSIDIADO| FEMENINO|                         28|              1|\n",
      "|100039995|               202204|        S - SUBSIDIADO|MASCULINO|                         28|              1|\n",
      "|100042079|               202206|        S - SUBSIDIADO| FEMENINO|                         17|              1|\n",
      "|100042860|               202203|        S - SUBSIDIADO|MASCULINO|                         29|              1|\n",
      "+---------+---------------------+----------------------+---------+---------------------------+---------------+\n",
      "only showing top 20 rows\n",
      "\n"
     ]
    }
   ],
   "source": [
    "# Mostrar las primeras filas del DataFrame agrupado para verificar\n",
    "df_final.show()"
   ]
  },
  {
   "cell_type": "markdown",
   "id": "3f2c7994",
   "metadata": {},
   "source": [
    "Se notifico que esta muestra tenia errores en la fase de exploración, no se han corregido"
   ]
  },
  {
   "cell_type": "markdown",
   "id": "e121d260",
   "metadata": {},
   "source": [
    "# Empieza el proceso de generación de tablas VITALES Natalidad"
   ]
  },
  {
   "cell_type": "markdown",
   "id": "33603b04",
   "metadata": {},
   "source": [
    "# Pagina 1 - Power BI"
   ]
  },
  {
   "cell_type": "code",
   "execution_count": 22,
   "id": "ac961489",
   "metadata": {},
   "outputs": [],
   "source": [
    "# Cargar el archivo Parquet en un DataFrame ( uno distinto por si deseo comparar)\n",
    "df2 = df_final"
   ]
  },
  {
   "cell_type": "markdown",
   "id": "8fbd717b",
   "metadata": {},
   "source": [
    "## 1. Año, Mes, Sexo, EdadMadreMomentoDiagnostico, y RegimenAfiliacionSGSSS"
   ]
  },
  {
   "cell_type": "raw",
   "id": "0e8553ba",
   "metadata": {},
   "source": [
    "#intento 1 "
   ]
  },
  {
   "cell_type": "code",
   "execution_count": 23,
   "id": "4f68792b",
   "metadata": {},
   "outputs": [
    {
     "name": "stdout",
     "output_type": "stream",
     "text": [
      "+---------------------+\n",
      "|FechaNacimientoAAAAMM|\n",
      "+---------------------+\n",
      "|202202               |\n",
      "|202204               |\n",
      "|202212               |\n",
      "|202205               |\n",
      "|202210               |\n",
      "|202203               |\n",
      "|202209               |\n",
      "|202202               |\n",
      "|202203               |\n",
      "|202209               |\n",
      "|202210               |\n",
      "|202206               |\n",
      "|202202               |\n",
      "|202201               |\n",
      "|202203               |\n",
      "|202211               |\n",
      "|202207               |\n",
      "|202204               |\n",
      "|202206               |\n",
      "|202203               |\n",
      "|202205               |\n",
      "|202205               |\n",
      "|202204               |\n",
      "|202204               |\n",
      "|202209               |\n",
      "|202211               |\n",
      "|202209               |\n",
      "|202203               |\n",
      "|202211               |\n",
      "|202212               |\n",
      "|202202               |\n",
      "|202210               |\n",
      "|202210               |\n",
      "|202210               |\n",
      "|202203               |\n",
      "|202212               |\n",
      "|202208               |\n",
      "|202207               |\n",
      "|202205               |\n",
      "|202202               |\n",
      "|202207               |\n",
      "|202203               |\n",
      "|202202               |\n",
      "|202201               |\n",
      "|202210               |\n",
      "|202202               |\n",
      "|202212               |\n",
      "|202205               |\n",
      "|202212               |\n",
      "|202211               |\n",
      "|202202               |\n",
      "|202203               |\n",
      "|202205               |\n",
      "|202201               |\n",
      "|202212               |\n",
      "|202203               |\n",
      "|202210               |\n",
      "|202205               |\n",
      "|202211               |\n",
      "|202206               |\n",
      "|202211               |\n",
      "|202203               |\n",
      "|202202               |\n",
      "|202211               |\n",
      "|202201               |\n",
      "|202202               |\n",
      "|202204               |\n",
      "|202209               |\n",
      "|202201               |\n",
      "|202203               |\n",
      "|202211               |\n",
      "|202202               |\n",
      "|202211               |\n",
      "|202209               |\n",
      "|202205               |\n",
      "|202209               |\n",
      "|202212               |\n",
      "|202206               |\n",
      "|202211               |\n",
      "|202201               |\n",
      "|202209               |\n",
      "|202202               |\n",
      "|202209               |\n",
      "|202207               |\n",
      "|202212               |\n",
      "|202207               |\n",
      "|202209               |\n",
      "|202202               |\n",
      "|202212               |\n",
      "|202209               |\n",
      "|202212               |\n",
      "|202203               |\n",
      "|202211               |\n",
      "|202202               |\n",
      "|202205               |\n",
      "|202208               |\n",
      "|202201               |\n",
      "|202211               |\n",
      "|202209               |\n",
      "|202206               |\n",
      "+---------------------+\n",
      "only showing top 100 rows\n",
      "\n"
     ]
    }
   ],
   "source": [
    "# Selecciona la columna 'FechaRegistro' y muestra sus datos para comprobar como viene el formato fecha\n",
    "#df2.select('FechaNacimientoAAAAMM').show(100, truncate=False)"
   ]
  },
  {
   "cell_type": "code",
   "execution_count": null,
   "id": "ac230a89",
   "metadata": {},
   "outputs": [],
   "source": []
  },
  {
   "cell_type": "code",
   "execution_count": 24,
   "id": "38712436",
   "metadata": {},
   "outputs": [
    {
     "name": "stderr",
     "output_type": "stream",
     "text": [
      "\r",
      "[Stage 70:>                                                         (0 + 1) / 1]\r"
     ]
    },
    {
     "name": "stdout",
     "output_type": "stream",
     "text": [
      "+----+---+---------+---------------------------+----------------------+------------------+--------------------+\n",
      "| Año|Mes|     Sexo|EdadMadreMomentoDiagnostico|RegimenAfiliacionSGSSS|Número_de_Personas|Número_de_Atenciones|\n",
      "+----+---+---------+---------------------------+----------------------+------------------+--------------------+\n",
      "|2022|  1| FEMENINO|                         15|      C - CONTRIBUTIVO|                 2|                   2|\n",
      "|2022|  8|MASCULINO|                         26|        S - SUBSIDIADO|                33|                  33|\n",
      "|2022|  5|MASCULINO|                         28|      C - CONTRIBUTIVO|                19|                  19|\n",
      "|2022| 10|MASCULINO|                         39|        S - SUBSIDIADO|                 9|                   9|\n",
      "|2022|  1| FEMENINO|                         18|      C - CONTRIBUTIVO|                 9|                   9|\n",
      "|2022|  5|MASCULINO|                         33|         E - EXCEPCION|                 1|                   1|\n",
      "|2022|  2|MASCULINO|                         39|         E - EXCEPCION|                 1|                   1|\n",
      "|2022|  3|MASCULINO|                         31|        S - SUBSIDIADO|                18|                  18|\n",
      "|2022|  1|MASCULINO|                         27|        S - SUBSIDIADO|                28|                  28|\n",
      "|2022| 10|MASCULINO|                         31|        S - SUBSIDIADO|                13|                  13|\n",
      "|2022|  2|MASCULINO|                         11|        S - SUBSIDIADO|                 1|                   1|\n",
      "|2022| 10| FEMENINO|                         27|      C - CONTRIBUTIVO|                27|                  27|\n",
      "|2022|  8| FEMENINO|                         26|        S - SUBSIDIADO|                28|                  28|\n",
      "|2022|  4|MASCULINO|                         39|      C - CONTRIBUTIVO|                10|                  10|\n",
      "|2022| 12|MASCULINO|                         30|         E - EXCEPCION|                 1|                   1|\n",
      "|2022|  7| FEMENINO|                         28|        S - SUBSIDIADO|                26|                  26|\n",
      "|2022|  1| FEMENINO|                         28|      C - CONTRIBUTIVO|                22|                  22|\n",
      "|2022|  9|MASCULINO|                         19|        S - SUBSIDIADO|                33|                  33|\n",
      "|2022| 12|MASCULINO|                         17|        S - SUBSIDIADO|                36|                  36|\n",
      "|2022|  7|MASCULINO|                         26|      C - CONTRIBUTIVO|                31|                  31|\n",
      "|2022|  2|MASCULINO|                         21|        S - SUBSIDIADO|                29|                  29|\n",
      "|2022| 12|MASCULINO|                         21|      C - CONTRIBUTIVO|                14|                  14|\n",
      "|2022|  2|MASCULINO|                         35|        S - SUBSIDIADO|                12|                  12|\n",
      "|2022|  6|MASCULINO|                         34|      C - CONTRIBUTIVO|                23|                  23|\n",
      "|2022|  8| FEMENINO|                         25|        S - SUBSIDIADO|                33|                  33|\n",
      "|2022|  9|MASCULINO|                         24|      C - CONTRIBUTIVO|                13|                  13|\n",
      "|2022|  1| FEMENINO|                         38|      C - CONTRIBUTIVO|                10|                  10|\n",
      "|2022| 10|MASCULINO|                         29|      C - CONTRIBUTIVO|                24|                  24|\n",
      "|2022|  1| FEMENINO|                         17|        S - SUBSIDIADO|                20|                  20|\n",
      "|2022| 12| FEMENINO|                         29|     NR - NO REPORTADO|                 1|                   1|\n",
      "|2022|  8|MASCULINO|                         35|      C - CONTRIBUTIVO|                17|                  17|\n",
      "|2022|  4| FEMENINO|                         31|      C - CONTRIBUTIVO|                23|                  23|\n",
      "|2022|  1| FEMENINO|                         27|     NR - NO REPORTADO|                 1|                   1|\n",
      "|2022| 12| FEMENINO|                         26|        S - SUBSIDIADO|                25|                  25|\n",
      "|2022| 11|MASCULINO|                         29|      C - CONTRIBUTIVO|                26|                  26|\n",
      "|2022|  7|MASCULINO|                         38|      C - CONTRIBUTIVO|                13|                  13|\n",
      "|2022|  7|MASCULINO|                         30|      C - CONTRIBUTIVO|                28|                  28|\n",
      "|2022|  6|MASCULINO|                         15|        S - SUBSIDIADO|                13|                  13|\n",
      "|2022| 11| FEMENINO|                         34|      C - CONTRIBUTIVO|                16|                  16|\n",
      "|2022|  9| FEMENINO|                         38|      C - CONTRIBUTIVO|                 7|                   7|\n",
      "|2022|  6|MASCULINO|                         44|      C - CONTRIBUTIVO|                 4|                   4|\n",
      "|2022|  7|MASCULINO|                         16|      C - CONTRIBUTIVO|                 3|                   3|\n",
      "|2022|  2|MASCULINO|                         25|        S - SUBSIDIADO|                27|                  28|\n",
      "|2022|  9| FEMENINO|                         25|      C - CONTRIBUTIVO|                13|                  13|\n",
      "|2022| 11|MASCULINO|                         33|         E - EXCEPCION|                 1|                   1|\n",
      "|2022| 12| FEMENINO|                         29|      C - CONTRIBUTIVO|                21|                  21|\n",
      "|2022|  9| FEMENINO|                         27|         E - EXCEPCION|                 1|                   1|\n",
      "|2022|  3| FEMENINO|                         38|        S - SUBSIDIADO|                 8|                   8|\n",
      "|2022| 10| FEMENINO|                         25|        S - SUBSIDIADO|                36|                  36|\n",
      "|2022|  3|MASCULINO|                         23|         E - EXCEPCION|                 2|                   2|\n",
      "|2022|  4|MASCULINO|                         20|         E - EXCEPCION|                 1|                   1|\n",
      "|2022|  3| FEMENINO|                         40|      C - CONTRIBUTIVO|                 6|                   6|\n",
      "|2022| 11| FEMENINO|                         16|      C - CONTRIBUTIVO|                 4|                   4|\n",
      "|2022|  1|MASCULINO|                         14|        S - SUBSIDIADO|                 7|                   7|\n",
      "|2022|  7|MASCULINO|                         32|      C - CONTRIBUTIVO|                21|                  21|\n",
      "|2022|  8|MASCULINO|                         36|      C - CONTRIBUTIVO|                16|                  16|\n",
      "|2022|  7|MASCULINO|                         34|      C - CONTRIBUTIVO|                17|                  17|\n",
      "|2022|  5| FEMENINO|                         40|        S - SUBSIDIADO|                 5|                   5|\n",
      "|2022| 10|MASCULINO|                         20|        S - SUBSIDIADO|                46|                  46|\n",
      "|2022| 11|MASCULINO|                         40|      C - CONTRIBUTIVO|                 6|                   6|\n",
      "|2022|  3|MASCULINO|                         20|     NR - NO REPORTADO|                 1|                   1|\n",
      "|2022|  3|MASCULINO|                         30|        S - SUBSIDIADO|                12|                  12|\n",
      "|2022|  4|MASCULINO|                         21|      C - CONTRIBUTIVO|                14|                  14|\n",
      "|2022|  1|MASCULINO|                         24|      C - CONTRIBUTIVO|                17|                  17|\n",
      "|2022|  3| FEMENINO|                         36|        S - SUBSIDIADO|                10|                  10|\n",
      "|2022|  5|MASCULINO|                         44|        S - SUBSIDIADO|                 1|                   1|\n",
      "|2022| 12| FEMENINO|                         30|      C - CONTRIBUTIVO|                26|                  26|\n",
      "|2022|  9| FEMENINO|                         28|         E - EXCEPCION|                 2|                   2|\n",
      "|2022| 11|MASCULINO|                         16|        S - SUBSIDIADO|                18|                  18|\n",
      "|2022|  9|MASCULINO|                         16|      C - CONTRIBUTIVO|                 3|                   3|\n",
      "|2022|  8|MASCULINO|                         15|        S - SUBSIDIADO|                10|                  10|\n",
      "|2022|  3| FEMENINO|                         14|        S - SUBSIDIADO|                 2|                   2|\n",
      "|2022|  6|MASCULINO|                         24|        S - SUBSIDIADO|                29|                  29|\n",
      "|2022| 10|MASCULINO|                         16|        S - SUBSIDIADO|                21|                  21|\n",
      "|2022|  8| FEMENINO|                         33|      C - CONTRIBUTIVO|                17|                  17|\n",
      "|2022|  6| FEMENINO|                         29|         E - EXCEPCION|                 1|                   1|\n",
      "|2022|  6| FEMENINO|                         23|      C - CONTRIBUTIVO|                21|                  21|\n",
      "|2022|  6|MASCULINO|                         28|         E - EXCEPCION|                 1|                   1|\n",
      "|2022|  4|MASCULINO|                         21|         E - EXCEPCION|                 2|                   2|\n",
      "|2022|  3| FEMENINO|                         39|        S - SUBSIDIADO|                 6|                   6|\n",
      "|2022|  3|MASCULINO|                         33|        S - SUBSIDIADO|                18|                  18|\n",
      "|2022|  6| FEMENINO|                         32|        S - SUBSIDIADO|                16|                  16|\n",
      "|2022|  2|MASCULINO|                         24|      C - CONTRIBUTIVO|                16|                  16|\n",
      "|2022| 11| FEMENINO|                         25|      C - CONTRIBUTIVO|                28|                  28|\n",
      "|2022|  1|MASCULINO|                         38|      C - CONTRIBUTIVO|                 9|                   9|\n",
      "|2022|  7|MASCULINO|                         37|      C - CONTRIBUTIVO|                10|                  10|\n",
      "|2022| 11| FEMENINO|                         31|         E - EXCEPCION|                 1|                   1|\n",
      "|2022| 11| FEMENINO|                         32|        S - SUBSIDIADO|                21|                  21|\n",
      "|2022| 10|MASCULINO|                         23|        S - SUBSIDIADO|                43|                  43|\n",
      "|2022|  3| FEMENINO|                         15|        S - SUBSIDIADO|                10|                  10|\n",
      "|2022|  6|MASCULINO|                         22|      C - CONTRIBUTIVO|                22|                  22|\n",
      "|2022|  3|MASCULINO|                         43|      C - CONTRIBUTIVO|                 4|                   4|\n",
      "|2022|  3| FEMENINO|                         33|         E - EXCEPCION|                 2|                   2|\n",
      "|2022|  9|MASCULINO|                         26|      C - CONTRIBUTIVO|                22|                  22|\n",
      "|2022|  3|MASCULINO|                         33|     NR - NO REPORTADO|                 2|                   2|\n",
      "|2022| 12|MASCULINO|                         22|        S - SUBSIDIADO|                40|                  40|\n",
      "|2022|  2|MASCULINO|                         20|         E - EXCEPCION|                 1|                   1|\n",
      "|2022|  5|MASCULINO|                         18|        S - SUBSIDIADO|                25|                  25|\n",
      "|2022|  1| FEMENINO|                         21|      C - CONTRIBUTIVO|                15|                  15|\n",
      "|2022|  4| FEMENINO|                         29|      C - CONTRIBUTIVO|                18|                  18|\n",
      "+----+---+---------+---------------------------+----------------------+------------------+--------------------+\n",
      "only showing top 100 rows\n",
      "\n",
      "Nombres de las columnas agrupadas:\n",
      "['Año', 'Mes', 'Sexo', 'EdadMadreMomentoDiagnostico', 'RegimenAfiliacionSGSSS', 'Número_de_Personas', 'Número_de_Atenciones']\n"
     ]
    },
    {
     "name": "stderr",
     "output_type": "stream",
     "text": [
      "\r",
      "                                                                                \r"
     ]
    }
   ],
   "source": [
    "from pyspark.sql import functions as F\n",
    "\n",
    "# Seleccionar solo las columnas deseadas\n",
    "columns_to_keep = [\n",
    "    'PersonaID', 'FechaNacimientoAAAAMM', 'RegimenAfiliacionSGSSS', 'Sexo','EdadMadreMomentoDiagnostico', 'personaid_count'\n",
    "]\n",
    "df_filtered = df2.select(*columns_to_keep)\n",
    "\n",
    "# Convertir 'FechaNacimientoAAAAMM' a año y mes correctamente\n",
    "df_filtered = df_filtered.withColumn(\n",
    "    'Año', F.substring(F.col('FechaNacimientoAAAAMM'), 1, 4).cast('int')\n",
    ").withColumn(\n",
    "    'Mes', F.substring(F.col('FechaNacimientoAAAAMM'), 5, 2).cast('int')\n",
    ")\n",
    "\n",
    "# Filtrar valores atípicos y nulos\n",
    "df_filtered = df_filtered.filter(\n",
    "    (F.col('Año').isNotNull()) & (F.col('Mes').isNotNull()) & (F.col('Año') > 1900)\n",
    ")\n",
    "\n",
    "# Agrupar por Año, Mes, Sexo, EdadMadreMomentoDiagnostico, y RegimenAfiliacionSGSSS\n",
    "result_df = df_filtered.groupBy('Año', 'Mes', 'Sexo','EdadMadreMomentoDiagnostico', 'RegimenAfiliacionSGSSS').agg(\n",
    "    F.countDistinct('PersonaID').alias('Número_de_Personas'),\n",
    "    F.sum('personaid_count').alias('Número_de_Atenciones')\n",
    ")\n",
    "\n",
    "# Mostrar los resultados\n",
    "result_df.show(100)\n",
    "\n",
    "# Imprimir los nombres de las columnas agrupadas para verificar\n",
    "print(\"Nombres de las columnas agrupadas:\")\n",
    "print(result_df.columns)"
   ]
  },
  {
   "cell_type": "markdown",
   "id": "67819215",
   "metadata": {},
   "source": [
    "Corresponde exactamente con los registros de powerBI\n",
    "\n",
    "Año\tMes\tSexo\tEdadMadreMomentoDiagnostico\tRegimenAfiliacionSGSSS\t# personas\t# atenciones\n",
    "2022\tenero\tFEMENINO\t15\tC - CONTRIBUTIVO\t2\t2\n",
    "\n",
    "Año\tMes\tSexo\tEdadMadreMomentoDiagnostico\tRegimenAfiliacionSGSSS\t# personas\t# atenciones\n",
    "2022\tenero\tFEMENINO\t27\tS - SUBSIDIADO\t27\t27"
   ]
  },
  {
   "cell_type": "markdown",
   "id": "e3c823ae",
   "metadata": {},
   "source": [
    "# B. Validación de tablas VITALES defunciones"
   ]
  },
  {
   "cell_type": "code",
   "execution_count": 25,
   "id": "91e26ad2",
   "metadata": {},
   "outputs": [
    {
     "name": "stderr",
     "output_type": "stream",
     "text": [
      "                                                                                \r"
     ]
    }
   ],
   "source": [
    "# Leer los archivos Parquet de un año \n",
    "df1_parquet = spark.read.parquet(\"/rawdata/vitales/defunciones/defunciones_parquet_2008_a_2016/part.0.parquet\")\n",
    "\n",
    "df=df1_parquet\n"
   ]
  },
  {
   "cell_type": "code",
   "execution_count": 26,
   "id": "068751e4",
   "metadata": {},
   "outputs": [
    {
     "name": "stdout",
     "output_type": "stream",
     "text": [
      "Total de registros en el DataFrame unido: 78647\n",
      "Columnas del DataFrame unido: ['PersonaID', 'Sexo', 'RegimenAfiliacionSGSSS', 'Administradora', 'CodigoPertenenciaEtnica', 'municipioResidencia', 'SemanasGestacion', 'EdadMadreMomentoDiagnostico', 'FechaDefuncionAAAAMM', 'IpsDondeRealizaParto', 'Peso', 'AnoID']\n"
     ]
    }
   ],
   "source": [
    "# Contar el número de registros en el DataFrame unido\n",
    "total_registros = df.count()\n",
    "\n",
    "# Listar las columnas del DataFrame unido\n",
    "columnas = df.columns\n",
    "\n",
    "# Mostrar resultados\n",
    "print(f\"Total de registros en el DataFrame unido: {total_registros}\")\n",
    "print(f\"Columnas del DataFrame unido: {columnas}\")"
   ]
  },
  {
   "cell_type": "code",
   "execution_count": 27,
   "id": "32a4f503",
   "metadata": {},
   "outputs": [
    {
     "name": "stdout",
     "output_type": "stream",
     "text": [
      "El número de registros en el archivo Parquet es: 78647\n"
     ]
    }
   ],
   "source": [
    "# Contar el número de registros - me da satisfactoriamente la cantidad de regIstros del año 2022 (128.343)\n",
    "record_count = df.count()\n",
    "\n",
    "# Mostrar el número de registros\n",
    "print(f\"El número de registros en el archivo Parquet es: {record_count}\")"
   ]
  },
  {
   "cell_type": "code",
   "execution_count": 28,
   "id": "b29f06b1",
   "metadata": {},
   "outputs": [
    {
     "name": "stdout",
     "output_type": "stream",
     "text": [
      "root\n",
      " |-- PersonaID: string (nullable = true)\n",
      " |-- Sexo: string (nullable = true)\n",
      " |-- RegimenAfiliacionSGSSS: string (nullable = true)\n",
      " |-- Administradora: string (nullable = true)\n",
      " |-- CodigoPertenenciaEtnica: string (nullable = true)\n",
      " |-- municipioResidencia: string (nullable = true)\n",
      " |-- SemanasGestacion: string (nullable = true)\n",
      " |-- EdadMadreMomentoDiagnostico: string (nullable = true)\n",
      " |-- FechaDefuncionAAAAMM: string (nullable = true)\n",
      " |-- IpsDondeRealizaParto: string (nullable = true)\n",
      " |-- Peso: string (nullable = true)\n",
      " |-- AnoID: string (nullable = true)\n",
      "\n",
      "['PersonaID', 'Sexo', 'RegimenAfiliacionSGSSS', 'Administradora', 'CodigoPertenenciaEtnica', 'municipioResidencia', 'SemanasGestacion', 'EdadMadreMomentoDiagnostico', 'FechaDefuncionAAAAMM', 'IpsDondeRealizaParto', 'Peso', 'AnoID']\n"
     ]
    }
   ],
   "source": [
    "# Mostrar el esquema (columnas y tipos de datos)\n",
    "df.printSchema()\n",
    "\n",
    "# Listar las columnas\n",
    "print(df.columns)"
   ]
  },
  {
   "cell_type": "markdown",
   "id": "8fcd8e3c",
   "metadata": {},
   "source": [
    "# Empieza el proceso de generación de los datos agrupados por atenciones para defunciones"
   ]
  },
  {
   "cell_type": "code",
   "execution_count": 29,
   "id": "2377f915",
   "metadata": {},
   "outputs": [
    {
     "name": "stdout",
     "output_type": "stream",
     "text": [
      "+---------+--------------------+----------------------+-------------+---------------------------+---------------+\n",
      "|PersonaID|FechaDefuncionAAAAMM|RegimenAfiliacionSGSSS|         Sexo|EdadMadreMomentoDiagnostico|personaid_count|\n",
      "+---------+--------------------+----------------------+-------------+---------------------------+---------------+\n",
      "|        1|              200801|      C - CONTRIBUTIVO|     FEMENINO|                         30|          54558|\n",
      "|        1|              200903|        S - SUBSIDIADO|INDETERMINADO|                        198|          54558|\n",
      "|        1|              200905|      C - CONTRIBUTIVO|     FEMENINO|                         68|          54558|\n",
      "|        1|              201310|        S - SUBSIDIADO|    MASCULINO|                         78|          54558|\n",
      "|        1|              201306|      C - CONTRIBUTIVO|    MASCULINO|                         85|          54558|\n",
      "|        1|              201312|        S - SUBSIDIADO|INDETERMINADO|                        198|          54558|\n",
      "|        1|              201302|     NR - NO REPORTADO|    MASCULINO|                         62|          54558|\n",
      "|        1|              201003|        S - SUBSIDIADO|    MASCULINO|                         72|          54558|\n",
      "|        1|                  62|      C - CONTRIBUTIVO|    MASCULINO|                          9|          54558|\n",
      "|        1|              201011|      C - CONTRIBUTIVO|    MASCULINO|                         73|          54558|\n",
      "|        1|                  58|     NR - NO REPORTADO|    MASCULINO|                          9|          54558|\n",
      "|        1|              201403|     NR - NO REPORTADO|    MASCULINO|                         23|          54558|\n",
      "|        1|              200904|        S - SUBSIDIADO|     FEMENINO|                         81|          54558|\n",
      "|        1|              201103|      C - CONTRIBUTIVO|    MASCULINO|                         49|          54558|\n",
      "|        1|              201410|      C - CONTRIBUTIVO|INDETERMINADO|                        198|          54558|\n",
      "|        1|              201207|      C - CONTRIBUTIVO|     FEMENINO|                         82|          54558|\n",
      "|        1|              201008|     NR - NO REPORTADO|    MASCULINO|                         40|          54558|\n",
      "|        1|              200810|      C - CONTRIBUTIVO|     FEMENINO|                         98|          54558|\n",
      "|        1|              201511|        S - SUBSIDIADO|INDETERMINADO|                        198|          54558|\n",
      "|        1|              201101|     NR - NO REPORTADO|    MASCULINO|                         67|          54558|\n",
      "+---------+--------------------+----------------------+-------------+---------------------------+---------------+\n",
      "only showing top 20 rows\n",
      "\n",
      "Nombres de las columnas filtradas:\n",
      "['PersonaID', 'FechaDefuncionAAAAMM', 'RegimenAfiliacionSGSSS', 'Sexo', 'EdadMadreMomentoDiagnostico', 'personaid_count']\n",
      "+---------+--------------------+----------------------+---------+---------------------------+---------------+\n",
      "|PersonaID|FechaDefuncionAAAAMM|RegimenAfiliacionSGSSS|     Sexo|EdadMadreMomentoDiagnostico|personaid_count|\n",
      "+---------+--------------------+----------------------+---------+---------------------------+---------------+\n",
      "|        1|              200801|      C - CONTRIBUTIVO| FEMENINO|                         30|          54558|\n",
      "| 10000041|              201610|      C - CONTRIBUTIVO|MASCULINO|                         81|              1|\n",
      "| 10000337|              201408|      C - CONTRIBUTIVO| FEMENINO|                         67|              1|\n",
      "|100023165|              201604|        S - SUBSIDIADO| FEMENINO|                         23|              1|\n",
      "|100024318|              201509|      C - CONTRIBUTIVO| FEMENINO|                          3|              1|\n",
      "| 10003459|                  82|      C - CONTRIBUTIVO|MASCULINO|                          9|              1|\n",
      "|100035367|              201409|      C - CONTRIBUTIVO|MASCULINO|                         10|              1|\n",
      "| 10003729|              201612|        S - SUBSIDIADO| FEMENINO|                         68|              1|\n",
      "|100054445|              201601|        S - SUBSIDIADO|MASCULINO|                          3|              1|\n",
      "| 10005746|              201606|        S - SUBSIDIADO|MASCULINO|                         46|              1|\n",
      "|100059932|              201408|        S - SUBSIDIADO| FEMENINO|                          2|              1|\n",
      "| 10006096|              201612|      C - CONTRIBUTIVO| FEMENINO|                         90|              1|\n",
      "| 10007334|                  52|        S - SUBSIDIADO|MASCULINO|                          9|              1|\n",
      "| 10008432|                  54|      C - CONTRIBUTIVO|MASCULINO|                          9|              1|\n",
      "| 10009383|              201405|        S - SUBSIDIADO| FEMENINO|                         79|              1|\n",
      "|100140683|              201505|     NR - NO REPORTADO|MASCULINO|                         21|              1|\n",
      "| 10014701|              201511|      C - CONTRIBUTIVO|MASCULINO|                         26|              1|\n",
      "| 10014985|              201403|        S - SUBSIDIADO|MASCULINO|                         44|              1|\n",
      "|100151252|              201401|        S - SUBSIDIADO|MASCULINO|                         21|              1|\n",
      "|100151469|              201502|        S - SUBSIDIADO| FEMENINO|                         10|              1|\n",
      "+---------+--------------------+----------------------+---------+---------------------------+---------------+\n",
      "only showing top 20 rows\n",
      "\n"
     ]
    },
    {
     "name": "stderr",
     "output_type": "stream",
     "text": [
      "\r",
      "[Stage 86:>                                                         (0 + 1) / 1]\r",
      "\r",
      "                                                                                \r"
     ]
    }
   ],
   "source": [
    "from pyspark.sql import SparkSession\n",
    "from pyspark.sql import functions as F\n",
    "from pyspark.sql.window import Window\n",
    "\n",
    "# Crear una sesión de Spark\n",
    "#spark = SparkSession.builder.appName(\"DataFrame Example\").getOrCreate()\n",
    "\n",
    "\n",
    "# Cargar el archivo Parquet en un DataFrame\n",
    "#df = df1\n",
    "\n",
    "# Seleccionar solo las columnas deseadas (sin 'personaid_count' ya que no existe aún)\n",
    "columns_to_keep = [\n",
    "    'PersonaID','FechaDefuncionAAAAMM', 'RegimenAfiliacionSGSSS', 'Sexo','EdadMadreMomentoDiagnostico'\n",
    "    \n",
    "]\n",
    "df_filtered = df.select(*columns_to_keep)\n",
    "\n",
    "# Agregar una nueva columna con el recuento distintivo de 'personaid'\n",
    "window_spec = Window.partitionBy('PersonaID')\n",
    "df_filtered = df_filtered.withColumn('personaid_count', F.count('PersonaID').over(window_spec))\n",
    "\n",
    "# Mostrar las primeras filas del DataFrame filtrado para verificar\n",
    "df_filtered.show()\n",
    "\n",
    "# Mostrar los nombres de las columnas filtradas para verificar\n",
    "print(\"Nombres de las columnas filtradas:\")\n",
    "print(df_filtered.columns)\n",
    "\n",
    "# Agrupar por la columna 'PersonaBasicaID'\n",
    "grouped_df = df_filtered.groupBy('PersonaID').agg(\n",
    "    F.first('FechaDefuncionAAAAMM').alias('FechaDefuncionAAAAMM'),\n",
    "    F.first('RegimenAfiliacionSGSSS').alias('RegimenAfiliacionSGSSS'),\n",
    "    F.first('Sexo').alias('Sexo'),\n",
    "     F.first('EdadMadreMomentoDiagnostico').alias('EdadMadreMomentoDiagnostico'),\n",
    "   \n",
    "    \n",
    "    F.first('personaid_count').alias('personaid_count')\n",
    ")\n",
    "# Mostrar las primeras filas del DataFrame agrupado para verificar\n",
    "grouped_df.show()\n"
   ]
  },
  {
   "cell_type": "code",
   "execution_count": 35,
   "id": "8d298084",
   "metadata": {},
   "outputs": [
    {
     "name": "stdout",
     "output_type": "stream",
     "text": [
      "El número de registros en el archivo Parquet es: 24090\n"
     ]
    }
   ],
   "source": [
    "# Contar el número de registros - me da satisfactoriamente la cantidad de registros en cada año ( 97.416)\n",
    "record_count = grouped_df.count()\n",
    "\n",
    "# Mostrar el número de registros\n",
    "print(f\"El número de registros en el archivo Parquet es: {record_count}\")"
   ]
  },
  {
   "cell_type": "code",
   "execution_count": 36,
   "id": "fda1fe65",
   "metadata": {},
   "outputs": [],
   "source": [
    " df_final =grouped_df"
   ]
  },
  {
   "cell_type": "code",
   "execution_count": 37,
   "id": "81198905",
   "metadata": {},
   "outputs": [
    {
     "name": "stdout",
     "output_type": "stream",
     "text": [
      "El número de registros en el archivo Parquet es: 24090\n"
     ]
    }
   ],
   "source": [
    "# Contar el número de registros - me da satisfactoriamente la cantidad de regustros en cada año \n",
    "record_count = df_final.count()\n",
    "\n",
    "# Mostrar el número de registros\n",
    "print(f\"El número de registros en el archivo Parquet es: {record_count}\")"
   ]
  },
  {
   "cell_type": "code",
   "execution_count": 38,
   "id": "137c07df",
   "metadata": {},
   "outputs": [
    {
     "name": "stderr",
     "output_type": "stream",
     "text": [
      "\r",
      "[Stage 99:>                                                         (0 + 1) / 1]\r"
     ]
    },
    {
     "name": "stdout",
     "output_type": "stream",
     "text": [
      "+---------+--------------------+----------------------+---------+---------------------------+---------------+\n",
      "|PersonaID|FechaDefuncionAAAAMM|RegimenAfiliacionSGSSS|     Sexo|EdadMadreMomentoDiagnostico|personaid_count|\n",
      "+---------+--------------------+----------------------+---------+---------------------------+---------------+\n",
      "|        1|              200801|      C - CONTRIBUTIVO| FEMENINO|                         30|          54558|\n",
      "| 10000041|              201610|      C - CONTRIBUTIVO|MASCULINO|                         81|              1|\n",
      "| 10000337|              201408|      C - CONTRIBUTIVO| FEMENINO|                         67|              1|\n",
      "|100023165|              201604|        S - SUBSIDIADO| FEMENINO|                         23|              1|\n",
      "|100024318|              201509|      C - CONTRIBUTIVO| FEMENINO|                          3|              1|\n",
      "| 10003459|                  82|      C - CONTRIBUTIVO|MASCULINO|                          9|              1|\n",
      "|100035367|              201409|      C - CONTRIBUTIVO|MASCULINO|                         10|              1|\n",
      "| 10003729|              201612|        S - SUBSIDIADO| FEMENINO|                         68|              1|\n",
      "|100054445|              201601|        S - SUBSIDIADO|MASCULINO|                          3|              1|\n",
      "| 10005746|              201606|        S - SUBSIDIADO|MASCULINO|                         46|              1|\n",
      "|100059932|              201408|        S - SUBSIDIADO| FEMENINO|                          2|              1|\n",
      "| 10006096|              201612|      C - CONTRIBUTIVO| FEMENINO|                         90|              1|\n",
      "| 10007334|                  52|        S - SUBSIDIADO|MASCULINO|                          9|              1|\n",
      "| 10008432|                  54|      C - CONTRIBUTIVO|MASCULINO|                          9|              1|\n",
      "| 10009383|              201405|        S - SUBSIDIADO| FEMENINO|                         79|              1|\n",
      "|100140683|              201505|     NR - NO REPORTADO|MASCULINO|                         21|              1|\n",
      "| 10014701|              201511|      C - CONTRIBUTIVO|MASCULINO|                         26|              1|\n",
      "| 10014985|              201403|        S - SUBSIDIADO|MASCULINO|                         44|              1|\n",
      "|100151252|              201401|        S - SUBSIDIADO|MASCULINO|                         21|              1|\n",
      "|100151469|              201502|        S - SUBSIDIADO| FEMENINO|                         10|              1|\n",
      "+---------+--------------------+----------------------+---------+---------------------------+---------------+\n",
      "only showing top 20 rows\n",
      "\n"
     ]
    },
    {
     "name": "stderr",
     "output_type": "stream",
     "text": [
      "\r",
      "[Stage 101:>                                                        (0 + 1) / 1]\r",
      "\r",
      "                                                                                \r"
     ]
    }
   ],
   "source": [
    "# Mostrar las primeras filas del DataFrame agrupado para verificar\n",
    "df_final.show()"
   ]
  },
  {
   "cell_type": "markdown",
   "id": "256b1fd2",
   "metadata": {},
   "source": [
    "En este caso la fuente de datos es practicamente la misma, solo cambia la variable fecha"
   ]
  },
  {
   "cell_type": "markdown",
   "id": "91886959",
   "metadata": {},
   "source": [
    "# 1.   Año, Mes, Sexo, EdadMadreMomentoDiagnostico, y RegimenAfiliacionSGSSS"
   ]
  },
  {
   "cell_type": "code",
   "execution_count": 39,
   "id": "28236e11",
   "metadata": {},
   "outputs": [],
   "source": [
    "# Cargar el archivo Parquet en un DataFrame ( uno distinto por si deseo comparar)\n",
    "df2 = df_final"
   ]
  },
  {
   "cell_type": "code",
   "execution_count": 40,
   "id": "ee40d136",
   "metadata": {},
   "outputs": [
    {
     "name": "stderr",
     "output_type": "stream",
     "text": [
      "\r",
      "[Stage 104:>                                                        (0 + 1) / 1]\r"
     ]
    },
    {
     "name": "stdout",
     "output_type": "stream",
     "text": [
      "+----+---+---------+---------------------------+----------------------+------------------+--------------------+\n",
      "| Año|Mes|     Sexo|EdadMadreMomentoDiagnostico|RegimenAfiliacionSGSSS|Número_de_Personas|Número_de_Atenciones|\n",
      "+----+---+---------+---------------------------+----------------------+------------------+--------------------+\n",
      "|2015| 10| FEMENINO|                         48|        S - SUBSIDIADO|                 1|                   1|\n",
      "|2014|  7|MASCULINO|                         83|        S - SUBSIDIADO|                 3|                   3|\n",
      "|2016|  9|MASCULINO|                         56|     NR - NO REPORTADO|                 2|                   2|\n",
      "|2014|  6|MASCULINO|                         64|        S - SUBSIDIADO|                 2|                   2|\n",
      "|2014| 10| FEMENINO|                         37|        S - SUBSIDIADO|                 1|                   1|\n",
      "|2015| 11| FEMENINO|                         65|      C - CONTRIBUTIVO|                 2|                   2|\n",
      "|2014|  5|MASCULINO|                         60|      C - CONTRIBUTIVO|                 1|                   1|\n",
      "|2015|  8|MASCULINO|                         67|          P - ESPECIAL|                 1|                   1|\n",
      "|2016| 12|MASCULINO|                         92|      C - CONTRIBUTIVO|                 3|                   3|\n",
      "|2016|  8|MASCULINO|                         65|        S - SUBSIDIADO|                 5|                   5|\n",
      "|2014|  8| FEMENINO|                         62|      C - CONTRIBUTIVO|                 1|                   1|\n",
      "|2014|  1| FEMENINO|                         47|      C - CONTRIBUTIVO|                 1|                   1|\n",
      "|2015|  4| FEMENINO|                         64|         E - EXCEPCION|                 1|                   1|\n",
      "|2015|  4|MASCULINO|                         90|        S - SUBSIDIADO|                 3|                   3|\n",
      "|2016|  8|MASCULINO|                         93|         E - EXCEPCION|                 1|                   1|\n",
      "|2015|  1|MASCULINO|                         86|      C - CONTRIBUTIVO|                 4|                   4|\n",
      "|2016|  1|MASCULINO|                         92|      C - CONTRIBUTIVO|                 2|                   2|\n",
      "|2015|  4|MASCULINO|                         16|        S - SUBSIDIADO|                 1|                   1|\n",
      "|2016|  8|MASCULINO|                         64|        S - SUBSIDIADO|                 2|                   2|\n",
      "|2016|  9|MASCULINO|                         96|      C - CONTRIBUTIVO|                 3|                   3|\n",
      "|2016|  6| FEMENINO|                         88|        S - SUBSIDIADO|                 4|                   4|\n",
      "|2016|  9|MASCULINO|                         62|        S - SUBSIDIADO|                 3|                   3|\n",
      "|2014| 11|MASCULINO|                         33|        S - SUBSIDIADO|                 2|                   2|\n",
      "|2015|  3|MASCULINO|                         44|        S - SUBSIDIADO|                 3|                   3|\n",
      "|2015|  9|MASCULINO|                         32|      C - CONTRIBUTIVO|                 2|                   2|\n",
      "|2014|  3|MASCULINO|                         28|     NR - NO REPORTADO|                 1|                   1|\n",
      "|2015|  5|MASCULINO|                         63|        S - SUBSIDIADO|                 1|                   1|\n",
      "|2014|  6|MASCULINO|                         40|        S - SUBSIDIADO|                 1|                   1|\n",
      "|2014|  8| FEMENINO|                         72|     NR - NO REPORTADO|                 1|                   1|\n",
      "|2014|  9| FEMENINO|                         63|     NR - NO REPORTADO|                 1|                   1|\n",
      "|2016|  2| FEMENINO|                         95|        S - SUBSIDIADO|                 1|                   1|\n",
      "|2016| 12| FEMENINO|                         35|      C - CONTRIBUTIVO|                 1|                   1|\n",
      "|2015|  5|MASCULINO|                         78|         E - EXCEPCION|                 1|                   1|\n",
      "|2016|  7| FEMENINO|                         82|         E - EXCEPCION|                 1|                   1|\n",
      "|2014|  7|MASCULINO|                         18|     NR - NO REPORTADO|                 1|                   1|\n",
      "|2014|  1| FEMENINO|                         67|        S - SUBSIDIADO|                 1|                   1|\n",
      "|2014|  4|MASCULINO|                         14|        S - SUBSIDIADO|                 1|                   1|\n",
      "|2015| 11|MASCULINO|                         70|        S - SUBSIDIADO|                 6|                   6|\n",
      "|2015|  5| FEMENINO|                         64|      C - CONTRIBUTIVO|                 1|                   1|\n",
      "|2015|  1| FEMENINO|                         71|      C - CONTRIBUTIVO|                 3|                   3|\n",
      "|2015| 10| FEMENINO|                         45|        S - SUBSIDIADO|                 2|                   2|\n",
      "|2016|  4|MASCULINO|                         91|        S - SUBSIDIADO|                 3|                   3|\n",
      "|2016|  7|MASCULINO|                         95|      C - CONTRIBUTIVO|                 2|                   2|\n",
      "|2015|  1|MASCULINO|                         41|      C - CONTRIBUTIVO|                 2|                   2|\n",
      "|2014|  2|MASCULINO|                         70|        S - SUBSIDIADO|                 2|                   2|\n",
      "|2016|  2| FEMENINO|                         39|        S - SUBSIDIADO|                 1|                   1|\n",
      "|2016| 11|MASCULINO|                         42|     NR - NO REPORTADO|                 1|                   1|\n",
      "|2016|  2|MASCULINO|                         72|         E - EXCEPCION|                 1|                   1|\n",
      "|2016|  2| FEMENINO|                         38|        S - SUBSIDIADO|                 1|                   1|\n",
      "|2015|  4|MASCULINO|                         14|        S - SUBSIDIADO|                 1|                   1|\n",
      "|2015| 12| FEMENINO|                         84|          P - ESPECIAL|                 1|                   1|\n",
      "|2015|  8| FEMENINO|                       null|     NR - NO REPORTADO|                 1|                   1|\n",
      "|2016|  8| FEMENINO|                         22|        S - SUBSIDIADO|                 1|                   1|\n",
      "|2016|  1|MASCULINO|                         48|        S - SUBSIDIADO|                 1|                   1|\n",
      "|2014|  6|MASCULINO|                         67|      C - CONTRIBUTIVO|                 1|                   1|\n",
      "|2015|  3| FEMENINO|                         91|        S - SUBSIDIADO|                 5|                   5|\n",
      "|2014|  6|MASCULINO|                         34|        S - SUBSIDIADO|                 1|                   1|\n",
      "|2016|  4|MASCULINO|                         75|        S - SUBSIDIADO|                 4|                   4|\n",
      "|2016|  4| FEMENINO|                         94|        S - SUBSIDIADO|                 3|                   3|\n",
      "|2016| 11| FEMENINO|                         47|        S - SUBSIDIADO|                 1|                   1|\n",
      "|2015|  9|MASCULINO|                         35|        S - SUBSIDIADO|                 2|                   2|\n",
      "|2016| 10| FEMENINO|                         52|         E - EXCEPCION|                 1|                   1|\n",
      "|2014|  7|MASCULINO|                         79|      C - CONTRIBUTIVO|                 1|                   1|\n",
      "|2015| 12|MASCULINO|                         94|         E - EXCEPCION|                 1|                   1|\n",
      "|2016|  1| FEMENINO|                         95|        S - SUBSIDIADO|                 2|                   2|\n",
      "|2014|  9| FEMENINO|                         77|     NR - NO REPORTADO|                 1|                   1|\n",
      "|2015|  2| FEMENINO|                         50|        S - SUBSIDIADO|                 1|                   1|\n",
      "|2014|  9|MASCULINO|                        100|      C - CONTRIBUTIVO|                 1|                   1|\n",
      "|2014|  3| FEMENINO|                         58|      C - CONTRIBUTIVO|                 1|                   1|\n",
      "|2014| 11|MASCULINO|                         62|      C - CONTRIBUTIVO|                 1|                   1|\n",
      "|2014|  6|MASCULINO|                         10|        S - SUBSIDIADO|                 1|                   1|\n",
      "|2016| 10| FEMENINO|                         29|        S - SUBSIDIADO|                 1|                   1|\n",
      "|2014| 10|MASCULINO|                         26|      C - CONTRIBUTIVO|                 1|                   1|\n",
      "|2016| 10| FEMENINO|                         51|      C - CONTRIBUTIVO|                 1|                   1|\n",
      "|2015|  9| FEMENINO|                         61|      C - CONTRIBUTIVO|                 3|                   3|\n",
      "|2016| 12| FEMENINO|                         50|     NR - NO REPORTADO|                 1|                   1|\n",
      "|2014| 10|MASCULINO|                         30|      C - CONTRIBUTIVO|                 2|                   2|\n",
      "|2015|  9|MASCULINO|                         34|     NR - NO REPORTADO|                 1|                   1|\n",
      "|2014| 11| FEMENINO|                         77|      C - CONTRIBUTIVO|                 3|                   3|\n",
      "|2014|  1|MASCULINO|                         85|      C - CONTRIBUTIVO|                 2|                   2|\n",
      "|2016|  1| FEMENINO|                         94|        S - SUBSIDIADO|                 4|                   4|\n",
      "|2015|  5|MASCULINO|                         72|      C - CONTRIBUTIVO|                 3|                   3|\n",
      "|2015|  4|MASCULINO|                         78|      C - CONTRIBUTIVO|                 1|                   1|\n",
      "|2014|  2|MASCULINO|                         87|        S - SUBSIDIADO|                 2|                   2|\n",
      "|2015|  8|MASCULINO|                         74|         E - EXCEPCION|                 2|                   2|\n",
      "|2015|  5|MASCULINO|                         78|      C - CONTRIBUTIVO|                 2|                   2|\n",
      "|2014|  6| FEMENINO|                         32|      C - CONTRIBUTIVO|                 1|                   1|\n",
      "|2016|  6|MASCULINO|                         45|        S - SUBSIDIADO|                 2|                   2|\n",
      "|2015|  6| FEMENINO|                         56|        S - SUBSIDIADO|                 1|                   1|\n",
      "|2015|  1| FEMENINO|                         98|         E - EXCEPCION|                 1|                   1|\n",
      "|2016| 12|MASCULINO|                         28|         E - EXCEPCION|                 1|                   1|\n",
      "|2014|  7|MASCULINO|                       null|        S - SUBSIDIADO|                 3|                   3|\n",
      "|2014| 11| FEMENINO|                       null|        S - SUBSIDIADO|                 2|                   2|\n",
      "|2016|  2| FEMENINO|                       null|        S - SUBSIDIADO|                 3|                   3|\n",
      "|2014|  2|MASCULINO|                         89|        S - SUBSIDIADO|                 4|                   4|\n",
      "|2015| 10|MASCULINO|                         88|      C - CONTRIBUTIVO|                 2|                   2|\n",
      "|2016|  8| FEMENINO|                         85|      C - CONTRIBUTIVO|                 3|                   3|\n",
      "|2016| 12|MASCULINO|                         42|        S - SUBSIDIADO|                 2|                   2|\n",
      "|2015|  1|MASCULINO|                         45|      C - CONTRIBUTIVO|                 2|                   2|\n",
      "|2016| 12|MASCULINO|                         70|        S - SUBSIDIADO|                 3|                   3|\n",
      "+----+---+---------+---------------------------+----------------------+------------------+--------------------+\n",
      "only showing top 100 rows\n",
      "\n",
      "Nombres de las columnas agrupadas:\n",
      "['Año', 'Mes', 'Sexo', 'EdadMadreMomentoDiagnostico', 'RegimenAfiliacionSGSSS', 'Número_de_Personas', 'Número_de_Atenciones']\n"
     ]
    },
    {
     "name": "stderr",
     "output_type": "stream",
     "text": [
      "\r",
      "                                                                                \r"
     ]
    }
   ],
   "source": [
    "from pyspark.sql import functions as F\n",
    "\n",
    "# Seleccionar solo las columnas deseadas\n",
    "columns_to_keep = [\n",
    "    'PersonaID', 'FechaDefuncionAAAAMM', 'RegimenAfiliacionSGSSS', 'Sexo','EdadMadreMomentoDiagnostico', 'personaid_count'\n",
    "]\n",
    "df_filtered = df2.select(*columns_to_keep)\n",
    "\n",
    "# Convertir 'FechaNacimientoAAAAMM' a año y mes correctamente\n",
    "df_filtered = df_filtered.withColumn(\n",
    "    'Año', F.substring(F.col('FechaDefuncionAAAAMM'), 1, 4).cast('int')\n",
    ").withColumn(\n",
    "    'Mes', F.substring(F.col('FechaDefuncionAAAAMM'), 5, 2).cast('int')\n",
    ")\n",
    "\n",
    "# Filtrar valores atípicos y nulos\n",
    "df_filtered = df_filtered.filter(\n",
    "    (F.col('Año').isNotNull()) & (F.col('Mes').isNotNull()) & (F.col('Año') > 1900)\n",
    ")\n",
    "\n",
    "# Agrupar por Año, Mes, Sexo, EdadMadreMomentoDiagnostico, y RegimenAfiliacionSGSSS\n",
    "result_df = df_filtered.groupBy('Año', 'Mes', 'Sexo','EdadMadreMomentoDiagnostico', 'RegimenAfiliacionSGSSS').agg(\n",
    "    F.countDistinct('PersonaID').alias('Número_de_Personas'),\n",
    "    F.sum('personaid_count').alias('Número_de_Atenciones')\n",
    ")\n",
    "\n",
    "# Mostrar los resultados\n",
    "result_df.show(100)\n",
    "\n",
    "# Imprimir los nombres de las columnas agrupadas para verificar\n",
    "print(\"Nombres de las columnas agrupadas:\")\n",
    "print(result_df.columns)"
   ]
  },
  {
   "cell_type": "raw",
   "id": "277ec241",
   "metadata": {},
   "source": [
    "No es posible validar los datos, puesto que no se compartio el parquet 0 para la creación de la tabla en power BI, se realizó con un txt de una muestra de alrededor de 500 registros\n",
    "\n",
    "Sin embargo, al validar el siguiente registro da exactamente la cantidad de atenciones para 92 años en el power BI\n",
    "\n",
    "|2016|  1|MASCULINO|                         92|      C - CONTRIBUTIVO|                 2|                   2|"
   ]
  },
  {
   "cell_type": "code",
   "execution_count": 41,
   "id": "303684e7",
   "metadata": {},
   "outputs": [],
   "source": [
    "spark.stop()"
   ]
  }
 ],
 "metadata": {
  "kernelspec": {
   "display_name": "Python 3 (ipykernel)",
   "language": "python",
   "name": "python3"
  },
  "language_info": {
   "codemirror_mode": {
    "name": "ipython",
    "version": 3
   },
   "file_extension": ".py",
   "mimetype": "text/x-python",
   "name": "python",
   "nbconvert_exporter": "python",
   "pygments_lexer": "ipython3",
   "version": "3.9.18"
  }
 },
 "nbformat": 4,
 "nbformat_minor": 5
}

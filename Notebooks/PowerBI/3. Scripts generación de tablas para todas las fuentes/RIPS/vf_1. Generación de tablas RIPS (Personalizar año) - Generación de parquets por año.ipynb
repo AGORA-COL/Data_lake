{
 "cells": [
  {
   "cell_type": "markdown",
   "id": "3a8b3434",
   "metadata": {},
   "source": [
    "# TABLAS RIPS "
   ]
  },
  {
   "cell_type": "markdown",
   "id": "5e7ab853",
   "metadata": {},
   "source": [
    "## Carga de los datos"
   ]
  },
  {
   "cell_type": "markdown",
   "id": "dc2c512b",
   "metadata": {},
   "source": [
    "Este jupyter notebook esta generando las tablas sobre un año específico de la fuente de datos RIPS"
   ]
  },
  {
   "cell_type": "markdown",
   "id": "5fe11f8e",
   "metadata": {},
   "source": [
    "Para cada año se debe editar la ruta para la lectura del archivo inicial y las 9 rutas correspondientes a la ruta de cada tablet al crear los archivos de tipo parquet"
   ]
  },
  {
   "cell_type": "markdown",
   "id": "77c5c0d9",
   "metadata": {},
   "source": [
    "Modificar el nombre de spark y la carpeta a cargar"
   ]
  },
  {
   "cell_type": "code",
   "execution_count": 166,
   "id": "c90bfc6f",
   "metadata": {
    "scrolled": true
   },
   "outputs": [],
   "source": [
    "from pyspark.sql import SparkSession\n",
    "\n",
    "# Crear una sesión de Spark\n",
    "spark = SparkSession.builder.appName(\"GeneraciónTablasRips_Todoslosdatos_2009\").getOrCreate()"
   ]
  },
  {
   "cell_type": "code",
   "execution_count": null,
   "id": "bdbbc1d5",
   "metadata": {},
   "outputs": [],
   "source": []
  },
  {
   "cell_type": "markdown",
   "id": "52198587",
   "metadata": {},
   "source": [
    "### Importante Definir la ruta del año para generar los datos, se realizó año por año por la cantidad de registros"
   ]
  },
  {
   "cell_type": "code",
   "execution_count": 167,
   "id": "1900560b",
   "metadata": {},
   "outputs": [
    {
     "name": "stderr",
     "output_type": "stream",
     "text": [
      "                                                                                \r"
     ]
    }
   ],
   "source": [
    "# Leer los archivos Parquet de un año \n",
    "df1_parquet = spark.read.parquet(\"/rawdata/rips/rips_parquet_2009\")\n",
    "\n",
    "df=df1_parquet"
   ]
  },
  {
   "cell_type": "code",
   "execution_count": null,
   "id": "11bff43d",
   "metadata": {},
   "outputs": [],
   "source": []
  },
  {
   "cell_type": "code",
   "execution_count": 168,
   "id": "ab87d3af",
   "metadata": {
    "scrolled": true
   },
   "outputs": [
    {
     "name": "stderr",
     "output_type": "stream",
     "text": [
      "[Stage 1:==========================================>           (115 + 32) / 147]\r"
     ]
    },
    {
     "name": "stdout",
     "output_type": "stream",
     "text": [
      "Total de registros en el DataFrame unido: 154880279\n",
      "Columnas del DataFrame unido: ['personaid', 'tipoeventoripsdesc', 'codigo', 'dxprincipal', 'dxegreso', 'finalidadprocedimientoscd', 'finalidadconsultacd', 'tipousuariocd', 'causaexternacd', 'prestador', 'estadosalidacd', 'tipodiagnosticoprincipalcd', 'codigoprocedimiento', 'municipiocd', 'fechaid', 'edad', 'sexodesc', 'costoconsulta', 'costoprocedimiento', 'numerodiasestancia', '__null_dask_index__']\n"
     ]
    },
    {
     "name": "stderr",
     "output_type": "stream",
     "text": [
      "\r",
      "                                                                                \r"
     ]
    }
   ],
   "source": [
    "# Contar el número de registros en el DataFrame unido\n",
    "total_registros = df.count()\n",
    "\n",
    "# Listar las columnas del DataFrame unido\n",
    "columnas = df.columns\n",
    "\n",
    "# Mostrar resultados\n",
    "print(f\"Total de registros en el DataFrame unido: {total_registros}\")\n",
    "print(f\"Columnas del DataFrame unido: {columnas}\")"
   ]
  },
  {
   "cell_type": "code",
   "execution_count": 169,
   "id": "204519cb",
   "metadata": {},
   "outputs": [
    {
     "name": "stderr",
     "output_type": "stream",
     "text": [
      "                                                                                \r"
     ]
    }
   ],
   "source": [
    "# Contar el número de registros - da satisfactoriamente la cantidad de registros de toda la fuente RIPS 4’262.860.903 registros \n",
    "record_count = df.count()\n",
    "\n",
    "# Mostrar el número de registros\n",
    "#print(f\"El número de registros en el archivo es: {record_count}\")"
   ]
  },
  {
   "cell_type": "code",
   "execution_count": 170,
   "id": "8a1591e3",
   "metadata": {},
   "outputs": [
    {
     "name": "stdout",
     "output_type": "stream",
     "text": [
      "Número total de columnas en el DataFrame: 21\n"
     ]
    }
   ],
   "source": [
    "# Contar el número total de columnas en el DataFrame ( no se tiene en cuenta neto a pagar)\n",
    "total_columns = len(df.columns)\n",
    "\n",
    "# Imprimir el número total de columnas\n",
    "print(\"Número total de columnas en el DataFrame:\", total_columns)"
   ]
  },
  {
   "cell_type": "code",
   "execution_count": 171,
   "id": "cdde4766",
   "metadata": {},
   "outputs": [
    {
     "name": "stdout",
     "output_type": "stream",
     "text": [
      "root\n",
      " |-- personaid: string (nullable = true)\n",
      " |-- tipoeventoripsdesc: string (nullable = true)\n",
      " |-- codigo: string (nullable = true)\n",
      " |-- dxprincipal: string (nullable = true)\n",
      " |-- dxegreso: string (nullable = true)\n",
      " |-- finalidadprocedimientoscd: string (nullable = true)\n",
      " |-- finalidadconsultacd: string (nullable = true)\n",
      " |-- tipousuariocd: string (nullable = true)\n",
      " |-- causaexternacd: string (nullable = true)\n",
      " |-- prestador: string (nullable = true)\n",
      " |-- estadosalidacd: string (nullable = true)\n",
      " |-- tipodiagnosticoprincipalcd: string (nullable = true)\n",
      " |-- codigoprocedimiento: string (nullable = true)\n",
      " |-- municipiocd: string (nullable = true)\n",
      " |-- fechaid: string (nullable = true)\n",
      " |-- edad: string (nullable = true)\n",
      " |-- sexodesc: string (nullable = true)\n",
      " |-- costoconsulta: string (nullable = true)\n",
      " |-- costoprocedimiento: string (nullable = true)\n",
      " |-- numerodiasestancia: string (nullable = true)\n",
      " |-- __null_dask_index__: long (nullable = true)\n",
      "\n",
      "['personaid', 'tipoeventoripsdesc', 'codigo', 'dxprincipal', 'dxegreso', 'finalidadprocedimientoscd', 'finalidadconsultacd', 'tipousuariocd', 'causaexternacd', 'prestador', 'estadosalidacd', 'tipodiagnosticoprincipalcd', 'codigoprocedimiento', 'municipiocd', 'fechaid', 'edad', 'sexodesc', 'costoconsulta', 'costoprocedimiento', 'numerodiasestancia', '__null_dask_index__']\n"
     ]
    }
   ],
   "source": [
    "# Mostrar el esquema (columnas y tipos de datos)\n",
    "df.printSchema()\n",
    "\n",
    "# Listar las columnas\n",
    "print(df.columns)"
   ]
  },
  {
   "cell_type": "markdown",
   "id": "99d768c2",
   "metadata": {},
   "source": [
    "# Empieza el proceso de generación de los datos agrupados por atenciones"
   ]
  },
  {
   "cell_type": "raw",
   "id": "314f1d71",
   "metadata": {},
   "source": [
    "#La siguiente consulta tarda más de una hora parar todos los registros ( 20 min aprox con 2022) "
   ]
  },
  {
   "cell_type": "code",
   "execution_count": 172,
   "id": "1c8181d6",
   "metadata": {},
   "outputs": [
    {
     "name": "stderr",
     "output_type": "stream",
     "text": [
      "24/08/17 16:25:13 WARN SparkSession: Using an existing Spark session; only runtime SQL configurations will take effect.\n",
      "                                                                                \r"
     ]
    },
    {
     "name": "stdout",
     "output_type": "stream",
     "text": [
      "+---------+-------------------+--------------------+--------+---------+--------------------------+----+--------+-----------+-----------+---------------+\n",
      "|personaid|codigoprocedimiento|  tipoeventoripsdesc| fechaid| sexodesc|tipodiagnosticoprincipalcd|edad|dxegreso|dxprincipal|municipiocd|personaid_count|\n",
      "+---------+-------------------+--------------------+--------+---------+--------------------------+----+--------+-----------+-----------+---------------+\n",
      "| 10000667|             937000|PROCEDIMIENTOS DE...|20091008|MASCULINO|                      null|  85|       0|       G219|      68001|             18|\n",
      "| 10000667|             937000|PROCEDIMIENTOS DE...|20091005|MASCULINO|                      null|  85|       0|       G219|      68001|             18|\n",
      "| 10000667|             937000|PROCEDIMIENTOS DE...|20091014|MASCULINO|                      null|  85|       0|       G219|      68001|             18|\n",
      "| 10000667|             937000|PROCEDIMIENTOS DE...|20091006|MASCULINO|                      null|  85|       0|       G219|      68001|             18|\n",
      "| 10000667|             937000|PROCEDIMIENTOS DE...|20091009|MASCULINO|                      null|  85|       0|       G219|      68001|             18|\n",
      "| 10000667|             937000|PROCEDIMIENTOS DE...|20091007|MASCULINO|                      null|  85|       0|       G219|      68001|             18|\n",
      "| 10000667|             937000|PROCEDIMIENTOS DE...|20091013|MASCULINO|                      null|  85|       0|       G219|      68001|             18|\n",
      "| 10000667|             937000|PROCEDIMIENTOS DE...|20091015|MASCULINO|                      null|  85|       0|       G219|      68001|             18|\n",
      "| 10000667|             937000|PROCEDIMIENTOS DE...|20090108|MASCULINO|                      null|  84|       0|       G219|      68001|             18|\n",
      "| 10000667|             937000|PROCEDIMIENTOS DE...|20090105|MASCULINO|                      null|  84|       0|       G219|      68001|             18|\n",
      "| 10000667|             937000|PROCEDIMIENTOS DE...|20090109|MASCULINO|                      null|  84|       0|       G219|      68001|             18|\n",
      "| 10000667|             937000|PROCEDIMIENTOS DE...|20090106|MASCULINO|                      null|  84|       0|       G219|      68001|             18|\n",
      "| 10000667|             937000|PROCEDIMIENTOS DE...|20090107|MASCULINO|                      null|  84|       0|       G219|      68001|             18|\n",
      "| 10000667|             937000|PROCEDIMIENTOS DE...|20090107|MASCULINO|                      null|  84|       0|       G219|      68001|             18|\n",
      "| 10000667|             937000|PROCEDIMIENTOS DE...|20090105|MASCULINO|                      null|  84|       0|       G219|      68001|             18|\n",
      "| 10000667|             937000|PROCEDIMIENTOS DE...|20090106|MASCULINO|                      null|  84|       0|       G219|      68001|             18|\n",
      "| 10000667|             937000|PROCEDIMIENTOS DE...|20090109|MASCULINO|                      null|  84|       0|       G219|      68001|             18|\n",
      "| 10000667|             937000|PROCEDIMIENTOS DE...|20090108|MASCULINO|                      null|  84|       0|       G219|      68001|             18|\n",
      "| 10000670|             881332|PROCEDIMIENTOS DE...|20091204| FEMENINO|                      null|  58|       0|          1|      17380|             29|\n",
      "| 10000670|             901107|PROCEDIMIENTOS DE...|20091204| FEMENINO|                      null|  58|       0|          1|      17380|             29|\n",
      "+---------+-------------------+--------------------+--------+---------+--------------------------+----+--------+-----------+-----------+---------------+\n",
      "only showing top 20 rows\n",
      "\n"
     ]
    },
    {
     "name": "stderr",
     "output_type": "stream",
     "text": [
      "[Stage 12:>                                                         (0 + 1) / 1]\r"
     ]
    },
    {
     "name": "stdout",
     "output_type": "stream",
     "text": [
      "+---------+-------------------+--------------------+--------+---------+--------------------------+----+--------+-----------+-----------+---------------+\n",
      "|personaid|codigoprocedimiento|  tipoeventoripsdesc| fechaid| sexodesc|tipodiagnosticoprincipalcd|edad|dxegreso|dxprincipal|municipiocd|personaid_count|\n",
      "+---------+-------------------+--------------------+--------+---------+--------------------------+----+--------+-----------+-----------+---------------+\n",
      "| 10000667|             937000|PROCEDIMIENTOS DE...|20091008|MASCULINO|                      null|  85|       0|       G219|      68001|             18|\n",
      "| 10000670|                  1|   HOSPITALIZACIONES|20091207| FEMENINO|                      null|  58|    N390|       N390|      17380|             29|\n",
      "| 10002095|             890301|           CONSULTAS|20090316| FEMENINO|                         1|  67|       0|       K589|      19001|             16|\n",
      "| 10002373|             890201|           CONSULTAS|20090414|MASCULINO|                         2|  23|       0|       J303|      11001|              1|\n",
      "|  1000240|             890201|           CONSULTAS|20090121| FEMENINO|                         2|  45|       0|       R42X|      76113|              1|\n",
      "| 10002874|             890201|           CONSULTAS|20090623|MASCULINO|                         1|  35|       0|       J304|      05579|              3|\n",
      "|  1000394|             890301|           CONSULTAS|20090717|MASCULINO|                         3|   4|       0|       B829|      13001|              1|\n",
      "| 10004909|             890201|           CONSULTAS|20090511| FEMENINO|                         2|  77|       0|       I10X|      15109|              4|\n",
      "| 10005493|                  1|           URGENCIAS|20090202| FEMENINO|                      null|  31|       0|       R101|      13001|              5|\n",
      "| 10006237|             890201|           CONSULTAS|20090401| FEMENINO|                         1|  13|       0|       Z000|      68547|              3|\n",
      "| 10006941|             997300|PROCEDIMIENTOS DE...|20090907|MASCULINO|                      null|  35|       0|       K089|      11001|              4|\n",
      "| 10007253|                  1|           URGENCIAS|20091128|MASCULINO|                      null|  24|       0|       A09X|      20001|              1|\n",
      "|  1000760|             871121|PROCEDIMIENTOS DE...|20090902| FEMENINO|                      null|   2|       0|          1|      85001|             16|\n",
      "| 10007983|             890305|           CONSULTAS|20090129|MASCULINO|                         1|   7|       0|       Z002|      47570|              2|\n",
      "| 10008201|             890201|           CONSULTAS|20090702|MASCULINO|                         3|   2|       0|       Z001|      68081|              2|\n",
      "| 10008327|             890207|           CONSULTAS|20090515| FEMENINO|                         2|  29|       0|       H522|      76001|              5|\n",
      "| 10008866|             890301|           CONSULTAS|20090416| FEMENINO|                         3|  59|       0|       Z760|      76863|             14|\n",
      "| 10009148|             890402|           CONSULTAS|20091103| FEMENINO|                         2|  50|       0|       R072|      05001|              3|\n",
      "| 10009620|             902210|PROCEDIMIENTOS DE...|20090922| FEMENINO|                      null|  27|       0|       K359|      50313|             14|\n",
      "| 10009632|             890201|           CONSULTAS|20090702| FEMENINO|                         1|  12|       0|       Z003|      76828|             10|\n",
      "+---------+-------------------+--------------------+--------+---------+--------------------------+----+--------+-----------+-----------+---------------+\n",
      "only showing top 20 rows\n",
      "\n"
     ]
    },
    {
     "name": "stderr",
     "output_type": "stream",
     "text": [
      "\r",
      "                                                                                \r"
     ]
    }
   ],
   "source": [
    "from pyspark.sql import SparkSession\n",
    "from pyspark.sql import functions as F\n",
    "from pyspark.sql.window import Window\n",
    "\n",
    "# Crear una sesión de Spark\n",
    "spark = SparkSession.builder.appName(\"DataFrame agrupado\").getOrCreate()\n",
    "\n",
    "\n",
    "# Cargar el archivo Parquet en un DataFrame\n",
    "#df = df1\n",
    "\n",
    "# Seleccionar solo las columnas deseadas (sin 'personaid_count' ya que no existe aún)\n",
    "columns_to_keep = [\n",
    "    'personaid', 'codigoprocedimiento', 'tipoeventoripsdesc', 'fechaid',\n",
    "    'sexodesc', 'tipodiagnosticoprincipalcd', 'edad', 'dxegreso', 'dxprincipal', 'municipiocd'\n",
    "]\n",
    "df_filtered = df.select(*columns_to_keep)\n",
    "\n",
    "# Agregar una nueva columna con el recuento distintivo de 'personaid'\n",
    "window_spec = Window.partitionBy('personaid')\n",
    "df_filtered = df_filtered.withColumn('personaid_count', F.count('personaid').over(window_spec))\n",
    "\n",
    "# Mostrar las primeras filas del DataFrame filtrado para verificar\n",
    "df_filtered.show()\n",
    "\n",
    "# Mostrar los nombres de las columnas filtradas para verificar\n",
    "#print(\"Nombres de las columnas filtradas:\")\n",
    "#print(df_filtered.columns)\n",
    "\n",
    "# Agrupar por la columna 'personaid'\n",
    "grouped_df = df_filtered.groupBy('personaid').agg(\n",
    "    F.first('codigoprocedimiento').alias('codigoprocedimiento'),\n",
    "    F.first('tipoeventoripsdesc').alias('tipoeventoripsdesc'),\n",
    "    F.first('fechaid').alias('fechaid'),\n",
    "    F.first('sexodesc').alias('sexodesc'),\n",
    "    F.first('tipodiagnosticoprincipalcd').alias('tipodiagnosticoprincipalcd'),\n",
    "    F.first('edad').alias('edad'),\n",
    "    F.first('dxegreso').alias('dxegreso'),\n",
    "    F.first('dxprincipal').alias('dxprincipal'),\n",
    "    F.first('municipiocd').alias('municipiocd'),\n",
    "    F.first('personaid_count').alias('personaid_count')\n",
    ")\n",
    "\n",
    "# Mostrar las primeras filas del DataFrame agrupado para verificar\n",
    "grouped_df.show()\n"
   ]
  },
  {
   "cell_type": "code",
   "execution_count": 173,
   "id": "b242c249",
   "metadata": {},
   "outputs": [
    {
     "name": "stderr",
     "output_type": "stream",
     "text": [
      "[Stage 15:===============================================>     (151 + 16) / 167]\r"
     ]
    },
    {
     "name": "stdout",
     "output_type": "stream",
     "text": [
      "El número de registros en el dataframe es: 17314834\n"
     ]
    },
    {
     "name": "stderr",
     "output_type": "stream",
     "text": [
      "\r",
      "                                                                                \r"
     ]
    }
   ],
   "source": [
    "# Contar el número de registros - me da satisfactoriamente la cantidad de regustros en cada año da 73'357.494 llego hasta stage 18\n",
    "#llega a 30'434.249 con 2022\n",
    "record_count = grouped_df.count()\n",
    "\n",
    "\n",
    "# Mostrar el número de registros\n",
    "print(f\"El número de registros en el dataframe es: {record_count}\")"
   ]
  },
  {
   "cell_type": "markdown",
   "id": "beb42a7b",
   "metadata": {},
   "source": [
    "Se generan un total de 73'357.494 registros (todos) para el año 2022 son 30'434.249  registros"
   ]
  },
  {
   "cell_type": "code",
   "execution_count": 174,
   "id": "0a7707a7",
   "metadata": {},
   "outputs": [],
   "source": [
    " df_final =grouped_df\n"
   ]
  },
  {
   "cell_type": "code",
   "execution_count": 175,
   "id": "c8edd29f",
   "metadata": {},
   "outputs": [
    {
     "name": "stderr",
     "output_type": "stream",
     "text": [
      "                                                                                \r"
     ]
    },
    {
     "name": "stdout",
     "output_type": "stream",
     "text": [
      "El número de registros en el archivo Parquet es: 17314834\n"
     ]
    }
   ],
   "source": [
    "# Contar el número de registros \n",
    "record_count = df_final.count()\n",
    "\n",
    "# Mostrar el número de registros\n",
    "print(f\"El número de registros en el archivo Parquet es: {record_count}\")"
   ]
  },
  {
   "cell_type": "code",
   "execution_count": 176,
   "id": "6c4283ae",
   "metadata": {
    "scrolled": true
   },
   "outputs": [
    {
     "name": "stderr",
     "output_type": "stream",
     "text": [
      "[Stage 27:>                                                         (0 + 1) / 1]\r"
     ]
    },
    {
     "name": "stdout",
     "output_type": "stream",
     "text": [
      "+---------+-------------------+--------------------+--------+---------+--------------------------+----+--------+-----------+-----------+---------------+\n",
      "|personaid|codigoprocedimiento|  tipoeventoripsdesc| fechaid| sexodesc|tipodiagnosticoprincipalcd|edad|dxegreso|dxprincipal|municipiocd|personaid_count|\n",
      "+---------+-------------------+--------------------+--------+---------+--------------------------+----+--------+-----------+-----------+---------------+\n",
      "| 10000667|             937000|PROCEDIMIENTOS DE...|20091008|MASCULINO|                      null|  85|       0|       G219|      68001|             18|\n",
      "| 10000670|             881332|PROCEDIMIENTOS DE...|20091204| FEMENINO|                      null|  58|       0|          1|      17380|             29|\n",
      "| 10002095|             890201|           CONSULTAS|20090212| FEMENINO|                         1|  67|       0|       J040|      19001|             16|\n",
      "| 10002373|             890201|           CONSULTAS|20090414|MASCULINO|                         2|  23|       0|       J303|      11001|              1|\n",
      "|  1000240|             890201|           CONSULTAS|20090121| FEMENINO|                         2|  45|       0|       R42X|      76113|              1|\n",
      "| 10002874|             931000|PROCEDIMIENTOS DE...|20090623|MASCULINO|                      null|  35|       0|       J304|      05579|              3|\n",
      "|  1000394|             890301|           CONSULTAS|20090717|MASCULINO|                         3|   4|       0|       B829|      13001|              1|\n",
      "| 10004909|             890201|           CONSULTAS|20090511| FEMENINO|                         2|  77|       0|       I10X|      15109|              4|\n",
      "| 10005493|             890201|           CONSULTAS|20090602| FEMENINO|                         2|  31|       0|       H522|      13001|              5|\n",
      "| 10006237|             890201|           CONSULTAS|20090401| FEMENINO|                         1|  13|       0|       Z000|      68547|              3|\n",
      "| 10006941|             997300|PROCEDIMIENTOS DE...|20090907|MASCULINO|                      null|  35|       0|       K089|      11001|              4|\n",
      "| 10007253|                  1|           URGENCIAS|20091128|MASCULINO|                      null|  24|       0|       A09X|      20001|              1|\n",
      "|  1000760|             871121|PROCEDIMIENTOS DE...|20090902| FEMENINO|                      null|   2|       0|          1|      85001|             16|\n",
      "| 10007983|             890305|           CONSULTAS|20090129|MASCULINO|                         1|   7|       0|       Z002|      47570|              2|\n",
      "| 10008201|             890201|           CONSULTAS|20090702|MASCULINO|                         3|   2|       0|       Z001|      68081|              2|\n",
      "| 10008327|             890201|           CONSULTAS|20090421| FEMENINO|                         1|  29|       0|       N739|      76001|              5|\n",
      "| 10008866|             903818|PROCEDIMIENTOS DE...|20090415| FEMENINO|                      null|  59|       0|          1|      76863|             14|\n",
      "| 10009148|             890402|           CONSULTAS|20091103| FEMENINO|                         2|  50|       0|       R072|      05001|              3|\n",
      "| 10009620|             902210|PROCEDIMIENTOS DE...|20090922| FEMENINO|                      null|  27|       0|       K359|      50313|             14|\n",
      "+---------+-------------------+--------------------+--------+---------+--------------------------+----+--------+-----------+-----------+---------------+\n",
      "only showing top 19 rows\n",
      "\n"
     ]
    },
    {
     "name": "stderr",
     "output_type": "stream",
     "text": [
      "\r",
      "                                                                                \r"
     ]
    }
   ],
   "source": [
    "# Mostrar las primeras filas del DataFrame agrupado para verificar\n",
    "df_final.show(19)"
   ]
  },
  {
   "cell_type": "markdown",
   "id": "a38eae8b",
   "metadata": {},
   "source": []
  },
  {
   "cell_type": "code",
   "execution_count": null,
   "id": "623f59e2",
   "metadata": {},
   "outputs": [],
   "source": []
  },
  {
   "cell_type": "code",
   "execution_count": 177,
   "id": "5c715ffd",
   "metadata": {},
   "outputs": [],
   "source": [
    "#se escribe el parquet - No lo hago por que seria todos los datos por atenciones, mejor solo de cada tabla\n",
    "#df_final.write.parquet(\"hdfs:/analyticsdata/todoRips.parquet\") "
   ]
  },
  {
   "cell_type": "markdown",
   "id": "e121d260",
   "metadata": {},
   "source": [
    "# Empieza el proceso de generación de tablas"
   ]
  },
  {
   "cell_type": "code",
   "execution_count": 178,
   "id": "b9767569",
   "metadata": {},
   "outputs": [],
   "source": [
    "# Cargar el archivo Parquet en un DataFrame\n",
    "df2 = df_final"
   ]
  },
  {
   "cell_type": "markdown",
   "id": "6bf81f74",
   "metadata": {},
   "source": [
    "## Ejecutar hasta aca para tener los datos necesarios para generar las tablas (Run All Above) "
   ]
  },
  {
   "cell_type": "markdown",
   "id": "8fbd717b",
   "metadata": {},
   "source": [
    "## 1. Agrupado por año y mes"
   ]
  },
  {
   "cell_type": "raw",
   "id": "fee4e53f",
   "metadata": {},
   "source": [
    "# intento 2 Si ejecutar"
   ]
  },
  {
   "cell_type": "code",
   "execution_count": null,
   "id": "30c4f4aa",
   "metadata": {},
   "outputs": [],
   "source": []
  },
  {
   "cell_type": "code",
   "execution_count": 378,
   "id": "32bfeab9",
   "metadata": {},
   "outputs": [],
   "source": [
    "from pyspark.sql import SparkSession\n",
    "from pyspark.sql import functions as F\n",
    "from pyspark.sql.window import Window\n",
    "\n",
    "# Crear una sesión de Spark \n",
    "#spark = SparkSession.builder.appName(\"DataFrameTablas \").getOrCreate()\n",
    "\n",
    "\n",
    "# Cargar el archivo Parquet en un DataFrame\n",
    "#df2 = df_final\n",
    "\n",
    "\n"
   ]
  },
  {
   "cell_type": "code",
   "execution_count": 11,
   "id": "f4f4c2ac",
   "metadata": {},
   "outputs": [
    {
     "name": "stderr",
     "output_type": "stream",
     "text": [
      "[Stage 15:===============================================>     (149 + 18) / 167]\r"
     ]
    },
    {
     "name": "stdout",
     "output_type": "stream",
     "text": [
      "El número de registros en el archivo Parquet es: 29792722\n"
     ]
    },
    {
     "name": "stderr",
     "output_type": "stream",
     "text": [
      "\r",
      "                                                                                \r"
     ]
    }
   ],
   "source": [
    "# Contar el número de registros - me da satisfactoriamente la cantidad de regustros en cada año \n",
    "record_count = df2.count()\n",
    "\n",
    "# Mostrar el número de registros\n",
    "print(f\"El número de registros en el archivo Parquet es: {record_count}\")"
   ]
  },
  {
   "cell_type": "code",
   "execution_count": 380,
   "id": "98eb92ce",
   "metadata": {},
   "outputs": [
    {
     "name": "stdout",
     "output_type": "stream",
     "text": [
      "root\n",
      " |-- personaid: string (nullable = true)\n",
      " |-- codigoprocedimiento: string (nullable = true)\n",
      " |-- tipoeventoripsdesc: string (nullable = true)\n",
      " |-- fechaid: string (nullable = true)\n",
      " |-- sexodesc: string (nullable = true)\n",
      " |-- tipodiagnosticoprincipalcd: string (nullable = true)\n",
      " |-- edad: string (nullable = true)\n",
      " |-- dxegreso: string (nullable = true)\n",
      " |-- dxprincipal: string (nullable = true)\n",
      " |-- municipiocd: string (nullable = true)\n",
      " |-- personaid_count: long (nullable = true)\n",
      "\n",
      "['personaid', 'codigoprocedimiento', 'tipoeventoripsdesc', 'fechaid', 'sexodesc', 'tipodiagnosticoprincipalcd', 'edad', 'dxegreso', 'dxprincipal', 'municipiocd', 'personaid_count']\n"
     ]
    }
   ],
   "source": [
    "# Mostrar el esquema (columnas y tipos de datos)\n",
    "df2.printSchema()\n",
    "\n",
    "# Listar las columnas\n",
    "print(df2.columns)"
   ]
  },
  {
   "cell_type": "markdown",
   "id": "0979efcc",
   "metadata": {},
   "source": [
    "# resultado final agrupado año y mes, según el numero de personas y atenciones"
   ]
  },
  {
   "cell_type": "code",
   "execution_count": 381,
   "id": "42f7044e",
   "metadata": {
    "scrolled": true
   },
   "outputs": [
    {
     "name": "stderr",
     "output_type": "stream",
     "text": [
      "[Stage 36:=====================================================>(166 + 1) / 167]\r"
     ]
    },
    {
     "name": "stdout",
     "output_type": "stream",
     "text": [
      "+----+----+------------------+--------------------+\n",
      "| Año| Mes|Número_de_Personas|Número_de_Atenciones|\n",
      "+----+----+------------------+--------------------+\n",
      "|2009|   4|           1401013|            12993231|\n",
      "|2009|  10|           1301917|            11326896|\n",
      "|2009|   9|           1537800|            14553472|\n",
      "|2009|   6|           1366923|            12859201|\n",
      "|2009|   3|           1581714|            13559072|\n",
      "|2009|   1|           1538189|            12856988|\n",
      "|2009|   2|           1451804|            12407530|\n",
      "|2009|  12|           1377687|            11945323|\n",
      "|2009|   8|           1398744|            13115232|\n",
      "|2009|  11|           1345855|            11570363|\n",
      "|2009|   7|           1592431|            14665408|\n",
      "|2009|   5|           1420755|            13027561|\n",
      "|null|null|                 2|                   2|\n",
      "+----+----+------------------+--------------------+\n",
      "\n"
     ]
    },
    {
     "name": "stderr",
     "output_type": "stream",
     "text": [
      "\r",
      "                                                                                \r"
     ]
    }
   ],
   "source": [
    "# Seleccionar solo las columnas deseadas\n",
    "columns_to_keep = [\n",
    "    'personaid', 'codigoprocedimiento', 'tipoeventoripsdesc', 'fechaid',\n",
    "    'sexodesc', 'tipodiagnosticoprincipalcd', 'edad', 'dxegreso', 'dxprincipal', 'municipiocd', 'personaid_count'\n",
    "]\n",
    "df_filtered = df2.select(*columns_to_keep)\n",
    "\n",
    "# Convertir 'fechaid' a tipo fecha si es necesario\n",
    "df_filtered = df_filtered.withColumn('fechaid', F.to_date('fechaid', 'yyyyMMdd'))\n",
    "\n",
    "# Extraer año y mes de la columna 'fechaid'\n",
    "df_filtered = df_filtered.withColumn('Año', F.year('fechaid'))\n",
    "df_filtered = df_filtered.withColumn('Mes', F.month('fechaid'))\n",
    "\n",
    "# Agrupar por año y mes\n",
    "result_df = df_filtered.groupBy('Año', 'Mes').agg(\n",
    "    F.countDistinct('personaid').alias('Número_de_Personas'),\n",
    "    F.sum('personaid_count').alias('Número_de_Atenciones')\n",
    ")\n",
    "\n",
    "# Filtrar para mostrar los resultados de enero para comprobar\n",
    "#result_january = result_df.filter((F.col('Año') == 2022) & (F.col('Mes') == 1))\n",
    "\n",
    "# Mostrar los resultados para enero\n",
    "#result_january.show()\n",
    "\n",
    "# Mostrar las primeras filas del DataFrame completo para verificar\n",
    "result_df.show()\n",
    "\n",
    "# Imprimir los nombres de las columnas agrupadas para verificar\n",
    "#print(\"Nombres de las columnas agrupadas:\")\n",
    "#print(result_df.columns)"
   ]
  },
  {
   "cell_type": "code",
   "execution_count": 382,
   "id": "ac6341ef",
   "metadata": {},
   "outputs": [
    {
     "name": "stderr",
     "output_type": "stream",
     "text": [
      "[Stage 42:=====================================================>(166 + 1) / 167]\r"
     ]
    },
    {
     "name": "stdout",
     "output_type": "stream",
     "text": [
      "+----+----+------------------+--------------------+\n",
      "| Año| Mes|Número_de_Personas|Número_de_Atenciones|\n",
      "+----+----+------------------+--------------------+\n",
      "|2009|   4|           1401527|            13037919|\n",
      "|2009|  10|           1297923|            11379429|\n",
      "|2009|   9|           1539961|            14600612|\n",
      "|2009|   6|           1367806|            12616338|\n",
      "|2009|   3|           1583948|            13611956|\n",
      "|2009|   1|           1540094|            12874130|\n",
      "|2009|   2|           1454861|            12478654|\n",
      "|2009|  12|           1376048|            11807962|\n",
      "|2009|   8|           1398431|            13080691|\n",
      "|2009|  11|           1341906|            11513278|\n",
      "|2009|   7|           1591560|            14738774|\n",
      "|2009|   5|           1420767|            13140534|\n",
      "|null|null|                 2|                   2|\n",
      "+----+----+------------------+--------------------+\n",
      "\n"
     ]
    },
    {
     "name": "stderr",
     "output_type": "stream",
     "text": [
      "\r",
      "                                                                                \r"
     ]
    }
   ],
   "source": [
    "result_df.show()"
   ]
  },
  {
   "cell_type": "markdown",
   "id": "32d6cd35",
   "metadata": {},
   "source": [
    "Modificar el nombre del archivo segun corresponda el año"
   ]
  },
  {
   "cell_type": "markdown",
   "id": "b541596b",
   "metadata": {},
   "source": [
    "### Importante modificar el nombre de los archivos antes de ejecutar segun el año que corresponda"
   ]
  },
  {
   "cell_type": "code",
   "execution_count": 383,
   "id": "179ec440",
   "metadata": {},
   "outputs": [
    {
     "name": "stderr",
     "output_type": "stream",
     "text": [
      "                                                                                \r"
     ]
    }
   ],
   "source": [
    "#se escribe el parquet tabla 1\n",
    "result_df.write.parquet(\"hdfs:/analyticsdata/1.Tabla_anio_mes_atenciones_2009.parquet\") "
   ]
  },
  {
   "cell_type": "markdown",
   "id": "e3c823ae",
   "metadata": {},
   "source": [
    "# 2. Agrupado por año, mes y sexo"
   ]
  },
  {
   "cell_type": "code",
   "execution_count": 384,
   "id": "91e26ad2",
   "metadata": {},
   "outputs": [
    {
     "name": "stderr",
     "output_type": "stream",
     "text": [
      "[Stage 54:=====================================================>(166 + 1) / 167]\r"
     ]
    },
    {
     "name": "stdout",
     "output_type": "stream",
     "text": [
      "+----+----+-----------+------------------+--------------------+\n",
      "| Año| Mes|   sexodesc|Número_de_Personas|Número_de_Atenciones|\n",
      "+----+----+-----------+------------------+--------------------+\n",
      "|2009|   8|   FEMENINO|            790112|             8341582|\n",
      "|2009|   2|  MASCULINO|            604769|             4387755|\n",
      "|2009|   7|   FEMENINO|            905826|             9347695|\n",
      "|2009|   7|  MASCULINO|            673328|             5237076|\n",
      "|2009|   4|       null|             11488|               80251|\n",
      "|2009|   9|   FEMENINO|            869371|             9395415|\n",
      "|2009|  10|       null|             10386|               69137|\n",
      "|2009|   9|       null|             12716|               86888|\n",
      "|2009|   3|   FEMENINO|            905253|             8678124|\n",
      "|2009|  12|  MASCULINO|            564164|             4242733|\n",
      "|2009|   6|       null|             11389|               89278|\n",
      "|2009|   4|  MASCULINO|            586327|             4757885|\n",
      "|2009|  10|  MASCULINO|            536993|             4040358|\n",
      "|2009|   6|NO DEFINIDO|                50|                 171|\n",
      "|2009|   6|   FEMENINO|            775595|             8119102|\n",
      "|2009|   3|  MASCULINO|            662669|             4822683|\n",
      "|2009|   3|       null|             12831|               82806|\n",
      "|2009|   1|       null|             11380|               71581|\n",
      "|2009|   2|       null|             11220|               73707|\n",
      "|2009|   8|  MASCULINO|            596441|             4682679|\n",
      "|2009|   5|  MASCULINO|            602309|             4645303|\n",
      "|2009|  12|       null|             10242|               68055|\n",
      "|2009|  11|  MASCULINO|            550731|             4059116|\n",
      "|2009|  11|   FEMENINO|            784048|             7421979|\n",
      "|2009|   8|       null|             11918|               80618|\n",
      "|2009|  11|       null|             10343|               67115|\n",
      "|2009|   2|   FEMENINO|            837343|             7958435|\n",
      "|2009|   7|       null|             13139|               87772|\n",
      "|2009|  12|   FEMENINO|            802872|             7669620|\n",
      "|2009|   1|   FEMENINO|            887012|             8263284|\n",
      "|2009|   5|   FEMENINO|            806606|             8292578|\n",
      "|2009|   5|       null|             11816|               89054|\n",
      "|2009|  10|   FEMENINO|            753032|             7291720|\n",
      "|2009|   4|   FEMENINO|            803374|             8230366|\n",
      "|2009|   9|  MASCULINO|            656427|             5078880|\n",
      "|2009|   1|  MASCULINO|            640274|             4494870|\n",
      "|2009|   6|  MASCULINO|            580396|             4472483|\n",
      "|2009|   3|NO DEFINIDO|                75|                 224|\n",
      "|2009|  11|NO DEFINIDO|                51|                 210|\n",
      "|2009|   4|NO DEFINIDO|                64|                 255|\n",
      "|2009|  10|NO DEFINIDO|                52|                 239|\n",
      "|2009|   7|NO DEFINIDO|                51|                 205|\n",
      "|2009|   2|NO DEFINIDO|                54|                 205|\n",
      "|2009|   9|NO DEFINIDO|                75|                 204|\n",
      "|2009|   8|NO DEFINIDO|                69|                 211|\n",
      "|2009|   1|NO DEFINIDO|                63|                 148|\n",
      "|2009|  12|NO DEFINIDO|                44|                  91|\n",
      "|2009|   5|NO DEFINIDO|                44|                 131|\n",
      "|null|null|       null|                 2|                   2|\n",
      "+----+----+-----------+------------------+--------------------+\n",
      "\n",
      "Nombres de las columnas agrupadas:\n",
      "['Año', 'Mes', 'sexodesc', 'Número_de_Personas', 'Número_de_Atenciones']\n"
     ]
    },
    {
     "name": "stderr",
     "output_type": "stream",
     "text": [
      "\r",
      "                                                                                \r"
     ]
    }
   ],
   "source": [
    "\n",
    "# Seleccionar solo las columnas deseadas\n",
    "columns_to_keep = [\n",
    "    'personaid', 'codigoprocedimiento', 'tipoeventoripsdesc', 'fechaid',\n",
    "    'sexodesc', 'tipodiagnosticoprincipalcd', 'edad', 'dxegreso', 'dxprincipal', 'municipiocd', 'personaid_count'\n",
    "]\n",
    "df_filtered = df2.select(*columns_to_keep)\n",
    "\n",
    "# Convertir 'fechaid' a tipo fecha si es necesario\n",
    "df_filtered = df_filtered.withColumn('fechaid', F.to_date('fechaid', 'yyyyMMdd'))\n",
    "\n",
    "# Extraer año y mes de la columna 'fechaid'\n",
    "df_filtered = df_filtered.withColumn('Año', F.year('fechaid'))\n",
    "df_filtered = df_filtered.withColumn('Mes', F.month('fechaid'))\n",
    "\n",
    "# Agrupar por año, mes y sexodesc\n",
    "result_df = df_filtered.groupBy('Año', 'Mes', 'sexodesc').agg(\n",
    "    F.countDistinct('personaid').alias('Número_de_Personas'),\n",
    "    F.sum('personaid_count').alias('Número_de_Atenciones')\n",
    ")\n",
    "\n",
    "# Mostrar los resultados\n",
    "result_df.show(100)\n",
    "\n",
    "# Imprimir los nombres de las columnas agrupadas para verificar\n",
    "print(\"Nombres de las columnas agrupadas:\")\n",
    "print(result_df.columns)\n"
   ]
  },
  {
   "cell_type": "markdown",
   "id": "256b1fd2",
   "metadata": {},
   "source": []
  },
  {
   "cell_type": "code",
   "execution_count": 385,
   "id": "fec1b58c",
   "metadata": {},
   "outputs": [
    {
     "name": "stderr",
     "output_type": "stream",
     "text": [
      "                                                                                \r"
     ]
    }
   ],
   "source": [
    "#se escribe el parquet tabla 2\n",
    "result_df.write.parquet(\"hdfs:/analyticsdata/2.Tabla_anio_mes_sexo_2009.parquet\") "
   ]
  },
  {
   "cell_type": "markdown",
   "id": "91886959",
   "metadata": {},
   "source": [
    "# 3. Agrupado por año, mes y municipio"
   ]
  },
  {
   "cell_type": "code",
   "execution_count": 386,
   "id": "9b7531a2",
   "metadata": {},
   "outputs": [
    {
     "name": "stderr",
     "output_type": "stream",
     "text": [
      "[Stage 66:=====================================================>(164 + 3) / 167]\r"
     ]
    },
    {
     "name": "stdout",
     "output_type": "stream",
     "text": [
      "+----+---+-----------+------------------+--------------------+\n",
      "| Año|Mes|municipiocd|Número_de_Personas|Número_de_Atenciones|\n",
      "+----+---+-----------+------------------+--------------------+\n",
      "|2009|  1|      41396|              2114|               10421|\n",
      "|2009|  1|      23090|               324|                2950|\n",
      "|2009|  9|      76020|               771|                5083|\n",
      "|2009|  2|      20787|               351|                2859|\n",
      "|2009| 11|      23090|              1288|                8116|\n",
      "|2009|  9|      25506|               172|                 993|\n",
      "|2009|  3|      52573|               380|                4424|\n",
      "|2009|  3|      15740|               167|                 765|\n",
      "|2009| 11|      25769|               338|                3240|\n",
      "|2009|  1|      05607|               290|                1656|\n",
      "|2009|  3|      25486|               305|                1971|\n",
      "|2009|  6|      23686|               762|                2651|\n",
      "|2009|  2|      25486|               206|                1475|\n",
      "|2009| 12|      70717|               167|                2236|\n",
      "|2009| 12|      15296|               454|                2500|\n",
      "|2009| 11|      73283|               613|                2536|\n",
      "|2009|  1|      73226|               211|                1346|\n",
      "|2009|  3|      54223|               237|                1837|\n",
      "|2009|  7|      81065|               309|                1115|\n",
      "|2009|  5|      41797|               442|                3091|\n",
      "|2009| 10|      19318|               279|                1793|\n",
      "|2009|  1|      52254|               213|                2582|\n",
      "|2009|  6|      68327|                72|                 456|\n",
      "|2009|  3|      76113|               491|                3193|\n",
      "|2009|  9|      73443|              1020|               13472|\n",
      "|2009|  5|      41396|              2433|               14338|\n",
      "|2009|  1|      44430|              1551|               10278|\n",
      "|2009|  1|      52573|               580|                5644|\n",
      "|2009|  1|      08433|              2658|               16481|\n",
      "|2009|  4|      05642|               727|                6921|\n",
      "|2009| 12|      19532|              2621|               47251|\n",
      "|2009| 10|      20770|               616|                2925|\n",
      "|2009|  6|      50577|               430|                2108|\n",
      "|2009| 11|      68271|               155|                 534|\n",
      "|2009|  7|      13268|               474|                1871|\n",
      "|2009|  9|      63470|               176|                1306|\n",
      "|2009| 12|      54206|               120|                 381|\n",
      "|2009|  5|      15087|               426|                2350|\n",
      "|2009|  2|      17001|             13063|              110297|\n",
      "|2009|  7|      81794|              1215|                8491|\n",
      "|2009|  1|      15001|              9442|               83527|\n",
      "|2009| 10|      52885|               701|                8272|\n",
      "|2009|  7|      41770|               625|                4483|\n",
      "|2009|  9|      05607|               429|                3138|\n",
      "|2009|  5|      17541|               679|               18743|\n",
      "|2009|  5|      68318|               533|                3014|\n",
      "|2009|  4|      41013|               141|                 662|\n",
      "|2009|  2|      86320|               335|                1779|\n",
      "|2009| 12|      15798|               210|                1707|\n",
      "|2009|  3|      15189|               219|                1952|\n",
      "|2009|  8|      05125|               277|                 786|\n",
      "|2009|  5|      13620|               248|                1485|\n",
      "|2009|  7|      66001|             21541|              245417|\n",
      "|2009| 10|      76563|              2315|               20559|\n",
      "|2009|  1|      76111|              5152|               46764|\n",
      "|2009|  5|      41872|               145|                 982|\n",
      "|2009|  8|      13212|               509|                2229|\n",
      "|2009|  4|      52022|               162|                2455|\n",
      "|2009|  4|      25817|              1094|                8537|\n",
      "|2009| 12|      73124|               805|                4349|\n",
      "|2009|  6|      47161|               493|                2208|\n",
      "|2009|  3|      52378|              1027|               12911|\n",
      "|2009|  4|      76400|               245|                2070|\n",
      "|2009|  2|      15814|               215|                1477|\n",
      "|2009| 12|      47660|               575|                1146|\n",
      "|2009|  6|      86749|               322|                2162|\n",
      "|2009|  5|      05361|               420|                4590|\n",
      "|2009| 10|      86865|               291|                2579|\n",
      "|2009|  4|      05129|              4455|               50642|\n",
      "|2009| 10|      70001|             11171|               72570|\n",
      "|2009|  7|      08296|              1987|               20570|\n",
      "|2009| 11|      05679|              1236|                8848|\n",
      "|2009|  1|      52473|               313|                4336|\n",
      "|2009|  1|      70678|              1053|                3298|\n",
      "|2009|  4|      76109|              6274|               59182|\n",
      "|2009|  6|      05147|              1669|               17888|\n",
      "|2009|  4|      86569|                55|                 177|\n",
      "|2009| 10|      68615|               438|                2201|\n",
      "|2009| 12|      05690|               308|                1193|\n",
      "|2009| 10|      05212|              1532|               16026|\n",
      "|2009| 10|      19743|              1578|                5262|\n",
      "|2009| 12|      52405|              1413|                9865|\n",
      "|2009|  4|      20045|               452|                4411|\n",
      "|2009|  6|      68176|               138|                 993|\n",
      "|2009|  8|      15380|               115|                1999|\n",
      "|2009|  1|      81736|               476|                1718|\n",
      "|2009| 11|      23464|               287|                1019|\n",
      "|2009|  2|      05697|               301|                2056|\n",
      "|2009|  3|      05101|              1850|                5587|\n",
      "|2009|  8|      20013|              1624|               17603|\n",
      "|2009|  6|      47605|               464|                2658|\n",
      "|2009|  1|      41770|               789|                6444|\n",
      "|2009| 12|      19698|              2812|               37027|\n",
      "|2009| 11|      05837|              1855|               18283|\n",
      "|2009| 11|      76563|              2570|               18885|\n",
      "|2009| 11|      25320|               819|                7819|\n",
      "|2009|  5|      05318|              1351|               14177|\n",
      "|2009|  2|      66075|               421|                3932|\n",
      "|2009|  3|      13657|               735|                8014|\n",
      "|2009|  6|      05150|               280|                1285|\n",
      "+----+---+-----------+------------------+--------------------+\n",
      "only showing top 100 rows\n",
      "\n",
      "Nombres de las columnas agrupadas:\n",
      "['Año', 'Mes', 'municipiocd', 'Número_de_Personas', 'Número_de_Atenciones']\n"
     ]
    },
    {
     "name": "stderr",
     "output_type": "stream",
     "text": [
      "\r",
      "                                                                                \r"
     ]
    }
   ],
   "source": [
    "\n",
    "# Seleccionar solo las columnas deseadas\n",
    "columns_to_keep = [\n",
    "    'personaid', 'codigoprocedimiento', 'tipoeventoripsdesc', 'fechaid',\n",
    "    'sexodesc', 'tipodiagnosticoprincipalcd', 'edad', 'dxegreso', 'dxprincipal', 'municipiocd', 'personaid_count'\n",
    "]\n",
    "df_filtered = df2.select(*columns_to_keep)\n",
    "\n",
    "# Convertir 'fechaid' a tipo fecha si es necesario\n",
    "df_filtered = df_filtered.withColumn('fechaid', F.to_date('fechaid', 'yyyyMMdd'))\n",
    "\n",
    "# Extraer año y mes de la columna 'fechaid'\n",
    "df_filtered = df_filtered.withColumn('Año', F.year('fechaid'))\n",
    "df_filtered = df_filtered.withColumn('Mes', F.month('fechaid'))\n",
    "\n",
    "# Agrupar por año, mes y municipioid\n",
    "result_df = df_filtered.groupBy('Año', 'Mes', 'municipiocd').agg(\n",
    "    F.countDistinct('personaid').alias('Número_de_Personas'),\n",
    "    F.sum('personaid_count').alias('Número_de_Atenciones')\n",
    ")\n",
    "\n",
    "# Mostrar los resultados\n",
    "result_df.show(100)\n",
    "\n",
    "# Imprimir los nombres de las columnas agrupadas para verificar\n",
    "print(\"Nombres de las columnas agrupadas:\")\n",
    "print(result_df.columns)\n"
   ]
  },
  {
   "cell_type": "code",
   "execution_count": 387,
   "id": "3b729f69",
   "metadata": {},
   "outputs": [
    {
     "name": "stderr",
     "output_type": "stream",
     "text": [
      "                                                                                \r"
     ]
    }
   ],
   "source": [
    "#se escribe el parquet tabla 3\n",
    "result_df.write.parquet(\"hdfs:/analyticsdata/3.Tabla_anio_mes_municipio_2009.parquet\") "
   ]
  },
  {
   "cell_type": "markdown",
   "id": "5a228e1c",
   "metadata": {},
   "source": [
    "# 4. Agrupado por año, mes y tipoeventoripsdesc"
   ]
  },
  {
   "cell_type": "code",
   "execution_count": 388,
   "id": "ee40d136",
   "metadata": {},
   "outputs": [
    {
     "name": "stderr",
     "output_type": "stream",
     "text": [
      "[Stage 78:====================================================> (163 + 4) / 167]\r"
     ]
    },
    {
     "name": "stdout",
     "output_type": "stream",
     "text": [
      "+----+----+--------------------+------------------+--------------------+\n",
      "| Año| Mes|  tipoeventoripsdesc|Número_de_Personas|Número_de_Atenciones|\n",
      "+----+----+--------------------+------------------+--------------------+\n",
      "|2009|   1|   HOSPITALIZACIONES|             21025|              270452|\n",
      "|2009|   6|           CONSULTAS|            931099|             7700408|\n",
      "|2009|   2|PROCEDIMIENTOS DE...|            408456|             4218743|\n",
      "|2009|   8|PROCEDIMIENTOS DE...|            398817|             4629864|\n",
      "|2009|  10|PROCEDIMIENTOS DE...|            442420|             4246999|\n",
      "|2009|   4|           CONSULTAS|            977157|             8031547|\n",
      "|2009|  11|PROCEDIMIENTOS DE...|            485866|             4436310|\n",
      "|2009|   4|           URGENCIAS|             33484|              340359|\n",
      "|2009|  12|           URGENCIAS|             38004|              385069|\n",
      "|2009|   2|   HOSPITALIZACIONES|             16824|              261764|\n",
      "|2009|   9|PROCEDIMIENTOS DE...|            431495|             4767776|\n",
      "|2009|   9|   HOSPITALIZACIONES|             20084|              425671|\n",
      "|2009|   6|           URGENCIAS|             48048|              432563|\n",
      "|2009|  12|           CONSULTAS|            812500|             6276239|\n",
      "|2009|   9|           URGENCIAS|             51280|              440714|\n",
      "|2009|   3|PROCEDIMIENTOS DE...|            440763|             4640437|\n",
      "|2009|   7|           URGENCIAS|             53074|              488805|\n",
      "|2009|   5|           CONSULTAS|            971801|             7926375|\n",
      "|2009|   7|           CONSULTAS|           1073299|             8775633|\n",
      "|2009|   5|           URGENCIAS|             42148|              410534|\n",
      "|2009|   8|           CONSULTAS|            930637|             7956855|\n",
      "|2009|   7|PROCEDIMIENTOS DE...|            449890|             5022904|\n",
      "|2009|  10|   HOSPITALIZACIONES|             23608|              368876|\n",
      "|2009|  12|PROCEDIMIENTOS DE...|            508957|             4968561|\n",
      "|2009|  10|           URGENCIAS|             47966|              419672|\n",
      "|2009|  10|           CONSULTAS|            786490|             6337581|\n",
      "|2009|   3|   HOSPITALIZACIONES|             18557|              307592|\n",
      "|2009|   2|           URGENCIAS|             30120|              289100|\n",
      "|2009|   6|   HOSPITALIZACIONES|             16435|              318871|\n",
      "|2009|   1|           URGENCIAS|             37085|              317814|\n",
      "|2009|  11|   HOSPITALIZACIONES|             23273|              351366|\n",
      "|2009|  11|           CONSULTAS|            800415|             6261773|\n",
      "|2009|   3|           CONSULTAS|           1080984|             8281922|\n",
      "|2009|   5|PROCEDIMIENTOS DE...|            390196|             4337877|\n",
      "|2009|   9|           CONSULTAS|           1036403|             8907162|\n",
      "|2009|   3|           URGENCIAS|             42187|              382121|\n",
      "|2009|   2|           CONSULTAS|            998581|             7652912|\n",
      "|2009|  12|   HOSPITALIZACIONES|             18868|              334507|\n",
      "|2009|   1|PROCEDIMIENTOS DE...|            424896|             4265433|\n",
      "|2009|   1|           CONSULTAS|           1051765|             7955216|\n",
      "|2009|   4|PROCEDIMIENTOS DE...|            372786|             4286195|\n",
      "|2009|   6|PROCEDIMIENTOS DE...|            370501|             4260328|\n",
      "|2009|   4|   HOSPITALIZACIONES|             16141|              311337|\n",
      "|2009|   5|   HOSPITALIZACIONES|             17033|              322398|\n",
      "|2009|   8|           URGENCIAS|             55327|              469262|\n",
      "|2009|   8|   HOSPITALIZACIONES|             16282|              388044|\n",
      "|2009|   7|   HOSPITALIZACIONES|             16545|              342187|\n",
      "|2009|  11|           URGENCIAS|             35260|              356149|\n",
      "|null|null|                null|                 2|                   2|\n",
      "+----+----+--------------------+------------------+--------------------+\n",
      "\n",
      "Nombres de las columnas agrupadas:\n",
      "['Año', 'Mes', 'tipoeventoripsdesc', 'Número_de_Personas', 'Número_de_Atenciones']\n"
     ]
    },
    {
     "name": "stderr",
     "output_type": "stream",
     "text": [
      "\r",
      "                                                                                \r"
     ]
    }
   ],
   "source": [
    "# Seleccionar solo las columnas deseadas\n",
    "columns_to_keep = [\n",
    "    'personaid', 'codigoprocedimiento', 'tipoeventoripsdesc', 'fechaid',\n",
    "    'sexodesc', 'tipodiagnosticoprincipalcd', 'edad', 'dxegreso', 'dxprincipal', 'municipiocd', 'personaid_count'\n",
    "]\n",
    "df_filtered = df2.select(*columns_to_keep)\n",
    "\n",
    "# Convertir 'fechaid' a tipo fecha si es necesario\n",
    "df_filtered = df_filtered.withColumn('fechaid', F.to_date('fechaid', 'yyyyMMdd'))\n",
    "\n",
    "# Extraer año y mes de la columna 'fechaid'\n",
    "df_filtered = df_filtered.withColumn('Año', F.year('fechaid'))\n",
    "df_filtered = df_filtered.withColumn('Mes', F.month('fechaid'))\n",
    "\n",
    "# Agrupar por año, mes y tipoeventoripsdesc\n",
    "result_df = df_filtered.groupBy('Año', 'Mes', 'tipoeventoripsdesc').agg(\n",
    "    F.countDistinct('personaid').alias('Número_de_Personas'),\n",
    "    F.sum('personaid_count').alias('Número_de_Atenciones')\n",
    ")\n",
    "\n",
    "# Mostrar los resultados\n",
    "result_df.show(100)\n",
    "\n",
    "# Imprimir los nombres de las columnas agrupadas para verificar\n",
    "print(\"Nombres de las columnas agrupadas:\")\n",
    "print(result_df.columns)"
   ]
  },
  {
   "cell_type": "code",
   "execution_count": 389,
   "id": "ed4a49a9",
   "metadata": {},
   "outputs": [
    {
     "name": "stderr",
     "output_type": "stream",
     "text": [
      "                                                                                \r"
     ]
    }
   ],
   "source": [
    "#se escribe el parquet tabla 4\n",
    "result_df.write.parquet(\"hdfs:/analyticsdata/4.Tabla_anio_mes_tipoeventoripsdesc_2009.parquet\") "
   ]
  },
  {
   "cell_type": "markdown",
   "id": "aa460a54",
   "metadata": {},
   "source": [
    "# 5. Agrupado por año, mes y tipodiagnosticoprincipalcd"
   ]
  },
  {
   "cell_type": "code",
   "execution_count": 390,
   "id": "ec7f5abf",
   "metadata": {},
   "outputs": [
    {
     "name": "stderr",
     "output_type": "stream",
     "text": [
      "[Stage 90:=====================================================>(166 + 1) / 167]\r"
     ]
    },
    {
     "name": "stdout",
     "output_type": "stream",
     "text": [
      "+----+----+--------------------------+------------------+--------------------+\n",
      "| Año| Mes|tipodiagnosticoprincipalcd|Número_de_Personas|Número_de_Atenciones|\n",
      "+----+----+--------------------------+------------------+--------------------+\n",
      "|2009|   6|                         2|            283054|             2135755|\n",
      "|2009|   2|                         1|            524852|             3898398|\n",
      "|2009|  12|                         1|            420070|             3108949|\n",
      "|2009|   3|                         1|            556479|             4167619|\n",
      "|2009|   4|                      null|            424501|             5131799|\n",
      "|2009|  10|                      null|            516514|             5181543|\n",
      "|2009|   9|                         1|            548132|             4515160|\n",
      "|2009|   9|                      null|            506740|             5595877|\n",
      "|2009|   1|                         2|            312842|             2161180|\n",
      "|2009|   1|                         3|            188347|             1681122|\n",
      "|2009|   7|                         1|            563199|             4440139|\n",
      "|2009|  11|                         2|            236584|             1732582|\n",
      "|2009|   5|                         3|            159123|             1583198|\n",
      "|2009|   6|                      null|            438084|             5071661|\n",
      "|2009|   1|                         1|            553724|             4145795|\n",
      "|2009|  12|                         3|            153793|             1417332|\n",
      "|2009|   6|                         3|            153435|             1497401|\n",
      "|2009|   4|                         3|            168894|             1659639|\n",
      "|2009|   3|                      null|            503072|             5346839|\n",
      "|2009|   1|                      null|            484695|             4889752|\n",
      "|2009|   2|                      null|            456137|             4841998|\n",
      "|2009|  10|                         2|            234052|             1738486|\n",
      "|2009|   5|                         1|            516448|             4122265|\n",
      "|2009|  11|                         3|            143319|             1369208|\n",
      "|2009|  12|                      null|            568579|             5804837|\n",
      "|2009|  10|                         1|            414961|             3257931|\n",
      "|2009|   8|                         3|            152794|             1573314|\n",
      "|2009|   8|                      null|            471964|             5497874|\n",
      "|2009|  11|                         1|            415765|             3131163|\n",
      "|2009|   5|                         2|            294241|             2224592|\n",
      "|2009|   6|                         1|            493298|             3928936|\n",
      "|2009|  11|                      null|            547387|             5111544|\n",
      "|2009|   7|                      null|            522381|             5879728|\n",
      "|2009|   4|                         2|            295968|             2225145|\n",
      "|2009|   3|                         2|            330524|             2341648|\n",
      "|2009|   5|                      null|            451393|             5134480|\n",
      "|2009|   9|                         2|            312745|             2389860|\n",
      "|2009|   7|                         3|            181026|             1818072|\n",
      "|2009|   8|                         1|            497657|             4029256|\n",
      "|2009|  12|                         2|            234277|             1711927|\n",
      "|2009|   2|                         2|            292609|             2100477|\n",
      "|2009|  10|                         3|            133067|             1314411|\n",
      "|2009|   2|                         3|            179296|             1630401|\n",
      "|2009|   4|                         1|            511219|             4154142|\n",
      "|2009|   8|                         2|            277579|             2153762|\n",
      "|2009|   7|                         2|            325589|             2532681|\n",
      "|2009|   9|                         3|            171681|             1785895|\n",
      "|2009|   3|                         3|            192742|             1714504|\n",
      "|null|null|                      null|                 2|                   2|\n",
      "+----+----+--------------------------+------------------+--------------------+\n",
      "\n",
      "Nombres de las columnas agrupadas:\n",
      "['Año', 'Mes', 'tipodiagnosticoprincipalcd', 'Número_de_Personas', 'Número_de_Atenciones']\n"
     ]
    },
    {
     "name": "stderr",
     "output_type": "stream",
     "text": [
      "\r",
      "                                                                                \r"
     ]
    }
   ],
   "source": [
    "# Seleccionar solo las columnas deseadas\n",
    "columns_to_keep = [\n",
    "    'personaid', 'codigoprocedimiento', 'tipoeventoripsdesc', 'fechaid',\n",
    "    'sexodesc', 'tipodiagnosticoprincipalcd', 'edad', 'dxegreso', 'dxprincipal', 'municipiocd', 'personaid_count'\n",
    "]\n",
    "df_filtered = df2.select(*columns_to_keep)\n",
    "\n",
    "# Convertir 'fechaid' a tipo fecha si es necesario\n",
    "df_filtered = df_filtered.withColumn('fechaid', F.to_date('fechaid', 'yyyyMMdd'))\n",
    "\n",
    "# Extraer año y mes de la columna 'fechaid'\n",
    "df_filtered = df_filtered.withColumn('Año', F.year('fechaid'))\n",
    "df_filtered = df_filtered.withColumn('Mes', F.month('fechaid'))\n",
    "\n",
    "# Agrupar por año, mes y tipodiagnosticoprincipalcd\n",
    "result_df = df_filtered.groupBy('Año', 'Mes', 'tipodiagnosticoprincipalcd').agg(\n",
    "    F.countDistinct('personaid').alias('Número_de_Personas'),\n",
    "    F.sum('personaid_count').alias('Número_de_Atenciones')\n",
    ")\n",
    "\n",
    "# Mostrar los resultados\n",
    "result_df.show(100)\n",
    "\n",
    "# Imprimir los nombres de las columnas agrupadas para verificar\n",
    "print(\"Nombres de las columnas agrupadas:\")\n",
    "print(result_df.columns)"
   ]
  },
  {
   "cell_type": "raw",
   "id": "fa291206",
   "metadata": {},
   "source": []
  },
  {
   "cell_type": "code",
   "execution_count": 391,
   "id": "c5a5ba49",
   "metadata": {},
   "outputs": [
    {
     "name": "stderr",
     "output_type": "stream",
     "text": [
      "                                                                                \r"
     ]
    }
   ],
   "source": [
    "#se escribe el parquet tabla 5\n",
    "result_df.write.parquet(\"hdfs:/analyticsdata/5.Tabla_anio_mes_tipodiagnosticoprincipalcd_2009.parquet\") "
   ]
  },
  {
   "cell_type": "markdown",
   "id": "554cb620",
   "metadata": {},
   "source": [
    "# 6. Agrupado por año, mes y dxprincipal"
   ]
  },
  {
   "cell_type": "code",
   "execution_count": 392,
   "id": "6bc116f6",
   "metadata": {},
   "outputs": [
    {
     "name": "stderr",
     "output_type": "stream",
     "text": [
      "[Stage 102:====================================================>(164 + 3) / 167]\r"
     ]
    },
    {
     "name": "stdout",
     "output_type": "stream",
     "text": [
      "+----+---+-----------+------------------+--------------------+\n",
      "| Año|Mes|dxprincipal|Número_de_Personas|Número_de_Atenciones|\n",
      "+----+---+-----------+------------------+--------------------+\n",
      "|2009|  1|       R42X|              6406|               55591|\n",
      "|2009|  2|       D252|                57|                 629|\n",
      "|2009|  7|       E782|              3873|               38509|\n",
      "|2009|  3|       S025|              1209|                9173|\n",
      "|2009|  6|       M791|              2376|               15153|\n",
      "|2009|  4|       O800|              1825|               36747|\n",
      "|2009|  3|       J219|              2641|               30203|\n",
      "|2009| 11|       S923|               133|                 968|\n",
      "|2009| 12|       Z018|              1358|               18789|\n",
      "|2009|  2|       I279|                45|                 396|\n",
      "|2009| 12|       S800|              1001|                5900|\n",
      "|2009|  4|       B351|               541|                3666|\n",
      "|2009|  9|       M708|                53|                 583|\n",
      "|2009|  4|       S317|                15|                 388|\n",
      "|2009| 10|       N946|               615|                3597|\n",
      "|2009|  5|       R491|                 6|                  62|\n",
      "|2009| 12|       I861|               474|                1947|\n",
      "|2009| 10|       S903|               279|                1464|\n",
      "|2009| 11|       M948|               137|                 785|\n",
      "|2009|  4|       F209|               177|                1352|\n",
      "|2009|  9|       S300|               187|                1547|\n",
      "|2009|  3|       Z278|               343|                3679|\n",
      "|2009|  2|       N393|               253|                2783|\n",
      "|2009| 10|       Z370|               535|                5515|\n",
      "|2009| 12|       Q173|                10|                  37|\n",
      "|2009|  7|       K510|                 9|                  74|\n",
      "|2009| 10|       Z981|                 6|                  45|\n",
      "|2009|  4|       M519|                69|                 670|\n",
      "|2009|  3|       H571|               376|                2382|\n",
      "|2009|  9|       Z768|              6596|              116729|\n",
      "|2009|  4|       L050|                47|                 313|\n",
      "|2009| 12|       H520|              2131|               13335|\n",
      "|2009|  9|       H110|              2999|               15778|\n",
      "|2009|  2|       S019|              1120|                7681|\n",
      "|2009|  3|       K590|              2512|               17733|\n",
      "|2009| 12|       M815|                52|                 688|\n",
      "|2009|  7|       A90X|               833|                8747|\n",
      "|2009| 11|       E65X|                47|                 737|\n",
      "|2009| 11|       N340|                15|                  70|\n",
      "|2009|  7|       I842|               407|                3062|\n",
      "|2009|  4|       N341|               323|                1901|\n",
      "|2009|  1|       S835|               280|                2854|\n",
      "|2009|  6|       H527|              2315|               11417|\n",
      "|2009|  5|       L509|               823|                5419|\n",
      "|2009|  7|       S118|                34|                 142|\n",
      "|2009|  2|       P942|                 9|                  84|\n",
      "|2009| 12|       W548|                40|                 180|\n",
      "|2009| 12|       S618|               208|                1218|\n",
      "|2009|  9|       C07X|                 8|                 119|\n",
      "|2009|  7|       X327|                 1|                   3|\n",
      "|2009| 11|       E100|                26|                 732|\n",
      "|2009|  7|       E739|                70|                 495|\n",
      "|2009|  3|       T908|                20|                 119|\n",
      "|2009|  5|       S117|                 8|                 180|\n",
      "|2009|  5|       L208|               597|                3399|\n",
      "|2009| 12|       H438|                56|                 270|\n",
      "|2009|  1|       N645|               402|                3537|\n",
      "|2009|  8|       Z309|              2222|               21727|\n",
      "|2009|  7|       S800|              1135|                7428|\n",
      "|2009| 11|       E669|              3626|               31696|\n",
      "|2009| 12|       L209|              3573|               16976|\n",
      "|2009|  5|       I843|               108|                 796|\n",
      "|2009|  2|       O009|               134|                2056|\n",
      "|2009| 11|       N809|               117|                1250|\n",
      "|2009|  7|       S500|               410|                3007|\n",
      "|2009| 10|       Z359|              2831|               57285|\n",
      "|2009| 10|       R739|               372|                3212|\n",
      "|2009|  1|       M670|                16|                  73|\n",
      "|2009|  4|       S801|               172|                1056|\n",
      "|2009| 11|       A499|               114|                1453|\n",
      "|2009| 10|       T742|                89|                 654|\n",
      "|2009| 11|       O16X|                93|                2904|\n",
      "|2009|  1|       D225|                62|                 380|\n",
      "|2009| 12|       T310|                38|                 396|\n",
      "|2009|  8|       K210|               611|                7108|\n",
      "|2009| 11|       E038|               207|                2420|\n",
      "|2009|  1|       B082|               107|                 673|\n",
      "|2009| 11|       P599|               916|                6644|\n",
      "|2009|  6|       S051|               117|                 652|\n",
      "|2009|  6|       S014|               228|                1129|\n",
      "|2009|  5|       B432|                24|                 122|\n",
      "|2009|  3|       S721|                56|                1385|\n",
      "|2009|  5|       K801|                87|                1741|\n",
      "|2009|  7|       E780|              2026|               19820|\n",
      "|2009|  5|       R102|              3150|               34904|\n",
      "|2009|  7|       H813|              2703|               25233|\n",
      "|2009| 10|       M679|               150|                 856|\n",
      "|2009|  1|       N819|               182|                2120|\n",
      "|2009|  8|       Z008|              2435|               26051|\n",
      "|2009|  2|       R11X|              3888|               27066|\n",
      "|2009|  9|       Z629|                22|                 135|\n",
      "|2009|  1|       L020|               446|                2159|\n",
      "|2009|  1|       K004|               295|                2050|\n",
      "|2009|  6|       Z299|               487|                2060|\n",
      "|2009|  4|       B309|               229|                1620|\n",
      "|2009| 12|       N328|                28|                 253|\n",
      "|2009|  7|       S069|               588|                7417|\n",
      "|2009|  2|       N649|               227|                1649|\n",
      "|2009|  1|       F203|               199|                1308|\n",
      "|2009| 10|       K522|               169|                1079|\n",
      "+----+---+-----------+------------------+--------------------+\n",
      "only showing top 100 rows\n",
      "\n",
      "Nombres de las columnas agrupadas:\n",
      "['Año', 'Mes', 'dxprincipal', 'Número_de_Personas', 'Número_de_Atenciones']\n"
     ]
    },
    {
     "name": "stderr",
     "output_type": "stream",
     "text": [
      "\r",
      "                                                                                \r"
     ]
    }
   ],
   "source": [
    "# Seleccionar solo las columnas deseadas\n",
    "columns_to_keep = [\n",
    "    'personaid', 'codigoprocedimiento', 'tipoeventoripsdesc', 'fechaid',\n",
    "    'sexodesc', 'tipodiagnosticoprincipalcd', 'edad', 'dxegreso', 'dxprincipal', 'municipiocd', 'personaid_count'\n",
    "]\n",
    "df_filtered = df2.select(*columns_to_keep)\n",
    "\n",
    "# Convertir 'fechaid' a tipo fecha si es necesario\n",
    "df_filtered = df_filtered.withColumn('fechaid', F.to_date('fechaid', 'yyyyMMdd'))\n",
    "\n",
    "# Extraer año y mes de la columna 'fechaid'\n",
    "df_filtered = df_filtered.withColumn('Año', F.year('fechaid'))\n",
    "df_filtered = df_filtered.withColumn('Mes', F.month('fechaid'))\n",
    "\n",
    "# Agrupar por año, mes y dxprincipal\n",
    "result_df = df_filtered.groupBy('Año', 'Mes', 'dxprincipal').agg(\n",
    "    F.countDistinct('personaid').alias('Número_de_Personas'),\n",
    "    F.sum('personaid_count').alias('Número_de_Atenciones')\n",
    ")\n",
    "\n",
    "# Mostrar los resultados\n",
    "result_df.show(100)\n",
    "\n",
    "# Imprimir los nombres de las columnas agrupadas para verificar\n",
    "print(\"Nombres de las columnas agrupadas:\")\n",
    "print(result_df.columns)"
   ]
  },
  {
   "cell_type": "raw",
   "id": "359a9696",
   "metadata": {},
   "source": []
  },
  {
   "cell_type": "code",
   "execution_count": 393,
   "id": "209c6271",
   "metadata": {},
   "outputs": [
    {
     "name": "stderr",
     "output_type": "stream",
     "text": [
      "                                                                                \r"
     ]
    }
   ],
   "source": [
    "#se escribe el parquet tabla 6\n",
    "result_df.write.parquet(\"hdfs:/analyticsdata/6.Tabla_anio_mes_dxprincipal_2009.parquet\") "
   ]
  },
  {
   "cell_type": "markdown",
   "id": "3c60e186",
   "metadata": {},
   "source": [
    "# 7. Agrupado por año, mes y codigoprocedimiento"
   ]
  },
  {
   "cell_type": "code",
   "execution_count": 394,
   "id": "b053ae8a",
   "metadata": {},
   "outputs": [
    {
     "name": "stderr",
     "output_type": "stream",
     "text": [
      "[Stage 114:====================================================>(166 + 1) / 167]\r"
     ]
    },
    {
     "name": "stdout",
     "output_type": "stream",
     "text": [
      "+----+---+-------------------+------------------+--------------------+\n",
      "| Año|Mes|codigoprocedimiento|Número_de_Personas|Número_de_Atenciones|\n",
      "+----+---+-------------------+------------------+--------------------+\n",
      "|2009|  7|             890409|               826|                8449|\n",
      "|2009|  5|             902204|               542|                8862|\n",
      "|2009|  4|             241101|                 2|                  23|\n",
      "|2009| 11|             881502|                61|                 313|\n",
      "|2009| 11|             901102|                29|                 414|\n",
      "|2009|  7|             954107|               725|                5892|\n",
      "|2009|  5|             990213|                25|                 174|\n",
      "|2009|  7|             882101|                 8|                 518|\n",
      "|2009|  5|             939400|              1140|               22414|\n",
      "|2009|  9|             873431|               672|                4786|\n",
      "|2009|  7|             452301|               354|                5455|\n",
      "|2009|  7|             242102|                99|                 896|\n",
      "|2009|  1|             870602|               315|                2108|\n",
      "|2009| 12|             906251|               569|                5748|\n",
      "|2009|  9|             372501|                25|                 237|\n",
      "|2009| 11|             902202|                33|                 416|\n",
      "|2009|  5|             890703|              7775|               61471|\n",
      "|2009|  2|             881201|              2006|               14627|\n",
      "|2009|  4|             560100|                18|                 291|\n",
      "|2009|  1|             873412|              1042|                9063|\n",
      "|2009|  7|             904509|               295|                2869|\n",
      "|2009|  6|             702200|               510|                4977|\n",
      "|2009|  3|             901230|                 5|                  59|\n",
      "|2009|  9|             549800|                 9|                 299|\n",
      "|2009|  5|             906129|               248|                3153|\n",
      "|2009|  4|             883230|               201|                2212|\n",
      "|2009|  8|             740300|                12|                 351|\n",
      "|2009|  4|             690102|                64|                 898|\n",
      "|2009|  6|             640000|               144|                1160|\n",
      "|2009| 11|             890306|              2086|               36981|\n",
      "|2009|  7|             990112|              1245|                9321|\n",
      "|2009|  4|             903820|                61|                1415|\n",
      "|2009|  5|             890209|               230|                7239|\n",
      "|2009|  8|             991800|               177|                1808|\n",
      "|2009|  2|             865203|               103|                 530|\n",
      "|2009| 11|             876802|              3522|               23079|\n",
      "|2009|  7|             990104|              1749|               15208|\n",
      "|2009| 12|             901107|              1317|               15923|\n",
      "|2009|  7|             612100|                18|                 296|\n",
      "|2009| 12|             902049|               691|               14061|\n",
      "|2009|  2|             048101|                 4|                  89|\n",
      "|2009| 10|             943102|               252|                4587|\n",
      "|2009| 12|             586300|                24|                 117|\n",
      "|2009|  2|             904108|               273|                2866|\n",
      "|2009|  7|             890210|               100|                9757|\n",
      "|2009| 11|             021201|               104|                 398|\n",
      "|2009|  1|             905201|                45|                 868|\n",
      "|2009|  4|             890311|               410|                6979|\n",
      "|2009| 10|             231200|               389|                2798|\n",
      "|2009|  6|             873420|              1247|                9424|\n",
      "|2009|  7|             907107|              4021|               44669|\n",
      "|2009|  6|             904508|              1752|               17579|\n",
      "|2009|  1|             906249|              1520|               17722|\n",
      "|2009|  7|             891508|               188|                3059|\n",
      "|2009| 10|             663100|               579|                8418|\n",
      "|2009|  4|             901005|                12|                 131|\n",
      "|2009| 12|             990205|               296|                3086|\n",
      "|2009| 12|             881332|               940|                9260|\n",
      "|2009|  6|             230201|              1026|                8958|\n",
      "|2009|  8|             904922|               117|                1755|\n",
      "|2009| 12|             935100|                94|                 762|\n",
      "|2009| 11|             871030|               210|                1753|\n",
      "|2009|  9|             231301|               137|                1007|\n",
      "|2009| 11|             904903|               874|               10390|\n",
      "|2009|  1|             873313|               277|                1982|\n",
      "|2009|  1|             230201|              1183|                8397|\n",
      "|2009|  8|             870107|               270|                1885|\n",
      "|2009|  3|             881306|               549|                5654|\n",
      "|2009|  2|             903833|               196|                3694|\n",
      "|2009|  3|             637300|               250|                1078|\n",
      "|2009| 10|             895100|              4396|               51851|\n",
      "|2009|  9|             904508|              1991|               18695|\n",
      "|2009| 10|             879420|               209|                4078|\n",
      "|2009| 10|             579400|               127|                2500|\n",
      "|2009| 12|             863101|               640|                3471|\n",
      "|2009|  1|             872002|               572|                5330|\n",
      "|2009| 10|             870452|                59|                 681|\n",
      "|2009|  5|             920901|               168|                2625|\n",
      "|2009|  1|             893106|                99|                 439|\n",
      "|2009|  1|             311100|                49|                 653|\n",
      "|2009| 12|             881112|                66|                 639|\n",
      "|2009|  3|             870108|              1129|                8090|\n",
      "|2009| 12|             786902|                10|                  34|\n",
      "|2009|  6|             684000|               110|                1619|\n",
      "|2009|  8|             892001|                78|                1323|\n",
      "|2009|  7|             903833|               159|                3646|\n",
      "|2009| 10|             870602|               239|                1478|\n",
      "|2009|  9|             954311|                12|                 147|\n",
      "|2009|  8|             673401|                34|                 482|\n",
      "|2009|  4|             860102|                44|                 594|\n",
      "|2009|  3|             793402|                10|                 112|\n",
      "|2009|  3|             247300|                 3|                  14|\n",
      "|2009|  5|             869500|               462|                5333|\n",
      "|2009|  6|             865101|              1805|               13651|\n",
      "|2009| 10|             543100|                13|                 132|\n",
      "|2009|  3|             886011|               166|                2532|\n",
      "|2009|  3|             042307|                 1|                   3|\n",
      "|2009|  7|             990101|               354|               13332|\n",
      "|2009|  9|             300202|                10|                  85|\n",
      "|2009|  5|             891508|               186|                2928|\n",
      "+----+---+-------------------+------------------+--------------------+\n",
      "only showing top 100 rows\n",
      "\n",
      "Nombres de las columnas agrupadas:\n",
      "['Año', 'Mes', 'codigoprocedimiento', 'Número_de_Personas', 'Número_de_Atenciones']\n"
     ]
    },
    {
     "name": "stderr",
     "output_type": "stream",
     "text": [
      "\r",
      "                                                                                \r"
     ]
    }
   ],
   "source": [
    "# Seleccionar solo las columnas deseadas\n",
    "columns_to_keep = [\n",
    "    'personaid', 'codigoprocedimiento', 'tipoeventoripsdesc', 'fechaid',\n",
    "    'sexodesc', 'tipodiagnosticoprincipalcd', 'edad', 'dxegreso', 'dxprincipal', 'municipiocd', 'personaid_count'\n",
    "]\n",
    "df_filtered = df2.select(*columns_to_keep)\n",
    "\n",
    "# Convertir 'fechaid' a tipo fecha si es necesario\n",
    "df_filtered = df_filtered.withColumn('fechaid', F.to_date('fechaid', 'yyyyMMdd'))\n",
    "\n",
    "# Extraer año y mes de la columna 'fechaid'\n",
    "df_filtered = df_filtered.withColumn('Año', F.year('fechaid'))\n",
    "df_filtered = df_filtered.withColumn('Mes', F.month('fechaid'))\n",
    "\n",
    "# Agrupar por año, mes y codigoprocedimiento\n",
    "result_df = df_filtered.groupBy('Año', 'Mes', 'codigoprocedimiento').agg(\n",
    "    F.countDistinct('personaid').alias('Número_de_Personas'),\n",
    "    F.sum('personaid_count').alias('Número_de_Atenciones')\n",
    ")\n",
    "\n",
    "# Mostrar los resultados\n",
    "result_df.show(100)\n",
    "\n",
    "# Imprimir los nombres de las columnas agrupadas para verificar\n",
    "print(\"Nombres de las columnas agrupadas:\")\n",
    "print(result_df.columns)"
   ]
  },
  {
   "cell_type": "code",
   "execution_count": null,
   "id": "36e4c2b4",
   "metadata": {},
   "outputs": [],
   "source": []
  },
  {
   "cell_type": "code",
   "execution_count": 395,
   "id": "22784348",
   "metadata": {},
   "outputs": [
    {
     "name": "stderr",
     "output_type": "stream",
     "text": [
      "                                                                                \r"
     ]
    }
   ],
   "source": [
    "#se escribe el parquet tabla 7\n",
    "result_df.write.parquet(\"hdfs:/analyticsdata/7.Tabla_anio_mes_codigoprocedimiento_2009.parquet\") "
   ]
  },
  {
   "cell_type": "markdown",
   "id": "e76459e0",
   "metadata": {},
   "source": [
    "# 8. Agrupado por año, mes, municipio y sexo"
   ]
  },
  {
   "cell_type": "code",
   "execution_count": 396,
   "id": "35a3fad1",
   "metadata": {},
   "outputs": [
    {
     "name": "stderr",
     "output_type": "stream",
     "text": [
      "[Stage 126:===================================================> (162 + 5) / 167]\r"
     ]
    },
    {
     "name": "stdout",
     "output_type": "stream",
     "text": [
      "+----+---+-----------+---------+------------------+--------------------+\n",
      "| Año|Mes|municipiocd| sexodesc|Número_de_Personas|Número_de_Atenciones|\n",
      "+----+---+-----------+---------+------------------+--------------------+\n",
      "|2009|  6|      68001| FEMENINO|             14904|              187530|\n",
      "|2009|  3|      15476|MASCULINO|               261|                1375|\n",
      "|2009| 11|      47058| FEMENINO|               984|                7702|\n",
      "|2009|  7|      15087|MASCULINO|                83|                 306|\n",
      "|2009| 10|      52019| FEMENINO|               259|                4642|\n",
      "|2009|  9|      73055| FEMENINO|               144|                1736|\n",
      "|2009| 12|      25200|MASCULINO|               112|                 776|\n",
      "|2009|  8|      86001| FEMENINO|               462|                3857|\n",
      "|2009|  4|      25839|MASCULINO|               324|                1648|\n",
      "|2009|  8|      15632| FEMENINO|               371|                4989|\n",
      "|2009| 12|      17380|MASCULINO|              1434|               13934|\n",
      "|2009|  6|      52435|MASCULINO|               243|                1805|\n",
      "|2009| 11|      41872|MASCULINO|               304|                1392|\n",
      "|2009|  4|      15232|MASCULINO|                51|                 210|\n",
      "|2009| 10|      41615| FEMENINO|                81|                1249|\n",
      "|2009|  8|      76122|MASCULINO|               503|                5866|\n",
      "|2009| 12|      50006|MASCULINO|               288|                1717|\n",
      "|2009|  3|      52399|MASCULINO|               942|                6603|\n",
      "|2009| 12|      76109| FEMENINO|              4301|               39939|\n",
      "|2009|  4|      52378|MASCULINO|               325|                2189|\n",
      "|2009|  7|      76122| FEMENINO|               508|                7530|\n",
      "|2009|  9|      68051| FEMENINO|               385|                2125|\n",
      "|2009|  1|      70820| FEMENINO|               490|                3340|\n",
      "|2009|  2|      20710|MASCULINO|               667|                4029|\n",
      "|2009| 10|      25875|MASCULINO|               396|                4432|\n",
      "|2009| 10|      68547| FEMENINO|              1515|               13194|\n",
      "|2009|  9|      73168|MASCULINO|               934|                6057|\n",
      "|2009|  1|      76403| FEMENINO|               182|                 921|\n",
      "|2009|  3|      08573|MASCULINO|               237|                1279|\n",
      "|2009|  8|      52411| FEMENINO|               385|                5493|\n",
      "|2009| 12|      50573| FEMENINO|               142|                 911|\n",
      "|2009|  1|      41396| FEMENINO|              1233|                6905|\n",
      "|2009|  2|      20517| FEMENINO|               287|                4702|\n",
      "|2009| 11|      70820|MASCULINO|               214|                 890|\n",
      "|2009| 10|      05483| FEMENINO|               449|                4043|\n",
      "|2009|  9|      05607| FEMENINO|               228|                2052|\n",
      "|2009| 10|      52256| FEMENINO|               126|                 930|\n",
      "|2009|  5|      15087|     null|                 3|                  17|\n",
      "|2009|  8|      25745|MASCULINO|                46|                 207|\n",
      "|2009|  7|      68179| FEMENINO|               115|                 738|\n",
      "|2009|  1|      44430|     null|                19|                  64|\n",
      "|2009|  8|      76109| FEMENINO|              7650|               63483|\n",
      "|2009|  9|      05642| FEMENINO|               302|                3024|\n",
      "|2009|  7|      20770| FEMENINO|               502|                4016|\n",
      "|2009|  3|      15001|MASCULINO|              3868|               30118|\n",
      "|2009|  6|      52378| FEMENINO|               509|                6286|\n",
      "|2009|  6|      19001| FEMENINO|              3288|               29364|\n",
      "|2009| 10|      08078|MASCULINO|               671|                3886|\n",
      "|2009| 12|      47189|MASCULINO|               541|                2935|\n",
      "|2009|  3|      85250| FEMENINO|               246|                1875|\n",
      "|2009|  7|      19450| FEMENINO|               178|                2953|\n",
      "|2009| 10|      68255|MASCULINO|               254|                1083|\n",
      "|2009|  6|      68385|MASCULINO|               194|                1163|\n",
      "|2009|  6|      20383|MASCULINO|               435|                1853|\n",
      "|2009|  2|      18610|MASCULINO|               103|                 513|\n",
      "|2009|  1|      52699| FEMENINO|               243|                3116|\n",
      "|2009| 10|      25053| FEMENINO|               378|                4266|\n",
      "|2009|  4|      41872|MASCULINO|               321|                1771|\n",
      "|2009| 12|      05197|MASCULINO|               119|                 907|\n",
      "|2009| 12|      19743| FEMENINO|               733|                3019|\n",
      "|2009|  1|      13580| FEMENINO|               301|                 963|\n",
      "|2009|  8|       null| FEMENINO|              7238|               94895|\n",
      "|2009|  1|      15001|     null|               114|                 876|\n",
      "|2009|  3|      68655|MASCULINO|               494|                2204|\n",
      "|2009|  2|      17001|     null|               181|                 952|\n",
      "|2009|  5|      13620|     null|                12|                  28|\n",
      "|2009|  3|      68307| FEMENINO|              1718|               14614|\n",
      "|2009|  2|      47001|MASCULINO|              5798|               38311|\n",
      "|2009|  2|      73449|MASCULINO|               418|                2675|\n",
      "|2009|  3|      23807|MASCULINO|               424|                1743|\n",
      "|2009|  1|      25754|MASCULINO|              3674|               18118|\n",
      "|2009| 11|      52258| FEMENINO|               638|                3572|\n",
      "|2009| 12|      52354|MASCULINO|               181|                1069|\n",
      "|2009| 11|      18753| FEMENINO|              1068|               10508|\n",
      "|2009|  2|      08296|MASCULINO|               360|                2626|\n",
      "|2009|  7|      15755| FEMENINO|               295|                1299|\n",
      "|2009| 10|      47245|MASCULINO|              1226|                7304|\n",
      "|2009|  4|      25491| FEMENINO|                27|                 159|\n",
      "|2009|  6|      41503| FEMENINO|               433|                1483|\n",
      "|2009|  6|      17042|MASCULINO|                43|                 312|\n",
      "|2009|  6|      25001|MASCULINO|                99|                 913|\n",
      "|2009|  7|      15047| FEMENINO|               241|                1118|\n",
      "|2009| 10|      70820|MASCULINO|               168|                 917|\n",
      "|2009|  5|      23168| FEMENINO|               395|                 899|\n",
      "|2009| 10|      66687|MASCULINO|               151|                2466|\n",
      "|2009|  5|      41530| FEMENINO|               145|                 854|\n",
      "|2009|  1|      76111|     null|                27|                 194|\n",
      "|2009| 12|      47660|     null|                12|                  24|\n",
      "|2009|  9|      68679|MASCULINO|              1439|                9127|\n",
      "|2009|  5|      41668|MASCULINO|               741|                8949|\n",
      "|2009|  6|      73349| FEMENINO|               411|                2641|\n",
      "|2009| 10|      05658| FEMENINO|               102|                 307|\n",
      "|2009|  1|      23001|MASCULINO|              4711|               28568|\n",
      "|2009|  8|      44001|MASCULINO|               687|                3689|\n",
      "|2009|  9|      86757| FEMENINO|               194|                1309|\n",
      "|2009| 10|      23300|MASCULINO|               268|                1233|\n",
      "|2009| 12|      15236| FEMENINO|                50|                 306|\n",
      "|2009|  7|      15861| FEMENINO|               257|                1051|\n",
      "|2009|  1|      68255| FEMENINO|               297|                1920|\n",
      "|2009| 12|      18592|MASCULINO|               533|                2592|\n",
      "+----+---+-----------+---------+------------------+--------------------+\n",
      "only showing top 100 rows\n",
      "\n",
      "Nombres de las columnas agrupadas:\n",
      "['Año', 'Mes', 'municipiocd', 'sexodesc', 'Número_de_Personas', 'Número_de_Atenciones']\n"
     ]
    },
    {
     "name": "stderr",
     "output_type": "stream",
     "text": [
      "\r",
      "                                                                                \r"
     ]
    }
   ],
   "source": [
    "# Seleccionar solo las columnas deseadas\n",
    "columns_to_keep = [\n",
    "    'personaid', 'codigoprocedimiento', 'tipoeventoripsdesc', 'fechaid',\n",
    "    'sexodesc', 'tipodiagnosticoprincipalcd', 'edad', 'dxegreso', 'dxprincipal', 'municipiocd', 'personaid_count'\n",
    "]\n",
    "df_filtered = df2.select(*columns_to_keep)\n",
    "\n",
    "# Convertir 'fechaid' a tipo fecha si es necesario\n",
    "df_filtered = df_filtered.withColumn('fechaid', F.to_date('fechaid', 'yyyyMMdd'))\n",
    "\n",
    "# Extraer año y mes de la columna 'fechaid'\n",
    "df_filtered = df_filtered.withColumn('Año', F.year('fechaid'))\n",
    "df_filtered = df_filtered.withColumn('Mes', F.month('fechaid'))\n",
    "\n",
    "# Agrupar por año, mes y codigoprocedimiento\n",
    "result_df = df_filtered.groupBy('Año', 'Mes', 'municipiocd','sexodesc').agg(\n",
    "    F.countDistinct('personaid').alias('Número_de_Personas'),\n",
    "    F.sum('personaid_count').alias('Número_de_Atenciones')\n",
    ")\n",
    "\n",
    "# Mostrar los resultados\n",
    "result_df.show(100)\n",
    "\n",
    "# Imprimir los nombres de las columnas agrupadas para verificar\n",
    "print(\"Nombres de las columnas agrupadas:\")\n",
    "print(result_df.columns)"
   ]
  },
  {
   "cell_type": "markdown",
   "id": "2da8d049",
   "metadata": {},
   "source": []
  },
  {
   "cell_type": "code",
   "execution_count": 397,
   "id": "5c49380a",
   "metadata": {},
   "outputs": [
    {
     "name": "stderr",
     "output_type": "stream",
     "text": [
      "                                                                                \r"
     ]
    }
   ],
   "source": [
    "#se escribe el parquet tabla 8\n",
    "result_df.write.parquet(\"hdfs:/analyticsdata/8.Tabla_anio_mes_municipio_sexo_2009.parquet\") "
   ]
  },
  {
   "cell_type": "markdown",
   "id": "3481714a",
   "metadata": {},
   "source": [
    "# 9. Agrupado por año, mes, tipoeventorips y sexo"
   ]
  },
  {
   "cell_type": "code",
   "execution_count": 398,
   "id": "205705da",
   "metadata": {},
   "outputs": [
    {
     "name": "stderr",
     "output_type": "stream",
     "text": [
      "                                                                                \r"
     ]
    },
    {
     "name": "stdout",
     "output_type": "stream",
     "text": [
      "+----+----+--------------------+-----------+------------------+--------------------+\n",
      "| Año| Mes|  tipoeventoripsdesc|   sexodesc|Número_de_Personas|Número_de_Atenciones|\n",
      "+----+----+--------------------+-----------+------------------+--------------------+\n",
      "|2009|   1|PROCEDIMIENTOS DE...|   FEMENINO|            255549|             2734138|\n",
      "|2009|   4|PROCEDIMIENTOS DE...|   FEMENINO|            224726|             2645121|\n",
      "|2009|   3|           CONSULTAS|   FEMENINO|            609038|             5284901|\n",
      "|2009|   6|   HOSPITALIZACIONES|   FEMENINO|             10304|              200734|\n",
      "|2009|  11|           CONSULTAS|   FEMENINO|            461845|             4064412|\n",
      "|2009|  10|   HOSPITALIZACIONES|  MASCULINO|              9804|              175150|\n",
      "|2009|   9|PROCEDIMIENTOS DE...|   FEMENINO|            255516|             3067780|\n",
      "|2009|   9|           URGENCIAS|   FEMENINO|             25062|              261357|\n",
      "|2009|   6|           CONSULTAS|       null|              8229|               57023|\n",
      "|2009|   2|PROCEDIMIENTOS DE...|       null|              2313|               19159|\n",
      "|2009|   8|PROCEDIMIENTOS DE...|       null|              2606|               24116|\n",
      "|2009|   4|   HOSPITALIZACIONES|  MASCULINO|              6066|              114690|\n",
      "|2009|  10|PROCEDIMIENTOS DE...|       null|              2987|               22590|\n",
      "|2009|   5|           CONSULTAS|   FEMENINO|            541900|             5086979|\n",
      "|2009|   1|           CONSULTAS|NO DEFINIDO|                38|                  86|\n",
      "|2009|   3|           URGENCIAS|  MASCULINO|             20137|              147139|\n",
      "|2009|   2|PROCEDIMIENTOS DE...|   FEMENINO|            248261|             2666124|\n",
      "|2009|  12|PROCEDIMIENTOS DE...|  MASCULINO|            200586|             1770584|\n",
      "|2009|  11|           CONSULTAS|  MASCULINO|            332803|             2194147|\n",
      "|2009|  10|PROCEDIMIENTOS DE...|  MASCULINO|            174392|             1519859|\n",
      "|2009|  10|           CONSULTAS|   FEMENINO|            450862|             4130298|\n",
      "|2009|   4|           CONSULTAS|       null|              8482|               54298|\n",
      "|2009|   8|           CONSULTAS|  MASCULINO|            402969|             2757111|\n",
      "|2009|   7|           URGENCIAS|   FEMENINO|             26132|              283765|\n",
      "|2009|   2|   HOSPITALIZACIONES|   FEMENINO|             10685|              166304|\n",
      "|2009|  11|PROCEDIMIENTOS DE...|       null|              3294|               24122|\n",
      "|2009|   5|   HOSPITALIZACIONES|   FEMENINO|             10499|              203187|\n",
      "|2009|   3|           URGENCIAS|   FEMENINO|             21439|              223675|\n",
      "|2009|  11|           URGENCIAS|   FEMENINO|             18166|              220927|\n",
      "|2009|   3|PROCEDIMIENTOS DE...|  MASCULINO|            171493|             1607476|\n",
      "|2009|  10|           URGENCIAS|  MASCULINO|             24106|              176614|\n",
      "|2009|  12|           URGENCIAS|       null|               297|                2094|\n",
      "|2009|   4|           URGENCIAS|       null|               368|                2644|\n",
      "|2009|   6|           URGENCIAS|  MASCULINO|             24116|              184152|\n",
      "|2009|  12|           URGENCIAS|   FEMENINO|             19633|              217511|\n",
      "|2009|   9|PROCEDIMIENTOS DE...|  MASCULINO|            171505|             1743798|\n",
      "|2009|   1|           CONSULTAS|   FEMENINO|            598785|             5163769|\n",
      "|2009|   9|PROCEDIMIENTOS DE...|       null|              2890|               26770|\n",
      "|2009|   9|   HOSPITALIZACIONES|       null|                84|                 862|\n",
      "|2009|   3|   HOSPITALIZACIONES|NO DEFINIDO|                 6|                   8|\n",
      "|2009|   6|           URGENCIAS|       null|               646|                3883|\n",
      "|2009|  12|           CONSULTAS|       null|              6624|               40026|\n",
      "|2009|   9|           URGENCIAS|       null|               691|                4115|\n",
      "|2009|   4|           URGENCIAS|  MASCULINO|             16054|              137586|\n",
      "|2009|   4|           CONSULTAS|  MASCULINO|            419628|             2836193|\n",
      "|2009|   2|           CONSULTAS|   FEMENINO|            564026|             4987959|\n",
      "|2009|   6|   HOSPITALIZACIONES|  MASCULINO|              6459|              116081|\n",
      "|2009|  11|PROCEDIMIENTOS DE...|  MASCULINO|            191434|             1537020|\n",
      "|2009|   8|PROCEDIMIENTOS DE...|  MASCULINO|            159500|             1638379|\n",
      "|2009|   3|PROCEDIMIENTOS DE...|       null|              2663|               30748|\n",
      "|2009|   7|           URGENCIAS|       null|               654|                4319|\n",
      "|2009|   5|PROCEDIMIENTOS DE...|NO DEFINIDO|                14|                  66|\n",
      "|2009|   5|           CONSULTAS|       null|              8592|               54736|\n",
      "|2009|   1|           URGENCIAS|   FEMENINO|             18883|              181911|\n",
      "|2009|   9|           CONSULTAS|   FEMENINO|            575960|             5839165|\n",
      "|2009|   5|PROCEDIMIENTOS DE...|  MASCULINO|            152772|             1514079|\n",
      "|2009|   4|           URGENCIAS|   FEMENINO|             17198|              199032|\n",
      "|2009|  10|           URGENCIAS|   FEMENINO|             23652|              240903|\n",
      "|2009|   8|   HOSPITALIZACIONES|   FEMENINO|             10247|              225159|\n",
      "|2009|   3|   HOSPITALIZACIONES|  MASCULINO|              6967|              119363|\n",
      "|2009|   7|           CONSULTAS|       null|              9606|               57118|\n",
      "|2009|   1|PROCEDIMIENTOS DE...|  MASCULINO|            164677|             1494102|\n",
      "|2009|  11|   HOSPITALIZACIONES|   FEMENINO|             14164|              234127|\n",
      "|2009|   1|   HOSPITALIZACIONES|       null|                98|                 735|\n",
      "|2009|   6|PROCEDIMIENTOS DE...|NO DEFINIDO|                17|                  46|\n",
      "|2009|   3|           CONSULTAS|NO DEFINIDO|                30|                 103|\n",
      "|2009|   2|   HOSPITALIZACIONES|       null|                75|                 997|\n",
      "|2009|   8|           URGENCIAS|NO DEFINIDO|                12|                  32|\n",
      "|2009|   7|           URGENCIAS|NO DEFINIDO|                10|                  21|\n",
      "|2009|   3|PROCEDIMIENTOS DE...|NO DEFINIDO|                25|                  99|\n",
      "|2009|   8|           CONSULTAS|NO DEFINIDO|                36|                 140|\n",
      "|2009|  12|           CONSULTAS|NO DEFINIDO|                21|                  55|\n",
      "|2009|   8|   HOSPITALIZACIONES|NO DEFINIDO|                 2|                   3|\n",
      "|2009|   1|           URGENCIAS|NO DEFINIDO|                 7|                  11|\n",
      "|2009|   2|PROCEDIMIENTOS DE...|NO DEFINIDO|                12|                  41|\n",
      "|2009|   9|           URGENCIAS|NO DEFINIDO|                 6|                  16|\n",
      "|2009|   5|           URGENCIAS|NO DEFINIDO|                 8|                  10|\n",
      "|2009|   6|           URGENCIAS|NO DEFINIDO|                 8|                  38|\n",
      "|2009|   9|PROCEDIMIENTOS DE...|NO DEFINIDO|                16|                  61|\n",
      "|2009|   7|           CONSULTAS|NO DEFINIDO|                26|                 143|\n",
      "|2009|  11|   HOSPITALIZACIONES|NO DEFINIDO|                 4|                  15|\n",
      "|null|null|                null|       null|                 2|                   2|\n",
      "|2009|   6|   HOSPITALIZACIONES|NO DEFINIDO|                 2|                   5|\n",
      "|2009|   2|           URGENCIAS|   FEMENINO|             15429|              164587|\n",
      "|2009|   8|           URGENCIAS|   FEMENINO|             26989|              278290|\n",
      "|2009|   5|           URGENCIAS|       null|               574|                3894|\n",
      "|2009|   8|           CONSULTAS|       null|              8599|               52559|\n",
      "|2009|   5|   HOSPITALIZACIONES|  MASCULINO|              6435|              118608|\n",
      "|2009|   7|PROCEDIMIENTOS DE...|       null|              2790|               24466|\n",
      "|2009|   9|           CONSULTAS|  MASCULINO|            451296|             3040243|\n",
      "|2009|   6|           CONSULTAS|  MASCULINO|            404193|             2742801|\n",
      "|2009|   2|           URGENCIAS|  MASCULINO|             14041|              110964|\n",
      "|2009|   5|           CONSULTAS|  MASCULINO|            423427|             2844067|\n",
      "|2009|   5|PROCEDIMIENTOS DE...|   FEMENINO|            233609|             2751793|\n",
      "|2009|  11|   HOSPITALIZACIONES|  MASCULINO|              9671|              129507|\n",
      "|2009|  12|PROCEDIMIENTOS DE...|       null|              3204|               22952|\n",
      "|2009|   1|   HOSPITALIZACIONES|  MASCULINO|              7939|              101071|\n",
      "|2009|   7|PROCEDIMIENTOS DE...|   FEMENINO|            269760|             3147500|\n",
      "|2009|  10|           URGENCIAS|       null|               506|                3032|\n",
      "|2009|  12|           CONSULTAS|   FEMENINO|            469030|             4067781|\n",
      "+----+----+--------------------+-----------+------------------+--------------------+\n",
      "only showing top 100 rows\n",
      "\n",
      "Nombres de las columnas agrupadas:\n",
      "['Año', 'Mes', 'tipoeventoripsdesc', 'sexodesc', 'Número_de_Personas', 'Número_de_Atenciones']\n"
     ]
    }
   ],
   "source": [
    "# Seleccionar solo las columnas deseadas\n",
    "columns_to_keep = [\n",
    "    'personaid', 'codigoprocedimiento', 'tipoeventoripsdesc', 'fechaid',\n",
    "    'sexodesc', 'tipodiagnosticoprincipalcd', 'edad', 'dxegreso', 'dxprincipal', 'municipiocd', 'personaid_count'\n",
    "]\n",
    "df_filtered = df2.select(*columns_to_keep)\n",
    "\n",
    "# Convertir 'fechaid' a tipo fecha si es necesario\n",
    "df_filtered = df_filtered.withColumn('fechaid', F.to_date('fechaid', 'yyyyMMdd'))\n",
    "\n",
    "# Extraer año y mes de la columna 'fechaid'\n",
    "df_filtered = df_filtered.withColumn('Año', F.year('fechaid'))\n",
    "df_filtered = df_filtered.withColumn('Mes', F.month('fechaid'))\n",
    "\n",
    "# Agrupar por año, mes y codigoprocedimiento\n",
    "result_df = df_filtered.groupBy('Año', 'Mes', 'tipoeventoripsdesc','sexodesc').agg(\n",
    "    F.countDistinct('personaid').alias('Número_de_Personas'),\n",
    "    F.sum('personaid_count').alias('Número_de_Atenciones')\n",
    ")\n",
    "\n",
    "# Mostrar los resultados\n",
    "result_df.show(100)\n",
    "\n",
    "# Imprimir los nombres de las columnas agrupadas para verificar\n",
    "print(\"Nombres de las columnas agrupadas:\")\n",
    "print(result_df.columns)"
   ]
  },
  {
   "cell_type": "markdown",
   "id": "f77a9118",
   "metadata": {},
   "source": []
  },
  {
   "cell_type": "code",
   "execution_count": 399,
   "id": "45142e0d",
   "metadata": {},
   "outputs": [
    {
     "name": "stderr",
     "output_type": "stream",
     "text": [
      "                                                                                \r"
     ]
    }
   ],
   "source": [
    "#se escribe el parquet tabla 9\n",
    "result_df.write.parquet(\"hdfs:/analyticsdata/9.Tabla_anio_mes_tipoeventoripsdesc_sexo_2009.parquet\") "
   ]
  },
  {
   "cell_type": "markdown",
   "id": "74085f74",
   "metadata": {},
   "source": [
    "se comprueba que el archivo quedo guardado correctamente al leerlo "
   ]
  },
  {
   "cell_type": "code",
   "execution_count": 400,
   "id": "28d341b1",
   "metadata": {},
   "outputs": [
    {
     "name": "stdout",
     "output_type": "stream",
     "text": [
      "+----+---+--------------------+---------+------------------+--------------------+\n",
      "| Año|Mes|  tipoeventoripsdesc| sexodesc|Número_de_Personas|Número_de_Atenciones|\n",
      "+----+---+--------------------+---------+------------------+--------------------+\n",
      "|2009|  2|           URGENCIAS| FEMENINO|             15554|              172547|\n",
      "|2009|  8|           URGENCIAS| FEMENINO|             26694|              279334|\n",
      "|2009|  5|           URGENCIAS|     null|               572|                3990|\n",
      "|2009|  8|           CONSULTAS|     null|              8542|               53237|\n",
      "|2009|  5|   HOSPITALIZACIONES|MASCULINO|              6336|              112052|\n",
      "|2009|  7|PROCEDIMIENTOS DE...|     null|              2849|               25528|\n",
      "|2009|  6|           CONSULTAS|MASCULINO|            404998|             2686651|\n",
      "|2009|  9|           CONSULTAS|MASCULINO|            453228|             3028436|\n",
      "|2009|  2|           URGENCIAS|MASCULINO|             14054|              109938|\n",
      "|2009|  5|           CONSULTAS|MASCULINO|            423619|             2841650|\n",
      "|2009|  5|PROCEDIMIENTOS DE...| FEMENINO|            233582|             2740659|\n",
      "|2009| 11|   HOSPITALIZACIONES|MASCULINO|              9530|              122711|\n",
      "|2009| 12|PROCEDIMIENTOS DE...|     null|              3226|               24279|\n",
      "|2009|  1|   HOSPITALIZACIONES|MASCULINO|              7706|               97452|\n",
      "|2009|  7|PROCEDIMIENTOS DE...| FEMENINO|            269856|             3166354|\n",
      "|2009| 10|           URGENCIAS|     null|               490|                2755|\n",
      "|2009| 12|           CONSULTAS| FEMENINO|            470301|             4059189|\n",
      "|2009|  5|           URGENCIAS| FEMENINO|             21024|              241584|\n",
      "|2009| 12|           CONSULTAS|MASCULINO|            337535|             2207434|\n",
      "|2009| 10|           CONSULTAS|     null|              6837|               42054|\n",
      "+----+---+--------------------+---------+------------------+--------------------+\n",
      "only showing top 20 rows\n",
      "\n"
     ]
    }
   ],
   "source": [
    "# Leer el archivo .parquet y se guarda en un DataFrame\n",
    "df_leer = spark.read.parquet(\"hdfs:/analyticsdata/9.Tabla_anio_mes_tipoeventoripsdesc_sexo_2009.parquet\")\n",
    "\n",
    "# Mostrar el contenido del DataFrame\n",
    "df_leer.show()"
   ]
  },
  {
   "cell_type": "markdown",
   "id": "a81d1def",
   "metadata": {},
   "source": [
    "# 10. Agrupado por año, mes, edad"
   ]
  },
  {
   "cell_type": "code",
   "execution_count": 159,
   "id": "1abf03a7",
   "metadata": {},
   "outputs": [
    {
     "name": "stderr",
     "output_type": "stream",
     "text": [
      "[Stage 30:=====================================================>(165 + 2) / 167]\r"
     ]
    },
    {
     "name": "stdout",
     "output_type": "stream",
     "text": [
      "+----+---+----+------------------+--------------------+\n",
      "| Año|Mes|edad|Número_de_Personas|Número_de_Atenciones|\n",
      "+----+---+----+------------------+--------------------+\n",
      "|2009| 12|  70|              6501|              122350|\n",
      "|2009|  5|  45|             17622|              179847|\n",
      "|2009| 11|  17|             23800|              159102|\n",
      "|2009|  3|   7|             32862|              160898|\n",
      "|2009|  9|  15|             27475|              171311|\n",
      "|2009|  6|  24|             23869|              213453|\n",
      "|2009|  9|  35|             21144|              179983|\n",
      "|2009|  1|  31|             24376|              195595|\n",
      "|2009| 11|  49|             13960|              134344|\n",
      "|2009| 11| 102|                15|                 197|\n",
      "|2009|  6|  62|              7645|              110101|\n",
      "|2009|  6|  83|              2020|               40296|\n",
      "|2009|  2|  28|             26491|              226861|\n",
      "|2009|  4|  20|             21433|              191275|\n",
      "|2009| 11|  71|              5535|              192626|\n",
      "|2009|  4|  78|              3488|               68280|\n",
      "|2009| 11|  15|             21529|              135998|\n",
      "|2009|  2|  81|              2891|               47260|\n",
      "|2009| 10|  68|              5593|               92176|\n",
      "|2009|  3|  25|             27313|              230069|\n",
      "|2009|  9|  50|             15893|              185980|\n",
      "|2009|  6|   2|             30487|              234736|\n",
      "|2009| 12|  94|               255|                3910|\n",
      "|2009| 11|  46|             15225|              138803|\n",
      "|2009|  3|  88|              1050|               18306|\n",
      "|2009| 10|  72|              4681|               73338|\n",
      "|2009| 12|  93|               383|                5479|\n",
      "|2009|  6|  50|             13983|              160533|\n",
      "|2009|  9|  65|              7082|              110468|\n",
      "|2009|  2|  60|              9384|              140719|\n",
      "|2009|  9|  39|             20446|              171895|\n",
      "|2009|  9|  41|             19547|              170081|\n",
      "|2009|  4|  12|             24140|              140606|\n",
      "|2009|  4|  23|             23681|              214753|\n",
      "|2009|  4|  86|              1285|               22765|\n",
      "|2009|  8|   8|             30704|              162414|\n",
      "|2009|  9|  44|             18971|              176974|\n",
      "|2009|  2|  73|              4991|               80572|\n",
      "|2009|  1|  77|              3987|               84536|\n",
      "|2009|  9|  49|             16229|              166927|\n",
      "|2009| 11|  28|             22294|              190096|\n",
      "|2009| 10|  24|             22723|              192398|\n",
      "|2009|  9|  98|                70|                 949|\n",
      "|2009|  4|  17|             27350|              191356|\n",
      "|2009|  8|   9|             27149|              147221|\n",
      "|2009|  2|  55|             11957|              141326|\n",
      "|2009|  7|   4|             32675|              223954|\n",
      "|2009|  1|  14|             24175|              130763|\n",
      "|2009| 12|  24|             22894|              185081|\n",
      "|2009| 12|  44|             15901|              137630|\n",
      "|2009|  9|  93|               278|                5859|\n",
      "|2009|  4|  36|             18379|              155755|\n",
      "|2009|  5|  81|              2803|               49343|\n",
      "|2009|  9|  31|             23963|              206004|\n",
      "|2009|  1|   4|             30960|              194480|\n",
      "|2009|  5|  16|             23766|              168834|\n",
      "|2009|  9|  18|             27717|              205132|\n",
      "|2009|  7|  86|              1444|               31436|\n",
      "|2009|  1|  30|             25898|              204360|\n",
      "|2009|  9|  91|               515|                8274|\n",
      "|2009|  2|   1|             41905|              358310|\n",
      "|2009|  7|  19|             25549|              217397|\n",
      "|2009| 12|  69|              6705|               96719|\n",
      "|2009| 12|   1|             30566|              292826|\n",
      "|2009| 12|  80|              3675|               66416|\n",
      "|2009| 11|   5|             26842|              177466|\n",
      "|2009|  3|  83|              2247|               39325|\n",
      "|2009| 11|  51|             13215|              134047|\n",
      "|2009|  6|  63|              7123|              106805|\n",
      "|2009|  9|  62|              8320|              122773|\n",
      "|2009|  3|  86|              1538|               26447|\n",
      "|2009|  8|  47|             15656|              167524|\n",
      "|2009|  5|  95|               145|                2180|\n",
      "|2009|  7|  71|              6048|               96393|\n",
      "|2009|  5|  89|               858|               15323|\n",
      "|2009|  3|  61|              9347|              122391|\n",
      "|2009| 12|  46|             15310|              134405|\n",
      "|2009|  7|  87|              1237|               20216|\n",
      "|2009|  1|  59|              9922|              124991|\n",
      "|2009|  1|  43|             19577|              166214|\n",
      "|2009|  2|   6|             27559|              150886|\n",
      "|2009|  2|  43|             18213|              152310|\n",
      "|2009|  6|  51|             12931|              147239|\n",
      "|2009|  3|  11|             28241|              154017|\n",
      "|2009|  3|   1|             43692|              386233|\n",
      "|2009|  7|  20|             25341|              230773|\n",
      "|2009|  7|  76|              4616|               77989|\n",
      "|2009|  1|  15|             23737|              135932|\n",
      "|2009| 10|  13|             21681|              123442|\n",
      "|2009|  8|  49|             14592|              156708|\n",
      "|2009|  6|  72|              4861|               77579|\n",
      "|2009| 10|  16|             22425|              148825|\n",
      "|2009|  2|  54|             12085|              130331|\n",
      "|2009|  1|  51|             14882|              161069|\n",
      "|2009|  5|  50|             14241|              165254|\n",
      "|2009|  8|  41|             17583|              155233|\n",
      "|2009|  5|  65|              7011|              105407|\n",
      "|2009|  4|  91|               503|                8353|\n",
      "|2009|  7|  60|             10188|              141480|\n",
      "|2009|  5|  12|             25245|              145926|\n",
      "+----+---+----+------------------+--------------------+\n",
      "only showing top 100 rows\n",
      "\n",
      "Nombres de las columnas agrupadas:\n",
      "['Año', 'Mes', 'edad', 'Número_de_Personas', 'Número_de_Atenciones']\n"
     ]
    },
    {
     "name": "stderr",
     "output_type": "stream",
     "text": [
      "\r",
      "                                                                                \r"
     ]
    }
   ],
   "source": [
    "# Seleccionar solo las columnas deseadas\n",
    "columns_to_keep = [\n",
    "    'personaid', 'codigoprocedimiento', 'tipoeventoripsdesc', 'fechaid',\n",
    "    'sexodesc', 'tipodiagnosticoprincipalcd', 'edad', 'dxegreso', 'dxprincipal', 'municipiocd', 'personaid_count'\n",
    "]\n",
    "df_filtered = df2.select(*columns_to_keep)\n",
    "\n",
    "# Convertir 'fechaid' a tipo fecha si es necesario\n",
    "df_filtered = df_filtered.withColumn('fechaid', F.to_date('fechaid', 'yyyyMMdd'))\n",
    "\n",
    "# Extraer año y mes de la columna 'fechaid'\n",
    "df_filtered = df_filtered.withColumn('Año', F.year('fechaid'))\n",
    "df_filtered = df_filtered.withColumn('Mes', F.month('fechaid'))\n",
    "\n",
    "# Agrupar por año, mes y codigoprocedimiento\n",
    "result_df = df_filtered.groupBy('Año', 'Mes', 'edad').agg(\n",
    "    F.countDistinct('personaid').alias('Número_de_Personas'),\n",
    "    F.sum('personaid_count').alias('Número_de_Atenciones')\n",
    ")\n",
    "\n",
    "# Mostrar los resultados\n",
    "result_df.show(100)\n",
    "\n",
    "# Imprimir los nombres de las columnas agrupadas para verificar\n",
    "print(\"Nombres de las columnas agrupadas:\")\n",
    "print(result_df.columns)"
   ]
  },
  {
   "cell_type": "code",
   "execution_count": 161,
   "id": "08f61868",
   "metadata": {},
   "outputs": [
    {
     "name": "stderr",
     "output_type": "stream",
     "text": [
      "[Stage 42:===================================================>  (158 + 9) / 167]\r"
     ]
    },
    {
     "ename": "AnalysisException",
     "evalue": "[PATH_ALREADY_EXISTS] Path hdfs://localhost:9000/analyticsdata/10.Tabla_anio_mes_edad_2009.parquet already exists. Set mode as \"overwrite\" to overwrite the existing path.",
     "output_type": "error",
     "traceback": [
      "\u001b[0;31m---------------------------------------------------------------------------\u001b[0m",
      "\u001b[0;31mAnalysisException\u001b[0m                         Traceback (most recent call last)",
      "Cell \u001b[0;32mIn[161], line 2\u001b[0m\n\u001b[1;32m      1\u001b[0m \u001b[38;5;66;03m#se escribe el parquet tabla 10\u001b[39;00m\n\u001b[0;32m----> 2\u001b[0m \u001b[43mresult_df\u001b[49m\u001b[38;5;241;43m.\u001b[39;49m\u001b[43mwrite\u001b[49m\u001b[38;5;241;43m.\u001b[39;49m\u001b[43mparquet\u001b[49m\u001b[43m(\u001b[49m\u001b[38;5;124;43m\"\u001b[39;49m\u001b[38;5;124;43mhdfs:/analyticsdata/10.Tabla_anio_mes_edad_2009.parquet\u001b[39;49m\u001b[38;5;124;43m\"\u001b[39;49m\u001b[43m)\u001b[49m\n",
      "File \u001b[0;32m~/miniconda3/envs/agora_python/lib/python3.9/site-packages/pyspark/sql/readwriter.py:1721\u001b[0m, in \u001b[0;36mDataFrameWriter.parquet\u001b[0;34m(self, path, mode, partitionBy, compression)\u001b[0m\n\u001b[1;32m   1719\u001b[0m     \u001b[38;5;28mself\u001b[39m\u001b[38;5;241m.\u001b[39mpartitionBy(partitionBy)\n\u001b[1;32m   1720\u001b[0m \u001b[38;5;28mself\u001b[39m\u001b[38;5;241m.\u001b[39m_set_opts(compression\u001b[38;5;241m=\u001b[39mcompression)\n\u001b[0;32m-> 1721\u001b[0m \u001b[38;5;28;43mself\u001b[39;49m\u001b[38;5;241;43m.\u001b[39;49m\u001b[43m_jwrite\u001b[49m\u001b[38;5;241;43m.\u001b[39;49m\u001b[43mparquet\u001b[49m\u001b[43m(\u001b[49m\u001b[43mpath\u001b[49m\u001b[43m)\u001b[49m\n",
      "File \u001b[0;32m~/miniconda3/envs/agora_python/lib/python3.9/site-packages/py4j/java_gateway.py:1322\u001b[0m, in \u001b[0;36mJavaMember.__call__\u001b[0;34m(self, *args)\u001b[0m\n\u001b[1;32m   1316\u001b[0m command \u001b[38;5;241m=\u001b[39m proto\u001b[38;5;241m.\u001b[39mCALL_COMMAND_NAME \u001b[38;5;241m+\u001b[39m\\\n\u001b[1;32m   1317\u001b[0m     \u001b[38;5;28mself\u001b[39m\u001b[38;5;241m.\u001b[39mcommand_header \u001b[38;5;241m+\u001b[39m\\\n\u001b[1;32m   1318\u001b[0m     args_command \u001b[38;5;241m+\u001b[39m\\\n\u001b[1;32m   1319\u001b[0m     proto\u001b[38;5;241m.\u001b[39mEND_COMMAND_PART\n\u001b[1;32m   1321\u001b[0m answer \u001b[38;5;241m=\u001b[39m \u001b[38;5;28mself\u001b[39m\u001b[38;5;241m.\u001b[39mgateway_client\u001b[38;5;241m.\u001b[39msend_command(command)\n\u001b[0;32m-> 1322\u001b[0m return_value \u001b[38;5;241m=\u001b[39m \u001b[43mget_return_value\u001b[49m\u001b[43m(\u001b[49m\n\u001b[1;32m   1323\u001b[0m \u001b[43m    \u001b[49m\u001b[43manswer\u001b[49m\u001b[43m,\u001b[49m\u001b[43m \u001b[49m\u001b[38;5;28;43mself\u001b[39;49m\u001b[38;5;241;43m.\u001b[39;49m\u001b[43mgateway_client\u001b[49m\u001b[43m,\u001b[49m\u001b[43m \u001b[49m\u001b[38;5;28;43mself\u001b[39;49m\u001b[38;5;241;43m.\u001b[39;49m\u001b[43mtarget_id\u001b[49m\u001b[43m,\u001b[49m\u001b[43m \u001b[49m\u001b[38;5;28;43mself\u001b[39;49m\u001b[38;5;241;43m.\u001b[39;49m\u001b[43mname\u001b[49m\u001b[43m)\u001b[49m\n\u001b[1;32m   1325\u001b[0m \u001b[38;5;28;01mfor\u001b[39;00m temp_arg \u001b[38;5;129;01min\u001b[39;00m temp_args:\n\u001b[1;32m   1326\u001b[0m     \u001b[38;5;28;01mif\u001b[39;00m \u001b[38;5;28mhasattr\u001b[39m(temp_arg, \u001b[38;5;124m\"\u001b[39m\u001b[38;5;124m_detach\u001b[39m\u001b[38;5;124m\"\u001b[39m):\n",
      "File \u001b[0;32m~/miniconda3/envs/agora_python/lib/python3.9/site-packages/pyspark/errors/exceptions/captured.py:185\u001b[0m, in \u001b[0;36mcapture_sql_exception.<locals>.deco\u001b[0;34m(*a, **kw)\u001b[0m\n\u001b[1;32m    181\u001b[0m converted \u001b[38;5;241m=\u001b[39m convert_exception(e\u001b[38;5;241m.\u001b[39mjava_exception)\n\u001b[1;32m    182\u001b[0m \u001b[38;5;28;01mif\u001b[39;00m \u001b[38;5;129;01mnot\u001b[39;00m \u001b[38;5;28misinstance\u001b[39m(converted, UnknownException):\n\u001b[1;32m    183\u001b[0m     \u001b[38;5;66;03m# Hide where the exception came from that shows a non-Pythonic\u001b[39;00m\n\u001b[1;32m    184\u001b[0m     \u001b[38;5;66;03m# JVM exception message.\u001b[39;00m\n\u001b[0;32m--> 185\u001b[0m     \u001b[38;5;28;01mraise\u001b[39;00m converted \u001b[38;5;28;01mfrom\u001b[39;00m \u001b[38;5;28;01mNone\u001b[39;00m\n\u001b[1;32m    186\u001b[0m \u001b[38;5;28;01melse\u001b[39;00m:\n\u001b[1;32m    187\u001b[0m     \u001b[38;5;28;01mraise\u001b[39;00m\n",
      "\u001b[0;31mAnalysisException\u001b[0m: [PATH_ALREADY_EXISTS] Path hdfs://localhost:9000/analyticsdata/10.Tabla_anio_mes_edad_2009.parquet already exists. Set mode as \"overwrite\" to overwrite the existing path."
     ]
    }
   ],
   "source": [
    "#se escribe el parquet tabla 10\n",
    "result_df.write.parquet(\"hdfs:/analyticsdata/10.Tabla_anio_mes_edad_2009.parquet\") "
   ]
  },
  {
   "cell_type": "markdown",
   "id": "5a7a8750",
   "metadata": {},
   "source": [
    "# 11. Agrupado por año, mes, municipiocd, tipoeventoripsdesc, dxprincipal, sexodesc, edad"
   ]
  },
  {
   "cell_type": "code",
   "execution_count": 179,
   "id": "60812d14",
   "metadata": {},
   "outputs": [
    {
     "name": "stderr",
     "output_type": "stream",
     "text": [
      "[Stage 30:=====================================================>(166 + 1) / 167]\r"
     ]
    },
    {
     "name": "stdout",
     "output_type": "stream",
     "text": [
      "+----+---+-----------+--------------------+-----------+---------+----+------------------+--------------------+\n",
      "| Año|Mes|municipiocd|  tipoeventoripsdesc|dxprincipal| sexodesc|edad|Número_de_Personas|Número_de_Atenciones|\n",
      "+----+---+-----------+--------------------+-----------+---------+----+------------------+--------------------+\n",
      "|2009| 10|      05088|PROCEDIMIENTOS DE...|       D649| FEMENINO|  12|                 1|                   1|\n",
      "|2009| 10|      73671|PROCEDIMIENTOS DE...|          1| FEMENINO|  48|                 2|                  18|\n",
      "|2009|  1|      17380|PROCEDIMIENTOS DE...|       M255|MASCULINO|  66|                 1|                  17|\n",
      "|2009|  7|      13836|           CONSULTAS|       N309| FEMENINO|  30|                 1|                   4|\n",
      "|2009|  4|      25473|           CONSULTAS|       L989|MASCULINO|  25|                 1|                   1|\n",
      "|2009|  7|      11001|           CONSULTAS|       Z000|MASCULINO|  41|                44|                 267|\n",
      "|2009|  1|      05042|   HOSPITALIZACIONES|       S820|MASCULINO|  28|                 1|                   2|\n",
      "|2009|  5|      66001|           CONSULTAS|       K021|MASCULINO|  36|                 4|                  92|\n",
      "|2009| 11|      19532|PROCEDIMIENTOS DE...|       K021| FEMENINO|   6|                 1|                  13|\n",
      "|2009|  4|      15469|           CONSULTAS|       H110|MASCULINO|  36|                 1|                   1|\n",
      "|2009|  9|      11001|           URGENCIAS|       N390| FEMENINO|  12|                 3|                  12|\n",
      "|2009|  4|      41676|PROCEDIMIENTOS DE...|       K051| FEMENINO|  15|                 3|                  50|\n",
      "|2009|  2|      11001|           URGENCIAS|       R529| FEMENINO|  20|                 2|                  20|\n",
      "|2009|  1|      25307|           CONSULTAS|       A09X| FEMENINO|   0|                 2|                  25|\n",
      "|2009|  3|      76001|           CONSULTAS|       I10X| FEMENINO|  44|                18|                 358|\n",
      "|2009|  1|      52250|PROCEDIMIENTOS DE...|          1|MASCULINO|  54|                 1|                  18|\n",
      "|2009| 12|      11001|           CONSULTAS|       N390| FEMENINO|  71|                 3|                  46|\n",
      "|2009|  4|      05001|           CONSULTAS|       S332| FEMENINO|  80|                 1|                  43|\n",
      "|2009| 12|      11001|PROCEDIMIENTOS DE...|       Z124| FEMENINO|  35|                26|                 166|\n",
      "|2009|  5|      15469|           CONSULTAS|       J029|MASCULINO|   8|                 1|                   1|\n",
      "|2009| 10|      11001|           CONSULTAS|       H521| FEMENINO|  37|                 9|                  39|\n",
      "|2009|  5|      11001|           CONSULTAS|       H110|MASCULINO|  48|                 8|                  44|\n",
      "|2009|  6|      76001|           URGENCIAS|       J069|MASCULINO|  42|                 1|                  16|\n",
      "|2009|  4|      23417|PROCEDIMIENTOS DE...|          1|MASCULINO|  37|                 6|                  26|\n",
      "|2009|  9|      05001|           CONSULTAS|       L021| FEMENINO|  18|                 1|                   2|\n",
      "|2009|  1|      27050|           CONSULTAS|       Z003| FEMENINO|  25|                 1|                   3|\n",
      "|2009|  3|      18001|           CONSULTAS|       I10X| FEMENINO|  36|                 1|                   2|\n",
      "|2009|  6|      68077|           CONSULTAS|       B171| FEMENINO|  19|                 1|                   4|\n",
      "|2009|  5|      11001|           CONSULTAS|       R739|MASCULINO|  65|                 1|                   5|\n",
      "|2009| 11|      66594|           CONSULTAS|       A09X|MASCULINO|  32|                 1|                   9|\n",
      "|2009|  4|      76001|           CONSULTAS|       K028| FEMENINO|  28|                 1|                   1|\n",
      "|2009| 12|      11001|           CONSULTAS|       Z000| FEMENINO|  39|                52|                 555|\n",
      "|2009|  4|      05001|           CONSULTAS|       K051|MASCULINO|   7|                14|                  58|\n",
      "|2009|  9|      52079|           URGENCIAS|       N390| FEMENINO|   9|                 1|                  15|\n",
      "|2009| 12|      05579|PROCEDIMIENTOS DE...|       J449|MASCULINO|  67|                 1|                  22|\n",
      "|2009|  6|      52835|           CONSULTAS|       L97X|MASCULINO|  32|                 1|                   2|\n",
      "|2009| 11|      08001|           CONSULTAS|       Z762|MASCULINO|   4|                14|                  69|\n",
      "|2009|  3|      25799|           CONSULTAS|       E149| FEMENINO|  40|                 1|                  13|\n",
      "|2009|  8|      15106|PROCEDIMIENTOS DE...|          1| FEMENINO|  13|                 3|                  42|\n",
      "|2009|  3|      41807|           CONSULTAS|       Z002|MASCULINO|   8|                 2|                  15|\n",
      "|2009| 12|      25175|           CONSULTAS|       I10X|MASCULINO|  50|                 1|                  14|\n",
      "|2009| 11|      05088|PROCEDIMIENTOS DE...|       K051| FEMENINO|  45|                 2|                  14|\n",
      "|2009|  3|      73001|PROCEDIMIENTOS DE...|       Z124| FEMENINO|  51|                 2|                  30|\n",
      "|2009| 11|      11001|           CONSULTAS|       I10X| FEMENINO|  69|               103|                1300|\n",
      "|2009| 10|      25175|PROCEDIMIENTOS DE...|       Z712| FEMENINO|  44|                 1|                   9|\n",
      "|2009|  7|      25754|           CONSULTAS|       H103|MASCULINO|  16|                 1|                   2|\n",
      "|2009|  1|      11001|           CONSULTAS|       R51X| FEMENINO|  22|                48|                 488|\n",
      "|2009| 12|      76001|PROCEDIMIENTOS DE...|          1| FEMENINO|   3|                22|                 285|\n",
      "|2009|  3|      63001|PROCEDIMIENTOS DE...|       Z012|MASCULINO|  21|                 1|                   1|\n",
      "|2009|  8|      76520|           CONSULTAS|       L028| FEMENINO|  16|                 1|                   4|\n",
      "|2009| 12|      76001|PROCEDIMIENTOS DE...|       Z304| FEMENINO|  16|                 1|                   8|\n",
      "|2009|  2|      08001|           CONSULTAS|       M796|MASCULINO|  50|                 1|                   1|\n",
      "|2009|  5|      68385|PROCEDIMIENTOS DE...|          1| FEMENINO|  54|                 3|                  10|\n",
      "|2009| 11|      15759|           CONSULTAS|       J00X| FEMENINO|   3|                 2|                  27|\n",
      "|2009|  5|      18205|           CONSULTAS|       Z000|MASCULINO|  39|                 1|                   1|\n",
      "|2009| 11|      13001|           CONSULTAS|       R060|MASCULINO|  46|                 3|                  22|\n",
      "|2009|  2|      76895|           CONSULTAS|       I10X|MASCULINO|  64|                 2|                   6|\n",
      "|2009|  1|      50001|           CONSULTAS|       H619|MASCULINO|  49|                 1|                   3|\n",
      "|2009|  1|      76497|           CONSULTAS|       K297| FEMENINO|  12|                 1|                   4|\n",
      "|2009|  1|      05837|           CONSULTAS|       Z000|MASCULINO|  28|                 3|                  17|\n",
      "|2009|  4|      23660|           CONSULTAS|       M791|MASCULINO|  35|                 1|                   6|\n",
      "|2009|  6|      05001|           URGENCIAS|       R101| FEMENINO|  43|                 1|                  16|\n",
      "|2009| 11|      18001|PROCEDIMIENTOS DE...|          1|MASCULINO|  72|                 1|                   1|\n",
      "|2009|  9|      11001|           CONSULTAS|       Z094| FEMENINO|   3|                 1|                   6|\n",
      "|2009|  6|      05001|           CONSULTAS|       J039| FEMENINO|  24|                 9|                  32|\n",
      "|2009|  4|      54001|           CONSULTAS|       M545| FEMENINO|  43|                 7|                  73|\n",
      "|2009|  9|      73148|           CONSULTAS|       H000| FEMENINO|  27|                 1|                   5|\n",
      "|2009| 10|      11001|           CONSULTAS|       I10X| FEMENINO|  84|                30|                 355|\n",
      "|2009|  1|      52399|           CONSULTAS|       I10X| FEMENINO|  86|                 1|                   1|\n",
      "|2009|  7|      76130|PROCEDIMIENTOS DE...|          1|MASCULINO|  11|                 4|                  30|\n",
      "|2009|  4|      76001|PROCEDIMIENTOS DE...|          1| FEMENINO|  91|                 2|                  49|\n",
      "|2009|  4|      47245|           CONSULTAS|       Z000|MASCULINO|  16|                 1|                   2|\n",
      "|2009| 12|      11001|           CONSULTAS|       L089| FEMENINO|  25|                 1|                   9|\n",
      "|2009|  8|      11001|           CONSULTAS|       M545|MASCULINO|  41|                30|                 117|\n",
      "|2009|  1|      68001|           CONSULTAS|       B348|MASCULINO|  28|                 1|                   4|\n",
      "|2009|  1|      11001|           CONSULTAS|       J441|MASCULINO|  92|                 1|                   2|\n",
      "|2009| 11|      05045|           CONSULTAS|       I831| FEMENINO|  53|                 1|                  25|\n",
      "|2009|  2|      25899|           CONSULTAS|       K040|MASCULINO|  66|                 1|                  10|\n",
      "|2009| 12|      19397|           CONSULTAS|       Z000|MASCULINO|  20|                10|                  28|\n",
      "|2009|  3|      11001|           CONSULTAS|       H522| FEMENINO|  28|                51|                 475|\n",
      "|2009|  3|      05088|           CONSULTAS|       J209|MASCULINO|  84|                 1|                  16|\n",
      "|2009|  7|      05129|           CONSULTAS|       R69X| FEMENINO|  59|                13|                 303|\n",
      "|2009|  3|      54001|           CONSULTAS|       C448|MASCULINO|  23|                 1|                   9|\n",
      "|2009|  6|      08001|PROCEDIMIENTOS DE...|       R104| FEMENINO|  45|                 1|                  27|\n",
      "|2009|  8|      13001|           CONSULTAS|       K30X| FEMENINO|  50|                 2|                   2|\n",
      "|2009|  8|      54001|           CONSULTAS|       Z001|MASCULINO|   3|                81|                 419|\n",
      "|2009|  1|      05001|           CONSULTAS|       Z961|MASCULINO|  76|                 1|                  35|\n",
      "|2009|  6|      66001|           CONSULTAS|       G430| FEMENINO|  35|                 1|                   5|\n",
      "|2009|  6|      05001|PROCEDIMIENTOS DE...|       Z768| FEMENINO|  36|                15|                  98|\n",
      "|2009|  1|      66001|           CONSULTAS|       L309| FEMENINO|   6|                 3|                  22|\n",
      "|2009|  2|      76147|           CONSULTAS|       Z000| FEMENINO|  17|                 7|                  37|\n",
      "|2009| 11|      11001|           CONSULTAS|       N912| FEMENINO|  32|                13|                 118|\n",
      "|2009| 11|      05088|PROCEDIMIENTOS DE...|          1|MASCULINO|   5|                 7|                  37|\n",
      "|2009| 10|      11001|           CONSULTAS|       K297| FEMENINO|  49|                16|                 151|\n",
      "|2009|  4|      68001|PROCEDIMIENTOS DE...|          1| FEMENINO|  60|                32|                 792|\n",
      "|2009|  9|      11001|PROCEDIMIENTOS DE...|       E119| FEMENINO|  52|                 3|                  48|\n",
      "|2009|  6|      25290|           CONSULTAS|       Z000| FEMENINO|  39|                 2|                  61|\n",
      "|2009|  2|      05001|           CONSULTAS|       Z718| FEMENINO|   5|                 2|                   4|\n",
      "|2009| 11|      05001|PROCEDIMIENTOS DE...|       K297|MASCULINO|  38|                 1|                  12|\n",
      "|2009|  3|      47001|           CONSULTAS|       Z300| FEMENINO|  30|                13|                 140|\n",
      "+----+---+-----------+--------------------+-----------+---------+----+------------------+--------------------+\n",
      "only showing top 100 rows\n",
      "\n",
      "Nombres de las columnas agrupadas:\n",
      "['Año', 'Mes', 'municipiocd', 'tipoeventoripsdesc', 'dxprincipal', 'sexodesc', 'edad', 'Número_de_Personas', 'Número_de_Atenciones']\n"
     ]
    },
    {
     "name": "stderr",
     "output_type": "stream",
     "text": [
      "\r",
      "                                                                                \r"
     ]
    }
   ],
   "source": [
    "# Seleccionar solo las columnas deseadas\n",
    "columns_to_keep = [\n",
    "    'personaid', 'codigoprocedimiento', 'tipoeventoripsdesc', 'fechaid',\n",
    "    'sexodesc', 'tipodiagnosticoprincipalcd', 'edad', 'dxegreso', 'dxprincipal', 'municipiocd', 'personaid_count'\n",
    "]\n",
    "df_filtered = df2.select(*columns_to_keep)\n",
    "\n",
    "# Convertir 'fechaid' a tipo fecha si es necesario\n",
    "df_filtered = df_filtered.withColumn('fechaid', F.to_date('fechaid', 'yyyyMMdd'))\n",
    "\n",
    "# Extraer año y mes de la columna 'fechaid'\n",
    "df_filtered = df_filtered.withColumn('Año', F.year('fechaid'))\n",
    "df_filtered = df_filtered.withColumn('Mes', F.month('fechaid'))\n",
    "\n",
    "# Agrupar por año, mes y codigoprocedimiento\n",
    "result_df = df_filtered.groupBy('Año', 'Mes', 'municipiocd','tipoeventoripsdesc','dxprincipal','sexodesc','edad').agg(\n",
    "    F.countDistinct('personaid').alias('Número_de_Personas'),\n",
    "    F.sum('personaid_count').alias('Número_de_Atenciones')\n",
    ")\n",
    "\n",
    "# Mostrar los resultados\n",
    "result_df.show(100)\n",
    "\n",
    "# Imprimir los nombres de las columnas agrupadas para verificar\n",
    "print(\"Nombres de las columnas agrupadas:\")\n",
    "print(result_df.columns)"
   ]
  },
  {
   "cell_type": "code",
   "execution_count": 180,
   "id": "10fe5b86",
   "metadata": {},
   "outputs": [
    {
     "name": "stderr",
     "output_type": "stream",
     "text": [
      "                                                                                \r"
     ]
    }
   ],
   "source": [
    "#se escribe el parquet tabla 11\n",
    "result_df.write.parquet(\"hdfs:/analyticsdata/11.Tabla_anio_mes_municipio_tipoeventorips_dxprincipal_sexo_edad_2009.parquet\") "
   ]
  },
  {
   "cell_type": "markdown",
   "id": "89cdb1c2",
   "metadata": {},
   "source": [
    "# 12. Agrupado por año, mes, sexodesc, edad"
   ]
  },
  {
   "cell_type": "code",
   "execution_count": 181,
   "id": "63846ec7",
   "metadata": {},
   "outputs": [
    {
     "name": "stderr",
     "output_type": "stream",
     "text": [
      "[Stage 42:=====================================================>(166 + 1) / 167]\r"
     ]
    },
    {
     "name": "stdout",
     "output_type": "stream",
     "text": [
      "+----+---+---------+----+------------------+--------------------+\n",
      "| Año|Mes| sexodesc|edad|Número_de_Personas|Número_de_Atenciones|\n",
      "+----+---+---------+----+------------------+--------------------+\n",
      "|2009|  6|MASCULINO|  20|              7546|               42302|\n",
      "|2009|  9|MASCULINO|  89|               328|                4951|\n",
      "|2009|  8| FEMENINO|  88|               498|               59915|\n",
      "|2009|  8|MASCULINO|  85|               582|               11166|\n",
      "|2009| 12| FEMENINO|  95|               166|                2807|\n",
      "|2009|  9|MASCULINO|  64|              3107|               42802|\n",
      "|2009| 10|MASCULINO|  26|              8213|               44356|\n",
      "|2009| 11| FEMENINO|  55|              6751|               84164|\n",
      "|2009| 10| FEMENINO|  48|              8880|               91666|\n",
      "|2009|  6|MASCULINO|   4|             14321|              103509|\n",
      "|2009|  2| FEMENINO|  10|             12851|               71171|\n",
      "|2009|  4| FEMENINO|  75|              2557|               55621|\n",
      "|2009| 11| FEMENINO|  30|             13558|              133821|\n",
      "|2009|  2| FEMENINO|  69|              3599|               63596|\n",
      "|2009|  8|MASCULINO|  81|              1004|               18039|\n",
      "|2009|  9|MASCULINO|   6|             14565|               85298|\n",
      "|2009|  7| FEMENINO|   6|             14354|               82802|\n",
      "|2009|  3|     null|   7|              1178|                5664|\n",
      "|2009|  9| FEMENINO|  25|             16421|              186316|\n",
      "|2009|  5| FEMENINO|  80|              1806|               34537|\n",
      "|2009|  2| FEMENINO|  37|             12076|              110649|\n",
      "|2009|  4|MASCULINO|  54|              4295|               45406|\n",
      "|2009| 10| FEMENINO|  96|                72|                 780|\n",
      "|2009|  8| FEMENINO|   1|             15021|              148660|\n",
      "|2009| 10|MASCULINO|   3|             12900|               88321|\n",
      "|2009| 12| FEMENINO|   1|             14720|              132652|\n",
      "|2009|  3| FEMENINO|  21|             16116|              167487|\n",
      "|2009|  5| FEMENINO|   5|             14415|               95984|\n",
      "|2009|  7|MASCULINO|  47|              6928|               56724|\n",
      "|2009| 10|MASCULINO|   6|             12130|               68070|\n",
      "|2009|  4| FEMENINO|  15|             12819|               92312|\n",
      "|2009|  1| FEMENINO|  23|             17549|              166491|\n",
      "|2009|  2| FEMENINO|  33|             13070|              122483|\n",
      "|2009|  8|MASCULINO|  73|              1826|               27280|\n",
      "|2009|  5|MASCULINO|   6|             14571|               83716|\n",
      "|2009| 11|MASCULINO|  66|              2595|               32418|\n",
      "|2009|  3| FEMENINO|  46|             11663|              122565|\n",
      "|2009| 11| FEMENINO|  72|              3026|               45799|\n",
      "|2009|  8| FEMENINO|   3|             13193|              104079|\n",
      "|2009| 10| FEMENINO|  54|              6682|               80490|\n",
      "|2009|  9| FEMENINO|  94|               144|                2302|\n",
      "|2009|  6|MASCULINO|  14|             10874|               65226|\n",
      "|2009|  3| FEMENINO|  36|             12814|              117329|\n",
      "|2009|  8| FEMENINO|  80|              1630|               43394|\n",
      "|2009|  2| FEMENINO|  55|              7283|               91030|\n",
      "|2009|  4|MASCULINO|  85|               606|                9972|\n",
      "|2009|  6|MASCULINO|  91|               169|                3043|\n",
      "|2009|  2| FEMENINO|  35|             12319|              111477|\n",
      "|2009| 11| FEMENINO|  44|              9852|               93407|\n",
      "|2009|  3| FEMENINO|   1|             20777|              185103|\n",
      "|2009|  8|MASCULINO|  50|              5587|               59352|\n",
      "|2009|  6| FEMENINO|  51|              8000|              101248|\n",
      "|2009|  2| FEMENINO|  58|              5885|               72637|\n",
      "|2009|  9| FEMENINO|  14|             14706|               95506|\n",
      "|2009| 10|MASCULINO|  90|               282|                3792|\n",
      "|2009| 12|MASCULINO|  92|               185|                3198|\n",
      "|2009| 10| FEMENINO|  44|             10060|               97016|\n",
      "|2009|  5|MASCULINO|   3|             15426|              109215|\n",
      "|2009|  8|MASCULINO|  67|              2448|               35160|\n",
      "|2009| 12| FEMENINO|  79|              2450|               42719|\n",
      "|2009| 10| FEMENINO|  42|             10139|               92472|\n",
      "|2009|  4| FEMENINO|  53|              7411|               87459|\n",
      "|2009|  2|MASCULINO|  57|              4091|               41979|\n",
      "|2009|  3|MASCULINO|  55|              4955|               51719|\n",
      "|2009|  6|     null|   2|               819|                6302|\n",
      "|2009| 12| FEMENINO|  46|              9518|               92046|\n",
      "|2009|  4|MASCULINO|  59|              3655|               43118|\n",
      "|2009|  1|MASCULINO|   4|             15314|               96506|\n",
      "|2009| 12|MASCULINO|  28|              7885|               47017|\n",
      "|2009| 11| FEMENINO|  86|               782|               11905|\n",
      "|2009|  7| FEMENINO|  63|              4816|               76614|\n",
      "|2009|  1| FEMENINO|  91|               323|                5085|\n",
      "|2009|  4|MASCULINO|  15|             10687|               59179|\n",
      "|2009|  9| FEMENINO|  20|             15604|              174241|\n",
      "|2009| 12|MASCULINO|  49|              5417|               44598|\n",
      "|2009|  8|MASCULINO|  21|              7883|               47266|\n",
      "|2009|  4| FEMENINO|  36|             11318|              112169|\n",
      "|2009|  9|MASCULINO|  59|              4134|               48060|\n",
      "|2009|  5| FEMENINO|  11|             13104|               76521|\n",
      "|2009|  1|MASCULINO|  71|              2498|               36423|\n",
      "|2009|  9|MASCULINO|  74|              1816|               28835|\n",
      "|2009|  3| FEMENINO|  76|              2628|               41389|\n",
      "|2009| 10| FEMENINO|   2|             12139|               88577|\n",
      "|2009|  4|MASCULINO|  25|              8650|               46406|\n",
      "|2009|  9|MASCULINO|  24|              9897|               53268|\n",
      "|2009|  7|MASCULINO|  18|             11316|               53763|\n",
      "|2009|  4|     null|  12|               123|                 765|\n",
      "|2009|  7|MASCULINO|   4|             15911|              110685|\n",
      "|2009|  2|MASCULINO|  28|              9668|               62055|\n",
      "|2009| 12|MASCULINO|  24|              7997|               39935|\n",
      "|2009| 11|MASCULINO|  37|              6094|               38449|\n",
      "|2009| 10|MASCULINO|  19|              6917|               33433|\n",
      "|2009|  1| FEMENINO|  70|              3665|               56837|\n",
      "|2009|  8|MASCULINO|  23|              8601|               48083|\n",
      "|2009|  4| FEMENINO|   8|             12849|               70164|\n",
      "|2009|  7|MASCULINO|  78|              1564|               24771|\n",
      "|2009|  1| FEMENINO|  26|             17700|              173482|\n",
      "|2009| 10|MASCULINO|  41|              6369|               42303|\n",
      "|2009|  9|MASCULINO|  29|             10724|               61087|\n",
      "|2009|  2| FEMENINO|  65|              4001|               59214|\n",
      "+----+---+---------+----+------------------+--------------------+\n",
      "only showing top 100 rows\n",
      "\n",
      "Nombres de las columnas agrupadas:\n",
      "['Año', 'Mes', 'sexodesc', 'edad', 'Número_de_Personas', 'Número_de_Atenciones']\n"
     ]
    },
    {
     "name": "stderr",
     "output_type": "stream",
     "text": [
      "\r",
      "                                                                                \r"
     ]
    }
   ],
   "source": [
    "# Seleccionar solo las columnas deseadas\n",
    "columns_to_keep = [\n",
    "    'personaid', 'codigoprocedimiento', 'tipoeventoripsdesc', 'fechaid',\n",
    "    'sexodesc', 'tipodiagnosticoprincipalcd', 'edad', 'dxegreso', 'dxprincipal', 'municipiocd', 'personaid_count'\n",
    "]\n",
    "df_filtered = df2.select(*columns_to_keep)\n",
    "\n",
    "# Convertir 'fechaid' a tipo fecha si es necesario\n",
    "df_filtered = df_filtered.withColumn('fechaid', F.to_date('fechaid', 'yyyyMMdd'))\n",
    "\n",
    "# Extraer año y mes de la columna 'fechaid'\n",
    "df_filtered = df_filtered.withColumn('Año', F.year('fechaid'))\n",
    "df_filtered = df_filtered.withColumn('Mes', F.month('fechaid'))\n",
    "\n",
    "# Agrupar por año, mes y codigoprocedimiento\n",
    "result_df = df_filtered.groupBy('Año', 'Mes','sexodesc', 'edad').agg(\n",
    "    F.countDistinct('personaid').alias('Número_de_Personas'),\n",
    "    F.sum('personaid_count').alias('Número_de_Atenciones')\n",
    ")\n",
    "\n",
    "# Mostrar los resultados\n",
    "result_df.show(100)\n",
    "\n",
    "# Imprimir los nombres de las columnas agrupadas para verificar\n",
    "print(\"Nombres de las columnas agrupadas:\")\n",
    "print(result_df.columns)"
   ]
  },
  {
   "cell_type": "code",
   "execution_count": 182,
   "id": "04654d4e",
   "metadata": {},
   "outputs": [
    {
     "name": "stderr",
     "output_type": "stream",
     "text": [
      "                                                                                \r"
     ]
    }
   ],
   "source": [
    "#se escribe el parquet tabla 12\n",
    "result_df.write.parquet(\"hdfs:/analyticsdata/12.Tabla_anio_mes_sexo_edad_2009.parquet\") "
   ]
  },
  {
   "cell_type": "code",
   "execution_count": 183,
   "id": "303684e7",
   "metadata": {},
   "outputs": [],
   "source": [
    "spark.stop()"
   ]
  },
  {
   "cell_type": "code",
   "execution_count": null,
   "id": "de84a3d6",
   "metadata": {},
   "outputs": [],
   "source": []
  }
 ],
 "metadata": {
  "kernelspec": {
   "display_name": "Python 3 (ipykernel)",
   "language": "python",
   "name": "python3"
  },
  "language_info": {
   "codemirror_mode": {
    "name": "ipython",
    "version": 3
   },
   "file_extension": ".py",
   "mimetype": "text/x-python",
   "name": "python",
   "nbconvert_exporter": "python",
   "pygments_lexer": "ipython3",
   "version": "3.9.18"
  }
 },
 "nbformat": 4,
 "nbformat_minor": 5
}

{
 "cells": [
  {
   "cell_type": "markdown",
   "id": "3a8b3434",
   "metadata": {},
   "source": [
    "# TABLAS RIPS "
   ]
  },
  {
   "cell_type": "markdown",
   "id": "5e7ab853",
   "metadata": {},
   "source": [
    "## Carga de los datos"
   ]
  },
  {
   "cell_type": "markdown",
   "id": "dc2c512b",
   "metadata": {},
   "source": [
    "Este jupyter notebook esta generando las tablas sobre un año de la fuente de datos RIPS"
   ]
  },
  {
   "cell_type": "code",
   "execution_count": 1,
   "id": "c90bfc6f",
   "metadata": {
    "scrolled": true
   },
   "outputs": [
    {
     "name": "stderr",
     "output_type": "stream",
     "text": [
      "Setting default log level to \"WARN\".\n",
      "To adjust logging level use sc.setLogLevel(newLevel). For SparkR, use setLogLevel(newLevel).\n",
      "24/08/15 14:09:39 WARN NativeCodeLoader: Unable to load native-hadoop library for your platform... using builtin-java classes where applicable\n"
     ]
    }
   ],
   "source": [
    "from pyspark.sql import SparkSession\n",
    "\n",
    "# Crear una sesión de Spark\n",
    "spark = SparkSession.builder.appName(\"GeneraciónTablasRips_Todoslosdatos2022\").getOrCreate()"
   ]
  },
  {
   "cell_type": "code",
   "execution_count": null,
   "id": "bdbbc1d5",
   "metadata": {},
   "outputs": [],
   "source": []
  },
  {
   "cell_type": "raw",
   "id": "38bd9f4c",
   "metadata": {},
   "source": [
    "Definir la ruta del año a generar los datos del año 2022"
   ]
  },
  {
   "cell_type": "code",
   "execution_count": 2,
   "id": "1900560b",
   "metadata": {},
   "outputs": [
    {
     "name": "stderr",
     "output_type": "stream",
     "text": [
      "                                                                                \r"
     ]
    }
   ],
   "source": [
    "# Leer los archivos Parquet de un año \n",
    "df1_parquet = spark.read.parquet(\"/rawdata/rips/rips_parquet_2022\")\n",
    "\n",
    "df=df1_parquet"
   ]
  },
  {
   "cell_type": "code",
   "execution_count": null,
   "id": "11bff43d",
   "metadata": {},
   "outputs": [],
   "source": []
  },
  {
   "cell_type": "code",
   "execution_count": 3,
   "id": "ab87d3af",
   "metadata": {},
   "outputs": [
    {
     "name": "stderr",
     "output_type": "stream",
     "text": [
      "[Stage 1:======================================================>(130 + 1) / 131]\r"
     ]
    },
    {
     "name": "stdout",
     "output_type": "stream",
     "text": [
      "Total de registros en el DataFrame unido: 465644990\n",
      "Columnas del DataFrame unido: ['personaid', 'tipoeventoripsdesc', 'codigo', 'dxprincipal', 'dxegreso', 'finalidadprocedimientoscd', 'finalidadconsultacd', 'tipousuariocd', 'causaexternacd', 'prestador', 'estadosalidacd', 'tipodiagnosticoprincipalcd', 'codigoprocedimiento', 'municipiocd', 'fechaid', 'edad', 'sexodesc', 'costoconsulta', 'costoprocedimiento', 'netoapagarconsulta', 'numerodiasestancia', '__null_dask_index__']\n"
     ]
    },
    {
     "name": "stderr",
     "output_type": "stream",
     "text": [
      "\r",
      "                                                                                \r"
     ]
    }
   ],
   "source": [
    "# Contar el número de registros en el DataFrame unido\n",
    "total_registros = df.count()\n",
    "\n",
    "# Listar las columnas del DataFrame unido\n",
    "columnas = df.columns\n",
    "\n",
    "# Mostrar resultados\n",
    "print(f\"Total de registros en el DataFrame unido: {total_registros}\")\n",
    "print(f\"Columnas del DataFrame unido: {columnas}\")"
   ]
  },
  {
   "cell_type": "code",
   "execution_count": 4,
   "id": "204519cb",
   "metadata": {},
   "outputs": [
    {
     "name": "stderr",
     "output_type": "stream",
     "text": [
      "\r",
      "[Stage 4:>                                                      (0 + 128) / 131]\r",
      "\r",
      "[Stage 4:==================================>                    (81 + 50) / 131]\r"
     ]
    },
    {
     "name": "stdout",
     "output_type": "stream",
     "text": [
      "El número de registros en el archivo es: 465644990\n"
     ]
    },
    {
     "name": "stderr",
     "output_type": "stream",
     "text": [
      "\r",
      "                                                                                \r"
     ]
    }
   ],
   "source": [
    "# Contar el número de registros - da satisfactoriamente la cantidad de registros de toda la fuente RIPS 4’262.860.903 registros \n",
    "record_count = df.count()\n",
    "\n",
    "# Mostrar el número de registros\n",
    "print(f\"El número de registros en el archivo es: {record_count}\")"
   ]
  },
  {
   "cell_type": "code",
   "execution_count": 5,
   "id": "8a1591e3",
   "metadata": {},
   "outputs": [
    {
     "name": "stdout",
     "output_type": "stream",
     "text": [
      "Número total de columnas en el DataFrame: 22\n"
     ]
    }
   ],
   "source": [
    "# Contar el número total de columnas en el DataFrame ( no se tiene en cuenta neto a pagar)\n",
    "total_columns = len(df.columns)\n",
    "\n",
    "# Imprimir el número total de columnas\n",
    "print(\"Número total de columnas en el DataFrame:\", total_columns)"
   ]
  },
  {
   "cell_type": "code",
   "execution_count": 6,
   "id": "cdde4766",
   "metadata": {},
   "outputs": [
    {
     "name": "stdout",
     "output_type": "stream",
     "text": [
      "root\n",
      " |-- personaid: string (nullable = true)\n",
      " |-- tipoeventoripsdesc: string (nullable = true)\n",
      " |-- codigo: string (nullable = true)\n",
      " |-- dxprincipal: string (nullable = true)\n",
      " |-- dxegreso: string (nullable = true)\n",
      " |-- finalidadprocedimientoscd: string (nullable = true)\n",
      " |-- finalidadconsultacd: string (nullable = true)\n",
      " |-- tipousuariocd: string (nullable = true)\n",
      " |-- causaexternacd: string (nullable = true)\n",
      " |-- prestador: string (nullable = true)\n",
      " |-- estadosalidacd: string (nullable = true)\n",
      " |-- tipodiagnosticoprincipalcd: string (nullable = true)\n",
      " |-- codigoprocedimiento: string (nullable = true)\n",
      " |-- municipiocd: string (nullable = true)\n",
      " |-- fechaid: string (nullable = true)\n",
      " |-- edad: string (nullable = true)\n",
      " |-- sexodesc: string (nullable = true)\n",
      " |-- costoconsulta: string (nullable = true)\n",
      " |-- costoprocedimiento: string (nullable = true)\n",
      " |-- netoapagarconsulta: string (nullable = true)\n",
      " |-- numerodiasestancia: string (nullable = true)\n",
      " |-- __null_dask_index__: long (nullable = true)\n",
      "\n",
      "['personaid', 'tipoeventoripsdesc', 'codigo', 'dxprincipal', 'dxegreso', 'finalidadprocedimientoscd', 'finalidadconsultacd', 'tipousuariocd', 'causaexternacd', 'prestador', 'estadosalidacd', 'tipodiagnosticoprincipalcd', 'codigoprocedimiento', 'municipiocd', 'fechaid', 'edad', 'sexodesc', 'costoconsulta', 'costoprocedimiento', 'netoapagarconsulta', 'numerodiasestancia', '__null_dask_index__']\n"
     ]
    }
   ],
   "source": [
    "# Mostrar el esquema (columnas y tipos de datos)\n",
    "df.printSchema()\n",
    "\n",
    "# Listar las columnas\n",
    "print(df.columns)"
   ]
  },
  {
   "cell_type": "markdown",
   "id": "99d768c2",
   "metadata": {},
   "source": [
    "# Empieza el proceso de generación de los datos agrupados por atenciones"
   ]
  },
  {
   "cell_type": "raw",
   "id": "314f1d71",
   "metadata": {},
   "source": [
    "#La siguiente consulta tarda más de una hora parar todos los registros ( 10 min aprox con 2022) "
   ]
  },
  {
   "cell_type": "code",
   "execution_count": 7,
   "id": "1c8181d6",
   "metadata": {},
   "outputs": [
    {
     "name": "stderr",
     "output_type": "stream",
     "text": [
      "24/08/15 14:10:10 WARN SparkSession: Using an existing Spark session; only runtime SQL configurations will take effect.\n",
      "                                                                                \r"
     ]
    },
    {
     "name": "stdout",
     "output_type": "stream",
     "text": [
      "+---------+-------------------+------------------+--------+--------+--------------------------+----+--------+-----------+-----------+---------------+\n",
      "|personaid|codigoprocedimiento|tipoeventoripsdesc| fechaid|sexodesc|tipodiagnosticoprincipalcd|edad|dxegreso|dxprincipal|municipiocd|personaid_count|\n",
      "+---------+-------------------+------------------+--------+--------+--------------------------+----+--------+-----------+-----------+---------------+\n",
      "|100000046|             890105|         CONSULTAS|20220114|FEMENINO|                         1|  28|       0|       U072|      25430|             69|\n",
      "|100000046|             890301|         CONSULTAS|20220304|FEMENINO|                         3|  28|       0|       U071|      25430|             69|\n",
      "|100000046|             890301|         CONSULTAS|20220304|FEMENINO|                         3|  28|       0|       U071|      25430|             69|\n",
      "|100000046|             890301|         CONSULTAS|20220304|FEMENINO|                         3|  28|       0|       U071|      25430|             69|\n",
      "|100000046|             890301|         CONSULTAS|20220304|FEMENINO|                         3|  28|       0|       U071|      25430|             69|\n",
      "|100000046|             890301|         CONSULTAS|20220304|FEMENINO|                         3|  28|       0|       U071|      25430|             69|\n",
      "|100000046|             890301|         CONSULTAS|20220304|FEMENINO|                         3|  28|       0|       U071|      25430|             69|\n",
      "|100000046|             890301|         CONSULTAS|20220304|FEMENINO|                         3|  28|       0|       U071|      25430|             69|\n",
      "|100000046|             890301|         CONSULTAS|20220304|FEMENINO|                         3|  28|       0|       U071|      25430|             69|\n",
      "|100000046|             890308|         CONSULTAS|20220307|FEMENINO|                         2|  28|       0|       I10X|      25430|             69|\n",
      "|100000046|             890301|         CONSULTAS|20220304|FEMENINO|                         3|  28|       0|       U071|      25430|             69|\n",
      "|100000046|             890301|         CONSULTAS|20220720|FEMENINO|                         2|  28|       0|       U071|      25430|             69|\n",
      "|100000046|             890301|         CONSULTAS|20220720|FEMENINO|                         2|  28|       0|       U071|      25430|             69|\n",
      "|100000046|             890301|         CONSULTAS|20220720|FEMENINO|                         2|  28|       0|       U071|      25430|             69|\n",
      "|100000046|             890301|         CONSULTAS|20220720|FEMENINO|                         2|  28|       0|       U071|      25430|             69|\n",
      "|100000046|             890301|         CONSULTAS|20220720|FEMENINO|                         2|  28|       0|       U071|      25430|             69|\n",
      "|100000046|             890301|         CONSULTAS|20220720|FEMENINO|                         2|  28|       0|       U071|      25430|             69|\n",
      "|100000046|             890301|         CONSULTAS|20220720|FEMENINO|                         2|  28|       0|       U071|      25430|             69|\n",
      "|100000046|             890301|         CONSULTAS|20220720|FEMENINO|                         2|  28|       0|       U071|      25430|             69|\n",
      "|100000046|             890301|         CONSULTAS|20220120|FEMENINO|                         2|  28|       0|       U071|      25430|             69|\n",
      "+---------+-------------------+------------------+--------+--------+--------------------------+----+--------+-----------+-----------+---------------+\n",
      "only showing top 20 rows\n",
      "\n"
     ]
    },
    {
     "name": "stderr",
     "output_type": "stream",
     "text": [
      "[Stage 12:>                                                         (0 + 1) / 1]\r"
     ]
    },
    {
     "name": "stdout",
     "output_type": "stream",
     "text": [
      "+---------+-------------------+--------------------+--------+---------+--------------------------+----+--------+-----------+-----------+---------------+\n",
      "|personaid|codigoprocedimiento|  tipoeventoripsdesc| fechaid| sexodesc|tipodiagnosticoprincipalcd|edad|dxegreso|dxprincipal|municipiocd|personaid_count|\n",
      "+---------+-------------------+--------------------+--------+---------+--------------------------+----+--------+-----------+-----------+---------------+\n",
      "|100000046|             890105|           CONSULTAS|20220114| FEMENINO|                         1|  28|       0|       U072|      25430|             69|\n",
      "|100001340|             890302|           CONSULTAS|20220511|MASCULINO|                         1|  28|       0|       Z719|      05001|              2|\n",
      "|100002120|             890201|           CONSULTAS|20220428|MASCULINO|                         1|  33|       0|       R074|      15542|             11|\n",
      "|100002546|             890239|           CONSULTAS|20220621| FEMENINO|                         2|  28|       0|       N62X|      05148|              1|\n",
      "| 10000720|             890216|           CONSULTAS|20220507| FEMENINO|                         1|  56|       0|       R688|      11001|             27|\n",
      "|100007986|             950601|PROCEDIMIENTOS DE...|20220614| FEMENINO|                      null|  18|       0|       Z008|      41001|              3|\n",
      "|100009063|             890201|           CONSULTAS|20220523|MASCULINO|                         2|  55|       0|       Z719|      27205|              1|\n",
      "|100012269|             890201|           CONSULTAS|20220516|MASCULINO|                         2|  18|       0|       Z000|      47170|             10|\n",
      "| 10002373|             890376|           CONSULTAS|20220224|MASCULINO|                         3|  36|       0|       H521|      11001|              1|\n",
      "|  1000240|             890240|           CONSULTAS|20220523| FEMENINO|                         1|  58|       0|       I872|      76113|             46|\n",
      "|100026261|             890301|           CONSULTAS|20220105|MASCULINO|                         1|  27|       0|       E039|      11001|              1|\n",
      "|100026690|             890201|           CONSULTAS|20220608| FEMENINO|                         1|  28|       0|       S835|      25754|              7|\n",
      "|100028853|             890484|           CONSULTAS|20220914|MASCULINO|                         2|  30|       0|       F321|      05001|              3|\n",
      "|100030752|             890201|           CONSULTAS|20220107| FEMENINO|                         1|  28|       0|       I781|      05001|              4|\n",
      "|100031798|             890702|           CONSULTAS|20220914| FEMENINO|                         1|  17|       0|       N44X|      05615|              3|\n",
      "|100034216|             904904|PROCEDIMIENTOS DE...|20220629| FEMENINO|                      null|  28|       0|          1|      76001|             20|\n",
      "|100039127|             237303|PROCEDIMIENTOS DE...|20220607| FEMENINO|                      null|  32|       0|       K021|      08001|              9|\n",
      "|100045560|             890203|           CONSULTAS|20220728| FEMENINO|                         2|  29|       0|       Z012|      47001|             91|\n",
      "|100046899|             890701|           CONSULTAS|20220412| FEMENINO|                         3|  28|       0|       A09X|      25307|             55|\n",
      "|100048536|             232102|PROCEDIMIENTOS DE...|20220117| FEMENINO|                      null|  17|       0|       K021|      08001|              1|\n",
      "+---------+-------------------+--------------------+--------+---------+--------------------------+----+--------+-----------+-----------+---------------+\n",
      "only showing top 20 rows\n",
      "\n"
     ]
    },
    {
     "name": "stderr",
     "output_type": "stream",
     "text": [
      "\r",
      "                                                                                \r"
     ]
    }
   ],
   "source": [
    "from pyspark.sql import SparkSession\n",
    "from pyspark.sql import functions as F\n",
    "from pyspark.sql.window import Window\n",
    "\n",
    "# Crear una sesión de Spark\n",
    "spark = SparkSession.builder.appName(\"DataFrame agrupado\").getOrCreate()\n",
    "\n",
    "\n",
    "# Cargar el archivo Parquet en un DataFrame\n",
    "#df = df1\n",
    "\n",
    "# Seleccionar solo las columnas deseadas (sin 'personaid_count' ya que no existe aún)\n",
    "columns_to_keep = [\n",
    "    'personaid', 'codigoprocedimiento', 'tipoeventoripsdesc', 'fechaid',\n",
    "    'sexodesc', 'tipodiagnosticoprincipalcd', 'edad', 'dxegreso', 'dxprincipal', 'municipiocd'\n",
    "]\n",
    "df_filtered = df.select(*columns_to_keep)\n",
    "\n",
    "# Agregar una nueva columna con el recuento distintivo de 'personaid'\n",
    "window_spec = Window.partitionBy('personaid')\n",
    "df_filtered = df_filtered.withColumn('personaid_count', F.count('personaid').over(window_spec))\n",
    "\n",
    "# Mostrar las primeras filas del DataFrame filtrado para verificar\n",
    "df_filtered.show()\n",
    "\n",
    "# Mostrar los nombres de las columnas filtradas para verificar\n",
    "#print(\"Nombres de las columnas filtradas:\")\n",
    "#print(df_filtered.columns)\n",
    "\n",
    "# Agrupar por la columna 'personaid'\n",
    "grouped_df = df_filtered.groupBy('personaid').agg(\n",
    "    F.first('codigoprocedimiento').alias('codigoprocedimiento'),\n",
    "    F.first('tipoeventoripsdesc').alias('tipoeventoripsdesc'),\n",
    "    F.first('fechaid').alias('fechaid'),\n",
    "    F.first('sexodesc').alias('sexodesc'),\n",
    "    F.first('tipodiagnosticoprincipalcd').alias('tipodiagnosticoprincipalcd'),\n",
    "    F.first('edad').alias('edad'),\n",
    "    F.first('dxegreso').alias('dxegreso'),\n",
    "    F.first('dxprincipal').alias('dxprincipal'),\n",
    "    F.first('municipiocd').alias('municipiocd'),\n",
    "    F.first('personaid_count').alias('personaid_count')\n",
    ")\n",
    "\n",
    "# Mostrar las primeras filas del DataFrame agrupado para verificar\n",
    "grouped_df.show()\n"
   ]
  },
  {
   "cell_type": "code",
   "execution_count": 8,
   "id": "b242c249",
   "metadata": {},
   "outputs": [
    {
     "name": "stderr",
     "output_type": "stream",
     "text": [
      "[Stage 15:=====================================================>(165 + 2) / 167]\r"
     ]
    },
    {
     "name": "stdout",
     "output_type": "stream",
     "text": [
      "El número de registros en el dataframe es: 30434249\n"
     ]
    },
    {
     "name": "stderr",
     "output_type": "stream",
     "text": [
      "\r",
      "                                                                                \r"
     ]
    }
   ],
   "source": [
    "# Contar el número de registros - me da satisfactoriamente la cantidad de regustros en cada año da 73'357.494 llego hasta stage 18\n",
    "#llega a 30'434.249 con 2022\n",
    "record_count = grouped_df.count()\n",
    "\n",
    "# Mostrar el número de registros\n",
    "print(f\"El número de registros en el dataframe es: {record_count}\")"
   ]
  },
  {
   "cell_type": "markdown",
   "id": "beb42a7b",
   "metadata": {},
   "source": [
    "Se generan un total de 73'357.494 registros (todos) para el año 2022 son 30'434.249  registros"
   ]
  },
  {
   "cell_type": "code",
   "execution_count": 9,
   "id": "0a7707a7",
   "metadata": {},
   "outputs": [],
   "source": [
    " df_final =grouped_df\n"
   ]
  },
  {
   "cell_type": "code",
   "execution_count": 10,
   "id": "c8edd29f",
   "metadata": {},
   "outputs": [
    {
     "name": "stderr",
     "output_type": "stream",
     "text": [
      "[Stage 24:>                                                         (0 + 1) / 1]\r"
     ]
    },
    {
     "name": "stdout",
     "output_type": "stream",
     "text": [
      "El número de registros en el archivo Parquet es: 30434249\n"
     ]
    },
    {
     "name": "stderr",
     "output_type": "stream",
     "text": [
      "\r",
      "                                                                                \r"
     ]
    }
   ],
   "source": [
    "# Contar el número de registros \n",
    "record_count = df_final.count()\n",
    "\n",
    "# Mostrar el número de registros\n",
    "print(f\"El número de registros en el archivo Parquet es: {record_count}\")"
   ]
  },
  {
   "cell_type": "code",
   "execution_count": 11,
   "id": "6c4283ae",
   "metadata": {
    "scrolled": true
   },
   "outputs": [
    {
     "name": "stderr",
     "output_type": "stream",
     "text": [
      "[Stage 27:>                                                         (0 + 1) / 1]\r"
     ]
    },
    {
     "name": "stdout",
     "output_type": "stream",
     "text": [
      "+---------+-------------------+--------------------+--------+---------+--------------------------+----+--------+-----------+-----------+---------------+\n",
      "|personaid|codigoprocedimiento|  tipoeventoripsdesc| fechaid| sexodesc|tipodiagnosticoprincipalcd|edad|dxegreso|dxprincipal|municipiocd|personaid_count|\n",
      "+---------+-------------------+--------------------+--------+---------+--------------------------+----+--------+-----------+-----------+---------------+\n",
      "|100000046|             890308|           CONSULTAS|20220307| FEMENINO|                         2|  28|       0|       I10X|      25430|             69|\n",
      "|100001340|             890302|           CONSULTAS|20220514|MASCULINO|                         1|  28|       0|       Z719|      05001|              2|\n",
      "|100002120|             890376|           CONSULTAS|20221005|MASCULINO|                         1|  33|       0|       H261|      15542|             11|\n",
      "|100002546|             890239|           CONSULTAS|20220621| FEMENINO|                         2|  28|       0|       N62X|      05148|              1|\n",
      "| 10000720|             890201|           CONSULTAS|20221104| FEMENINO|                         1|  57|       0|       R688|      11001|             27|\n",
      "|100007986|             950601|PROCEDIMIENTOS DE...|20220614| FEMENINO|                      null|  18|       0|       Z008|      41001|              3|\n",
      "|100009063|             890201|           CONSULTAS|20220523|MASCULINO|                         2|  55|       0|       Z719|      27205|              1|\n",
      "|100012269|             997102|PROCEDIMIENTOS DE...|20220208|MASCULINO|                      null|  18|       0|       Z012|      47170|             10|\n",
      "| 10002373|             890376|           CONSULTAS|20220224|MASCULINO|                         3|  36|       0|       H521|      11001|              1|\n",
      "|  1000240|             890205|           CONSULTAS|20221122| FEMENINO|                         2|  59|       0|       Z124|      76113|             46|\n",
      "|100026261|             890301|           CONSULTAS|20220105|MASCULINO|                         1|  27|       0|       E039|      11001|              1|\n",
      "|100026690|             890201|           CONSULTAS|20220809| FEMENINO|                         1|  28|       0|       S835|      25754|              7|\n",
      "|100028853|             890484|           CONSULTAS|20220914|MASCULINO|                         2|  30|       0|       F321|      05001|              3|\n",
      "|100030752|             890201|           CONSULTAS|20220107| FEMENINO|                         1|  28|       0|       I781|      05001|              4|\n",
      "|100031798|             890602|           CONSULTAS|20220914| FEMENINO|                         1|  17|       0|       N511|      05001|              3|\n",
      "|100034216|             890301|           CONSULTAS|20221024| FEMENINO|                         1|  29|       0|       L209|      76001|             20|\n",
      "|100039127|             890201|           CONSULTAS|20221031| FEMENINO|                         1|  32|       0|       N23X|      08001|              9|\n",
      "|100045560|             890301|           CONSULTAS|20220728| FEMENINO|                         2|  29|       0|       Z321|      47001|             91|\n",
      "|100046899|             903895|PROCEDIMIENTOS DE...|20220120| FEMENINO|                      null|  28|       0|          1|      25307|             55|\n",
      "|100048536|             232102|PROCEDIMIENTOS DE...|20220117| FEMENINO|                      null|  17|       0|       K021|      08001|              1|\n",
      "+---------+-------------------+--------------------+--------+---------+--------------------------+----+--------+-----------+-----------+---------------+\n",
      "only showing top 20 rows\n",
      "\n"
     ]
    },
    {
     "name": "stderr",
     "output_type": "stream",
     "text": [
      "\r",
      "                                                                                \r"
     ]
    }
   ],
   "source": [
    "# Mostrar las primeras filas del DataFrame agrupado para verificar\n",
    "df_final.show()"
   ]
  },
  {
   "cell_type": "markdown",
   "id": "3f2c7994",
   "metadata": {},
   "source": []
  },
  {
   "cell_type": "markdown",
   "id": "a38eae8b",
   "metadata": {},
   "source": []
  },
  {
   "cell_type": "code",
   "execution_count": null,
   "id": "42041743",
   "metadata": {},
   "outputs": [],
   "source": []
  },
  {
   "cell_type": "code",
   "execution_count": null,
   "id": "08f8aedc",
   "metadata": {},
   "outputs": [],
   "source": []
  },
  {
   "cell_type": "code",
   "execution_count": null,
   "id": "623f59e2",
   "metadata": {},
   "outputs": [],
   "source": []
  },
  {
   "cell_type": "code",
   "execution_count": 12,
   "id": "5c715ffd",
   "metadata": {},
   "outputs": [],
   "source": [
    "#se escribe el parquet - No lo hago por que seria todos los datos por atenciones, mejor solo de cada tabla\n",
    "#df_final.write.parquet(\"hdfs:/analyticsdata/todoRips.parquet\") "
   ]
  },
  {
   "cell_type": "markdown",
   "id": "e121d260",
   "metadata": {},
   "source": [
    "# Empieza el proceso de generación de tablas"
   ]
  },
  {
   "cell_type": "markdown",
   "id": "8fbd717b",
   "metadata": {},
   "source": [
    "## 1. Agrupado por año y mes"
   ]
  },
  {
   "cell_type": "raw",
   "id": "0e8553ba",
   "metadata": {},
   "source": [
    "#intento 1 ( no ejecutar)"
   ]
  },
  {
   "cell_type": "code",
   "execution_count": null,
   "id": "9c314cda",
   "metadata": {},
   "outputs": [],
   "source": []
  },
  {
   "cell_type": "code",
   "execution_count": null,
   "id": "c810a5cd",
   "metadata": {},
   "outputs": [],
   "source": []
  },
  {
   "cell_type": "code",
   "execution_count": null,
   "id": "7121968b",
   "metadata": {},
   "outputs": [],
   "source": []
  },
  {
   "cell_type": "code",
   "execution_count": null,
   "id": "9e617966",
   "metadata": {},
   "outputs": [],
   "source": []
  },
  {
   "cell_type": "code",
   "execution_count": null,
   "id": "1eaa4f05",
   "metadata": {},
   "outputs": [],
   "source": []
  },
  {
   "cell_type": "code",
   "execution_count": null,
   "id": "9c8eac60",
   "metadata": {},
   "outputs": [],
   "source": []
  },
  {
   "cell_type": "code",
   "execution_count": null,
   "id": "ac230a89",
   "metadata": {},
   "outputs": [],
   "source": []
  },
  {
   "cell_type": "code",
   "execution_count": null,
   "id": "a70d94f0",
   "metadata": {},
   "outputs": [],
   "source": []
  },
  {
   "cell_type": "raw",
   "id": "fee4e53f",
   "metadata": {},
   "source": [
    "# intento 2 Si ejecutar"
   ]
  },
  {
   "cell_type": "code",
   "execution_count": 13,
   "id": "30c4f4aa",
   "metadata": {},
   "outputs": [],
   "source": [
    "# Cargar el archivo Parquet en un DataFrame\n",
    "df2 = df_final"
   ]
  },
  {
   "cell_type": "code",
   "execution_count": 14,
   "id": "32bfeab9",
   "metadata": {},
   "outputs": [
    {
     "name": "stderr",
     "output_type": "stream",
     "text": [
      "24/08/12 21:57:27 WARN SparkSession: Using an existing Spark session; only runtime SQL configurations will take effect.\n"
     ]
    }
   ],
   "source": [
    "from pyspark.sql import SparkSession\n",
    "from pyspark.sql import functions as F\n",
    "from pyspark.sql.window import Window\n",
    "\n",
    "# Crear una sesión de Spark\n",
    "spark = SparkSession.builder.appName(\"DataFrameTabla1 \").getOrCreate()\n",
    "\n",
    "\n",
    "# Cargar el archivo Parquet en un DataFrame\n",
    "df2 = df_final\n",
    "\n",
    "\n"
   ]
  },
  {
   "cell_type": "code",
   "execution_count": null,
   "id": "671b48ce",
   "metadata": {},
   "outputs": [],
   "source": []
  },
  {
   "cell_type": "code",
   "execution_count": 15,
   "id": "f4f4c2ac",
   "metadata": {},
   "outputs": [
    {
     "name": "stderr",
     "output_type": "stream",
     "text": [
      "[Stage 30:=====================================================>(165 + 2) / 167]\r"
     ]
    },
    {
     "name": "stdout",
     "output_type": "stream",
     "text": [
      "El número de registros en el archivo Parquet es: 30434249\n"
     ]
    },
    {
     "name": "stderr",
     "output_type": "stream",
     "text": [
      "\r",
      "                                                                                \r"
     ]
    }
   ],
   "source": [
    "# Contar el número de registros - me da satisfactoriamente la cantidad de regustros en cada año \n",
    "record_count = df2.count()\n",
    "\n",
    "# Mostrar el número de registros\n",
    "print(f\"El número de registros en el archivo Parquet es: {record_count}\")"
   ]
  },
  {
   "cell_type": "code",
   "execution_count": 16,
   "id": "98eb92ce",
   "metadata": {},
   "outputs": [
    {
     "name": "stdout",
     "output_type": "stream",
     "text": [
      "root\n",
      " |-- personaid: string (nullable = true)\n",
      " |-- codigoprocedimiento: string (nullable = true)\n",
      " |-- tipoeventoripsdesc: string (nullable = true)\n",
      " |-- fechaid: string (nullable = true)\n",
      " |-- sexodesc: string (nullable = true)\n",
      " |-- tipodiagnosticoprincipalcd: string (nullable = true)\n",
      " |-- edad: string (nullable = true)\n",
      " |-- dxegreso: string (nullable = true)\n",
      " |-- dxprincipal: string (nullable = true)\n",
      " |-- municipiocd: string (nullable = true)\n",
      " |-- personaid_count: long (nullable = true)\n",
      "\n",
      "['personaid', 'codigoprocedimiento', 'tipoeventoripsdesc', 'fechaid', 'sexodesc', 'tipodiagnosticoprincipalcd', 'edad', 'dxegreso', 'dxprincipal', 'municipiocd', 'personaid_count']\n"
     ]
    }
   ],
   "source": [
    "# Mostrar el esquema (columnas y tipos de datos)\n",
    "df2.printSchema()\n",
    "\n",
    "# Listar las columnas\n",
    "print(df2.columns)"
   ]
  },
  {
   "cell_type": "markdown",
   "id": "0979efcc",
   "metadata": {},
   "source": [
    "# resultado final agrupado año y mes, según el numero de personas y atenciones"
   ]
  },
  {
   "cell_type": "code",
   "execution_count": 17,
   "id": "42f7044e",
   "metadata": {
    "scrolled": true
   },
   "outputs": [
    {
     "name": "stderr",
     "output_type": "stream",
     "text": [
      "                                                                                \r"
     ]
    },
    {
     "name": "stdout",
     "output_type": "stream",
     "text": [
      "+----+---+------------------+--------------------+\n",
      "| Año|Mes|Número_de_Personas|Número_de_Atenciones|\n",
      "+----+---+------------------+--------------------+\n",
      "|2022|  1|           2602650|            32999971|\n",
      "+----+---+------------------+--------------------+\n",
      "\n"
     ]
    },
    {
     "name": "stderr",
     "output_type": "stream",
     "text": [
      "[Stage 42:=====================================================>(165 + 2) / 167]\r"
     ]
    },
    {
     "name": "stdout",
     "output_type": "stream",
     "text": [
      "+----+----+------------------+--------------------+\n",
      "| Año| Mes|Número_de_Personas|Número_de_Atenciones|\n",
      "+----+----+------------------+--------------------+\n",
      "|2022|  10|           2901565|            43700580|\n",
      "|2022|   5|           3024483|            57882787|\n",
      "|2022|   2|           1190051|            13511697|\n",
      "|2022|  11|           2875831|            49857874|\n",
      "|2022|   8|           2453734|            32611500|\n",
      "|2022|   1|           2600502|            33012501|\n",
      "|2022|   6|           3278042|            46728514|\n",
      "|2022|   9|           2616721|            36843193|\n",
      "|2022|   4|           2486222|            43092995|\n",
      "|2022|  12|           2324485|            31662916|\n",
      "|2022|   7|           2166954|            26093345|\n",
      "|2022|   3|           2515657|            50647086|\n",
      "|null|null|                 2|                   2|\n",
      "+----+----+------------------+--------------------+\n",
      "\n"
     ]
    },
    {
     "name": "stderr",
     "output_type": "stream",
     "text": [
      "\r",
      "                                                                                \r"
     ]
    }
   ],
   "source": [
    "# Seleccionar solo las columnas deseadas\n",
    "columns_to_keep = [\n",
    "    'personaid', 'codigoprocedimiento', 'tipoeventoripsdesc', 'fechaid',\n",
    "    'sexodesc', 'tipodiagnosticoprincipalcd', 'edad', 'dxegreso', 'dxprincipal', 'municipiocd', 'personaid_count'\n",
    "]\n",
    "df_filtered = df2.select(*columns_to_keep)\n",
    "\n",
    "# Convertir 'fechaid' a tipo fecha si es necesario\n",
    "df_filtered = df_filtered.withColumn('fechaid', F.to_date('fechaid', 'yyyyMMdd'))\n",
    "\n",
    "# Extraer año y mes de la columna 'fechaid'\n",
    "df_filtered = df_filtered.withColumn('Año', F.year('fechaid'))\n",
    "df_filtered = df_filtered.withColumn('Mes', F.month('fechaid'))\n",
    "\n",
    "# Agrupar por año y mes\n",
    "result_df = df_filtered.groupBy('Año', 'Mes').agg(\n",
    "    F.countDistinct('personaid').alias('Número_de_Personas'),\n",
    "    F.sum('personaid_count').alias('Número_de_Atenciones')\n",
    ")\n",
    "\n",
    "# Filtrar para mostrar los resultados de enero para comprobar\n",
    "result_january = result_df.filter((F.col('Año') == 2022) & (F.col('Mes') == 1))\n",
    "\n",
    "# Mostrar los resultados para enero\n",
    "result_january.show()\n",
    "\n",
    "# Mostrar las primeras filas del DataFrame completo para verificar\n",
    "result_df.show()\n",
    "\n",
    "# Imprimir los nombres de las columnas agrupadas para verificar\n",
    "#print(\"Nombres de las columnas agrupadas:\")\n",
    "#print(result_df.columns)"
   ]
  },
  {
   "cell_type": "code",
   "execution_count": 18,
   "id": "ac6341ef",
   "metadata": {},
   "outputs": [
    {
     "name": "stderr",
     "output_type": "stream",
     "text": [
      "[Stage 48:====================================================> (162 + 5) / 167]\r"
     ]
    },
    {
     "name": "stdout",
     "output_type": "stream",
     "text": [
      "+----+----+------------------+--------------------+\n",
      "| Año| Mes|Número_de_Personas|Número_de_Atenciones|\n",
      "+----+----+------------------+--------------------+\n",
      "|2022|  10|           2908075|            44257067|\n",
      "|2022|   5|           3031475|            57973013|\n",
      "|2022|   2|           1194483|            13596006|\n",
      "|2022|  11|           2892616|            50395996|\n",
      "|2022|   8|           2435062|            32090944|\n",
      "|2022|   1|           2612981|            33386532|\n",
      "|2022|   6|           3263427|            46192044|\n",
      "|2022|   9|           2605041|            36689280|\n",
      "|2022|   4|           2503243|            43308468|\n",
      "|2022|  12|           2303056|            31026660|\n",
      "|2022|   7|           2143389|            25256303|\n",
      "|2022|   3|           2541399|            51472675|\n",
      "|null|null|                 2|                   2|\n",
      "+----+----+------------------+--------------------+\n",
      "\n"
     ]
    },
    {
     "name": "stderr",
     "output_type": "stream",
     "text": [
      "\r",
      "[Stage 48:=====================================================>(166 + 1) / 167]\r",
      "\r",
      "                                                                                \r"
     ]
    }
   ],
   "source": [
    "result_df.show()"
   ]
  },
  {
   "cell_type": "markdown",
   "id": "32d6cd35",
   "metadata": {},
   "source": [
    "Modificar el nombre del archivo segun corresponda el año"
   ]
  },
  {
   "cell_type": "code",
   "execution_count": 19,
   "id": "179ec440",
   "metadata": {},
   "outputs": [
    {
     "name": "stderr",
     "output_type": "stream",
     "text": [
      "                                                                                \r"
     ]
    }
   ],
   "source": [
    "#se escribe el parquet tabla 1\n",
    "result_df.write.parquet(\"hdfs:/analyticsdata/1.Tabla_anio_mes_atenciones_2022.parquet\") "
   ]
  },
  {
   "cell_type": "markdown",
   "id": "e3c823ae",
   "metadata": {},
   "source": [
    "# 2. Agrupado por año, mes y sexo"
   ]
  },
  {
   "cell_type": "code",
   "execution_count": 20,
   "id": "91e26ad2",
   "metadata": {},
   "outputs": [
    {
     "name": "stderr",
     "output_type": "stream",
     "text": [
      "[Stage 60:=====================================================>(166 + 1) / 167]\r"
     ]
    },
    {
     "name": "stdout",
     "output_type": "stream",
     "text": [
      "+----+----+-----------+------------------+--------------------+\n",
      "| Año| Mes|   sexodesc|Número_de_Personas|Número_de_Atenciones|\n",
      "+----+----+-----------+------------------+--------------------+\n",
      "|2022|   7|   FEMENINO|           1182102|            15269472|\n",
      "|2022|  10|       null|              6094|               84623|\n",
      "|2022|   6|  MASCULINO|           1413284|            17271551|\n",
      "|2022|   3|  MASCULINO|           1025305|            18562087|\n",
      "|2022|   5|       null|              4417|               80308|\n",
      "|2022|   2|       null|              2041|               25559|\n",
      "|2022|  11|       null|              6213|               90900|\n",
      "|2022|   2|   FEMENINO|            666411|             8334929|\n",
      "|2022|   8|       null|              4563|               59642|\n",
      "|2022|  11|   FEMENINO|           1657318|            31789630|\n",
      "|2022|   9|  MASCULINO|           1145612|            14330909|\n",
      "|2022|  12|   FEMENINO|           1260601|            18845824|\n",
      "|2022|  12|NO DEFINIDO|              8170|               63716|\n",
      "|2022|   1|  MASCULINO|           1141999|            12813195|\n",
      "|2022|   4|   FEMENINO|           1458663|            27316472|\n",
      "|2022|  10|   FEMENINO|           1652662|            27746149|\n",
      "|2022|   1|   FEMENINO|           1459657|            20484014|\n",
      "|2022|   8|   FEMENINO|           1344954|            19328610|\n",
      "|2022|   6|NO DEFINIDO|             11926|              100746|\n",
      "|2022|   7|  MASCULINO|            947327|             9835056|\n",
      "|2022|   1|       null|              4377|               64220|\n",
      "|2022|   2|NO DEFINIDO|              4321|               36503|\n",
      "|2022|   2|  MASCULINO|            523922|             5189454|\n",
      "|2022|   8|NO DEFINIDO|              9933|               90430|\n",
      "|2022|   7|NO DEFINIDO|              9055|               71654|\n",
      "|2022|  10|  MASCULINO|           1252146|            17055599|\n",
      "|2022|   5|   FEMENINO|           1748489|            36305389|\n",
      "|2022|   9|NO DEFINIDO|             10669|               98551|\n",
      "|2022|   5|NO DEFINIDO|              9697|               99204|\n",
      "|2022|  11|NO DEFINIDO|             10975|              104944|\n",
      "|2022|   4|  MASCULINO|           1029642|            15680430|\n",
      "|2022|  11|  MASCULINO|           1228435|            18784156|\n",
      "|2022|   6|       null|              5720|               72787|\n",
      "|2022|   3|   FEMENINO|           1510807|            32940286|\n",
      "|2022|   3|NO DEFINIDO|              8159|              104119|\n",
      "|2022|   6|   FEMENINO|           1825339|            28464813|\n",
      "|2022|   9|       null|              5252|               70310|\n",
      "|2022|   1|NO DEFINIDO|              8638|               70112|\n",
      "|2022|   4|       null|              4316|               72766|\n",
      "|2022|  12|       null|              6332|               62867|\n",
      "|2022|   5|  MASCULINO|           1254556|            20667415|\n",
      "|2022|   9|   FEMENINO|           1442936|            22237054|\n",
      "|2022|   7|       null|              4335|               50422|\n",
      "|2022|  12|  MASCULINO|           1022713|            12015544|\n",
      "|2022|   8|  MASCULINO|           1071663|            12537242|\n",
      "|2022|  10|NO DEFINIDO|             10808|              102080|\n",
      "|2022|   3|       null|              3558|               79301|\n",
      "|2022|   4|NO DEFINIDO|              8110|               83690|\n",
      "|2022|   2| INDEFINIDO|                 2|                  34|\n",
      "|null|null|       null|                 2|                   2|\n",
      "|2022|   4| INDEFINIDO|                 3|                  34|\n",
      "|2022|   3| INDEFINIDO|                 5|                  62|\n",
      "|2022|   5| INDEFINIDO|                 6|                  51|\n",
      "|2022|   1| INDEFINIDO|                 3|                  10|\n",
      "|2022|   7| INDEFINIDO|                 1|                   1|\n",
      "|2022|   9| INDEFINIDO|                 2|                  19|\n",
      "|2022|  12| INDEFINIDO|                 1|                   3|\n",
      "|2022|  10| INDEFINIDO|                 2|                  40|\n",
      "+----+----+-----------+------------------+--------------------+\n",
      "\n",
      "Nombres de las columnas agrupadas:\n",
      "['Año', 'Mes', 'sexodesc', 'Número_de_Personas', 'Número_de_Atenciones']\n"
     ]
    },
    {
     "name": "stderr",
     "output_type": "stream",
     "text": [
      "\r",
      "                                                                                \r"
     ]
    }
   ],
   "source": [
    "\n",
    "# Seleccionar solo las columnas deseadas\n",
    "columns_to_keep = [\n",
    "    'personaid', 'codigoprocedimiento', 'tipoeventoripsdesc', 'fechaid',\n",
    "    'sexodesc', 'tipodiagnosticoprincipalcd', 'edad', 'dxegreso', 'dxprincipal', 'municipiocd', 'personaid_count'\n",
    "]\n",
    "df_filtered = df2.select(*columns_to_keep)\n",
    "\n",
    "# Convertir 'fechaid' a tipo fecha si es necesario\n",
    "df_filtered = df_filtered.withColumn('fechaid', F.to_date('fechaid', 'yyyyMMdd'))\n",
    "\n",
    "# Extraer año y mes de la columna 'fechaid'\n",
    "df_filtered = df_filtered.withColumn('Año', F.year('fechaid'))\n",
    "df_filtered = df_filtered.withColumn('Mes', F.month('fechaid'))\n",
    "\n",
    "# Agrupar por año, mes y sexodesc\n",
    "result_df = df_filtered.groupBy('Año', 'Mes', 'sexodesc').agg(\n",
    "    F.countDistinct('personaid').alias('Número_de_Personas'),\n",
    "    F.sum('personaid_count').alias('Número_de_Atenciones')\n",
    ")\n",
    "\n",
    "# Mostrar los resultados\n",
    "result_df.show(100)\n",
    "\n",
    "# Imprimir los nombres de las columnas agrupadas para verificar\n",
    "print(\"Nombres de las columnas agrupadas:\")\n",
    "print(result_df.columns)\n"
   ]
  },
  {
   "cell_type": "markdown",
   "id": "256b1fd2",
   "metadata": {},
   "source": []
  },
  {
   "cell_type": "code",
   "execution_count": 21,
   "id": "fec1b58c",
   "metadata": {},
   "outputs": [
    {
     "name": "stderr",
     "output_type": "stream",
     "text": [
      "                                                                                \r"
     ]
    }
   ],
   "source": [
    "#se escribe el parquet tabla 2\n",
    "result_df.write.parquet(\"hdfs:/analyticsdata/2.Tabla_anio_mes_sexo_2022.parquet\") "
   ]
  },
  {
   "cell_type": "markdown",
   "id": "91886959",
   "metadata": {},
   "source": [
    "# 3. Agrupado por año, mes y municipio"
   ]
  },
  {
   "cell_type": "code",
   "execution_count": 14,
   "id": "9b7531a2",
   "metadata": {},
   "outputs": [
    {
     "name": "stderr",
     "output_type": "stream",
     "text": [
      "[Stage 33:>                                                         (0 + 1) / 1]\r"
     ]
    },
    {
     "name": "stdout",
     "output_type": "stream",
     "text": [
      "+----+---+-----------+------------------+--------------------+\n",
      "| Año|Mes|municipiocd|Número_de_Personas|Número_de_Atenciones|\n",
      "+----+---+-----------+------------------+--------------------+\n",
      "|2022|  4|      18592|              1378|               24370|\n",
      "|2022| 11|      15109|               304|                5518|\n",
      "|2022| 12|      15238|              6751|              107453|\n",
      "|2022|  6|      08137|              1479|               19379|\n",
      "|2022|  8|      76122|               948|               14073|\n",
      "|2022|  2|      27001|              3280|               90354|\n",
      "|2022|  4|      73555|              1237|               21555|\n",
      "|2022| 12|      52317|               717|                4339|\n",
      "|2022|  8|      20750|              1166|               23740|\n",
      "|2022|  7|      76377|               371|                4825|\n",
      "|2022|  5|      05036|                93|                1069|\n",
      "|2022|  9|      52560|               383|                2582|\n",
      "|2022|  5|      70204|               632|                8624|\n",
      "|2022|  6|      15293|               170|                3416|\n",
      "|2022|  4|      73349|               854|               13327|\n",
      "|2022|  9|      99524|               515|                7386|\n",
      "|2022|  5|      05125|               264|                3225|\n",
      "|2022|  3|      81591|               289|                5528|\n",
      "|2022| 10|       null|             66772|              377579|\n",
      "|2022| 12|      05607|               945|               13696|\n",
      "|2022|  8|      81065|              2384|               36206|\n",
      "|2022| 10|      05591|              1017|                5193|\n",
      "|2022|  1|      05360|             10121|              118817|\n",
      "|2022| 11|      76622|              4588|              117720|\n",
      "|2022|  3|      25899|             12193|              168040|\n",
      "|2022|  4|      70233|               234|                5039|\n",
      "|2022|  8|      95015|               353|                5460|\n",
      "|2022|  8|      15638|               294|                5409|\n",
      "|2022|  6|      85225|               415|                2771|\n",
      "|2022| 12|      47692|               522|                5840|\n",
      "|2022|  2|      70742|               445|                6279|\n",
      "|2022| 12|      15276|               251|                2097|\n",
      "|2022|  2|      70708|              1060|               20708|\n",
      "|2022|  1|      17486|               851|               11502|\n",
      "|2022|  4|      44098|               866|               20521|\n",
      "|2022| 10|      05674|               769|               10635|\n",
      "|2022|  5|      15425|               251|                4430|\n",
      "|2022| 11|      25181|               459|                5427|\n",
      "|2022|  7|      08573|              1280|               20512|\n",
      "|2022|  8|      25740|               566|                9158|\n",
      "|2022|  7|      68271|               198|                2571|\n",
      "|2022|  4|      15723|               142|                2892|\n",
      "|2022| 12|      19533|               282|                1694|\n",
      "|2022|  3|      15764|               284|                5732|\n",
      "|2022|  8|      13683|              1168|               11063|\n",
      "|2022|  2|      41001|             10071|               67469|\n",
      "|2022|  7|      05756|               802|                8162|\n",
      "|2022|  2|      54385|               299|                3242|\n",
      "|2022|  3|      25841|               453|                5790|\n",
      "|2022| 11|      19532|              3544|               57643|\n",
      "|2022|  2|      52490|               639|               11707|\n",
      "|2022|  5|      15861|              1284|               19010|\n",
      "|2022|  6|      47675|               612|                7466|\n",
      "|2022|  4|      41668|              1306|               23615|\n",
      "|2022|  3|      47720|              1245|               19112|\n",
      "|2022| 12|      20550|              1263|               25096|\n",
      "|2022|  3|      68152|                55|                 802|\n",
      "|2022|  8|      27491|               277|                5422|\n",
      "|2022|  1|      05842|               278|                2125|\n",
      "|2022|  8|      05861|               399|                2741|\n",
      "|2022|  4|      15762|               100|                1945|\n",
      "|2022|  4|      19821|              1397|                8818|\n",
      "|2022|  1|      15464|                83|                 941|\n",
      "|2022|  8|      54128|               426|                4548|\n",
      "|2022| 10|      15494|               343|                5766|\n",
      "|2022| 12|      15218|                89|                 852|\n",
      "|2022|  7|      05266|              9550|               84086|\n",
      "|2022|  8|      73443|              1981|               28175|\n",
      "|2022|  3|      52258|               132|                2249|\n",
      "|2022|  9|      08520|              1984|               30861|\n",
      "|2022|  8|      54874|              4716|               85933|\n",
      "|2022|  9|      19809|              1133|               13586|\n",
      "|2022|  6|      05809|               485|                3664|\n",
      "|2022|  4|      05761|               134|                1532|\n",
      "|2022| 10|      08558|              1122|               20662|\n",
      "|2022|  6|      25743|               653|                7968|\n",
      "|2022|  1|      41319|              2138|               27800|\n",
      "|2022| 11|      20060|              1409|               26751|\n",
      "|2022|  4|      05480|               511|                4437|\n",
      "|2022|  7|      15215|                63|                1117|\n",
      "|2022|  2|      13655|               138|                3422|\n",
      "|2022|  6|      25898|               189|                1606|\n",
      "|2022|  2|      68147|                40|                 277|\n",
      "|2022| 11|      05893|               323|                5438|\n",
      "|2022| 11|      15507|               269|                5064|\n",
      "|2022|  6|      41359|              1219|               13860|\n",
      "|2022| 11|      13780|               998|               15563|\n",
      "|2022|  3|      23682|               598|               10728|\n",
      "|2022|  5|      50287|               793|               13304|\n",
      "|2022|  8|      15842|               230|                2695|\n",
      "|2022|  9|      52473|               599|                7484|\n",
      "|2022|  2|      23555|               690|               10399|\n",
      "|2022|  7|      15755|               256|                3015|\n",
      "|2022| 12|      13442|               532|                6048|\n",
      "|2022|  4|      54239|                31|                 941|\n",
      "|2022|  9|      52227|              1212|               11519|\n",
      "|2022|  6|      19845|              1289|               23485|\n",
      "|2022|  3|      05842|               209|                5053|\n",
      "|2022|  7|      15299|               525|                7631|\n",
      "|2022| 12|      27160|               224|                4897|\n",
      "+----+---+-----------+------------------+--------------------+\n",
      "only showing top 100 rows\n",
      "\n",
      "Nombres de las columnas agrupadas:\n",
      "['Año', 'Mes', 'municipiocd', 'Número_de_Personas', 'Número_de_Atenciones']\n"
     ]
    },
    {
     "name": "stderr",
     "output_type": "stream",
     "text": [
      "\r",
      "                                                                                \r"
     ]
    }
   ],
   "source": [
    "\n",
    "# Seleccionar solo las columnas deseadas\n",
    "columns_to_keep = [\n",
    "    'personaid', 'codigoprocedimiento', 'tipoeventoripsdesc', 'fechaid',\n",
    "    'sexodesc', 'tipodiagnosticoprincipalcd', 'edad', 'dxegreso', 'dxprincipal', 'municipiocd', 'personaid_count'\n",
    "]\n",
    "df_filtered = df2.select(*columns_to_keep)\n",
    "\n",
    "# Convertir 'fechaid' a tipo fecha si es necesario\n",
    "df_filtered = df_filtered.withColumn('fechaid', F.to_date('fechaid', 'yyyyMMdd'))\n",
    "\n",
    "# Extraer año y mes de la columna 'fechaid'\n",
    "df_filtered = df_filtered.withColumn('Año', F.year('fechaid'))\n",
    "df_filtered = df_filtered.withColumn('Mes', F.month('fechaid'))\n",
    "\n",
    "# Agrupar por año, mes y municipioid\n",
    "result_df = df_filtered.groupBy('Año', 'Mes', 'municipiocd').agg(\n",
    "    F.countDistinct('personaid').alias('Número_de_Personas'),\n",
    "    F.sum('personaid_count').alias('Número_de_Atenciones')\n",
    ")\n",
    "\n",
    "# Mostrar los resultados\n",
    "result_df.show(100)\n",
    "\n",
    "# Imprimir los nombres de las columnas agrupadas para verificar\n",
    "print(\"Nombres de las columnas agrupadas:\")\n",
    "print(result_df.columns)\n"
   ]
  },
  {
   "cell_type": "code",
   "execution_count": 15,
   "id": "3b729f69",
   "metadata": {},
   "outputs": [
    {
     "name": "stderr",
     "output_type": "stream",
     "text": [
      "                                                                                \r"
     ]
    }
   ],
   "source": [
    "#se escribe el parquet tabla 3\n",
    "result_df.write.parquet(\"hdfs:/analyticsdata/3.Tabla_anio_mes_municipio_2022.parquet\") "
   ]
  },
  {
   "cell_type": "markdown",
   "id": "5a228e1c",
   "metadata": {},
   "source": [
    "# 4. Agrupado por año, mes y tipoeventoripsdesc"
   ]
  },
  {
   "cell_type": "code",
   "execution_count": 22,
   "id": "ee40d136",
   "metadata": {},
   "outputs": [
    {
     "name": "stderr",
     "output_type": "stream",
     "text": [
      "[Stage 72:=====================================================>(166 + 1) / 167]\r"
     ]
    },
    {
     "name": "stdout",
     "output_type": "stream",
     "text": [
      "+----+----+--------------------+------------------+--------------------+\n",
      "| Año| Mes|  tipoeventoripsdesc|Número_de_Personas|Número_de_Atenciones|\n",
      "+----+----+--------------------+------------------+--------------------+\n",
      "|2022|  11|           CONSULTAS|           1703624|            28122703|\n",
      "|2022|   9|           URGENCIAS|             32990|              279179|\n",
      "|2022|  12|           CONSULTAS|           1395130|            15663856|\n",
      "|2022|   2|PROCEDIMIENTOS DE...|            411048|             4848138|\n",
      "|2022|  10|   HOSPITALIZACIONES|             32072|             1542992|\n",
      "|2022|   7|PROCEDIMIENTOS DE...|            638510|             8267199|\n",
      "|2022|   2|           CONSULTAS|            752145|             8120055|\n",
      "|2022|   1|           URGENCIAS|             32246|              606890|\n",
      "|2022|  11|   HOSPITALIZACIONES|             26870|             1074555|\n",
      "|2022|  10|PROCEDIMIENTOS DE...|           1045343|            16943510|\n",
      "|2022|   8|           URGENCIAS|             25926|              198674|\n",
      "|2022|  11|           URGENCIAS|             36960|              336281|\n",
      "|2022|   5|           CONSULTAS|           1594342|            26471987|\n",
      "|2022|   9|           CONSULTAS|           1501594|            18930915|\n",
      "|2022|   5|   HOSPITALIZACIONES|             20093|              648640|\n",
      "|2022|   9|   HOSPITALIZACIONES|             19097|              688288|\n",
      "|2022|   3|           CONSULTAS|           1715355|            34777812|\n",
      "|2022|   4|   HOSPITALIZACIONES|             14561|              539128|\n",
      "|2022|   3|PROCEDIMIENTOS DE...|            741545|            14371640|\n",
      "|2022|   3|   HOSPITALIZACIONES|             11428|              307712|\n",
      "|2022|   7|           CONSULTAS|           1468867|            16497931|\n",
      "|2022|   4|           URGENCIAS|             33573|              507924|\n",
      "|2022|   2|   HOSPITALIZACIONES|              6685|              159249|\n",
      "|2022|   7|   HOSPITALIZACIONES|             25679|              931529|\n",
      "|2022|   2|           URGENCIAS|             20191|              296307|\n",
      "|2022|   6|PROCEDIMIENTOS DE...|           1349888|            23043816|\n",
      "|2022|   1|PROCEDIMIENTOS DE...|            950336|            10557200|\n",
      "|2022|   1|           CONSULTAS|           1604124|            21456095|\n",
      "|2022|  12|   HOSPITALIZACIONES|             18167|              462663|\n",
      "|2022|   5|PROCEDIMIENTOS DE...|           1360314|            29519537|\n",
      "|2022|  10|           URGENCIAS|             39062|              418861|\n",
      "|2022|   6|           CONSULTAS|           1858622|            22113789|\n",
      "|2022|  10|           CONSULTAS|           1821509|            26126618|\n",
      "|2022|  11|PROCEDIMIENTOS DE...|           1144281|            21613989|\n",
      "|2022|  12|           URGENCIAS|             41582|              329107|\n",
      "|2022|   3|           URGENCIAS|             36459|              843635|\n",
      "|2022|   8|PROCEDIMIENTOS DE...|            834992|            13907961|\n",
      "|2022|   6|   HOSPITALIZACIONES|             23311|              802745|\n",
      "|2022|   8|   HOSPITALIZACIONES|             15005|              552167|\n",
      "|2022|   1|   HOSPITALIZACIONES|             12277|              262428|\n",
      "|2022|   7|           URGENCIAS|             32760|              219642|\n",
      "|2022|   4|           CONSULTAS|           1610707|            26318646|\n",
      "|2022|   4|PROCEDIMIENTOS DE...|            812365|            15057172|\n",
      "|2022|  12|PROCEDIMIENTOS DE...|            864176|            15126503|\n",
      "|2022|   9|PROCEDIMIENTOS DE...|           1070316|            17479696|\n",
      "|2022|   6|           URGENCIAS|             29461|              167929|\n",
      "|2022|   8|           CONSULTAS|           1577507|            17979301|\n",
      "|2022|   5|           URGENCIAS|             21152|              152394|\n",
      "|null|null|                null|                 2|                   2|\n",
      "+----+----+--------------------+------------------+--------------------+\n",
      "\n",
      "Nombres de las columnas agrupadas:\n",
      "['Año', 'Mes', 'tipoeventoripsdesc', 'Número_de_Personas', 'Número_de_Atenciones']\n"
     ]
    },
    {
     "name": "stderr",
     "output_type": "stream",
     "text": [
      "\r",
      "                                                                                \r"
     ]
    }
   ],
   "source": [
    "# Seleccionar solo las columnas deseadas\n",
    "columns_to_keep = [\n",
    "    'personaid', 'codigoprocedimiento', 'tipoeventoripsdesc', 'fechaid',\n",
    "    'sexodesc', 'tipodiagnosticoprincipalcd', 'edad', 'dxegreso', 'dxprincipal', 'municipiocd', 'personaid_count'\n",
    "]\n",
    "df_filtered = df2.select(*columns_to_keep)\n",
    "\n",
    "# Convertir 'fechaid' a tipo fecha si es necesario\n",
    "df_filtered = df_filtered.withColumn('fechaid', F.to_date('fechaid', 'yyyyMMdd'))\n",
    "\n",
    "# Extraer año y mes de la columna 'fechaid'\n",
    "df_filtered = df_filtered.withColumn('Año', F.year('fechaid'))\n",
    "df_filtered = df_filtered.withColumn('Mes', F.month('fechaid'))\n",
    "\n",
    "# Agrupar por año, mes y tipoeventoripsdesc\n",
    "result_df = df_filtered.groupBy('Año', 'Mes', 'tipoeventoripsdesc').agg(\n",
    "    F.countDistinct('personaid').alias('Número_de_Personas'),\n",
    "    F.sum('personaid_count').alias('Número_de_Atenciones')\n",
    ")\n",
    "\n",
    "# Mostrar los resultados\n",
    "result_df.show(100)\n",
    "\n",
    "# Imprimir los nombres de las columnas agrupadas para verificar\n",
    "print(\"Nombres de las columnas agrupadas:\")\n",
    "print(result_df.columns)"
   ]
  },
  {
   "cell_type": "code",
   "execution_count": 23,
   "id": "ed4a49a9",
   "metadata": {},
   "outputs": [
    {
     "name": "stderr",
     "output_type": "stream",
     "text": [
      "                                                                                \r"
     ]
    }
   ],
   "source": [
    "#se escribe el parquet tabla 4\n",
    "result_df.write.parquet(\"hdfs:/analyticsdata/4.Tabla_anio_mes_tipoeventoripsdesc_2022.parquet\") "
   ]
  },
  {
   "cell_type": "markdown",
   "id": "aa460a54",
   "metadata": {},
   "source": [
    "# 5. Agrupado por año, mes y tipodiagnosticoprincipalcd"
   ]
  },
  {
   "cell_type": "code",
   "execution_count": 24,
   "id": "ec7f5abf",
   "metadata": {},
   "outputs": [
    {
     "name": "stderr",
     "output_type": "stream",
     "text": [
      "[Stage 84:=====================================================>(164 + 3) / 167]\r"
     ]
    },
    {
     "name": "stdout",
     "output_type": "stream",
     "text": [
      "+----+----+--------------------------+------------------+--------------------+\n",
      "| Año| Mes|tipodiagnosticoprincipalcd|Número_de_Personas|Número_de_Atenciones|\n",
      "+----+----+--------------------------+------------------+--------------------+\n",
      "|2022|  10|                      null|           1121463|            19014514|\n",
      "|2022|   9|                         1|            997201|            12143106|\n",
      "|2022|   6|                         1|           1208731|            14103965|\n",
      "|2022|   7|                         3|            173531|             2572894|\n",
      "|2022|   2|                         2|            143641|             1547762|\n",
      "|2022|   6|                         2|            395364|             4308136|\n",
      "|2022|   7|                         2|            316631|             3318026|\n",
      "|2022|   5|                      null|           1405849|            30349613|\n",
      "|2022|   5|                         3|            208469|             4684097|\n",
      "|2022|  10|                         3|            233738|             4508725|\n",
      "|2022|   2|                      null|            438719|             5353940|\n",
      "|2022|   4|                         1|           1042419|            16467510|\n",
      "|2022|  11|                      null|           1221554|            23208642|\n",
      "|2022|   1|                         1|           1083659|            13994657|\n",
      "|2022|   9|                         3|            176739|             2883608|\n",
      "|2022|  11|                         1|           1122216|            17074773|\n",
      "|2022|   8|                         3|            195234|             2933213|\n",
      "|2022|   8|                      null|            901969|            14909567|\n",
      "|2022|   2|                         3|             90503|             1073068|\n",
      "|2022|  12|                         3|            162536|             2742913|\n",
      "|2022|   3|                         2|            355729|             6557090|\n",
      "|2022|  10|                         1|           1183930|            16115262|\n",
      "|2022|   3|                         3|            218363|             5605168|\n",
      "|2022|   7|                         1|            956942|            10426978|\n",
      "|2022|   1|                      null|           1004831|            11572980|\n",
      "|2022|  12|                         1|            931811|             9863295|\n",
      "|2022|   9|                         2|            317352|             3786784|\n",
      "|2022|   4|                         3|            255441|             5126904|\n",
      "|2022|   1|                         2|            299712|             3696786|\n",
      "|2022|  12|                         2|            275514|             2960290|\n",
      "|2022|   5|                         1|           1019953|            16433631|\n",
      "|2022|   3|                         1|           1135773|            22356598|\n",
      "|2022|   6|                      null|           1414779|            24174105|\n",
      "|2022|   6|                         3|            236461|             3650311|\n",
      "|2022|   9|                      null|           1125699|            18480474|\n",
      "|2022|   1|                         3|            222267|             3636786|\n",
      "|2022|   4|                      null|            866735|            16135352|\n",
      "|2022|  12|                      null|            929707|            15867425|\n",
      "|2022|  11|                         2|            347572|             5385704|\n",
      "|2022|   8|                         1|           1005506|            11062521|\n",
      "|2022|   2|                         1|            528119|             5523335|\n",
      "|2022|   5|                         2|            366640|             5669470|\n",
      "|2022|   7|                      null|            711652|             9555312|\n",
      "|2022|   4|                         2|            317790|             4809517|\n",
      "|2022|   8|                         2|            336250|             3674099|\n",
      "|2022|  10|                         2|            393063|             5310626|\n",
      "|2022|   3|                      null|            806139|            15800297|\n",
      "|2022|  11|                         3|            230351|             5215159|\n",
      "|null|null|                      null|                 2|                   2|\n",
      "+----+----+--------------------------+------------------+--------------------+\n",
      "\n",
      "Nombres de las columnas agrupadas:\n",
      "['Año', 'Mes', 'tipodiagnosticoprincipalcd', 'Número_de_Personas', 'Número_de_Atenciones']\n"
     ]
    },
    {
     "name": "stderr",
     "output_type": "stream",
     "text": [
      "\r",
      "[Stage 84:=====================================================>(166 + 1) / 167]\r",
      "\r",
      "                                                                                \r"
     ]
    }
   ],
   "source": [
    "# Seleccionar solo las columnas deseadas\n",
    "columns_to_keep = [\n",
    "    'personaid', 'codigoprocedimiento', 'tipoeventoripsdesc', 'fechaid',\n",
    "    'sexodesc', 'tipodiagnosticoprincipalcd', 'edad', 'dxegreso', 'dxprincipal', 'municipiocd', 'personaid_count'\n",
    "]\n",
    "df_filtered = df2.select(*columns_to_keep)\n",
    "\n",
    "# Convertir 'fechaid' a tipo fecha si es necesario\n",
    "df_filtered = df_filtered.withColumn('fechaid', F.to_date('fechaid', 'yyyyMMdd'))\n",
    "\n",
    "# Extraer año y mes de la columna 'fechaid'\n",
    "df_filtered = df_filtered.withColumn('Año', F.year('fechaid'))\n",
    "df_filtered = df_filtered.withColumn('Mes', F.month('fechaid'))\n",
    "\n",
    "# Agrupar por año, mes y tipodiagnosticoprincipalcd\n",
    "result_df = df_filtered.groupBy('Año', 'Mes', 'tipodiagnosticoprincipalcd').agg(\n",
    "    F.countDistinct('personaid').alias('Número_de_Personas'),\n",
    "    F.sum('personaid_count').alias('Número_de_Atenciones')\n",
    ")\n",
    "\n",
    "# Mostrar los resultados\n",
    "result_df.show(100)\n",
    "\n",
    "# Imprimir los nombres de las columnas agrupadas para verificar\n",
    "print(\"Nombres de las columnas agrupadas:\")\n",
    "print(result_df.columns)"
   ]
  },
  {
   "cell_type": "raw",
   "id": "fa291206",
   "metadata": {},
   "source": []
  },
  {
   "cell_type": "code",
   "execution_count": 25,
   "id": "c5a5ba49",
   "metadata": {},
   "outputs": [
    {
     "name": "stderr",
     "output_type": "stream",
     "text": [
      "                                                                                \r"
     ]
    }
   ],
   "source": [
    "#se escribe el parquet tabla 5\n",
    "result_df.write.parquet(\"hdfs:/analyticsdata/5.Tabla_anio_mes_tipodiagnosticoprincipalcd_2022.parquet\") "
   ]
  },
  {
   "cell_type": "markdown",
   "id": "554cb620",
   "metadata": {},
   "source": [
    "# 6. Agrupado por año, mes y dxprincipal"
   ]
  },
  {
   "cell_type": "code",
   "execution_count": 26,
   "id": "6bc116f6",
   "metadata": {},
   "outputs": [
    {
     "name": "stderr",
     "output_type": "stream",
     "text": [
      "[Stage 96:=====================================================>(166 + 1) / 167]\r"
     ]
    },
    {
     "name": "stdout",
     "output_type": "stream",
     "text": [
      "+----+---+-----------+------------------+--------------------+\n",
      "| Año|Mes|dxprincipal|Número_de_Personas|Número_de_Atenciones|\n",
      "+----+---+-----------+------------------+--------------------+\n",
      "|2022|  9|       N751|               178|                2127|\n",
      "|2022|  2|       E669|              5273|               44289|\n",
      "|2022| 10|       F718|                85|                1272|\n",
      "|2022|  7|       S025|              2652|               30983|\n",
      "|2022|  8|       F322|               378|                7541|\n",
      "|2022| 10|       S008|               454|                3552|\n",
      "|2022|  5|       K121|               221|                2408|\n",
      "|2022| 12|       K046|               781|                9770|\n",
      "|2022| 11|       K055|               457|                4971|\n",
      "|2022|  5|       Y471|                13|                 224|\n",
      "|2022|  3|       I959|               157|                7239|\n",
      "|2022|  1|       F129|                17|                 443|\n",
      "|2022|  5|       J950|                16|                1870|\n",
      "|2022| 11|       F928|               210|                3330|\n",
      "|2022| 12|       R202|               757|                8600|\n",
      "|2022|  8|       R458|              1223|               15174|\n",
      "|2022|  6|       H654|                72|                 808|\n",
      "|2022|  9|       G632|                36|                1389|\n",
      "|2022|  8|       R100|               680|               10473|\n",
      "|2022|  4|       D172|               411|                6247|\n",
      "|2022|  2|       A001|                32|                2297|\n",
      "|2022|  9|       T189|               139|                1307|\n",
      "|2022|  1|       M670|                16|                 128|\n",
      "|2022|  4|       P073|               449|               12261|\n",
      "|2022|  5|       P612|                 7|                 272|\n",
      "|2022| 11|       O269|               347|               11410|\n",
      "|2022|  7|       P229|               116|                3170|\n",
      "|2022|  9|       I509|               587|               23123|\n",
      "|2022|  9|       I671|                92|                3016|\n",
      "|2022| 12|       F440|                 8|                 170|\n",
      "|2022| 11|       N819|               500|               11164|\n",
      "|2022|  5|       C187|               160|                7015|\n",
      "|2022|  8|       K20X|               135|                1351|\n",
      "|2022| 10|       E079|               780|               12284|\n",
      "|2022| 11|       X220|                81|                1025|\n",
      "|2022|  9|       N429|               200|                2755|\n",
      "|2022| 12|       R410|                46|                1116|\n",
      "|2022|  1|       F338|               134|                3370|\n",
      "|2022|  9|       S912|               141|                 759|\n",
      "|2022|  7|       L82X|               672|                7964|\n",
      "|2022|  6|       M255|             14451|              171899|\n",
      "|2022|  9|       N760|              3214|               35479|\n",
      "|2022|  4|       E042|               289|                6513|\n",
      "|2022|  4|       O010|                 8|                 162|\n",
      "|2022| 11|       E669|              8267|              144515|\n",
      "|2022|  6|       M542|              5140|               72241|\n",
      "|2022| 10|       N771|              4664|               59832|\n",
      "|2022|  4|       Z392|               631|               13244|\n",
      "|2022|  3|       Z121|               272|                5880|\n",
      "|2022|  5|       S223|               108|                1124|\n",
      "|2022|  1|       N938|               524|                7557|\n",
      "|2022|  3|       F989|               345|                4203|\n",
      "|2022|  6|       K589|              2108|               17580|\n",
      "|2022| 10|       H920|              1782|               14369|\n",
      "|2022|  8|       T150|               739|                3250|\n",
      "|2022|  1|       O623|                82|                1898|\n",
      "|2022|  4|       S561|                 6|                  41|\n",
      "|2022| 10|       B89X|               289|                2580|\n",
      "|2022|  3|       Z274|                77|                 538|\n",
      "|2022|  9|       T181|               175|                1720|\n",
      "|2022|  6|       S099|              1624|               18693|\n",
      "|2022|  2|       N433|               156|                1602|\n",
      "|2022| 11|       D420|                51|                2697|\n",
      "|2022| 12|       J038|               267|                1811|\n",
      "|2022| 11|       N184|               272|                7123|\n",
      "|2022|  1|       H900|               149|                1548|\n",
      "|2022| 11|       H481|                 3|                 108|\n",
      "|2022|  8|       M418|                97|                1097|\n",
      "|2022|  3|       D77X|                31|                2907|\n",
      "|2022|  2|       Z488|               138|                1981|\n",
      "|2022|  3|       M654|               469|                8448|\n",
      "|2022| 12|       E042|               224|                5390|\n",
      "|2022|  3|       H663|               134|                1772|\n",
      "|2022|  7|       M511|              1758|               31064|\n",
      "|2022|  7|       I840|                11|                 113|\n",
      "|2022|  4|       N925|               309|                3882|\n",
      "|2022| 11|       M608|                10|                 259|\n",
      "|2022|  7|       O470|               413|               16846|\n",
      "|2022| 12|       T131|               369|                2619|\n",
      "|2022|  5|       L029|               757|                9586|\n",
      "|2022|  9|       R568|              1268|               33719|\n",
      "|2022| 12|       M546|               743|                6773|\n",
      "|2022|  6|       E348|               178|                2192|\n",
      "|2022|  5|       J458|               300|                4987|\n",
      "|2022| 10|       J46X|              1428|               20554|\n",
      "|2022| 12|       J320|                80|                1208|\n",
      "|2022| 11|       D391|               696|               19042|\n",
      "|2022|  4|       R681|                99|                1178|\n",
      "|2022|  7|       E611|                43|                 548|\n",
      "|2022|  6|       H919|              2658|               32622|\n",
      "|2022|  1|       K588|              1172|               19285|\n",
      "|2022|  4|       M239|              2136|               28591|\n",
      "|2022|  8|       L858|                 9|                  58|\n",
      "|2022| 10|       Z638|               154|                1634|\n",
      "|2022|  1|       D692|                37|                 569|\n",
      "|2022| 11|       D508|               448|               12282|\n",
      "|2022| 11|       O731|                 5|                 166|\n",
      "|2022|  1|       H814|               288|                4882|\n",
      "|2022|  1|       H261|                48|                 869|\n",
      "|2022| 11|       N761|               695|               10732|\n",
      "+----+---+-----------+------------------+--------------------+\n",
      "only showing top 100 rows\n",
      "\n",
      "Nombres de las columnas agrupadas:\n",
      "['Año', 'Mes', 'dxprincipal', 'Número_de_Personas', 'Número_de_Atenciones']\n"
     ]
    },
    {
     "name": "stderr",
     "output_type": "stream",
     "text": [
      "\r",
      "                                                                                \r"
     ]
    }
   ],
   "source": [
    "# Seleccionar solo las columnas deseadas\n",
    "columns_to_keep = [\n",
    "    'personaid', 'codigoprocedimiento', 'tipoeventoripsdesc', 'fechaid',\n",
    "    'sexodesc', 'tipodiagnosticoprincipalcd', 'edad', 'dxegreso', 'dxprincipal', 'municipiocd', 'personaid_count'\n",
    "]\n",
    "df_filtered = df2.select(*columns_to_keep)\n",
    "\n",
    "# Convertir 'fechaid' a tipo fecha si es necesario\n",
    "df_filtered = df_filtered.withColumn('fechaid', F.to_date('fechaid', 'yyyyMMdd'))\n",
    "\n",
    "# Extraer año y mes de la columna 'fechaid'\n",
    "df_filtered = df_filtered.withColumn('Año', F.year('fechaid'))\n",
    "df_filtered = df_filtered.withColumn('Mes', F.month('fechaid'))\n",
    "\n",
    "# Agrupar por año, mes y dxprincipal\n",
    "result_df = df_filtered.groupBy('Año', 'Mes', 'dxprincipal').agg(\n",
    "    F.countDistinct('personaid').alias('Número_de_Personas'),\n",
    "    F.sum('personaid_count').alias('Número_de_Atenciones')\n",
    ")\n",
    "\n",
    "# Mostrar los resultados\n",
    "result_df.show(100)\n",
    "\n",
    "# Imprimir los nombres de las columnas agrupadas para verificar\n",
    "print(\"Nombres de las columnas agrupadas:\")\n",
    "print(result_df.columns)"
   ]
  },
  {
   "cell_type": "raw",
   "id": "359a9696",
   "metadata": {},
   "source": []
  },
  {
   "cell_type": "code",
   "execution_count": 27,
   "id": "209c6271",
   "metadata": {},
   "outputs": [
    {
     "name": "stderr",
     "output_type": "stream",
     "text": [
      "                                                                                \r"
     ]
    }
   ],
   "source": [
    "#se escribe el parquet tabla 6\n",
    "result_df.write.parquet(\"hdfs:/analyticsdata/6.Tabla_anio_mes_dxprincipal_2022.parquet\") "
   ]
  },
  {
   "cell_type": "markdown",
   "id": "3c60e186",
   "metadata": {},
   "source": [
    "# 7. Agrupado por año, mes y codigoprocedimiento"
   ]
  },
  {
   "cell_type": "code",
   "execution_count": 16,
   "id": "b053ae8a",
   "metadata": {},
   "outputs": [
    {
     "name": "stderr",
     "output_type": "stream",
     "text": [
      "[Stage 42:=====================================================>(165 + 2) / 167]\r"
     ]
    },
    {
     "name": "stdout",
     "output_type": "stream",
     "text": [
      "+----+---+-------------------+------------------+--------------------+\n",
      "| Año|Mes|codigoprocedimiento|Número_de_Personas|Número_de_Atenciones|\n",
      "+----+---+-------------------+------------------+--------------------+\n",
      "|2022|  6|             903842|              1503|               29328|\n",
      "|2022|  6|             881401|              6482|               82944|\n",
      "|2022|  3|             873420|              2734|               32158|\n",
      "|2022|  7|             865101|              3304|               15734|\n",
      "|2022| 12|             890750|              1288|               24041|\n",
      "|2022|  9|             890351|               707|               24068|\n",
      "|2022|  8|             750302|               325|                1189|\n",
      "|2022| 12|             662202|               944|                2352|\n",
      "|2022| 10|             903883|              1817|               68664|\n",
      "|2022|  8|             882317|              1296|               15016|\n",
      "|2022| 10|             890438|               103|                3190|\n",
      "|2022| 10|             954302|              1281|               12060|\n",
      "|2022|  3|             883221|                13|                 213|\n",
      "|2022|  4|             906301|                64|                1483|\n",
      "|2022|  5|             951301|                27|                 282|\n",
      "|2022|  9|             886012|              1036|               16081|\n",
      "|2022|  3|             901213|               103|                1573|\n",
      "|2022|  3|             911003|               104|                6952|\n",
      "|2022|  3|             890488|               188|               18377|\n",
      "|2022| 10|             867202|               162|                1765|\n",
      "|2022|  3|             890311|              2007|               59446|\n",
      "|2022| 10|             890261|               284|                6404|\n",
      "|2022|  7|             902205|               333|                6708|\n",
      "|2022| 12|             865101|              4528|               22506|\n",
      "|2022|  4|             890312|              1099|               19043|\n",
      "|2022|  5|             903815|             28273|              865550|\n",
      "|2022|  5|             903028|              2664|              108758|\n",
      "|2022| 11|             890384|              6087|              129822|\n",
      "|2022| 12|             890382|              1748|               37513|\n",
      "|2022| 12|             903437|               778|               17087|\n",
      "|2022|  9|             876802|              8785|               76265|\n",
      "|2022|  8|             901230|               330|                6747|\n",
      "|2022|  5|             865208|                46|                 466|\n",
      "|2022|  5|             906231|               159|                4575|\n",
      "|2022|  6|             851102|               163|                2588|\n",
      "|2022|  8|             890474|               276|               12754|\n",
      "|2022| 10|             230101|              1182|               14343|\n",
      "|2022|  5|             902011|                43|                2220|\n",
      "|2022|  2|             907008|               256|                4910|\n",
      "|2022|  4|             053103|                26|                 290|\n",
      "|2022| 12|             951302|               194|                3826|\n",
      "|2022| 11|             890343|              1270|               51343|\n",
      "|2022|  4|             890341|                99|                3221|\n",
      "|2022|  6|             890202|             57277|              381360|\n",
      "|2022|  5|             903824|               984|               26748|\n",
      "|2022|  3|             890315|              6137|              223728|\n",
      "|2022|  3|             990111|              2511|               14456|\n",
      "|2022| 11|             903841|             32375|              839223|\n",
      "|2022|  3|             901321|                41|                 606|\n",
      "|2022|  4|             903813|               872|               52358|\n",
      "|2022|  3|             873121|               376|                5079|\n",
      "|2022| 12|             890601|              2350|               47144|\n",
      "|2022|  6|             890483|              1277|               24189|\n",
      "|2022|  8|             930101|                 1|                  14|\n",
      "|2022|  5|             881132|               679|                7888|\n",
      "|2022|  7|             890408|               908|               28001|\n",
      "|2022|  1|             890238|               612|                4827|\n",
      "|2022|  2|             890288|               169|                4050|\n",
      "|2022| 10|             232103|              1541|               18321|\n",
      "|2022|  6|             890435|               945|               31310|\n",
      "|2022|  1|             871091|                53|                 590|\n",
      "|2022| 10|             993505|               182|                1365|\n",
      "|2022| 10|             890386|                36|                2045|\n",
      "|2022|  4|             950505|               465|                9000|\n",
      "|2022|  3|             441302|              1470|               19165|\n",
      "|2022|  4|             898241|               337|                4528|\n",
      "|2022|  6|             871050|               169|                1732|\n",
      "|2022| 10|             990202|              1740|               61438|\n",
      "|2022|  6|             881437|               560|               15779|\n",
      "|2022|  7|             898102|               350|                4344|\n",
      "|2022|  3|             851101|                43|                1386|\n",
      "|2022|  5|             861203|              2007|               13468|\n",
      "|2022| 11|             231100|               215|                2713|\n",
      "|2022|  4|             240200|               407|                2948|\n",
      "|2022|  5|             033101|                70|                2456|\n",
      "|2022| 12|             907012|               238|                5528|\n",
      "|2022| 11|             882296|                26|                 953|\n",
      "|2022|  2|             879430|               366|                3384|\n",
      "|2022| 11|             965200|                48|                 399|\n",
      "|2022|  6|             890453|                 9|                1155|\n",
      "|2022|  6|             890243|              1444|               34142|\n",
      "|2022|  6|             990203|             28894|              349433|\n",
      "|2022| 12|             990112|               653|                4539|\n",
      "|2022| 11|             662202|              1091|                2914|\n",
      "|2022| 10|             903026|              6141|              140005|\n",
      "|2022| 10|             890783|              3886|               48859|\n",
      "|2022|  1|             637300|               953|                2703|\n",
      "|2022|  4|             893805|              1149|               12586|\n",
      "|2022| 12|             824201|                14|                 147|\n",
      "|2022|  7|             903427|               755|               12560|\n",
      "|2022| 12|             870108|               749|                7452|\n",
      "|2022|  8|             892904|                39|                 889|\n",
      "|2022|  8|             995202|               241|                 640|\n",
      "|2022| 10|             882308|               342|                5575|\n",
      "|2022|  6|             906916|               158|                3752|\n",
      "|2022|  9|             864202|                91|                 946|\n",
      "|2022|  1|             933700|                47|                1171|\n",
      "|2022| 10|             890311|              3755|              132150|\n",
      "|2022| 11|             890340|               847|               26309|\n",
      "|2022|  9|             890251|               340|               12099|\n",
      "+----+---+-------------------+------------------+--------------------+\n",
      "only showing top 100 rows\n",
      "\n",
      "Nombres de las columnas agrupadas:\n",
      "['Año', 'Mes', 'codigoprocedimiento', 'Número_de_Personas', 'Número_de_Atenciones']\n"
     ]
    },
    {
     "name": "stderr",
     "output_type": "stream",
     "text": [
      "\r",
      "                                                                                \r"
     ]
    }
   ],
   "source": [
    "# Seleccionar solo las columnas deseadas\n",
    "columns_to_keep = [\n",
    "    'personaid', 'codigoprocedimiento', 'tipoeventoripsdesc', 'fechaid',\n",
    "    'sexodesc', 'tipodiagnosticoprincipalcd', 'edad', 'dxegreso', 'dxprincipal', 'municipiocd', 'personaid_count'\n",
    "]\n",
    "df_filtered = df2.select(*columns_to_keep)\n",
    "\n",
    "# Convertir 'fechaid' a tipo fecha si es necesario\n",
    "df_filtered = df_filtered.withColumn('fechaid', F.to_date('fechaid', 'yyyyMMdd'))\n",
    "\n",
    "# Extraer año y mes de la columna 'fechaid'\n",
    "df_filtered = df_filtered.withColumn('Año', F.year('fechaid'))\n",
    "df_filtered = df_filtered.withColumn('Mes', F.month('fechaid'))\n",
    "\n",
    "# Agrupar por año, mes y codigoprocedimiento\n",
    "result_df = df_filtered.groupBy('Año', 'Mes', 'codigoprocedimiento').agg(\n",
    "    F.countDistinct('personaid').alias('Número_de_Personas'),\n",
    "    F.sum('personaid_count').alias('Número_de_Atenciones')\n",
    ")\n",
    "\n",
    "# Mostrar los resultados\n",
    "result_df.show(100)\n",
    "\n",
    "# Imprimir los nombres de las columnas agrupadas para verificar\n",
    "print(\"Nombres de las columnas agrupadas:\")\n",
    "print(result_df.columns)"
   ]
  },
  {
   "cell_type": "code",
   "execution_count": null,
   "id": "36e4c2b4",
   "metadata": {},
   "outputs": [],
   "source": []
  },
  {
   "cell_type": "code",
   "execution_count": 17,
   "id": "22784348",
   "metadata": {},
   "outputs": [
    {
     "name": "stderr",
     "output_type": "stream",
     "text": [
      "                                                                                \r"
     ]
    }
   ],
   "source": [
    "#se escribe el parquet tabla 7\n",
    "result_df.write.parquet(\"hdfs:/analyticsdata/7.Tabla_anio_mes_codigoprocedimiento_2022.parquet\") "
   ]
  },
  {
   "cell_type": "markdown",
   "id": "e76459e0",
   "metadata": {},
   "source": [
    "# 8. Agrupado por año, mes, municipio y sexo"
   ]
  },
  {
   "cell_type": "code",
   "execution_count": 35,
   "id": "35a3fad1",
   "metadata": {},
   "outputs": [
    {
     "name": "stderr",
     "output_type": "stream",
     "text": [
      "[Stage 56:=================================================>        (6 + 1) / 7]\r"
     ]
    },
    {
     "name": "stdout",
     "output_type": "stream",
     "text": [
      "+----+---+-----------+-----------+------------------+--------------------+\n",
      "| Año|Mes|municipiocd|   sexodesc|Número_de_Personas|Número_de_Atenciones|\n",
      "+----+---+-----------+-----------+------------------+--------------------+\n",
      "|2022|  9|      41668|   FEMENINO|                10|                  14|\n",
      "|2022|  7|      70678|   FEMENINO|                 6|                  10|\n",
      "|2022| 10|      47189|   FEMENINO|               618|                1553|\n",
      "|2022|  8|      25307|   FEMENINO|                39|                  52|\n",
      "|2022| 11|      25394|  MASCULINO|                 4|                  16|\n",
      "|2022|  4|      23466|   FEMENINO|                 4|                   5|\n",
      "|2022|  1|      15407|   FEMENINO|                 6|                   7|\n",
      "|2022|  9|      76736|  MASCULINO|                 2|                   2|\n",
      "|2022|  7|       null|   FEMENINO|                36|                  44|\n",
      "|2022|  2|      25269|   FEMENINO|               399|                1428|\n",
      "|2022|  9|      70713|  MASCULINO|                57|                  92|\n",
      "|2022| 11|      25754|   FEMENINO|                52|                  69|\n",
      "|2022| 10|      05154|   FEMENINO|                16|                  30|\n",
      "|2022|  8|      70418|   FEMENINO|                25|                  37|\n",
      "|2022| 11|      73275|  MASCULINO|                 2|                   2|\n",
      "|2022| 10|      15001|   FEMENINO|                12|                  16|\n",
      "|2022| 10|      05055|   FEMENINO|                 2|                   3|\n",
      "|2022| 12|      05148|  MASCULINO|                 8|                  14|\n",
      "|2022| 10|      19318|  MASCULINO|                 1|                   4|\n",
      "|2022|  3|      25899|       null|                 3|                   8|\n",
      "|2022|  9|      23001|  MASCULINO|                53|                  59|\n",
      "|2022|  8|      25214|   FEMENINO|                 9|                  29|\n",
      "|2022|  3|      68572|   FEMENINO|                 2|                   2|\n",
      "|2022|  8|      25718|  MASCULINO|                 5|                  11|\n",
      "|2022| 12|      05318|   FEMENINO|                26|                  45|\n",
      "|2022|  4|      63401|  MASCULINO|                 3|                   5|\n",
      "|2022|  3|      15806|   FEMENINO|                17|                  31|\n",
      "|2022|  8|      25754|  MASCULINO|                26|                  38|\n",
      "|2022|  4|      15296|  MASCULINO|                 5|                  10|\n",
      "|2022| 10|      25817|   FEMENINO|                 3|                   3|\n",
      "|2022| 12|      73449|  MASCULINO|                68|                  87|\n",
      "|2022|  8|      15664|  MASCULINO|                 2|                   6|\n",
      "|2022|  1|      05353|   FEMENINO|                 1|                   1|\n",
      "|2022|  6|       null|  MASCULINO|                22|                  33|\n",
      "|2022|  7|      70001|   FEMENINO|                79|                 124|\n",
      "|2022| 12|      25740|   FEMENINO|                28|                  47|\n",
      "|2022| 10|      54810|   FEMENINO|                 6|                  44|\n",
      "|2022|  2|      81001|  MASCULINO|                 4|                   7|\n",
      "|2022| 10|      50006|   FEMENINO|                 4|                   4|\n",
      "|2022|  9|      23464|  MASCULINO|                 1|                   1|\n",
      "|2022|  5|      25743|   FEMENINO|                 1|                   3|\n",
      "|2022|  8|      25175|   FEMENINO|               463|                1576|\n",
      "|2022|  6|      25592|   FEMENINO|                 5|                   6|\n",
      "|2022| 12|      47960|   FEMENINO|                 5|                   5|\n",
      "|2022|  3|      05001|   FEMENINO|                26|                  40|\n",
      "|2022| 12|      25489|   FEMENINO|                 4|                   5|\n",
      "|2022|  6|      25875|NO DEFINIDO|                 1|                   2|\n",
      "|2022|  5|      25658|  MASCULINO|                 1|                   3|\n",
      "|2022|  7|      70001|  MASCULINO|                33|                  40|\n",
      "|2022|  4|      76001|   FEMENINO|                98|                 163|\n",
      "|2022| 11|      73443|   FEMENINO|                 3|                   3|\n",
      "|2022|  4|      15491|  MASCULINO|                74|                 198|\n",
      "|2022|  7|      25473|   FEMENINO|                17|                  42|\n",
      "|2022|  8|      15753|   FEMENINO|                 1|                   2|\n",
      "|2022|  7|      52001|NO DEFINIDO|                 1|                   2|\n",
      "|2022| 12|      70742|  MASCULINO|                 2|                   3|\n",
      "|2022| 11|      41013|  MASCULINO|                 9|                  20|\n",
      "|2022|  8|      76233|   FEMENINO|                 3|                   4|\n",
      "|2022|  8|      25817|   FEMENINO|                19|                  53|\n",
      "|2022|  3|       null|  MASCULINO|                12|                  15|\n",
      "|2022|  2|      25867|   FEMENINO|                 1|                   4|\n",
      "|2022|  7|      25307|  MASCULINO|                 9|                  16|\n",
      "|2022|  7|      13222|   FEMENINO|                 3|                   3|\n",
      "|2022|  9|      13001|   FEMENINO|                62|                  88|\n",
      "|2022|  4|      25772|   FEMENINO|                93|                 205|\n",
      "|2022|  4|      25799|  MASCULINO|                44|                 111|\n",
      "|2022| 12|      44430|   FEMENINO|                18|                  19|\n",
      "|2022|  2|      15187|   FEMENINO|                 3|                   4|\n",
      "|2022|  8|      73349|   FEMENINO|                 3|                   4|\n",
      "|2022|  1|      17614|  MASCULINO|                 1|                   2|\n",
      "|2022|  3|      73001|   FEMENINO|                14|                  15|\n",
      "|2022|  8|      68207|  MASCULINO|                 2|                   2|\n",
      "|2022|  3|      15114|   FEMENINO|                10|                  25|\n",
      "|2022|  7|      76147|   FEMENINO|                12|                  20|\n",
      "|2022| 12|      05147|   FEMENINO|                 2|                   8|\n",
      "|2022| 10|      44378|   FEMENINO|                 1|                   3|\n",
      "|2022|  1|      05172|   FEMENINO|                 1|                   1|\n",
      "|2022| 12|      47053|   FEMENINO|                42|                  56|\n",
      "|2022|  7|      52001|   FEMENINO|                14|                  19|\n",
      "|2022| 11|      05030|   FEMENINO|                 2|                   3|\n",
      "|2022|  5|      25899|   FEMENINO|                28|                  62|\n",
      "|2022|  9|      08421|  MASCULINO|                38|                  50|\n",
      "|2022| 12|      17614|   FEMENINO|                 9|                  10|\n",
      "|2022|  8|      25183|  MASCULINO|                43|                 106|\n",
      "|2022| 12|      25612|   FEMENINO|                 3|                   3|\n",
      "|2022| 11|      05789|   FEMENINO|                 1|                   1|\n",
      "|2022|  8|      05129|  MASCULINO|                23|                  28|\n",
      "|2022| 12|      41298|  MASCULINO|                43|                  75|\n",
      "|2022|  8|      68001|  MASCULINO|                43|                  61|\n",
      "|2022| 11|      25269|   FEMENINO|               148|                 605|\n",
      "|2022|  2|      15272|   FEMENINO|                17|                  46|\n",
      "|2022|  8|      15296|   FEMENINO|                 7|                  16|\n",
      "|2022|  8|      68755|   FEMENINO|                 2|                   2|\n",
      "|2022|  7|      68101|   FEMENINO|                 1|                   2|\n",
      "|2022|  9|      15469|  MASCULINO|                 3|                   5|\n",
      "|2022|  7|      44560|  MASCULINO|                 2|                   6|\n",
      "|2022| 12|      15763|   FEMENINO|                22|                  49|\n",
      "|2022| 10|      05837|   FEMENINO|                 3|                   5|\n",
      "|2022| 10|      41770|   FEMENINO|                20|                  27|\n",
      "|2022|  7|      54518|   FEMENINO|                10|                  11|\n",
      "+----+---+-----------+-----------+------------------+--------------------+\n",
      "only showing top 100 rows\n",
      "\n",
      "Nombres de las columnas agrupadas:\n",
      "['Año', 'Mes', 'municipiocd', 'sexodesc', 'Número_de_Personas', 'Número_de_Atenciones']\n"
     ]
    },
    {
     "name": "stderr",
     "output_type": "stream",
     "text": [
      "\r",
      "                                                                                \r"
     ]
    }
   ],
   "source": [
    "# Seleccionar solo las columnas deseadas\n",
    "columns_to_keep = [\n",
    "    'personaid', 'codigoprocedimiento', 'tipoeventoripsdesc', 'fechaid',\n",
    "    'sexodesc', 'tipodiagnosticoprincipalcd', 'edad', 'dxegreso', 'dxprincipal', 'municipiocd', 'personaid_count'\n",
    "]\n",
    "df_filtered = df2.select(*columns_to_keep)\n",
    "\n",
    "# Convertir 'fechaid' a tipo fecha si es necesario\n",
    "df_filtered = df_filtered.withColumn('fechaid', F.to_date('fechaid', 'yyyyMMdd'))\n",
    "\n",
    "# Extraer año y mes de la columna 'fechaid'\n",
    "df_filtered = df_filtered.withColumn('Año', F.year('fechaid'))\n",
    "df_filtered = df_filtered.withColumn('Mes', F.month('fechaid'))\n",
    "\n",
    "# Agrupar por año, mes y codigoprocedimiento\n",
    "result_df = df_filtered.groupBy('Año', 'Mes', 'municipiocd','sexodesc').agg(\n",
    "    F.countDistinct('personaid').alias('Número_de_Personas'),\n",
    "    F.sum('personaid_count').alias('Número_de_Atenciones')\n",
    ")\n",
    "\n",
    "# Mostrar los resultados\n",
    "result_df.show(100)\n",
    "\n",
    "# Imprimir los nombres de las columnas agrupadas para verificar\n",
    "print(\"Nombres de las columnas agrupadas:\")\n",
    "print(result_df.columns)"
   ]
  },
  {
   "cell_type": "markdown",
   "id": "2da8d049",
   "metadata": {},
   "source": []
  },
  {
   "cell_type": "code",
   "execution_count": 29,
   "id": "5c49380a",
   "metadata": {},
   "outputs": [
    {
     "name": "stderr",
     "output_type": "stream",
     "text": [
      "                                                                                \r"
     ]
    }
   ],
   "source": [
    "#se escribe el parquet tabla 8\n",
    "result_df.write.parquet(\"hdfs:/analyticsdata/8.Tabla_anio_mes_municipio_sexo_2022.parquet\") "
   ]
  },
  {
   "cell_type": "markdown",
   "id": "3481714a",
   "metadata": {},
   "source": [
    "# 9. Agrupado por año, mes, tipoeventorips y sexo"
   ]
  },
  {
   "cell_type": "code",
   "execution_count": 31,
   "id": "205705da",
   "metadata": {},
   "outputs": [
    {
     "name": "stderr",
     "output_type": "stream",
     "text": [
      "                                                                                \r"
     ]
    },
    {
     "name": "stdout",
     "output_type": "stream",
     "text": [
      "+----+----+--------------------+-----------+------------------+--------------------+\n",
      "| Año| Mes|  tipoeventoripsdesc|   sexodesc|Número_de_Personas|Número_de_Atenciones|\n",
      "+----+----+--------------------+-----------+------------------+--------------------+\n",
      "|2022|   7|   HOSPITALIZACIONES|  MASCULINO|             11517|              405221|\n",
      "|2022|   6|           CONSULTAS|NO DEFINIDO|              6615|               51071|\n",
      "|2022|  11|           CONSULTAS|       null|              4045|               48297|\n",
      "|2022|   1|           CONSULTAS|  MASCULINO|            695204|             8081806|\n",
      "|2022|   9|           URGENCIAS|       null|                88|                 535|\n",
      "|2022|  12|           CONSULTAS|       null|              4236|               34118|\n",
      "|2022|   2|PROCEDIMIENTOS DE...|       null|               620|                8730|\n",
      "|2022|  10|   HOSPITALIZACIONES|       null|                83|                5203|\n",
      "|2022|   1|PROCEDIMIENTOS DE...|   FEMENINO|            517719|             6330850|\n",
      "|2022|  11|           CONSULTAS|   FEMENINO|            962062|            17621256|\n",
      "|2022|   2|PROCEDIMIENTOS DE...|NO DEFINIDO|              1674|               14802|\n",
      "|2022|  11|           CONSULTAS|NO DEFINIDO|              6415|               57958|\n",
      "|2022|  10|   HOSPITALIZACIONES|NO DEFINIDO|                99|                2120|\n",
      "|2022|  12|           URGENCIAS|   FEMENINO|             18690|              175144|\n",
      "|2022|  11|           CONSULTAS|  MASCULINO|            738325|            10175897|\n",
      "|2022|   7|PROCEDIMIENTOS DE...|       null|              1112|               16457|\n",
      "|2022|   5|PROCEDIMIENTOS DE...|   FEMENINO|            814885|            18792899|\n",
      "|2022|   2|   HOSPITALIZACIONES|   FEMENINO|              3713|               93089|\n",
      "|2022|   2|           CONSULTAS|   FEMENINO|            418696|             5018683|\n",
      "|2022|  12|PROCEDIMIENTOS DE...|   FEMENINO|            487806|             9119227|\n",
      "|2022|   2|PROCEDIMIENTOS DE...|  MASCULINO|            173293|             1875180|\n",
      "|2022|   3|           CONSULTAS|  MASCULINO|            700005|            12464245|\n",
      "|2022|   7|           CONSULTAS|  MASCULINO|            648551|             6212659|\n",
      "|2022|   8|           CONSULTAS|  MASCULINO|            694317|             6790773|\n",
      "|2022|   2|           CONSULTAS|       null|              1415|               16286|\n",
      "|2022|  12|PROCEDIMIENTOS DE...|  MASCULINO|            361016|             5766697|\n",
      "|2022|  10|PROCEDIMIENTOS DE...|       null|              1791|               29744|\n",
      "|2022|   8|           URGENCIAS|       null|                73|                 387|\n",
      "|2022|   4|           CONSULTAS|NO DEFINIDO|              4916|               49718|\n",
      "|2022|   1|           URGENCIAS|  MASCULINO|             16371|              263507|\n",
      "|2022|   7|PROCEDIMIENTOS DE...|   FEMENINO|            363330|             4924606|\n",
      "|2022|   7|           URGENCIAS|NO DEFINIDO|               171|                 936|\n",
      "|2022|  10|   HOSPITALIZACIONES|   FEMENINO|             18038|              901481|\n",
      "|2022|   8|   HOSPITALIZACIONES|  MASCULINO|              7067|              250530|\n",
      "|2022|   9|           CONSULTAS|   FEMENINO|            812318|            11568412|\n",
      "|2022|   4|           URGENCIAS|  MASCULINO|             16078|              210602|\n",
      "|2022|   5|           CONSULTAS|       null|              2672|               41441|\n",
      "|2022|  11|   HOSPITALIZACIONES|  MASCULINO|             12275|              441447|\n",
      "|2022|   9|           CONSULTAS|       null|              3202|               34082|\n",
      "|2022|   6|PROCEDIMIENTOS DE...|NO DEFINIDO|              5045|               48693|\n",
      "|2022|   2|PROCEDIMIENTOS DE...|   FEMENINO|            235200|             2962777|\n",
      "|2022|   6|   HOSPITALIZACIONES|NO DEFINIDO|                63|                1223|\n",
      "|2022|   6|           URGENCIAS|   FEMENINO|             14079|               86817|\n",
      "|2022|   9|           CONSULTAS|NO DEFINIDO|              5888|               47576|\n",
      "|2022|   3|           CONSULTAS|NO DEFINIDO|              5146|               66550|\n",
      "|2022|   7|   HOSPITALIZACIONES|   FEMENINO|             13292|              521370|\n",
      "|2022|  12|           CONSULTAS|   FEMENINO|            746895|             9560580|\n",
      "|2022|   5|   HOSPITALIZACIONES|   FEMENINO|             10758|              373965|\n",
      "|2022|   8|   HOSPITALIZACIONES|NO DEFINIDO|                51|                1340|\n",
      "|2022|   9|           URGENCIAS|  MASCULINO|             17422|              126873|\n",
      "|2022|   5|   HOSPITALIZACIONES|       null|                60|                2445|\n",
      "|2022|  11|           URGENCIAS|NO DEFINIDO|               145|                 945|\n",
      "|2022|   3|   HOSPITALIZACIONES|  MASCULINO|              5235|              134175|\n",
      "|2022|  11|           URGENCIAS|   FEMENINO|             16484|              179279|\n",
      "|2022|   1|PROCEDIMIENTOS DE...|  MASCULINO|            423018|             4183318|\n",
      "|2022|  12|           CONSULTAS|  MASCULINO|            628669|             6010918|\n",
      "|2022|   3|           CONSULTAS|       null|              2532|               56053|\n",
      "|2022|  12|           CONSULTAS|NO DEFINIDO|              4878|               32832|\n",
      "|2022|   3|PROCEDIMIENTOS DE...|       null|               909|               20750|\n",
      "|2022|   8|           URGENCIAS|   FEMENINO|             12493|              105021|\n",
      "|2022|   9|   HOSPITALIZACIONES|NO DEFINIDO|                53|                 928|\n",
      "|2022|  11|   HOSPITALIZACIONES|       null|                82|                2690|\n",
      "|2022|   9|   HOSPITALIZACIONES|       null|                55|                2198|\n",
      "|2022|   4|   HOSPITALIZACIONES|       null|                37|                1342|\n",
      "|2022|  11|           URGENCIAS|       null|               122|                1040|\n",
      "|2022|   1|           URGENCIAS|       null|                61|                1491|\n",
      "|2022|   5|           CONSULTAS| INDEFINIDO|                 2|                  15|\n",
      "|2022|   5|PROCEDIMIENTOS DE...| INDEFINIDO|                 1|                  18|\n",
      "|2022|   3|           CONSULTAS| INDEFINIDO|                 5|                  38|\n",
      "|null|null|                null|       null|                 2|                   2|\n",
      "|2022|   4|PROCEDIMIENTOS DE...| INDEFINIDO|                 2|                  21|\n",
      "|2022|   7|           CONSULTAS| INDEFINIDO|                 1|                   1|\n",
      "|2022|   8|PROCEDIMIENTOS DE...|  MASCULINO|            353752|             5528213|\n",
      "|2022|   6|   HOSPITALIZACIONES|  MASCULINO|             10176|              344122|\n",
      "|2022|   5|           URGENCIAS|   FEMENINO|              9941|               84508|\n",
      "|2022|   3|   HOSPITALIZACIONES|       null|                29|                1230|\n",
      "|2022|  10|           URGENCIAS|NO DEFINIDO|               194|                1303|\n",
      "|2022|  11|   HOSPITALIZACIONES|   FEMENINO|             14904|              634407|\n",
      "|2022|   7|           CONSULTAS|       null|              3080|               32169|\n",
      "|2022|   2|   HOSPITALIZACIONES|  MASCULINO|              3270|               73201|\n",
      "|2022|   4|           URGENCIAS|       null|                76|                 934|\n",
      "|2022|  10|           URGENCIAS|   FEMENINO|             17226|              228037|\n",
      "|2022|  12|   HOSPITALIZACIONES|NO DEFINIDO|                43|                 738|\n",
      "|2022|   7|           URGENCIAS|   FEMENINO|             16561|              116235|\n",
      "|2022|   4|           CONSULTAS|   FEMENINO|            942949|            16960179|\n",
      "|2022|   1|           CONSULTAS|NO DEFINIDO|              4217|               40105|\n",
      "|2022|  12|   HOSPITALIZACIONES|  MASCULINO|              9456|              210023|\n",
      "|2022|   6|PROCEDIMIENTOS DE...|       null|              2084|               33271|\n",
      "|2022|   6|           CONSULTAS|   FEMENINO|           1023213|            13775337|\n",
      "|2022|   1|PROCEDIMIENTOS DE...|       null|              1383|               19719|\n",
      "|2022|  11|           URGENCIAS|  MASCULINO|             18515|              151547|\n",
      "|2022|   7|PROCEDIMIENTOS DE...|NO DEFINIDO|              3172|               28617|\n",
      "|2022|   7|           CONSULTAS|   FEMENINO|            794287|            10049203|\n",
      "|2022|   7|           CONSULTAS|NO DEFINIDO|              5737|               43513|\n",
      "|2022|   9|   HOSPITALIZACIONES|  MASCULINO|              8341|              283992|\n",
      "|2022|   1|           CONSULTAS|       null|              2824|               38845|\n",
      "|2022|   9|PROCEDIMIENTOS DE...|  MASCULINO|            452774|             6939109|\n",
      "|2022|   1|           CONSULTAS|   FEMENINO|            913513|            13335929|\n",
      "|2022|   4|PROCEDIMIENTOS DE...|NO DEFINIDO|              3000|               31362|\n",
      "|2022|  10|           CONSULTAS|  MASCULINO|            789109|             9683156|\n",
      "+----+----+--------------------+-----------+------------------+--------------------+\n",
      "only showing top 100 rows\n",
      "\n",
      "Nombres de las columnas agrupadas:\n",
      "['Año', 'Mes', 'tipoeventoripsdesc', 'sexodesc', 'Número_de_Personas', 'Número_de_Atenciones']\n"
     ]
    }
   ],
   "source": [
    "# Seleccionar solo las columnas deseadas\n",
    "columns_to_keep = [\n",
    "    'personaid', 'codigoprocedimiento', 'tipoeventoripsdesc', 'fechaid',\n",
    "    'sexodesc', 'tipodiagnosticoprincipalcd', 'edad', 'dxegreso', 'dxprincipal', 'municipiocd', 'personaid_count'\n",
    "]\n",
    "df_filtered = df2.select(*columns_to_keep)\n",
    "\n",
    "# Convertir 'fechaid' a tipo fecha si es necesario\n",
    "df_filtered = df_filtered.withColumn('fechaid', F.to_date('fechaid', 'yyyyMMdd'))\n",
    "\n",
    "# Extraer año y mes de la columna 'fechaid'\n",
    "df_filtered = df_filtered.withColumn('Año', F.year('fechaid'))\n",
    "df_filtered = df_filtered.withColumn('Mes', F.month('fechaid'))\n",
    "\n",
    "# Agrupar por año, mes y codigoprocedimiento\n",
    "result_df = df_filtered.groupBy('Año', 'Mes', 'tipoeventoripsdesc','sexodesc').agg(\n",
    "    F.countDistinct('personaid').alias('Número_de_Personas'),\n",
    "    F.sum('personaid_count').alias('Número_de_Atenciones')\n",
    ")\n",
    "\n",
    "# Mostrar los resultados\n",
    "result_df.show(100)\n",
    "\n",
    "# Imprimir los nombres de las columnas agrupadas para verificar\n",
    "print(\"Nombres de las columnas agrupadas:\")\n",
    "print(result_df.columns)"
   ]
  },
  {
   "cell_type": "markdown",
   "id": "f77a9118",
   "metadata": {},
   "source": []
  },
  {
   "cell_type": "code",
   "execution_count": 32,
   "id": "45142e0d",
   "metadata": {},
   "outputs": [
    {
     "name": "stderr",
     "output_type": "stream",
     "text": [
      "                                                                                \r"
     ]
    }
   ],
   "source": [
    "#se escribe el parquet tabla 9\n",
    "result_df.write.parquet(\"hdfs:/analyticsdata/9.Tabla_anio_mes_tipoeventoripsdesc_sexo_2022.parquet\") "
   ]
  },
  {
   "cell_type": "code",
   "execution_count": null,
   "id": "9ee35e93",
   "metadata": {},
   "outputs": [],
   "source": [
    "se comprueba que el archivo quedo guardado correctamente al leerlo "
   ]
  },
  {
   "cell_type": "code",
   "execution_count": 33,
   "id": "28d341b1",
   "metadata": {},
   "outputs": [
    {
     "name": "stdout",
     "output_type": "stream",
     "text": [
      "+----+---+--------------------+-----------+------------------+--------------------+\n",
      "| Año|Mes|  tipoeventoripsdesc|   sexodesc|Número_de_Personas|Número_de_Atenciones|\n",
      "+----+---+--------------------+-----------+------------------+--------------------+\n",
      "|2022|  8|           URGENCIAS|   FEMENINO|             12244|              103189|\n",
      "|2022|  8|PROCEDIMIENTOS DE...|  MASCULINO|            353181|             5564769|\n",
      "|2022|  6|   HOSPITALIZACIONES|  MASCULINO|             10281|              352742|\n",
      "|2022|  5|           URGENCIAS|   FEMENINO|              9848|               83089|\n",
      "|2022| 10|           URGENCIAS|NO DEFINIDO|               184|                1450|\n",
      "|2022| 11|   HOSPITALIZACIONES|   FEMENINO|             14663|              629901|\n",
      "|2022|  7|           CONSULTAS|       null|              3111|               33166|\n",
      "|2022|  2|   HOSPITALIZACIONES|  MASCULINO|              3159|               71579|\n",
      "|2022| 10|           URGENCIAS|   FEMENINO|             17292|              222953|\n",
      "|2022| 12|   HOSPITALIZACIONES|NO DEFINIDO|                40|                 616|\n",
      "|2022|  7|           URGENCIAS|   FEMENINO|             16937|              119905|\n",
      "|2022|  2|           URGENCIAS|       null|                47|                 386|\n",
      "|2022|  4|           CONSULTAS|   FEMENINO|            941557|            16872290|\n",
      "|2022|  1|           CONSULTAS|NO DEFINIDO|              4227|               40567|\n",
      "|2022| 12|   HOSPITALIZACIONES|  MASCULINO|              9415|              211833|\n",
      "|2022|  6|PROCEDIMIENTOS DE...|       null|              2057|               33607|\n",
      "|2022|  6|           CONSULTAS|   FEMENINO|           1022101|            13811824|\n",
      "|2022|  1|PROCEDIMIENTOS DE...|       null|              1382|               18333|\n",
      "|2022| 11|           URGENCIAS|  MASCULINO|             19129|              153690|\n",
      "|2022|  7|PROCEDIMIENTOS DE...|NO DEFINIDO|              3094|               27966|\n",
      "+----+---+--------------------+-----------+------------------+--------------------+\n",
      "only showing top 20 rows\n",
      "\n"
     ]
    }
   ],
   "source": [
    "# Leer el archivo .parquet y se guarda en un DataFrame\n",
    "df_leer = spark.read.parquet(\"hdfs:/analyticsdata/9.Tabla_anio_mes_tipoeventoripsdesc_sexo_2022.parquet\")\n",
    "\n",
    "# Mostrar el contenido del DataFrame\n",
    "df_leer.show()"
   ]
  },
  {
   "cell_type": "markdown",
   "id": "8d70dba3",
   "metadata": {},
   "source": [
    "# 10. Agrupado por año, mes, edad"
   ]
  },
  {
   "cell_type": "code",
   "execution_count": 10,
   "id": "8ebfe01e",
   "metadata": {},
   "outputs": [
    {
     "name": "stderr",
     "output_type": "stream",
     "text": [
      "[Stage 18:=====================================================>(166 + 1) / 167]\r"
     ]
    },
    {
     "name": "stdout",
     "output_type": "stream",
     "text": [
      "+----+---+----+------------------+--------------------+\n",
      "| Año|Mes|edad|Número_de_Personas|Número_de_Atenciones|\n",
      "+----+---+----+------------------+--------------------+\n",
      "|2022|  6|  55|             35994|              617919|\n",
      "|2022|  1|  49|             28865|              389481|\n",
      "|2022|  8|  22|             38818|              425761|\n",
      "|2022|  6|  67|             26480|              615298|\n",
      "|2022| 11|  16|             39292|              487635|\n",
      "|2022| 11|  45|             33855|              542792|\n",
      "|2022|  8|   4|             39047|              396237|\n",
      "|2022|  9|   1|             36882|              561110|\n",
      "|2022|  5|  66|             28817|              851936|\n",
      "|2022| 10|  25|             45043|              571466|\n",
      "|2022|  8|  26|             40102|              433152|\n",
      "|2022| 10|  79|             11725|              355560|\n",
      "|2022|  2|  29|             19923|              189579|\n",
      "|2022| 11|  56|             35277|              723299|\n",
      "|2022|  6|   6|             49437|              421466|\n",
      "|2022|  7|  31|             33983|              324255|\n",
      "|2022|  6|  65|             29365|              649505|\n",
      "|2022|  2|   8|             16173|              115730|\n",
      "|2022|  4|  58|             29276|              620387|\n",
      "|2022|  2|  79|              3645|               77953|\n",
      "|2022| 12|  78|             10164|              300902|\n",
      "|2022| 11|  68|             26840|              761667|\n",
      "|2022|  2|  97|               254|                5475|\n",
      "|2022|  9|  18|             41766|              417626|\n",
      "|2022|  4|  76|             12535|              420523|\n",
      "|2022|  3|  79|             10651|              387884|\n",
      "|2022|  2|  65|              9834|              164683|\n",
      "|2022|  6|   1|             48048|              660519|\n",
      "|2022|  7|  70|             14083|              296048|\n",
      "|2022|  6|  62|             33103|              673082|\n",
      "|2022|  2|  36|             17639|              163391|\n",
      "|2022|  2| 100|                89|                1874|\n",
      "|2022|  6| 100|               248|                6018|\n",
      "|2022| 11|  60|             35643|              807285|\n",
      "|2022|  4|   8|             29763|              300427|\n",
      "|2022|  5| 106|                29|                 325|\n",
      "|2022|  7|  54|             23490|              323899|\n",
      "|2022|  9|  10|             37462|              343361|\n",
      "|2022|  9|  75|             13060|              342298|\n",
      "|2022| 12|  65|             21947|              469211|\n",
      "|2022| 10|  88|              4836|              162607|\n",
      "|2022| 12|  38|             29529|              328644|\n",
      "|2022|  7|   3|             32549|              310770|\n",
      "|2022|  8|  33|             36631|              395299|\n",
      "|2022| 10|  59|             34075|              668025|\n",
      "|2022|  3|  38|             31380|              539204|\n",
      "|2022|  9|  30|             41037|              501339|\n",
      "|2022|  7|  55|             23574|              334758|\n",
      "|2022| 11|  19|             39208|              514622|\n",
      "|2022| 10|  45|             34918|              504337|\n",
      "|2022| 10|  77|             14067|              412645|\n",
      "|2022|  7|  84|              5150|              147028|\n",
      "|2022|  7|  40|             29916|              298062|\n",
      "|2022| 10|  56|             34471|              637024|\n",
      "|2022| 12| 100|               199|                5055|\n",
      "|2022|  5|  54|             34410|              736354|\n",
      "|2022|  8|  50|             26937|              378554|\n",
      "|2022|  7|  68|             15432|              309095|\n",
      "|2022|  8|  47|             27068|              343512|\n",
      "|2022|  5|  68|             26283|              812651|\n",
      "|2022|  3|   8|             29957|              361566|\n",
      "|2022| 12|  85|              5909|              193002|\n",
      "|2022|  8|  27|             40503|              443979|\n",
      "|2022| 10|  55|             34663|              618120|\n",
      "|2022|  9|   8|             37472|              324132|\n",
      "|2022|  2|   2|             20585|              218406|\n",
      "|2022|  2| 101|                60|                1472|\n",
      "|2022|  5|  53|             34611|              731596|\n",
      "|2022|  3|  82|              9480|              353515|\n",
      "|2022|  4|  40|             33236|              489523|\n",
      "|2022|  9|  12|             35977|              336815|\n",
      "|2022|  8|  67|             18970|              398051|\n",
      "|2022|  5|  18|             39344|              442306|\n",
      "|2022| 10|  49|             32407|              506399|\n",
      "|2022|  5|  37|             37729|              555765|\n",
      "|2022| 11|  72|             22520|              685954|\n",
      "|2022|  3| 101|               147|                4912|\n",
      "|2022|  7|  67|             16227|              310330|\n",
      "|2022|  3|  32|             35392|              592079|\n",
      "|2022|  7|  30|             34136|              332275|\n",
      "|2022|  1|  58|             27498|              458274|\n",
      "|2022|  9|  76|             11977|              319134|\n",
      "|2022| 11|  29|             42940|              619877|\n",
      "|2022|  2|  32|             19365|              180674|\n",
      "|2022| 11|  59|             35592|              786730|\n",
      "|2022|  1|  34|             40772|              431788|\n",
      "|2022|  4|  70|             18592|              542560|\n",
      "|2022|  8|  98|               416|               11072|\n",
      "|2022| 10|  83|              9420|              299265|\n",
      "|2022|  4|  22|             36997|              516684|\n",
      "|2022|  4|  19|             32400|              420803|\n",
      "|2022|  3|  80|             10129|              367582|\n",
      "|2022|  7|  15|             33046|              288507|\n",
      "|2022| 12|   8|             31342|              219403|\n",
      "|2022|  7|   4|             32762|              304556|\n",
      "|2022|  8|  45|             28470|              355189|\n",
      "|2022|  2|  52|             13418|              165350|\n",
      "|2022|  1|   5|             39280|              349836|\n",
      "|2022| 11|  13|             38153|              393253|\n",
      "|2022|  1|  98|               371|                8982|\n",
      "+----+---+----+------------------+--------------------+\n",
      "only showing top 100 rows\n",
      "\n",
      "Nombres de las columnas agrupadas:\n",
      "['Año', 'Mes', 'edad', 'Número_de_Personas', 'Número_de_Atenciones']\n"
     ]
    },
    {
     "name": "stderr",
     "output_type": "stream",
     "text": [
      "\r",
      "                                                                                \r"
     ]
    }
   ],
   "source": [
    "# Seleccionar solo las columnas deseadas\n",
    "columns_to_keep = [\n",
    "    'personaid', 'codigoprocedimiento', 'tipoeventoripsdesc', 'fechaid',\n",
    "    'sexodesc', 'tipodiagnosticoprincipalcd', 'edad', 'dxegreso', 'dxprincipal', 'municipiocd', 'personaid_count'\n",
    "]\n",
    "df_filtered = df2.select(*columns_to_keep)\n",
    "\n",
    "# Convertir 'fechaid' a tipo fecha si es necesario\n",
    "df_filtered = df_filtered.withColumn('fechaid', F.to_date('fechaid', 'yyyyMMdd'))\n",
    "\n",
    "# Extraer año y mes de la columna 'fechaid'\n",
    "df_filtered = df_filtered.withColumn('Año', F.year('fechaid'))\n",
    "df_filtered = df_filtered.withColumn('Mes', F.month('fechaid'))\n",
    "\n",
    "# Agrupar por año, mes y codigoprocedimiento\n",
    "result_df = df_filtered.groupBy('Año', 'Mes', 'edad').agg(\n",
    "    F.countDistinct('personaid').alias('Número_de_Personas'),\n",
    "    F.sum('personaid_count').alias('Número_de_Atenciones')\n",
    ")\n",
    "\n",
    "# Mostrar los resultados\n",
    "result_df.show(100)\n",
    "\n",
    "# Imprimir los nombres de las columnas agrupadas para verificar\n",
    "print(\"Nombres de las columnas agrupadas:\")\n",
    "print(result_df.columns)"
   ]
  },
  {
   "cell_type": "code",
   "execution_count": 12,
   "id": "a64214e4",
   "metadata": {},
   "outputs": [
    {
     "name": "stderr",
     "output_type": "stream",
     "text": [
      "                                                                                \r"
     ]
    }
   ],
   "source": [
    "#se escribe el parquet tabla 10\n",
    "result_df.write.parquet(\"hdfs:/analyticsdata/10.Tabla_anio_mes_edad_2022.parquet\") "
   ]
  },
  {
   "cell_type": "code",
   "execution_count": 18,
   "id": "303684e7",
   "metadata": {},
   "outputs": [],
   "source": [
    "spark.stop()"
   ]
  },
  {
   "cell_type": "code",
   "execution_count": null,
   "id": "de84a3d6",
   "metadata": {},
   "outputs": [],
   "source": []
  }
 ],
 "metadata": {
  "kernelspec": {
   "display_name": "Python 3 (ipykernel)",
   "language": "python",
   "name": "python3"
  },
  "language_info": {
   "codemirror_mode": {
    "name": "ipython",
    "version": 3
   },
   "file_extension": ".py",
   "mimetype": "text/x-python",
   "name": "python",
   "nbconvert_exporter": "python",
   "pygments_lexer": "ipython3",
   "version": "3.9.18"
  }
 },
 "nbformat": 4,
 "nbformat_minor": 5
}

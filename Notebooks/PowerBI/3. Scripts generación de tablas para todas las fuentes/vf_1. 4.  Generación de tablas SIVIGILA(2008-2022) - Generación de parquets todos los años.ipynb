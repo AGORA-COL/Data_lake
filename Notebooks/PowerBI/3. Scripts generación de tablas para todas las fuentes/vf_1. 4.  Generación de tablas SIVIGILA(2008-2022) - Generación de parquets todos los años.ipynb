{
 "cells": [
  {
   "cell_type": "markdown",
   "id": "5e7ab853",
   "metadata": {},
   "source": [
    "# Generación de archivos parquet SIVIGILA"
   ]
  },
  {
   "cell_type": "markdown",
   "id": "2cfbd12d",
   "metadata": {},
   "source": [
    "## Carga de los datos"
   ]
  },
  {
   "cell_type": "markdown",
   "id": "dc2c512b",
   "metadata": {},
   "source": [
    "Este jupyter notebook esta generando con todos los datos de SIVIGILA (2008 - 2022), estos datos tienen errores en la fuente inicial de los parquetes que se cargan. ( Columnas corridas, años por fuera del rango esperado, entre otros notificados en la fase de exploración)  "
   ]
  },
  {
   "cell_type": "code",
   "execution_count": 65,
   "id": "c90bfc6f",
   "metadata": {},
   "outputs": [],
   "source": [
    "from pyspark.sql import SparkSession\n",
    "\n",
    "# Crear una sesión de Spark\n",
    "spark = SparkSession.builder.appName(\"GeneraciónTablasSIVIGILA_Todos\").getOrCreate()"
   ]
  },
  {
   "cell_type": "code",
   "execution_count": 66,
   "id": "bdbbc1d5",
   "metadata": {},
   "outputs": [],
   "source": [
    "#spark.stop()"
   ]
  },
  {
   "cell_type": "code",
   "execution_count": 67,
   "id": "11bff43d",
   "metadata": {},
   "outputs": [
    {
     "name": "stderr",
     "output_type": "stream",
     "text": [
      "                                                                                \r"
     ]
    }
   ],
   "source": [
    "# Leer los archivos Parquet de un año \n",
    "df1_parquet = spark.read.parquet(\"/rawdata/sivigila/sivigila_parquet_*/\")\n",
    "\n",
    "df=df1_parquet"
   ]
  },
  {
   "cell_type": "code",
   "execution_count": 68,
   "id": "ab87d3af",
   "metadata": {},
   "outputs": [
    {
     "name": "stderr",
     "output_type": "stream",
     "text": [
      "[Stage 1:===========================>                           (55 + 55) / 110]\r"
     ]
    },
    {
     "name": "stdout",
     "output_type": "stream",
     "text": [
      "Total de registros en el DataFrame unido: 7815255\n",
      "Columnas del DataFrame unido: ['PersonaBasicaID', 'Evento', 'AñoEpidemiologico', 'SemanaEpidemilogica', 'Prestador', 'CodigoAdministradora', 'Administradora', 'Edad', 'UnidadMedidaEdad', 'Sexo', 'TipoRegimen', 'codigoOcupacion', 'Ocupacion', 'Etnia', 'ClasificacioninicialCaso', 'PacienteHospitalizado', 'SeguimientoFinalCaso', 'FechaNotificacion', 'FechaConsulta', 'FechaInicioSINTOmas', 'FechaHospitalizacion', 'FechaDefuncion', 'FechaNcto', 'FechaAjuste', 'GP_Discapacidad', 'GP_Despazados', 'GP_Migrantes', 'GP_Carcelarios', 'GP_Gestantes', 'GP_Indigenas', 'GP_PoblacionICBF', 'GP_MadresComunitarias', 'GP_Desmovilizados', 'GP_Psiquia', 'GP_VictimasViolencia', 'GP_otros', 'codigoPaisOcurrencia', 'PaisOcurrencia', 'codigoDepartamentoOcurrencia', 'DepartamentoOcurrencia', 'codigoMunicipioOcurrencia', 'MunicipioOcurrencia', 'codigoDepartamentoNotificacion', 'DepartamentoNotificacion', 'codigoMunicipioNotificacion', 'MunicipioNotificacion', 'codigoDepartamentoResidencia', 'DepartamentoResidencia', 'codigoMunicipioResidencia', 'MunicipioResidencia', 'Area', 'CondicionFinal', 'CodigoDiagnosticoDefuncion', 'DiagnosticoDefuncion', 'TipoUPGD', 'EstadoFinalCaso', 'Confirmado', '__null_dask_index__']\n"
     ]
    },
    {
     "name": "stderr",
     "output_type": "stream",
     "text": [
      "\r",
      "                                                                                \r"
     ]
    }
   ],
   "source": [
    "# Contar el número de registros en el DataFrame unido\n",
    "total_registros = df.count()\n",
    "\n",
    "# Listar las columnas del DataFrame unido\n",
    "columnas = df.columns\n",
    "\n",
    "# Mostrar resultados\n",
    "print(f\"Total de registros en el DataFrame unido: {total_registros}\")\n",
    "print(f\"Columnas del DataFrame unido: {columnas}\")"
   ]
  },
  {
   "cell_type": "code",
   "execution_count": 69,
   "id": "204519cb",
   "metadata": {},
   "outputs": [
    {
     "name": "stdout",
     "output_type": "stream",
     "text": [
      "El número de registros en el archivo Parquet es: 7815255\n"
     ]
    },
    {
     "name": "stderr",
     "output_type": "stream",
     "text": [
      "\r",
      "[Stage 4:======================================================>(108 + 2) / 110]\r",
      "\r",
      "                                                                                \r"
     ]
    }
   ],
   "source": [
    "# Contar el número de registros - me da satisfactoriamente la cantidad de regIstros del año 2022 (128.343)\n",
    "record_count = df.count()\n",
    "\n",
    "# Mostrar el número de registros\n",
    "print(f\"El número de registros en el archivo Parquet es: {record_count}\")"
   ]
  },
  {
   "cell_type": "code",
   "execution_count": 70,
   "id": "cdde4766",
   "metadata": {},
   "outputs": [
    {
     "name": "stdout",
     "output_type": "stream",
     "text": [
      "root\n",
      " |-- PersonaBasicaID: string (nullable = true)\n",
      " |-- Evento: string (nullable = true)\n",
      " |-- AñoEpidemiologico: string (nullable = true)\n",
      " |-- SemanaEpidemilogica: string (nullable = true)\n",
      " |-- Prestador: string (nullable = true)\n",
      " |-- CodigoAdministradora: string (nullable = true)\n",
      " |-- Administradora: string (nullable = true)\n",
      " |-- Edad: string (nullable = true)\n",
      " |-- UnidadMedidaEdad: string (nullable = true)\n",
      " |-- Sexo: string (nullable = true)\n",
      " |-- TipoRegimen: string (nullable = true)\n",
      " |-- codigoOcupacion: string (nullable = true)\n",
      " |-- Ocupacion: string (nullable = true)\n",
      " |-- Etnia: string (nullable = true)\n",
      " |-- ClasificacioninicialCaso: string (nullable = true)\n",
      " |-- PacienteHospitalizado: string (nullable = true)\n",
      " |-- SeguimientoFinalCaso: string (nullable = true)\n",
      " |-- FechaNotificacion: string (nullable = true)\n",
      " |-- FechaConsulta: string (nullable = true)\n",
      " |-- FechaInicioSINTOmas: string (nullable = true)\n",
      " |-- FechaHospitalizacion: string (nullable = true)\n",
      " |-- FechaDefuncion: string (nullable = true)\n",
      " |-- FechaNcto: string (nullable = true)\n",
      " |-- FechaAjuste: string (nullable = true)\n",
      " |-- GP_Discapacidad: string (nullable = true)\n",
      " |-- GP_Despazados: string (nullable = true)\n",
      " |-- GP_Migrantes: string (nullable = true)\n",
      " |-- GP_Carcelarios: string (nullable = true)\n",
      " |-- GP_Gestantes: string (nullable = true)\n",
      " |-- GP_Indigenas: string (nullable = true)\n",
      " |-- GP_PoblacionICBF: string (nullable = true)\n",
      " |-- GP_MadresComunitarias: string (nullable = true)\n",
      " |-- GP_Desmovilizados: string (nullable = true)\n",
      " |-- GP_Psiquia: string (nullable = true)\n",
      " |-- GP_VictimasViolencia: string (nullable = true)\n",
      " |-- GP_otros: string (nullable = true)\n",
      " |-- codigoPaisOcurrencia: string (nullable = true)\n",
      " |-- PaisOcurrencia: string (nullable = true)\n",
      " |-- codigoDepartamentoOcurrencia: string (nullable = true)\n",
      " |-- DepartamentoOcurrencia: string (nullable = true)\n",
      " |-- codigoMunicipioOcurrencia: string (nullable = true)\n",
      " |-- MunicipioOcurrencia: string (nullable = true)\n",
      " |-- codigoDepartamentoNotificacion: string (nullable = true)\n",
      " |-- DepartamentoNotificacion: string (nullable = true)\n",
      " |-- codigoMunicipioNotificacion: string (nullable = true)\n",
      " |-- MunicipioNotificacion: string (nullable = true)\n",
      " |-- codigoDepartamentoResidencia: string (nullable = true)\n",
      " |-- DepartamentoResidencia: string (nullable = true)\n",
      " |-- codigoMunicipioResidencia: string (nullable = true)\n",
      " |-- MunicipioResidencia: string (nullable = true)\n",
      " |-- Area: string (nullable = true)\n",
      " |-- CondicionFinal: string (nullable = true)\n",
      " |-- CodigoDiagnosticoDefuncion: string (nullable = true)\n",
      " |-- DiagnosticoDefuncion: string (nullable = true)\n",
      " |-- TipoUPGD: string (nullable = true)\n",
      " |-- EstadoFinalCaso: string (nullable = true)\n",
      " |-- Confirmado: string (nullable = true)\n",
      " |-- __null_dask_index__: long (nullable = true)\n",
      "\n",
      "['PersonaBasicaID', 'Evento', 'AñoEpidemiologico', 'SemanaEpidemilogica', 'Prestador', 'CodigoAdministradora', 'Administradora', 'Edad', 'UnidadMedidaEdad', 'Sexo', 'TipoRegimen', 'codigoOcupacion', 'Ocupacion', 'Etnia', 'ClasificacioninicialCaso', 'PacienteHospitalizado', 'SeguimientoFinalCaso', 'FechaNotificacion', 'FechaConsulta', 'FechaInicioSINTOmas', 'FechaHospitalizacion', 'FechaDefuncion', 'FechaNcto', 'FechaAjuste', 'GP_Discapacidad', 'GP_Despazados', 'GP_Migrantes', 'GP_Carcelarios', 'GP_Gestantes', 'GP_Indigenas', 'GP_PoblacionICBF', 'GP_MadresComunitarias', 'GP_Desmovilizados', 'GP_Psiquia', 'GP_VictimasViolencia', 'GP_otros', 'codigoPaisOcurrencia', 'PaisOcurrencia', 'codigoDepartamentoOcurrencia', 'DepartamentoOcurrencia', 'codigoMunicipioOcurrencia', 'MunicipioOcurrencia', 'codigoDepartamentoNotificacion', 'DepartamentoNotificacion', 'codigoMunicipioNotificacion', 'MunicipioNotificacion', 'codigoDepartamentoResidencia', 'DepartamentoResidencia', 'codigoMunicipioResidencia', 'MunicipioResidencia', 'Area', 'CondicionFinal', 'CodigoDiagnosticoDefuncion', 'DiagnosticoDefuncion', 'TipoUPGD', 'EstadoFinalCaso', 'Confirmado', '__null_dask_index__']\n"
     ]
    }
   ],
   "source": [
    "# Mostrar el esquema (columnas y tipos de datos)\n",
    "df.printSchema()\n",
    "\n",
    "# Listar las columnas\n",
    "print(df.columns)"
   ]
  },
  {
   "cell_type": "markdown",
   "id": "99d768c2",
   "metadata": {},
   "source": [
    "# Empieza el proceso de generación de los datos agrupados por atenciones"
   ]
  },
  {
   "cell_type": "code",
   "execution_count": 71,
   "id": "1c8181d6",
   "metadata": {},
   "outputs": [
    {
     "name": "stderr",
     "output_type": "stream",
     "text": [
      "                                                                                \r"
     ]
    },
    {
     "name": "stdout",
     "output_type": "stream",
     "text": [
      "+---------------+-------------------+----------+---------+----------------+--------------------+--------------+---------------------+--------------+--------------------+---------------+\n",
      "|PersonaBasicaID|FechaInicioSINTOmas|      Edad|     Sexo|     TipoRegimen|              Evento|          Area|PacienteHospitalizado|CondicionFinal|DiagnosticoDefuncion|personaid_count|\n",
      "+---------------+-------------------+----------+---------+----------------+--------------------+--------------+---------------------+--------------+--------------------+---------------+\n",
      "|      100003768|           20110609|De 21 años| FEMENINO|  S - SUBSIDIADO|360 - INTOXICACIÓ...|         05101|                   SI|CIUDAD BOLÍVAR|        1 - VIVO (A)|              1|\n",
      "|      100004206|           20210601|De 29 años|MASCULINO|  S - SUBSIDIADO|850 - VIH/SIDA/MO...|CENTRO POBLADO|                   NO|  1 - VIVO (A)|    0 - NO REPORTADO|              1|\n",
      "|      100004382|           20131020| De 01 año|MASCULINO|  S - SUBSIDIADO|831 - VARICELA IN...|         18001|                   NO|     FLORENCIA|        1 - VIVO (A)|              1|\n",
      "|       10000670|           20190922|De 68 años| FEMENINO|  S - SUBSIDIADO|831 - VARICELA IN...|         17380|                   SI|     LA DORADA|        1 - VIVO (A)|              1|\n",
      "|      100006912|          NO AJUSTA|De 26 años| FEMENINO|  S - SUBSIDIADO|390 - INTOXICACIÓ...|            27|  AFROCOLOMBIANO O...|         Chocó|            RIOSUCIO|              1|\n",
      "|      100007059|           20170525|De 14 años|MASCULINO|  S - SUBSIDIADO|300 - AGRESIONES ...|         50001|                   NO| VILLAVICENCIO|        1 - VIVO (A)|              1|\n",
      "|       10000720|           20201215|De 54 años| FEMENINO|C - CONTRIBUTIVO|300 - AGRESIONES ...|      CABECERA|                   NO|  1 - VIVO (A)|    0 - NO REPORTADO|              1|\n",
      "|      100008061|        PRIMERA VEZ|De 24 años|MASCULINO|C - CONTRIBUTIVO|360 - INTOXICACIÓ...|   Bogotá D.C.| CONFIRMADO POR CL...|         11001|            CABECERA|              2|\n",
      "|      100008061|        PRIMERA VEZ|De 25 años|MASCULINO|C - CONTRIBUTIVO|356 - INTENTO DE ...|   Bogotá D.C.| CONFIRMADO POR CL...|         11001|            CABECERA|              2|\n",
      "|      100008310|           20200619|De 16 años|MASCULINO|C - CONTRIBUTIVO|850 - VIH/SIDA/MO...|         15776|                   NO|   SUTAMARCHÁN|        1 - VIVO (A)|              1|\n",
      "|      100009928|           20160407|De 04 años|MASCULINO|C - CONTRIBUTIVO|831 - VARICELA IN...|         11001|                   NO|   Bogotá D.C.|        1 - VIVO (A)|              1|\n",
      "|      100010328|           20180315|De 25 años| FEMENINO|C - CONTRIBUTIVO|300 - AGRESIONES ...|      CABECERA|                   NO|  1 - VIVO (A)|    0 - NO REPORTADO|              1|\n",
      "|      100010656|           20160229|De 25 años| FEMENINO|  S - SUBSIDIADO|470 - MALARIA FAL...|         27001|                   NO|        QUIBDÓ|        1 - VIVO (A)|              1|\n",
      "|      100010811|           20131105|De 10 años|MASCULINO|C - CONTRIBUTIVO|        210 - DENGUE|      CABECERA|                   SI|  1 - VIVO (A)|    0 - NO REPORTADO|              1|\n",
      "|      100011448|           20221116|De 17 años| FEMENINO|C - CONTRIBUTIVO|300 - AGRESIONES ...|      CABECERA|                   NO|  1 - VIVO (A)|    0 - NO REPORTADO|              1|\n",
      "|      100012537|           20170524|De 04 años| FEMENINO|  S - SUBSIDIADO|820 - TUBERCULOSI...|         41001|                   NO|         NEIVA|        1 - VIVO (A)|              2|\n",
      "|      100012537|           20190204|De 06 años| FEMENINO|  S - SUBSIDIADO|228 - EXPOSICIÓN ...|         41001|                   NO|         NEIVA|        1 - VIVO (A)|              2|\n",
      "|      100012624|           20191019|De 07 años|MASCULINO|  S - SUBSIDIADO|831 - VARICELA IN...|         41001|                   NO|         NEIVA|        1 - VIVO (A)|              3|\n",
      "|      100012624|           20141119|De 02 años|MASCULINO|  S - SUBSIDIADO|300 - AGRESIONES ...|         41001|                   NO|         NEIVA|        1 - VIVO (A)|              3|\n",
      "|      100012624|           20151115|De 03 años|MASCULINO|  S - SUBSIDIADO|300 - AGRESIONES ...|         41001|                   NO|         NEIVA|        1 - VIVO (A)|              3|\n",
      "+---------------+-------------------+----------+---------+----------------+--------------------+--------------+---------------------+--------------+--------------------+---------------+\n",
      "only showing top 20 rows\n",
      "\n",
      "Nombres de las columnas filtradas:\n",
      "['PersonaBasicaID', 'FechaInicioSINTOmas', 'Edad', 'Sexo', 'TipoRegimen', 'Evento', 'Area', 'PacienteHospitalizado', 'CondicionFinal', 'DiagnosticoDefuncion', 'personaid_count']\n"
     ]
    },
    {
     "name": "stderr",
     "output_type": "stream",
     "text": [
      "[Stage 10:==================================================>   (102 + 8) / 110]\r"
     ]
    },
    {
     "name": "stdout",
     "output_type": "stream",
     "text": [
      "+---------------+-------------------+----------+---------+----------------+--------------------+--------------+---------------------+--------------+--------------------+---------------+\n",
      "|PersonaBasicaID|FechaInicioSINTOmas|      Edad|     Sexo|     TipoRegimen|              Evento|          Area|PacienteHospitalizado|CondicionFinal|DiagnosticoDefuncion|personaid_count|\n",
      "+---------------+-------------------+----------+---------+----------------+--------------------+--------------+---------------------+--------------+--------------------+---------------+\n",
      "|      100003768|           20110609|De 21 años| FEMENINO|  S - SUBSIDIADO|360 - INTOXICACIÓ...|         05101|                   SI|CIUDAD BOLÍVAR|        1 - VIVO (A)|              1|\n",
      "|      100004206|           20210601|De 29 años|MASCULINO|  S - SUBSIDIADO|850 - VIH/SIDA/MO...|CENTRO POBLADO|                   NO|  1 - VIVO (A)|    0 - NO REPORTADO|              1|\n",
      "|      100004382|           20131020| De 01 año|MASCULINO|  S - SUBSIDIADO|831 - VARICELA IN...|         18001|                   NO|     FLORENCIA|        1 - VIVO (A)|              1|\n",
      "|       10000670|           20190922|De 68 años| FEMENINO|  S - SUBSIDIADO|831 - VARICELA IN...|         17380|                   SI|     LA DORADA|        1 - VIVO (A)|              1|\n",
      "|      100006912|          NO AJUSTA|De 26 años| FEMENINO|  S - SUBSIDIADO|390 - INTOXICACIÓ...|            27|  AFROCOLOMBIANO O...|         Chocó|            RIOSUCIO|              1|\n",
      "|      100007059|           20170525|De 14 años|MASCULINO|  S - SUBSIDIADO|300 - AGRESIONES ...|         50001|                   NO| VILLAVICENCIO|        1 - VIVO (A)|              1|\n",
      "|       10000720|           20201215|De 54 años| FEMENINO|C - CONTRIBUTIVO|300 - AGRESIONES ...|      CABECERA|                   NO|  1 - VIVO (A)|    0 - NO REPORTADO|              1|\n",
      "|      100008061|        PRIMERA VEZ|De 24 años|MASCULINO|C - CONTRIBUTIVO|360 - INTOXICACIÓ...|   Bogotá D.C.| CONFIRMADO POR CL...|         11001|            CABECERA|              2|\n",
      "|      100008310|           20200619|De 16 años|MASCULINO|C - CONTRIBUTIVO|850 - VIH/SIDA/MO...|         15776|                   NO|   SUTAMARCHÁN|        1 - VIVO (A)|              1|\n",
      "|      100009928|           20160407|De 04 años|MASCULINO|C - CONTRIBUTIVO|831 - VARICELA IN...|         11001|                   NO|   Bogotá D.C.|        1 - VIVO (A)|              1|\n",
      "|      100010328|           20180315|De 25 años| FEMENINO|C - CONTRIBUTIVO|300 - AGRESIONES ...|      CABECERA|                   NO|  1 - VIVO (A)|    0 - NO REPORTADO|              1|\n",
      "|      100010656|           20160229|De 25 años| FEMENINO|  S - SUBSIDIADO|470 - MALARIA FAL...|         27001|                   NO|        QUIBDÓ|        1 - VIVO (A)|              1|\n",
      "|      100010811|           20131105|De 10 años|MASCULINO|C - CONTRIBUTIVO|        210 - DENGUE|      CABECERA|                   SI|  1 - VIVO (A)|    0 - NO REPORTADO|              1|\n",
      "|      100011448|           20221116|De 17 años| FEMENINO|C - CONTRIBUTIVO|300 - AGRESIONES ...|      CABECERA|                   NO|  1 - VIVO (A)|    0 - NO REPORTADO|              1|\n",
      "|      100012537|           20190204|De 06 años| FEMENINO|  S - SUBSIDIADO|228 - EXPOSICIÓN ...|         41001|                   NO|         NEIVA|        1 - VIVO (A)|              2|\n",
      "|      100012624|           20151115|De 03 años|MASCULINO|  S - SUBSIDIADO|300 - AGRESIONES ...|         41001|                   NO|         NEIVA|        1 - VIVO (A)|              3|\n",
      "|      100012883|           20180521|De 06 años|MASCULINO|  S - SUBSIDIADO|831 - VARICELA IN...|      CABECERA|                   NO|  1 - VIVO (A)|    0 - NO REPORTADO|              1|\n",
      "|      100012932|           20131120|De 08 años| FEMENINO|C - CONTRIBUTIVO|        210 - DENGUE|         50001|                   NO| VILLAVICENCIO|        1 - VIVO (A)|              1|\n",
      "|      100013284|           20181005|De 16 años| FEMENINO|C - CONTRIBUTIVO|        210 - DENGUE|         47001|                   NO|   SANTA MARTA|        1 - VIVO (A)|              1|\n",
      "|      100013731|           20210428|De 17 años| FEMENINO|  S - SUBSIDIADO|370 - INTOXICACIÓ...|         47189|                   NO|       CIÉNAGA|        1 - VIVO (A)|              2|\n",
      "+---------------+-------------------+----------+---------+----------------+--------------------+--------------+---------------------+--------------+--------------------+---------------+\n",
      "only showing top 20 rows\n",
      "\n"
     ]
    },
    {
     "name": "stderr",
     "output_type": "stream",
     "text": [
      "\r",
      "[Stage 12:>                                                         (0 + 1) / 1]\r",
      "\r",
      "                                                                                \r"
     ]
    }
   ],
   "source": [
    "from pyspark.sql import SparkSession\n",
    "from pyspark.sql import functions as F\n",
    "from pyspark.sql.window import Window\n",
    "\n",
    "# Crear una sesión de Spark\n",
    "#spark = SparkSession.builder.appName(\"DataFrame Example\").getOrCreate()\n",
    "\n",
    "\n",
    "# Cargar el archivo Parquet en un DataFrame\n",
    "#df = df1\n",
    "\n",
    "# Seleccionar solo las columnas deseadas (sin 'personaid_count' ya que no existe aún)\n",
    "columns_to_keep = [\n",
    "    'PersonaBasicaID','FechaInicioSINTOmas', 'Edad', 'Sexo', 'TipoRegimen',\n",
    "    'Evento', 'Area', 'PacienteHospitalizado', 'CondicionFinal', 'DiagnosticoDefuncion'\n",
    "    \n",
    "]\n",
    "df_filtered = df.select(*columns_to_keep)\n",
    "\n",
    "# Agregar una nueva columna con el recuento distintivo de 'personaid'\n",
    "window_spec = Window.partitionBy('PersonaBasicaID')\n",
    "df_filtered = df_filtered.withColumn('personaid_count', F.count('PersonaBasicaID').over(window_spec))\n",
    "\n",
    "# Mostrar las primeras filas del DataFrame filtrado para verificar\n",
    "df_filtered.show()\n",
    "\n",
    "# Mostrar los nombres de las columnas filtradas para verificar\n",
    "print(\"Nombres de las columnas filtradas:\")\n",
    "print(df_filtered.columns)\n",
    "\n",
    "# Agrupar por la columna 'PersonaBasicaID'\n",
    "grouped_df = df_filtered.groupBy('PersonaBasicaID').agg(\n",
    "    F.first('FechaInicioSINTOmas').alias('FechaInicioSINTOmas'),\n",
    "    F.first('Edad').alias('Edad'),\n",
    "    F.first('Sexo').alias('Sexo'),\n",
    "    F.first('TipoRegimen').alias('TipoRegimen'),\n",
    "    F.first('Evento').alias('Evento'),\n",
    "    F.first('Area').alias('Area'),\n",
    "    F.first('PacienteHospitalizado').alias('PacienteHospitalizado'),\n",
    "    F.first('CondicionFinal').alias('CondicionFinal'),\n",
    "    F.first('DiagnosticoDefuncion').alias('DiagnosticoDefuncion'), \n",
    "   \n",
    "    \n",
    "    F.first('personaid_count').alias('personaid_count')\n",
    ")\n",
    "# Mostrar las primeras filas del DataFrame agrupado para verificar\n",
    "grouped_df.show()\n"
   ]
  },
  {
   "cell_type": "code",
   "execution_count": 72,
   "id": "b242c249",
   "metadata": {},
   "outputs": [
    {
     "name": "stderr",
     "output_type": "stream",
     "text": [
      "[Stage 15:===============>                                       (23 + 60) / 83]\r"
     ]
    },
    {
     "name": "stdout",
     "output_type": "stream",
     "text": [
      "El número de registros en el archivo Parquet es: 6082620\n"
     ]
    },
    {
     "name": "stderr",
     "output_type": "stream",
     "text": [
      "\r",
      "                                                                                \r"
     ]
    }
   ],
   "source": [
    "# Contar el número de registros - me da satisfactoriamente la cantidad de registros en cada año ( 97.416)\n",
    "record_count = grouped_df.count()\n",
    "\n",
    "# Mostrar el número de registros\n",
    "print(f\"El número de registros en el archivo Parquet es: {record_count}\")"
   ]
  },
  {
   "cell_type": "markdown",
   "id": "5cf30631",
   "metadata": {},
   "source": []
  },
  {
   "cell_type": "code",
   "execution_count": 73,
   "id": "0a7707a7",
   "metadata": {},
   "outputs": [],
   "source": [
    " df_final =grouped_df\n"
   ]
  },
  {
   "cell_type": "code",
   "execution_count": 74,
   "id": "c8edd29f",
   "metadata": {},
   "outputs": [
    {
     "name": "stderr",
     "output_type": "stream",
     "text": [
      "\r",
      "[Stage 19:=================================================>    (101 + 9) / 110]\r"
     ]
    },
    {
     "name": "stdout",
     "output_type": "stream",
     "text": [
      "El número de registros en el archivo Parquet es: 6082620\n"
     ]
    },
    {
     "name": "stderr",
     "output_type": "stream",
     "text": [
      "\r",
      "                                                                                \r"
     ]
    }
   ],
   "source": [
    "# Contar el número de registros - me da satisfactoriamente la cantidad de regustros en cada año \n",
    "record_count = df_final.count()\n",
    "\n",
    "# Mostrar el número de registros\n",
    "print(f\"El número de registros en el archivo Parquet es: {record_count}\")"
   ]
  },
  {
   "cell_type": "code",
   "execution_count": 75,
   "id": "6c4283ae",
   "metadata": {
    "scrolled": true
   },
   "outputs": [
    {
     "name": "stderr",
     "output_type": "stream",
     "text": [
      "[Stage 27:>                                                         (0 + 1) / 1]\r"
     ]
    },
    {
     "name": "stdout",
     "output_type": "stream",
     "text": [
      "+---------------+-------------------+----------+---------+----------------+--------------------+--------------+---------------------+--------------+--------------------+---------------+\n",
      "|PersonaBasicaID|FechaInicioSINTOmas|      Edad|     Sexo|     TipoRegimen|              Evento|          Area|PacienteHospitalizado|CondicionFinal|DiagnosticoDefuncion|personaid_count|\n",
      "+---------------+-------------------+----------+---------+----------------+--------------------+--------------+---------------------+--------------+--------------------+---------------+\n",
      "|      100003768|           20110609|De 21 años| FEMENINO|  S - SUBSIDIADO|360 - INTOXICACIÓ...|         05101|                   SI|CIUDAD BOLÍVAR|        1 - VIVO (A)|              1|\n",
      "|      100004206|           20210601|De 29 años|MASCULINO|  S - SUBSIDIADO|850 - VIH/SIDA/MO...|CENTRO POBLADO|                   NO|  1 - VIVO (A)|    0 - NO REPORTADO|              1|\n",
      "|      100004382|           20131020| De 01 año|MASCULINO|  S - SUBSIDIADO|831 - VARICELA IN...|         18001|                   NO|     FLORENCIA|        1 - VIVO (A)|              1|\n",
      "|       10000670|           20190922|De 68 años| FEMENINO|  S - SUBSIDIADO|831 - VARICELA IN...|         17380|                   SI|     LA DORADA|        1 - VIVO (A)|              1|\n",
      "|      100006912|          NO AJUSTA|De 26 años| FEMENINO|  S - SUBSIDIADO|390 - INTOXICACIÓ...|            27|  AFROCOLOMBIANO O...|         Chocó|            RIOSUCIO|              1|\n",
      "|      100007059|           20170525|De 14 años|MASCULINO|  S - SUBSIDIADO|300 - AGRESIONES ...|         50001|                   NO| VILLAVICENCIO|        1 - VIVO (A)|              1|\n",
      "|       10000720|           20201215|De 54 años| FEMENINO|C - CONTRIBUTIVO|300 - AGRESIONES ...|      CABECERA|                   NO|  1 - VIVO (A)|    0 - NO REPORTADO|              1|\n",
      "|      100008061|        PRIMERA VEZ|De 24 años|MASCULINO|C - CONTRIBUTIVO|360 - INTOXICACIÓ...|   Bogotá D.C.| CONFIRMADO POR CL...|         11001|            CABECERA|              2|\n",
      "|      100008310|           20200619|De 16 años|MASCULINO|C - CONTRIBUTIVO|850 - VIH/SIDA/MO...|         15776|                   NO|   SUTAMARCHÁN|        1 - VIVO (A)|              1|\n",
      "|      100009928|           20160407|De 04 años|MASCULINO|C - CONTRIBUTIVO|831 - VARICELA IN...|         11001|                   NO|   Bogotá D.C.|        1 - VIVO (A)|              1|\n",
      "|      100010328|           20180315|De 25 años| FEMENINO|C - CONTRIBUTIVO|300 - AGRESIONES ...|      CABECERA|                   NO|  1 - VIVO (A)|    0 - NO REPORTADO|              1|\n",
      "|      100010656|           20160229|De 25 años| FEMENINO|  S - SUBSIDIADO|470 - MALARIA FAL...|         27001|                   NO|        QUIBDÓ|        1 - VIVO (A)|              1|\n",
      "|      100010811|           20131105|De 10 años|MASCULINO|C - CONTRIBUTIVO|        210 - DENGUE|      CABECERA|                   SI|  1 - VIVO (A)|    0 - NO REPORTADO|              1|\n",
      "|      100011448|           20221116|De 17 años| FEMENINO|C - CONTRIBUTIVO|300 - AGRESIONES ...|      CABECERA|                   NO|  1 - VIVO (A)|    0 - NO REPORTADO|              1|\n",
      "|      100012537|           20170524|De 04 años| FEMENINO|  S - SUBSIDIADO|820 - TUBERCULOSI...|         41001|                   NO|         NEIVA|        1 - VIVO (A)|              2|\n",
      "|      100012624|           20151115|De 03 años|MASCULINO|  S - SUBSIDIADO|300 - AGRESIONES ...|         41001|                   NO|         NEIVA|        1 - VIVO (A)|              3|\n",
      "|      100012883|           20180521|De 06 años|MASCULINO|  S - SUBSIDIADO|831 - VARICELA IN...|      CABECERA|                   NO|  1 - VIVO (A)|    0 - NO REPORTADO|              1|\n",
      "|      100012932|           20131120|De 08 años| FEMENINO|C - CONTRIBUTIVO|        210 - DENGUE|         50001|                   NO| VILLAVICENCIO|        1 - VIVO (A)|              1|\n",
      "|      100013284|           20181005|De 16 años| FEMENINO|C - CONTRIBUTIVO|        210 - DENGUE|         47001|                   NO|   SANTA MARTA|        1 - VIVO (A)|              1|\n",
      "|      100013731|           20210428|De 17 años| FEMENINO|  S - SUBSIDIADO|356 - INTENTO DE ...|         47189|                   NO|       CIÉNAGA|        1 - VIVO (A)|              2|\n",
      "+---------------+-------------------+----------+---------+----------------+--------------------+--------------+---------------------+--------------+--------------------+---------------+\n",
      "only showing top 20 rows\n",
      "\n"
     ]
    },
    {
     "name": "stderr",
     "output_type": "stream",
     "text": [
      "\r",
      "                                                                                \r"
     ]
    }
   ],
   "source": [
    "# Mostrar las primeras filas del DataFrame agrupado para verificar\n",
    "df_final.show()"
   ]
  },
  {
   "cell_type": "markdown",
   "id": "3f2c7994",
   "metadata": {},
   "source": [
    "Se notifico que esta muestra tenia errores desde la fase de exploración, no se corrigieron... "
   ]
  },
  {
   "cell_type": "markdown",
   "id": "e121d260",
   "metadata": {},
   "source": [
    "# Empieza el proceso de generación de tablas SIVIGILA"
   ]
  },
  {
   "cell_type": "markdown",
   "id": "33603b04",
   "metadata": {},
   "source": [
    "# Pagina 1 - Power BI"
   ]
  },
  {
   "cell_type": "code",
   "execution_count": 76,
   "id": "ac961489",
   "metadata": {},
   "outputs": [],
   "source": [
    "# Cargar el archivo Parquet en un DataFrame ( uno distinto por si deseo comparar)\n",
    "df2 = df_final"
   ]
  },
  {
   "cell_type": "markdown",
   "id": "8fbd717b",
   "metadata": {},
   "source": [
    "## 1. Agrupado por año, mes, Edad, Sexo y TipoRegimen"
   ]
  },
  {
   "cell_type": "raw",
   "id": "0e8553ba",
   "metadata": {},
   "source": [
    "#intento 1 "
   ]
  },
  {
   "cell_type": "code",
   "execution_count": 77,
   "id": "4f68792b",
   "metadata": {},
   "outputs": [],
   "source": [
    "# Selecciona la columna 'FechaRegistro' y muestra sus datos\n",
    "#df2.select('FechaInicioSINTOmas').show(100, truncate=False)"
   ]
  },
  {
   "cell_type": "code",
   "execution_count": null,
   "id": "ac230a89",
   "metadata": {},
   "outputs": [],
   "source": []
  },
  {
   "cell_type": "code",
   "execution_count": 78,
   "id": "1c76f18c",
   "metadata": {},
   "outputs": [
    {
     "name": "stderr",
     "output_type": "stream",
     "text": [
      "[Stage 30:=====================================================>(124 + 2) / 126]\r"
     ]
    },
    {
     "name": "stdout",
     "output_type": "stream",
     "text": [
      "+----+---+-----------+---------+----------------+------------------+--------------------+\n",
      "| Año|Mes|       Edad|     Sexo|     TipoRegimen|Número_de_Personas|Número_de_Atenciones|\n",
      "+----+---+-----------+---------+----------------+------------------+--------------------+\n",
      "|2011|  8| De 08 años|MASCULINO|  S - SUBSIDIADO|               125|                 138|\n",
      "|2020|  3| De 25 años| FEMENINO|  S - SUBSIDIADO|               168|                 214|\n",
      "|2019|  9| De 24 años| FEMENINO|C - CONTRIBUTIVO|               256|                 302|\n",
      "|2022|  5| De 16 años| FEMENINO|  S - SUBSIDIADO|               285|                 432|\n",
      "|2022|  8| De 26 años| FEMENINO|C - CONTRIBUTIVO|               159|                 186|\n",
      "|2019|  1| De 58 años| FEMENINO|  S - SUBSIDIADO|                64|                  72|\n",
      "|2017|  9| De 21 años| FEMENINO|  S - SUBSIDIADO|               225|                 267|\n",
      "|2018|  2| De 20 años| FEMENINO|C - CONTRIBUTIVO|               177|                 208|\n",
      "|2019| 11| De 10 años| FEMENINO|C - CONTRIBUTIVO|               178|                 188|\n",
      "|2017|  3| De 18 años| FEMENINO|  S - SUBSIDIADO|               251|                 294|\n",
      "|2018|  5|  De 01 año|MASCULINO|  S - SUBSIDIADO|               403|                 445|\n",
      "|2019|  9| De 03 años|MASCULINO|C - CONTRIBUTIVO|               212|                 231|\n",
      "|2018| 10| De 33 años| FEMENINO|  S - SUBSIDIADO|               137|                 161|\n",
      "|2019|  4| De 19 años| FEMENINO|  S - SUBSIDIADO|               285|                 354|\n",
      "|2018| 11| De 07 años| FEMENINO|C - CONTRIBUTIVO|               181|                 196|\n",
      "|2022|  1| De 09 años| FEMENINO|C - CONTRIBUTIVO|               115|                 120|\n",
      "|2020| 11| De 19 años| FEMENINO|  S - SUBSIDIADO|               189|                 236|\n",
      "|2015|  2| De 29 años| FEMENINO|C - CONTRIBUTIVO|               168|                 193|\n",
      "|2022| 12| De 15 días|MASCULINO|C - CONTRIBUTIVO|                 8|                  10|\n",
      "|2010|  3| De 46 años| FEMENINO|  S - SUBSIDIADO|                41|                  65|\n",
      "|2010|  8| De 40 años|MASCULINO|  S - SUBSIDIADO|                41|                  50|\n",
      "|2009|  6| De 04 años|MASCULINO|C - CONTRIBUTIVO|               160|                 164|\n",
      "|2012|  9| De 38 años| FEMENINO|  S - SUBSIDIADO|                49|                  54|\n",
      "|2016|  4| De 47 años|MASCULINO|  S - SUBSIDIADO|                60|                  75|\n",
      "|2020|  5| De 32 años| FEMENINO|C - CONTRIBUTIVO|               136|                 155|\n",
      "|2022|  8| De 45 años|MASCULINO|C - CONTRIBUTIVO|                73|                  88|\n",
      "|2011| 11| De 61 años|MASCULINO|C - CONTRIBUTIVO|                13|                  13|\n",
      "|2013|  8| De 81 años|MASCULINO|  S - SUBSIDIADO|                 9|                   9|\n",
      "|2019| 12| De 70 años|MASCULINO|C - CONTRIBUTIVO|                27|                  28|\n",
      "|2013|  1| De 17 años|MASCULINO|C - CONTRIBUTIVO|               114|                 116|\n",
      "|2014| 12| De 31 años|MASCULINO|C - CONTRIBUTIVO|               118|                 126|\n",
      "|2017|  1| De 43 años|MASCULINO|C - CONTRIBUTIVO|                60|                  71|\n",
      "|2019|  8| De 56 años|MASCULINO|  S - SUBSIDIADO|                58|                  68|\n",
      "|2018| 11| De 02 años|MASCULINO|C - CONTRIBUTIVO|               171|                 185|\n",
      "|2008|  6| De 09 años| FEMENINO|  S - SUBSIDIADO|                38|                  39|\n",
      "|2021|  5| De 33 años|MASCULINO|    P - ESPECIAL|                11|                  20|\n",
      "|2010| 12| De 26 años|MASCULINO|C - CONTRIBUTIVO|                76|                  88|\n",
      "|2021|  5| De 47 años| FEMENINO|C - CONTRIBUTIVO|                42|                  46|\n",
      "|2016|  6| De 29 años|MASCULINO|C - CONTRIBUTIVO|               198|                 232|\n",
      "|2008| 11| De 27 días| FEMENINO| N - NO AFILIADO|                 1|                   1|\n",
      "|2017|  4| De 48 años|MASCULINO|  S - SUBSIDIADO|                40|                  49|\n",
      "|2010| 10| De 18 años|MASCULINO|    P - ESPECIAL|                35|                  38|\n",
      "|2016|  9| De 14 años|MASCULINO|  S - SUBSIDIADO|               143|                 163|\n",
      "|2012| 11|De 02 meses| FEMENINO|C - CONTRIBUTIVO|                26|                  28|\n",
      "|2015|  6| De 04 años|MASCULINO|  S - SUBSIDIADO|               195|                 220|\n",
      "|2008|  3| De 27 años| FEMENINO| N - NO AFILIADO|                22|                  25|\n",
      "|2019| 11| De 51 años| FEMENINO|  S - SUBSIDIADO|                65|                  73|\n",
      "|2018| 11| De 24 años|MASCULINO|C - CONTRIBUTIVO|               186|                 204|\n",
      "|2010| 10| De 18 años| FEMENINO| N - NO AFILIADO|                49|                  55|\n",
      "|2016|  4|  De 01 año|MASCULINO|  S - SUBSIDIADO|               459|                 540|\n",
      "|2022| 11| De 13 años| FEMENINO|  S - SUBSIDIADO|               206|                 260|\n",
      "|2020|  2| De 13 años|MASCULINO|    P - ESPECIAL|                18|                  20|\n",
      "|2021| 12| De 13 años|MASCULINO|  S - SUBSIDIADO|               212|                 261|\n",
      "|2018|  2| De 21 años|MASCULINO|C - CONTRIBUTIVO|               135|                 151|\n",
      "|2022|  3| De 11 años| FEMENINO|C - CONTRIBUTIVO|                95|                 110|\n",
      "|2017|  7| De 09 años|MASCULINO|  S - SUBSIDIADO|               158|                 160|\n",
      "|2013| 11| De 31 años| FEMENINO|C - CONTRIBUTIVO|               101|                 107|\n",
      "|2010|  4| De 07 años| FEMENINO|  S - SUBSIDIADO|               167|                 193|\n",
      "|2017|  2| De 18 años|MASCULINO| N - NO AFILIADO|                14|                  17|\n",
      "|2020|  5|  De 01 año| FEMENINO|  S - SUBSIDIADO|               161|                 181|\n",
      "|2018|  6|De 07 meses| FEMENINO|  S - SUBSIDIADO|                41|                  45|\n",
      "|2022|  2| De 02 años| FEMENINO|C - CONTRIBUTIVO|               128|                 142|\n",
      "|2022| 12| De 03 años| FEMENINO|  S - SUBSIDIADO|               257|                 302|\n",
      "|2022|  3| De 07 años| FEMENINO|  S - SUBSIDIADO|               141|                 171|\n",
      "|2010|  3| De 31 años| FEMENINO| N - NO AFILIADO|                46|                  55|\n",
      "|2020|  5| De 19 años|MASCULINO|  S - SUBSIDIADO|               139|                 166|\n",
      "|2022|  7| De 09 años| FEMENINO|  S - SUBSIDIADO|               237|                 263|\n",
      "|2022| 11| De 69 años| FEMENINO|  S - SUBSIDIADO|                43|                  47|\n",
      "|2021| 10| De 07 años| FEMENINO|C - CONTRIBUTIVO|               114|                 117|\n",
      "|2022| 12| De 45 años| FEMENINO|C - CONTRIBUTIVO|                62|                  73|\n",
      "|2022|  8|  De 01 mes|MASCULINO|  S - SUBSIDIADO|               149|                 176|\n",
      "|2013|  7| De 26 años|MASCULINO|    P - ESPECIAL|                25|                  32|\n",
      "|2015|  7| De 41 años|MASCULINO|C - CONTRIBUTIVO|                55|                  62|\n",
      "|2012|  6| De 69 años| FEMENINO|  S - SUBSIDIADO|                12|                  13|\n",
      "|2016| 10| De 41 años| FEMENINO|C - CONTRIBUTIVO|                77|                  82|\n",
      "|2008|  4| De 55 años| FEMENINO|C - CONTRIBUTIVO|                12|                  12|\n",
      "|2016|  3| De 58 años|MASCULINO|ND - NO DEFINIDO|                 1|                   1|\n",
      "|2020|  1| De 65 años|MASCULINO|  S - SUBSIDIADO|                42|                  50|\n",
      "|2009|  7|  De 01 año| FEMENINO| N - NO AFILIADO|                46|                  53|\n",
      "|2020|  1| De 69 años|MASCULINO|C - CONTRIBUTIVO|                27|                  28|\n",
      "|2012|  1| De 13 años| FEMENINO|  S - SUBSIDIADO|                88|                  94|\n",
      "|2015|  6| De 47 años| FEMENINO| N - NO AFILIADO|                 3|                   4|\n",
      "|2009|  8| De 31 años|MASCULINO|C - CONTRIBUTIVO|                49|                  57|\n",
      "|2022| 11| De 35 años| FEMENINO|C - CONTRIBUTIVO|               121|                 143|\n",
      "|2012|  1| De 67 años|MASCULINO|C - CONTRIBUTIVO|                 9|                   9|\n",
      "|2014|  9| De 54 años|MASCULINO|C - CONTRIBUTIVO|                35|                  37|\n",
      "|2018|  5| De 54 años|MASCULINO|C - CONTRIBUTIVO|                52|                  56|\n",
      "|2012|  6| De 73 años| FEMENINO|C - CONTRIBUTIVO|                12|                  12|\n",
      "|2021|  8| De 73 años|MASCULINO|C - CONTRIBUTIVO|                19|                  20|\n",
      "|2017|  2| De 30 años|MASCULINO|C - CONTRIBUTIVO|                84|                 106|\n",
      "|2016|  5| De 30 años| FEMENINO|C - CONTRIBUTIVO|               365|                 425|\n",
      "|2011|  3| De 37 años| FEMENINO|  S - SUBSIDIADO|                39|                  43|\n",
      "|2012|  3| De 31 años| FEMENINO| N - NO AFILIADO|                11|                  12|\n",
      "|2022|  6| De 55 años|MASCULINO|C - CONTRIBUTIVO|                56|                  62|\n",
      "|2021|  3| De 40 años| FEMENINO|C - CONTRIBUTIVO|                61|                  72|\n",
      "|2010| 12| De 39 años| FEMENINO|  S - SUBSIDIADO|                23|                  26|\n",
      "|2017| 12| De 62 años| FEMENINO|  S - SUBSIDIADO|                37|                  43|\n",
      "|2019|  4| De 49 años| FEMENINO|  S - SUBSIDIADO|                55|                  67|\n",
      "|2018|  6| De 62 años|MASCULINO|C - CONTRIBUTIVO|                30|                  31|\n",
      "|2017|  4| De 47 años|MASCULINO|  S - SUBSIDIADO|                42|                  45|\n",
      "+----+---+-----------+---------+----------------+------------------+--------------------+\n",
      "only showing top 100 rows\n",
      "\n",
      "Nombres de las columnas agrupadas:\n",
      "['Año', 'Mes', 'Edad', 'Sexo', 'TipoRegimen', 'Número_de_Personas', 'Número_de_Atenciones']\n"
     ]
    },
    {
     "name": "stderr",
     "output_type": "stream",
     "text": [
      "\r",
      "                                                                                \r"
     ]
    }
   ],
   "source": [
    "\n",
    "# Seleccionar solo las columnas deseadas\n",
    "columns_to_keep = [\n",
    "    'PersonaBasicaID', 'FechaInicioSINTOmas', 'Edad', 'Sexo', 'TipoRegimen',\n",
    "    'Evento', 'Area', 'PacienteHospitalizado', 'CondicionFinal', 'DiagnosticoDefuncion', 'personaid_count'\n",
    "]\n",
    "df_filtered = df2.select(*columns_to_keep)\n",
    "\n",
    "# Convertir 'FechaInicioSINTOmas' a tipo fecha con el formato correcto, manejando errores ( por que vienen datos errones entre columnas)\n",
    "df_filtered = df_filtered.withColumn(\n",
    "    'FechaInicioSINTOmas',\n",
    "    F.when(F.col('FechaInicioSINTOmas').rlike('^\\d{8}$'), F.to_date('FechaInicioSINTOmas', 'yyyyMMdd'))\n",
    "     .otherwise(None)  # Asignar None (nulo) a valores que no coinciden con el patrón de fecha\n",
    ")\n",
    "\n",
    "# Filtrar valores atípicos (por ejemplo, 19000101)\n",
    "df_filtered = df_filtered.filter(\n",
    "    (F.col('FechaInicioSINTOmas').isNotNull()) & (F.col('FechaInicioSINTOmas') > '1900-01-01')\n",
    ")\n",
    "\n",
    "# Extraer año y mes de la columna 'FechaInicioSINTOmas'\n",
    "df_filtered = df_filtered.withColumn('Año', F.year('FechaInicioSINTOmas'))\n",
    "df_filtered = df_filtered.withColumn('Mes', F.month('FechaInicioSINTOmas'))\n",
    "\n",
    "# Agrupar por año, mes, Edad, sexo y tipo de régimen\n",
    "result_df = df_filtered.groupBy('Año', 'Mes', 'Edad', 'Sexo', 'TipoRegimen').agg(\n",
    "    F.countDistinct('PersonaBasicaID').alias('Número_de_Personas'),\n",
    "    F.sum('personaid_count').alias('Número_de_Atenciones')\n",
    ")\n",
    "\n",
    "# Mostrar los resultados\n",
    "result_df.show(100)\n",
    "\n",
    "# Imprimir los nombres de las columnas agrupadas para verificar\n",
    "print(\"Nombres de las columnas agrupadas:\")\n",
    "print(result_df.columns)"
   ]
  },
  {
   "cell_type": "markdown",
   "id": "67819215",
   "metadata": {},
   "source": []
  },
  {
   "cell_type": "code",
   "execution_count": 79,
   "id": "dd4e1f6a",
   "metadata": {},
   "outputs": [
    {
     "name": "stderr",
     "output_type": "stream",
     "text": [
      "                                                                                \r"
     ]
    }
   ],
   "source": [
    "#se escribe el parquet tabla 1- Agrupado por año, mes, Edad, sexo y tipo de régimen\n",
    "result_df.write.parquet(\"hdfs:/analyticsdata/1.SIVIGILA_Tabla_anio_mes_Edad_sexo_TipoRegimen_Todos.parquet\") "
   ]
  },
  {
   "cell_type": "markdown",
   "id": "e3c823ae",
   "metadata": {},
   "source": [
    "# 2. Agrupado por año, mes, Edad, Sexo y Evento"
   ]
  },
  {
   "cell_type": "code",
   "execution_count": 80,
   "id": "91e26ad2",
   "metadata": {},
   "outputs": [
    {
     "name": "stderr",
     "output_type": "stream",
     "text": [
      "[Stage 42:=====================================================>(125 + 1) / 126]\r"
     ]
    },
    {
     "name": "stdout",
     "output_type": "stream",
     "text": [
      "+----+---+-----------+---------+--------------------+------------------+--------------------+\n",
      "| Año|Mes|       Edad|     Sexo|              Evento|Número_de_Personas|Número_de_Atenciones|\n",
      "+----+---+-----------+---------+--------------------+------------------+--------------------+\n",
      "|2021| 10| De 09 años| FEMENINO|300 - AGRESIONES ...|               112|                 117|\n",
      "|2020|  5| De 07 años|MASCULINO|300 - AGRESIONES ...|                75|                  85|\n",
      "|2015|  2| De 24 años|MASCULINO|300 - AGRESIONES ...|                52|                  57|\n",
      "|2012| 11|De 04 meses| FEMENINO|831 - VARICELA IN...|                16|                  17|\n",
      "|2020|  2| De 24 años| FEMENINO|549 - MORBILIDAD ...|                68|                  75|\n",
      "|2011|  4| De 03 años| FEMENINO|831 - VARICELA IN...|               274|                 286|\n",
      "|2011| 11| De 03 años|MASCULINO|300 - AGRESIONES ...|                52|                  56|\n",
      "|2016|  6| De 09 años|MASCULINO|300 - AGRESIONES ...|               164|                 175|\n",
      "|2017| 10| De 10 años|MASCULINO|831 - VARICELA IN...|               145|                 157|\n",
      "|2018|  2|  De 01 año| FEMENINO|400 - INTOXICACIÓ...|                16|                  16|\n",
      "|2012|  9| De 33 años|MASCULINO|        210 - DENGUE|                23|                  25|\n",
      "|2008| 12| De 21 años|MASCULINO|   620 - PAROTIDITIS|                 7|                   7|\n",
      "|2009| 10| De 43 años|MASCULINO|300 - AGRESIONES ...|                 6|                   7|\n",
      "|2013|  8| De 22 años|MASCULINO|831 - VARICELA IN...|                38|                  43|\n",
      "|2017|  6| De 10 años| FEMENINO|831 - VARICELA IN...|                87|                  93|\n",
      "|2018| 12|  De 01 año|MASCULINO|831 - VARICELA IN...|               107|                 109|\n",
      "|2016| 11| De 56 años|MASCULINO|100 - ACCIDENTE O...|                 4|                   6|\n",
      "|2018|  5|De 04 meses|MASCULINO|345 - ESI - IRAG ...|                11|                  13|\n",
      "|2020|  1|De 07 meses|MASCULINO|343 - HIPOTIROIDI...|                 1|                   1|\n",
      "|2022|  1|  De 01 año|MASCULINO|831 - VARICELA IN...|                73|                  75|\n",
      "|2010|  4| De 26 años|MASCULINO|420 - LEISHMANIAS...|                46|                  72|\n",
      "|2010| 11| De 06 años|MASCULINO|   620 - PAROTIDITIS|                12|                  14|\n",
      "|2015| 11| De 28 años| FEMENINO|          895 - ZIKA|                48|                  52|\n",
      "|2011|  3| De 65 años|MASCULINO|300 - AGRESIONES ...|                 8|                   9|\n",
      "|2011|  7| De 24 años|MASCULINO|831 - VARICELA IN...|                55|                  60|\n",
      "|2022|  5| De 54 años| FEMENINO|   620 - PAROTIDITIS|                 3|                   4|\n",
      "|2018|  9| De 31 años| FEMENINO|549 - MORBILIDAD ...|                76|                  90|\n",
      "|2018|  7| De 44 años| FEMENINO|356 - INTENTO DE ...|                 8|                  17|\n",
      "|2008| 11| De 32 años| FEMENINO|831 - VARICELA IN...|                23|                  25|\n",
      "|2015|  5| De 18 años| FEMENINO|   217 - CHIKUNGUNYA|                58|                  65|\n",
      "|2021|  6| De 67 años| FEMENINO|300 - AGRESIONES ...|                16|                  19|\n",
      "|2010|  4| De 05 años| FEMENINO|300 - AGRESIONES ...|                25|                  25|\n",
      "|2010|  3| De 08 años| FEMENINO|        210 - DENGUE|               191|                 202|\n",
      "|2016|  3| De 15 años| FEMENINO|        210 - DENGUE|                92|                 101|\n",
      "|2010|  7| De 32 años|MASCULINO|        210 - DENGUE|                77|                  90|\n",
      "|2022|  3| De 53 años| FEMENINO|300 - AGRESIONES ...|                61|                  63|\n",
      "|2012|  4| De 27 años| FEMENINO|560 - MORTALIDAD ...|                13|                  19|\n",
      "|2020| 10| De 36 años|MASCULINO|820 - TUBERCULOSI...|                 8|                  10|\n",
      "|2013|  9| De 29 años| FEMENINO|110 - BAJO PESO A...|                31|                  34|\n",
      "|2010|  6| De 59 años|MASCULINO|        210 - DENGUE|                34|                  36|\n",
      "|2013|  6| De 69 años|MASCULINO|        210 - DENGUE|                 8|                  10|\n",
      "|2013|  5| De 30 años|MASCULINO|420 - LEISHMANIAS...|                 6|                  11|\n",
      "|2012|  8| De 66 años|MASCULINO| 490 - MALARIA VIVAX|                 2|                   4|\n",
      "|2021| 11| De 33 años| FEMENINO|356 - INTENTO DE ...|                 9|                  12|\n",
      "|2018|  5| De 55 años| FEMENINO|300 - AGRESIONES ...|                49|                  49|\n",
      "|2016| 11| De 16 años| FEMENINO|831 - VARICELA IN...|                98|                 103|\n",
      "|2009|  5| De 16 años| FEMENINO|360 - INTOXICACIÓ...|                18|                  18|\n",
      "|2010|  9| De 27 años|MASCULINO| 490 - MALARIA VIVAX|                30|                  64|\n",
      "|2014|  8| De 05 años| FEMENINO|345 - ESI - IRAG ...|                 6|                   6|\n",
      "|2012| 11| De 03 años|MASCULINO|831 - VARICELA IN...|               310|                 326|\n",
      "|2013|  6| De 15 años|MASCULINO|414 - INTOXICACIO...|                 8|                   8|\n",
      "|2009|  8| De 18 años|MASCULINO|820 - TUBERCULOSI...|                 1|                   1|\n",
      "|2014| 12| De 04 años| FEMENINO|        210 - DENGUE|                67|                  79|\n",
      "|2011| 11| De 12 años|MASCULINO|831 - VARICELA IN...|               142|                 146|\n",
      "|2012|  5| De 10 años|MASCULINO|300 - AGRESIONES ...|               100|                 105|\n",
      "|2020|  3| De 27 años|MASCULINO|348 - INFECCION R...|                 2|                   2|\n",
      "|2015|  5| De 28 años|MASCULINO|   217 - CHIKUNGUNYA|                39|                  44|\n",
      "|2010| 10| De 18 años|MASCULINO|   620 - PAROTIDITIS|                40|                  43|\n",
      "|2020|  6| De 19 años|MASCULINO|348 - INFECCION R...|                 7|                   8|\n",
      "|2014|  5| De 02 años| FEMENINO|        210 - DENGUE|                68|                  75|\n",
      "|2019|  4| De 25 años| FEMENINO|110 - BAJO PESO A...|                38|                  40|\n",
      "|2016|  6| De 22 años| FEMENINO|560 - MORTALIDAD ...|                34|                  45|\n",
      "|2020| 12| De 07 años|MASCULINO|300 - AGRESIONES ...|               135|                 151|\n",
      "|2016|  7| De 22 años| FEMENINO|549 - MORBILIDAD ...|                69|                  89|\n",
      "|2020| 10| De 25 años| FEMENINO|750 - SÍFILIS GES...|                18|                  21|\n",
      "|2017| 12| De 03 años|MASCULINO|831 - VARICELA IN...|               113|                 120|\n",
      "|2021| 10| De 07 años| FEMENINO|459 - CANCER INFA...|                 1|                   1|\n",
      "|2016|  2| De 19 años| FEMENINO|          895 - ZIKA|               327|                 368|\n",
      "|2015|  3|  De 01 año|MASCULINO|   217 - CHIKUNGUNYA|                41|                  44|\n",
      "|2018|  1| De 20 años| FEMENINO|400 - INTOXICACIÓ...|                 2|                   5|\n",
      "|2013|  7| De 12 años|MASCULINO|        210 - DENGUE|               196|                 201|\n",
      "|2016|  7| De 26 años|MASCULINO|470 - MALARIA FAL...|                 8|                  24|\n",
      "|2020| 11| De 03 años|MASCULINO|831 - VARICELA IN...|                 5|                   6|\n",
      "|2020|  6| De 38 años|MASCULINO|300 - AGRESIONES ...|                40|                  42|\n",
      "|2018| 12| De 19 años| FEMENINO|356 - INTENTO DE ...|                43|                  82|\n",
      "|2018| 11| De 08 años| FEMENINO|300 - AGRESIONES ...|               120|                 128|\n",
      "|2019|  6| De 12 años| FEMENINO|470 - MALARIA FAL...|                16|                  28|\n",
      "|2022|  6| De 03 años|MASCULINO|        210 - DENGUE|                59|                  65|\n",
      "|2019|  4|  De 01 año| FEMENINO|300 - AGRESIONES ...|                76|                  78|\n",
      "|2019|  4| De 35 años|MASCULINO|831 - VARICELA IN...|                18|                  18|\n",
      "|2022|  1| De 20 años|MASCULINO|        210 - DENGUE|                31|                  31|\n",
      "|2021| 10|De 08 meses|MASCULINO|735 - ANOMALIAS C...|                 8|                   8|\n",
      "|2022| 12| De 02 años|MASCULINO| 490 - MALARIA VIVAX|                15|                  23|\n",
      "|2015|  5| De 68 años| FEMENINO|        210 - DENGUE|                15|                  20|\n",
      "|2022|  8|De 02 meses| FEMENINO|348 - INFECCION R...|                82|                  91|\n",
      "|2014|  5| De 30 años| FEMENINO|810 - TUBERCULOSI...|                 2|                   2|\n",
      "|2022|  3| De 15 años|MASCULINO|850 - VIH/SIDA/MO...|                 4|                   4|\n",
      "|2015|  4| De 32 años| FEMENINO|        210 - DENGUE|                51|                  64|\n",
      "|2017|  4| De 35 años|MASCULINO|420 - LEISHMANIAS...|                 6|                   6|\n",
      "|2022|  7|  De 75años| FEMENINO|348 - INFECCION R...|                99|                 111|\n",
      "|2022|  7| De 53 años| FEMENINO|300 - AGRESIONES ...|                60|                  66|\n",
      "|2016| 10| De 40 años| FEMENINO|549 - MORBILIDAD ...|                25|                  30|\n",
      "|2012|  9| De 44 años|MASCULINO|820 - TUBERCULOSI...|                 8|                  10|\n",
      "|2008|  5| De 62 años|MASCULINO| 490 - MALARIA VIVAX|                 4|                   4|\n",
      "|2020|  5| De 35 años| FEMENINO|        210 - DENGUE|                30|                  31|\n",
      "|2018|  7| De 27 años| FEMENINO|   620 - PAROTIDITIS|                16|                  18|\n",
      "|2016|  2|  De 01 año| FEMENINO| 490 - MALARIA VIVAX|                21|                  49|\n",
      "|2021|  7| De 44 años| FEMENINO|300 - AGRESIONES ...|                41|                  45|\n",
      "|2018|  2| De 54 años|MASCULINO|414 - INTOXICACIO...|                 6|                   6|\n",
      "|2017|  6| De 42 años| FEMENINO|549 - MORBILIDAD ...|                 9|                  11|\n",
      "+----+---+-----------+---------+--------------------+------------------+--------------------+\n",
      "only showing top 100 rows\n",
      "\n",
      "Nombres de las columnas agrupadas:\n",
      "['Año', 'Mes', 'Edad', 'Sexo', 'Evento', 'Número_de_Personas', 'Número_de_Atenciones']\n"
     ]
    },
    {
     "name": "stderr",
     "output_type": "stream",
     "text": [
      "\r",
      "                                                                                \r"
     ]
    }
   ],
   "source": [
    "# Seleccionar solo las columnas deseadas\n",
    "columns_to_keep = [\n",
    "    'PersonaBasicaID', 'FechaInicioSINTOmas', 'Edad', 'Sexo', 'TipoRegimen',\n",
    "    'Evento', 'Area', 'PacienteHospitalizado', 'CondicionFinal', 'DiagnosticoDefuncion', 'personaid_count'\n",
    "]\n",
    "df_filtered = df2.select(*columns_to_keep)\n",
    "\n",
    "# Convertir 'FechaInicioSINTOmas' a tipo fecha con el formato correcto, manejando errores ( por que vienen datos errones entre columnas)\n",
    "df_filtered = df_filtered.withColumn(\n",
    "    'FechaInicioSINTOmas',\n",
    "    F.when(F.col('FechaInicioSINTOmas').rlike('^\\d{8}$'), F.to_date('FechaInicioSINTOmas', 'yyyyMMdd'))\n",
    "     .otherwise(None)  # Asignar None (nulo) a valores que no coinciden con el patrón de fecha\n",
    ")\n",
    "\n",
    "# Filtrar valores atípicos (por ejemplo, 19000101)\n",
    "df_filtered = df_filtered.filter(\n",
    "    (F.col('FechaInicioSINTOmas').isNotNull()) & (F.col('FechaInicioSINTOmas') > '1900-01-01')\n",
    ")\n",
    "\n",
    "# Extraer año y mes de la columna 'FechaInicioSINTOmas'\n",
    "df_filtered = df_filtered.withColumn('Año', F.year('FechaInicioSINTOmas'))\n",
    "df_filtered = df_filtered.withColumn('Mes', F.month('FechaInicioSINTOmas'))\n",
    "\n",
    "# Agrupar por año, mes, Edad ,sexo y Evento\n",
    "result_df = df_filtered.groupBy('Año', 'Mes', 'Edad', 'Sexo', 'Evento').agg(\n",
    "    F.countDistinct('PersonaBasicaID').alias('Número_de_Personas'),\n",
    "    F.sum('personaid_count').alias('Número_de_Atenciones')\n",
    ")\n",
    "\n",
    "# Mostrar los resultados\n",
    "result_df.show(100)\n",
    "\n",
    "# Imprimir los nombres de las columnas agrupadas para verificar\n",
    "print(\"Nombres de las columnas agrupadas:\")\n",
    "print(result_df.columns)\n"
   ]
  },
  {
   "cell_type": "markdown",
   "id": "256b1fd2",
   "metadata": {},
   "source": []
  },
  {
   "cell_type": "code",
   "execution_count": 81,
   "id": "d856e404",
   "metadata": {},
   "outputs": [
    {
     "name": "stderr",
     "output_type": "stream",
     "text": [
      "                                                                                \r"
     ]
    }
   ],
   "source": [
    "#se escribe el parquet tabla 2- Agrupado por año, mes, Edad, sexo y Evento\n",
    "result_df.write.parquet(\"hdfs:/analyticsdata/2.SIVIGILA_Tabla_anio_mes_Edad_sexo_Evento_Todos.parquet\") "
   ]
  },
  {
   "cell_type": "markdown",
   "id": "91886959",
   "metadata": {},
   "source": [
    "# 3.  Agrupado por año, mes, Edad, Sexo y Area"
   ]
  },
  {
   "cell_type": "code",
   "execution_count": 82,
   "id": "9b7531a2",
   "metadata": {},
   "outputs": [
    {
     "name": "stderr",
     "output_type": "stream",
     "text": [
      "[Stage 54:=====================================================>(125 + 1) / 126]\r"
     ]
    },
    {
     "name": "stdout",
     "output_type": "stream",
     "text": [
      "+----+---+-----------+---------+-------------------+------------------+--------------------+\n",
      "| Año|Mes|       Edad|     Sexo|               Area|Número_de_Personas|Número_de_Atenciones|\n",
      "+----+---+-----------+---------+-------------------+------------------+--------------------+\n",
      "|2015|  7| De 21 años|MASCULINO|              70702|                 1|                   1|\n",
      "|2012|  9|De 07 meses|MASCULINO|              73555|                 1|                   1|\n",
      "|2020|  5| De 28 años|MASCULINO|              05642|                 1|                   1|\n",
      "|2022| 12| De 35 años| FEMENINO|           CABECERA|                48|                  53|\n",
      "|2018|  7| De 10 años|MASCULINO|     CENTRO POBLADO|                 7|                   8|\n",
      "|2019| 12| De 24 años|MASCULINO|              05001|                13|                  24|\n",
      "|2015|  7| De 08 años| FEMENINO|              08433|                 1|                   1|\n",
      "|2018|  3| De 22 años| FEMENINO|              25473|                 2|                   2|\n",
      "|2012|  8| De 15 años|MASCULINO|              05837|                 1|                   2|\n",
      "|2017| 11| De 03 años| FEMENINO|              05665|                 1|                   1|\n",
      "|2022|  5| De 25 años|MASCULINO|              70508|                 2|                   3|\n",
      "|2015|  4|De 02 meses|MASCULINO|           CABECERA|                33|                  38|\n",
      "|2021|  2| De 05 años| FEMENINO|           CABECERA|                68|                  77|\n",
      "|2016|  8|De 07 meses|MASCULINO|              41001|                 1|                   1|\n",
      "|2021|  9| De 17 años| FEMENINO|              20001|                 7|                   8|\n",
      "|2018|  4| De 20 años|MASCULINO|              95001|                 1|                   1|\n",
      "|2020| 11| De 59 años|MASCULINO|           CABECERA|                12|                  12|\n",
      "|2019|  2| De 50 años|MASCULINO|           CABECERA|                31|                  36|\n",
      "|2021|  9| De 11 años|MASCULINO|              20550|                 1|                   1|\n",
      "|2022|  7| De 12 años|MASCULINO|              23001|                 2|                   2|\n",
      "|2020| 11| De 20 años|MASCULINO|              08758|                 2|                   2|\n",
      "|2022|  6| De 03 años|MASCULINO|              05001|                19|                  23|\n",
      "|2012|  5| De 03 años|MASCULINO|              05400|                 1|                   1|\n",
      "|2011|  9| De 23 años| FEMENINO|              15491|                 1|                   1|\n",
      "|2018|  2| De 69 años| FEMENINO|AREA RURAL DISPERSA|                 3|                   3|\n",
      "|2014|  8| De 47 años| FEMENINO|              25799|                 1|                   1|\n",
      "|2016| 11| De 69 años| FEMENINO|              76892|                 1|                   1|\n",
      "|2009| 11| De 27 años| FEMENINO|              05495|                 1|                   1|\n",
      "|2013| 10| De 12 años|MASCULINO|              68001|                11|                  13|\n",
      "|2011|  8| De 52 años|MASCULINO|           CABECERA|                 5|                   6|\n",
      "|2009|  1| De 17 años| FEMENINO|              86568|                 1|                   1|\n",
      "|2011| 10| De 45 años| FEMENINO|              76001|                 5|                   6|\n",
      "|2010|  9| De 04 años| FEMENINO|              25290|                 1|                   1|\n",
      "|2017|  2| De 29 años| FEMENINO|           CABECERA|                22|                  31|\n",
      "|2012|  8| De 41 años|MASCULINO|              05858|                 1|                   4|\n",
      "|2011|  8| De 39 años| FEMENINO|              23807|                 1|                   1|\n",
      "|2019| 11| De 58 años| FEMENINO|              23675|                 1|                   2|\n",
      "|2018|  9| De 42 años|MASCULINO|AREA RURAL DISPERSA|                15|                  21|\n",
      "|2018|  4| De 33 años| FEMENINO|     CENTRO POBLADO|                 8|                   9|\n",
      "|2008|  5| De 54 años|MASCULINO|              76001|                 4|                   6|\n",
      "|2019| 10| De 42 años| FEMENINO|AREA RURAL DISPERSA|                12|                  12|\n",
      "|2022|  7| De 81 años|MASCULINO|AREA RURAL DISPERSA|                25|                  30|\n",
      "|2011| 12| De 39 años|MASCULINO|              17446|                 1|                   1|\n",
      "|2011| 11| De 32 años|MASCULINO|              70001|                 3|                   3|\n",
      "|2010|  4| De 29 años| FEMENINO|              05172|                 1|                   1|\n",
      "|2015|  8| De 44 años|MASCULINO|              76403|                 1|                   1|\n",
      "|2012| 12| De 59 años|MASCULINO|           CABECERA|                 9|                   9|\n",
      "|2009|  1| De 65 años| FEMENINO|              76041|                 1|                   1|\n",
      "|2017|  6| De 36 años|MASCULINO|              11001|                21|                  22|\n",
      "|2013|  5| De 09 años| FEMENINO|              41001|                 5|                   5|\n",
      "|2020|  1| De 49 años| FEMENINO|              18753|                 1|                   1|\n",
      "|2015|  6|NO DEFINIDO|     AÑOS|           MEDELLÍN|                 1|                   2|\n",
      "|2019|  5| De 55 años| FEMENINO|              47288|                 1|                   1|\n",
      "|2019|  6| De 31 años| FEMENINO|              11001|                29|                  35|\n",
      "|2014| 10| De 25 años| FEMENINO|AREA RURAL DISPERSA|                10|                  10|\n",
      "|2013|  9| De 25 años| FEMENINO|              68418|                 1|                   1|\n",
      "|2013|  7| De 06 años| FEMENINO|              76001|                20|                  21|\n",
      "|2016|  8| De 17 años| FEMENINO|              23001|                 7|                   8|\n",
      "|2021|  9| De 31 años|MASCULINO|           CABECERA|                42|                  50|\n",
      "|2019|  8| De 15 años|MASCULINO|              68755|                 1|                   1|\n",
      "|2013| 11| De 22 años|MASCULINO|              41518|                 1|                   1|\n",
      "|2016| 12| De 06 años| FEMENINO|              41001|                11|                  12|\n",
      "|2019|  1| De 14 años| FEMENINO|              50577|                 1|                   1|\n",
      "|2016|  6| De 25 años| FEMENINO|              05380|                 1|                   2|\n",
      "|2014| 12| De 26 años| FEMENINO|           CABECERA|               121|                 132|\n",
      "|2014| 10| De 12 años|MASCULINO|              86001|                 1|                   1|\n",
      "|2015| 10| De 22 años|MASCULINO|           CABECERA|                39|                  42|\n",
      "|2017|  9| De 24 años| FEMENINO|              20238|                 1|                   1|\n",
      "|2015| 10| De 04 años| FEMENINO|              23660|                 3|                   4|\n",
      "|2014| 12| De 73 años|MASCULINO|              41548|                 1|                   1|\n",
      "|2011|  2| De 21 años|MASCULINO|              05237|                 2|                   2|\n",
      "|2020|  5| De 27 años| FEMENINO|           CABECERA|                93|                 105|\n",
      "|2016|  5| De 14 años| FEMENINO|              17042|                 1|                   1|\n",
      "|2016|  8| De 21 años|MASCULINO|              63130|                 2|                   3|\n",
      "|2018|  8| De 14 años|MASCULINO|AREA RURAL DISPERSA|                15|                  17|\n",
      "|2022|  5| De 16 años|MASCULINO|              76036|                 1|                   1|\n",
      "|2021| 12| De 16 años|MASCULINO|              25867|                 1|                   1|\n",
      "|2019|  2| De 13 años|MASCULINO|           CABECERA|               130|                 140|\n",
      "|2014| 11| De 19 años|MASCULINO|              76520|                 3|                   3|\n",
      "|2016|  4|  De 01 año|MASCULINO|              23162|                 1|                   2|\n",
      "|2022|  4| De 14 años|MASCULINO|              68500|                 1|                   1|\n",
      "|2017|  7| De 20 años| FEMENINO|              11001|                69|                  75|\n",
      "|2013|  6| De 31 años|MASCULINO|              19318|                 1|                   1|\n",
      "|2019|  9| De 22 años|MASCULINO|           CABECERA|               126|                 139|\n",
      "|2019|  7| De 08 años|MASCULINO|              68001|                 5|                   6|\n",
      "|2022|  9| De 06 años|MASCULINO|AREA RURAL DISPERSA|                17|                  21|\n",
      "|2017|  5|De 08 meses|MASCULINO|           CABECERA|                21|                  26|\n",
      "|2022|  3| De 50 años|MASCULINO|              41530|                 1|                   1|\n",
      "|2021|  3| De 35 años| FEMENINO|              76001|                 7|                   8|\n",
      "|2009|  7| De 19 años| FEMENINO|              95001|                 1|                   1|\n",
      "|2015|  7| De 40 años| FEMENINO|              11001|                14|                  16|\n",
      "|2018|  9|  De 01 año| FEMENINO|              13580|                 1|                   1|\n",
      "|2019| 12|  De 01 año|MASCULINO|              54498|                 5|                   5|\n",
      "|2018| 10|De 02 meses|MASCULINO|              05001|                 6|                   6|\n",
      "|2020|  2| De 57 años| FEMENINO|           CABECERA|                54|                  56|\n",
      "|2022|  2| De 12 años| FEMENINO|AREA RURAL DISPERSA|                 9|                  13|\n",
      "|2012|  8| De 12 años| FEMENINO|              11001|                40|                  40|\n",
      "|2022|  5|  De 01 mes|MASCULINO|           CABECERA|               216|                 256|\n",
      "|2022|  6| De 60 años| FEMENINO|              54405|                 1|                   2|\n",
      "|2020|  7| De 38 años|MASCULINO|              13836|                 1|                   1|\n",
      "+----+---+-----------+---------+-------------------+------------------+--------------------+\n",
      "only showing top 100 rows\n",
      "\n",
      "Nombres de las columnas agrupadas:\n",
      "['Año', 'Mes', 'Edad', 'Sexo', 'Area', 'Número_de_Personas', 'Número_de_Atenciones']\n"
     ]
    },
    {
     "name": "stderr",
     "output_type": "stream",
     "text": [
      "\r",
      "                                                                                \r"
     ]
    }
   ],
   "source": [
    "# Seleccionar solo las columnas deseadas\n",
    "columns_to_keep = [\n",
    "    'PersonaBasicaID', 'FechaInicioSINTOmas', 'Edad', 'Sexo', 'TipoRegimen',\n",
    "    'Evento', 'Area', 'PacienteHospitalizado', 'CondicionFinal', 'DiagnosticoDefuncion', 'personaid_count'\n",
    "]\n",
    "df_filtered = df2.select(*columns_to_keep)\n",
    "\n",
    "# Convertir 'FechaInicioSINTOmas' a tipo fecha con el formato correcto, manejando errores ( por que vienen datos errones entre columnas)\n",
    "df_filtered = df_filtered.withColumn(\n",
    "    'FechaInicioSINTOmas',\n",
    "    F.when(F.col('FechaInicioSINTOmas').rlike('^\\d{8}$'), F.to_date('FechaInicioSINTOmas', 'yyyyMMdd'))\n",
    "     .otherwise(None)  # Asignar None (nulo) a valores que no coinciden con el patrón de fecha\n",
    ")\n",
    "\n",
    "# Filtrar valores atípicos (por ejemplo, 19000101)\n",
    "df_filtered = df_filtered.filter(\n",
    "    (F.col('FechaInicioSINTOmas').isNotNull()) & (F.col('FechaInicioSINTOmas') > '1900-01-01')\n",
    ")\n",
    "\n",
    "# Extraer año y mes de la columna 'FechaInicioSINTOmas'\n",
    "df_filtered = df_filtered.withColumn('Año', F.year('FechaInicioSINTOmas'))\n",
    "df_filtered = df_filtered.withColumn('Mes', F.month('FechaInicioSINTOmas'))\n",
    "\n",
    "# Agrupar por año, mes, Edad ,sexo y Area\n",
    "result_df = df_filtered.groupBy('Año', 'Mes', 'Edad', 'Sexo', 'Area').agg(\n",
    "    F.countDistinct('PersonaBasicaID').alias('Número_de_Personas'),\n",
    "    F.sum('personaid_count').alias('Número_de_Atenciones')\n",
    ")\n",
    "\n",
    "# Mostrar los resultados\n",
    "result_df.show(100)\n",
    "\n",
    "# Imprimir los nombres de las columnas agrupadas para verificar\n",
    "print(\"Nombres de las columnas agrupadas:\")\n",
    "print(result_df.columns)\n"
   ]
  },
  {
   "cell_type": "raw",
   "id": "e03ca3e1",
   "metadata": {},
   "source": []
  },
  {
   "cell_type": "code",
   "execution_count": 83,
   "id": "a555a9a8",
   "metadata": {},
   "outputs": [
    {
     "name": "stderr",
     "output_type": "stream",
     "text": [
      "                                                                                \r"
     ]
    }
   ],
   "source": [
    "#se escribe el parquet tabla 3- Agrupado por año, mes, Edad, sexo y Area\n",
    "result_df.write.parquet(\"hdfs:/analyticsdata/3.SIVIGILA_Tabla_anio_mes_Edad_sexo_Area_Todos.parquet\") "
   ]
  },
  {
   "cell_type": "markdown",
   "id": "5a228e1c",
   "metadata": {},
   "source": [
    "# 4.  Agrupado por año, mes, Edad, Sexo y PacienteHospitalizado"
   ]
  },
  {
   "cell_type": "code",
   "execution_count": 84,
   "id": "ee40d136",
   "metadata": {},
   "outputs": [
    {
     "name": "stderr",
     "output_type": "stream",
     "text": [
      "[Stage 66:=====================================================>(125 + 1) / 126]\r"
     ]
    },
    {
     "name": "stdout",
     "output_type": "stream",
     "text": [
      "+----+---+-----------+---------+---------------------+------------------+--------------------+\n",
      "| Año|Mes|       Edad|     Sexo|PacienteHospitalizado|Número_de_Personas|Número_de_Atenciones|\n",
      "+----+---+-----------+---------+---------------------+------------------+--------------------+\n",
      "|2017|  8| De 24 años|MASCULINO|                   NO|               231|                 255|\n",
      "|2022|  9| De 10 años| FEMENINO|                   NO|               262|                 307|\n",
      "|2014|  8| De 23 años| FEMENINO|                   SI|               124|                 143|\n",
      "|2016|  3| De 05 años|MASCULINO|                   NO|               485|                 548|\n",
      "|2021|  1| De 38 años| FEMENINO|                   NO|                86|                  99|\n",
      "|2017| 10| De 13 años| FEMENINO|                   NO|               210|                 247|\n",
      "|2014| 10| De 29 años| FEMENINO|                   SI|                94|                 106|\n",
      "|2018|  2| De 26 años| FEMENINO|                   SI|               126|                 152|\n",
      "|2011| 11| De 03 años| FEMENINO|                   NO|               378|                 391|\n",
      "|2018|  3| De 08 años| FEMENINO|                   NO|               284|                 308|\n",
      "|2022|  5| De 12 años|MASCULINO|                   SI|               115|                 128|\n",
      "|2012|  6| De 07 años|MASCULINO|                   NO|               355|                 385|\n",
      "|2022|  2| De 64 años| FEMENINO|                   NO|                50|                  58|\n",
      "|2022|  4| De 12 años| FEMENINO|                   SI|               106|                 141|\n",
      "|2017| 11|De 03 meses|MASCULINO|                   NO|                26|                  26|\n",
      "|2018|  2| De 18 años|MASCULINO|                   SI|                77|                  95|\n",
      "|2020|  1|  De 01 año|MASCULINO|                   SI|               201|                 232|\n",
      "|2014| 11| De 34 años| FEMENINO|                   SI|                97|                 114|\n",
      "|2022| 11| De 19 años| FEMENINO| CONFIRMADO POR CL...|                 1|                   1|\n",
      "|2021| 11| De 58 años| FEMENINO|                   NO|                90|                 103|\n",
      "|2022| 10| De 59 años| FEMENINO|                   SI|                36|                  46|\n",
      "|2020|  7| De 61 años|MASCULINO|                   NO|                45|                  48|\n",
      "|2009|  6| De 23 años|MASCULINO|                   NO|               187|                 234|\n",
      "|2008| 10| De 16 años| FEMENINO|                   NO|               110|                 112|\n",
      "|2009|  4| De 08 años| FEMENINO|                   NO|               227|                 245|\n",
      "|2015|  8| De 28 años|MASCULINO|                   NO|               182|                 222|\n",
      "|2016|  7| De 56 años|MASCULINO|                   NO|                75|                  90|\n",
      "|2014| 10| De 06 años| FEMENINO|                   NO|               463|                 505|\n",
      "|2010|  7| De 29 años| FEMENINO|                   SI|                37|                  49|\n",
      "|2014|  1| De 51 años| FEMENINO|                   NO|                82|                  87|\n",
      "|2018|  7| De 46 años| FEMENINO|                   NO|               100|                 110|\n",
      "|2010|  8| De 61 años| FEMENINO|                   NO|                34|                  40|\n",
      "|2020|  3| De 54 años| FEMENINO|                   SI|                23|                  27|\n",
      "|2017|  7| De 67 años| FEMENINO|                   NO|                62|                  68|\n",
      "|2010|  3| De 07 años|MASCULINO|                   NO|               384|                 415|\n",
      "|2022|  9| De 56 años|MASCULINO|                   SI|                29|                  40|\n",
      "|2012| 12| De 11 años|MASCULINO|                   NO|               306|                 344|\n",
      "|2021|  5| De 81 años| FEMENINO|                   NO|                16|                  17|\n",
      "|2022| 12| De 33 años| FEMENINO|                   NO|               162|                 198|\n",
      "|2016|  1| De 30 años|MASCULINO|                   SI|                68|                 102|\n",
      "|2019|  8| De 28 años|MASCULINO|                   NO|               238|                 287|\n",
      "|2020|  9| De 31 años| FEMENINO|                   NO|               137|                 161|\n",
      "|2019|  7| De 17 años| FEMENINO|                   SI|               250|                 322|\n",
      "|2017|  3| De 17 años| FEMENINO|                   SI|               159|                 196|\n",
      "|2014|  7| De 37 años|MASCULINO|                   SI|                32|                  38|\n",
      "|2008|  6|No Definido| FEMENINO|                   NO|                27|                  27|\n",
      "|2008|  5| De 20 años|MASCULINO|                   SI|                32|                  36|\n",
      "|2019| 10| De 07 años|MASCULINO|                   NO|               430|                 471|\n",
      "|2019|  6| De 27 años|MASCULINO|             PROBABLE|                 1|                   1|\n",
      "|2014|  2| De 20 años| FEMENINO|                   SI|               114|                 133|\n",
      "|2019| 12| De 07 años| FEMENINO|                   NO|               297|                 333|\n",
      "|2017|  6| De 18 años| FEMENINO|                   SI|               168|                 212|\n",
      "|2015| 10| De 11 años| FEMENINO|                   NO|               326|                 367|\n",
      "|2017|  7| De 04 años|MASCULINO|                   NO|               331|                 379|\n",
      "|2013| 12| De 02 días|MASCULINO|                   NO|                 1|                   1|\n",
      "|2016|  4|  De 01 año| FEMENINO|                   SI|               133|                 167|\n",
      "|2015|  5|De 07 meses| FEMENINO|                   NO|                20|                  21|\n",
      "|2015|  6| De 09 años| FEMENINO|                   SI|                45|                  48|\n",
      "|2022| 10| De 06 años| FEMENINO|                   NO|               191|                 236|\n",
      "|2015| 11| De 26 años|MASCULINO|                   NO|               249|                 318|\n",
      "|2020| 12| De 21 años|MASCULINO|                   NO|               192|                 225|\n",
      "|2021| 12| De 22 años|MASCULINO|                   SI|                80|                 106|\n",
      "|2021| 11| De 21 años| FEMENINO|                   NO|               249|                 293|\n",
      "|2019|  6| De 08 años| FEMENINO|                   NO|               350|                 383|\n",
      "|2022| 10| De 03 años| FEMENINO|                   NO|               225|                 264|\n",
      "|2011|  9| De 13 años|MASCULINO|                   NO|               265|                 286|\n",
      "|2015| 10| De 78 años|MASCULINO|                   SI|                17|                  18|\n",
      "|2015| 11| De 40 años| FEMENINO|                   NO|               156|                 170|\n",
      "|2016|  7| De 34 años| FEMENINO|                   SI|               100|                 140|\n",
      "|2013|  5| De 33 años|MASCULINO|                   NO|               158|                 203|\n",
      "|2010|  1| De 60 años|MASCULINO|                   NO|                38|                  49|\n",
      "|2016|  6| De 39 años|MASCULINO|                   NO|               161|                 194|\n",
      "|2010|  2| De 36 años|MASCULINO|                   NO|               141|                 208|\n",
      "|2015| 10| De 59 años| FEMENINO|                   NO|                58|                  65|\n",
      "|2022|  8| De 44 años|MASCULINO|                   SI|                46|                  56|\n",
      "|2016|  7| De 35 años|MASCULINO|                   SI|                25|                  37|\n",
      "|2019|  8| De 76 años|MASCULINO|                   NO|                30|                  33|\n",
      "|2018|  4| De 42 años|MASCULINO|                   NO|                94|                 111|\n",
      "|2016|  4| De 43 años| FEMENINO|                   SI|                47|                  62|\n",
      "|2009|  7| De 37 años| FEMENINO|                   NO|                78|                  92|\n",
      "|2021| 12| De 40 años|MASCULINO|                   SI|                34|                  43|\n",
      "|2015|  3| De 42 años|MASCULINO|                   SI|                24|                  30|\n",
      "|2012|  4| De 40 años|MASCULINO|                   NO|                84|                  92|\n",
      "|2022|  9| De 68 años| FEMENINO|                   NO|                49|                  50|\n",
      "|2013|  6| De 17 años| FEMENINO|                   NO|               264|                 283|\n",
      "|2016|  7| De 56 años| FEMENINO|                   SI|                17|                  22|\n",
      "|2009| 10| De 51 años|MASCULINO|                   NO|                36|                  43|\n",
      "|2018|  3| De 28 años|MASCULINO|                   NO|               193|                 237|\n",
      "|2021|  3| De 32 años| FEMENINO|                   NO|               152|                 190|\n",
      "|2013|  8| De 68 años|MASCULINO|                   SI|                15|                  19|\n",
      "|2010| 12| De 18 años|MASCULINO|                   SI|                48|                  49|\n",
      "|2020| 12| De 28 años| FEMENINO|                   NO|               156|                 175|\n",
      "|2016| 11| De 17 años|MASCULINO|                   SI|                68|                  85|\n",
      "|2015|  6| De 10 años| FEMENINO|                   NO|               231|                 253|\n",
      "|2019|  7| De 25 años|MASCULINO|                   SI|                91|                 117|\n",
      "|2016| 10| De 21 años| FEMENINO|                   NO|               324|                 393|\n",
      "|2017|  9| De 10 años|MASCULINO|                   NO|               328|                 354|\n",
      "|2019|  3| De 12 años| FEMENINO|                   SI|               111|                 142|\n",
      "|2011|  3| De 21 años| FEMENINO|                   NO|               144|                 165|\n",
      "|2018| 10| De 03 años|MASCULINO|                   NO|               335|                 375|\n",
      "+----+---+-----------+---------+---------------------+------------------+--------------------+\n",
      "only showing top 100 rows\n",
      "\n",
      "Nombres de las columnas agrupadas:\n",
      "['Año', 'Mes', 'Edad', 'Sexo', 'PacienteHospitalizado', 'Número_de_Personas', 'Número_de_Atenciones']\n"
     ]
    },
    {
     "name": "stderr",
     "output_type": "stream",
     "text": [
      "\r",
      "                                                                                \r"
     ]
    }
   ],
   "source": [
    "# Seleccionar solo las columnas deseadas\n",
    "columns_to_keep = [\n",
    "    'PersonaBasicaID', 'FechaInicioSINTOmas', 'Edad', 'Sexo', 'TipoRegimen',\n",
    "    'Evento', 'Area', 'PacienteHospitalizado', 'CondicionFinal', 'DiagnosticoDefuncion', 'personaid_count'\n",
    "]\n",
    "df_filtered = df2.select(*columns_to_keep)\n",
    "\n",
    "# Convertir 'FechaInicioSINTOmas' a tipo fecha con el formato correcto, manejando errores ( por que vienen datos errones entre columnas)\n",
    "df_filtered = df_filtered.withColumn(\n",
    "    'FechaInicioSINTOmas',\n",
    "    F.when(F.col('FechaInicioSINTOmas').rlike('^\\d{8}$'), F.to_date('FechaInicioSINTOmas', 'yyyyMMdd'))\n",
    "     .otherwise(None)  # Asignar None (nulo) a valores que no coinciden con el patrón de fecha\n",
    ")\n",
    "\n",
    "# Filtrar valores atípicos (por ejemplo, 19000101)\n",
    "df_filtered = df_filtered.filter(\n",
    "    (F.col('FechaInicioSINTOmas').isNotNull()) & (F.col('FechaInicioSINTOmas') > '1900-01-01')\n",
    ")\n",
    "\n",
    "# Extraer año y mes de la columna 'FechaInicioSINTOmas'\n",
    "df_filtered = df_filtered.withColumn('Año', F.year('FechaInicioSINTOmas'))\n",
    "df_filtered = df_filtered.withColumn('Mes', F.month('FechaInicioSINTOmas'))\n",
    "\n",
    "# Agrupar por año, mes, Edad ,sexo y PacienteHospitalizado\n",
    "result_df = df_filtered.groupBy('Año', 'Mes', 'Edad', 'Sexo', 'PacienteHospitalizado').agg(\n",
    "    F.countDistinct('PersonaBasicaID').alias('Número_de_Personas'),\n",
    "    F.sum('personaid_count').alias('Número_de_Atenciones')\n",
    ")\n",
    "\n",
    "# Mostrar los resultados\n",
    "result_df.show(100)\n",
    "\n",
    "# Imprimir los nombres de las columnas agrupadas para verificar\n",
    "print(\"Nombres de las columnas agrupadas:\")\n",
    "print(result_df.columns)"
   ]
  },
  {
   "cell_type": "raw",
   "id": "3fe1db2b",
   "metadata": {},
   "source": [
    "\n"
   ]
  },
  {
   "cell_type": "code",
   "execution_count": 85,
   "id": "399e26db",
   "metadata": {},
   "outputs": [
    {
     "name": "stderr",
     "output_type": "stream",
     "text": [
      "                                                                                \r"
     ]
    }
   ],
   "source": [
    "#se escribe el parquet tabla 4- Agrupado por año, mes, Edad, sexo y PacienteHospitalizado\n",
    "result_df.write.parquet(\"hdfs:/analyticsdata/4.SIVIGILA_Tabla_anio_mes_Edad_sexo_PacienteHospitalizado_Todos.parquet\") "
   ]
  },
  {
   "cell_type": "markdown",
   "id": "aa460a54",
   "metadata": {},
   "source": [
    "# 5.  Agrupado por año, mes, Edad, Sexo y CondicionFinal"
   ]
  },
  {
   "cell_type": "code",
   "execution_count": 86,
   "id": "ec7f5abf",
   "metadata": {},
   "outputs": [
    {
     "name": "stderr",
     "output_type": "stream",
     "text": [
      "[Stage 78:=====================================================>(125 + 1) / 126]\r"
     ]
    },
    {
     "name": "stdout",
     "output_type": "stream",
     "text": [
      "+----+---+-----------+---------+--------------------+------------------+--------------------+\n",
      "| Año|Mes|       Edad|     Sexo|      CondicionFinal|Número_de_Personas|Número_de_Atenciones|\n",
      "+----+---+-----------+---------+--------------------+------------------+--------------------+\n",
      "|2013|  8| De 17 años|MASCULINO|                CALI|                13|                  15|\n",
      "|2020|  8| De 26 años|MASCULINO|            MEDELLÍN|                10|                  10|\n",
      "|2011|  5| De 05 años| FEMENINO|            MEDELLÍN|                16|                  17|\n",
      "|2017|  4| De 22 años|MASCULINO|              LA PAZ|                 1|                   1|\n",
      "|2016|  3| De 24 años|MASCULINO|EL CARMEN DE BOLÍVAR|                 1|                   1|\n",
      "|2015|  4| De 08 años|MASCULINO|        1 - VIVO (A)|                99|                 109|\n",
      "|2019| 11| De 24 años|MASCULINO|            GUARANDA|                 1|                   3|\n",
      "|2021| 10| De 07 años|MASCULINO|              MANATÍ|                 1|                   1|\n",
      "|2016|  1|  De 01 año| FEMENINO|         Bogotá D.C.|                57|                  60|\n",
      "|2016|  6|  De 01 año| FEMENINO|        1 - VIVO (A)|               122|                 145|\n",
      "|2012|  9| De 22 años| FEMENINO|              CÚCUTA|                10|                  10|\n",
      "|2022| 11| De 26 años| FEMENINO|      2 - MUERTO (A)|                11|                  13|\n",
      "|2022|  3| De 25 años| FEMENINO|          SAN MARTÍN|                 1|                   2|\n",
      "|2012|  9| De 14 años|MASCULINO|               NEIRA|                 1|                   1|\n",
      "|2021|  9| De 06 años| FEMENINO|           BOCHALEMA|                 1|                   1|\n",
      "|2019|  4| De 03 años| FEMENINO|           CHAPARRAL|                 2|                   3|\n",
      "|2013|  2| De 86 años| FEMENINO|        1 - VIVO (A)|                 3|                   3|\n",
      "|2019|  6| De 12 años| FEMENINO|         Bogotá D.C.|                51|                  57|\n",
      "|2015|  6| De 50 años| FEMENINO|              YOTOCO|                 1|                   1|\n",
      "|2016| 11| De 17 años| FEMENINO|           CARTAGENA|                 8|                   8|\n",
      "|2012|  2| De 32 años| FEMENINO|        1 - VIVO (A)|                24|                  25|\n",
      "|2021|  9| De 03 años| FEMENINO|         Bogotá D.C.|                25|                  32|\n",
      "|2020|  2|  De 01 año|MASCULINO|            ARCABUCO|                 1|                   1|\n",
      "|2019| 10| De 25 años| FEMENINO|         Bogotá D.C.|                36|                  40|\n",
      "|2009|  3| De 07 años|MASCULINO|         Bogotá D.C.|                44|                  47|\n",
      "|2017|  5| De 80 años| FEMENINO|              SOACHA|                 1|                   1|\n",
      "|2019|  7| De 07 años| FEMENINO|           TIERRALTA|                10|                  13|\n",
      "|2021|  3|  De 01 año|MASCULINO|              BAGADÓ|                 1|                   1|\n",
      "|2014| 12| De 56 años|MASCULINO|            CAUCASIA|                 1|                   2|\n",
      "|2013|  1| De 34 años|MASCULINO|        1 - VIVO (A)|                26|                  27|\n",
      "|2009| 12| De 15 años|MASCULINO|               YUMBO|                 2|                   2|\n",
      "|2016|  3| De 07 años|MASCULINO|          EL COLEGIO|                 3|                   3|\n",
      "|2009|  6| De 04 años|MASCULINO|              SOACHA|                 6|                   6|\n",
      "|2020| 12| De 35 años| FEMENINO|         Bogotá D.C.|                17|                  20|\n",
      "|2013|  6| De 18 años|MASCULINO|        1 - VIVO (A)|                76|                  82|\n",
      "|2018|  8| De 46 años|MASCULINO|         Bogotá D.C.|                 3|                   4|\n",
      "|2018|  8| De 41 años|MASCULINO|        1 - VIVO (A)|                46|                  50|\n",
      "|2015| 11| De 31 años| FEMENINO|           CARTAGENA|                11|                  11|\n",
      "|2013| 10| De 05 años|MASCULINO|                CALI|                23|                  25|\n",
      "|2015|  6| De 16 años| FEMENINO|        1 - VIVO (A)|                82|                  90|\n",
      "|2011|  5| De 62 años|MASCULINO|        1 - VIVO (A)|                 5|                   6|\n",
      "|2012| 11| De 17 años|MASCULINO|           FLORENCIA|                 3|                   3|\n",
      "|2011| 11| De 62 años| FEMENINO|             CAQUEZA|                 1|                   1|\n",
      "|2013| 10| De 54 años|MASCULINO|               PASTO|                 1|                   1|\n",
      "|2015|  9| De 69 años| FEMENINO|        1 - VIVO (A)|                 9|                  10|\n",
      "|2009| 11| De 43 años| FEMENINO|            VICTORIA|                 1|                   1|\n",
      "|2016|  1| De 52 años| FEMENINO|               NEIVA|                 7|                   7|\n",
      "|2013| 12| De 27 años| FEMENINO|              SOACHA|                 2|                   2|\n",
      "|2014|  4| De 32 años|MASCULINO|        1 - VIVO (A)|                54|                  65|\n",
      "|2012|  4| De 15 años| FEMENINO|           GIRARDOTA|                 1|                   1|\n",
      "|2019| 12| De 33 años| FEMENINO|        1 - VIVO (A)|               132|                 160|\n",
      "|2012|  2| De 31 años| FEMENINO|              TIMANÁ|                 1|                   1|\n",
      "|2011|  3| De 24 años|MASCULINO|            MONTERÍA|                 2|                   2|\n",
      "|2010| 11| De 22 años|MASCULINO|             ARMENIA|                 3|                   4|\n",
      "|2018|  9| De 43 años|MASCULINO|           FLORENCIA|                 1|                   1|\n",
      "|2010|  4| De 47 años|MASCULINO|           ANDALUCÍA|                 1|                   1|\n",
      "|2018|  2| De 54 años| FEMENINO|             YAGUARÁ|                 1|                   1|\n",
      "|2009|  1| De 11 años|MASCULINO|        BARRANQUILLA|                 4|                   5|\n",
      "|2016|  8| De 54 años| FEMENINO|          VALLEDUPAR|                 1|                   2|\n",
      "|2020| 10| De 79 años|MASCULINO|          BAJO BAUDÓ|                 1|                   1|\n",
      "|2010|  1| De 17 años|MASCULINO|        LOS PALMITOS|                 1|                   1|\n",
      "|2011|  7| De 15 años|MASCULINO|               AMAGÁ|                 1|                   1|\n",
      "|2017|  5| De 38 años|MASCULINO|              LÉRIDA|                 1|                   1|\n",
      "|2009| 12|De 10 meses| FEMENINO|              CÚCUTA|                 3|                   4|\n",
      "|2015|  6| De 13 años| FEMENINO|               TUNJA|                 2|                   2|\n",
      "|2013|  4| De 13 años|MASCULINO|        1 - VIVO (A)|               117|                 126|\n",
      "|2013|  3| De 25 años|MASCULINO|            BURITICÁ|                 3|                   3|\n",
      "|2010|  5| De 07 años|MASCULINO|            MEDELLÍN|                20|                  21|\n",
      "|2009|  8| De 49 años| FEMENINO|                CALI|                 5|                   5|\n",
      "|2013|  4| De 03 años|MASCULINO|           AQUITANIA|                 1|                   1|\n",
      "|2011| 10| De 07 años| FEMENINO|               ANORÍ|                 1|                   1|\n",
      "|2016|  5| De 14 años|MASCULINO|              LORICA|                 1|                   1|\n",
      "|2019| 10| De 31 años|MASCULINO|              QUIBDÓ|                 1|                   1|\n",
      "|2016|  8| De 24 años|MASCULINO|            MEDELLÍN|                39|                  43|\n",
      "|2013|  8| De 02 años|MASCULINO|            RIOHACHA|                 1|                   1|\n",
      "|2010| 10|De 09 meses| FEMENINO|         Bogotá D.C.|                12|                  12|\n",
      "|2020| 11| De 17 años| FEMENINO|              YACOPÍ|                 1|                   1|\n",
      "|2018|  2| De 15 años| FEMENINO|        1 - VIVO (A)|                63|                  80|\n",
      "|2015|  1| De 05 años| FEMENINO|        BUGALAGRANDE|                 1|                   1|\n",
      "|2013| 12| De 02 años|MASCULINO|              MÁLAGA|                 1|                   1|\n",
      "|2012| 12| De 36 años| FEMENINO|     AGUSTÍN CODAZZI|                 1|                   1|\n",
      "|2015|  7| De 03 años|MASCULINO|            MEDELLÍN|                33|                  36|\n",
      "|2018|  7| De 32 años|MASCULINO|              SUÁREZ|                 1|                   1|\n",
      "|2017|  8| De 09 años|MASCULINO|                CALI|                 9|                  10|\n",
      "|2017|  7| De 59 años|MASCULINO|           SINCELEJO|                 1|                   1|\n",
      "|2018| 12| De 13 años| FEMENINO|        BARRANQUILLA|                 9|                  11|\n",
      "|2016| 11| De 11 años|MASCULINO|            ENVIGADO|                 1|                   1|\n",
      "|2013|  7| De 08 años|MASCULINO|        BARRANQUILLA|                10|                  10|\n",
      "|2017|  8| De 13 años|MASCULINO|SIN INFORMACION -...|                 1|                   1|\n",
      "|2018| 12| De 12 años|MASCULINO|        1 - VIVO (A)|               150|                 166|\n",
      "|2017| 12| De 11 años| FEMENINO|            SABANETA|                 1|                   2|\n",
      "|2018|  8| De 11 años| FEMENINO|         PUERTO RICO|                 1|                   1|\n",
      "|2019|  8| De 23 años| FEMENINO|        1 - VIVO (A)|               198|                 248|\n",
      "|2014| 10|De 08 meses| FEMENINO|        1 - VIVO (A)|                34|                  36|\n",
      "|2012| 10| De 17 años| FEMENINO|         SAN AGUSTÍN|                 2|                   2|\n",
      "|2017| 12| De 20 años| FEMENINO|        1 - VIVO (A)|                22|                  31|\n",
      "|2016| 12| De 25 años|MASCULINO|            EL ZULIA|                 1|                   1|\n",
      "|2018|  3| De 10 años|MASCULINO|        1 - VIVO (A)|               133|                 147|\n",
      "|2021|  5| De 05 años|MASCULINO|             GRANADA|                 1|                   1|\n",
      "|2018|  6| De 63 años|MASCULINO|          LA TEBAIDA|                 1|                   1|\n",
      "+----+---+-----------+---------+--------------------+------------------+--------------------+\n",
      "only showing top 100 rows\n",
      "\n",
      "Nombres de las columnas agrupadas:\n",
      "['Año', 'Mes', 'Edad', 'Sexo', 'CondicionFinal', 'Número_de_Personas', 'Número_de_Atenciones']\n"
     ]
    },
    {
     "name": "stderr",
     "output_type": "stream",
     "text": [
      "\r",
      "                                                                                \r"
     ]
    }
   ],
   "source": [
    "# Seleccionar solo las columnas deseadas\n",
    "columns_to_keep = [\n",
    "    'PersonaBasicaID', 'FechaInicioSINTOmas', 'Edad', 'Sexo', 'TipoRegimen',\n",
    "    'Evento', 'Area', 'PacienteHospitalizado', 'CondicionFinal', 'DiagnosticoDefuncion', 'personaid_count'\n",
    "]\n",
    "df_filtered = df2.select(*columns_to_keep)\n",
    "\n",
    "# Convertir 'FechaInicioSINTOmas' a tipo fecha con el formato correcto, manejando errores ( por que vienen datos errones entre columnas)\n",
    "df_filtered = df_filtered.withColumn(\n",
    "    'FechaInicioSINTOmas',\n",
    "    F.when(F.col('FechaInicioSINTOmas').rlike('^\\d{8}$'), F.to_date('FechaInicioSINTOmas', 'yyyyMMdd'))\n",
    "     .otherwise(None)  # Asignar None (nulo) a valores que no coinciden con el patrón de fecha\n",
    ")\n",
    "\n",
    "# Filtrar valores atípicos (por ejemplo, 19000101)\n",
    "df_filtered = df_filtered.filter(\n",
    "    (F.col('FechaInicioSINTOmas').isNotNull()) & (F.col('FechaInicioSINTOmas') > '1900-01-01')\n",
    ")\n",
    "\n",
    "# Extraer año y mes de la columna 'FechaInicioSINTOmas'\n",
    "df_filtered = df_filtered.withColumn('Año', F.year('FechaInicioSINTOmas'))\n",
    "df_filtered = df_filtered.withColumn('Mes', F.month('FechaInicioSINTOmas'))\n",
    "\n",
    "# Agrupar por año, mes, Edad ,sexo y CondicionFinal\n",
    "result_df = df_filtered.groupBy('Año', 'Mes', 'Edad', 'Sexo', 'CondicionFinal').agg(\n",
    "    F.countDistinct('PersonaBasicaID').alias('Número_de_Personas'),\n",
    "    F.sum('personaid_count').alias('Número_de_Atenciones')\n",
    ")\n",
    "\n",
    "# Mostrar los resultados\n",
    "result_df.show(100)\n",
    "\n",
    "# Imprimir los nombres de las columnas agrupadas para verificar\n",
    "print(\"Nombres de las columnas agrupadas:\")\n",
    "print(result_df.columns)"
   ]
  },
  {
   "cell_type": "raw",
   "id": "fa291206",
   "metadata": {},
   "source": [
    "\n"
   ]
  },
  {
   "cell_type": "code",
   "execution_count": 87,
   "id": "df6372f8",
   "metadata": {},
   "outputs": [
    {
     "name": "stderr",
     "output_type": "stream",
     "text": [
      "                                                                                \r"
     ]
    }
   ],
   "source": [
    "#se escribe el parquet tabla 5- Agrupado por año, mes, Edad, sexo y CondicionFinal\n",
    "result_df.write.parquet(\"hdfs:/analyticsdata/5.SIVIGILA_Tabla_anio_mes_Edad_sexo_CondicionFinal_Todos.parquet\") "
   ]
  },
  {
   "cell_type": "markdown",
   "id": "554cb620",
   "metadata": {},
   "source": [
    "# 6.  Agrupado por año, mes, Edad, Sexo y DiagnosticoDefuncion"
   ]
  },
  {
   "cell_type": "code",
   "execution_count": 88,
   "id": "6bc116f6",
   "metadata": {},
   "outputs": [
    {
     "name": "stderr",
     "output_type": "stream",
     "text": [
      "[Stage 90:=====================================================>(125 + 1) / 126]\r"
     ]
    },
    {
     "name": "stdout",
     "output_type": "stream",
     "text": [
      "+----+---+-----------+---------+--------------------+------------------+--------------------+\n",
      "| Año|Mes|       Edad|     Sexo|DiagnosticoDefuncion|Número_de_Personas|Número_de_Atenciones|\n",
      "+----+---+-----------+---------+--------------------+------------------+--------------------+\n",
      "|2014| 11| De 02 años|MASCULINO|    0 - NO REPORTADO|               452|                 498|\n",
      "|2009|  7| De 07 años| FEMENINO|        1 - VIVO (A)|               226|                 238|\n",
      "|2013|  6| De 18 años|MASCULINO|        1 - VIVO (A)|               241|                 267|\n",
      "|2011|  9| De 06 años| FEMENINO|        1 - VIVO (A)|               418|                 446|\n",
      "|2020|  2| De 24 años|MASCULINO|        1 - VIVO (A)|               272|                 335|\n",
      "|2011|  9| De 06 años|MASCULINO|        1 - VIVO (A)|               433|                 474|\n",
      "|2014| 11| De 19 años| FEMENINO|      2 - MUERTO (A)|                36|                  45|\n",
      "|2015|  4| De 08 años|MASCULINO|        1 - VIVO (A)|               303|                 324|\n",
      "|2016|  6|  De 01 año| FEMENINO|        1 - VIVO (A)|               493|                 584|\n",
      "|2018|  2| De 21 años| FEMENINO|    0 - NO REPORTADO|               136|                 151|\n",
      "|2015|  1| De 08 años|MASCULINO|    0 - NO REPORTADO|               102|                 118|\n",
      "|2014|  3| De 65 años|MASCULINO|    0 - NO REPORTADO|                17|                  23|\n",
      "|2019|  6| De 20 años| FEMENINO|        1 - VIVO (A)|               290|                 368|\n",
      "|2016|  5| De 27 años|MASCULINO|    0 - NO REPORTADO|                91|                 106|\n",
      "|2021| 12| De 80 años|MASCULINO|    0 - NO REPORTADO|                 3|                   3|\n",
      "|2020|  3| De 19 años| FEMENINO|      2 - MUERTO (A)|                29|                  39|\n",
      "|2013|  4| De 13 años|MASCULINO|        1 - VIVO (A)|               320|                 361|\n",
      "|2019|  9|De 11 meses| FEMENINO|        1 - VIVO (A)|                53|                  57|\n",
      "|2012|  4| De 27 años| FEMENINO|        1 - VIVO (A)|               157|                 178|\n",
      "|2014|  7| De 46 años| FEMENINO|    0 - NO REPORTADO|                40|                  42|\n",
      "|2013| 11| De 55 años| FEMENINO|        1 - VIVO (A)|                49|                  53|\n",
      "|2013|  1| De 34 años|MASCULINO|        1 - VIVO (A)|               117|                 151|\n",
      "|2012|  5| De 15 años| FEMENINO|        1 - VIVO (A)|               251|                 267|\n",
      "|2014| 12| De 58 años|MASCULINO|        1 - VIVO (A)|                62|                  67|\n",
      "|2012|  2| De 32 años| FEMENINO|        1 - VIVO (A)|                96|                 110|\n",
      "|2009|  1| De 54 años|MASCULINO|        1 - VIVO (A)|                36|                  44|\n",
      "|2011|  6| De 78 años|MASCULINO|        1 - VIVO (A)|                11|                  11|\n",
      "|2008|  1| De 13 años|MASCULINO|        1 - VIVO (A)|               117|                 125|\n",
      "|2022|  3| De 74 años| FEMENINO|        1 - VIVO (A)|                21|                  23|\n",
      "|2020|  6| De 58 años| FEMENINO|    0 - NO REPORTADO|                44|                  49|\n",
      "|2012|  8| De 40 años|MASCULINO|        1 - VIVO (A)|                62|                  73|\n",
      "|2018|  9| De 39 años|MASCULINO|    0 - NO REPORTADO|                49|                  52|\n",
      "|2008|  7| De 67 años| FEMENINO|        1 - VIVO (A)|                16|                  17|\n",
      "|2020| 11| De 70 años|MASCULINO|    0 - NO REPORTADO|                19|                  19|\n",
      "|2017|  5| De 28 años| FEMENINO|        1 - VIVO (A)|               207|                 235|\n",
      "|2010|  5| De 51 años| FEMENINO|        1 - VIVO (A)|               101|                 118|\n",
      "|2010|  7|  De 01 año|MASCULINO|    0 - NO REPORTADO|                45|                  50|\n",
      "|2018|  2| De 15 años| FEMENINO|        1 - VIVO (A)|               283|                 395|\n",
      "|2010| 12| De 10 años| FEMENINO|        1 - VIVO (A)|               185|                 202|\n",
      "|2011|  4| De 17 años| FEMENINO|        1 - VIVO (A)|               224|                 233|\n",
      "|2015|  7| De 43 años| FEMENINO|        1 - VIVO (A)|                81|                  98|\n",
      "|2016|  8| De 23 años| FEMENINO|    0 - NO REPORTADO|                60|                  72|\n",
      "|2013|  3| De 54 años| FEMENINO|        1 - VIVO (A)|                63|                  69|\n",
      "|2018|  3| De 38 años| FEMENINO|    0 - NO REPORTADO|                78|                  93|\n",
      "|2020|  1| De 14 años|MASCULINO|    0 - NO REPORTADO|               216|                 247|\n",
      "|2013| 12| De 56 años|MASCULINO|        1 - VIVO (A)|                48|                  50|\n",
      "|2011| 11| De 06 años| FEMENINO|        1 - VIVO (A)|               361|                 388|\n",
      "|2010|  6| De 22 años|MASCULINO|        1 - VIVO (A)|               378|                 510|\n",
      "|2017| 12| De 23 años|MASCULINO|        1 - VIVO (A)|               275|                 308|\n",
      "|2020| 11| De 25 años| FEMENINO|        1 - VIVO (A)|               222|                 277|\n",
      "|2018| 12| De 12 años|MASCULINO|        1 - VIVO (A)|               295|                 336|\n",
      "|2017|  9| De 15 años|MASCULINO|        1 - VIVO (A)|               375|                 431|\n",
      "|2017| 12| De 20 años| FEMENINO|        1 - VIVO (A)|               321|                 373|\n",
      "|2019|  8| De 23 años| FEMENINO|        1 - VIVO (A)|               227|                 287|\n",
      "|2019|  8| De 04 años|MASCULINO|    0 - NO REPORTADO|               212|                 235|\n",
      "|2016|  8|De 09 meses| FEMENINO|        1 - VIVO (A)|                46|                  52|\n",
      "|2022|  6| De 06 años| FEMENINO|        1 - VIVO (A)|               155|                 183|\n",
      "|2018|  3| De 10 años|MASCULINO|        1 - VIVO (A)|               245|                 283|\n",
      "|2015|  7| De 17 años|MASCULINO|        1 - VIVO (A)|               258|                 280|\n",
      "|2022|  1| De 85 años| FEMENINO|        1 - VIVO (A)|                 7|                  10|\n",
      "|2019|  2|  De 01 año| FEMENINO|    0 - NO REPORTADO|               192|                 209|\n",
      "|2011| 12| De 02 años| FEMENINO|    0 - NO REPORTADO|                23|                  26|\n",
      "|2015|  9| De 16 años|MASCULINO|        1 - VIVO (A)|               288|                 312|\n",
      "|2020|  5| De 19 años| FEMENINO|        1 - VIVO (A)|               296|                 370|\n",
      "|2022| 11| De 02 años| FEMENINO|        1 - VIVO (A)|               279|                 329|\n",
      "|2011|  4| De 31 años| FEMENINO|        1 - VIVO (A)|               112|                 128|\n",
      "|2011| 11| De 36 años|MASCULINO|        1 - VIVO (A)|                96|                 118|\n",
      "|2016|  5| De 25 años| FEMENINO|P072 - INMATURIDA...|                 1|                   2|\n",
      "|2010|  2| De 13 años| FEMENINO|        1 - VIVO (A)|               267|                 293|\n",
      "|2021|  8| De 41 años|MASCULINO|    0 - NO REPORTADO|                32|                  38|\n",
      "|2015|  5| De 38 años|MASCULINO|        1 - VIVO (A)|                99|                 111|\n",
      "|2014|  3| De 15 años|MASCULINO|        1 - VIVO (A)|               218|                 235|\n",
      "|2022|  3| De 38 años|MASCULINO|        1 - VIVO (A)|               113|                 153|\n",
      "|2021|  7| De 38 años|MASCULINO|        1 - VIVO (A)|               101|                 139|\n",
      "|2008|  4| De 39 años|MASCULINO|        1 - VIVO (A)|                68|                  72|\n",
      "|2010|  5| De 51 años| FEMENINO|    0 - NO REPORTADO|                 6|                   7|\n",
      "|2011|  5| De 36 años| FEMENINO|        1 - VIVO (A)|                86|                  97|\n",
      "|2010|  3| De 19 años|MASCULINO|        1 - VIVO (A)|               378|                 490|\n",
      "|2021| 10| De 63 años| FEMENINO|    0 - NO REPORTADO|                24|                  26|\n",
      "|2014|  4| De 57 años|MASCULINO|        1 - VIVO (A)|                30|                  32|\n",
      "|2020|  3| De 74 años|MASCULINO|        1 - VIVO (A)|                26|                  29|\n",
      "|2010| 11| De 08 años|MASCULINO|        1 - VIVO (A)|               317|                 342|\n",
      "|2013|  6| De 22 años|MASCULINO|    0 - NO REPORTADO|                59|                  69|\n",
      "|2018|  4| De 32 años|MASCULINO|        1 - VIVO (A)|               135|                 177|\n",
      "|2013|  3| De 29 años| FEMENINO|        1 - VIVO (A)|               146|                 181|\n",
      "|2014| 11| De 04 años|MASCULINO|        1 - VIVO (A)|               188|                 227|\n",
      "|2014|  9| De 22 años| FEMENINO|        1 - VIVO (A)|               243|                 277|\n",
      "|2015|  4| De 21 años| FEMENINO|      2 - MUERTO (A)|                19|                  20|\n",
      "|2019| 10| De 25 años| FEMENINO|        1 - VIVO (A)|               236|                 301|\n",
      "|2010|  8| De 34 años|MASCULINO|        1 - VIVO (A)|               149|                 173|\n",
      "|2016| 12| De 20 años|MASCULINO|        1 - VIVO (A)|               348|                 420|\n",
      "|2015|  3| De 08 años|MASCULINO|        1 - VIVO (A)|               307|                 324|\n",
      "|2011|  5| De 03 años| FEMENINO|        1 - VIVO (A)|               366|                 396|\n",
      "|2015| 12| De 21 años| FEMENINO|      2 - MUERTO (A)|                29|                  34|\n",
      "|2019|  9| De 22 años| FEMENINO|        1 - VIVO (A)|               271|                 356|\n",
      "|2019|  2| De 10 años| FEMENINO|    0 - NO REPORTADO|               168|                 177|\n",
      "|2019| 10| De 04 años|MASCULINO|    0 - NO REPORTADO|               212|                 229|\n",
      "|2018|  3| De 03 años| FEMENINO|    0 - NO REPORTADO|               145|                 166|\n",
      "|2019|  7| De 10 años| FEMENINO|        1 - VIVO (A)|               314|                 352|\n",
      "|2022| 11| De 06 años|MASCULINO|    0 - NO REPORTADO|               149|                 165|\n",
      "+----+---+-----------+---------+--------------------+------------------+--------------------+\n",
      "only showing top 100 rows\n",
      "\n",
      "Nombres de las columnas agrupadas:\n",
      "['Año', 'Mes', 'Edad', 'Sexo', 'DiagnosticoDefuncion', 'Número_de_Personas', 'Número_de_Atenciones']\n"
     ]
    },
    {
     "name": "stderr",
     "output_type": "stream",
     "text": [
      "\r",
      "                                                                                \r"
     ]
    }
   ],
   "source": [
    "# Seleccionar solo las columnas deseadas\n",
    "columns_to_keep = [\n",
    "    'PersonaBasicaID', 'FechaInicioSINTOmas', 'Edad', 'Sexo', 'TipoRegimen',\n",
    "    'Evento', 'Area', 'PacienteHospitalizado', 'CondicionFinal', 'DiagnosticoDefuncion', 'personaid_count'\n",
    "]\n",
    "df_filtered = df2.select(*columns_to_keep)\n",
    "\n",
    "# Convertir 'FechaInicioSINTOmas' a tipo fecha con el formato correcto, manejando errores ( por que vienen datos errones entre columnas)\n",
    "df_filtered = df_filtered.withColumn(\n",
    "    'FechaInicioSINTOmas',\n",
    "    F.when(F.col('FechaInicioSINTOmas').rlike('^\\d{8}$'), F.to_date('FechaInicioSINTOmas', 'yyyyMMdd'))\n",
    "     .otherwise(None)  # Asignar None (nulo) a valores que no coinciden con el patrón de fecha\n",
    ")\n",
    "\n",
    "# Filtrar valores atípicos (por ejemplo, 19000101)\n",
    "df_filtered = df_filtered.filter(\n",
    "    (F.col('FechaInicioSINTOmas').isNotNull()) & (F.col('FechaInicioSINTOmas') > '1900-01-01')\n",
    ")\n",
    "\n",
    "# Extraer año y mes de la columna 'FechaInicioSINTOmas'\n",
    "df_filtered = df_filtered.withColumn('Año', F.year('FechaInicioSINTOmas'))\n",
    "df_filtered = df_filtered.withColumn('Mes', F.month('FechaInicioSINTOmas'))\n",
    "\n",
    "# Agrupar por año, mes, Edad ,sexo y DiagnosticoDefuncion\n",
    "result_df = df_filtered.groupBy('Año', 'Mes', 'Edad', 'Sexo', 'DiagnosticoDefuncion').agg(\n",
    "    F.countDistinct('PersonaBasicaID').alias('Número_de_Personas'),\n",
    "    F.sum('personaid_count').alias('Número_de_Atenciones')\n",
    ")\n",
    "\n",
    "# Mostrar los resultados\n",
    "result_df.show(100)\n",
    "\n",
    "# Imprimir los nombres de las columnas agrupadas para verificar\n",
    "print(\"Nombres de las columnas agrupadas:\")\n",
    "print(result_df.columns)"
   ]
  },
  {
   "cell_type": "raw",
   "id": "359a9696",
   "metadata": {},
   "source": []
  },
  {
   "cell_type": "code",
   "execution_count": 89,
   "id": "69d520a9",
   "metadata": {},
   "outputs": [
    {
     "name": "stderr",
     "output_type": "stream",
     "text": [
      "                                                                                \r"
     ]
    }
   ],
   "source": [
    "#se escribe el parquet tabla 6- Agrupado por año, mes, Edad, sexo y DiagnosticoDefuncion\n",
    "result_df.write.parquet(\"hdfs:/analyticsdata/6.SIVIGILA_Tabla_anio_mes_Edad_sexo_DiagnosticoDefuncion_Todos.parquet\")"
   ]
  },
  {
   "cell_type": "code",
   "execution_count": 93,
   "id": "7feca280",
   "metadata": {},
   "outputs": [
    {
     "name": "stdout",
     "output_type": "stream",
     "text": [
      "+----+---+----------+---------+-------------------+------------------+--------------------+\n",
      "| Año|Mes|      Edad|     Sexo|     CondicionFinal|Número_de_Personas|Número_de_Atenciones|\n",
      "+----+---+----------+---------+-------------------+------------------+--------------------+\n",
      "|2021|  9|De 33 años| FEMENINO|        Bogotá D.C.|                21|                  23|\n",
      "|2016|  7|De 22 años| FEMENINO|             SOACHA|                 5|                   5|\n",
      "|2014|  9| De 01 año|MASCULINO|       1 - VIVO (A)|               419|                 457|\n",
      "|2013|  6| De 01 mes|MASCULINO|       1 - VIVO (A)|                54|                  54|\n",
      "|2016|  3|De 02 años|MASCULINO|             CÚCUTA|                17|                  23|\n",
      "|2013|  7|De 06 años|MASCULINO|             SOACHA|                 3|                   3|\n",
      "|2022|  2|De 17 años|MASCULINO|       1 - VIVO (A)|                96|                 121|\n",
      "|2016|  8|De 60 años|MASCULINO|      FLORIDABLANCA|                 1|                   1|\n",
      "|2014|  5|De 16 años| FEMENINO|       1 - VIVO (A)|               168|                 176|\n",
      "|2017|  9|De 28 años| FEMENINO|GUADALAJARA DE BUGA|                 1|                   1|\n",
      "|2018|  5|De 03 años| FEMENINO|            BOLÍVAR|                 1|                   1|\n",
      "|2016|  7|De 02 años| FEMENINO|        Bogotá D.C.|                72|                  76|\n",
      "|2018| 10|De 10 años|MASCULINO|            SOLEDAD|                 4|                   4|\n",
      "|2019| 11|De 04 años| FEMENINO|             IBAGUÉ|                10|                  10|\n",
      "|2011|  4|De 58 años| FEMENINO|               CALI|                 2|                   2|\n",
      "|2014|  3|De 38 años| FEMENINO|          RIOBLANCO|                 2|                   3|\n",
      "|2018|  1|De 03 años| FEMENINO|           EL BAGRE|                 1|                   1|\n",
      "|2017|  4|De 23 años|MASCULINO|AREA RURAL DISPERSA|                 1|                   1|\n",
      "|2018|  9|De 10 años|MASCULINO|        Bogotá D.C.|                25|                  26|\n",
      "|2019| 12|De 08 años|MASCULINO|       1 - VIVO (A)|               221|                 230|\n",
      "+----+---+----------+---------+-------------------+------------------+--------------------+\n",
      "only showing top 20 rows\n",
      "\n"
     ]
    }
   ],
   "source": [
    "# Leer el archivo .parquet y se guarda en un DataFrame ( para probar que quedaron guardados)\n",
    "df_leer = spark.read.parquet(\"hdfs:/analyticsdata/5.SIVIGILA_Tabla_anio_mes_Edad_sexo_CondicionFinal_Todos.parquet\")\n",
    "\n",
    "# Mostrar el contenido del DataFrame\n",
    "df_leer.show()"
   ]
  },
  {
   "cell_type": "code",
   "execution_count": 94,
   "id": "303684e7",
   "metadata": {},
   "outputs": [],
   "source": [
    "spark.stop()"
   ]
  },
  {
   "cell_type": "raw",
   "id": "f309815a",
   "metadata": {},
   "source": [
    "#tabla 1- Agrupado por año, mes, Edad, sexo y tipo de régimen\n",
    "\"hdfs:/analyticsdata/1.SIVIGILA_Tabla_anio_mes_Edad_sexo_TipoRegimen_Todos.parquet\" \n",
    "#tabla 2- Agrupado por año, mes, Edad, sexo y Evento\n",
    "\"hdfs:/analyticsdata/2.SIVIGILA_Tabla_anio_mes_Edad_sexo_Evento_Todos.parquet\"\n",
    "#tabla 3- Agrupado por año, mes, Edad, sexo y Area\n",
    "\"hdfs:/analyticsdata/3.SIVIGILA_Tabla_anio_mes_Edad_sexo_Area_Todos.parquet\" \n",
    "#tabla 4- Agrupado por año, mes, Edad, sexo y PacienteHospitalizado\n",
    "\"hdfs:/analyticsdata/4.SIVIGILA_Tabla_anio_mes_Edad_sexo_PacienteHospitalizado_Todos.parquet\"\n",
    "#tabla 5- Agrupado por año, mes, Edad, sexo y CondicionFinal\n",
    "\"hdfs:/analyticsdata/5.SIVIGILA_Tabla_anio_mes_Edad_sexo_CondicionFinal_Todos.parquet\"\n",
    "#tabla 6- Agrupado por año, mes, Edad, sexo y DiagnosticoDefuncion\n",
    "\"hdfs:/analyticsdata/6.SIVIGILA_Tabla_anio_mes_Edad_sexo_DiagnosticoDefuncion_Todos.parquet\"\n",
    "\n"
   ]
  }
 ],
 "metadata": {
  "kernelspec": {
   "display_name": "Python 3 (ipykernel)",
   "language": "python",
   "name": "python3"
  },
  "language_info": {
   "codemirror_mode": {
    "name": "ipython",
    "version": 3
   },
   "file_extension": ".py",
   "mimetype": "text/x-python",
   "name": "python",
   "nbconvert_exporter": "python",
   "pygments_lexer": "ipython3",
   "version": "3.9.18"
  }
 },
 "nbformat": 4,
 "nbformat_minor": 5
}

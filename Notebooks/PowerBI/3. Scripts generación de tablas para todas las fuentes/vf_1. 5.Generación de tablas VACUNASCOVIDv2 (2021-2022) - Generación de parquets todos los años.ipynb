{
 "cells": [
  {
   "cell_type": "markdown",
   "id": "5e7ab853",
   "metadata": {},
   "source": [
    "# Generación de archivos parquet VACUNASCOVIDv2"
   ]
  },
  {
   "cell_type": "markdown",
   "id": "2cfbd12d",
   "metadata": {},
   "source": [
    "## Carga de los datos"
   ]
  },
  {
   "cell_type": "markdown",
   "id": "dc2c512b",
   "metadata": {},
   "source": [
    "Este jupyter notebook esta generando con todos los datos de VACUNASCOVIDv2 (2021 - 2022), estos datos tienen bastantes errores en la fuente inicial de los parquetes que se cargan. ( Columnas corridas, años por fuera del rango esperado, entre otros notificados en la fase de exploración)   "
   ]
  },
  {
   "cell_type": "code",
   "execution_count": 2,
   "id": "c90bfc6f",
   "metadata": {},
   "outputs": [
    {
     "name": "stderr",
     "output_type": "stream",
     "text": [
      "Setting default log level to \"WARN\".\n",
      "To adjust logging level use sc.setLogLevel(newLevel). For SparkR, use setLogLevel(newLevel).\n",
      "24/09/02 21:09:16 WARN NativeCodeLoader: Unable to load native-hadoop library for your platform... using builtin-java classes where applicable\n"
     ]
    }
   ],
   "source": [
    "from pyspark.sql import SparkSession\n",
    "\n",
    "# Crear una sesión de Spark\n",
    "spark = SparkSession.builder.appName(\"GeneraciónTablasVACUNASCOVIDv2\").getOrCreate()"
   ]
  },
  {
   "cell_type": "code",
   "execution_count": 19,
   "id": "bdbbc1d5",
   "metadata": {},
   "outputs": [],
   "source": [
    "#spark.stop()"
   ]
  },
  {
   "cell_type": "code",
   "execution_count": 7,
   "id": "11bff43d",
   "metadata": {},
   "outputs": [
    {
     "name": "stderr",
     "output_type": "stream",
     "text": [
      "                                                                                \r"
     ]
    }
   ],
   "source": [
    "# Leer los archivos Parquet de un año \n",
    "df1_parquet = spark.read.parquet(\"/rawdata/vacunascovid/vacunascovid_ver2_*/\")\n",
    "\n",
    "df=df1_parquet"
   ]
  },
  {
   "cell_type": "markdown",
   "id": "f92f1be1",
   "metadata": {},
   "source": [
    "59'904.692 de registros para 2021 \n",
    "    \n",
    "20'891.832 de registros para 2022"
   ]
  },
  {
   "cell_type": "code",
   "execution_count": 8,
   "id": "ab87d3af",
   "metadata": {},
   "outputs": [
    {
     "name": "stderr",
     "output_type": "stream",
     "text": [
      "[Stage 9:====================================================>  (151 + 8) / 159]\r"
     ]
    },
    {
     "name": "stdout",
     "output_type": "stream",
     "text": [
      "Total de registros en el DataFrame unido: 80796524\n",
      "Columnas del DataFrame unido: ['IDAnonimizado', 'PersonabasicaID', 'NroDosis', 'Biologico', 'FechaAplicacion', 'CodigoDepartamentoAplicacion', 'DepartamentoAplicacion', 'CodigoMunicipioAplicacion', 'MunicipioAplicacion', 'CodigoDepartamentoResidencia', 'DepartamentoResidencia', 'CodigoMunicipioResidencia', 'MunicipioResidencia', 'TipoDocumentoIdentificacion', 'Sexo', 'Edad', 'TipoRegimenAfiliacion', 'CriterioPriorizacion', 'CAC_HTA', 'CAC_HTA_FechaDiagnostico', 'CAC_DM', 'CAC_DM_FechaDiagnostico', 'CAC_ERC', 'CAC_ERC_FechaDiagnostico', 'CAC_VIH', 'CAC_VIH_FechaDiagnostico', 'CAC_Cancer', 'CAC_Cancer_FechaDiagnostico', 'DefuncionSospechosoCOVID', 'FechaDefuncion', 'CodigoDepartamentoOcurrencia', 'DepartamentoOcurrencia', 'CodigoMunicipioOcurrencia', 'MunicipioOcurrencia', 'CodigoDepartamentoResidenciaFallecido', 'DepartamentoResidenciaFallecido', 'CodigoMunicipioResidenciaFallecido', 'MunicipioResidenciaFallecido', 'SitioDefuncion', 'RecibioAsistenciaMedica', 'AreaResidenciaFallecido', 'CausaBasicaDefuncion', 'CausaAntecedente1Defuncion', 'CausaAntecedente2Defuncion', 'CausaAntecedente3Defuncion']\n"
     ]
    },
    {
     "name": "stderr",
     "output_type": "stream",
     "text": [
      "\r",
      "[Stage 11:>                                                         (0 + 1) / 1]\r",
      "\r",
      "                                                                                \r"
     ]
    }
   ],
   "source": [
    "# Contar el número de registros en el DataFrame \n",
    "total_registros = df.count()\n",
    "\n",
    "# Listar las columnas del DataFrame \n",
    "columnas = df.columns\n",
    "\n",
    "# Mostrar resultados\n",
    "print(f\"Total de registros en el DataFrame unido: {total_registros}\")\n",
    "print(f\"Columnas del DataFrame unido: {columnas}\")"
   ]
  },
  {
   "cell_type": "code",
   "execution_count": 9,
   "id": "204519cb",
   "metadata": {},
   "outputs": [
    {
     "name": "stderr",
     "output_type": "stream",
     "text": [
      "[Stage 12:=================================================>   (149 + 10) / 159]\r"
     ]
    },
    {
     "name": "stdout",
     "output_type": "stream",
     "text": [
      "El número de registros en el archivo Parquet es: 80796524\n"
     ]
    },
    {
     "name": "stderr",
     "output_type": "stream",
     "text": [
      "\r",
      "                                                                                \r"
     ]
    }
   ],
   "source": [
    "# Contar el número de registros - me da satisfactoriamente la cantidad de regIstros del año 2022 ()\n",
    "record_count = df.count()\n",
    "\n",
    "# Mostrar el número de registros\n",
    "print(f\"El número de registros en el archivo Parquet es: {record_count}\")"
   ]
  },
  {
   "cell_type": "code",
   "execution_count": 10,
   "id": "cdde4766",
   "metadata": {},
   "outputs": [
    {
     "name": "stdout",
     "output_type": "stream",
     "text": [
      "root\n",
      " |-- IDAnonimizado: string (nullable = true)\n",
      " |-- PersonabasicaID: string (nullable = true)\n",
      " |-- NroDosis: string (nullable = true)\n",
      " |-- Biologico: string (nullable = true)\n",
      " |-- FechaAplicacion: string (nullable = true)\n",
      " |-- CodigoDepartamentoAplicacion: string (nullable = true)\n",
      " |-- DepartamentoAplicacion: string (nullable = true)\n",
      " |-- CodigoMunicipioAplicacion: string (nullable = true)\n",
      " |-- MunicipioAplicacion: string (nullable = true)\n",
      " |-- CodigoDepartamentoResidencia: string (nullable = true)\n",
      " |-- DepartamentoResidencia: string (nullable = true)\n",
      " |-- CodigoMunicipioResidencia: string (nullable = true)\n",
      " |-- MunicipioResidencia: string (nullable = true)\n",
      " |-- TipoDocumentoIdentificacion: string (nullable = true)\n",
      " |-- Sexo: string (nullable = true)\n",
      " |-- Edad: string (nullable = true)\n",
      " |-- TipoRegimenAfiliacion: string (nullable = true)\n",
      " |-- CriterioPriorizacion: string (nullable = true)\n",
      " |-- CAC_HTA: string (nullable = true)\n",
      " |-- CAC_HTA_FechaDiagnostico: string (nullable = true)\n",
      " |-- CAC_DM: string (nullable = true)\n",
      " |-- CAC_DM_FechaDiagnostico: string (nullable = true)\n",
      " |-- CAC_ERC: string (nullable = true)\n",
      " |-- CAC_ERC_FechaDiagnostico: string (nullable = true)\n",
      " |-- CAC_VIH: string (nullable = true)\n",
      " |-- CAC_VIH_FechaDiagnostico: string (nullable = true)\n",
      " |-- CAC_Cancer: string (nullable = true)\n",
      " |-- CAC_Cancer_FechaDiagnostico: string (nullable = true)\n",
      " |-- DefuncionSospechosoCOVID: string (nullable = true)\n",
      " |-- FechaDefuncion: string (nullable = true)\n",
      " |-- CodigoDepartamentoOcurrencia: string (nullable = true)\n",
      " |-- DepartamentoOcurrencia: string (nullable = true)\n",
      " |-- CodigoMunicipioOcurrencia: string (nullable = true)\n",
      " |-- MunicipioOcurrencia: string (nullable = true)\n",
      " |-- CodigoDepartamentoResidenciaFallecido: string (nullable = true)\n",
      " |-- DepartamentoResidenciaFallecido: string (nullable = true)\n",
      " |-- CodigoMunicipioResidenciaFallecido: string (nullable = true)\n",
      " |-- MunicipioResidenciaFallecido: string (nullable = true)\n",
      " |-- SitioDefuncion: string (nullable = true)\n",
      " |-- RecibioAsistenciaMedica: string (nullable = true)\n",
      " |-- AreaResidenciaFallecido: string (nullable = true)\n",
      " |-- CausaBasicaDefuncion: string (nullable = true)\n",
      " |-- CausaAntecedente1Defuncion: string (nullable = true)\n",
      " |-- CausaAntecedente2Defuncion: string (nullable = true)\n",
      " |-- CausaAntecedente3Defuncion: string (nullable = true)\n",
      "\n",
      "['IDAnonimizado', 'PersonabasicaID', 'NroDosis', 'Biologico', 'FechaAplicacion', 'CodigoDepartamentoAplicacion', 'DepartamentoAplicacion', 'CodigoMunicipioAplicacion', 'MunicipioAplicacion', 'CodigoDepartamentoResidencia', 'DepartamentoResidencia', 'CodigoMunicipioResidencia', 'MunicipioResidencia', 'TipoDocumentoIdentificacion', 'Sexo', 'Edad', 'TipoRegimenAfiliacion', 'CriterioPriorizacion', 'CAC_HTA', 'CAC_HTA_FechaDiagnostico', 'CAC_DM', 'CAC_DM_FechaDiagnostico', 'CAC_ERC', 'CAC_ERC_FechaDiagnostico', 'CAC_VIH', 'CAC_VIH_FechaDiagnostico', 'CAC_Cancer', 'CAC_Cancer_FechaDiagnostico', 'DefuncionSospechosoCOVID', 'FechaDefuncion', 'CodigoDepartamentoOcurrencia', 'DepartamentoOcurrencia', 'CodigoMunicipioOcurrencia', 'MunicipioOcurrencia', 'CodigoDepartamentoResidenciaFallecido', 'DepartamentoResidenciaFallecido', 'CodigoMunicipioResidenciaFallecido', 'MunicipioResidenciaFallecido', 'SitioDefuncion', 'RecibioAsistenciaMedica', 'AreaResidenciaFallecido', 'CausaBasicaDefuncion', 'CausaAntecedente1Defuncion', 'CausaAntecedente2Defuncion', 'CausaAntecedente3Defuncion']\n"
     ]
    }
   ],
   "source": [
    "# Mostrar el esquema (columnas y tipos de datos)\n",
    "df.printSchema()\n",
    "\n",
    "# Listar las columnas\n",
    "print(df.columns)"
   ]
  },
  {
   "cell_type": "markdown",
   "id": "99d768c2",
   "metadata": {},
   "source": [
    "# Empieza el proceso de generación de los datos agrupados por atenciones"
   ]
  },
  {
   "cell_type": "code",
   "execution_count": 11,
   "id": "1c8181d6",
   "metadata": {},
   "outputs": [
    {
     "name": "stderr",
     "output_type": "stream",
     "text": [
      "                                                                                \r"
     ]
    },
    {
     "name": "stdout",
     "output_type": "stream",
     "text": [
      "+---------------+---------------+-----+------+---------------------+--------+--------------------+-------+------+--------------------+-------+----------+--------------------+------------------------+---------------+\n",
      "|PersonabasicaID|FechaAplicacion| Sexo|  Edad|TipoRegimenAfiliacion|NroDosis|           Biologico|CAC_HTA|CAC_DM|             CAC_ERC|CAC_VIH|CAC_Cancer|CausaBasicaDefuncion|DefuncionSospechosoCOVID|personaid_count|\n",
      "+---------------+---------------+-----+------+---------------------+--------+--------------------+-------+------+--------------------+-------+----------+--------------------+------------------------+---------------+\n",
      "|      100000046|     2021-07-30| D.C.|    CC|                    F|       1| MODERNA SWITZERL...|      C|    NO|                  NO|     NO|        NO|                null|                      NO|              3|\n",
      "|      100000046|     2021-10-09| D.C.|    CC|                    F|       2| MODERNA SWITZERL...|      C|    NO|                  NO|     NO|        NO|                null|                      NO|              3|\n",
      "|      100000046|     2022-05-28| D.C.|    CC|                    F|      -1|              PFIZER|      C|    NO|                  NO|     NO|        NO|                null|                      NO|              3|\n",
      "|      100001074|     2022-02-19|    M|    29|                    C|      -1| MODERNA SWITZERL...|     NO|    NO|                  NO|     NO|        NO|                null|                      NO|              3|\n",
      "|      100001074|     2021-07-31|    M|    29|                    C|       1| MODERNA SWITZERL...|     NO|    NO|                  NO|     NO|        NO|                null|                      NO|              3|\n",
      "|      100001074|     2021-10-09|    M|    29|                    C|       2| MODERNA SWITZERL...|     NO|    NO|                  NO|     NO|        NO|                null|                      NO|              3|\n",
      "|      100001164|     2022-08-20|    M|    29|                    C|      -2|              PFIZER|     NO|    NO|                  NO|     NO|        NO|                null|                      NO|              4|\n",
      "|      100001164|     2021-12-14|    M|    29|                    C|      -1|  OXFORD-ASTRAZENECA|     NO|    NO|                  NO|     NO|        NO|                null|                      NO|              4|\n",
      "|      100001164|     2021-03-06|    M|    29|                    C|       1|                null|     NO|    NO|                  NO|     NO|        NO|                null|                      NO|              4|\n",
      "|      100001164|     2021-03-28|    M|    29|                    C|       2|              PFIZER|     NO|    NO|                  NO|     NO|        NO|                null|                      NO|              4|\n",
      "|      100001340|     2021-12-09|    M|    29|                    C|       2|              PFIZER|     NO|    NO|                  NO|     NO|        NO|                null|                      NO|              2|\n",
      "|      100001340|     2021-11-18|    M|    29|                    C|       1|              PFIZER|     NO|    NO|                  NO|     NO|        NO|                null|                      NO|              2|\n",
      "|      100001881|     2022-02-04|11001|BOGOTÁ|                 D.C.|      -1|              PFIZER|      F|     C| PEDIÁTRICO Y NEO...|   null|      null|                null|                    null|              3|\n",
      "|      100001881|     2021-02-25|11001|BOGOTÁ|                 D.C.|       1|              PFIZER|      F|     C| PEDIÁTRICO Y NEO...|   null|      null|                null|                    null|              3|\n",
      "|      100001881|     2021-03-18|11001|BOGOTÁ|                 D.C.|       2|              PFIZER|      F|     C| PEDIÁTRICO Y NEO...|   null|      null|                null|                    null|              3|\n",
      "|      100002120|     2021-08-03|    M|    33|                    C|       1| MODERNA SWITZERL...|     NO|    NO|                  NO|     NO|        NO|                null|                      NO|              1|\n",
      "|      100002221|     2021-09-12|11001|BOGOTÁ|                 D.C.|       1|              PFIZER|      F|    ND|                  NO|     NO|        NO|                null|                      NO|              2|\n",
      "|      100002221|     2021-10-04|11001|BOGOTÁ|                 D.C.|       2|              PFIZER|      F|    ND|                  NO|     NO|        NO|                null|                      NO|              2|\n",
      "|      100002222|     2021-10-21|    F|    30|                    S|       0|             JANSSEN|     NO|    NO|                  NO|     NO|        NO|                null|                      NO|              1|\n",
      "|      100002546|     2021-10-08|    F|    30|                    S|       1|  OXFORD-ASTRAZENECA|     NO|    NO|                  NO|     NO|        NO|                null|                      NO|              2|\n",
      "+---------------+---------------+-----+------+---------------------+--------+--------------------+-------+------+--------------------+-------+----------+--------------------+------------------------+---------------+\n",
      "only showing top 20 rows\n",
      "\n",
      "Nombres de las columnas filtradas:\n",
      "['PersonabasicaID', 'FechaAplicacion', 'Sexo', 'Edad', 'TipoRegimenAfiliacion', 'NroDosis', 'Biologico', 'CAC_HTA', 'CAC_DM', 'CAC_ERC', 'CAC_VIH', 'CAC_Cancer', 'CausaBasicaDefuncion', 'DefuncionSospechosoCOVID', 'personaid_count']\n"
     ]
    },
    {
     "name": "stderr",
     "output_type": "stream",
     "text": [
      "24/09/02 21:37:28 WARN package: Truncated the string representation of a plan since it was too large. This behavior can be adjusted by setting 'spark.sql.debug.maxToStringFields'.\n",
      "                                                                                \r"
     ]
    },
    {
     "name": "stdout",
     "output_type": "stream",
     "text": [
      "+---------------+---------------+-----+------+---------------------+--------+--------------------+-------+------+--------------------+-------+----------+--------------------+------------------------+---------------+\n",
      "|PersonaBasicaID|FechaAplicacion| Sexo|  Edad|TipoRegimenAfiliacion|NroDosis|           Biologico|CAC_HTA|CAC_DM|             CAC_ERC|CAC_VIH|CAC_Cancer|CausaBasicaDefuncion|DefuncionSospechosoCOVID|personaid_count|\n",
      "+---------------+---------------+-----+------+---------------------+--------+--------------------+-------+------+--------------------+-------+----------+--------------------+------------------------+---------------+\n",
      "|      100000046|     2022-05-28| D.C.|    CC|                    F|      -1|              PFIZER|      C|    NO|                  NO|     NO|        NO|                null|                      NO|              3|\n",
      "|      100001074|     2022-02-19|    M|    29|                    C|      -1| MODERNA SWITZERL...|     NO|    NO|                  NO|     NO|        NO|                null|                      NO|              3|\n",
      "|      100001164|     2021-12-14|    M|    29|                    C|      -1|  OXFORD-ASTRAZENECA|     NO|    NO|                  NO|     NO|        NO|                null|                      NO|              4|\n",
      "|      100001340|     2021-12-09|    M|    29|                    C|       2|              PFIZER|     NO|    NO|                  NO|     NO|        NO|                null|                      NO|              2|\n",
      "|      100001881|     2022-02-04|11001|BOGOTÁ|                 D.C.|      -1|              PFIZER|      F|     C| PEDIÁTRICO Y NEO...|   null|      null|                null|                    null|              3|\n",
      "|      100002120|     2021-08-03|    M|    33|                    C|       1| MODERNA SWITZERL...|     NO|    NO|                  NO|     NO|        NO|                null|                      NO|              1|\n",
      "|      100002221|     2021-09-12|11001|BOGOTÁ|                 D.C.|       1|              PFIZER|      F|    ND|                  NO|     NO|        NO|                null|                      NO|              2|\n",
      "|      100002222|     2021-10-21|    F|    30|                    S|       0|             JANSSEN|     NO|    NO|                  NO|     NO|        NO|                null|                      NO|              1|\n",
      "|      100002546|     2021-11-05|    F|    30|                    S|       2|  OXFORD-ASTRAZENECA|     NO|    NO|                  NO|     NO|        NO|                null|                      NO|              2|\n",
      "|      100003523|     2021-09-24|    F|    20|                   ND|       1|              PFIZER|     NO|    NO|                  NO|     NO|        NO|                null|                      NO|              1|\n",
      "|      100003768|     2021-10-11|    M|    33|                    C|       0|             JANSSEN|     NO|    NO|                  NO|     NO|        NO|                null|                      NO|              1|\n",
      "|      100005976|     2022-01-04|11001|BOGOTÁ|                 D.C.|       0|             JANSSEN|      M|     S|                  NO|     NO|        NO|                null|                      NO|              1|\n",
      "|      100006567|     2022-01-23|11001|BOGOTÁ|                 D.C.|       2|             SINOVAC|      F|     C|                  NO|     NO|        NO|                null|                      NO|              2|\n",
      "|       10000670|     2021-05-01|    F|    72|                    S|       1|  OXFORD-ASTRAZENECA|     NO|    NO|                  NO|     NO|        NO|                null|                      NO|              1|\n",
      "|       10000720|     2021-04-04|11001|BOGOTÁ|                 D.C.|       2|              PFIZER|      F|     C|                  NO|     NO|        NO|                null|                      NO|              3|\n",
      "|      100007843|     2021-10-02|    F|    29|                    S|       0|             JANSSEN|     NO|    NO|                  NO|     NO|        NO|                null|                      NO|              1|\n",
      "|      100008149|     2021-10-11|11001|BOGOTÁ|                 D.C.|       2|                null|      M|     C|                  NO|     NO|        NO|                null|                      NO|              2|\n",
      "|      100009063|     2021-09-03|    M|    56|                    S|       0|             JANSSEN|     NO|    NO|                  NO|     NO|        NO|                null|                      NO|              1|\n",
      "|      100009518|     2021-08-07|11001|BOGOTÁ|                 D.C.|       1| MODERNA SWITZERL...|      M|     C|                  NO|     NO|        NO|                null|                      NO|              2|\n",
      "|      100009759|     2022-03-18|11001|BOGOTÁ|                 D.C.|       2|             SINOVAC|      F|     S|                  NO|     NO|        NO|                null|                      NO|              2|\n",
      "+---------------+---------------+-----+------+---------------------+--------+--------------------+-------+------+--------------------+-------+----------+--------------------+------------------------+---------------+\n",
      "only showing top 20 rows\n",
      "\n"
     ]
    }
   ],
   "source": [
    "from pyspark.sql import SparkSession\n",
    "from pyspark.sql import functions as F\n",
    "from pyspark.sql.window import Window\n",
    "\n",
    "# Crear una sesión de Spark\n",
    "#spark = SparkSession.builder.appName(\"DataFrame Example\").getOrCreate()\n",
    "\n",
    "\n",
    "# Cargar el archivo Parquet en un DataFrame\n",
    "#df = df1\n",
    "\n",
    "# Seleccionar solo las columnas deseadas (sin 'personaid_count' ya que no existe aún)\n",
    "columns_to_keep = [\n",
    "    'PersonabasicaID','FechaAplicacion', 'Sexo', 'Edad', 'TipoRegimenAfiliacion',\n",
    "    'NroDosis', 'Biologico', 'CAC_HTA', 'CAC_DM', 'CAC_ERC','CAC_VIH', 'CAC_Cancer', \n",
    "    'CausaBasicaDefuncion', 'DefuncionSospechosoCOVID'\n",
    "    \n",
    "]\n",
    "df_filtered = df.select(*columns_to_keep)\n",
    "\n",
    "# Agregar una nueva columna con el recuento distintivo de 'personaid'\n",
    "window_spec = Window.partitionBy('PersonaBasicaID')\n",
    "df_filtered = df_filtered.withColumn('personaid_count', F.count('PersonaBasicaID').over(window_spec))\n",
    "\n",
    "# Mostrar las primeras filas del DataFrame filtrado para verificar\n",
    "df_filtered.show()\n",
    "\n",
    "# Mostrar los nombres de las columnas filtradas para verificar\n",
    "print(\"Nombres de las columnas filtradas:\")\n",
    "print(df_filtered.columns)\n",
    "\n",
    "# Agrupar por la columna 'PersonaBasicaID'\n",
    "grouped_df = df_filtered.groupBy('PersonaBasicaID').agg(\n",
    "    F.first('FechaAplicacion').alias('FechaAplicacion'),\n",
    "    F.first('Sexo').alias('Sexo'),\n",
    "    F.first('Edad').alias('Edad'),\n",
    "    F.first('TipoRegimenAfiliacion').alias('TipoRegimenAfiliacion'),\n",
    "    F.first('NroDosis').alias('NroDosis'),\n",
    "    F.first('Biologico').alias('Biologico'),\n",
    "    F.first('CAC_HTA').alias('CAC_HTA'),\n",
    "    F.first('CAC_DM').alias('CAC_DM'),\n",
    "    F.first('CAC_ERC').alias('CAC_ERC'),\n",
    "    F.first('CAC_VIH').alias('CAC_VIH'), \n",
    "    F.first('CAC_Cancer').alias('CAC_Cancer'), \n",
    "    F.first('CausaBasicaDefuncion').alias('CausaBasicaDefuncion'), \n",
    "    F.first('DefuncionSospechosoCOVID').alias('DefuncionSospechosoCOVID'), \n",
    "   \n",
    "    \n",
    "    F.first('personaid_count').alias('personaid_count')\n",
    ")\n",
    "# Mostrar las primeras filas del DataFrame agrupado para verificar\n",
    "grouped_df.show()\n"
   ]
  },
  {
   "cell_type": "markdown",
   "id": "2e8ebe9a",
   "metadata": {},
   "source": [
    "Se evidencia errores en los parquetes iniciales con los registros de \"Bogotá, DC\", esto se menciono varias veces pero no se corrigio "
   ]
  },
  {
   "cell_type": "code",
   "execution_count": 12,
   "id": "b242c249",
   "metadata": {},
   "outputs": [
    {
     "name": "stderr",
     "output_type": "stream",
     "text": [
      "[Stage 23:=========================================>           (130 + 37) / 167]\r"
     ]
    },
    {
     "name": "stdout",
     "output_type": "stream",
     "text": [
      "El número de registros en el archivo Parquet es: 39869037\n"
     ]
    },
    {
     "name": "stderr",
     "output_type": "stream",
     "text": [
      "\r",
      "[Stage 23:===============================================>     (151 + 16) / 167]\r",
      "\r",
      "                                                                                \r"
     ]
    }
   ],
   "source": [
    "# Contar el número de registros - me da satisfactoriamente la cantidad de registros en cada año ( )\n",
    "record_count = grouped_df.count()\n",
    "\n",
    "# Mostrar el número de registros\n",
    "print(f\"El número de registros en el archivo Parquet es: {record_count}\")"
   ]
  },
  {
   "cell_type": "markdown",
   "id": "738289fd",
   "metadata": {},
   "source": [
    "no se puede validar la cantidad de registros, no se compartio el archivo parquet para la generación del power bi"
   ]
  },
  {
   "cell_type": "code",
   "execution_count": 13,
   "id": "0a7707a7",
   "metadata": {},
   "outputs": [],
   "source": [
    " df_final =grouped_df\n"
   ]
  },
  {
   "cell_type": "code",
   "execution_count": 14,
   "id": "c8edd29f",
   "metadata": {},
   "outputs": [
    {
     "name": "stderr",
     "output_type": "stream",
     "text": [
      "[Stage 29:=================================================>   (157 + 10) / 167]\r"
     ]
    },
    {
     "name": "stdout",
     "output_type": "stream",
     "text": [
      "El número de registros en el archivo Parquet es: 39869037\n"
     ]
    },
    {
     "name": "stderr",
     "output_type": "stream",
     "text": [
      "\r",
      "                                                                                \r"
     ]
    }
   ],
   "source": [
    "# Contar el número de registros - \n",
    "record_count = df_final.count()\n",
    "\n",
    "# Mostrar el número de registros\n",
    "print(f\"El número de registros en el archivo Parquet es: {record_count}\")"
   ]
  },
  {
   "cell_type": "code",
   "execution_count": 16,
   "id": "6c4283ae",
   "metadata": {
    "scrolled": true
   },
   "outputs": [
    {
     "name": "stderr",
     "output_type": "stream",
     "text": [
      "[Stage 38:>                                                         (0 + 1) / 1]\r"
     ]
    },
    {
     "name": "stdout",
     "output_type": "stream",
     "text": [
      "+---------------+---------------+-----+------+---------------------+--------+--------------------+-------+------+--------------------+-------+----------+--------------------+------------------------+---------------+\n",
      "|PersonaBasicaID|FechaAplicacion| Sexo|  Edad|TipoRegimenAfiliacion|NroDosis|           Biologico|CAC_HTA|CAC_DM|             CAC_ERC|CAC_VIH|CAC_Cancer|CausaBasicaDefuncion|DefuncionSospechosoCOVID|personaid_count|\n",
      "+---------------+---------------+-----+------+---------------------+--------+--------------------+-------+------+--------------------+-------+----------+--------------------+------------------------+---------------+\n",
      "|      100000046|     2021-07-30| D.C.|    CC|                    F|       1| MODERNA SWITZERL...|      C|    NO|                  NO|     NO|        NO|                null|                      NO|              3|\n",
      "|      100001074|     2022-02-19|    M|    29|                    C|      -1| MODERNA SWITZERL...|     NO|    NO|                  NO|     NO|        NO|                null|                      NO|              3|\n",
      "|      100001164|     2022-08-20|    M|    29|                    C|      -2|              PFIZER|     NO|    NO|                  NO|     NO|        NO|                null|                      NO|              4|\n",
      "|      100001340|     2021-12-09|    M|    29|                    C|       2|              PFIZER|     NO|    NO|                  NO|     NO|        NO|                null|                      NO|              2|\n",
      "|      100001881|     2022-02-04|11001|BOGOTÁ|                 D.C.|      -1|              PFIZER|      F|     C| PEDIÁTRICO Y NEO...|   null|      null|                null|                    null|              3|\n",
      "|      100002120|     2021-08-03|    M|    33|                    C|       1| MODERNA SWITZERL...|     NO|    NO|                  NO|     NO|        NO|                null|                      NO|              1|\n",
      "|      100002221|     2021-09-12|11001|BOGOTÁ|                 D.C.|       1|              PFIZER|      F|    ND|                  NO|     NO|        NO|                null|                      NO|              2|\n",
      "|      100002222|     2021-10-21|    F|    30|                    S|       0|             JANSSEN|     NO|    NO|                  NO|     NO|        NO|                null|                      NO|              1|\n",
      "|      100002546|     2021-10-08|    F|    30|                    S|       1|  OXFORD-ASTRAZENECA|     NO|    NO|                  NO|     NO|        NO|                null|                      NO|              2|\n",
      "|      100003523|     2021-09-24|    F|    20|                   ND|       1|              PFIZER|     NO|    NO|                  NO|     NO|        NO|                null|                      NO|              1|\n",
      "|      100003768|     2021-10-11|    M|    33|                    C|       0|             JANSSEN|     NO|    NO|                  NO|     NO|        NO|                null|                      NO|              1|\n",
      "|      100005976|     2022-01-04|11001|BOGOTÁ|                 D.C.|       0|             JANSSEN|      M|     S|                  NO|     NO|        NO|                null|                      NO|              1|\n",
      "|      100006567|     2022-01-23|11001|BOGOTÁ|                 D.C.|       2|             SINOVAC|      F|     C|                  NO|     NO|        NO|                null|                      NO|              2|\n",
      "|       10000670|     2021-05-01|    F|    72|                    S|       1|  OXFORD-ASTRAZENECA|     NO|    NO|                  NO|     NO|        NO|                null|                      NO|              1|\n",
      "|       10000720|     2021-04-04|11001|BOGOTÁ|                 D.C.|       2|              PFIZER|      F|     C|                  NO|     NO|        NO|                null|                      NO|              3|\n",
      "|      100007843|     2021-10-02|    F|    29|                    S|       0|             JANSSEN|     NO|    NO|                  NO|     NO|        NO|                null|                      NO|              1|\n",
      "|      100008149|     2021-09-13|11001|BOGOTÁ|                 D.C.|       1|                null|      M|     C|                  NO|     NO|        NO|                null|                      NO|              2|\n",
      "|      100009063|     2021-09-03|    M|    56|                    S|       0|             JANSSEN|     NO|    NO|                  NO|     NO|        NO|                null|                      NO|              1|\n",
      "|      100009518|     2022-07-16|11001|BOGOTÁ|                 D.C.|      -1|     MODERNA BIOTECH|      M|     C|                  NO|     NO|        NO|                null|                      NO|              2|\n",
      "|      100009759|     2022-03-18|11001|BOGOTÁ|                 D.C.|       2|             SINOVAC|      F|     S|                  NO|     NO|        NO|                null|                      NO|              2|\n",
      "+---------------+---------------+-----+------+---------------------+--------+--------------------+-------+------+--------------------+-------+----------+--------------------+------------------------+---------------+\n",
      "only showing top 20 rows\n",
      "\n"
     ]
    },
    {
     "name": "stderr",
     "output_type": "stream",
     "text": [
      "\r",
      "                                                                                \r"
     ]
    }
   ],
   "source": [
    "# Mostrar las primeras filas del DataFrame agrupado para verificar\n",
    "df_final.show()"
   ]
  },
  {
   "cell_type": "markdown",
   "id": "3f2c7994",
   "metadata": {},
   "source": [
    "Se notifico que esta muestra tenia errores desde la fase de exploración, no se corrigieron... "
   ]
  },
  {
   "cell_type": "markdown",
   "id": "e121d260",
   "metadata": {},
   "source": [
    "# Empieza el proceso de generación de tablas VacunasCOVIDv2"
   ]
  },
  {
   "cell_type": "markdown",
   "id": "33603b04",
   "metadata": {},
   "source": [
    "# Pagina 1 - Power BI"
   ]
  },
  {
   "cell_type": "code",
   "execution_count": 17,
   "id": "ac961489",
   "metadata": {},
   "outputs": [],
   "source": [
    "# Cargar el archivo Parquet en un DataFrame ( uno distinto por si deseo comparar)\n",
    "df2 = df_final"
   ]
  },
  {
   "cell_type": "markdown",
   "id": "8fbd717b",
   "metadata": {},
   "source": [
    "## 1. Agrupado por año, mes, 'Sexo', 'Edad', 'TipoRegimenAfiliacion',  'NroDosis', 'Biologico','CAC_HTA', 'CAC_DM', 'CAC_ERC','CAC_VIH', 'CAC_Cancer',    'CausaBasicaDefuncion', 'DefuncionSospechosoCOVID'"
   ]
  },
  {
   "cell_type": "raw",
   "id": "0e8553ba",
   "metadata": {},
   "source": [
    "#intento 1 "
   ]
  },
  {
   "cell_type": "code",
   "execution_count": 18,
   "id": "4f68792b",
   "metadata": {},
   "outputs": [],
   "source": [
    "# Selecciona la columna 'FechaRegistro' y muestra sus datos\n",
    "#df2.select('FechaAplicacion').show(100, truncate=False)"
   ]
  },
  {
   "cell_type": "code",
   "execution_count": null,
   "id": "ac230a89",
   "metadata": {},
   "outputs": [],
   "source": []
  },
  {
   "cell_type": "code",
   "execution_count": 19,
   "id": "38712436",
   "metadata": {
    "scrolled": false
   },
   "outputs": [
    {
     "name": "stderr",
     "output_type": "stream",
     "text": [
      "[Stage 41:=====================================================>(166 + 1) / 167]\r"
     ]
    },
    {
     "name": "stdout",
     "output_type": "stream",
     "text": [
      "+----+---+-----------+------+---------------------+--------+--------------------+--------------------+--------------------+--------------------+-------+----------+--------------------+------------------------+------------------+--------------------+\n",
      "| Año|Mes|       Sexo|  Edad|TipoRegimenAfiliacion|NroDosis|           Biologico|             CAC_HTA|              CAC_DM|             CAC_ERC|CAC_VIH|CAC_Cancer|CausaBasicaDefuncion|DefuncionSospechosoCOVID|Número_de_Personas|Número_de_Atenciones|\n",
      "+----+---+-----------+------+---------------------+--------+--------------------+--------------------+--------------------+--------------------+-------+----------+--------------------+------------------------+------------------+--------------------+\n",
      "|2021|  7|          M|    78|                    S|       2|                null|                  NO|                  NO|                  NO|     NO|        NO|                null|                      NO|                 4|                  10|\n",
      "|2021|  8|          F|    31|                    S|       1|             SINOVAC|                  NO|                  NO|                  NO|     NO|        NO|                null|                      NO|               580|                1163|\n",
      "|2021|  7|          F|    32|                    S|       0|             JANSSEN|                  NO|                  NO|                  NO|     NO|        NO|                null|                      NO|              8192|               11002|\n",
      "|2021| 10|          F|    29|                    S|       0|                null|                  NO|                  NO|                  NO|     NO|        NO|                null|                      NO|                31|                  35|\n",
      "|2022|  1|      11001|BOGOTÁ|                 D.C.|      -1|             SINOVAC|                   M|                   C|                  NO|     NO|        NO|                null|                      NO|             12788|               38390|\n",
      "|2021|  3|          F|    55|                    C|       1|              PFIZER| INCLUIDO EL PERS...|                null|                null|   null|      null|                null|                    null|                 1|                   3|\n",
      "|2021|  8|       D.C.|    CC|                    F|       1|              PFIZER|                   C|                  NO|                  NO|     NO|        NO|                null|                      NO|              2734|                5619|\n",
      "|2022|  4|          M|    28|                    C|       2|              PFIZER|                  NO|                  NO|                  NO|     NO|        NO|                null|                      NO|               432|                 824|\n",
      "|2022|  1|          M|    28|                    C|      -1|     MODERNA BIOTECH| EL QUE SEA LLAMA...|                  NO|                  NO|     NO|        NO|                null|                      NO|                 8|                  20|\n",
      "|2021|  5|          F|    72|                    S|       1|             SINOVAC|                  NO|                  NO|                  NO|     NO|        NO|                null|                      NO|              3450|                8228|\n",
      "|2021|  5|      11001|BOGOTÁ|                 D.C.|       1|                null|                   F|                   C| EL QUE SEA LLAMA...|   null|      null|                null|                    null|                 1|                   3|\n",
      "|2021| 12|          M|    38|                    S|       2|  OXFORD-ASTRAZENECA|                  NO|                  NO|                  NO|     NO|        NO|                null|                      NO|              1198|                2428|\n",
      "|2021| 11|     LORICA|    CC|                    M|      -1|             SINOVAC|                   C| EL QUE SEA LLAMA...|                  NO|     NO|        NO|                null|                      NO|                 1|                   2|\n",
      "|2022|  1|          F|    68|                    S|      -1| MODERNA SWITZERL...|                  NO|                  NO|                  NO|     NO|        NO|                null|                      NO|               282|                 820|\n",
      "|2022|  2|     MELGAR|    CC|                    F|      -1|              PFIZER|                   C|                  NO|                  NO|     NO|        NO|                null|                      NO|                11|                  32|\n",
      "|2022|  8|          F|    16|                    C|      -1|              PFIZER|                  NO|                  NO|                  NO|     NO|        NO|                null|                      NO|               371|                 976|\n",
      "|2022| 10|          F|    26|                    S|       0|             JANSSEN|                  NO|                  NO|                  NO|     NO|        NO|                null|                      NO|                55|                  59|\n",
      "|2021| 10|          F|    50|                    C|       0|             JANSSEN|                  NO|                  NO|                  NO|     NO|        NO|                null|                      NO|              1529|                1814|\n",
      "|2021|  7|          F|    25|                    C|       1|                null|                  NO|                  NO|                  NO|     NO|        NO|                null|                      NO|              1370|                3015|\n",
      "|2021| 12|   CHÍQUIZA|    TI|                    M|       2|              PFIZER|                   C|                  NO|                  NO|     NO|        NO|                null|                      NO|                 1|                   2|\n",
      "|2021|  7|     MADRID|    CC|                    M|       1|                null|                   S|                  NO|                  NO|     NO|        NO|                null|                      NO|                32|                  68|\n",
      "|2022|  3|          F|    17|                    C|       2|     MODERNA BIOTECH|                  NO|                  NO|                  NO|     NO|        NO|                null|                      NO|               662|                1225|\n",
      "|2021|  9|          M|    42|                    S|       2|              PFIZER|                  NO|                  NO|                  NO|     NO|        NO|                null|                      NO|               179|                 385|\n",
      "|2021| 11|BUCARAMANGA|    CC|                    F|       0|             JANSSEN|                   C|                  NO|                  NO|     NO|        NO|                null|                      NO|                10|                  11|\n",
      "|2021|  6|          M|    68|                    C|       1|              PFIZER|                  NO|                  NO|                  NO|     NO|        NO|                null|                      NO|              1245|                2770|\n",
      "|2022|  4|          M|    39|                    S|      -1|              PFIZER|                  NO|                  NO|                  NO|     NO|        NO|                null|                      NO|               381|                 924|\n",
      "|2021|  3|          F|    82|                    E|       1|                null|                  NO|                  NO|                  NO|     NO|        NO|                null|                      NO|               296|                 828|\n",
      "|2021| 11|          F|    39|                    S|       2|              PFIZER|                  NO|                  NO|                  NO|     NO|        NO|                null|                      NO|               453|                 959|\n",
      "|2021|  4|          M|    57|                    C|       2|              PFIZER|                  NO|                  NO|                  NO|     NO|        NO|                null|                      NO|               109|                 322|\n",
      "|2022|  1|          F|    24|                    S|       2|              PFIZER|                  NO|                  NO|                  NO|     NO|        NO|                null|                      NO|               496|                 972|\n",
      "|2022|  9|      11001|BOGOTÁ|                 D.C.|       2|             SINOVAC|                   F|                   C|                  NO|     NO|        NO|                null|                      NO|               488|                 899|\n",
      "|2022|  4|          M|    22|                    C|      -1|              PFIZER|                  NO|                  NO|                  NO|     NO|        NO|                null|                      NO|               809|                2029|\n",
      "|2021|  9|          F|    39|                    C|       1|                null|                  NO|                  NO|                  NO|     NO|        NO|                null|                      NO|               161|                 327|\n",
      "|2021|  8|          F|    22|                    C|       2|             SINOVAC|                  NO|                  NO|                  NO|     NO|        NO|                null|                      NO|               824|                1953|\n",
      "|2022|  3|          F|    46|                    S|      -1|              PFIZER|                  NO|                  NO|                  NO|     NO|        NO|                null|                      NO|              1175|                3086|\n",
      "|2021|  6|          F|    40|                    E|       2|             SINOVAC|                  NO|                  NO|                  NO|     NO|        NO|                null|                      NO|                10|                  23|\n",
      "|2022|  5|          F|    21|                    S|      -1|             JANSSEN|                  NO|                  NO|                  NO|     NO|        NO|                null|                      NO|               388|                 846|\n",
      "|2022|  2|          F|    34|                    S|       2| MODERNA SWITZERL...|                  NO|                  NO|                  NO|     NO|        NO|                null|                      NO|               314|                 599|\n",
      "|2021|  7|          F|    51|                    S|       2|             SINOVAC|                  NO|                  NO|                  NO|     NO|        NO|                null|                      NO|              2252|                5306|\n",
      "|2022|  7|          M|    18|                    S|      -1|              PFIZER|                  NO|                  NO|                  NO|     NO|        NO|                null|                      NO|               333|                 868|\n",
      "|2022|  6|          F|    10|                    S|       1|             SINOVAC|                  NO|                  NO|                  NO|     NO|        NO|                null|                      NO|               460|                 563|\n",
      "|2021| 11|          M|    62|                    S|       1|  OXFORD-ASTRAZENECA|                  NO|                  NO|                  NO|     NO|        NO|                null|                      NO|               842|                1156|\n",
      "|2022|  3|          M|    79|                    C|      -1|             SINOVAC|                  NO|                  NO|                  NO|     NO|        NO|                null|                      NO|                20|                  61|\n",
      "|2021|  6|          F|    62|                    S|       2|             SINOVAC| DIRECTIVOS DOCEN...|     BÁSICA PRIMARIA|                  NO|     NO|        NO|                null|                      NO|                15|                  39|\n",
      "|2022|  1|          F|    36|                    C|      -1|  OXFORD-ASTRAZENECA|                  NO|                  NO|                  NO|     NO|        NO|                null|                      NO|              1075|                2712|\n",
      "|2021|  6|          M|    59|                    C|       1|              PFIZER| DIRECTIVOS DOCEN...|     BÁSICA PRIMARIA|                  NO|     NO|        NO|                null|                      NO|                98|                 233|\n",
      "|2021| 12|          M|    68|                    S|       1|              PFIZER|                  NO|                  NO|                  NO|     NO|        NO|                null|                      NO|                 6|                   7|\n",
      "|2021| 12|          M|    55|                    S|       2|             SINOVAC|                  NO|                  NO|                  NO|     NO|        NO|                null|                      NO|               107|                 213|\n",
      "|2022|  5|          M|    67|                    C|      -2| MODERNA SWITZERL...|                  NO|                  NO|                  NO|     NO|        NO|                null|                      NO|                 5|                  17|\n",
      "|2022|  3|          F|    61|                    C|      -1|             JANSSEN|                  NO|                  NO|                  NO|     NO|        NO|                null|                      NO|               154|                 359|\n",
      "|2021|  7|          M|    34|                    C|       1|             SINOVAC| VIGILANCIA Y CON...|                null|                null|   null|      null|                null|                    null|                 8|                  14|\n",
      "|2022|  1|          M|    41|                    C|       2|  OXFORD-ASTRAZENECA|                  NO|                  NO|                  NO|     NO|        NO|                null|                      NO|               866|                1701|\n",
      "|2021|  8|          F|    54|                    E|       2|             SINOVAC| DIRECTIVOS DOCEN...|     BÁSICA PRIMARIA|                  NO|     NO|        NO|                null|                      NO|                15|                  38|\n",
      "|2021|  8|          M|    64|                    S|       2|             SINOVAC|                  NO|                  NO|                  NO|     NO|        NO|                null|                      NO|               924|                2053|\n",
      "|2022|  1|          F|    52|                    E|      -1| MODERNA SWITZERL...| DIRECTIVOS DOCEN...|     BÁSICA PRIMARIA|                  NO|     NO|        NO|                null|                      NO|                24|                  69|\n",
      "|2021|  4|          F|    73|                    S|       2|              PFIZER|                  NO|                  NO|                  NO|     NO|        NO|                null|                      NO|               188|                 502|\n",
      "|2022|  4|          M|    46|                    C|      -1|             JANSSEN|                  NO|                  NO|                  NO|     NO|        NO|                null|                      NO|               382|                 841|\n",
      "|2021| 12|          M|    94|                   ND|      -1| MODERNA SWITZERL...|                  NO|                  NO|                  NO|     NO|        NO|                null|                      NO|                 2|                   2|\n",
      "|2021| 12|          F|    84|                    S|      -1|             SINOVAC|                  NO|                  NO|                  NO|     NO|        NO|                null|                      NO|                94|                 290|\n",
      "|2021|  5|          M|    71|                    E|       1|             SINOVAC|                  NO|                  NO|                  NO|     NO|        NO|                null|                      NO|               136|                 337|\n",
      "|2021| 11|          F|    60|                    S|       1|                null|                  NO|                  NO|                  NO|     NO|        NO|                null|                      NO|                21|                  29|\n",
      "|2022|  6|          F|    73|                    C|      -2|              PFIZER|                  NO|                  NO|                  NO|     NO|        NO|                null|                      NO|               662|                2436|\n",
      "|2022|  6|          F|    58|                    S|      -2|              PFIZER|                  NO|                  NO|                  NO|     NO|        NO|                null|                      NO|               323|                1167|\n",
      "|2021|  9|          F|    34|                    C|       0|             JANSSEN|                  NO|                  NO|                  NO|     NO|        NO|                null|                      NO|               534|                 677|\n",
      "|2021|  6|          F|    50|                    C|       1|              PFIZER| DIRECTIVOS DOCEN...|     BÁSICA PRIMARIA|                  NO|     NO|        NO|                null|                      NO|               618|                1516|\n",
      "|2021| 11|          F|    74|                    S|       2|             JANSSEN|                  NO|                  NO|                  NO|     NO|        NO|                null|                      NO|                 2|                   5|\n",
      "|2021| 11|          F|    34|                    C|       1|             SINOVAC|                  NO|                  NO|                  NO|     NO|        NO|                null|                      NO|               156|                 240|\n",
      "|2021|  6|          M|    37|                    C|       2|              PFIZER| DIRECTIVOS DOCEN...|     BÁSICA PRIMARIA|                  NO|     NO|        NO|                null|                      NO|               319|                 771|\n",
      "|2021|  3|          F|    64|                    C|       2|              PFIZER|                  NO|                  NO|                  NO|     NO|        NO|                null|                      NO|                17|                  45|\n",
      "|2022|  8|          M|    45|                    C|      -1|             JANSSEN|                  NO|                  NO|                  NO|     NO|        NO|                null|                      NO|                43|                  98|\n",
      "|2022|  1|          M|    61|                    S|       0|             JANSSEN|                  NO|                  NO|                  NO|     NO|        NO|                null|                      NO|               532|                 583|\n",
      "|2022|  1|          F|    57|                    S|      -1|     MODERNA BIOTECH|                  NO|                  NO|                  NO|     NO|        NO|                null|                      NO|               197|                 577|\n",
      "|2021| 10|          F|    76|                    S|       2| MODERNA SWITZERL...|                  NO|                  NO|                  NO|     NO|        NO|                null|                      NO|               261|                 566|\n",
      "|2021|  9|          M|    61|                    S|       1|              PFIZER|                  NO|                  NO|                  NO|     NO|        NO|                null|                      NO|               432|                 764|\n",
      "|2022|  4|          F|    48|                    C|       1|              PFIZER|                  NO|                  NO|                  NO|     NO|        NO|                null|                      NO|                31|                  37|\n",
      "|2021|  5|          F|    59|                    S|       2|                null|                  NO|                  NO|                  NO|     NO|        NO|                null|                      NO|                 1|                   1|\n",
      "|2022| 12|          M|    43|                    S|      -2|     MODERNA BIOTECH|                  NO|                  NO|                  NO|     NO|        NO|                null|                      NO|                42|                 130|\n",
      "|2021|  5|          M|   101|                    C|       2|             SINOVAC|                  NO|                  NO|                  NO|     NO|        NO|                null|                      NO|                 8|                  19|\n",
      "|2021| 10|          M|    53|                    C|       2|             SINOVAC|                  NO|                  NO|                  NO|     NO|        NO|                null|                      NO|               230|                 495|\n",
      "|2021|  9|          M|    82|                    S|       2|  OXFORD-ASTRAZENECA|                  NO|                  NO|                  NO|     NO|        NO|                null|                      NO|               178|                 403|\n",
      "|2021| 12|          M|    84|                    S|       2|  OXFORD-ASTRAZENECA|                  NO|                  NO|                  NO|     NO|        NO|                null|                      NO|                60|                 121|\n",
      "|2022|  6|          F|    40|                    C|      -1|              PFIZER| DIRECTIVOS DOCEN...|     BÁSICA PRIMARIA|                  NO|     NO|        NO|                null|                      NO|                20|                  51|\n",
      "|2021| 12|          M|    78|                    C|      -1|     MODERNA BIOTECH|                  NO|                  NO|                  NO|     NO|        NO|                null|                      NO|               133|                 421|\n",
      "|2021| 11|          F|    72|                    C|       1|  OXFORD-ASTRAZENECA|                  NO|                  NO|                  NO|     NO|        NO|                null|                      NO|               102|                 152|\n",
      "|2022|  1|       D.C.|    CC|                    M|      -1|  OXFORD-ASTRAZENECA|                   S| EL QUE SEA LLAMA...|                  NO|     NO|        NO|                null|                      NO|               106|                 268|\n",
      "|2021|  5|          M|    51|                    S|       1|              PFIZER| DIRECTIVOS DOCEN...|     BÁSICA PRIMARIA|                  NO|     NO|        NO|                null|                      NO|                85|                 207|\n",
      "|2022|  8|          F|    67|                    C|      -2|              PFIZER|                  NO|                  NO|                  NO|     NO|        NO|                null|                      NO|               377|                1374|\n",
      "|2021|  6|          M|    34|                    S|       2|              PFIZER| EL QUE SEA LLAMA...|                null|                null|   null|      null|                null|                    null|               284|                 761|\n",
      "|2022|  4|          F|    80|                    S|      -1|     MODERNA BIOTECH|                  NO|                  NO|                  NO|     NO|        NO|                null|                      NO|                14|                  37|\n",
      "|2022| 11|          F|    14|                    S|      -2|             SINOVAC|                  NO|                  NO|                  NO|     NO|        NO|                null|                      NO|                 2|                   8|\n",
      "|2021|  8|          F|    29|                    C|       1|              PFIZER|                  NO|                  NO|                  NO|     NO|        NO|                null|                      NO|              2580|                5090|\n",
      "|2022|  8|      11001|BOGOTÁ|                 D.C.|      -1|             SINOVAC|                   M|                   C|                  NO|     NO|        NO|                null|                      NO|                65|                 186|\n",
      "|2021|  6|      11001|BOGOTÁ|                 D.C.|       1|             SINOVAC|                   M|                   C|                  NO|     NO|        NO|                null|                      NO|             30745|               76494|\n",
      "|2022|  2|       D.C.|    CC|                    M|       0|             JANSSEN|                   C|                  NO|                  NO|     NO|        NO|                null|                      NO|              1703|                1815|\n",
      "|2021|  7|          F|    33|                    S|       0|             JANSSEN|                  NO|                  NO|                  NO|     NO|        NO|                null|                      NO|              8683|               11581|\n",
      "|2022|  3|          F|    29|                    C|      -1|  OXFORD-ASTRAZENECA|                  NO|                  NO|                  NO|     NO|        NO|                null|                      NO|               128|                 328|\n",
      "|2022|  7|          F|    32|                    S|      -2|     MODERNA BIOTECH|                  NO|                  NO|                  NO|     NO|        NO|                null|                      NO|                14|                  42|\n",
      "|2021| 12|          F|    31|                    C|       0|             JANSSEN|                  NO|                  NO|                  NO|     NO|        NO|                null|                      NO|              1368|                1477|\n",
      "|2021|  8|          M|    32|                    C|       1|                null|                  NO|                  NO|                  NO|     NO|        NO|                null|                      NO|              1445|                2858|\n",
      "|2021|  7|          F|    28|                    C|       1| MODERNA SWITZERL...|                  NO|                  NO|                  NO|     NO|        NO|                null|                      NO|              3583|                7605|\n",
      "+----+---+-----------+------+---------------------+--------+--------------------+--------------------+--------------------+--------------------+-------+----------+--------------------+------------------------+------------------+--------------------+\n",
      "only showing top 100 rows\n",
      "\n",
      "Nombres de las columnas agrupadas:\n",
      "['Año', 'Mes', 'Sexo', 'Edad', 'TipoRegimenAfiliacion', 'NroDosis', 'Biologico', 'CAC_HTA', 'CAC_DM', 'CAC_ERC', 'CAC_VIH', 'CAC_Cancer', 'CausaBasicaDefuncion', 'DefuncionSospechosoCOVID', 'Número_de_Personas', 'Número_de_Atenciones']\n"
     ]
    },
    {
     "name": "stderr",
     "output_type": "stream",
     "text": [
      "\r",
      "                                                                                \r"
     ]
    }
   ],
   "source": [
    "\n",
    "# Seleccionar solo las columnas deseadas\n",
    "columns_to_keep = [\n",
    "     'PersonabasicaID','FechaAplicacion', 'Sexo', 'Edad', 'TipoRegimenAfiliacion',\n",
    "    'NroDosis', 'Biologico', 'CAC_HTA', 'CAC_DM', 'CAC_ERC','CAC_VIH', 'CAC_Cancer', \n",
    "    'CausaBasicaDefuncion', 'DefuncionSospechosoCOVID', 'personaid_count'\n",
    "]\n",
    "df_filtered = df2.select(*columns_to_keep)\n",
    "\n",
    "# Convertir 'FechaAplicacion' a tipo fecha con el formato correcto\n",
    "df_filtered = df_filtered.withColumn(\n",
    "    'FechaAplicacion',\n",
    "    F.to_date('FechaAplicacion', 'yyyy-MM-dd')  # Ajustar el formato a 'yyyy-MM-dd'\n",
    ")    \n",
    "# Filtrar valores atípicos (por ejemplo, 19000101)\n",
    "df_filtered = df_filtered.filter(\n",
    "    (F.col('FechaAplicacion').isNotNull()) & (F.col('FechaAplicacion') > '1900-01-01')\n",
    ")\n",
    "\n",
    "# Extraer año y mes de la columna 'FechaInicioSINTOmas'\n",
    "df_filtered = df_filtered.withColumn('Año', F.year('FechaAplicacion'))\n",
    "df_filtered = df_filtered.withColumn('Mes', F.month('FechaAplicacion'))\n",
    "\n",
    "# Agrupar por año, mes, sexo y tipo de régimen etc..\n",
    "result_df = df_filtered.groupBy('Año', 'Mes', 'Sexo', 'Edad', 'TipoRegimenAfiliacion', \n",
    "                                'NroDosis', 'Biologico', 'CAC_HTA', 'CAC_DM', 'CAC_ERC','CAC_VIH', \n",
    "                                'CAC_Cancer','CausaBasicaDefuncion', 'DefuncionSospechosoCOVID').agg(\n",
    "    F.countDistinct('PersonaBasicaID').alias('Número_de_Personas'),\n",
    "    F.sum('personaid_count').alias('Número_de_Atenciones')\n",
    ")\n",
    "\n",
    "# Mostrar los resultados\n",
    "result_df.show(100)\n",
    "\n",
    "# Imprimir los nombres de las columnas agrupadas para verificar\n",
    "print(\"Nombres de las columnas agrupadas:\")\n",
    "print(result_df.columns)"
   ]
  },
  {
   "cell_type": "markdown",
   "id": "67819215",
   "metadata": {},
   "source": [
    "No es posible validar los datos, no se utilizo el parquet para construir el powerbi.\n",
    "Los datos tambien tienen problemas de calidad, lo mencionado en la fase de exploracón"
   ]
  },
  {
   "cell_type": "code",
   "execution_count": 20,
   "id": "0776ce4d",
   "metadata": {},
   "outputs": [
    {
     "name": "stderr",
     "output_type": "stream",
     "text": [
      "                                                                                \r"
     ]
    }
   ],
   "source": [
    "#se escribe el parquet tabla 1- Agrupado por año, mes, Edad, sexo y tipo de régimen, etc...\n",
    "result_df.write.parquet(\"hdfs:/analyticsdata/1.VACUNASCOVIDv2_Tabla_anio_mes_sexo_Edad_TipoRegimenAfil_NroDosis_Biologico_CAC_Varios_CausaBasicaDeFuncion_DefuncionSospechosoCovid_Todos.parquet\") "
   ]
  },
  {
   "cell_type": "code",
   "execution_count": 21,
   "id": "303684e7",
   "metadata": {},
   "outputs": [],
   "source": [
    "spark.stop()"
   ]
  },
  {
   "cell_type": "code",
   "execution_count": null,
   "id": "cdfc9942",
   "metadata": {},
   "outputs": [],
   "source": []
  }
 ],
 "metadata": {
  "kernelspec": {
   "display_name": "Python 3 (ipykernel)",
   "language": "python",
   "name": "python3"
  },
  "language_info": {
   "codemirror_mode": {
    "name": "ipython",
    "version": 3
   },
   "file_extension": ".py",
   "mimetype": "text/x-python",
   "name": "python",
   "nbconvert_exporter": "python",
   "pygments_lexer": "ipython3",
   "version": "3.9.18"
  }
 },
 "nbformat": 4,
 "nbformat_minor": 5
}

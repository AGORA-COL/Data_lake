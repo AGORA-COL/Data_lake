{
 "cells": [
  {
   "cell_type": "code",
   "execution_count": 1,
   "id": "d378ed18",
   "metadata": {},
   "outputs": [],
   "source": [
    "from pyspark.sql import SparkSession\n",
    "\n",
    "# Detener cualquier SparkContext existente\n",
    "from pyspark import SparkContext\n",
    "if 'sc' in globals():\n",
    "    sc.stop()"
   ]
  },
  {
   "cell_type": "code",
   "execution_count": 2,
   "id": "8b315f54",
   "metadata": {},
   "outputs": [
    {
     "name": "stderr",
     "output_type": "stream",
     "text": [
      "Setting default log level to \"WARN\".\n",
      "To adjust logging level use sc.setLogLevel(newLevel). For SparkR, use setLogLevel(newLevel).\n",
      "24/06/18 15:32:20 WARN NativeCodeLoader: Unable to load native-hadoop library for your platform... using builtin-java classes where applicable\n"
     ]
    }
   ],
   "source": [
    "# Crear una nueva SparkSession conectándose al maestro de Spark\n",
    "spark = SparkSession.builder \\\n",
    "    .appName(\"Calcular cruces ver 1\") \\\n",
    "    .master(\"spark://localhost:7077\") \\\n",
    "    .config(\"spark.ui.port\", \"8070\") \\\n",
    "    .getOrCreate()"
   ]
  },
  {
   "cell_type": "code",
   "execution_count": 3,
   "id": "cd7d50e9",
   "metadata": {},
   "outputs": [
    {
     "name": "stderr",
     "output_type": "stream",
     "text": [
      "                                                                                \r"
     ]
    },
    {
     "name": "stdout",
     "output_type": "stream",
     "text": [
      "root\n",
      " |-- personaid: string (nullable = true)\n",
      "\n"
     ]
    },
    {
     "name": "stderr",
     "output_type": "stream",
     "text": [
      "                                                                                \r"
     ]
    },
    {
     "name": "stdout",
     "output_type": "stream",
     "text": [
      "+---------+\n",
      "|personaid|\n",
      "+---------+\n",
      "| 16482028|\n",
      "| 16889852|\n",
      "|139598903|\n",
      "|102966907|\n",
      "| 25584113|\n",
      "|113460520|\n",
      "| 14667116|\n",
      "|123843258|\n",
      "|147832651|\n",
      "| 28920752|\n",
      "+---------+\n",
      "only showing top 10 rows\n",
      "\n"
     ]
    },
    {
     "name": "stderr",
     "output_type": "stream",
     "text": [
      "                                                                                \r"
     ]
    },
    {
     "name": "stdout",
     "output_type": "stream",
     "text": [
      "Total number of records in 2020 RIPS Parquet: 409877166\n"
     ]
    },
    {
     "name": "stderr",
     "output_type": "stream",
     "text": [
      "                                                                                \r"
     ]
    },
    {
     "name": "stdout",
     "output_type": "stream",
     "text": [
      "Total number of unique records in 2020 RIPS Parquet: 29792722\n",
      "root\n",
      " |-- PersonaBasicaID: string (nullable = true)\n",
      "\n",
      "+---------------+\n",
      "|PersonaBasicaID|\n",
      "+---------------+\n",
      "|      114627432|\n",
      "|       95679370|\n",
      "|       97008763|\n",
      "|       52336202|\n",
      "|       44973507|\n",
      "|       88268267|\n",
      "|       12792498|\n",
      "|       45187143|\n",
      "|       31871055|\n",
      "|       31314198|\n",
      "+---------------+\n",
      "only showing top 10 rows\n",
      "\n",
      "Total number of records in 2020 SEGCOVID Parquet: 1923699\n"
     ]
    }
   ],
   "source": [
    "# Listar el archivo Parquet 2020 para RIPS\n",
    "rips_file_path = \"hdfs://localhost:9000/rawdata/rips/rips_parquet_2020\"\n",
    "\n",
    "# Leer el archivo Parquet y seleccionar la columna `personaid`\n",
    "rips_df = spark.read.parquet(rips_file_path).select(\"personaid\")\n",
    "\n",
    "# Mostrar el esquema (debería mostrar solo la columna `personaid`)\n",
    "rips_df.printSchema()\n",
    "\n",
    "# Mostrar algunas filas para verificar los datos\n",
    "rips_df.show(10)\n",
    "\n",
    "# Contar el número de registros en el DataFrame de RIPS\n",
    "rips_record_count = rips_df.count()\n",
    "\n",
    "# Mostrar el número de registros en RIPS\n",
    "print(f\"Total number of records in 2020 RIPS Parquet: {rips_record_count}\")\n",
    "\n",
    "rips_unique_count = rips_df.select(\"personaid\").distinct().count()\n",
    "print(f\"Total number of unique records in 2020 RIPS Parquet: {rips_unique_count}\")\n",
    "\n",
    "# Listar el archivo Parquet 2020 para SEGCOVID\n",
    "segcovid_file_path = \"hdfs://localhost:9000/rawdata/segcovid/segcovid_parquet_2020\"\n",
    "\n",
    "# Leer el archivo Parquet y seleccionar la columna `PersonaBasicaID`\n",
    "segcovid_df = spark.read.parquet(segcovid_file_path).select(\"PersonaBasicaID\")\n",
    "\n",
    "# Mostrar el esquema (debería mostrar solo la columna `PersonaBasicaID`)\n",
    "segcovid_df.printSchema()\n",
    "\n",
    "# Mostrar algunas filas para verificar los datos\n",
    "segcovid_df.show(10)\n",
    "\n",
    "# Contar el número de registros en el DataFrame de SEGCOVID\n",
    "segcovid_record_count = segcovid_df.count()\n",
    "\n",
    "# Mostrar el número de registros en SEGCOVID\n",
    "print(f\"Total number of records in 2020 SEGCOVID Parquet: {segcovid_record_count}\")\n",
    "\n",
    "# Contar el número de registros únicos en SEGCOVID\n",
    "segcovid_unique_count = segcovid_df.select(\"PersonaBasicaID\").distinct().count()"
   ]
  },
  {
   "cell_type": "code",
   "execution_count": 4,
   "id": "b815b24c",
   "metadata": {},
   "outputs": [
    {
     "name": "stderr",
     "output_type": "stream",
     "text": [
      "                                                                                \r"
     ]
    },
    {
     "name": "stdout",
     "output_type": "stream",
     "text": [
      "Total number of records in the intersection 2020 between RIPS and SEGCOVID: 37642761\n"
     ]
    },
    {
     "name": "stderr",
     "output_type": "stream",
     "text": [
      "                                                                                \r"
     ]
    },
    {
     "name": "stdout",
     "output_type": "stream",
     "text": [
      "Total number of unique records in the intersection 2020 between RIPS and SEGCOVID: 1515860\n"
     ]
    },
    {
     "name": "stderr",
     "output_type": "stream",
     "text": [
      "\r",
      "[Stage 34:>                                                         (0 + 1) / 1]\r"
     ]
    },
    {
     "name": "stdout",
     "output_type": "stream",
     "text": [
      "+---------+---------------+\n",
      "|personaid|PersonaBasicaID|\n",
      "+---------+---------------+\n",
      "| 16889852|       16889852|\n",
      "| 39148529|       39148529|\n",
      "| 44452969|       44452969|\n",
      "| 23027872|       23027872|\n",
      "| 23041218|       23041218|\n",
      "|105517046|      105517046|\n",
      "| 26569895|       26569895|\n",
      "| 16203488|       16203488|\n",
      "| 56987197|       56987197|\n",
      "|  3801182|        3801182|\n",
      "+---------+---------------+\n",
      "only showing top 10 rows\n",
      "\n"
     ]
    },
    {
     "name": "stderr",
     "output_type": "stream",
     "text": [
      "\r",
      "                                                                                \r"
     ]
    }
   ],
   "source": [
    "# Realizar el cruce entre los DataFrames de RIPS y SEGCOVID\n",
    "cruce_df = rips_df.join(segcovid_df, rips_df.personaid == segcovid_df.PersonaBasicaID, \"inner\")\n",
    "\n",
    "# Contar el número de registros en el cruce\n",
    "cruce_record_count = cruce_df.count()\n",
    "\n",
    "# Mostrar el número de registros en el cruce\n",
    "print(f\"Total number of records in the intersection 2020 between RIPS and SEGCOVID: {cruce_record_count}\")\n",
    "\n",
    "# Contar el número de registros únicos en el cruce\n",
    "cruce_unique_count = cruce_df.select(\"personaid\").distinct().count()\n",
    "print(f\"Total number of unique records in the intersection 2020 between RIPS and SEGCOVID: {cruce_unique_count}\")\n",
    "\n",
    "# Mostrar algunas filas del DataFrame del cruce para verificar los datos\n",
    "cruce_df.show(10)"
   ]
  },
  {
   "cell_type": "code",
   "execution_count": 5,
   "id": "01d7a286",
   "metadata": {},
   "outputs": [
    {
     "name": "stdout",
     "output_type": "stream",
     "text": [
      "root\n",
      " |-- personaid: string (nullable = true)\n",
      "\n",
      "+---------+\n",
      "|personaid|\n",
      "+---------+\n",
      "| 70828534|\n",
      "|141667795|\n",
      "| 90293424|\n",
      "| 95544224|\n",
      "| 10003418|\n",
      "|141977242|\n",
      "|147497860|\n",
      "|122716596|\n",
      "| 78336830|\n",
      "|  4197263|\n",
      "+---------+\n",
      "only showing top 10 rows\n",
      "\n",
      "Total number of records in 2021 RIPS Parquet: 406833792\n"
     ]
    },
    {
     "name": "stderr",
     "output_type": "stream",
     "text": [
      "                                                                                \r"
     ]
    },
    {
     "name": "stdout",
     "output_type": "stream",
     "text": [
      "Total number of unique records in 2021 RIPS Parquet: 32494184\n",
      "root\n",
      " |-- PersonaBasicaID: string (nullable = true)\n",
      "\n",
      "+---------------+\n",
      "|PersonaBasicaID|\n",
      "+---------------+\n",
      "|      143814571|\n",
      "|       75944003|\n",
      "|       85116156|\n",
      "|      102922234|\n",
      "|      116020866|\n",
      "|      130671555|\n",
      "|      117191428|\n",
      "|       29765592|\n",
      "|        7724843|\n",
      "|       46573205|\n",
      "+---------------+\n",
      "only showing top 10 rows\n",
      "\n",
      "Total number of records in 2021 SEGCOVID Parquet: 13882989\n"
     ]
    },
    {
     "name": "stderr",
     "output_type": "stream",
     "text": [
      "                                                                                \r"
     ]
    }
   ],
   "source": [
    "# Listar el archivo Parquet 2021 para RIPS\n",
    "rips_file_path = \"hdfs://localhost:9000/rawdata/rips/rips_parquet_2021\"\n",
    "\n",
    "# Leer el archivo Parquet y seleccionar la columna `personaid`\n",
    "rips_df = spark.read.parquet(rips_file_path).select(\"personaid\")\n",
    "\n",
    "# Mostrar el esquema (debería mostrar solo la columna `personaid`)\n",
    "rips_df.printSchema()\n",
    "\n",
    "# Mostrar algunas filas para verificar los datos\n",
    "rips_df.show(10)\n",
    "\n",
    "# Contar el número de registros en el DataFrame de RIPS\n",
    "rips_record_count = rips_df.count()\n",
    "\n",
    "# Mostrar el número de registros en RIPS\n",
    "print(f\"Total number of records in 2021 RIPS Parquet: {rips_record_count}\")\n",
    "\n",
    "rips_unique_count = rips_df.select(\"personaid\").distinct().count()\n",
    "print(f\"Total number of unique records in 2021 RIPS Parquet: {rips_unique_count}\")\n",
    "\n",
    "# Listar el archivo Parquet 2021 para SEGCOVID\n",
    "segcovid_file_path = \"hdfs://localhost:9000/rawdata/segcovid/segcovid_parquet_2021\"\n",
    "\n",
    "# Leer el archivo Parquet y seleccionar la columna `PersonaBasicaID`\n",
    "segcovid_df = spark.read.parquet(segcovid_file_path).select(\"PersonaBasicaID\")\n",
    "\n",
    "# Mostrar el esquema (debería mostrar solo la columna `PersonaBasicaID`)\n",
    "segcovid_df.printSchema()\n",
    "\n",
    "# Mostrar algunas filas para verificar los datos\n",
    "segcovid_df.show(10)\n",
    "\n",
    "# Contar el número de registros en el DataFrame de SEGCOVID\n",
    "segcovid_record_count = segcovid_df.count()\n",
    "\n",
    "# Mostrar el número de registros en SEGCOVID\n",
    "print(f\"Total number of records in 2021 SEGCOVID Parquet: {segcovid_record_count}\")\n",
    "\n",
    "# Contar el número de registros únicos en SEGCOVID\n",
    "segcovid_unique_count = segcovid_df.select(\"PersonaBasicaID\").distinct().count()"
   ]
  },
  {
   "cell_type": "code",
   "execution_count": 6,
   "id": "811766a4",
   "metadata": {},
   "outputs": [
    {
     "name": "stderr",
     "output_type": "stream",
     "text": [
      "                                                                                \r"
     ]
    },
    {
     "name": "stdout",
     "output_type": "stream",
     "text": [
      "Total number of records in the intersection 2021 between RIPS and SEGCOVID: 277754491\n"
     ]
    },
    {
     "name": "stderr",
     "output_type": "stream",
     "text": [
      "                                                                                \r"
     ]
    },
    {
     "name": "stdout",
     "output_type": "stream",
     "text": [
      "Total number of unique records in the intersection 2021 between RIPS and SEGCOVID: 2633612\n"
     ]
    },
    {
     "name": "stderr",
     "output_type": "stream",
     "text": [
      "\r",
      "[Stage 69:>                                                         (0 + 1) / 1]\r"
     ]
    },
    {
     "name": "stdout",
     "output_type": "stream",
     "text": [
      "+---------+---------------+\n",
      "|personaid|PersonaBasicaID|\n",
      "+---------+---------------+\n",
      "| 82844536|       82844536|\n",
      "| 42665772|       42665772|\n",
      "| 42665772|       42665772|\n",
      "| 42665772|       42665772|\n",
      "|  5917699|        5917699|\n",
      "| 12661171|       12661171|\n",
      "| 12661171|       12661171|\n",
      "| 12661171|       12661171|\n",
      "| 12661171|       12661171|\n",
      "| 12661171|       12661171|\n",
      "+---------+---------------+\n",
      "only showing top 10 rows\n",
      "\n"
     ]
    },
    {
     "name": "stderr",
     "output_type": "stream",
     "text": [
      "\r",
      "                                                                                \r"
     ]
    }
   ],
   "source": [
    "# Realizar el cruce entre los DataFrames de RIPS y SEGCOVID\n",
    "cruce_df = rips_df.join(segcovid_df, rips_df.personaid == segcovid_df.PersonaBasicaID, \"inner\")\n",
    "\n",
    "# Contar el número de registros en el cruce\n",
    "cruce_record_count = cruce_df.count()\n",
    "\n",
    "# Mostrar el número de registros en el cruce\n",
    "print(f\"Total number of records in the intersection 2021 between RIPS and SEGCOVID: {cruce_record_count}\")\n",
    "\n",
    "# Contar el número de registros únicos en el cruce\n",
    "cruce_unique_count = cruce_df.select(\"personaid\").distinct().count()\n",
    "print(f\"Total number of unique records in the intersection 2021 between RIPS and SEGCOVID: {cruce_unique_count}\")\n",
    "\n",
    "# Mostrar algunas filas del DataFrame del cruce para verificar los datos\n",
    "cruce_df.show(10)"
   ]
  },
  {
   "cell_type": "code",
   "execution_count": null,
   "id": "aa7fa7bf",
   "metadata": {},
   "outputs": [],
   "source": []
  }
 ],
 "metadata": {
  "kernelspec": {
   "display_name": "Spark (Python)",
   "language": "python",
   "name": "spark_python"
  },
  "language_info": {
   "codemirror_mode": {
    "name": "ipython",
    "version": 3
   },
   "file_extension": ".py",
   "mimetype": "text/x-python",
   "name": "python",
   "nbconvert_exporter": "python",
   "pygments_lexer": "ipython3",
   "version": "3.9.18"
  }
 },
 "nbformat": 4,
 "nbformat_minor": 5
}
